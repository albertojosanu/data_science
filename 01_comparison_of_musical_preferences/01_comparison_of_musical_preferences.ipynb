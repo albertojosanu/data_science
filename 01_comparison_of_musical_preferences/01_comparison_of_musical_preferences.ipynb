{
 "cells": [
  {
   "cell_type": "markdown",
   "metadata": {
    "id": "E0vqbgi9ay0H"
   },
   "source": [
    "# Яндекс.Музыка"
   ]
  },
  {
   "cell_type": "markdown",
   "metadata": {
    "id": "VUC88oWjTJw2"
   },
   "source": [
    "Сравнение Москвы и Петербурга окружено мифами. Например:\n",
    " * Москва — мегаполис, подчинённый жёсткому ритму рабочей недели;\n",
    " * Петербург — культурная столица, со своими вкусами.\n",
    "\n",
    "На данных Яндекс.Музыки нужно сравнить поведение пользователей двух столиц.\n",
    "\n",
    "**Цель исследования** — проверить три гипотезы:\n",
    "1. Активность пользователей зависит от дня недели. Причём в Москве и Петербурге это проявляется по-разному.\n",
    "2. В понедельник утром в Москве преобладают одни жанры, а в Петербурге — другие. Так же и вечером пятницы преобладают разные жанры — в зависимости от города. \n",
    "3. Москва и Петербург предпочитают разные жанры музыки. В Москве чаще слушают поп-музыку, в Петербурге — русский рэп.\n",
    "\n",
    "**Ход исследования**\n",
    "\n",
    "Данные о поведении пользователей получены из файла `yandex_music_project.csv`. О качестве данных ничего не известно. Поэтому перед проверкой гипотез понадобится обзор данных. \n",
    "\n",
    "Нужно проверить данные на ошибки и оценить их влияние на исследование. Затем, на этапе предобработки поискать возможность исправить самые критичные ошибки данных.\n",
    " \n",
    "Таким образом, исследование пройдёт в три этапа:\n",
    " 1. Обзор данных.\n",
    " 2. Предобработка данных.\n",
    " 3. Проверка гипотез.\n",
    "\n"
   ]
  },
  {
   "cell_type": "markdown",
   "metadata": {
    "id": "Ml1hmfXC_Zcs"
   },
   "source": [
    "## Обзор данных\n",
    "\n",
    "Составить первое представление о данных Яндекс.Музыки.\n",
    "\n",
    "\n"
   ]
  },
  {
   "cell_type": "markdown",
   "metadata": {
    "id": "57eAOGIz_Zcs"
   },
   "source": [
    "Основной инструмент аналитика — `pandas`. Импорт этой библиотеки."
   ]
  },
  {
   "cell_type": "code",
   "execution_count": 63,
   "metadata": {
    "id": "AXN7PHPN_Zcs"
   },
   "outputs": [],
   "source": [
    "# импорт библиотеки pandas\n",
    "import pandas as pd"
   ]
  },
  {
   "cell_type": "markdown",
   "metadata": {
    "id": "SG23P8tt_Zcs"
   },
   "source": [
    "Прочитайть файл `yandex_music_project.csv` из папки `/datasets` и сохранить его в переменной `df`:"
   ]
  },
  {
   "cell_type": "code",
   "execution_count": 64,
   "metadata": {
    "id": "fFVu7vqh_Zct"
   },
   "outputs": [],
   "source": [
    "# чтение файла с данными и сохранение в df\n",
    "df = pd.read_csv('/datasets/yandex_music_project.csv')"
   ]
  },
  {
   "cell_type": "markdown",
   "metadata": {
    "id": "rDoOMd3uTqnZ"
   },
   "source": [
    "Вывести на экран первые десять строк таблицы:"
   ]
  },
  {
   "cell_type": "code",
   "execution_count": 65,
   "metadata": {
    "id": "oWTVX3gW_Zct"
   },
   "outputs": [
    {
     "data": {
      "text/html": [
       "<div>\n",
       "<style scoped>\n",
       "    .dataframe tbody tr th:only-of-type {\n",
       "        vertical-align: middle;\n",
       "    }\n",
       "\n",
       "    .dataframe tbody tr th {\n",
       "        vertical-align: top;\n",
       "    }\n",
       "\n",
       "    .dataframe thead th {\n",
       "        text-align: right;\n",
       "    }\n",
       "</style>\n",
       "<table border=\"1\" class=\"dataframe\">\n",
       "  <thead>\n",
       "    <tr style=\"text-align: right;\">\n",
       "      <th></th>\n",
       "      <th>userID</th>\n",
       "      <th>Track</th>\n",
       "      <th>artist</th>\n",
       "      <th>genre</th>\n",
       "      <th>City</th>\n",
       "      <th>time</th>\n",
       "      <th>Day</th>\n",
       "    </tr>\n",
       "  </thead>\n",
       "  <tbody>\n",
       "    <tr>\n",
       "      <td>0</td>\n",
       "      <td>FFB692EC</td>\n",
       "      <td>Kamigata To Boots</td>\n",
       "      <td>The Mass Missile</td>\n",
       "      <td>rock</td>\n",
       "      <td>Saint-Petersburg</td>\n",
       "      <td>20:28:33</td>\n",
       "      <td>Wednesday</td>\n",
       "    </tr>\n",
       "    <tr>\n",
       "      <td>1</td>\n",
       "      <td>55204538</td>\n",
       "      <td>Delayed Because of Accident</td>\n",
       "      <td>Andreas Rönnberg</td>\n",
       "      <td>rock</td>\n",
       "      <td>Moscow</td>\n",
       "      <td>14:07:09</td>\n",
       "      <td>Friday</td>\n",
       "    </tr>\n",
       "    <tr>\n",
       "      <td>2</td>\n",
       "      <td>20EC38</td>\n",
       "      <td>Funiculì funiculà</td>\n",
       "      <td>Mario Lanza</td>\n",
       "      <td>pop</td>\n",
       "      <td>Saint-Petersburg</td>\n",
       "      <td>20:58:07</td>\n",
       "      <td>Wednesday</td>\n",
       "    </tr>\n",
       "    <tr>\n",
       "      <td>3</td>\n",
       "      <td>A3DD03C9</td>\n",
       "      <td>Dragons in the Sunset</td>\n",
       "      <td>Fire + Ice</td>\n",
       "      <td>folk</td>\n",
       "      <td>Saint-Petersburg</td>\n",
       "      <td>08:37:09</td>\n",
       "      <td>Monday</td>\n",
       "    </tr>\n",
       "    <tr>\n",
       "      <td>4</td>\n",
       "      <td>E2DC1FAE</td>\n",
       "      <td>Soul People</td>\n",
       "      <td>Space Echo</td>\n",
       "      <td>dance</td>\n",
       "      <td>Moscow</td>\n",
       "      <td>08:34:34</td>\n",
       "      <td>Monday</td>\n",
       "    </tr>\n",
       "    <tr>\n",
       "      <td>5</td>\n",
       "      <td>842029A1</td>\n",
       "      <td>Преданная</td>\n",
       "      <td>IMPERVTOR</td>\n",
       "      <td>rusrap</td>\n",
       "      <td>Saint-Petersburg</td>\n",
       "      <td>13:09:41</td>\n",
       "      <td>Friday</td>\n",
       "    </tr>\n",
       "    <tr>\n",
       "      <td>6</td>\n",
       "      <td>4CB90AA5</td>\n",
       "      <td>True</td>\n",
       "      <td>Roman Messer</td>\n",
       "      <td>dance</td>\n",
       "      <td>Moscow</td>\n",
       "      <td>13:00:07</td>\n",
       "      <td>Wednesday</td>\n",
       "    </tr>\n",
       "    <tr>\n",
       "      <td>7</td>\n",
       "      <td>F03E1C1F</td>\n",
       "      <td>Feeling This Way</td>\n",
       "      <td>Polina Griffith</td>\n",
       "      <td>dance</td>\n",
       "      <td>Moscow</td>\n",
       "      <td>20:47:49</td>\n",
       "      <td>Wednesday</td>\n",
       "    </tr>\n",
       "    <tr>\n",
       "      <td>8</td>\n",
       "      <td>8FA1D3BE</td>\n",
       "      <td>И вновь продолжается бой</td>\n",
       "      <td>NaN</td>\n",
       "      <td>ruspop</td>\n",
       "      <td>Moscow</td>\n",
       "      <td>09:17:40</td>\n",
       "      <td>Friday</td>\n",
       "    </tr>\n",
       "    <tr>\n",
       "      <td>9</td>\n",
       "      <td>E772D5C0</td>\n",
       "      <td>Pessimist</td>\n",
       "      <td>NaN</td>\n",
       "      <td>dance</td>\n",
       "      <td>Saint-Petersburg</td>\n",
       "      <td>21:20:49</td>\n",
       "      <td>Wednesday</td>\n",
       "    </tr>\n",
       "  </tbody>\n",
       "</table>\n",
       "</div>"
      ],
      "text/plain": [
       "     userID                        Track            artist   genre  \\\n",
       "0  FFB692EC            Kamigata To Boots  The Mass Missile    rock   \n",
       "1  55204538  Delayed Because of Accident  Andreas Rönnberg    rock   \n",
       "2    20EC38            Funiculì funiculà       Mario Lanza     pop   \n",
       "3  A3DD03C9        Dragons in the Sunset        Fire + Ice    folk   \n",
       "4  E2DC1FAE                  Soul People        Space Echo   dance   \n",
       "5  842029A1                    Преданная         IMPERVTOR  rusrap   \n",
       "6  4CB90AA5                         True      Roman Messer   dance   \n",
       "7  F03E1C1F             Feeling This Way   Polina Griffith   dance   \n",
       "8  8FA1D3BE     И вновь продолжается бой               NaN  ruspop   \n",
       "9  E772D5C0                    Pessimist               NaN   dance   \n",
       "\n",
       "             City        time        Day  \n",
       "0  Saint-Petersburg  20:28:33  Wednesday  \n",
       "1            Moscow  14:07:09     Friday  \n",
       "2  Saint-Petersburg  20:58:07  Wednesday  \n",
       "3  Saint-Petersburg  08:37:09     Monday  \n",
       "4            Moscow  08:34:34     Monday  \n",
       "5  Saint-Petersburg  13:09:41     Friday  \n",
       "6            Moscow  13:00:07  Wednesday  \n",
       "7            Moscow  20:47:49  Wednesday  \n",
       "8            Moscow  09:17:40     Friday  \n",
       "9  Saint-Petersburg  21:20:49  Wednesday  "
      ]
     },
     "metadata": {},
     "output_type": "display_data"
    }
   ],
   "source": [
    "# получение первых 10 строк таблицы df\n",
    "display(df.head(10))"
   ]
  },
  {
   "cell_type": "markdown",
   "metadata": {
    "id": "EO73Kwic_Zct"
   },
   "source": [
    "Одной командой получить общую информацию о таблице:"
   ]
  },
  {
   "cell_type": "code",
   "execution_count": 66,
   "metadata": {
    "id": "DSf2kIb-_Zct"
   },
   "outputs": [
    {
     "name": "stdout",
     "output_type": "stream",
     "text": [
      "<class 'pandas.core.frame.DataFrame'>\n",
      "RangeIndex: 65079 entries, 0 to 65078\n",
      "Data columns (total 7 columns):\n",
      "  userID    65079 non-null object\n",
      "Track       63848 non-null object\n",
      "artist      57876 non-null object\n",
      "genre       63881 non-null object\n",
      "  City      65079 non-null object\n",
      "time        65079 non-null object\n",
      "Day         65079 non-null object\n",
      "dtypes: object(7)\n",
      "memory usage: 3.5+ MB\n"
     ]
    }
   ],
   "source": [
    "# получение общей информации о данных в таблице df\n",
    "df.info()"
   ]
  },
  {
   "cell_type": "markdown",
   "metadata": {
    "id": "TaQ2Iwbr_Zct"
   },
   "source": [
    "Итак, в таблице семь столбцов. Тип данных во всех столбцах — `object`.\n",
    "\n",
    "Согласно документации к данным:\n",
    "* `userID` — идентификатор пользователя;\n",
    "* `Track` — название трека;  \n",
    "* `artist` — имя исполнителя;\n",
    "* `genre` — название жанра;\n",
    "* `City` — город пользователя;\n",
    "* `time` — время начала прослушивания;\n",
    "* `Day` — день недели.\n",
    "\n",
    "В названиях колонок видны три нарушения стиля:\n",
    "1. Строчные буквы сочетаются с прописными.\n",
    "2. Встречаются пробелы.\n",
    "3. Не соблюдается правило \"змеиного регистра\" (например, \"user_id\").\n",
    "\n",
    "\n",
    "\n",
    "Количество значений в столбцах различается. Значит, в данных есть пропущенные значения.\n"
   ]
  },
  {
   "cell_type": "markdown",
   "metadata": {
    "id": "MCB6-dXG_Zct"
   },
   "source": [
    "**Выводы**\n",
    "\n",
    "В каждой строке таблицы — данные о прослушанном треке. Часть колонок описывает саму композицию: название, исполнителя и жанр. Остальные данные рассказывают о пользователе: из какого он города, когда он слушал музыку. \n",
    "\n",
    "Предварительно можно утверждать, что, данных достаточно для проверки гипотез. Но встречаются пропуски в данных, а в названиях колонок — расхождения с хорошим стилем.\n",
    "\n",
    "Чтобы двигаться дальше, нужно устранить проблемы в данных."
   ]
  },
  {
   "cell_type": "markdown",
   "metadata": {
    "id": "SjYF6Ub9_Zct"
   },
   "source": [
    "## Предобработка данных\n",
    "Исправить стиль в заголовках столбцов, исключить пропуски. Затем проверить данные на дубликаты."
   ]
  },
  {
   "cell_type": "markdown",
   "metadata": {
    "id": "dIaKXr29_Zct"
   },
   "source": [
    "### Стиль заголовков\n",
    "Вывести на экран названия столбцов:"
   ]
  },
  {
   "cell_type": "code",
   "execution_count": 67,
   "metadata": {
    "id": "oKOTdF_Q_Zct"
   },
   "outputs": [
    {
     "data": {
      "text/plain": [
       "Index(['  userID', 'Track', 'artist', 'genre', '  City  ', 'time', 'Day'], dtype='object')"
      ]
     },
     "execution_count": 67,
     "metadata": {},
     "output_type": "execute_result"
    }
   ],
   "source": [
    "# перечень названий столбцов таблицы df\n",
    "df.columns"
   ]
  },
  {
   "cell_type": "markdown",
   "metadata": {
    "id": "zj5534cv_Zct"
   },
   "source": [
    "Привести названия в соответствие с хорошим стилем:\n",
    "* несколько слов в названии запишите в «змеином_регистре»,\n",
    "* все символы сделайте строчными,\n",
    "* устраните пробелы.\n",
    "\n",
    "Для этого переименовать колонки так:\n",
    "* `'  userID'` → `'user_id'`;\n",
    "* `'Track'` → `'track'`;\n",
    "* `'  City  '` → `'city'`;\n",
    "* `'Day'` → `'day'`."
   ]
  },
  {
   "cell_type": "code",
   "execution_count": 68,
   "metadata": {
    "id": "ISlFqs5y_Zct"
   },
   "outputs": [],
   "source": [
    "# переименование столбцов\n",
    "df = df.rename(columns={'  userID':'user_id','Track':'track','  City  ':'city','Day':'day'})"
   ]
  },
  {
   "cell_type": "markdown",
   "metadata": {
    "id": "1dqbh00J_Zct"
   },
   "source": [
    "Проверить результат. Для этого ещё раз вывести на экран названия столбцов:"
   ]
  },
  {
   "cell_type": "code",
   "execution_count": 69,
   "metadata": {
    "id": "d4NOAmTW_Zct"
   },
   "outputs": [
    {
     "data": {
      "text/plain": [
       "Index(['user_id', 'track', 'artist', 'genre', 'city', 'time', 'day'], dtype='object')"
      ]
     },
     "execution_count": 69,
     "metadata": {},
     "output_type": "execute_result"
    }
   ],
   "source": [
    "# проверка результатов - перечень названий столбцов\n",
    "df.columns"
   ]
  },
  {
   "cell_type": "markdown",
   "metadata": {
    "id": "5ISfbcfY_Zct"
   },
   "source": [
    "### Пропуски значений\n",
    "Сначала посчитать, сколько в таблице пропущенных значений. Для этого достаточно двух методов `pandas`:"
   ]
  },
  {
   "cell_type": "code",
   "execution_count": 70,
   "metadata": {
    "id": "RskX29qr_Zct"
   },
   "outputs": [
    {
     "data": {
      "text/plain": [
       "user_id       0\n",
       "track      1231\n",
       "artist     7203\n",
       "genre      1198\n",
       "city          0\n",
       "time          0\n",
       "day           0\n",
       "dtype: int64"
      ]
     },
     "execution_count": 70,
     "metadata": {},
     "output_type": "execute_result"
    }
   ],
   "source": [
    "# подсчёт пропусков\n",
    "df.isna().sum()"
   ]
  },
  {
   "cell_type": "markdown",
   "metadata": {
    "id": "qubhgnlO_Zct"
   },
   "source": [
    "Не все пропущенные значения влияют на исследование. Так в `track` и `artist` пропуски не важны для вашей работы. Достаточно заменить их явными обозначениями.\n",
    "\n",
    "Но пропуски в `genre` могут помешать сравнению музыкальных вкусов в Москве и Санкт-Петербурге. На практике было бы правильно установить причину пропусков и восстановить данные. Такой возможности нет в учебном проекте. Придётся:\n",
    "* заполнить и эти пропуски явными обозначениями,\n",
    "* оценить, насколько они повредят расчётам. "
   ]
  },
  {
   "cell_type": "markdown",
   "metadata": {
    "id": "fSv2laPA_Zct"
   },
   "source": [
    "Заменить пропущенные значения в столбцах `track`, `artist` и `genre` на строку `'unknown'`. Для этого создать список `columns_to_replace`, перебрать его элементы циклом `for` и для каждого столбца выполнить замену пропущенных значений:"
   ]
  },
  {
   "cell_type": "code",
   "execution_count": 71,
   "metadata": {
    "id": "KplB5qWs_Zct"
   },
   "outputs": [],
   "source": [
    "# перебор названий столбцов в цикле и замена пропущенных значений на 'unknown'\n",
    "columns_to_replace = df[['track', 'artist', 'genre']]\n",
    "for column in columns_to_replace:\n",
    "    df[column] = df[column].fillna('unknown')\n",
    "# print(columns_to_replace.head(20))"
   ]
  },
  {
   "cell_type": "markdown",
   "metadata": {
    "id": "Ilsm-MZo_Zct"
   },
   "source": [
    "Убедиться, что в таблице не осталось пропусков. Для этого ещё раз посчитайть пропущенные значения."
   ]
  },
  {
   "cell_type": "code",
   "execution_count": 72,
   "metadata": {
    "id": "Tq4nYRX4_Zct"
   },
   "outputs": [
    {
     "data": {
      "text/plain": [
       "user_id    0\n",
       "track      0\n",
       "artist     0\n",
       "genre      0\n",
       "city       0\n",
       "time       0\n",
       "day        0\n",
       "dtype: int64"
      ]
     },
     "execution_count": 72,
     "metadata": {},
     "output_type": "execute_result"
    }
   ],
   "source": [
    "# подсчёт пропусков\n",
    "df.isna().sum()"
   ]
  },
  {
   "cell_type": "markdown",
   "metadata": {
    "id": "BWKRtBJ3_Zct"
   },
   "source": [
    "### Дубликаты\n",
    "Посчитайть явные дубликаты в таблице одной командой:"
   ]
  },
  {
   "cell_type": "code",
   "execution_count": 73,
   "metadata": {
    "id": "36eES_S0_Zct"
   },
   "outputs": [
    {
     "data": {
      "text/plain": [
       "3826"
      ]
     },
     "execution_count": 73,
     "metadata": {},
     "output_type": "execute_result"
    }
   ],
   "source": [
    "# подсчёт явных дубликатов\n",
    "df.duplicated().sum()"
   ]
  },
  {
   "cell_type": "markdown",
   "metadata": {
    "id": "Ot25h6XR_Zct"
   },
   "source": [
    "Вызвать специальный метод `pandas`, чтобы удалить явные дубликаты:"
   ]
  },
  {
   "cell_type": "code",
   "execution_count": 74,
   "metadata": {
    "id": "exFHq6tt_Zct"
   },
   "outputs": [],
   "source": [
    "# удаление явных дубликатов (с удалением старых индексов и формированием новых)\n",
    "df = df.drop_duplicates()"
   ]
  },
  {
   "cell_type": "markdown",
   "metadata": {
    "id": "Im2YwBEG_Zct"
   },
   "source": [
    "Ещё раз посчитайть явные дубликаты в таблице — убедитесь, что полностью от них избавились:"
   ]
  },
  {
   "cell_type": "code",
   "execution_count": 75,
   "metadata": {
    "id": "-8PuNWQ0_Zct"
   },
   "outputs": [
    {
     "data": {
      "text/plain": [
       "0"
      ]
     },
     "execution_count": 75,
     "metadata": {},
     "output_type": "execute_result"
    }
   ],
   "source": [
    "# проверка на отсутствие дубликатов\n",
    "df.duplicated().sum()"
   ]
  },
  {
   "cell_type": "markdown",
   "metadata": {
    "id": "QlFBsxAr_Zct"
   },
   "source": [
    "Теперь избавиться от неявных дубликатов в колонке `genre`. Например, название одного и того же жанра может быть записано немного по-разному. Такие ошибки тоже повлияют на результат исследования."
   ]
  },
  {
   "cell_type": "markdown",
   "metadata": {
    "id": "eSjWwsOh_Zct"
   },
   "source": [
    "Вывести на экран список уникальных названий жанров, отсортированный в алфавитном порядке. Для этого:\n",
    "* извлечь нужный столбец датафрейма, \n",
    "* применить к нему метод сортировки,\n",
    "* для отсортированного столбца вызвать метод, который вернёт уникальные значения из столбца."
   ]
  },
  {
   "cell_type": "code",
   "execution_count": 76,
   "metadata": {
    "id": "JIUcqzZN_Zct"
   },
   "outputs": [
    {
     "name": "stdout",
     "output_type": "stream",
     "text": [
      "['acid' 'acoustic' 'action' 'adult' 'africa' 'afrikaans' 'alternative'\n",
      " 'alternativepunk' 'ambient' 'americana' 'animated' 'anime' 'arabesk'\n",
      " 'arabic' 'arena' 'argentinetango' 'art' 'audiobook' 'author' 'avantgarde'\n",
      " 'axé' 'baile' 'balkan' 'beats' 'bigroom' 'black' 'bluegrass' 'blues'\n",
      " 'bollywood' 'bossa' 'brazilian' 'breakbeat' 'breaks' 'broadway'\n",
      " 'cantautori' 'cantopop' 'canzone' 'caribbean' 'caucasian' 'celtic'\n",
      " 'chamber' 'chanson' 'children' 'chill' 'chinese' 'choral' 'christian'\n",
      " 'christmas' 'classical' 'classicmetal' 'club' 'colombian' 'comedy'\n",
      " 'conjazz' 'contemporary' 'country' 'cuban' 'dance' 'dancehall' 'dancepop'\n",
      " 'dark' 'death' 'deep' 'deutschrock' 'deutschspr' 'dirty' 'disco' 'dnb'\n",
      " 'documentary' 'downbeat' 'downtempo' 'drum' 'dub' 'dubstep' 'eastern'\n",
      " 'easy' 'electronic' 'electropop' 'emo' 'entehno' 'epicmetal' 'estrada'\n",
      " 'ethnic' 'eurofolk' 'european' 'experimental' 'extrememetal' 'fado'\n",
      " 'fairytail' 'film' 'fitness' 'flamenco' 'folk' 'folklore' 'folkmetal'\n",
      " 'folkrock' 'folktronica' 'forró' 'frankreich' 'französisch' 'french'\n",
      " 'funk' 'future' 'gangsta' 'garage' 'german' 'ghazal' 'gitarre' 'glitch'\n",
      " 'gospel' 'gothic' 'grime' 'grunge' 'gypsy' 'handsup' \"hard'n'heavy\"\n",
      " 'hardcore' 'hardstyle' 'hardtechno' 'hip' 'hip-hop' 'hiphop' 'historisch'\n",
      " 'holiday' 'hop' 'horror' 'house' 'hymn' 'idm' 'independent' 'indian'\n",
      " 'indie' 'indipop' 'industrial' 'inspirational' 'instrumental'\n",
      " 'international' 'irish' 'jam' 'japanese' 'jazz' 'jewish' 'jpop' 'jungle'\n",
      " 'k-pop' 'karadeniz' 'karaoke' 'kayokyoku' 'korean' 'laiko' 'latin'\n",
      " 'latino' 'leftfield' 'local' 'lounge' 'loungeelectronic' 'lovers'\n",
      " 'malaysian' 'mandopop' 'marschmusik' 'meditative' 'mediterranean'\n",
      " 'melodic' 'metal' 'metalcore' 'mexican' 'middle' 'minimal'\n",
      " 'miscellaneous' 'modern' 'mood' 'mpb' 'muslim' 'native' 'neoklassik'\n",
      " 'neue' 'new' 'newage' 'newwave' 'nu' 'nujazz' 'numetal' 'oceania' 'old'\n",
      " 'opera' 'orchestral' 'other' 'piano' 'podcasts' 'pop' 'popdance'\n",
      " 'popelectronic' 'popeurodance' 'poprussian' 'post' 'posthardcore'\n",
      " 'postrock' 'power' 'progmetal' 'progressive' 'psychedelic' 'punjabi'\n",
      " 'punk' 'quebecois' 'ragga' 'ram' 'rancheras' 'rap' 'rave' 'reggae'\n",
      " 'reggaeton' 'regional' 'relax' 'religious' 'retro' 'rhythm' 'rnb' 'rnr'\n",
      " 'rock' 'rockabilly' 'rockalternative' 'rockindie' 'rockother' 'romance'\n",
      " 'roots' 'ruspop' 'rusrap' 'rusrock' 'russian' 'salsa' 'samba' 'scenic'\n",
      " 'schlager' 'self' 'sertanejo' 'shanson' 'shoegazing' 'showtunes' 'singer'\n",
      " 'ska' 'skarock' 'slow' 'smooth' 'soft' 'soul' 'soulful' 'sound'\n",
      " 'soundtrack' 'southern' 'specialty' 'speech' 'spiritual' 'sport'\n",
      " 'stonerrock' 'surf' 'swing' 'synthpop' 'synthrock' 'sängerportrait'\n",
      " 'tango' 'tanzorchester' 'taraftar' 'tatar' 'tech' 'techno' 'teen'\n",
      " 'thrash' 'top' 'traditional' 'tradjazz' 'trance' 'tribal' 'trip'\n",
      " 'triphop' 'tropical' 'türk' 'türkçe' 'ukrrock' 'unknown' 'urban' 'uzbek'\n",
      " 'variété' 'vi' 'videogame' 'vocal' 'western' 'world' 'worldbeat' 'ïîï'\n",
      " 'электроника']\n"
     ]
    }
   ],
   "source": [
    "# Просмотр уникальных названий жанров\n",
    "# print(sorted(df['genre'].unique()))\n",
    "print(df['genre'].sort_values().unique())\n",
    "# df_test = pd.read_csv('/datasets/yandex_music_project.csv').drop_duplicates()\n",
    "# sum_test = 0\n",
    "# for i in ['hiphop','hip','hop','hip-hop']:\n",
    "#     print(df_test[df_test['genre'] == i]['genre'].count())\n",
    "#     sum_test += df_test[df_test['genre'] == i]['genre'].count()\n",
    "# print(sum_test)"
   ]
  },
  {
   "cell_type": "markdown",
   "metadata": {
    "id": "qej-Qmuo_Zct"
   },
   "source": [
    "Просмотреть список и найти неявные дубликаты названия `hiphop`. Это могут быть названия с ошибками или альтернативные названия того же жанра.\n",
    "\n",
    "Можно увидеть следующие неявные дубликаты:\n",
    "* *hip*,\n",
    "* *hop*,\n",
    "* *hip-hop*.\n",
    "\n",
    "Чтобы очистить от них таблицу, написать функцию `replace_wrong_genres()` с двумя параметрами: \n",
    "* `wrong_genres` — список дубликатов,\n",
    "* `correct_genre` — строка с правильным значением.\n",
    "\n",
    "Функция должна исправить колонку `genre` в таблице `df`: заменить каждое значение из списка `wrong_genres` на значение из `correct_genre`."
   ]
  },
  {
   "cell_type": "code",
   "execution_count": 77,
   "metadata": {
    "id": "ErNDkmns_Zct"
   },
   "outputs": [],
   "source": [
    "# Функция для замены неявных дубликатов\n",
    "# df['genre'] = df['genre'].replace_wrong_genres(['hip', 'hop', 'hip-hop'],'hiphop')\n",
    "def replace_wrong_genres(wrong_genres, correct_genre):\n",
    "    for wrong_value in wrong_genres:\n",
    "        df[['genre']] = df[['genre']].replace(wrong_value, correct_genre)"
   ]
  },
  {
   "cell_type": "markdown",
   "metadata": {
    "id": "aDoBJxbA_Zct"
   },
   "source": [
    "Вызвать `replace_wrong_genres()` и передать ей такие аргументы, чтобы она устранила неявные дубликаты: вместо `hip`, `hop` и `hip-hop` в таблице должно быть значение `hiphop`:"
   ]
  },
  {
   "cell_type": "code",
   "execution_count": 78,
   "metadata": {
    "id": "YN5i2hpmSo09"
   },
   "outputs": [],
   "source": [
    "# Устранение неявных дубликатов\n",
    "# df.loc[:,'genre'] = df.loc[:,'genre'].replace('hip', 'hiphop')\n",
    "# df[['genre']] = df[['genre']].replace('hip', 'hiphop')\n",
    "replace_wrong_genres(['hip', 'hop', 'hip-hop'],'hiphop')\n",
    "replace_wrong_genres(['электроника'],'electronic')"
   ]
  },
  {
   "cell_type": "markdown",
   "metadata": {
    "id": "zQKF16_RG15m"
   },
   "source": [
    "Проверить, что заменили неправильные названия:\n",
    "\n",
    "*   hip\n",
    "*   hop\n",
    "*   hip-hop\n",
    "\n",
    "Вывести отсортированный список уникальных значений столбца `genre`:"
   ]
  },
  {
   "cell_type": "code",
   "execution_count": 79,
   "metadata": {
    "id": "wvixALnFG15m"
   },
   "outputs": [
    {
     "name": "stdout",
     "output_type": "stream",
     "text": [
      "['acid' 'acoustic' 'action' 'adult' 'africa' 'afrikaans' 'alternative'\n",
      " 'alternativepunk' 'ambient' 'americana' 'animated' 'anime' 'arabesk'\n",
      " 'arabic' 'arena' 'argentinetango' 'art' 'audiobook' 'author' 'avantgarde'\n",
      " 'axé' 'baile' 'balkan' 'beats' 'bigroom' 'black' 'bluegrass' 'blues'\n",
      " 'bollywood' 'bossa' 'brazilian' 'breakbeat' 'breaks' 'broadway'\n",
      " 'cantautori' 'cantopop' 'canzone' 'caribbean' 'caucasian' 'celtic'\n",
      " 'chamber' 'chanson' 'children' 'chill' 'chinese' 'choral' 'christian'\n",
      " 'christmas' 'classical' 'classicmetal' 'club' 'colombian' 'comedy'\n",
      " 'conjazz' 'contemporary' 'country' 'cuban' 'dance' 'dancehall' 'dancepop'\n",
      " 'dark' 'death' 'deep' 'deutschrock' 'deutschspr' 'dirty' 'disco' 'dnb'\n",
      " 'documentary' 'downbeat' 'downtempo' 'drum' 'dub' 'dubstep' 'eastern'\n",
      " 'easy' 'electronic' 'electropop' 'emo' 'entehno' 'epicmetal' 'estrada'\n",
      " 'ethnic' 'eurofolk' 'european' 'experimental' 'extrememetal' 'fado'\n",
      " 'fairytail' 'film' 'fitness' 'flamenco' 'folk' 'folklore' 'folkmetal'\n",
      " 'folkrock' 'folktronica' 'forró' 'frankreich' 'französisch' 'french'\n",
      " 'funk' 'future' 'gangsta' 'garage' 'german' 'ghazal' 'gitarre' 'glitch'\n",
      " 'gospel' 'gothic' 'grime' 'grunge' 'gypsy' 'handsup' \"hard'n'heavy\"\n",
      " 'hardcore' 'hardstyle' 'hardtechno' 'hiphop' 'historisch' 'holiday'\n",
      " 'horror' 'house' 'hymn' 'idm' 'independent' 'indian' 'indie' 'indipop'\n",
      " 'industrial' 'inspirational' 'instrumental' 'international' 'irish' 'jam'\n",
      " 'japanese' 'jazz' 'jewish' 'jpop' 'jungle' 'k-pop' 'karadeniz' 'karaoke'\n",
      " 'kayokyoku' 'korean' 'laiko' 'latin' 'latino' 'leftfield' 'local'\n",
      " 'lounge' 'loungeelectronic' 'lovers' 'malaysian' 'mandopop' 'marschmusik'\n",
      " 'meditative' 'mediterranean' 'melodic' 'metal' 'metalcore' 'mexican'\n",
      " 'middle' 'minimal' 'miscellaneous' 'modern' 'mood' 'mpb' 'muslim'\n",
      " 'native' 'neoklassik' 'neue' 'new' 'newage' 'newwave' 'nu' 'nujazz'\n",
      " 'numetal' 'oceania' 'old' 'opera' 'orchestral' 'other' 'piano' 'podcasts'\n",
      " 'pop' 'popdance' 'popelectronic' 'popeurodance' 'poprussian' 'post'\n",
      " 'posthardcore' 'postrock' 'power' 'progmetal' 'progressive' 'psychedelic'\n",
      " 'punjabi' 'punk' 'quebecois' 'ragga' 'ram' 'rancheras' 'rap' 'rave'\n",
      " 'reggae' 'reggaeton' 'regional' 'relax' 'religious' 'retro' 'rhythm'\n",
      " 'rnb' 'rnr' 'rock' 'rockabilly' 'rockalternative' 'rockindie' 'rockother'\n",
      " 'romance' 'roots' 'ruspop' 'rusrap' 'rusrock' 'russian' 'salsa' 'samba'\n",
      " 'scenic' 'schlager' 'self' 'sertanejo' 'shanson' 'shoegazing' 'showtunes'\n",
      " 'singer' 'ska' 'skarock' 'slow' 'smooth' 'soft' 'soul' 'soulful' 'sound'\n",
      " 'soundtrack' 'southern' 'specialty' 'speech' 'spiritual' 'sport'\n",
      " 'stonerrock' 'surf' 'swing' 'synthpop' 'synthrock' 'sängerportrait'\n",
      " 'tango' 'tanzorchester' 'taraftar' 'tatar' 'tech' 'techno' 'teen'\n",
      " 'thrash' 'top' 'traditional' 'tradjazz' 'trance' 'tribal' 'trip'\n",
      " 'triphop' 'tropical' 'türk' 'türkçe' 'ukrrock' 'unknown' 'urban' 'uzbek'\n",
      " 'variété' 'vi' 'videogame' 'vocal' 'western' 'world' 'worldbeat' 'ïîï']\n"
     ]
    }
   ],
   "source": [
    "# Проверка на неявные дубликаты\n",
    "# print(sorted(df['genre'].unique()))\n",
    "print(df['genre'].sort_values().unique())\n",
    "# print(df[df['genre'] == 'hiphop']['genre'].count())"
   ]
  },
  {
   "cell_type": "markdown",
   "metadata": {
    "id": "jz6a9-7HQUDd"
   },
   "source": [
    "**Выводы**\n",
    "\n",
    "Предобработка обнаружила три проблемы в данных:\n",
    "\n",
    "- нарушения в стиле заголовков,\n",
    "- пропущенные значения,\n",
    "- дубликаты — явные и неявные.\n",
    "\n",
    "Исправлены заголовки, чтобы упростить работу с таблицей. Без дубликатов исследование станет более точным.\n",
    "\n",
    "Пропущенные значения заменены на `'unknown'`. Ещё предстоит увидеть, не повредят ли исследованию пропуски в колонке `genre`.\n",
    "\n",
    "Теперь можно перейти к проверке гипотез. "
   ]
  },
  {
   "cell_type": "markdown",
   "metadata": {
    "id": "WttZHXH0SqKk"
   },
   "source": [
    "## Проверка гипотез"
   ]
  },
  {
   "cell_type": "markdown",
   "metadata": {
    "id": "Im936VVi_Zcu"
   },
   "source": [
    "### Сравнение поведения пользователей двух столиц"
   ]
  },
  {
   "cell_type": "markdown",
   "metadata": {
    "id": "nwt_MuaL_Zcu"
   },
   "source": [
    "Первая гипотеза утверждает, что пользователи по-разному слушают музыку в Москве и Санкт-Петербурге. Проверить это предположение по данным о трёх днях недели — понедельнике, среде и пятнице. Для этого:\n",
    "\n",
    "* Разделить пользователей Москвы и Санкт-Петербурга\n",
    "* Сравнить, сколько треков послушала каждая группа пользователей в понедельник, среду и пятницу.\n"
   ]
  },
  {
   "cell_type": "markdown",
   "metadata": {
    "id": "8Dw_YMmT_Zcu"
   },
   "source": [
    "Для тренировки сначала выполнить каждый из расчётов по отдельности. \n",
    "\n",
    "Оценить активность пользователей в каждом городе. Сгруппировать данные по городу и посчитайть прослушивания в каждой группе.\n",
    "\n"
   ]
  },
  {
   "cell_type": "code",
   "execution_count": 80,
   "metadata": {
    "id": "0_Qs96oh_Zcu"
   },
   "outputs": [
    {
     "data": {
      "text/plain": [
       "city\n",
       "Moscow              42741\n",
       "Saint-Petersburg    18512\n",
       "Name: user_id, dtype: int64"
      ]
     },
     "execution_count": 80,
     "metadata": {},
     "output_type": "execute_result"
    }
   ],
   "source": [
    "# Подсчёт прослушиваний в каждом городе\n",
    "df.groupby('city')['user_id'].count()"
   ]
  },
  {
   "cell_type": "markdown",
   "metadata": {
    "id": "dzli3w8o_Zcu"
   },
   "source": [
    "В Москве прослушиваний больше, чем в Петербурге. Из этого не следует, что московские пользователи чаще слушают музыку. Просто самих пользователей в Москве больше.\n",
    "\n",
    "Теперь сгруппировать данные по дню недели и подсчитать прослушивания в понедельник, среду и пятницу. Учесть, что в данных есть информация только о прослушиваниях только за эти дни.\n"
   ]
  },
  {
   "cell_type": "code",
   "execution_count": 81,
   "metadata": {
    "id": "uZMKjiJz_Zcu"
   },
   "outputs": [
    {
     "name": "stdout",
     "output_type": "stream",
     "text": [
      "Moscow\n"
     ]
    },
    {
     "data": {
      "text/plain": [
       "day\n",
       "Friday       15945\n",
       "Monday       15740\n",
       "Wednesday    11056\n",
       "Name: user_id, dtype: int64"
      ]
     },
     "metadata": {},
     "output_type": "display_data"
    },
    {
     "name": "stdout",
     "output_type": "stream",
     "text": [
      "Saint-Petersburg\n"
     ]
    },
    {
     "data": {
      "text/plain": [
       "day\n",
       "Friday       5895\n",
       "Monday       5614\n",
       "Wednesday    7003\n",
       "Name: user_id, dtype: int64"
      ]
     },
     "metadata": {},
     "output_type": "display_data"
    }
   ],
   "source": [
    "# Подсчёт прослушиваний в каждый из трёх дней\n",
    "for city in ['Moscow','Saint-Petersburg']:\n",
    "    print(city)\n",
    "    display(df[df['city'] == city].groupby('day')['user_id'].count())"
   ]
  },
  {
   "cell_type": "markdown",
   "metadata": {
    "id": "cC2tNrlL_Zcu"
   },
   "source": [
    "В среднем пользователи из двух городов менее активны по средам. Но картина может измениться, если рассмотреть каждый город в отдельности."
   ]
  },
  {
   "cell_type": "markdown",
   "metadata": {
    "id": "POzs8bGa_Zcu"
   },
   "source": [
    "Видно, как работает группировка по городу и по дням недели. Теперь написать функцию, которая объединит два эти расчёта.\n",
    "\n",
    "Создайть функцию `number_tracks()`, которая посчитает прослушивания для заданного дня и города. Ей понадобятся два параметра:\n",
    "* день недели,\n",
    "* название города.\n",
    "\n",
    "В функции сохранить в переменную строки исходной таблицы, у которых значение:\n",
    "  * в колонке `day` равно параметру `day`,\n",
    "  * в колонке `city` равно параметру `city`.\n",
    "\n",
    "Для этого применить последовательную фильтрацию с логической индексацией.\n",
    "\n",
    "Затем посчитайть значения в столбце `user_id` получившейся таблицы. Результат сохранить в новую переменную. Вернуть эту переменную из функции."
   ]
  },
  {
   "cell_type": "code",
   "execution_count": 82,
   "metadata": {
    "id": "Nz3GdQB1_Zcu"
   },
   "outputs": [],
   "source": [
    "# <создание функции number_tracks()>\n",
    "# Объявляется функция с двумя параметрами: day, city.\n",
    "def number_tracks(day,city):\n",
    "# В переменной track_list сохраняются те строки таблицы df, для которых \n",
    "# значение в столбце 'day' равно параметру day и одновременно значение\n",
    "# в столбце 'city' равно параметру city (используйте последовательную фильтрацию\n",
    "# с помощью логической индексации).\n",
    "    track_list = df[df['day'] == day]\n",
    "    track_list = track_list[track_list['city'] == city]\n",
    "# В переменной track_list_count сохраняется число значений столбца 'user_id',\n",
    "# рассчитанное методом count() для таблицы track_list.\n",
    "    track_list_count = track_list['user_id'].count()\n",
    "# Функция возвращает число - значение track_list_count.\n",
    "    return track_list_count\n",
    "# Функция для подсчёта прослушиваний для конкретного города и дня.\n",
    "# С помощью последовательной фильтрации с логической индексацией она \n",
    "# сначала получит из исходной таблицы строки с нужным днём,\n",
    "# затем из результата отфильтрует строки с нужным городом,\n",
    "# методом count() посчитает количество значений в колонке user_id. \n",
    "# Это количество функция вернёт в качестве результата"
   ]
  },
  {
   "cell_type": "markdown",
   "metadata": {
    "id": "ytf7xFrFJQ2r"
   },
   "source": [
    "Вызвать `number_tracks()` шесть раз, меняя значение параметров — так, чтобы получить данные для каждого города в каждый из трёх дней."
   ]
  },
  {
   "cell_type": "code",
   "execution_count": 83,
   "metadata": {
    "id": "rJcRATNQ_Zcu"
   },
   "outputs": [
    {
     "data": {
      "text/plain": [
       "15740"
      ]
     },
     "execution_count": 83,
     "metadata": {},
     "output_type": "execute_result"
    }
   ],
   "source": [
    "# количество прослушиваний в Москве по понедельникам\n",
    "number_tracks('Monday','Moscow')"
   ]
  },
  {
   "cell_type": "code",
   "execution_count": 84,
   "metadata": {
    "id": "hq_ncZ5T_Zcu"
   },
   "outputs": [
    {
     "data": {
      "text/plain": [
       "5614"
      ]
     },
     "execution_count": 84,
     "metadata": {},
     "output_type": "execute_result"
    }
   ],
   "source": [
    "# количество прослушиваний в Санкт-Петербурге по понедельникам\n",
    "number_tracks('Monday','Saint-Petersburg')"
   ]
  },
  {
   "cell_type": "code",
   "execution_count": 85,
   "metadata": {
    "id": "_NTy2VPU_Zcu"
   },
   "outputs": [
    {
     "data": {
      "text/plain": [
       "11056"
      ]
     },
     "execution_count": 85,
     "metadata": {},
     "output_type": "execute_result"
    }
   ],
   "source": [
    "# количество прослушиваний в Москве по средам\n",
    "number_tracks('Wednesday','Moscow')"
   ]
  },
  {
   "cell_type": "code",
   "execution_count": 86,
   "metadata": {
    "id": "j2y3TAwo_Zcu"
   },
   "outputs": [
    {
     "data": {
      "text/plain": [
       "7003"
      ]
     },
     "execution_count": 86,
     "metadata": {},
     "output_type": "execute_result"
    }
   ],
   "source": [
    "# количество прослушиваний в Санкт-Петербурге по средам\n",
    "number_tracks('Wednesday','Saint-Petersburg')"
   ]
  },
  {
   "cell_type": "code",
   "execution_count": 87,
   "metadata": {
    "id": "vYDw5u_K_Zcu"
   },
   "outputs": [
    {
     "data": {
      "text/plain": [
       "15945"
      ]
     },
     "execution_count": 87,
     "metadata": {},
     "output_type": "execute_result"
    }
   ],
   "source": [
    "# количество прослушиваний в Москве по пятницам\n",
    "number_tracks('Friday','Moscow')"
   ]
  },
  {
   "cell_type": "code",
   "execution_count": 88,
   "metadata": {
    "id": "8_yzFtW3_Zcu"
   },
   "outputs": [
    {
     "data": {
      "text/plain": [
       "5895"
      ]
     },
     "execution_count": 88,
     "metadata": {},
     "output_type": "execute_result"
    }
   ],
   "source": [
    "# количество прослушиваний в Санкт-Петербурге по пятницам\n",
    "number_tracks('Friday','Saint-Petersburg')"
   ]
  },
  {
   "cell_type": "markdown",
   "metadata": {
    "id": "7QXffbO-_Zcu"
   },
   "source": [
    "Создать c помощью конструктора `pd.DataFrame` таблицу, где\n",
    "* названия колонок — `['city', 'monday', 'wednesday', 'friday']`;\n",
    "* данные — результаты, которые вы получили с помощью `number_tracks`."
   ]
  },
  {
   "cell_type": "code",
   "execution_count": 89,
   "metadata": {
    "id": "APAcLpOr_Zcu"
   },
   "outputs": [
    {
     "data": {
      "text/html": [
       "<div>\n",
       "<style scoped>\n",
       "    .dataframe tbody tr th:only-of-type {\n",
       "        vertical-align: middle;\n",
       "    }\n",
       "\n",
       "    .dataframe tbody tr th {\n",
       "        vertical-align: top;\n",
       "    }\n",
       "\n",
       "    .dataframe thead th {\n",
       "        text-align: right;\n",
       "    }\n",
       "</style>\n",
       "<table border=\"1\" class=\"dataframe\">\n",
       "  <thead>\n",
       "    <tr style=\"text-align: right;\">\n",
       "      <th></th>\n",
       "      <th>city</th>\n",
       "      <th>monday</th>\n",
       "      <th>wednesday</th>\n",
       "      <th>friday</th>\n",
       "    </tr>\n",
       "  </thead>\n",
       "  <tbody>\n",
       "    <tr>\n",
       "      <td>0</td>\n",
       "      <td>Moscow</td>\n",
       "      <td>15740</td>\n",
       "      <td>11056</td>\n",
       "      <td>15945</td>\n",
       "    </tr>\n",
       "    <tr>\n",
       "      <td>1</td>\n",
       "      <td>Saint-Petersburg</td>\n",
       "      <td>5614</td>\n",
       "      <td>7003</td>\n",
       "      <td>5895</td>\n",
       "    </tr>\n",
       "  </tbody>\n",
       "</table>\n",
       "</div>"
      ],
      "text/plain": [
       "               city  monday  wednesday  friday\n",
       "0            Moscow   15740      11056   15945\n",
       "1  Saint-Petersburg    5614       7003    5895"
      ]
     },
     "metadata": {},
     "output_type": "display_data"
    }
   ],
   "source": [
    "# Таблица с результатами\n",
    "data_a = ['Moscow','Saint-Petersburg']\n",
    "data_b = ['Monday','Wednesday','Friday']\n",
    "data = [[''] * (len(data_b) + 1) for i in range(len(data_a))]\n",
    "\n",
    "for i in range(len(data_a)):\n",
    "    for j in range(len(data_b) + 1):\n",
    "        if j == 0:\n",
    "            data[i][j] = data_a[i]\n",
    "        else:     \n",
    "            data[i][j] = number_tracks(data_b[j - 1],data_a[i])\n",
    "    \n",
    "columns = ['city', 'monday', 'wednesday', 'friday']\n",
    "table = pd.DataFrame(data=data,columns=columns)\n",
    "display(table)"
   ]
  },
  {
   "cell_type": "markdown",
   "metadata": {
    "id": "-EgPIHYu_Zcu"
   },
   "source": [
    "**Выводы**\n",
    "\n",
    "Данные показывают разницу поведения пользователей:\n",
    "\n",
    "- В Москве пик прослушиваний приходится на понедельник и пятницу, а в среду заметен спад.\n",
    "- В Петербурге, наоборот, больше слушают музыку по средам. Активность в понедельник и пятницу здесь почти в равной мере уступает среде.\n",
    "\n",
    "Значит, данные говорят в пользу первой гипотезы."
   ]
  },
  {
   "cell_type": "markdown",
   "metadata": {
    "id": "atZAxtq4_Zcu"
   },
   "source": [
    "### Музыка в начале и в конце недели"
   ]
  },
  {
   "cell_type": "markdown",
   "metadata": {
    "id": "eXrQqXFH_Zcu"
   },
   "source": [
    "Согласно второй гипотезе, утром в понедельник в Москве преобладают одни жанры, а в Петербурге — другие. Так же и вечером пятницы преобладают разные жанры — в зависимости от города."
   ]
  },
  {
   "cell_type": "markdown",
   "metadata": {
    "id": "S8UcW6Hw_Zcu"
   },
   "source": [
    "Сохранить таблицы с данными в две переменные:\n",
    "* по Москве — в `moscow_general`;\n",
    "* по Санкт-Петербургу — в `spb_general`."
   ]
  },
  {
   "cell_type": "code",
   "execution_count": 90,
   "metadata": {
    "id": "qeaFfM_P_Zcu"
   },
   "outputs": [
    {
     "data": {
      "text/html": [
       "<div>\n",
       "<style scoped>\n",
       "    .dataframe tbody tr th:only-of-type {\n",
       "        vertical-align: middle;\n",
       "    }\n",
       "\n",
       "    .dataframe tbody tr th {\n",
       "        vertical-align: top;\n",
       "    }\n",
       "\n",
       "    .dataframe thead th {\n",
       "        text-align: right;\n",
       "    }\n",
       "</style>\n",
       "<table border=\"1\" class=\"dataframe\">\n",
       "  <thead>\n",
       "    <tr style=\"text-align: right;\">\n",
       "      <th></th>\n",
       "      <th>user_id</th>\n",
       "      <th>track</th>\n",
       "      <th>artist</th>\n",
       "      <th>genre</th>\n",
       "      <th>city</th>\n",
       "      <th>time</th>\n",
       "      <th>day</th>\n",
       "    </tr>\n",
       "  </thead>\n",
       "  <tbody>\n",
       "    <tr>\n",
       "      <td>1</td>\n",
       "      <td>55204538</td>\n",
       "      <td>Delayed Because of Accident</td>\n",
       "      <td>Andreas Rönnberg</td>\n",
       "      <td>rock</td>\n",
       "      <td>Moscow</td>\n",
       "      <td>14:07:09</td>\n",
       "      <td>Friday</td>\n",
       "    </tr>\n",
       "    <tr>\n",
       "      <td>4</td>\n",
       "      <td>E2DC1FAE</td>\n",
       "      <td>Soul People</td>\n",
       "      <td>Space Echo</td>\n",
       "      <td>dance</td>\n",
       "      <td>Moscow</td>\n",
       "      <td>08:34:34</td>\n",
       "      <td>Monday</td>\n",
       "    </tr>\n",
       "    <tr>\n",
       "      <td>6</td>\n",
       "      <td>4CB90AA5</td>\n",
       "      <td>True</td>\n",
       "      <td>Roman Messer</td>\n",
       "      <td>dance</td>\n",
       "      <td>Moscow</td>\n",
       "      <td>13:00:07</td>\n",
       "      <td>Wednesday</td>\n",
       "    </tr>\n",
       "    <tr>\n",
       "      <td>7</td>\n",
       "      <td>F03E1C1F</td>\n",
       "      <td>Feeling This Way</td>\n",
       "      <td>Polina Griffith</td>\n",
       "      <td>dance</td>\n",
       "      <td>Moscow</td>\n",
       "      <td>20:47:49</td>\n",
       "      <td>Wednesday</td>\n",
       "    </tr>\n",
       "    <tr>\n",
       "      <td>8</td>\n",
       "      <td>8FA1D3BE</td>\n",
       "      <td>И вновь продолжается бой</td>\n",
       "      <td>unknown</td>\n",
       "      <td>ruspop</td>\n",
       "      <td>Moscow</td>\n",
       "      <td>09:17:40</td>\n",
       "      <td>Friday</td>\n",
       "    </tr>\n",
       "    <tr>\n",
       "      <td>...</td>\n",
       "      <td>...</td>\n",
       "      <td>...</td>\n",
       "      <td>...</td>\n",
       "      <td>...</td>\n",
       "      <td>...</td>\n",
       "      <td>...</td>\n",
       "      <td>...</td>\n",
       "    </tr>\n",
       "    <tr>\n",
       "      <td>65073</td>\n",
       "      <td>83A474E7</td>\n",
       "      <td>I Worship Only What You Bleed</td>\n",
       "      <td>The Black Dahlia Murder</td>\n",
       "      <td>extrememetal</td>\n",
       "      <td>Moscow</td>\n",
       "      <td>21:07:12</td>\n",
       "      <td>Monday</td>\n",
       "    </tr>\n",
       "    <tr>\n",
       "      <td>65074</td>\n",
       "      <td>729CBB09</td>\n",
       "      <td>My Name</td>\n",
       "      <td>McLean</td>\n",
       "      <td>rnb</td>\n",
       "      <td>Moscow</td>\n",
       "      <td>13:32:28</td>\n",
       "      <td>Wednesday</td>\n",
       "    </tr>\n",
       "    <tr>\n",
       "      <td>65076</td>\n",
       "      <td>C5E3A0D5</td>\n",
       "      <td>Jalopiina</td>\n",
       "      <td>unknown</td>\n",
       "      <td>industrial</td>\n",
       "      <td>Moscow</td>\n",
       "      <td>20:09:26</td>\n",
       "      <td>Friday</td>\n",
       "    </tr>\n",
       "    <tr>\n",
       "      <td>65077</td>\n",
       "      <td>321D0506</td>\n",
       "      <td>Freight Train</td>\n",
       "      <td>Chas McDevitt</td>\n",
       "      <td>rock</td>\n",
       "      <td>Moscow</td>\n",
       "      <td>21:43:59</td>\n",
       "      <td>Friday</td>\n",
       "    </tr>\n",
       "    <tr>\n",
       "      <td>65078</td>\n",
       "      <td>3A64EF84</td>\n",
       "      <td>Tell Me Sweet Little Lies</td>\n",
       "      <td>Monica Lopez</td>\n",
       "      <td>country</td>\n",
       "      <td>Moscow</td>\n",
       "      <td>21:59:46</td>\n",
       "      <td>Friday</td>\n",
       "    </tr>\n",
       "  </tbody>\n",
       "</table>\n",
       "<p>42741 rows × 7 columns</p>\n",
       "</div>"
      ],
      "text/plain": [
       "        user_id                          track                   artist  \\\n",
       "1      55204538    Delayed Because of Accident         Andreas Rönnberg   \n",
       "4      E2DC1FAE                    Soul People               Space Echo   \n",
       "6      4CB90AA5                           True             Roman Messer   \n",
       "7      F03E1C1F               Feeling This Way          Polina Griffith   \n",
       "8      8FA1D3BE       И вновь продолжается бой                  unknown   \n",
       "...         ...                            ...                      ...   \n",
       "65073  83A474E7  I Worship Only What You Bleed  The Black Dahlia Murder   \n",
       "65074  729CBB09                        My Name                   McLean   \n",
       "65076  C5E3A0D5                      Jalopiina                  unknown   \n",
       "65077  321D0506                  Freight Train            Chas McDevitt   \n",
       "65078  3A64EF84      Tell Me Sweet Little Lies             Monica Lopez   \n",
       "\n",
       "              genre    city      time        day  \n",
       "1              rock  Moscow  14:07:09     Friday  \n",
       "4             dance  Moscow  08:34:34     Monday  \n",
       "6             dance  Moscow  13:00:07  Wednesday  \n",
       "7             dance  Moscow  20:47:49  Wednesday  \n",
       "8            ruspop  Moscow  09:17:40     Friday  \n",
       "...             ...     ...       ...        ...  \n",
       "65073  extrememetal  Moscow  21:07:12     Monday  \n",
       "65074           rnb  Moscow  13:32:28  Wednesday  \n",
       "65076    industrial  Moscow  20:09:26     Friday  \n",
       "65077          rock  Moscow  21:43:59     Friday  \n",
       "65078       country  Moscow  21:59:46     Friday  \n",
       "\n",
       "[42741 rows x 7 columns]"
      ]
     },
     "metadata": {},
     "output_type": "display_data"
    }
   ],
   "source": [
    "# получение таблицы moscow_general из тех строк таблицы df, \n",
    "# для которых значение в столбце 'city' равно 'Moscow'\n",
    "moscow_general = df[df['city'] == 'Moscow']\n",
    "display(moscow_general)"
   ]
  },
  {
   "cell_type": "code",
   "execution_count": 91,
   "metadata": {
    "id": "ORaVRKto_Zcu"
   },
   "outputs": [
    {
     "data": {
      "text/html": [
       "<div>\n",
       "<style scoped>\n",
       "    .dataframe tbody tr th:only-of-type {\n",
       "        vertical-align: middle;\n",
       "    }\n",
       "\n",
       "    .dataframe tbody tr th {\n",
       "        vertical-align: top;\n",
       "    }\n",
       "\n",
       "    .dataframe thead th {\n",
       "        text-align: right;\n",
       "    }\n",
       "</style>\n",
       "<table border=\"1\" class=\"dataframe\">\n",
       "  <thead>\n",
       "    <tr style=\"text-align: right;\">\n",
       "      <th></th>\n",
       "      <th>user_id</th>\n",
       "      <th>track</th>\n",
       "      <th>artist</th>\n",
       "      <th>genre</th>\n",
       "      <th>city</th>\n",
       "      <th>time</th>\n",
       "      <th>day</th>\n",
       "    </tr>\n",
       "  </thead>\n",
       "  <tbody>\n",
       "    <tr>\n",
       "      <td>0</td>\n",
       "      <td>FFB692EC</td>\n",
       "      <td>Kamigata To Boots</td>\n",
       "      <td>The Mass Missile</td>\n",
       "      <td>rock</td>\n",
       "      <td>Saint-Petersburg</td>\n",
       "      <td>20:28:33</td>\n",
       "      <td>Wednesday</td>\n",
       "    </tr>\n",
       "    <tr>\n",
       "      <td>2</td>\n",
       "      <td>20EC38</td>\n",
       "      <td>Funiculì funiculà</td>\n",
       "      <td>Mario Lanza</td>\n",
       "      <td>pop</td>\n",
       "      <td>Saint-Petersburg</td>\n",
       "      <td>20:58:07</td>\n",
       "      <td>Wednesday</td>\n",
       "    </tr>\n",
       "    <tr>\n",
       "      <td>3</td>\n",
       "      <td>A3DD03C9</td>\n",
       "      <td>Dragons in the Sunset</td>\n",
       "      <td>Fire + Ice</td>\n",
       "      <td>folk</td>\n",
       "      <td>Saint-Petersburg</td>\n",
       "      <td>08:37:09</td>\n",
       "      <td>Monday</td>\n",
       "    </tr>\n",
       "    <tr>\n",
       "      <td>5</td>\n",
       "      <td>842029A1</td>\n",
       "      <td>Преданная</td>\n",
       "      <td>IMPERVTOR</td>\n",
       "      <td>rusrap</td>\n",
       "      <td>Saint-Petersburg</td>\n",
       "      <td>13:09:41</td>\n",
       "      <td>Friday</td>\n",
       "    </tr>\n",
       "    <tr>\n",
       "      <td>9</td>\n",
       "      <td>E772D5C0</td>\n",
       "      <td>Pessimist</td>\n",
       "      <td>unknown</td>\n",
       "      <td>dance</td>\n",
       "      <td>Saint-Petersburg</td>\n",
       "      <td>21:20:49</td>\n",
       "      <td>Wednesday</td>\n",
       "    </tr>\n",
       "    <tr>\n",
       "      <td>...</td>\n",
       "      <td>...</td>\n",
       "      <td>...</td>\n",
       "      <td>...</td>\n",
       "      <td>...</td>\n",
       "      <td>...</td>\n",
       "      <td>...</td>\n",
       "      <td>...</td>\n",
       "    </tr>\n",
       "    <tr>\n",
       "      <td>65063</td>\n",
       "      <td>D94F810B</td>\n",
       "      <td>Theme from the Walking Dead</td>\n",
       "      <td>Proyecto Halloween</td>\n",
       "      <td>film</td>\n",
       "      <td>Saint-Petersburg</td>\n",
       "      <td>21:14:40</td>\n",
       "      <td>Monday</td>\n",
       "    </tr>\n",
       "    <tr>\n",
       "      <td>65064</td>\n",
       "      <td>BC8EC5CF</td>\n",
       "      <td>Red Lips: Gta (Rover Rework)</td>\n",
       "      <td>Rover</td>\n",
       "      <td>electronic</td>\n",
       "      <td>Saint-Petersburg</td>\n",
       "      <td>21:06:50</td>\n",
       "      <td>Monday</td>\n",
       "    </tr>\n",
       "    <tr>\n",
       "      <td>65065</td>\n",
       "      <td>29E04611</td>\n",
       "      <td>Bre Petrunko</td>\n",
       "      <td>Perunika Trio</td>\n",
       "      <td>world</td>\n",
       "      <td>Saint-Petersburg</td>\n",
       "      <td>13:56:00</td>\n",
       "      <td>Monday</td>\n",
       "    </tr>\n",
       "    <tr>\n",
       "      <td>65066</td>\n",
       "      <td>1B91C621</td>\n",
       "      <td>(Hello) Cloud Mountain</td>\n",
       "      <td>sleepmakeswaves</td>\n",
       "      <td>postrock</td>\n",
       "      <td>Saint-Petersburg</td>\n",
       "      <td>09:22:13</td>\n",
       "      <td>Monday</td>\n",
       "    </tr>\n",
       "    <tr>\n",
       "      <td>65075</td>\n",
       "      <td>D08D4A55</td>\n",
       "      <td>Maybe One Day (feat. Black Spade)</td>\n",
       "      <td>Blu &amp; Exile</td>\n",
       "      <td>hiphop</td>\n",
       "      <td>Saint-Petersburg</td>\n",
       "      <td>10:00:00</td>\n",
       "      <td>Monday</td>\n",
       "    </tr>\n",
       "  </tbody>\n",
       "</table>\n",
       "<p>18512 rows × 7 columns</p>\n",
       "</div>"
      ],
      "text/plain": [
       "        user_id                              track              artist  \\\n",
       "0      FFB692EC                  Kamigata To Boots    The Mass Missile   \n",
       "2        20EC38                  Funiculì funiculà         Mario Lanza   \n",
       "3      A3DD03C9              Dragons in the Sunset          Fire + Ice   \n",
       "5      842029A1                          Преданная           IMPERVTOR   \n",
       "9      E772D5C0                          Pessimist             unknown   \n",
       "...         ...                                ...                 ...   \n",
       "65063  D94F810B        Theme from the Walking Dead  Proyecto Halloween   \n",
       "65064  BC8EC5CF       Red Lips: Gta (Rover Rework)               Rover   \n",
       "65065  29E04611                       Bre Petrunko       Perunika Trio   \n",
       "65066  1B91C621             (Hello) Cloud Mountain     sleepmakeswaves   \n",
       "65075  D08D4A55  Maybe One Day (feat. Black Spade)         Blu & Exile   \n",
       "\n",
       "            genre              city      time        day  \n",
       "0            rock  Saint-Petersburg  20:28:33  Wednesday  \n",
       "2             pop  Saint-Petersburg  20:58:07  Wednesday  \n",
       "3            folk  Saint-Petersburg  08:37:09     Monday  \n",
       "5          rusrap  Saint-Petersburg  13:09:41     Friday  \n",
       "9           dance  Saint-Petersburg  21:20:49  Wednesday  \n",
       "...           ...               ...       ...        ...  \n",
       "65063        film  Saint-Petersburg  21:14:40     Monday  \n",
       "65064  electronic  Saint-Petersburg  21:06:50     Monday  \n",
       "65065       world  Saint-Petersburg  13:56:00     Monday  \n",
       "65066    postrock  Saint-Petersburg  09:22:13     Monday  \n",
       "65075      hiphop  Saint-Petersburg  10:00:00     Monday  \n",
       "\n",
       "[18512 rows x 7 columns]"
      ]
     },
     "metadata": {},
     "output_type": "display_data"
    }
   ],
   "source": [
    "# получение таблицы spb_general из тех строк таблицы df,\n",
    "# для которых значение в столбце 'city' равно 'Saint-Petersburg'\n",
    "spb_general = df[df['city'] == 'Saint-Petersburg']\n",
    "display(spb_general)"
   ]
  },
  {
   "cell_type": "markdown",
   "metadata": {
    "id": "MEJV-CX2_Zcu"
   },
   "source": [
    "Создать функцию `genre_weekday()` с четырьмя параметрами:\n",
    "* таблица (датафрейм) с данными,\n",
    "* день недели,\n",
    "* начальная временная метка в формате 'hh:mm', \n",
    "* последняя временная метка в формате 'hh:mm'.\n",
    "\n",
    "Функция должна вернуть информацию о топ-10 жанров тех треков, которые прослушивали в указанный день, в промежутке между двумя отметками времени."
   ]
  },
  {
   "cell_type": "code",
   "execution_count": 92,
   "metadata": {
    "id": "laJT9BYl_Zcu"
   },
   "outputs": [],
   "source": [
    "# Объявление функции genre_weekday() с параметрами table, day, time1, time2,\n",
    "# которая возвращает информацию о самых популярных жанрах в указанный день в\n",
    "# заданное время:\n",
    "# 1) в переменную genre_df сохраняются те строки переданного датафрейма table, для\n",
    "#    которых одновременно:\n",
    "#    - значение в столбце day равно значению аргумента day\n",
    "#    - значение в столбце time больше значения аргумента time1\n",
    "#    - значение в столбце time меньше значения аргумента time2\n",
    "#    Используйте последовательную фильтрацию с помощью логической индексации.\n",
    "# 2) сгруппировать датафрейм genre_df по столбцу genre, взять один из его\n",
    "#    столбцов и посчитать методом count() количество записей для каждого из\n",
    "#    присутствующих жанров, получившийся Series записать в переменную\n",
    "#    genre_df_count\n",
    "# 3) отсортировать genre_df_count по убыванию встречаемости и сохранить\n",
    "#    в переменную genre_df_sorted\n",
    "# 4) вернуть Series из 10 первых значений genre_df_sorted, это будут топ-10\n",
    "#    популярных жанров (в указанный день, в заданное время)\n",
    "def genre_weekday(table, day, time1, time2):\n",
    "    genre_df = table[table['day'] == day]\n",
    "    genre_df = genre_df[genre_df['time'] > time1]\n",
    "    genre_df = genre_df[genre_df['time'] < time2]\n",
    "    genre_df_count = genre_df.groupby('genre')['day'].count()\n",
    "    genre_df_sorted = genre_df_count.sort_values(ascending=False)\n",
    "#    return genre_df_sorted.head(10)\n",
    "    return genre_df_sorted[:10]"
   ]
  },
  {
   "cell_type": "markdown",
   "metadata": {
    "id": "la2s2_PF_Zcu"
   },
   "source": [
    "Cравнить результаты функции `genre_weekday()` для Москвы и Санкт-Петербурга в понедельник утром (с 7:00 до 11:00) и в пятницу вечером (с 17:00 до 23:00):"
   ]
  },
  {
   "cell_type": "code",
   "execution_count": 93,
   "metadata": {
    "id": "yz7itPUQ_Zcu"
   },
   "outputs": [
    {
     "data": {
      "text/plain": [
       "genre\n",
       "pop            781\n",
       "dance          549\n",
       "electronic     480\n",
       "rock           474\n",
       "hiphop         286\n",
       "ruspop         186\n",
       "world          181\n",
       "rusrap         175\n",
       "alternative    164\n",
       "unknown        161\n",
       "Name: day, dtype: int64"
      ]
     },
     "execution_count": 93,
     "metadata": {},
     "output_type": "execute_result"
    }
   ],
   "source": [
    "# вызов функции для утра понедельника в Москве (вместо df — таблица moscow_general)\n",
    "# объекты, хранящие время, являются строками и сравниваются как строки\n",
    "# пример вызова: genre_weekday(moscow_general, 'Monday', '07:00', '11:00')\n",
    "genre_weekday(moscow_general, 'Monday', '07:00', '11:00')"
   ]
  },
  {
   "cell_type": "code",
   "execution_count": 94,
   "metadata": {
    "id": "kwUcHPdy_Zcu"
   },
   "outputs": [
    {
     "data": {
      "text/plain": [
       "genre\n",
       "pop            218\n",
       "dance          182\n",
       "rock           162\n",
       "electronic     147\n",
       "hiphop          80\n",
       "ruspop          64\n",
       "alternative     58\n",
       "rusrap          55\n",
       "jazz            44\n",
       "classical       40\n",
       "Name: day, dtype: int64"
      ]
     },
     "execution_count": 94,
     "metadata": {},
     "output_type": "execute_result"
    }
   ],
   "source": [
    "# вызов функции для утра понедельника в Петербурге (вместо df — таблица spb_general)\n",
    "genre_weekday(spb_general, 'Monday', '07:00', '11:00')"
   ]
  },
  {
   "cell_type": "code",
   "execution_count": 95,
   "metadata": {
    "id": "EzXVRE1o_Zcu"
   },
   "outputs": [
    {
     "data": {
      "text/plain": [
       "genre\n",
       "pop            713\n",
       "rock           517\n",
       "dance          495\n",
       "electronic     482\n",
       "hiphop         273\n",
       "world          208\n",
       "ruspop         170\n",
       "alternative    163\n",
       "classical      163\n",
       "rusrap         142\n",
       "Name: day, dtype: int64"
      ]
     },
     "execution_count": 95,
     "metadata": {},
     "output_type": "execute_result"
    }
   ],
   "source": [
    "# вызов функции для вечера пятницы в Москве\n",
    "genre_weekday(moscow_general, 'Friday', '17:00', '23:00')"
   ]
  },
  {
   "cell_type": "code",
   "execution_count": 96,
   "metadata": {
    "id": "JZaEKu5v_Zcu"
   },
   "outputs": [
    {
     "data": {
      "text/plain": [
       "genre\n",
       "pop            256\n",
       "rock           216\n",
       "electronic     216\n",
       "dance          210\n",
       "hiphop          97\n",
       "alternative     63\n",
       "jazz            61\n",
       "classical       60\n",
       "rusrap          59\n",
       "world           54\n",
       "Name: day, dtype: int64"
      ]
     },
     "execution_count": 96,
     "metadata": {},
     "output_type": "execute_result"
    }
   ],
   "source": [
    "# вызов функции для вечера пятницы в Петербурге\n",
    "genre_weekday(spb_general, 'Friday', '17:00', '23:00')"
   ]
  },
  {
   "cell_type": "markdown",
   "metadata": {
    "id": "wrCe4MNX_Zcu"
   },
   "source": [
    "**Выводы**\n",
    "\n",
    "Если сравнить топ-10 жанров в понедельник утром, можно сделать такие выводы:\n",
    "\n",
    "1. В Москве и Петербурге слушают похожую музыку. Единственное отличие — в московский рейтинг вошёл жанр “world”, а в петербургский — джаз и классика.\n",
    "\n",
    "2. В Москве пропущенных значений оказалось так много, что значение `'unknown'` заняло десятое место среди самых популярных жанров. Значит, пропущенные значения занимают существенную долю в данных и угрожают достоверности исследования.\n",
    "\n",
    "Вечер пятницы не меняет эту картину. Некоторые жанры поднимаются немного выше, другие спускаются, но в целом топ-10 остаётся тем же самым.\n",
    "\n",
    "Таким образом, вторая гипотеза подтвердилась лишь частично:\n",
    "* Пользователи слушают похожую музыку в начале недели и в конце.\n",
    "* Разница между Москвой и Петербургом не слишком выражена. В Москве чаще слушают русскую популярную музыку, в Петербурге — джаз.\n",
    "\n",
    "Однако пропуски в данных ставят под сомнение этот результат. В Москве их так много, что рейтинг топ-10 мог бы выглядеть иначе, если бы не утерянные  данные о жанрах."
   ]
  },
  {
   "cell_type": "markdown",
   "metadata": {
    "id": "JolODAqr_Zcu"
   },
   "source": [
    "### Жанровые предпочтения в Москве и Петербурге\n",
    "\n",
    "Гипотеза: Петербург — столица рэпа, музыку этого жанра там слушают чаще, чем в Москве.  А Москва — город контрастов, в котором, тем не менее, преобладает поп-музыка."
   ]
  },
  {
   "cell_type": "markdown",
   "metadata": {
    "id": "DlegSvaT_Zcu"
   },
   "source": [
    "Сгруппировать таблицу `moscow_general` по жанру и посчитать прослушивания треков каждого жанра методом `count()`. Затем отсортировать результат в порядке убывания и сохранить его в таблице `moscow_genres`."
   ]
  },
  {
   "cell_type": "code",
   "execution_count": 97,
   "metadata": {
    "id": "r19lIPke_Zcu"
   },
   "outputs": [],
   "source": [
    "# одной строкой: группировка таблицы moscow_general по столбцу 'genre', \n",
    "# подсчёт числа значений 'genre' в этой группировке методом count(), \n",
    "# сортировка получившегося Series в порядке убывания и сохранение в moscow_genres\n",
    "moscow_genres = moscow_general.groupby('genre')['user_id'].count().sort_values(ascending=False)"
   ]
  },
  {
   "cell_type": "markdown",
   "metadata": {
    "id": "6kMuomxTiIr8"
   },
   "source": [
    "Вывести на экран первые десять строк `moscow_genres`:"
   ]
  },
  {
   "cell_type": "code",
   "execution_count": 98,
   "metadata": {
    "id": "WhCSooF8_Zcv"
   },
   "outputs": [
    {
     "data": {
      "text/plain": [
       "genre\n",
       "pop            5892\n",
       "dance          4435\n",
       "rock           3965\n",
       "electronic     3786\n",
       "hiphop         2096\n",
       "classical      1616\n",
       "world          1432\n",
       "alternative    1379\n",
       "ruspop         1372\n",
       "rusrap         1161\n",
       "Name: user_id, dtype: int64"
      ]
     },
     "execution_count": 98,
     "metadata": {},
     "output_type": "execute_result"
    }
   ],
   "source": [
    "# просмотр первых 10 строк moscow_genres\n",
    "moscow_genres.head(10)"
   ]
  },
  {
   "cell_type": "markdown",
   "metadata": {
    "id": "cnPG2vnN_Zcv"
   },
   "source": [
    "Теперь повторить то же и для Петербурга.\n",
    "\n",
    "Сгруппировать таблицу `spb_general` по жанру. Посчитать прослушивания треков каждого жанра. Результат отсортировать в порядке убывания и сохранить в таблице `spb_genres`:\n"
   ]
  },
  {
   "cell_type": "code",
   "execution_count": 99,
   "metadata": {
    "id": "gluLIpE7_Zcv"
   },
   "outputs": [],
   "source": [
    "# одной строкой: группировка таблицы spb_general по столбцу 'genre', \n",
    "# подсчёт числа значений 'genre' в этой группировке методом count(), \n",
    "# сортировка получившегося Series в порядке убывания и сохранение в spb_genres\n",
    "spb_genres = spb_general.groupby('genre')['user_id'].count().sort_values(ascending=False)"
   ]
  },
  {
   "cell_type": "markdown",
   "metadata": {
    "id": "5Doha_ODgyQ8"
   },
   "source": [
    "Вывести на экран первые десять строк `spb_genres`:"
   ]
  },
  {
   "cell_type": "code",
   "execution_count": 100,
   "metadata": {
    "id": "uaGJHjVU_Zcv"
   },
   "outputs": [
    {
     "data": {
      "text/plain": [
       "genre\n",
       "pop            2431\n",
       "dance          1932\n",
       "rock           1879\n",
       "electronic     1737\n",
       "hiphop          960\n",
       "alternative     649\n",
       "classical       646\n",
       "rusrap          564\n",
       "ruspop          538\n",
       "world           515\n",
       "Name: user_id, dtype: int64"
      ]
     },
     "execution_count": 100,
     "metadata": {},
     "output_type": "execute_result"
    }
   ],
   "source": [
    "# просмотр первых 10 строк spb_genres\n",
    "spb_genres.head(10)"
   ]
  },
  {
   "cell_type": "markdown",
   "metadata": {
    "id": "RY51YJYu_Zcv"
   },
   "source": [
    "**Выводы**"
   ]
  },
  {
   "cell_type": "markdown",
   "metadata": {
    "id": "nVhnJEm__Zcv"
   },
   "source": [
    "Гипотеза частично подтвердилась:\n",
    "* Поп-музыка — самый популярный жанр в Москве, как и предполагала гипотеза. Более того, в топ-10 жанров встречается близкий жанр — русская популярная музыка.\n",
    "* Вопреки ожиданиям, рэп одинаково популярен в Москве и Петербурге. \n"
   ]
  },
  {
   "cell_type": "markdown",
   "metadata": {
    "id": "ykKQ0N65_Zcv"
   },
   "source": [
    "## Итоги исследования"
   ]
  },
  {
   "cell_type": "markdown",
   "metadata": {
    "id": "tjUwbHb3_Zcv"
   },
   "source": [
    "Проверены три гипотезы и установлено:\n",
    "\n",
    "1. День недели по-разному влияет на активность пользователей в Москве и Петербурге. \n",
    "\n",
    "Первая гипотеза полностью подтвердилась.\n",
    "\n",
    "2. Музыкальные предпочтения не сильно меняются в течение недели — будь то Москва или Петербург. Небольшие различия заметны в начале недели, по понедельникам:\n",
    "* в Москве слушают музыку жанра “world”,\n",
    "* в Петербурге — джаз и классику.\n",
    "\n",
    "Таким образом, вторая гипотеза подтвердилась лишь отчасти. Этот результат мог оказаться иным, если бы не пропуски в данных.\n",
    "\n",
    "3. Во вкусах пользователей Москвы и Петербурга больше общего чем различий. Вопреки ожиданиям, предпочтения жанров в Петербурге напоминают московские.\n",
    "\n",
    "Третья гипотеза не подтвердилась. Если различия в предпочтениях и существуют, на основной массе пользователей они незаметны.\n",
    "\n",
    "**На практике исследования содержат проверки статистических гипотез.**\n",
    "Из данных одного сервиса не всегда можно сделать вывод о всех жителях города.\n",
    "Проверки статистических гипотез покажут, насколько они достоверны, исходя из имеющихся данных. "
   ]
  }
 ],
 "metadata": {
  "ExecuteTimeLog": [
   {
    "duration": 521,
    "start_time": "2022-03-03T15:09:37.497Z"
   },
   {
    "duration": 61,
    "start_time": "2022-03-03T15:10:13.376Z"
   },
   {
    "duration": 133,
    "start_time": "2022-03-03T15:10:43.277Z"
   },
   {
    "duration": 7,
    "start_time": "2022-03-03T15:10:58.003Z"
   },
   {
    "duration": 13,
    "start_time": "2022-03-03T15:11:15.803Z"
   },
   {
    "duration": 8,
    "start_time": "2022-03-03T15:11:21.117Z"
   },
   {
    "duration": 8,
    "start_time": "2022-03-03T15:14:07.237Z"
   },
   {
    "duration": 24,
    "start_time": "2022-03-03T15:14:17.916Z"
   },
   {
    "duration": 3,
    "start_time": "2022-03-03T15:15:42.297Z"
   },
   {
    "duration": 129,
    "start_time": "2022-03-03T15:15:42.307Z"
   },
   {
    "duration": 6,
    "start_time": "2022-03-03T15:15:42.438Z"
   },
   {
    "duration": 27,
    "start_time": "2022-03-03T15:15:42.446Z"
   },
   {
    "duration": 4,
    "start_time": "2022-03-03T15:15:42.475Z"
   },
   {
    "duration": 6,
    "start_time": "2022-03-03T15:15:42.481Z"
   },
   {
    "duration": 5,
    "start_time": "2022-03-03T15:15:42.488Z"
   },
   {
    "duration": 9,
    "start_time": "2022-03-03T15:15:42.494Z"
   },
   {
    "duration": 5,
    "start_time": "2022-03-03T15:15:42.505Z"
   },
   {
    "duration": 5,
    "start_time": "2022-03-03T15:15:42.512Z"
   },
   {
    "duration": 19,
    "start_time": "2022-03-03T15:15:42.519Z"
   },
   {
    "duration": 8,
    "start_time": "2022-03-03T15:15:42.540Z"
   },
   {
    "duration": 6,
    "start_time": "2022-03-03T15:15:42.549Z"
   },
   {
    "duration": 6,
    "start_time": "2022-03-03T15:15:42.557Z"
   },
   {
    "duration": 8,
    "start_time": "2022-03-03T15:15:42.564Z"
   },
   {
    "duration": 6,
    "start_time": "2022-03-03T15:15:42.574Z"
   },
   {
    "duration": 5,
    "start_time": "2022-03-03T15:15:42.582Z"
   },
   {
    "duration": 6,
    "start_time": "2022-03-03T15:15:42.588Z"
   },
   {
    "duration": 5,
    "start_time": "2022-03-03T15:15:42.595Z"
   },
   {
    "duration": 7,
    "start_time": "2022-03-03T15:15:42.601Z"
   },
   {
    "duration": 9,
    "start_time": "2022-03-03T15:15:42.610Z"
   },
   {
    "duration": 5,
    "start_time": "2022-03-03T15:15:42.620Z"
   },
   {
    "duration": 8,
    "start_time": "2022-03-03T15:15:42.626Z"
   },
   {
    "duration": 7,
    "start_time": "2022-03-03T15:15:42.635Z"
   },
   {
    "duration": 5,
    "start_time": "2022-03-03T15:15:42.643Z"
   },
   {
    "duration": 8,
    "start_time": "2022-03-03T15:15:42.650Z"
   },
   {
    "duration": 5,
    "start_time": "2022-03-03T15:15:42.660Z"
   },
   {
    "duration": 7,
    "start_time": "2022-03-03T15:15:42.667Z"
   },
   {
    "duration": 5,
    "start_time": "2022-03-03T15:15:42.676Z"
   },
   {
    "duration": 5,
    "start_time": "2022-03-03T15:15:42.682Z"
   },
   {
    "duration": 9,
    "start_time": "2022-03-03T15:15:42.688Z"
   },
   {
    "duration": 5,
    "start_time": "2022-03-03T15:15:42.698Z"
   },
   {
    "duration": 9,
    "start_time": "2022-03-03T15:15:42.704Z"
   },
   {
    "duration": 7,
    "start_time": "2022-03-03T15:15:42.714Z"
   },
   {
    "duration": 4,
    "start_time": "2022-03-03T15:15:42.723Z"
   },
   {
    "duration": 4,
    "start_time": "2022-03-03T15:15:42.729Z"
   },
   {
    "duration": 4,
    "start_time": "2022-03-03T15:15:42.735Z"
   },
   {
    "duration": 4,
    "start_time": "2022-03-03T15:15:42.741Z"
   },
   {
    "duration": 4,
    "start_time": "2022-03-03T15:22:12.897Z"
   },
   {
    "duration": 54,
    "start_time": "2022-03-03T15:23:50.774Z"
   },
   {
    "duration": 46,
    "start_time": "2022-03-03T15:24:04.196Z"
   },
   {
    "duration": 4,
    "start_time": "2022-03-03T15:24:24.018Z"
   },
   {
    "duration": 18,
    "start_time": "2022-03-03T15:26:27.443Z"
   },
   {
    "duration": 4,
    "start_time": "2022-03-03T15:26:30.216Z"
   },
   {
    "duration": 24,
    "start_time": "2022-03-03T15:27:22.463Z"
   },
   {
    "duration": 21,
    "start_time": "2022-03-03T15:28:57.598Z"
   },
   {
    "duration": 4581,
    "start_time": "2022-03-03T15:31:45.157Z"
   },
   {
    "duration": 6,
    "start_time": "2022-03-03T15:32:00.428Z"
   },
   {
    "duration": 7,
    "start_time": "2022-03-03T15:32:08.537Z"
   },
   {
    "duration": 10,
    "start_time": "2022-03-03T15:32:22.363Z"
   },
   {
    "duration": 177,
    "start_time": "2022-03-03T15:33:44.678Z"
   },
   {
    "duration": 187,
    "start_time": "2022-03-03T15:33:49.337Z"
   },
   {
    "duration": 19,
    "start_time": "2022-03-03T15:34:14.853Z"
   },
   {
    "duration": 21,
    "start_time": "2022-03-03T15:34:35.309Z"
   },
   {
    "duration": 22,
    "start_time": "2022-03-03T15:34:53.896Z"
   },
   {
    "duration": 23,
    "start_time": "2022-03-03T15:35:01.838Z"
   },
   {
    "duration": 23,
    "start_time": "2022-03-03T15:39:04.069Z"
   },
   {
    "duration": 22,
    "start_time": "2022-03-03T15:39:22.546Z"
   },
   {
    "duration": 22,
    "start_time": "2022-03-03T15:40:24.646Z"
   },
   {
    "duration": 22,
    "start_time": "2022-03-03T15:40:42.569Z"
   },
   {
    "duration": 22,
    "start_time": "2022-03-03T15:40:48.526Z"
   },
   {
    "duration": 21,
    "start_time": "2022-03-03T15:40:56.538Z"
   },
   {
    "duration": 20,
    "start_time": "2022-03-03T15:41:43.079Z"
   },
   {
    "duration": 23,
    "start_time": "2022-03-03T15:41:47.019Z"
   },
   {
    "duration": 24,
    "start_time": "2022-03-03T15:42:10.211Z"
   },
   {
    "duration": 59,
    "start_time": "2022-03-03T15:42:57.478Z"
   },
   {
    "duration": 65,
    "start_time": "2022-03-03T15:43:17.377Z"
   },
   {
    "duration": 60,
    "start_time": "2022-03-03T15:43:27.768Z"
   },
   {
    "duration": 53,
    "start_time": "2022-03-03T15:43:37.834Z"
   },
   {
    "duration": 237,
    "start_time": "2022-03-03T15:59:20.994Z"
   },
   {
    "duration": 171,
    "start_time": "2022-03-03T15:59:27.918Z"
   },
   {
    "duration": 170,
    "start_time": "2022-03-03T15:59:32.823Z"
   },
   {
    "duration": 5,
    "start_time": "2022-03-03T16:17:19.198Z"
   },
   {
    "duration": 5,
    "start_time": "2022-03-03T16:17:23.739Z"
   },
   {
    "duration": 5,
    "start_time": "2022-03-03T16:17:29.284Z"
   },
   {
    "duration": 5,
    "start_time": "2022-03-03T16:17:41.959Z"
   },
   {
    "duration": 175,
    "start_time": "2022-03-03T16:21:02.189Z"
   },
   {
    "duration": 192,
    "start_time": "2022-03-03T16:21:43.869Z"
   },
   {
    "duration": 177,
    "start_time": "2022-03-03T16:22:31.998Z"
   },
   {
    "duration": 183,
    "start_time": "2022-03-03T16:23:39.798Z"
   },
   {
    "duration": 178,
    "start_time": "2022-03-03T16:25:24.933Z"
   },
   {
    "duration": 2,
    "start_time": "2022-03-03T16:28:37.495Z"
   },
   {
    "duration": 3,
    "start_time": "2022-03-03T16:28:39.898Z"
   },
   {
    "duration": 335,
    "start_time": "2022-03-03T16:29:21.729Z"
   },
   {
    "duration": 3,
    "start_time": "2022-03-03T16:33:24.967Z"
   },
   {
    "duration": 11,
    "start_time": "2022-03-03T16:33:47.294Z"
   },
   {
    "duration": 3,
    "start_time": "2022-03-03T16:34:15.226Z"
   },
   {
    "duration": 9,
    "start_time": "2022-03-03T16:34:17.114Z"
   },
   {
    "duration": 8,
    "start_time": "2022-03-03T16:34:56.598Z"
   },
   {
    "duration": 64,
    "start_time": "2022-03-03T16:35:55.018Z"
   },
   {
    "duration": 6,
    "start_time": "2022-03-03T16:36:02.070Z"
   },
   {
    "duration": 7,
    "start_time": "2022-03-03T16:36:32.140Z"
   },
   {
    "duration": 7,
    "start_time": "2022-03-03T16:37:10.799Z"
   },
   {
    "duration": 6,
    "start_time": "2022-03-03T16:39:10.719Z"
   },
   {
    "duration": 5,
    "start_time": "2022-03-03T16:39:22.109Z"
   },
   {
    "duration": 5,
    "start_time": "2022-03-03T16:39:26.349Z"
   },
   {
    "duration": 29,
    "start_time": "2022-03-03T16:40:37.078Z"
   },
   {
    "duration": 7,
    "start_time": "2022-03-03T16:41:09.947Z"
   },
   {
    "duration": 7,
    "start_time": "2022-03-03T16:41:12.398Z"
   },
   {
    "duration": 3,
    "start_time": "2022-03-03T16:41:22.088Z"
   },
   {
    "duration": 13,
    "start_time": "2022-03-03T16:41:45.618Z"
   },
   {
    "duration": 6,
    "start_time": "2022-03-03T16:43:44.186Z"
   },
   {
    "duration": 6,
    "start_time": "2022-03-03T16:46:27.234Z"
   },
   {
    "duration": 47,
    "start_time": "2022-03-03T16:47:11.882Z"
   },
   {
    "duration": 12,
    "start_time": "2022-03-03T16:47:14.300Z"
   },
   {
    "duration": 12,
    "start_time": "2022-03-03T16:47:37.713Z"
   },
   {
    "duration": 140,
    "start_time": "2022-03-03T16:48:40.301Z"
   },
   {
    "duration": 162,
    "start_time": "2022-03-03T16:49:17.144Z"
   },
   {
    "duration": 12,
    "start_time": "2022-03-03T16:49:57.833Z"
   },
   {
    "duration": 178,
    "start_time": "2022-03-03T16:50:01.592Z"
   },
   {
    "duration": 235,
    "start_time": "2022-03-03T16:50:49.921Z"
   },
   {
    "duration": 58,
    "start_time": "2022-03-03T16:52:16.129Z"
   },
   {
    "duration": 2074,
    "start_time": "2022-03-03T16:52:36.600Z"
   },
   {
    "duration": 58,
    "start_time": "2022-03-03T16:52:38.783Z"
   },
   {
    "duration": 230,
    "start_time": "2022-03-03T16:52:50.707Z"
   },
   {
    "duration": 257,
    "start_time": "2022-03-03T16:53:31.800Z"
   },
   {
    "duration": 3,
    "start_time": "2022-03-03T16:53:44.247Z"
   },
   {
    "duration": 43,
    "start_time": "2022-03-03T16:53:45.779Z"
   },
   {
    "duration": 13,
    "start_time": "2022-03-03T16:53:50.731Z"
   },
   {
    "duration": 42,
    "start_time": "2022-03-03T16:54:10.913Z"
   },
   {
    "duration": 12,
    "start_time": "2022-03-03T16:54:13.694Z"
   },
   {
    "duration": 15,
    "start_time": "2022-03-03T16:54:26.492Z"
   },
   {
    "duration": 11,
    "start_time": "2022-03-03T16:54:28.351Z"
   },
   {
    "duration": 5,
    "start_time": "2022-03-03T16:57:41.310Z"
   },
   {
    "duration": 3,
    "start_time": "2022-03-03T16:57:56.810Z"
   },
   {
    "duration": 32,
    "start_time": "2022-03-03T16:59:26.610Z"
   },
   {
    "duration": 171,
    "start_time": "2022-03-03T16:59:47.696Z"
   },
   {
    "duration": 184,
    "start_time": "2022-03-03T16:59:53.540Z"
   },
   {
    "duration": 177,
    "start_time": "2022-03-03T16:59:56.391Z"
   },
   {
    "duration": 204,
    "start_time": "2022-03-03T17:00:02.886Z"
   },
   {
    "duration": 32,
    "start_time": "2022-03-03T17:00:50.710Z"
   },
   {
    "duration": 11,
    "start_time": "2022-03-03T17:02:04.625Z"
   },
   {
    "duration": 15,
    "start_time": "2022-03-03T17:03:35.650Z"
   },
   {
    "duration": 233,
    "start_time": "2022-03-03T17:03:48.588Z"
   },
   {
    "duration": 11,
    "start_time": "2022-03-03T17:04:17.949Z"
   },
   {
    "duration": 277,
    "start_time": "2022-03-03T17:05:09.689Z"
   },
   {
    "duration": 18,
    "start_time": "2022-03-03T17:05:16.831Z"
   },
   {
    "duration": 26,
    "start_time": "2022-03-03T17:05:29.547Z"
   },
   {
    "duration": 25,
    "start_time": "2022-03-03T17:05:38.346Z"
   },
   {
    "duration": 28,
    "start_time": "2022-03-03T17:05:43.189Z"
   },
   {
    "duration": 26,
    "start_time": "2022-03-03T17:06:38.614Z"
   },
   {
    "duration": 29,
    "start_time": "2022-03-03T17:06:41.140Z"
   },
   {
    "duration": 27,
    "start_time": "2022-03-03T17:06:51.419Z"
   },
   {
    "duration": 29,
    "start_time": "2022-03-03T17:07:04.608Z"
   },
   {
    "duration": 28,
    "start_time": "2022-03-03T17:07:25.116Z"
   },
   {
    "duration": 30,
    "start_time": "2022-03-03T17:07:47.659Z"
   },
   {
    "duration": 32,
    "start_time": "2022-03-03T17:07:58.830Z"
   },
   {
    "duration": 4,
    "start_time": "2022-03-03T17:17:24.325Z"
   },
   {
    "duration": 342,
    "start_time": "2022-03-03T17:17:55.333Z"
   },
   {
    "duration": 366,
    "start_time": "2022-03-03T17:18:08.298Z"
   },
   {
    "duration": 4,
    "start_time": "2022-03-03T17:18:37.025Z"
   },
   {
    "duration": 19,
    "start_time": "2022-03-03T17:18:38.607Z"
   },
   {
    "duration": 19,
    "start_time": "2022-03-03T17:18:54.177Z"
   },
   {
    "duration": 3,
    "start_time": "2022-03-03T17:25:37.298Z"
   },
   {
    "duration": 429,
    "start_time": "2022-03-03T17:25:40.260Z"
   },
   {
    "duration": 4,
    "start_time": "2022-03-03T17:28:00.677Z"
   },
   {
    "duration": 500,
    "start_time": "2022-03-03T17:28:02.897Z"
   },
   {
    "duration": 4,
    "start_time": "2022-03-03T17:28:24.634Z"
   },
   {
    "duration": 457,
    "start_time": "2022-03-03T17:28:26.218Z"
   },
   {
    "duration": 3,
    "start_time": "2022-03-03T17:28:37.514Z"
   },
   {
    "duration": 455,
    "start_time": "2022-03-03T17:28:39.186Z"
   },
   {
    "duration": 4,
    "start_time": "2022-03-03T17:29:55.955Z"
   },
   {
    "duration": 437,
    "start_time": "2022-03-03T17:29:57.856Z"
   },
   {
    "duration": 4,
    "start_time": "2022-03-03T17:32:05.513Z"
   },
   {
    "duration": 27,
    "start_time": "2022-03-03T17:32:07.207Z"
   },
   {
    "duration": 4,
    "start_time": "2022-03-03T17:32:48.704Z"
   },
   {
    "duration": 21,
    "start_time": "2022-03-03T17:32:50.405Z"
   },
   {
    "duration": 36,
    "start_time": "2022-03-03T17:33:00.737Z"
   },
   {
    "duration": 27,
    "start_time": "2022-03-03T17:33:03.295Z"
   },
   {
    "duration": 3,
    "start_time": "2022-03-03T17:33:17.512Z"
   },
   {
    "duration": 25,
    "start_time": "2022-03-03T17:33:18.965Z"
   },
   {
    "duration": 4,
    "start_time": "2022-03-03T17:33:29.212Z"
   },
   {
    "duration": 28,
    "start_time": "2022-03-03T17:33:32.036Z"
   },
   {
    "duration": 20,
    "start_time": "2022-03-03T17:33:47.975Z"
   },
   {
    "duration": 23,
    "start_time": "2022-03-03T17:34:35.622Z"
   },
   {
    "duration": 24,
    "start_time": "2022-03-03T17:34:38.236Z"
   },
   {
    "duration": 18,
    "start_time": "2022-03-03T17:34:40.418Z"
   },
   {
    "duration": 17,
    "start_time": "2022-03-03T17:34:43.750Z"
   },
   {
    "duration": 19,
    "start_time": "2022-03-03T17:34:45.265Z"
   },
   {
    "duration": 18,
    "start_time": "2022-03-03T17:34:47.383Z"
   },
   {
    "duration": 94,
    "start_time": "2022-03-03T17:40:19.885Z"
   },
   {
    "duration": 190,
    "start_time": "2022-03-03T17:48:17.543Z"
   },
   {
    "duration": 196,
    "start_time": "2022-03-03T18:07:02.929Z"
   },
   {
    "duration": 375,
    "start_time": "2022-03-03T18:07:53.453Z"
   },
   {
    "duration": 281,
    "start_time": "2022-03-03T18:08:22.210Z"
   },
   {
    "duration": 336,
    "start_time": "2022-03-03T18:08:31.360Z"
   },
   {
    "duration": 191,
    "start_time": "2022-03-03T18:10:45.669Z"
   },
   {
    "duration": 61,
    "start_time": "2022-03-03T18:10:58.310Z"
   },
   {
    "duration": 57,
    "start_time": "2022-03-03T18:17:35.170Z"
   },
   {
    "duration": 194,
    "start_time": "2022-03-03T18:17:41.060Z"
   },
   {
    "duration": 188,
    "start_time": "2022-03-03T18:17:58.464Z"
   },
   {
    "duration": 211,
    "start_time": "2022-03-03T18:20:25.300Z"
   },
   {
    "duration": 193,
    "start_time": "2022-03-03T18:21:21.475Z"
   },
   {
    "duration": 194,
    "start_time": "2022-03-03T18:21:31.910Z"
   },
   {
    "duration": 202,
    "start_time": "2022-03-03T18:22:07.537Z"
   },
   {
    "duration": 194,
    "start_time": "2022-03-03T18:22:10.321Z"
   },
   {
    "duration": 239,
    "start_time": "2022-03-03T18:22:33.860Z"
   },
   {
    "duration": 258,
    "start_time": "2022-03-03T18:23:03.950Z"
   },
   {
    "duration": 189,
    "start_time": "2022-03-03T18:23:23.558Z"
   },
   {
    "duration": 251,
    "start_time": "2022-03-03T18:24:37.919Z"
   },
   {
    "duration": 287,
    "start_time": "2022-03-03T18:24:46.309Z"
   },
   {
    "duration": 273,
    "start_time": "2022-03-03T18:26:19.911Z"
   },
   {
    "duration": 293,
    "start_time": "2022-03-03T18:28:06.620Z"
   },
   {
    "duration": 228,
    "start_time": "2022-03-03T18:28:47.663Z"
   },
   {
    "duration": 289,
    "start_time": "2022-03-03T18:29:16.462Z"
   },
   {
    "duration": 448,
    "start_time": "2022-03-03T18:30:02.899Z"
   },
   {
    "duration": 283,
    "start_time": "2022-03-03T18:30:28.148Z"
   },
   {
    "duration": 203,
    "start_time": "2022-03-03T18:32:52.838Z"
   },
   {
    "duration": 209,
    "start_time": "2022-03-03T18:33:17.491Z"
   },
   {
    "duration": 181,
    "start_time": "2022-03-03T18:34:11.069Z"
   },
   {
    "duration": 181,
    "start_time": "2022-03-03T18:35:53.221Z"
   },
   {
    "duration": 281,
    "start_time": "2022-03-03T18:38:53.745Z"
   },
   {
    "duration": 91,
    "start_time": "2022-03-03T18:39:36.831Z"
   },
   {
    "duration": 320,
    "start_time": "2022-03-03T18:42:09.402Z"
   },
   {
    "duration": 320,
    "start_time": "2022-03-03T18:42:21.550Z"
   },
   {
    "duration": 75,
    "start_time": "2022-03-03T18:42:38.309Z"
   },
   {
    "duration": 216,
    "start_time": "2022-03-03T18:43:04.712Z"
   },
   {
    "duration": 220,
    "start_time": "2022-03-03T18:43:11.880Z"
   },
   {
    "duration": 123,
    "start_time": "2022-03-03T18:43:55.178Z"
   },
   {
    "duration": 94,
    "start_time": "2022-03-03T18:44:49.260Z"
   },
   {
    "duration": 105,
    "start_time": "2022-03-03T18:45:16.118Z"
   },
   {
    "duration": 90,
    "start_time": "2022-03-03T18:45:42.160Z"
   },
   {
    "duration": 17,
    "start_time": "2022-03-03T18:48:38.232Z"
   },
   {
    "duration": 19,
    "start_time": "2022-03-03T18:49:00.463Z"
   },
   {
    "duration": 8,
    "start_time": "2022-03-03T18:49:24.925Z"
   },
   {
    "duration": 334,
    "start_time": "2022-03-03T18:55:16.821Z"
   },
   {
    "duration": 346,
    "start_time": "2022-03-03T18:58:10.310Z"
   },
   {
    "duration": 345,
    "start_time": "2022-03-03T18:58:24.960Z"
   },
   {
    "duration": 324,
    "start_time": "2022-03-03T18:59:48.807Z"
   },
   {
    "duration": 29,
    "start_time": "2022-03-03T19:00:38.461Z"
   },
   {
    "duration": 437,
    "start_time": "2022-03-03T19:01:58.468Z"
   },
   {
    "duration": 407,
    "start_time": "2022-03-03T19:02:15.486Z"
   },
   {
    "duration": 39,
    "start_time": "2022-03-03T19:02:25.120Z"
   },
   {
    "duration": 37,
    "start_time": "2022-03-03T19:03:15.753Z"
   },
   {
    "duration": 1411,
    "start_time": "2022-03-03T19:05:57.196Z"
   },
   {
    "duration": 34,
    "start_time": "2022-03-03T19:06:11.006Z"
   },
   {
    "duration": 35,
    "start_time": "2022-03-03T19:06:19.229Z"
   },
   {
    "duration": 97,
    "start_time": "2022-03-03T19:08:04.635Z"
   },
   {
    "duration": 359,
    "start_time": "2022-03-03T19:08:11.916Z"
   },
   {
    "duration": 30,
    "start_time": "2022-03-03T19:08:43.675Z"
   },
   {
    "duration": 400,
    "start_time": "2022-03-03T19:08:51.922Z"
   },
   {
    "duration": 347,
    "start_time": "2022-03-03T19:09:34.933Z"
   },
   {
    "duration": 365,
    "start_time": "2022-03-03T19:10:03.034Z"
   },
   {
    "duration": 30,
    "start_time": "2022-03-03T19:10:22.174Z"
   },
   {
    "duration": 32,
    "start_time": "2022-03-03T19:10:49.334Z"
   },
   {
    "duration": 29,
    "start_time": "2022-03-03T19:11:24.603Z"
   },
   {
    "duration": 34,
    "start_time": "2022-03-03T19:11:32.017Z"
   },
   {
    "duration": 27,
    "start_time": "2022-03-03T19:13:57.076Z"
   },
   {
    "duration": 29,
    "start_time": "2022-03-03T19:14:00.017Z"
   },
   {
    "duration": 26,
    "start_time": "2022-03-03T19:14:03.551Z"
   },
   {
    "duration": 18,
    "start_time": "2022-03-03T19:14:06.365Z"
   },
   {
    "duration": 3,
    "start_time": "2022-03-03T19:14:46.733Z"
   },
   {
    "duration": 26,
    "start_time": "2022-03-03T19:14:49.173Z"
   },
   {
    "duration": 27,
    "start_time": "2022-03-03T19:14:51.425Z"
   },
   {
    "duration": 27,
    "start_time": "2022-03-03T19:14:54.891Z"
   },
   {
    "duration": 19,
    "start_time": "2022-03-03T19:14:57.776Z"
   },
   {
    "duration": 30,
    "start_time": "2022-03-03T19:17:35.312Z"
   },
   {
    "duration": 18,
    "start_time": "2022-03-03T19:17:37.685Z"
   },
   {
    "duration": 12,
    "start_time": "2022-03-03T19:18:01.094Z"
   },
   {
    "duration": 11,
    "start_time": "2022-03-03T19:18:02.994Z"
   },
   {
    "duration": 4,
    "start_time": "2022-03-03T19:18:05.860Z"
   },
   {
    "duration": 26,
    "start_time": "2022-03-03T19:18:07.901Z"
   },
   {
    "duration": 17,
    "start_time": "2022-03-03T19:18:10.485Z"
   },
   {
    "duration": 31,
    "start_time": "2022-03-03T19:18:12.917Z"
   },
   {
    "duration": 17,
    "start_time": "2022-03-03T19:18:15.561Z"
   },
   {
    "duration": 4,
    "start_time": "2022-03-03T19:19:43.973Z"
   },
   {
    "duration": 24,
    "start_time": "2022-03-03T19:19:46.232Z"
   },
   {
    "duration": 15,
    "start_time": "2022-03-03T19:19:51.826Z"
   },
   {
    "duration": 23,
    "start_time": "2022-03-03T19:19:54.934Z"
   },
   {
    "duration": 16,
    "start_time": "2022-03-03T19:19:56.924Z"
   },
   {
    "duration": 4,
    "start_time": "2022-03-03T19:20:38.733Z"
   },
   {
    "duration": 20,
    "start_time": "2022-03-03T19:20:41.222Z"
   },
   {
    "duration": 3,
    "start_time": "2022-03-03T19:21:04.776Z"
   },
   {
    "duration": 18,
    "start_time": "2022-03-03T19:21:06.644Z"
   },
   {
    "duration": 14,
    "start_time": "2022-03-03T19:21:10.755Z"
   },
   {
    "duration": 16,
    "start_time": "2022-03-03T19:21:13.825Z"
   },
   {
    "duration": 15,
    "start_time": "2022-03-03T19:21:15.955Z"
   },
   {
    "duration": 17,
    "start_time": "2022-03-03T19:21:18.330Z"
   },
   {
    "duration": 16,
    "start_time": "2022-03-03T19:21:20.800Z"
   },
   {
    "duration": 72,
    "start_time": "2022-03-03T19:21:40.901Z"
   },
   {
    "duration": 12,
    "start_time": "2022-03-03T19:21:46.502Z"
   },
   {
    "duration": 10,
    "start_time": "2022-03-03T19:21:47.885Z"
   },
   {
    "duration": 4,
    "start_time": "2022-03-03T19:21:49.682Z"
   },
   {
    "duration": 19,
    "start_time": "2022-03-03T19:21:52.852Z"
   },
   {
    "duration": 13,
    "start_time": "2022-03-03T19:21:54.874Z"
   },
   {
    "duration": 19,
    "start_time": "2022-03-03T19:21:57.024Z"
   },
   {
    "duration": 13,
    "start_time": "2022-03-03T19:21:59.094Z"
   },
   {
    "duration": 9,
    "start_time": "2022-03-03T19:25:38.766Z"
   },
   {
    "duration": 9,
    "start_time": "2022-03-03T19:25:58.348Z"
   },
   {
    "duration": 5,
    "start_time": "2022-03-03T19:26:09.263Z"
   },
   {
    "duration": 3,
    "start_time": "2022-03-03T19:31:23.251Z"
   },
   {
    "duration": 2,
    "start_time": "2022-03-03T19:31:30.503Z"
   },
   {
    "duration": 3,
    "start_time": "2022-03-03T19:31:42.112Z"
   },
   {
    "duration": 4,
    "start_time": "2022-03-03T19:31:53.912Z"
   },
   {
    "duration": 9,
    "start_time": "2022-03-03T19:32:20.224Z"
   },
   {
    "duration": 5,
    "start_time": "2022-03-03T19:32:22.254Z"
   },
   {
    "duration": 6,
    "start_time": "2022-03-03T19:33:17.174Z"
   },
   {
    "duration": 5,
    "start_time": "2022-03-03T19:33:30.325Z"
   },
   {
    "duration": 3,
    "start_time": "2022-03-03T19:36:13.523Z"
   },
   {
    "duration": 135,
    "start_time": "2022-03-03T19:36:13.531Z"
   },
   {
    "duration": 6,
    "start_time": "2022-03-03T19:36:13.669Z"
   },
   {
    "duration": 31,
    "start_time": "2022-03-03T19:36:13.678Z"
   },
   {
    "duration": 4,
    "start_time": "2022-03-03T19:36:13.712Z"
   },
   {
    "duration": 32,
    "start_time": "2022-03-03T19:36:13.718Z"
   },
   {
    "duration": 4,
    "start_time": "2022-03-03T19:36:13.751Z"
   },
   {
    "duration": 27,
    "start_time": "2022-03-03T19:36:13.757Z"
   },
   {
    "duration": 58,
    "start_time": "2022-03-03T19:36:13.788Z"
   },
   {
    "duration": 29,
    "start_time": "2022-03-03T19:36:13.849Z"
   },
   {
    "duration": 70,
    "start_time": "2022-03-03T19:36:13.879Z"
   },
   {
    "duration": 60,
    "start_time": "2022-03-03T19:36:13.951Z"
   },
   {
    "duration": 68,
    "start_time": "2022-03-03T19:36:14.012Z"
   },
   {
    "duration": 239,
    "start_time": "2022-03-03T19:36:14.082Z"
   },
   {
    "duration": 3,
    "start_time": "2022-03-03T19:36:14.323Z"
   },
   {
    "duration": 26,
    "start_time": "2022-03-03T19:36:14.328Z"
   },
   {
    "duration": 12,
    "start_time": "2022-03-03T19:36:14.356Z"
   },
   {
    "duration": 12,
    "start_time": "2022-03-03T19:36:14.370Z"
   },
   {
    "duration": 73,
    "start_time": "2022-03-03T19:36:14.384Z"
   },
   {
    "duration": 4,
    "start_time": "2022-03-03T19:36:14.459Z"
   },
   {
    "duration": 34,
    "start_time": "2022-03-03T19:36:14.465Z"
   },
   {
    "duration": 42,
    "start_time": "2022-03-03T19:36:14.502Z"
   },
   {
    "duration": 15,
    "start_time": "2022-03-03T19:36:14.546Z"
   },
   {
    "duration": 16,
    "start_time": "2022-03-03T19:36:14.564Z"
   },
   {
    "duration": 19,
    "start_time": "2022-03-03T19:36:14.582Z"
   },
   {
    "duration": 49,
    "start_time": "2022-03-03T19:36:14.603Z"
   },
   {
    "duration": 83,
    "start_time": "2022-03-03T19:36:14.654Z"
   },
   {
    "duration": 17,
    "start_time": "2022-03-03T19:36:14.739Z"
   },
   {
    "duration": 15,
    "start_time": "2022-03-03T19:36:14.758Z"
   },
   {
    "duration": 5,
    "start_time": "2022-03-03T19:36:14.775Z"
   },
   {
    "duration": 24,
    "start_time": "2022-03-03T19:36:14.782Z"
   },
   {
    "duration": 34,
    "start_time": "2022-03-03T19:36:14.808Z"
   },
   {
    "duration": 17,
    "start_time": "2022-03-03T19:36:14.844Z"
   },
   {
    "duration": 11,
    "start_time": "2022-03-03T19:36:14.863Z"
   },
   {
    "duration": 9,
    "start_time": "2022-03-03T19:36:14.875Z"
   },
   {
    "duration": 4,
    "start_time": "2022-03-03T19:36:14.886Z"
   },
   {
    "duration": 8,
    "start_time": "2022-03-03T19:36:14.891Z"
   },
   {
    "duration": 5,
    "start_time": "2022-03-03T19:36:14.937Z"
   },
   {
    "duration": 408,
    "start_time": "2022-03-14T07:45:01.042Z"
   },
   {
    "duration": 325,
    "start_time": "2022-03-14T07:45:07.864Z"
   },
   {
    "duration": 293,
    "start_time": "2022-03-14T07:45:52.932Z"
   },
   {
    "duration": 338,
    "start_time": "2022-03-14T07:46:03.853Z"
   },
   {
    "duration": 272,
    "start_time": "2022-03-14T07:46:11.659Z"
   },
   {
    "duration": 793,
    "start_time": "2022-03-14T07:46:21.172Z"
   },
   {
    "duration": 200,
    "start_time": "2022-03-14T07:46:23.033Z"
   },
   {
    "duration": 114,
    "start_time": "2022-03-14T07:46:30.182Z"
   },
   {
    "duration": 404,
    "start_time": "2022-03-14T07:46:32.687Z"
   },
   {
    "duration": 437,
    "start_time": "2022-03-14T07:46:48.667Z"
   },
   {
    "duration": 67,
    "start_time": "2022-03-14T07:47:51.500Z"
   },
   {
    "duration": 4,
    "start_time": "2022-03-14T07:48:28.432Z"
   },
   {
    "duration": 231,
    "start_time": "2022-03-14T07:48:28.439Z"
   },
   {
    "duration": 10,
    "start_time": "2022-03-14T07:48:28.673Z"
   },
   {
    "duration": 38,
    "start_time": "2022-03-14T07:48:28.686Z"
   },
   {
    "duration": 5,
    "start_time": "2022-03-14T07:48:28.727Z"
   },
   {
    "duration": 58,
    "start_time": "2022-03-14T07:48:28.735Z"
   },
   {
    "duration": 5,
    "start_time": "2022-03-14T07:48:28.796Z"
   },
   {
    "duration": 43,
    "start_time": "2022-03-14T07:48:28.803Z"
   },
   {
    "duration": 45,
    "start_time": "2022-03-14T07:48:28.850Z"
   },
   {
    "duration": 44,
    "start_time": "2022-03-14T07:48:28.899Z"
   },
   {
    "duration": 111,
    "start_time": "2022-03-14T07:48:28.946Z"
   },
   {
    "duration": 95,
    "start_time": "2022-03-14T07:48:29.060Z"
   },
   {
    "duration": 93,
    "start_time": "2022-03-14T07:48:29.158Z"
   },
   {
    "duration": 405,
    "start_time": "2022-03-14T07:48:29.253Z"
   },
   {
    "duration": 14,
    "start_time": "2022-03-14T07:48:29.660Z"
   },
   {
    "duration": 32,
    "start_time": "2022-03-14T07:48:29.676Z"
   },
   {
    "duration": 79,
    "start_time": "2022-03-14T07:48:29.711Z"
   },
   {
    "duration": 16,
    "start_time": "2022-03-14T07:48:29.793Z"
   },
   {
    "duration": 74,
    "start_time": "2022-03-14T07:48:29.812Z"
   },
   {
    "duration": 4,
    "start_time": "2022-03-14T07:48:29.890Z"
   },
   {
    "duration": 33,
    "start_time": "2022-03-14T07:48:29.897Z"
   },
   {
    "duration": 44,
    "start_time": "2022-03-14T07:48:29.933Z"
   },
   {
    "duration": 21,
    "start_time": "2022-03-14T07:48:29.979Z"
   },
   {
    "duration": 22,
    "start_time": "2022-03-14T07:48:30.003Z"
   },
   {
    "duration": 60,
    "start_time": "2022-03-14T07:48:30.027Z"
   },
   {
    "duration": 23,
    "start_time": "2022-03-14T07:48:30.090Z"
   },
   {
    "duration": 130,
    "start_time": "2022-03-14T07:48:30.119Z"
   },
   {
    "duration": 25,
    "start_time": "2022-03-14T07:48:30.253Z"
   },
   {
    "duration": 15,
    "start_time": "2022-03-14T07:48:30.281Z"
   },
   {
    "duration": 11,
    "start_time": "2022-03-14T07:48:30.298Z"
   },
   {
    "duration": 39,
    "start_time": "2022-03-14T07:48:30.312Z"
   },
   {
    "duration": 19,
    "start_time": "2022-03-14T07:48:30.374Z"
   },
   {
    "duration": 31,
    "start_time": "2022-03-14T07:48:30.395Z"
   },
   {
    "duration": 16,
    "start_time": "2022-03-14T07:48:30.428Z"
   },
   {
    "duration": 37,
    "start_time": "2022-03-14T07:48:30.446Z"
   },
   {
    "duration": 17,
    "start_time": "2022-03-14T07:48:30.485Z"
   },
   {
    "duration": 32,
    "start_time": "2022-03-14T07:48:30.504Z"
   },
   {
    "duration": 24,
    "start_time": "2022-03-14T07:48:30.538Z"
   },
   {
    "duration": 535,
    "start_time": "2022-03-14T18:31:18.251Z"
   },
   {
    "duration": 3647,
    "start_time": "2022-03-14T18:31:18.788Z"
   },
   {
    "duration": 2873,
    "start_time": "2022-03-14T18:31:22.437Z"
   },
   {
    "duration": 1002,
    "start_time": "2022-03-14T18:31:25.311Z"
   },
   {
    "duration": 2574,
    "start_time": "2022-03-14T18:31:26.316Z"
   },
   {
    "duration": 2693,
    "start_time": "2022-03-14T18:31:28.892Z"
   },
   {
    "duration": 1371,
    "start_time": "2022-03-14T18:31:31.587Z"
   },
   {
    "duration": 2231,
    "start_time": "2022-03-14T18:31:32.959Z"
   },
   {
    "duration": 974,
    "start_time": "2022-03-14T18:31:35.192Z"
   },
   {
    "duration": 1169,
    "start_time": "2022-03-14T18:31:36.168Z"
   },
   {
    "duration": 1231,
    "start_time": "2022-03-14T18:31:37.339Z"
   },
   {
    "duration": 1221,
    "start_time": "2022-03-14T18:31:38.571Z"
   },
   {
    "duration": 1786,
    "start_time": "2022-03-14T18:31:39.793Z"
   },
   {
    "duration": 1631,
    "start_time": "2022-03-14T18:31:41.581Z"
   },
   {
    "duration": 1822,
    "start_time": "2022-03-14T18:31:43.214Z"
   },
   {
    "duration": 3835,
    "start_time": "2022-03-14T18:31:45.038Z"
   },
   {
    "duration": 2853,
    "start_time": "2022-03-14T18:31:48.874Z"
   },
   {
    "duration": 2383,
    "start_time": "2022-03-14T18:31:51.729Z"
   },
   {
    "duration": 995,
    "start_time": "2022-03-14T18:31:54.114Z"
   },
   {
    "duration": 1188,
    "start_time": "2022-03-14T18:31:55.110Z"
   },
   {
    "duration": 3440,
    "start_time": "2022-03-14T18:31:56.300Z"
   },
   {
    "duration": 6425,
    "start_time": "2022-03-14T18:31:59.742Z"
   },
   {
    "duration": 3671,
    "start_time": "2022-03-14T18:32:06.169Z"
   },
   {
    "duration": 3723,
    "start_time": "2022-03-14T18:32:09.841Z"
   },
   {
    "duration": 5597,
    "start_time": "2022-03-14T18:32:13.565Z"
   },
   {
    "duration": 2090,
    "start_time": "2022-03-14T18:32:19.164Z"
   },
   {
    "duration": 2046,
    "start_time": "2022-03-14T18:32:21.257Z"
   },
   {
    "duration": 3482,
    "start_time": "2022-03-14T18:32:23.305Z"
   },
   {
    "duration": 4221,
    "start_time": "2022-03-14T18:32:26.789Z"
   },
   {
    "duration": 3659,
    "start_time": "2022-03-14T18:32:31.012Z"
   },
   {
    "duration": 1344,
    "start_time": "2022-03-14T18:32:34.672Z"
   },
   {
    "duration": 531,
    "start_time": "2022-03-14T18:32:36.018Z"
   },
   {
    "duration": 1430,
    "start_time": "2022-03-14T18:32:36.551Z"
   },
   {
    "duration": 535,
    "start_time": "2022-03-14T18:32:37.983Z"
   },
   {
    "duration": 416,
    "start_time": "2022-03-14T18:32:38.519Z"
   },
   {
    "duration": 462,
    "start_time": "2022-03-14T18:32:38.936Z"
   },
   {
    "duration": 480,
    "start_time": "2022-03-14T18:32:39.399Z"
   },
   {
    "duration": 858,
    "start_time": "2022-03-14T18:32:39.881Z"
   },
   {
    "duration": 275,
    "start_time": "2022-03-15T17:19:49.302Z"
   },
   {
    "duration": 596,
    "start_time": "2022-03-15T17:20:32.027Z"
   },
   {
    "duration": 3,
    "start_time": "2022-03-15T17:29:00.692Z"
   },
   {
    "duration": 199,
    "start_time": "2022-03-15T17:29:03.034Z"
   },
   {
    "duration": 22,
    "start_time": "2022-03-15T17:29:11.551Z"
   },
   {
    "duration": 48,
    "start_time": "2022-03-15T17:30:43.272Z"
   },
   {
    "duration": 5,
    "start_time": "2022-03-15T17:35:52.537Z"
   },
   {
    "duration": 224,
    "start_time": "2022-03-15T17:35:55.929Z"
   },
   {
    "duration": 5445,
    "start_time": "2022-03-15T17:36:16.192Z"
   },
   {
    "duration": -955,
    "start_time": "2022-03-15T17:36:22.594Z"
   },
   {
    "duration": 4,
    "start_time": "2022-03-15T17:36:22.593Z"
   },
   {
    "duration": 216,
    "start_time": "2022-03-15T17:36:29.988Z"
   },
   {
    "duration": 291,
    "start_time": "2022-03-15T17:40:04.737Z"
   },
   {
    "duration": 3,
    "start_time": "2022-03-15T17:42:02.637Z"
   },
   {
    "duration": 166,
    "start_time": "2022-03-15T17:42:02.642Z"
   },
   {
    "duration": 11,
    "start_time": "2022-03-15T17:42:02.811Z"
   },
   {
    "duration": 54,
    "start_time": "2022-03-15T17:42:02.825Z"
   },
   {
    "duration": 5,
    "start_time": "2022-03-15T17:42:02.881Z"
   },
   {
    "duration": 23,
    "start_time": "2022-03-15T17:42:02.888Z"
   },
   {
    "duration": 5,
    "start_time": "2022-03-15T17:42:02.914Z"
   },
   {
    "duration": 47,
    "start_time": "2022-03-15T17:42:02.921Z"
   },
   {
    "duration": 20,
    "start_time": "2022-03-15T17:42:02.969Z"
   },
   {
    "duration": 24,
    "start_time": "2022-03-15T17:42:02.991Z"
   },
   {
    "duration": 79,
    "start_time": "2022-03-15T17:42:03.017Z"
   },
   {
    "duration": 100,
    "start_time": "2022-03-15T17:42:03.098Z"
   },
   {
    "duration": 83,
    "start_time": "2022-03-15T17:42:03.200Z"
   },
   {
    "duration": 78,
    "start_time": "2022-03-15T17:42:03.285Z"
   },
   {
    "duration": 4,
    "start_time": "2022-03-15T17:42:03.365Z"
   },
   {
    "duration": 28,
    "start_time": "2022-03-15T17:42:03.371Z"
   },
   {
    "duration": 78,
    "start_time": "2022-03-15T17:42:03.401Z"
   },
   {
    "duration": 11,
    "start_time": "2022-03-15T17:42:03.481Z"
   },
   {
    "duration": 33,
    "start_time": "2022-03-15T17:42:03.495Z"
   },
   {
    "duration": 4,
    "start_time": "2022-03-15T17:42:03.531Z"
   },
   {
    "duration": 19,
    "start_time": "2022-03-15T17:42:03.563Z"
   },
   {
    "duration": 15,
    "start_time": "2022-03-15T17:42:03.584Z"
   },
   {
    "duration": 15,
    "start_time": "2022-03-15T17:42:03.600Z"
   },
   {
    "duration": 51,
    "start_time": "2022-03-15T17:42:03.617Z"
   },
   {
    "duration": 25,
    "start_time": "2022-03-15T17:42:03.670Z"
   },
   {
    "duration": 17,
    "start_time": "2022-03-15T17:42:03.696Z"
   },
   {
    "duration": 104,
    "start_time": "2022-03-15T17:42:03.714Z"
   },
   {
    "duration": 21,
    "start_time": "2022-03-15T17:42:03.819Z"
   },
   {
    "duration": 30,
    "start_time": "2022-03-15T17:42:03.842Z"
   },
   {
    "duration": 4,
    "start_time": "2022-03-15T17:42:03.873Z"
   },
   {
    "duration": 27,
    "start_time": "2022-03-15T17:42:03.879Z"
   },
   {
    "duration": 12,
    "start_time": "2022-03-15T17:42:03.908Z"
   },
   {
    "duration": 43,
    "start_time": "2022-03-15T17:42:03.922Z"
   },
   {
    "duration": 16,
    "start_time": "2022-03-15T17:42:03.967Z"
   },
   {
    "duration": 11,
    "start_time": "2022-03-15T17:42:03.986Z"
   },
   {
    "duration": 6,
    "start_time": "2022-03-15T17:42:03.999Z"
   },
   {
    "duration": 13,
    "start_time": "2022-03-15T17:42:04.007Z"
   },
   {
    "duration": 11,
    "start_time": "2022-03-15T17:42:04.022Z"
   },
   {
    "duration": 27,
    "start_time": "2022-03-15T17:45:08.681Z"
   },
   {
    "duration": 72,
    "start_time": "2022-03-15T17:45:23.608Z"
   },
   {
    "duration": 4,
    "start_time": "2022-03-15T17:45:35.485Z"
   },
   {
    "duration": 20,
    "start_time": "2022-03-15T17:45:38.331Z"
   },
   {
    "duration": 19,
    "start_time": "2022-03-15T17:45:46.079Z"
   },
   {
    "duration": 14,
    "start_time": "2022-03-15T17:45:54.053Z"
   },
   {
    "duration": 3,
    "start_time": "2022-03-15T17:46:06.330Z"
   },
   {
    "duration": 19,
    "start_time": "2022-03-15T17:46:11.601Z"
   },
   {
    "duration": 69,
    "start_time": "2022-03-15T17:47:31.618Z"
   },
   {
    "duration": 42,
    "start_time": "2022-03-15T17:47:50.026Z"
   },
   {
    "duration": 49,
    "start_time": "2022-03-15T17:48:12.664Z"
   },
   {
    "duration": 31,
    "start_time": "2022-03-15T17:48:22.857Z"
   },
   {
    "duration": 2,
    "start_time": "2022-03-15T17:48:29.793Z"
   },
   {
    "duration": 140,
    "start_time": "2022-03-15T17:48:29.799Z"
   },
   {
    "duration": 22,
    "start_time": "2022-03-15T17:48:29.941Z"
   },
   {
    "duration": 23,
    "start_time": "2022-03-15T17:48:29.966Z"
   },
   {
    "duration": 4,
    "start_time": "2022-03-15T17:48:29.991Z"
   },
   {
    "duration": 19,
    "start_time": "2022-03-15T17:48:29.997Z"
   },
   {
    "duration": 4,
    "start_time": "2022-03-15T17:48:30.018Z"
   },
   {
    "duration": 60,
    "start_time": "2022-03-15T17:48:30.024Z"
   },
   {
    "duration": 25,
    "start_time": "2022-03-15T17:48:30.087Z"
   },
   {
    "duration": 21,
    "start_time": "2022-03-15T17:48:30.114Z"
   },
   {
    "duration": 82,
    "start_time": "2022-03-15T17:48:30.137Z"
   },
   {
    "duration": 67,
    "start_time": "2022-03-15T17:48:30.221Z"
   },
   {
    "duration": 52,
    "start_time": "2022-03-15T17:48:30.290Z"
   },
   {
    "duration": 51,
    "start_time": "2022-03-15T17:48:30.343Z"
   },
   {
    "duration": 3,
    "start_time": "2022-03-15T17:48:30.396Z"
   },
   {
    "duration": 39,
    "start_time": "2022-03-15T17:48:30.401Z"
   },
   {
    "duration": 45,
    "start_time": "2022-03-15T17:48:30.442Z"
   },
   {
    "duration": 31,
    "start_time": "2022-03-15T17:48:30.489Z"
   },
   {
    "duration": 40,
    "start_time": "2022-03-15T17:48:30.522Z"
   },
   {
    "duration": 4,
    "start_time": "2022-03-15T17:48:30.564Z"
   },
   {
    "duration": 33,
    "start_time": "2022-03-15T17:48:30.569Z"
   },
   {
    "duration": 20,
    "start_time": "2022-03-15T17:48:30.603Z"
   },
   {
    "duration": 38,
    "start_time": "2022-03-15T17:48:30.624Z"
   },
   {
    "duration": 41,
    "start_time": "2022-03-15T17:48:30.665Z"
   },
   {
    "duration": 18,
    "start_time": "2022-03-15T17:48:30.708Z"
   },
   {
    "duration": 13,
    "start_time": "2022-03-15T17:48:30.728Z"
   },
   {
    "duration": 67,
    "start_time": "2022-03-15T17:48:30.743Z"
   },
   {
    "duration": 22,
    "start_time": "2022-03-15T17:48:30.812Z"
   },
   {
    "duration": 33,
    "start_time": "2022-03-15T17:48:30.836Z"
   },
   {
    "duration": 4,
    "start_time": "2022-03-15T17:48:30.870Z"
   },
   {
    "duration": 25,
    "start_time": "2022-03-15T17:48:30.876Z"
   },
   {
    "duration": 11,
    "start_time": "2022-03-15T17:48:30.903Z"
   },
   {
    "duration": 18,
    "start_time": "2022-03-15T17:48:30.916Z"
   },
   {
    "duration": 12,
    "start_time": "2022-03-15T17:48:30.963Z"
   },
   {
    "duration": 10,
    "start_time": "2022-03-15T17:48:30.977Z"
   },
   {
    "duration": 9,
    "start_time": "2022-03-15T17:48:30.989Z"
   },
   {
    "duration": 11,
    "start_time": "2022-03-15T17:48:31.000Z"
   },
   {
    "duration": 10,
    "start_time": "2022-03-15T17:48:31.012Z"
   }
  ],
  "colab": {
   "collapsed_sections": [
    "E0vqbgi9ay0H",
    "VUC88oWjTJw2"
   ],
   "name": "yandex_music_project_2021.2.ipynb",
   "provenance": []
  },
  "kernelspec": {
   "display_name": "Python 3",
   "language": "python",
   "name": "python3"
  },
  "language_info": {
   "codemirror_mode": {
    "name": "ipython",
    "version": 3
   },
   "file_extension": ".py",
   "mimetype": "text/x-python",
   "name": "python",
   "nbconvert_exporter": "python",
   "pygments_lexer": "ipython3",
   "version": "3.8.8"
  },
  "toc": {
   "base_numbering": 1,
   "nav_menu": {},
   "number_sections": true,
   "sideBar": true,
   "skip_h1_title": true,
   "title_cell": "Table of Contents",
   "title_sidebar": "Contents",
   "toc_cell": false,
   "toc_position": {},
   "toc_section_display": true,
   "toc_window_display": true
  }
 },
 "nbformat": 4,
 "nbformat_minor": 1
}
