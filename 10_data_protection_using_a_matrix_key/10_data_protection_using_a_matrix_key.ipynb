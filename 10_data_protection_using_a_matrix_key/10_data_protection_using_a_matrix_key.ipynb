{
 "cells": [
  {
   "cell_type": "markdown",
   "metadata": {
    "toc": true
   },
   "source": [
    "<h1>Содержание<span class=\"tocSkip\"></span></h1>\n",
    "<div class=\"toc\"><ul class=\"toc-item\"><li><span><a href=\"#Загрузка-данных\" data-toc-modified-id=\"Загрузка-данных-1\"><span class=\"toc-item-num\">1&nbsp;&nbsp;</span>Загрузка данных</a></span></li><li><span><a href=\"#Умножение-матриц\" data-toc-modified-id=\"Умножение-матриц-2\"><span class=\"toc-item-num\">2&nbsp;&nbsp;</span>Умножение матриц</a></span></li><li><span><a href=\"#Алгоритм-преобразования\" data-toc-modified-id=\"Алгоритм-преобразования-3\"><span class=\"toc-item-num\">3&nbsp;&nbsp;</span>Алгоритм преобразования</a></span></li><li><span><a href=\"#Проверка-алгоритма\" data-toc-modified-id=\"Проверка-алгоритма-4\"><span class=\"toc-item-num\">4&nbsp;&nbsp;</span>Проверка алгоритма</a></span></li></ul></div>"
   ]
  },
  {
   "cell_type": "markdown",
   "metadata": {},
   "source": [
    "# Защита персональных данных клиентов"
   ]
  },
  {
   "cell_type": "markdown",
   "metadata": {},
   "source": [
    "Нужно защитить данные клиентов страховой компании. Разрабатывается такой метод преобразования данных, чтобы по ним было сложно восстановить персональную информацию.\n",
    "\n",
    "Нужно защитить данные, чтобы при преобразовании качество моделей машинного обучения не ухудшилось. Подбирать наилучшую модель не требуется."
   ]
  },
  {
   "cell_type": "markdown",
   "metadata": {},
   "source": [
    "## Загрузка данных"
   ]
  },
  {
   "cell_type": "code",
   "execution_count": 1,
   "metadata": {},
   "outputs": [],
   "source": [
    "# Импорт библиотеки pandas\n",
    "import pandas as pd\n",
    "# Импорт библиотеки numpy\n",
    "import numpy as np\n",
    "# Импорт библиотеки matplotlib\n",
    "import matplotlib.pyplot as plt\n",
    "# Импорт библиотеки math\n",
    "import math\n",
    "# Импорт библиотеки sklearn и необходимых компонентов\n",
    "from sklearn.model_selection import train_test_split\n",
    "from sklearn.linear_model import LinearRegression\n",
    "from sklearn.model_selection import RandomizedSearchCV\n",
    "from sklearn.preprocessing import StandardScaler \n",
    "from sklearn.metrics import r2_score\n",
    "from sklearn.metrics import mean_squared_error\n",
    "from sklearn.metrics import mean_absolute_error \n",
    "# Удаление ложных предупреждений\n",
    "pd.options.mode.chained_assignment = None  # default='warn'\n",
    "# Сброс ограничений на число столбцов\n",
    "pd.set_option('display.max_columns', None)"
   ]
  },
  {
   "cell_type": "markdown",
   "metadata": {},
   "source": [
    "<font color='DarkBlue'> \n",
    "📌 Импортированы все библиотеки, используемые далее в проекте, и скорректированы настройки <br>\n",
    "</font> "
   ]
  },
  {
   "cell_type": "code",
   "execution_count": 2,
   "metadata": {},
   "outputs": [
    {
     "name": "stdout",
     "output_type": "stream",
     "text": [
      "\u001b[1m\u001b[43m ----- Просмотр общей информации о dataframe ----- \u001b[0m\n",
      "<class 'pandas.core.frame.DataFrame'>\n",
      "RangeIndex: 5000 entries, 0 to 4999\n",
      "Data columns (total 5 columns):\n",
      " #   Column             Non-Null Count  Dtype  \n",
      "---  ------             --------------  -----  \n",
      " 0   Пол                5000 non-null   int64  \n",
      " 1   Возраст            5000 non-null   float64\n",
      " 2   Зарплата           5000 non-null   float64\n",
      " 3   Члены семьи        5000 non-null   int64  \n",
      " 4   Страховые выплаты  5000 non-null   int64  \n",
      "dtypes: float64(2), int64(3)\n",
      "memory usage: 195.4 KB\n",
      "\u001b[1m\u001b[43m ----- Информация о заголовках полей dataframe ----- \u001b[0m\n",
      "Index(['Пол', 'Возраст', 'Зарплата', 'Члены семьи', 'Страховые выплаты'], dtype='object')\n",
      "\u001b[1m\u001b[43m ----- Информация о типах полей dataframe ----- \u001b[0m\n",
      "Пол                    int64\n",
      "Возраст              float64\n",
      "Зарплата             float64\n",
      "Члены семьи            int64\n",
      "Страховые выплаты      int64\n",
      "dtype: object\n",
      "\u001b[1m\u001b[43m ----- Отображение на экране в читаемом виде первых записей таблицы dataframe для визуального анализа ----- \u001b[0m\n"
     ]
    },
    {
     "data": {
      "text/html": [
       "<div>\n",
       "<style scoped>\n",
       "    .dataframe tbody tr th:only-of-type {\n",
       "        vertical-align: middle;\n",
       "    }\n",
       "\n",
       "    .dataframe tbody tr th {\n",
       "        vertical-align: top;\n",
       "    }\n",
       "\n",
       "    .dataframe thead th {\n",
       "        text-align: right;\n",
       "    }\n",
       "</style>\n",
       "<table border=\"1\" class=\"dataframe\">\n",
       "  <thead>\n",
       "    <tr style=\"text-align: right;\">\n",
       "      <th></th>\n",
       "      <th>Пол</th>\n",
       "      <th>Возраст</th>\n",
       "      <th>Зарплата</th>\n",
       "      <th>Члены семьи</th>\n",
       "      <th>Страховые выплаты</th>\n",
       "    </tr>\n",
       "  </thead>\n",
       "  <tbody>\n",
       "    <tr>\n",
       "      <th>0</th>\n",
       "      <td>1</td>\n",
       "      <td>41.0</td>\n",
       "      <td>49600.0</td>\n",
       "      <td>1</td>\n",
       "      <td>0</td>\n",
       "    </tr>\n",
       "    <tr>\n",
       "      <th>1</th>\n",
       "      <td>0</td>\n",
       "      <td>46.0</td>\n",
       "      <td>38000.0</td>\n",
       "      <td>1</td>\n",
       "      <td>1</td>\n",
       "    </tr>\n",
       "    <tr>\n",
       "      <th>2</th>\n",
       "      <td>0</td>\n",
       "      <td>29.0</td>\n",
       "      <td>21000.0</td>\n",
       "      <td>0</td>\n",
       "      <td>0</td>\n",
       "    </tr>\n",
       "    <tr>\n",
       "      <th>3</th>\n",
       "      <td>0</td>\n",
       "      <td>21.0</td>\n",
       "      <td>41700.0</td>\n",
       "      <td>2</td>\n",
       "      <td>0</td>\n",
       "    </tr>\n",
       "    <tr>\n",
       "      <th>4</th>\n",
       "      <td>1</td>\n",
       "      <td>28.0</td>\n",
       "      <td>26100.0</td>\n",
       "      <td>0</td>\n",
       "      <td>0</td>\n",
       "    </tr>\n",
       "  </tbody>\n",
       "</table>\n",
       "</div>"
      ],
      "text/plain": [
       "   Пол  Возраст  Зарплата  Члены семьи  Страховые выплаты\n",
       "0    1     41.0   49600.0            1                  0\n",
       "1    0     46.0   38000.0            1                  1\n",
       "2    0     29.0   21000.0            0                  0\n",
       "3    0     21.0   41700.0            2                  0\n",
       "4    1     28.0   26100.0            0                  0"
      ]
     },
     "metadata": {},
     "output_type": "display_data"
    },
    {
     "name": "stdout",
     "output_type": "stream",
     "text": [
      "Количество явных дубликатов: 153\n"
     ]
    }
   ],
   "source": [
    "# Загрузка таблицы в память переменной df типа dataframe\n",
    "df = pd.read_csv('/datasets/insurance.csv')\n",
    "# Разделители для удобства отображения информации указаны в виде отдельных пунктов 'print(\"\\033[1m\\033[43m {}\".format('----- Text -----'),\"\\033[0m\")'\n",
    "print('\\033[1m\\033[43m {}'.format('----- Просмотр общей информации о dataframe -----'),'\\033[0m')\n",
    "df.info()\n",
    "print('\\033[1m\\033[43m {}'.format('----- Информация о заголовках полей dataframe -----'),'\\033[0m')\n",
    "print(df.columns)\n",
    "print('\\033[1m\\033[43m {}'.format('----- Информация о типах полей dataframe -----'),'\\033[0m')\n",
    "print(df.dtypes)\n",
    "print('\\033[1m\\033[43m {}'.format('----- Отображение на экране в читаемом виде первых записей таблицы dataframe для визуального анализа -----'),'\\033[0m')\n",
    "display(df.head())\n",
    "print('Количество явных дубликатов:', df.duplicated().sum())"
   ]
  },
  {
   "cell_type": "markdown",
   "metadata": {},
   "source": [
    "<font color='DarkBlue'> \n",
    "📌 В ходе первичного анализа данных сформированы следующие выводы: <br>\n",
    "    \n",
    "1. Названия заголовков не представлены в условно общепринятом формате 'змеиный_регистр'. Допускается оставить их названия в первоначальном виде. Следовательно, отсутствует необходимость в редактировании заголовков \n",
    "2. Присутствуют явные дубликаты, рекомендуется удаление соответстсующих строк\n",
    "3. Пропуски в столбцах не обнаружены\n",
    "4. Тип данных некоторых числовых полей желательно преобразовать для уменьшения требуемого объема памяти хранения данных\n",
    "5. В данных таблицы некорректные значения не наблюдаются. Необходимо детально рассмотреть параметры каждого столбца\n",
    "</font> "
   ]
  },
  {
   "cell_type": "code",
   "execution_count": 3,
   "metadata": {},
   "outputs": [
    {
     "data": {
      "text/html": [
       "<div>\n",
       "<style scoped>\n",
       "    .dataframe tbody tr th:only-of-type {\n",
       "        vertical-align: middle;\n",
       "    }\n",
       "\n",
       "    .dataframe tbody tr th {\n",
       "        vertical-align: top;\n",
       "    }\n",
       "\n",
       "    .dataframe thead th {\n",
       "        text-align: right;\n",
       "    }\n",
       "</style>\n",
       "<table border=\"1\" class=\"dataframe\">\n",
       "  <thead>\n",
       "    <tr style=\"text-align: right;\">\n",
       "      <th></th>\n",
       "      <th>Пол</th>\n",
       "      <th>Возраст</th>\n",
       "      <th>Зарплата</th>\n",
       "      <th>Члены семьи</th>\n",
       "      <th>Страховые выплаты</th>\n",
       "    </tr>\n",
       "  </thead>\n",
       "  <tbody>\n",
       "    <tr>\n",
       "      <th>count</th>\n",
       "      <td>4847.000000</td>\n",
       "      <td>4847.000000</td>\n",
       "      <td>4847.000000</td>\n",
       "      <td>4847.000000</td>\n",
       "      <td>4847.000000</td>\n",
       "    </tr>\n",
       "    <tr>\n",
       "      <th>mean</th>\n",
       "      <td>0.498453</td>\n",
       "      <td>31.023932</td>\n",
       "      <td>39895.811842</td>\n",
       "      <td>1.203425</td>\n",
       "      <td>0.152259</td>\n",
       "    </tr>\n",
       "    <tr>\n",
       "      <th>std</th>\n",
       "      <td>0.500049</td>\n",
       "      <td>8.487995</td>\n",
       "      <td>9972.953985</td>\n",
       "      <td>1.098664</td>\n",
       "      <td>0.468934</td>\n",
       "    </tr>\n",
       "    <tr>\n",
       "      <th>min</th>\n",
       "      <td>0.000000</td>\n",
       "      <td>18.000000</td>\n",
       "      <td>5300.000000</td>\n",
       "      <td>0.000000</td>\n",
       "      <td>0.000000</td>\n",
       "    </tr>\n",
       "    <tr>\n",
       "      <th>25%</th>\n",
       "      <td>0.000000</td>\n",
       "      <td>24.000000</td>\n",
       "      <td>33200.000000</td>\n",
       "      <td>0.000000</td>\n",
       "      <td>0.000000</td>\n",
       "    </tr>\n",
       "    <tr>\n",
       "      <th>50%</th>\n",
       "      <td>0.000000</td>\n",
       "      <td>30.000000</td>\n",
       "      <td>40200.000000</td>\n",
       "      <td>1.000000</td>\n",
       "      <td>0.000000</td>\n",
       "    </tr>\n",
       "    <tr>\n",
       "      <th>75%</th>\n",
       "      <td>1.000000</td>\n",
       "      <td>37.000000</td>\n",
       "      <td>46600.000000</td>\n",
       "      <td>2.000000</td>\n",
       "      <td>0.000000</td>\n",
       "    </tr>\n",
       "    <tr>\n",
       "      <th>max</th>\n",
       "      <td>1.000000</td>\n",
       "      <td>65.000000</td>\n",
       "      <td>79000.000000</td>\n",
       "      <td>6.000000</td>\n",
       "      <td>5.000000</td>\n",
       "    </tr>\n",
       "  </tbody>\n",
       "</table>\n",
       "</div>"
      ],
      "text/plain": [
       "               Пол      Возраст      Зарплата  Члены семьи  Страховые выплаты\n",
       "count  4847.000000  4847.000000   4847.000000  4847.000000        4847.000000\n",
       "mean      0.498453    31.023932  39895.811842     1.203425           0.152259\n",
       "std       0.500049     8.487995   9972.953985     1.098664           0.468934\n",
       "min       0.000000    18.000000   5300.000000     0.000000           0.000000\n",
       "25%       0.000000    24.000000  33200.000000     0.000000           0.000000\n",
       "50%       0.000000    30.000000  40200.000000     1.000000           0.000000\n",
       "75%       1.000000    37.000000  46600.000000     2.000000           0.000000\n",
       "max       1.000000    65.000000  79000.000000     6.000000           5.000000"
      ]
     },
     "metadata": {},
     "output_type": "display_data"
    },
    {
     "name": "stdout",
     "output_type": "stream",
     "text": [
      "Пол\n"
     ]
    },
    {
     "data": {
      "image/png": "[encoded data removed]",
      "text/plain": [
       "<Figure size 432x288 with 1 Axes>"
      ]
     },
     "metadata": {
      "needs_background": "light"
     },
     "output_type": "display_data"
    },
    {
     "name": "stdout",
     "output_type": "stream",
     "text": [
      "Возраст\n"
     ]
    },
    {
     "data": {
      "image/png": "[encoded data removed]",
      "text/plain": [
       "<Figure size 432x288 with 1 Axes>"
      ]
     },
     "metadata": {
      "needs_background": "light"
     },
     "output_type": "display_data"
    },
    {
     "name": "stdout",
     "output_type": "stream",
     "text": [
      "Зарплата\n"
     ]
    },
    {
     "data": {
      "image/png": "[encoded data removed]",
      "text/plain": [
       "<Figure size 432x288 with 1 Axes>"
      ]
     },
     "metadata": {
      "needs_background": "light"
     },
     "output_type": "display_data"
    },
    {
     "name": "stdout",
     "output_type": "stream",
     "text": [
      "Члены семьи\n"
     ]
    },
    {
     "data": {
      "image/png": "[encoded data removed]",
      "text/plain": [
       "<Figure size 432x288 with 1 Axes>"
      ]
     },
     "metadata": {
      "needs_background": "light"
     },
     "output_type": "display_data"
    },
    {
     "name": "stdout",
     "output_type": "stream",
     "text": [
      "Страховые выплаты\n"
     ]
    },
    {
     "data": {
      "image/png": "[encoded data removed]",
      "text/plain": [
       "<Figure size 432x288 with 1 Axes>"
      ]
     },
     "metadata": {
      "needs_background": "light"
     },
     "output_type": "display_data"
    }
   ],
   "source": [
    "df = df.drop_duplicates()\n",
    "display(df.describe())\n",
    "for i in df:     \n",
    "    print(i)\n",
    "    if (len(df[i].unique()) < 20):\n",
    "        df[i].hist(bins=len(df[i].unique()))\n",
    "        plt.show()  \n",
    "    else:        \n",
    "        df[i].hist(bins=20)\n",
    "        plt.show()"
   ]
  },
  {
   "cell_type": "markdown",
   "metadata": {},
   "source": [
    "<font color='DarkBlue'> \n",
    "📌 Предоставлено большое количество исходных данных, отсутствуют явные выбросы <br>    \n",
    "📌 Соотношение полов приблизительно равнозначное <br>  \n",
    "📌 Распределение зарплат нормальное, наблюдается явно прослеживаемое усредненное значение <br> \n",
    "📌 В выборке большое количество молодых людей, а также имеющих малое количество членов семьи <br>     \n",
    "📌 В большинстве объектов страховые выплаты отсутствуют <br>    \n",
    "📌 Рекомендуется преобразовать типы данных полей для оптимизации памяти <br>   \n",
    "</font> "
   ]
  },
  {
   "cell_type": "code",
   "execution_count": 4,
   "metadata": {},
   "outputs": [
    {
     "name": "stdout",
     "output_type": "stream",
     "text": [
      "<class 'pandas.core.frame.DataFrame'>\n",
      "Int64Index: 4847 entries, 0 to 4999\n",
      "Data columns (total 5 columns):\n",
      " #   Column             Non-Null Count  Dtype  \n",
      "---  ------             --------------  -----  \n",
      " 0   Пол                4847 non-null   uint8  \n",
      " 1   Возраст            4847 non-null   uint8  \n",
      " 2   Зарплата           4847 non-null   float32\n",
      " 3   Члены семьи        4847 non-null   uint8  \n",
      " 4   Страховые выплаты  4847 non-null   uint8  \n",
      "dtypes: float32(1), uint8(4)\n",
      "memory usage: 75.7 KB\n"
     ]
    }
   ],
   "source": [
    "for i in df.select_dtypes(include=['float']):\n",
    "    if df[df[i] % 1 > 0][i].count() == 0:\n",
    "        df[i] = df[i].astype('int')\n",
    "df[df.select_dtypes(include=['int']).columns] = df.select_dtypes(include=['int']).apply(pd.to_numeric,downcast='unsigned')\n",
    "df[df.select_dtypes(include=['float']).columns] = df.select_dtypes(include=['float']).apply(pd.to_numeric,downcast='float')\n",
    "df.info()"
   ]
  },
  {
   "cell_type": "markdown",
   "metadata": {},
   "source": [
    "## Умножение матриц"
   ]
  },
  {
   "cell_type": "markdown",
   "metadata": {},
   "source": [
    "В этом задании вы можете записывать формулы в *Jupyter Notebook.*\n",
    "\n",
    "Чтобы записать формулу внутри текста, окружите её символами доллара \\\\$; если снаружи —  двойными символами \\\\$\\\\$. Эти формулы записываются на языке вёрстки *LaTeX.* \n",
    "\n",
    "Для примера мы записали формулы линейной регрессии. Можете их скопировать и отредактировать, чтобы решить задачу.\n",
    "\n",
    "Работать в *LaTeX* необязательно."
   ]
  },
  {
   "cell_type": "markdown",
   "metadata": {},
   "source": [
    "Обозначения:\n",
    "\n",
    "- $X$ — матрица признаков (нулевой столбец состоит из единиц)\n",
    "\n",
    "- $y$ — вектор целевого признака\n",
    "\n",
    "- $P$ — матрица, на которую умножаются признаки\n",
    "\n",
    "- $w$ — вектор весов линейной регрессии (нулевой элемент равен сдвигу)"
   ]
  },
  {
   "cell_type": "markdown",
   "metadata": {},
   "source": [
    "Предсказания:\n",
    "\n",
    "$$\n",
    "a = Xw\n",
    "$$\n",
    "\n",
    "Задача обучения:\n",
    "\n",
    "$$\n",
    "w = \\arg\\min_w MSE(Xw, y)\n",
    "$$\n",
    "\n",
    "Формула обучения:\n",
    "\n",
    "$$\n",
    "w = (X^T X)^{-1} X^T y\n",
    "$$"
   ]
  },
  {
   "cell_type": "markdown",
   "metadata": {},
   "source": [
    "<font color='DarkBlue'> \n",
    "📌 Сначала рекомендуется использовать встроенный в библиотеку алгоритм линейной регрессии для вычисления основной метрики качества R2, являющейся основным критерием сравнения моделей в текущей задаче <br>    \n",
    "📌 Необходимо выделить целевой признак и произвести масштабирование заданных <br>  \n",
    "</font> "
   ]
  },
  {
   "cell_type": "code",
   "execution_count": 5,
   "metadata": {},
   "outputs": [],
   "source": [
    "features = df.drop('Страховые выплаты', axis=1)\n",
    "target = df['Страховые выплаты']\n",
    "scaler = StandardScaler()\n",
    "scaler.fit(features) \n",
    "features = scaler.transform(features)"
   ]
  },
  {
   "cell_type": "code",
   "execution_count": 6,
   "metadata": {},
   "outputs": [
    {
     "name": "stdout",
     "output_type": "stream",
     "text": [
      "R2: 0.43020102044842046\n"
     ]
    }
   ],
   "source": [
    "model = LinearRegression()\n",
    "model.fit(features, target)\n",
    "predictions = model.predict(features)\n",
    "print('R2:', r2_score(target, predictions))"
   ]
  },
  {
   "cell_type": "markdown",
   "metadata": {},
   "source": [
    "<font color='DarkBlue'> \n",
    "📌 Значение больше 0, соответственно, результат лучше, чем у элементарной Dummy, значит модель адекватная. Но метрика не достаточно близка к значению идеального варианта модели 1 <br>    \n",
    "📌 Далее требуется подробно описать алгоритм линейной регрессии для возможности изменения его внутренних параметров <br>  \n",
    "</font> "
   ]
  },
  {
   "cell_type": "code",
   "execution_count": 7,
   "metadata": {},
   "outputs": [
    {
     "name": "stdout",
     "output_type": "stream",
     "text": [
      "Вектор w: [ 0.15225913  0.00473007  0.30692827 -0.00138601 -0.01565625]\n",
      "R2: 0.4302010173600872\n"
     ]
    }
   ],
   "source": [
    "class LinearRegressionCustom:\n",
    "    def fit(self, features_train, target_train):\n",
    "        X = np.concatenate((np.ones((features_train.shape[0], 1)), features_train), axis=1)\n",
    "        y = target_train\n",
    "        w = np.dot(np.dot(np.linalg.inv(np.dot(X.T, X)), X.T), y)\n",
    "        print('Вектор w:', w)\n",
    "        self.w = w[1:]\n",
    "        self.w0 = w[0]\n",
    "    def predict(self, features_test):\n",
    "        return np.dot(features_test, self.w) + self.w0\n",
    "model = LinearRegressionCustom()\n",
    "model.fit(features, target)\n",
    "predictions = model.predict(features)\n",
    "print('R2:', r2_score(target, predictions))"
   ]
  },
  {
   "cell_type": "markdown",
   "metadata": {},
   "source": [
    "<font color='DarkBlue'> \n",
    "📌 Далее нужно задать ключ P в виде матрицы для шифрования данных, поступающих на вход модели. Его размерность должна совпадать с количеством признаков. Также матрица должна быть обратима, чтобы после умножения на соответствующую с предоставленными данными выявлялась матрица с исходным размером <br>     \n",
    "</font>"
   ]
  },
  {
   "cell_type": "code",
   "execution_count": 8,
   "metadata": {
    "scrolled": true
   },
   "outputs": [
    {
     "name": "stdout",
     "output_type": "stream",
     "text": [
      "Матрица P \n",
      " [[ 4.38587702  6.43683001  3.44168385  3.33280909]\n",
      " [10.89734172  9.1802175   5.27872363  5.84523846]\n",
      " [ 7.3070677   8.73930421  8.02156807  1.11133667]\n",
      " [ 5.8249749   5.68673864  9.05875051  7.65928802]]\n",
      "-----\n",
      "Проверка на обратимость \n",
      " [[-0.32623872  0.21940767  0.02914528 -0.02971412]\n",
      " [ 0.38685507 -0.11244237  0.0014414  -0.08273138]\n",
      " [-0.14216466 -0.07870645  0.11931389  0.10461387]\n",
      " [ 0.12902281  0.00970956 -0.16434977  0.09085502]]\n"
     ]
    }
   ],
   "source": [
    "np.random.seed(12345)\n",
    "P = np.random.normal(5, 3, size=(4, 4))\n",
    "print('Матрица P \\n', P)\n",
    "print('-----')\n",
    "print('Проверка на обратимость \\n', np.linalg.inv(P))"
   ]
  },
  {
   "cell_type": "markdown",
   "metadata": {},
   "source": [
    "<font color='DarkBlue'> \n",
    "📌 Необходимо домножить исходную матрицу со значениями признаков для обучения на матрицу P. Соответственно, при получении предсказаний в алгоритме модели необходимо осуществить домножение на тот же ключ <br>     \n",
    "</font>"
   ]
  },
  {
   "cell_type": "code",
   "execution_count": 9,
   "metadata": {},
   "outputs": [
    {
     "name": "stdout",
     "output_type": "stream",
     "text": [
      "Вектор w: [ 0.15225913  0.0662241  -0.03138863 -0.02663292  0.00239577]\n",
      "R2: 0.4302010173600872\n"
     ]
    }
   ],
   "source": [
    "class LinearRegressionCustom:\n",
    "    def fit(self, features_train, target_train):\n",
    "        X = np.concatenate((np.ones((features_train.shape[0], 1)), np.dot(features_train, P)), axis=1)\n",
    "        y = target_train\n",
    "        w = np.dot(np.dot(np.linalg.inv(np.dot(X.T, X)), X.T), y)\n",
    "        print('Вектор w:', w)\n",
    "        self.w = w[1:]\n",
    "        self.w0 = w[0]\n",
    "    def predict(self, features_test):\n",
    "        return np.dot(np.dot(features_test, P), self.w) + self.w0   \n",
    "model = LinearRegressionCustom()\n",
    "model.fit(features, target)\n",
    "predictions = model.predict(features)\n",
    "print('R2:', r2_score(target, predictions))"
   ]
  },
  {
   "cell_type": "markdown",
   "metadata": {},
   "source": [
    "<font color='DarkBlue'> \n",
    "📌 После соответствующих манипуляций можно заметить, что ключевая метрика не изменилась <br>     \n",
    "📌 Далее можно описать обоснование указанного вывода, построенного на предложенном в задании решении <br>  \n",
    "</font>"
   ]
  },
  {
   "cell_type": "markdown",
   "metadata": {},
   "source": [
    "**Исходная формула обучения:**\n",
    "$$\n",
    "a = Xw,\n",
    "$$\n",
    "где\n",
    "$$\n",
    "w = (X^T X)^{-1} X^T y\n",
    "$$\n",
    "---\n",
    "$$\n",
    "a = X(X^T X)^{-1} X^T y\n",
    "$$\n",
    "**Преобразованная формула обучения:**\n",
    "$$\n",
    "a_{1} = XPw,\n",
    "$$\n",
    "где\n",
    "$$\n",
    "w = ((XP)^T XP)^{-1} (XP)^T y\n",
    "$$\n",
    "---\n",
    "$$\n",
    "a_{1} = XP ((XP)^T XP)^{-1} (XP)^T y\n",
    "$$\n",
    "\n",
    "$$\n",
    "a_{1} = XP (X^T XP)^{-1} (P^T)^{-1} P^T X^T y\n",
    "$$\n",
    "\n",
    "$$\n",
    "a_{1} = XP P^{-1} (X^T X)^{-1} E X^T y\n",
    "$$\n",
    "\n",
    "$$\n",
    "a_{1} = X E (X^T X)^{-1} X^T y\n",
    "$$"
   ]
  },
  {
   "cell_type": "markdown",
   "metadata": {},
   "source": [
    "<font color='DarkBlue'> \n",
    "📌 Следовательно, матрица P обозначена верно, предсказания до преобразования $a$ и после $a_{1}$ аналогичны <br>     \n",
    "</font>"
   ]
  },
  {
   "cell_type": "markdown",
   "metadata": {},
   "source": [
    "**Ответ:** При умножении признаков на обратимую матрицу качество линейной регрессии, измеряемое значением метрики R2, не изменяется\n",
    "\n",
    "**Обоснование:** Параметры линейной регрессии в исходной задаче и в преобразованной различаются - веса w, так как выполняется умножение матрицы признаков на генерируемую, соответственно, меняется угол отклонения интерполируемой прямой"
   ]
  },
  {
   "cell_type": "markdown",
   "metadata": {},
   "source": [
    "## Алгоритм преобразования"
   ]
  },
  {
   "cell_type": "markdown",
   "metadata": {},
   "source": [
    "<font color='DarkBlue'> \n",
    "📌 Предложенный алгоритм преобразования данных для задачи представляет использование транспонированного результата умножения ранее обозначенного ключа P, просуммированного с любой скалярной величиной, на транспонированную выборку исходной матрицы признаков <br>  \n",
    "📌 Далее обозначено обоснование предложенного алгоритма, указывающего на соответствие предсказаний целевому признаку также при его преобразовании <br>     \n",
    "</font>"
   ]
  },
  {
   "cell_type": "markdown",
   "metadata": {},
   "source": [
    "**Преобразованная формула обучения:**\n",
    "$$\n",
    "a_{1} = ((P+b)X^T)^T w,\n",
    "$$\n",
    "\n",
    "$$\n",
    "a_{1} = X (P+b)^T w,\n",
    "$$\n",
    "где\n",
    "$$\n",
    "w = ((X (P+b)^T)^T X (P+b)^T)^{-1} (X (P+b)^T)^T y\n",
    "$$\n",
    "---\n",
    "$$\n",
    "a_{1} = X (P+b)^T ((X (P+b)^T)^T X (P+b)^T)^{-1} (X (P+b)^T)^T y\n",
    "$$\n",
    "\n",
    "$$\n",
    "a_{1} = X (P+b)^T ((P+b)X^T X(P+b)^T)^{-1} (P+b)X^T y\n",
    "$$\n",
    "\n",
    "$$\n",
    "a_{1} = X (P+b)^T (X^T X(P+b)^T)^{-1} (P+b)^{-1} (P+b)X^T y\n",
    "$$\n",
    "\n",
    "$$\n",
    "a_{1} = X (P+b)^T ((P+b)^T)^{-1}(X^T X)^{-1} E X^T y\n",
    "$$\n",
    "\n",
    "$$\n",
    "a_{1} = X E (X^T X)^{-1} X^T y\n",
    "$$"
   ]
  },
  {
   "cell_type": "markdown",
   "metadata": {},
   "source": [
    "**Алгоритм**: Указан выше"
   ]
  },
  {
   "cell_type": "markdown",
   "metadata": {},
   "source": [
    "**Обоснование**: Параметры линейной регрессии в исходной задаче и в преобразованной различаются - веса w, так как выполняется умножение матрицы признаков на генерируемую, соответственно, также меняется угол отклонения интерполируемой прямой"
   ]
  },
  {
   "cell_type": "markdown",
   "metadata": {},
   "source": [
    "## Проверка алгоритма"
   ]
  },
  {
   "cell_type": "markdown",
   "metadata": {},
   "source": [
    "<font color='DarkBlue'> \n",
    "📌 Требуется запрограммировать предложенный алгоритм, применив матричные операции <br>    \n",
    "</font>"
   ]
  },
  {
   "cell_type": "code",
   "execution_count": 10,
   "metadata": {},
   "outputs": [
    {
     "name": "stdout",
     "output_type": "stream",
     "text": [
      "Вектор w: [ 0.15225913  0.10720822 -0.04004488  0.00547229 -0.04137506]\n",
      "R2: 0.4302010173600873\n"
     ]
    }
   ],
   "source": [
    "class LinearRegressionCustom:\n",
    "    def fit(self, features_train, target_train):\n",
    "        X = np.concatenate((np.ones((features_train.shape[0], 1)), np.dot(P + 5.5, features_train.T).T), axis=1)\n",
    "        y = target_train\n",
    "        w = np.dot(np.dot(np.linalg.inv(np.dot(X.T, X)), X.T), y)\n",
    "        print('Вектор w:', w)\n",
    "        self.w = w[1:] * 1.1\n",
    "        self.w0 = w[0]\n",
    "    def predict(self, features_test):\n",
    "        return np.dot(np.dot(P + 5.5, features_test.T).T, self.w / 1.1) + self.w0   \n",
    "model = LinearRegressionCustom()\n",
    "model.fit(features, target)\n",
    "predictions = model.predict(features)\n",
    "print('R2:', r2_score(target, predictions))"
   ]
  },
  {
   "cell_type": "markdown",
   "metadata": {},
   "source": [
    "<font color='DarkBlue'> \n",
    "📌 В соответствии с отсутствием изменения метрики R2 качество линейной регрессии из sklearn не отличается до и после преобразования <br>      \n",
    "📌 На основании произведенных исследований можно сформировать следующие выводы:   \n",
    "    \n",
    "- предоставленные данные хорошего качества, отсутствуют пропуски и некорректные значения, содержится небольшое количество дубликатов, для более удобного анализа необходимо преобразование типов данных в форматы, занимающие меньший объем памяти\n",
    "- все предложенные алгоритмы соответствуют цели исходной задачи - преобразования данных для обеспечения возможности шифрования при указаннойм количестве признаков в предоставленных выборках\n",
    "- создан необходимый ключ, представляющий матрицу, обозначенные алгоритмы проверены и обоснованы <br> \n",
    "</font>"
   ]
  },
  {
   "cell_type": "code",
   "execution_count": null,
   "metadata": {},
   "outputs": [],
   "source": []
  }
 ],
 "metadata": {
  "ExecuteTimeLog": [
   {
    "duration": 1704,
    "start_time": "2022-07-17T10:59:50.385Z"
   },
   {
    "duration": 109,
    "start_time": "2022-07-17T11:00:59.977Z"
   },
   {
    "duration": 6,
    "start_time": "2022-07-17T11:10:09.625Z"
   },
   {
    "duration": 142,
    "start_time": "2022-07-17T11:11:13.421Z"
   },
   {
    "duration": 809,
    "start_time": "2022-07-17T11:11:35.199Z"
   },
   {
    "duration": 651,
    "start_time": "2022-07-17T11:13:15.119Z"
   },
   {
    "duration": 5,
    "start_time": "2022-07-17T11:37:15.459Z"
   },
   {
    "duration": 5,
    "start_time": "2022-07-17T11:37:44.978Z"
   },
   {
    "duration": 23,
    "start_time": "2022-07-17T11:38:47.977Z"
   },
   {
    "duration": 13,
    "start_time": "2022-07-17T13:40:44.259Z"
   },
   {
    "duration": 4,
    "start_time": "2022-07-17T13:42:17.649Z"
   },
   {
    "duration": 5,
    "start_time": "2022-07-17T16:37:41.304Z"
   },
   {
    "duration": 66,
    "start_time": "2022-07-17T16:38:43.305Z"
   },
   {
    "duration": 7,
    "start_time": "2022-07-17T16:38:51.293Z"
   },
   {
    "duration": 1955,
    "start_time": "2022-07-17T16:38:56.572Z"
   },
   {
    "duration": 146,
    "start_time": "2022-07-17T16:39:04.302Z"
   },
   {
    "duration": 8,
    "start_time": "2022-07-17T16:39:07.424Z"
   },
   {
    "duration": 1103,
    "start_time": "2022-07-17T16:39:09.661Z"
   },
   {
    "duration": 25,
    "start_time": "2022-07-17T16:39:13.201Z"
   },
   {
    "duration": 4,
    "start_time": "2022-07-17T16:39:16.400Z"
   },
   {
    "duration": 5,
    "start_time": "2022-07-17T16:40:24.054Z"
   },
   {
    "duration": 5,
    "start_time": "2022-07-17T16:40:37.411Z"
   },
   {
    "duration": 5,
    "start_time": "2022-07-17T16:40:40.820Z"
   },
   {
    "duration": 5,
    "start_time": "2022-07-17T16:41:42.445Z"
   },
   {
    "duration": 4,
    "start_time": "2022-07-17T16:41:47.254Z"
   },
   {
    "duration": 3,
    "start_time": "2022-07-17T16:43:29.175Z"
   },
   {
    "duration": 5,
    "start_time": "2022-07-17T16:43:30.976Z"
   },
   {
    "duration": 7,
    "start_time": "2022-07-17T16:43:34.794Z"
   },
   {
    "duration": 6,
    "start_time": "2022-07-17T16:43:38.161Z"
   },
   {
    "duration": 5,
    "start_time": "2022-07-17T16:44:00.891Z"
   },
   {
    "duration": 7,
    "start_time": "2022-07-17T16:44:02.965Z"
   },
   {
    "duration": 6,
    "start_time": "2022-07-17T16:44:04.758Z"
   },
   {
    "duration": 5,
    "start_time": "2022-07-17T16:44:06.875Z"
   },
   {
    "duration": 8,
    "start_time": "2022-07-17T16:44:53.116Z"
   },
   {
    "duration": 5,
    "start_time": "2022-07-17T16:44:58.062Z"
   },
   {
    "duration": 127,
    "start_time": "2022-07-17T16:46:00.463Z"
   },
   {
    "duration": 99,
    "start_time": "2022-07-17T16:46:07.570Z"
   },
   {
    "duration": 8,
    "start_time": "2022-07-17T16:46:56.862Z"
   },
   {
    "duration": 19,
    "start_time": "2022-07-17T16:47:20.121Z"
   },
   {
    "duration": 6,
    "start_time": "2022-07-17T16:47:44.197Z"
   },
   {
    "duration": 6,
    "start_time": "2022-07-17T16:47:49.277Z"
   },
   {
    "duration": 8,
    "start_time": "2022-07-17T16:48:13.297Z"
   },
   {
    "duration": 24,
    "start_time": "2022-07-17T17:42:56.212Z"
   },
   {
    "duration": 5,
    "start_time": "2022-07-17T17:43:07.446Z"
   },
   {
    "duration": 107,
    "start_time": "2022-07-17T17:43:07.454Z"
   },
   {
    "duration": 7,
    "start_time": "2022-07-17T17:43:07.563Z"
   },
   {
    "duration": 873,
    "start_time": "2022-07-17T17:43:07.572Z"
   },
   {
    "duration": 23,
    "start_time": "2022-07-17T17:43:08.447Z"
   },
   {
    "duration": 33,
    "start_time": "2022-07-17T17:43:08.472Z"
   },
   {
    "duration": 101,
    "start_time": "2022-07-17T17:43:08.507Z"
   },
   {
    "duration": 19,
    "start_time": "2022-07-17T17:43:10.545Z"
   },
   {
    "duration": 106,
    "start_time": "2022-07-17T17:43:39.365Z"
   },
   {
    "duration": 16,
    "start_time": "2022-07-17T17:45:10.929Z"
   },
   {
    "duration": 105,
    "start_time": "2022-07-17T17:45:27.769Z"
   },
   {
    "duration": 101,
    "start_time": "2022-07-17T17:45:50.080Z"
   },
   {
    "duration": 168,
    "start_time": "2022-07-17T17:47:20.040Z"
   },
   {
    "duration": 23,
    "start_time": "2022-07-17T17:48:00.945Z"
   },
   {
    "duration": 121,
    "start_time": "2022-07-17T17:50:52.170Z"
   },
   {
    "duration": 6,
    "start_time": "2022-07-17T17:51:13.173Z"
   },
   {
    "duration": 13,
    "start_time": "2022-07-17T17:51:16.760Z"
   },
   {
    "duration": 138,
    "start_time": "2022-07-17T17:52:15.870Z"
   },
   {
    "duration": 5,
    "start_time": "2022-07-17T18:13:44.961Z"
   },
   {
    "duration": 10,
    "start_time": "2022-07-17T18:13:50.098Z"
   },
   {
    "duration": 99,
    "start_time": "2022-07-17T19:31:13.027Z"
   },
   {
    "duration": 104,
    "start_time": "2022-07-17T19:32:52.842Z"
   },
   {
    "duration": 164,
    "start_time": "2022-07-17T19:36:10.321Z"
   },
   {
    "duration": 15,
    "start_time": "2022-07-17T19:36:30.030Z"
   },
   {
    "duration": 11,
    "start_time": "2022-07-17T19:36:42.457Z"
   },
   {
    "duration": 139,
    "start_time": "2022-07-17T19:37:02.176Z"
   },
   {
    "duration": 199,
    "start_time": "2022-07-17T19:38:35.020Z"
   },
   {
    "duration": 173,
    "start_time": "2022-07-17T19:38:40.553Z"
   },
   {
    "duration": 144,
    "start_time": "2022-07-17T19:38:55.019Z"
   },
   {
    "duration": 173,
    "start_time": "2022-07-17T19:39:09.594Z"
   },
   {
    "duration": 49,
    "start_time": "2022-07-18T06:48:06.673Z"
   },
   {
    "duration": 7,
    "start_time": "2022-07-18T06:48:20.762Z"
   },
   {
    "duration": 1546,
    "start_time": "2022-07-18T06:48:30.501Z"
   },
   {
    "duration": 100,
    "start_time": "2022-07-18T06:48:32.050Z"
   },
   {
    "duration": 4,
    "start_time": "2022-07-18T06:48:32.151Z"
   },
   {
    "duration": 719,
    "start_time": "2022-07-18T06:48:32.156Z"
   },
   {
    "duration": 23,
    "start_time": "2022-07-18T06:48:32.877Z"
   },
   {
    "duration": 6,
    "start_time": "2022-07-18T06:48:32.902Z"
   },
   {
    "duration": 196,
    "start_time": "2022-07-18T06:48:32.910Z"
   },
   {
    "duration": 198,
    "start_time": "2022-07-18T06:48:33.111Z"
   },
   {
    "duration": 130,
    "start_time": "2022-07-18T06:48:52.193Z"
   },
   {
    "duration": 12,
    "start_time": "2022-07-18T06:48:57.694Z"
   },
   {
    "duration": 11,
    "start_time": "2022-07-18T06:49:00.052Z"
   },
   {
    "duration": 6,
    "start_time": "2022-07-18T06:49:28.771Z"
   },
   {
    "duration": 11,
    "start_time": "2022-07-18T06:49:32.711Z"
   },
   {
    "duration": 49,
    "start_time": "2022-07-18T06:51:20.277Z"
   },
   {
    "duration": 68,
    "start_time": "2022-07-18T06:51:31.761Z"
   },
   {
    "duration": 21,
    "start_time": "2022-07-18T06:52:05.453Z"
   },
   {
    "duration": 20,
    "start_time": "2022-07-18T06:58:15.656Z"
   },
   {
    "duration": 23,
    "start_time": "2022-07-18T06:58:32.282Z"
   },
   {
    "duration": 21,
    "start_time": "2022-07-18T06:58:40.793Z"
   },
   {
    "duration": 83,
    "start_time": "2022-07-18T07:00:26.314Z"
   },
   {
    "duration": 11,
    "start_time": "2022-07-18T07:02:35.555Z"
   },
   {
    "duration": 14052,
    "start_time": "2022-07-18T07:02:47.915Z"
   },
   {
    "duration": 6,
    "start_time": "2022-07-18T07:03:03.721Z"
   },
   {
    "duration": 634,
    "start_time": "2022-07-18T07:03:12.175Z"
   },
   {
    "duration": 24219,
    "start_time": "2022-07-18T07:03:31.165Z"
   },
   {
    "duration": 249,
    "start_time": "2022-07-18T07:03:59.384Z"
   },
   {
    "duration": 342,
    "start_time": "2022-07-18T07:05:20.397Z"
   },
   {
    "duration": 328,
    "start_time": "2022-07-18T07:05:27.714Z"
   },
   {
    "duration": 331,
    "start_time": "2022-07-18T07:05:35.181Z"
   },
   {
    "duration": 4,
    "start_time": "2022-07-18T07:05:55.866Z"
   },
   {
    "duration": 162,
    "start_time": "2022-07-18T07:06:43.355Z"
   },
   {
    "duration": 376,
    "start_time": "2022-07-18T07:06:56.726Z"
   },
   {
    "duration": 144,
    "start_time": "2022-07-18T07:07:38.470Z"
   },
   {
    "duration": 220,
    "start_time": "2022-07-18T07:08:17.792Z"
   },
   {
    "duration": 52,
    "start_time": "2022-07-18T07:10:40.702Z"
   },
   {
    "duration": 22,
    "start_time": "2022-07-18T07:10:50.802Z"
   },
   {
    "duration": 76,
    "start_time": "2022-07-18T07:11:12.713Z"
   },
   {
    "duration": 12,
    "start_time": "2022-07-18T07:11:18.356Z"
   },
   {
    "duration": 136,
    "start_time": "2022-07-18T07:56:34.769Z"
   },
   {
    "duration": 9,
    "start_time": "2022-07-18T07:56:47.195Z"
   },
   {
    "duration": 78,
    "start_time": "2022-07-18T07:57:09.455Z"
   },
   {
    "duration": 84,
    "start_time": "2022-07-18T07:57:22.523Z"
   },
   {
    "duration": 57,
    "start_time": "2022-07-18T07:57:33.134Z"
   },
   {
    "duration": 19,
    "start_time": "2022-07-18T07:57:35.669Z"
   },
   {
    "duration": 101,
    "start_time": "2022-07-18T07:58:14.504Z"
   },
   {
    "duration": 17,
    "start_time": "2022-07-18T07:58:25.823Z"
   },
   {
    "duration": 74,
    "start_time": "2022-07-18T07:59:21.295Z"
   },
   {
    "duration": 124,
    "start_time": "2022-07-18T07:59:24.885Z"
   },
   {
    "duration": 20,
    "start_time": "2022-07-18T07:59:49.646Z"
   },
   {
    "duration": 21,
    "start_time": "2022-07-18T07:59:54.141Z"
   },
   {
    "duration": 7,
    "start_time": "2022-07-18T08:00:06.643Z"
   },
   {
    "duration": 88,
    "start_time": "2022-07-18T08:00:16.524Z"
   },
   {
    "duration": 196,
    "start_time": "2022-07-18T08:00:25.808Z"
   },
   {
    "duration": 155,
    "start_time": "2022-07-18T08:00:33.553Z"
   },
   {
    "duration": 307,
    "start_time": "2022-07-18T08:34:34.827Z"
   },
   {
    "duration": 61,
    "start_time": "2022-07-18T08:34:47.106Z"
   },
   {
    "duration": 72,
    "start_time": "2022-07-18T08:34:50.441Z"
   },
   {
    "duration": 139,
    "start_time": "2022-07-18T08:36:13.665Z"
   },
   {
    "duration": 160,
    "start_time": "2022-07-18T08:36:34.945Z"
   },
   {
    "duration": 136,
    "start_time": "2022-07-18T08:39:41.272Z"
   },
   {
    "duration": 213,
    "start_time": "2022-07-18T08:55:09.589Z"
   },
   {
    "duration": 9546,
    "start_time": "2022-07-18T08:55:42.393Z"
   },
   {
    "duration": 10245,
    "start_time": "2022-07-18T08:57:43.921Z"
   },
   {
    "duration": 26548,
    "start_time": "2022-07-18T10:13:57.731Z"
   },
   {
    "duration": 10122,
    "start_time": "2022-07-18T10:15:22.081Z"
   },
   {
    "duration": 10,
    "start_time": "2022-07-18T10:16:20.235Z"
   },
   {
    "duration": 12,
    "start_time": "2022-07-18T10:18:09.347Z"
   },
   {
    "duration": 10,
    "start_time": "2022-07-18T10:18:41.122Z"
   },
   {
    "duration": 11,
    "start_time": "2022-07-18T10:18:49.042Z"
   },
   {
    "duration": 11,
    "start_time": "2022-07-18T10:19:10.023Z"
   },
   {
    "duration": 13,
    "start_time": "2022-07-18T10:20:50.687Z"
   },
   {
    "duration": 61,
    "start_time": "2022-07-18T10:21:12.651Z"
   },
   {
    "duration": 32,
    "start_time": "2022-07-18T10:21:29.569Z"
   },
   {
    "duration": 73,
    "start_time": "2022-07-18T10:21:51.006Z"
   },
   {
    "duration": 202,
    "start_time": "2022-07-18T10:21:53.804Z"
   },
   {
    "duration": 11,
    "start_time": "2022-07-18T10:23:19.305Z"
   },
   {
    "duration": 68,
    "start_time": "2022-07-18T10:23:31.955Z"
   },
   {
    "duration": 21,
    "start_time": "2022-07-18T10:23:39.100Z"
   },
   {
    "duration": 12,
    "start_time": "2022-07-18T10:23:58.142Z"
   },
   {
    "duration": 22,
    "start_time": "2022-07-18T10:24:02.226Z"
   },
   {
    "duration": 61,
    "start_time": "2022-07-18T10:24:10.150Z"
   },
   {
    "duration": 173,
    "start_time": "2022-07-18T10:24:12.929Z"
   },
   {
    "duration": 72,
    "start_time": "2022-07-18T10:24:23.748Z"
   },
   {
    "duration": 17,
    "start_time": "2022-07-18T10:25:13.702Z"
   },
   {
    "duration": 144,
    "start_time": "2022-07-18T10:25:27.361Z"
   },
   {
    "duration": 11,
    "start_time": "2022-07-18T10:25:35.723Z"
   },
   {
    "duration": 739,
    "start_time": "2022-07-18T10:25:40.719Z"
   },
   {
    "duration": 155,
    "start_time": "2022-07-18T10:26:02.051Z"
   },
   {
    "duration": 165,
    "start_time": "2022-07-18T10:46:50.839Z"
   },
   {
    "duration": 124,
    "start_time": "2022-07-18T10:47:21.885Z"
   },
   {
    "duration": 68,
    "start_time": "2022-07-18T10:47:32.145Z"
   },
   {
    "duration": 117,
    "start_time": "2022-07-18T10:47:50.892Z"
   },
   {
    "duration": 11,
    "start_time": "2022-07-18T10:50:16.935Z"
   },
   {
    "duration": 16,
    "start_time": "2022-07-18T10:50:20.387Z"
   },
   {
    "duration": 71,
    "start_time": "2022-07-18T10:50:46.737Z"
   },
   {
    "duration": 183,
    "start_time": "2022-07-18T10:50:57.521Z"
   },
   {
    "duration": 59,
    "start_time": "2022-07-18T10:51:40.551Z"
   },
   {
    "duration": 86,
    "start_time": "2022-07-18T10:51:48.326Z"
   },
   {
    "duration": 163,
    "start_time": "2022-07-18T10:51:57.178Z"
   },
   {
    "duration": 82,
    "start_time": "2022-07-18T10:52:05.043Z"
   },
   {
    "duration": 183,
    "start_time": "2022-07-18T10:52:09.475Z"
   },
   {
    "duration": 24,
    "start_time": "2022-07-18T10:57:50.094Z"
   },
   {
    "duration": 161,
    "start_time": "2022-07-18T10:58:02.643Z"
   },
   {
    "duration": 17,
    "start_time": "2022-07-18T10:58:42.584Z"
   },
   {
    "duration": 13,
    "start_time": "2022-07-18T10:59:15.681Z"
   },
   {
    "duration": 33,
    "start_time": "2022-07-18T11:02:45.181Z"
   },
   {
    "duration": 52,
    "start_time": "2022-07-18T11:03:57.449Z"
   },
   {
    "duration": 15,
    "start_time": "2022-07-18T17:39:41.756Z"
   },
   {
    "duration": 1495,
    "start_time": "2022-07-18T17:44:43.415Z"
   },
   {
    "duration": 108,
    "start_time": "2022-07-18T17:44:45.405Z"
   },
   {
    "duration": 107,
    "start_time": "2022-07-18T17:44:50.276Z"
   },
   {
    "duration": 4,
    "start_time": "2022-07-18T17:45:01.421Z"
   },
   {
    "duration": 92,
    "start_time": "2022-07-18T17:45:04.832Z"
   },
   {
    "duration": 11,
    "start_time": "2022-07-18T17:45:18.897Z"
   },
   {
    "duration": 16,
    "start_time": "2022-07-18T17:45:40.915Z"
   },
   {
    "duration": 4,
    "start_time": "2022-07-18T17:47:41.425Z"
   },
   {
    "duration": 43,
    "start_time": "2022-07-18T17:47:41.477Z"
   },
   {
    "duration": 5,
    "start_time": "2022-07-18T17:47:41.522Z"
   },
   {
    "duration": 692,
    "start_time": "2022-07-18T17:47:41.528Z"
   },
   {
    "duration": 21,
    "start_time": "2022-07-18T17:47:42.224Z"
   },
   {
    "duration": 6,
    "start_time": "2022-07-18T17:47:42.247Z"
   },
   {
    "duration": 70,
    "start_time": "2022-07-18T17:47:42.256Z"
   },
   {
    "duration": 5,
    "start_time": "2022-07-18T17:47:46.505Z"
   },
   {
    "duration": 98,
    "start_time": "2022-07-18T17:47:47.927Z"
   },
   {
    "duration": 81,
    "start_time": "2022-07-18T17:47:51.065Z"
   },
   {
    "duration": 10,
    "start_time": "2022-07-18T17:47:58.801Z"
   },
   {
    "duration": 3,
    "start_time": "2022-07-18T17:48:32.926Z"
   },
   {
    "duration": 11,
    "start_time": "2022-07-18T17:48:48.555Z"
   },
   {
    "duration": 7,
    "start_time": "2022-07-18T17:52:23.515Z"
   },
   {
    "duration": 12,
    "start_time": "2022-07-18T17:52:30.943Z"
   },
   {
    "duration": 15,
    "start_time": "2022-07-18T18:06:43.321Z"
   },
   {
    "duration": 5,
    "start_time": "2022-07-18T18:07:01.034Z"
   },
   {
    "duration": 62,
    "start_time": "2022-07-18T18:07:01.041Z"
   },
   {
    "duration": 5,
    "start_time": "2022-07-18T18:07:01.280Z"
   },
   {
    "duration": 686,
    "start_time": "2022-07-18T18:07:01.287Z"
   },
   {
    "duration": 23,
    "start_time": "2022-07-18T18:07:03.852Z"
   },
   {
    "duration": 5,
    "start_time": "2022-07-18T18:08:32.952Z"
   },
   {
    "duration": 17,
    "start_time": "2022-07-18T18:08:49.924Z"
   },
   {
    "duration": 16,
    "start_time": "2022-07-18T18:09:20.782Z"
   },
   {
    "duration": 19,
    "start_time": "2022-07-18T18:09:34.672Z"
   },
   {
    "duration": 4,
    "start_time": "2022-07-18T18:09:40.942Z"
   },
   {
    "duration": 47,
    "start_time": "2022-07-18T18:09:40.948Z"
   },
   {
    "duration": 4,
    "start_time": "2022-07-18T18:09:40.997Z"
   },
   {
    "duration": 627,
    "start_time": "2022-07-18T18:09:41.003Z"
   },
   {
    "duration": 7,
    "start_time": "2022-07-18T18:09:41.632Z"
   },
   {
    "duration": 22,
    "start_time": "2022-07-18T18:10:02.898Z"
   },
   {
    "duration": 4,
    "start_time": "2022-07-18T18:10:53.195Z"
   },
   {
    "duration": 47,
    "start_time": "2022-07-18T18:10:53.200Z"
   },
   {
    "duration": 6,
    "start_time": "2022-07-18T18:10:53.249Z"
   },
   {
    "duration": 723,
    "start_time": "2022-07-18T18:10:53.257Z"
   },
   {
    "duration": 6,
    "start_time": "2022-07-18T18:10:56.076Z"
   },
   {
    "duration": 44,
    "start_time": "2022-07-18T18:11:10.306Z"
   },
   {
    "duration": 5,
    "start_time": "2022-07-18T18:11:17.106Z"
   },
   {
    "duration": 47,
    "start_time": "2022-07-18T18:11:20.626Z"
   },
   {
    "duration": 6,
    "start_time": "2022-07-18T18:11:25.136Z"
   },
   {
    "duration": 26,
    "start_time": "2022-07-18T18:11:59.940Z"
   },
   {
    "duration": 16,
    "start_time": "2022-07-18T18:12:06.343Z"
   },
   {
    "duration": 7,
    "start_time": "2022-07-18T18:12:38.426Z"
   },
   {
    "duration": 15,
    "start_time": "2022-07-18T18:13:05.964Z"
   },
   {
    "duration": 17,
    "start_time": "2022-07-18T18:13:50.027Z"
   },
   {
    "duration": 17,
    "start_time": "2022-07-18T18:14:02.018Z"
   },
   {
    "duration": 17,
    "start_time": "2022-07-18T18:14:08.488Z"
   },
   {
    "duration": 23,
    "start_time": "2022-07-18T18:14:24.554Z"
   },
   {
    "duration": 8,
    "start_time": "2022-07-18T18:16:14.106Z"
   },
   {
    "duration": 6,
    "start_time": "2022-07-18T18:16:27.872Z"
   },
   {
    "duration": 4,
    "start_time": "2022-07-18T18:20:37.178Z"
   },
   {
    "duration": 55,
    "start_time": "2022-07-18T18:20:37.184Z"
   },
   {
    "duration": 5,
    "start_time": "2022-07-18T18:20:37.241Z"
   },
   {
    "duration": 715,
    "start_time": "2022-07-18T18:20:37.249Z"
   },
   {
    "duration": 8,
    "start_time": "2022-07-18T18:20:41.645Z"
   },
   {
    "duration": 25,
    "start_time": "2022-07-18T18:21:20.114Z"
   },
   {
    "duration": 17,
    "start_time": "2022-07-18T18:21:31.124Z"
   },
   {
    "duration": 16,
    "start_time": "2022-07-18T18:22:18.086Z"
   },
   {
    "duration": 18,
    "start_time": "2022-07-18T18:22:57.034Z"
   },
   {
    "duration": 17,
    "start_time": "2022-07-18T18:23:30.154Z"
   },
   {
    "duration": 17,
    "start_time": "2022-07-18T18:23:39.693Z"
   },
   {
    "duration": 677,
    "start_time": "2022-07-18T18:24:50.008Z"
   },
   {
    "duration": 8,
    "start_time": "2022-07-18T19:22:29.642Z"
   },
   {
    "duration": 8,
    "start_time": "2022-07-18T19:22:32.291Z"
   },
   {
    "duration": 86,
    "start_time": "2022-07-18T19:32:46.870Z"
   },
   {
    "duration": 9,
    "start_time": "2022-07-18T19:39:40.023Z"
   },
   {
    "duration": 6,
    "start_time": "2022-07-18T20:02:10.237Z"
   },
   {
    "duration": 6,
    "start_time": "2022-07-18T20:02:36.033Z"
   },
   {
    "duration": 10,
    "start_time": "2022-07-18T20:05:25.140Z"
   },
   {
    "duration": 9,
    "start_time": "2022-07-18T20:30:23.677Z"
   },
   {
    "duration": 10,
    "start_time": "2022-07-18T20:31:39.953Z"
   },
   {
    "duration": 10,
    "start_time": "2022-07-18T20:31:49.985Z"
   },
   {
    "duration": 1392,
    "start_time": "2022-07-18T20:40:47.287Z"
   },
   {
    "duration": 48,
    "start_time": "2022-07-18T20:40:48.682Z"
   },
   {
    "duration": 721,
    "start_time": "2022-07-18T20:40:48.731Z"
   },
   {
    "duration": 25,
    "start_time": "2022-07-18T20:40:49.454Z"
   },
   {
    "duration": 8,
    "start_time": "2022-07-18T20:40:49.481Z"
   },
   {
    "duration": 134,
    "start_time": "2022-07-18T20:40:49.490Z"
   },
   {
    "duration": 11,
    "start_time": "2022-07-18T20:40:49.626Z"
   },
   {
    "duration": 93,
    "start_time": "2022-07-18T20:40:49.640Z"
   },
   {
    "duration": 103,
    "start_time": "2022-07-18T20:40:49.738Z"
   },
   {
    "duration": 199,
    "start_time": "2022-07-18T20:40:49.843Z"
   },
   {
    "duration": 1545,
    "start_time": "2022-07-19T04:54:59.466Z"
   },
   {
    "duration": 54,
    "start_time": "2022-07-19T04:55:01.013Z"
   },
   {
    "duration": 716,
    "start_time": "2022-07-19T04:55:01.068Z"
   },
   {
    "duration": 26,
    "start_time": "2022-07-19T04:55:01.787Z"
   },
   {
    "duration": 9,
    "start_time": "2022-07-19T04:55:01.815Z"
   },
   {
    "duration": 81,
    "start_time": "2022-07-19T04:55:01.826Z"
   },
   {
    "duration": 57,
    "start_time": "2022-07-19T04:55:01.909Z"
   },
   {
    "duration": 212,
    "start_time": "2022-07-19T04:55:01.968Z"
   },
   {
    "duration": 65,
    "start_time": "2022-07-19T04:55:02.183Z"
   },
   {
    "duration": 124,
    "start_time": "2022-07-19T04:55:02.251Z"
   },
   {
    "duration": 1634,
    "start_time": "2022-07-19T17:55:22.194Z"
   },
   {
    "duration": 110,
    "start_time": "2022-07-19T17:55:23.830Z"
   },
   {
    "duration": 851,
    "start_time": "2022-07-19T17:55:23.941Z"
   },
   {
    "duration": 41,
    "start_time": "2022-07-19T17:55:24.794Z"
   },
   {
    "duration": 10,
    "start_time": "2022-07-19T17:55:24.837Z"
   },
   {
    "duration": 35,
    "start_time": "2022-07-19T17:55:24.849Z"
   },
   {
    "duration": 120,
    "start_time": "2022-07-19T17:55:24.926Z"
   },
   {
    "duration": 201,
    "start_time": "2022-07-19T17:55:25.049Z"
   },
   {
    "duration": 87,
    "start_time": "2022-07-19T17:55:25.252Z"
   },
   {
    "duration": 201,
    "start_time": "2022-07-19T17:55:25.345Z"
   }
  ],
  "kernelspec": {
   "display_name": "Python 3",
   "language": "python",
   "name": "python3"
  },
  "language_info": {
   "codemirror_mode": {
    "name": "ipython",
    "version": 3
   },
   "file_extension": ".py",
   "mimetype": "text/x-python",
   "name": "python",
   "nbconvert_exporter": "python",
   "pygments_lexer": "ipython3",
   "version": "3.8.8"
  },
  "toc": {
   "base_numbering": 1,
   "nav_menu": {},
   "number_sections": true,
   "sideBar": true,
   "skip_h1_title": true,
   "title_cell": "Содержание",
   "title_sidebar": "Contents",
   "toc_cell": true,
   "toc_position": {
    "height": "calc(100% - 180px)",
    "left": "10px",
    "top": "150px",
    "width": "165px"
   },
   "toc_section_display": true,
   "toc_window_display": true
  }
 },
 "nbformat": 4,
 "nbformat_minor": 2
}
