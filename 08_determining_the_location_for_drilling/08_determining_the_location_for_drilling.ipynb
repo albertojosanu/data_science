{
 "cells": [
  {
   "cell_type": "markdown",
   "metadata": {},
   "source": [
    "# Выбор локации для скважины"
   ]
  },
  {
   "cell_type": "markdown",
   "metadata": {},
   "source": [
    "Рассматривается проблема добывающей компании. Нужно решить, где бурить новую скважину.\n",
    "\n",
    "Предоставлены пробы нефти в трёх регионах: в каждом 10 000 месторождений, где измерили качество нефти и объём её запасов. Нужно остроить модель машинного обучения, которая поможет определить регион, где добыча принесёт наибольшую прибыль. Проанализировать возможную прибыль и риски техникой *Bootstrap.*\n",
    "\n",
    "Шаги для выбора локации:\n",
    "\n",
    "- В избранном регионе ищут месторождения, для каждого определяют значения признаков;\n",
    "- Строят модель и оценивают объём запасов;\n",
    "- Выбирают месторождения с самым высокими оценками значений. Количество месторождений зависит от бюджета компании и стоимости разработки одной скважины;\n",
    "- Прибыль равна суммарной прибыли отобранных месторождений."
   ]
  },
  {
   "cell_type": "markdown",
   "metadata": {},
   "source": [
    "## Загрузка и подготовка данных"
   ]
  },
  {
   "cell_type": "code",
   "execution_count": 1,
   "metadata": {},
   "outputs": [],
   "source": [
    "# Импорт библиотеки pandas\n",
    "import pandas as pd\n",
    "# Импорт библиотеки numpy\n",
    "import numpy as np\n",
    "# Импорт библиотеки matplotlib\n",
    "import matplotlib.pyplot as plt\n",
    "# Импорт библиотеки math\n",
    "import math\n",
    "# Импорт библиотеки seaborn\n",
    "import seaborn as sns\n",
    "# Импорт библиотеки sklearn и необходимых компонентов\n",
    "from sklearn.model_selection import train_test_split\n",
    "from sklearn.tree import DecisionTreeRegressor\n",
    "from sklearn.ensemble import RandomForestRegressor\n",
    "from sklearn.linear_model import LinearRegression\n",
    "from sklearn.model_selection import GridSearchCV\n",
    "from sklearn.model_selection import RandomizedSearchCV\n",
    "from sklearn.preprocessing import StandardScaler \n",
    "from sklearn.utils import shuffle\n",
    "from sklearn.model_selection import cross_val_score\n",
    "from sklearn.metrics import r2_score\n",
    "from sklearn.metrics import mean_squared_error\n",
    "from sklearn.metrics import mean_absolute_error \n",
    "from scipy import stats as st\n",
    "from scipy.stats import norm\n",
    "# Удаление ложных предупреждений\n",
    "pd.options.mode.chained_assignment = None  # default='warn'"
   ]
  },
  {
   "cell_type": "markdown",
   "metadata": {},
   "source": [
    "<font color='DarkBlue'> \n",
    "📌 Импортированы все библиотеки, используемые далее в проекте, и скорректированы настройки <br>\n",
    "</font> "
   ]
  },
  {
   "cell_type": "markdown",
   "metadata": {},
   "source": [
    "### Анализ датасета первого региона"
   ]
  },
  {
   "cell_type": "code",
   "execution_count": 2,
   "metadata": {
    "scrolled": false
   },
   "outputs": [
    {
     "name": "stdout",
     "output_type": "stream",
     "text": [
      "\u001b[1m\u001b[43m ----- Просмотр общей информации о dataframe ----- \u001b[0m\n",
      "<class 'pandas.core.frame.DataFrame'>\n",
      "RangeIndex: 100000 entries, 0 to 99999\n",
      "Data columns (total 5 columns):\n",
      " #   Column   Non-Null Count   Dtype  \n",
      "---  ------   --------------   -----  \n",
      " 0   id       100000 non-null  object \n",
      " 1   f0       100000 non-null  float64\n",
      " 2   f1       100000 non-null  float64\n",
      " 3   f2       100000 non-null  float64\n",
      " 4   product  100000 non-null  float64\n",
      "dtypes: float64(4), object(1)\n",
      "memory usage: 3.8+ MB\n",
      "\u001b[1m\u001b[43m ----- Информация о заголовках полей dataframe ----- \u001b[0m\n",
      "Index(['id', 'f0', 'f1', 'f2', 'product'], dtype='object')\n",
      "\u001b[1m\u001b[43m ----- Информация о типах полей dataframe ----- \u001b[0m\n",
      "id          object\n",
      "f0         float64\n",
      "f1         float64\n",
      "f2         float64\n",
      "product    float64\n",
      "dtype: object\n",
      "\u001b[1m\u001b[43m ----- Отображение на экране в читаемом виде первых записей таблицы dataframe для визуального анализа ----- \u001b[0m\n"
     ]
    },
    {
     "data": {
      "text/html": [
       "<div>\n",
       "<style scoped>\n",
       "    .dataframe tbody tr th:only-of-type {\n",
       "        vertical-align: middle;\n",
       "    }\n",
       "\n",
       "    .dataframe tbody tr th {\n",
       "        vertical-align: top;\n",
       "    }\n",
       "\n",
       "    .dataframe thead th {\n",
       "        text-align: right;\n",
       "    }\n",
       "</style>\n",
       "<table border=\"1\" class=\"dataframe\">\n",
       "  <thead>\n",
       "    <tr style=\"text-align: right;\">\n",
       "      <th></th>\n",
       "      <th>id</th>\n",
       "      <th>f0</th>\n",
       "      <th>f1</th>\n",
       "      <th>f2</th>\n",
       "      <th>product</th>\n",
       "    </tr>\n",
       "  </thead>\n",
       "  <tbody>\n",
       "    <tr>\n",
       "      <th>0</th>\n",
       "      <td>txEyH</td>\n",
       "      <td>0.705745</td>\n",
       "      <td>-0.497823</td>\n",
       "      <td>1.221170</td>\n",
       "      <td>105.280062</td>\n",
       "    </tr>\n",
       "    <tr>\n",
       "      <th>1</th>\n",
       "      <td>2acmU</td>\n",
       "      <td>1.334711</td>\n",
       "      <td>-0.340164</td>\n",
       "      <td>4.365080</td>\n",
       "      <td>73.037750</td>\n",
       "    </tr>\n",
       "    <tr>\n",
       "      <th>2</th>\n",
       "      <td>409Wp</td>\n",
       "      <td>1.022732</td>\n",
       "      <td>0.151990</td>\n",
       "      <td>1.419926</td>\n",
       "      <td>85.265647</td>\n",
       "    </tr>\n",
       "    <tr>\n",
       "      <th>3</th>\n",
       "      <td>iJLyR</td>\n",
       "      <td>-0.032172</td>\n",
       "      <td>0.139033</td>\n",
       "      <td>2.978566</td>\n",
       "      <td>168.620776</td>\n",
       "    </tr>\n",
       "    <tr>\n",
       "      <th>4</th>\n",
       "      <td>Xdl7t</td>\n",
       "      <td>1.988431</td>\n",
       "      <td>0.155413</td>\n",
       "      <td>4.751769</td>\n",
       "      <td>154.036647</td>\n",
       "    </tr>\n",
       "  </tbody>\n",
       "</table>\n",
       "</div>"
      ],
      "text/plain": [
       "      id        f0        f1        f2     product\n",
       "0  txEyH  0.705745 -0.497823  1.221170  105.280062\n",
       "1  2acmU  1.334711 -0.340164  4.365080   73.037750\n",
       "2  409Wp  1.022732  0.151990  1.419926   85.265647\n",
       "3  iJLyR -0.032172  0.139033  2.978566  168.620776\n",
       "4  Xdl7t  1.988431  0.155413  4.751769  154.036647"
      ]
     },
     "metadata": {},
     "output_type": "display_data"
    },
    {
     "name": "stdout",
     "output_type": "stream",
     "text": [
      "Количество явных дубликатов 0\n"
     ]
    }
   ],
   "source": [
    "# Загрузка таблицы в память переменной df типа dataframe\n",
    "df_1 = pd.read_csv('/datasets/geo_data_0.csv')\n",
    "# Разделители для удобства отображения информации указаны в виде отдельных пунктов 'print(\"\\033[1m\\033[43m {}\".format('----- Text -----'),\"\\033[0m\")'\n",
    "print('\\033[1m\\033[43m {}'.format('----- Просмотр общей информации о dataframe -----'),'\\033[0m')\n",
    "df_1.info()\n",
    "print('\\033[1m\\033[43m {}'.format('----- Информация о заголовках полей dataframe -----'),'\\033[0m')\n",
    "print(df_1.columns)\n",
    "print('\\033[1m\\033[43m {}'.format('----- Информация о типах полей dataframe -----'),'\\033[0m')\n",
    "print(df_1.dtypes)\n",
    "print('\\033[1m\\033[43m {}'.format('----- Отображение на экране в читаемом виде первых записей таблицы dataframe для визуального анализа -----'),'\\033[0m')\n",
    "display(df_1.head())\n",
    "print('Количество явных дубликатов', df_1.duplicated().sum())"
   ]
  },
  {
   "cell_type": "markdown",
   "metadata": {},
   "source": [
    "<font color='DarkBlue'> \n",
    "📌 В ходе первичного анализа данных сформированы следующие выводы: <br>\n",
    "    \n",
    "1. Отсутствует необходимость в редактировании заголовков, названия представлены в условно общепринятом формате 'Змеиный регистр'\n",
    "2. Отсутствуют пропуски и явные дубликаты, на данном этапе удаление строк не требуется. Можно рассмотреть количество записей с одинаковыми числовыми параметрами, например, с точностью до 3 знака\n",
    "3. Тип данных некоторых числовых полей желательно преобразовать для уменьшения объема памяти хранения данных\n",
    "4. В данных таблицы некорректные значения не наблюдаются. Необходимо детально рассмотреть параметры каждого столбца\n",
    "</font> "
   ]
  },
  {
   "cell_type": "code",
   "execution_count": 3,
   "metadata": {},
   "outputs": [
    {
     "name": "stdout",
     "output_type": "stream",
     "text": [
      "Количество возможных дубликатов 0\n"
     ]
    },
    {
     "data": {
      "text/html": [
       "<div>\n",
       "<style scoped>\n",
       "    .dataframe tbody tr th:only-of-type {\n",
       "        vertical-align: middle;\n",
       "    }\n",
       "\n",
       "    .dataframe tbody tr th {\n",
       "        vertical-align: top;\n",
       "    }\n",
       "\n",
       "    .dataframe thead th {\n",
       "        text-align: right;\n",
       "    }\n",
       "</style>\n",
       "<table border=\"1\" class=\"dataframe\">\n",
       "  <thead>\n",
       "    <tr style=\"text-align: right;\">\n",
       "      <th></th>\n",
       "      <th>id</th>\n",
       "      <th>f0</th>\n",
       "      <th>f1</th>\n",
       "      <th>f2</th>\n",
       "      <th>product</th>\n",
       "    </tr>\n",
       "  </thead>\n",
       "  <tbody>\n",
       "  </tbody>\n",
       "</table>\n",
       "</div>"
      ],
      "text/plain": [
       "Empty DataFrame\n",
       "Columns: [id, f0, f1, f2, product]\n",
       "Index: []"
      ]
     },
     "execution_count": 3,
     "metadata": {},
     "output_type": "execute_result"
    }
   ],
   "source": [
    "print('Количество возможных дубликатов', round(df_1.drop('id', axis=1),3).duplicated().sum())\n",
    "df_1[round(df_1.drop('id', axis=1),3).duplicated(keep=False)].sort_values(by='f0')"
   ]
  },
  {
   "cell_type": "code",
   "execution_count": 4,
   "metadata": {
    "scrolled": false
   },
   "outputs": [
    {
     "data": {
      "text/html": [
       "<div>\n",
       "<style scoped>\n",
       "    .dataframe tbody tr th:only-of-type {\n",
       "        vertical-align: middle;\n",
       "    }\n",
       "\n",
       "    .dataframe tbody tr th {\n",
       "        vertical-align: top;\n",
       "    }\n",
       "\n",
       "    .dataframe thead th {\n",
       "        text-align: right;\n",
       "    }\n",
       "</style>\n",
       "<table border=\"1\" class=\"dataframe\">\n",
       "  <thead>\n",
       "    <tr style=\"text-align: right;\">\n",
       "      <th></th>\n",
       "      <th>f0</th>\n",
       "      <th>f1</th>\n",
       "      <th>f2</th>\n",
       "      <th>product</th>\n",
       "    </tr>\n",
       "  </thead>\n",
       "  <tbody>\n",
       "    <tr>\n",
       "      <th>count</th>\n",
       "      <td>100000.000000</td>\n",
       "      <td>100000.000000</td>\n",
       "      <td>100000.000000</td>\n",
       "      <td>100000.000000</td>\n",
       "    </tr>\n",
       "    <tr>\n",
       "      <th>mean</th>\n",
       "      <td>0.500419</td>\n",
       "      <td>0.250143</td>\n",
       "      <td>2.502647</td>\n",
       "      <td>92.500000</td>\n",
       "    </tr>\n",
       "    <tr>\n",
       "      <th>std</th>\n",
       "      <td>0.871832</td>\n",
       "      <td>0.504433</td>\n",
       "      <td>3.248248</td>\n",
       "      <td>44.288691</td>\n",
       "    </tr>\n",
       "    <tr>\n",
       "      <th>min</th>\n",
       "      <td>-1.408605</td>\n",
       "      <td>-0.848218</td>\n",
       "      <td>-12.088328</td>\n",
       "      <td>0.000000</td>\n",
       "    </tr>\n",
       "    <tr>\n",
       "      <th>25%</th>\n",
       "      <td>-0.072580</td>\n",
       "      <td>-0.200881</td>\n",
       "      <td>0.287748</td>\n",
       "      <td>56.497507</td>\n",
       "    </tr>\n",
       "    <tr>\n",
       "      <th>50%</th>\n",
       "      <td>0.502360</td>\n",
       "      <td>0.250252</td>\n",
       "      <td>2.515969</td>\n",
       "      <td>91.849972</td>\n",
       "    </tr>\n",
       "    <tr>\n",
       "      <th>75%</th>\n",
       "      <td>1.073581</td>\n",
       "      <td>0.700646</td>\n",
       "      <td>4.715088</td>\n",
       "      <td>128.564089</td>\n",
       "    </tr>\n",
       "    <tr>\n",
       "      <th>max</th>\n",
       "      <td>2.362331</td>\n",
       "      <td>1.343769</td>\n",
       "      <td>16.003790</td>\n",
       "      <td>185.364347</td>\n",
       "    </tr>\n",
       "  </tbody>\n",
       "</table>\n",
       "</div>"
      ],
      "text/plain": [
       "                  f0             f1             f2        product\n",
       "count  100000.000000  100000.000000  100000.000000  100000.000000\n",
       "mean        0.500419       0.250143       2.502647      92.500000\n",
       "std         0.871832       0.504433       3.248248      44.288691\n",
       "min        -1.408605      -0.848218     -12.088328       0.000000\n",
       "25%        -0.072580      -0.200881       0.287748      56.497507\n",
       "50%         0.502360       0.250252       2.515969      91.849972\n",
       "75%         1.073581       0.700646       4.715088     128.564089\n",
       "max         2.362331       1.343769      16.003790     185.364347"
      ]
     },
     "metadata": {},
     "output_type": "display_data"
    },
    {
     "data": {
      "text/html": [
       "<div>\n",
       "<style scoped>\n",
       "    .dataframe tbody tr th:only-of-type {\n",
       "        vertical-align: middle;\n",
       "    }\n",
       "\n",
       "    .dataframe tbody tr th {\n",
       "        vertical-align: top;\n",
       "    }\n",
       "\n",
       "    .dataframe thead th {\n",
       "        text-align: right;\n",
       "    }\n",
       "</style>\n",
       "<table border=\"1\" class=\"dataframe\">\n",
       "  <thead>\n",
       "    <tr style=\"text-align: right;\">\n",
       "      <th></th>\n",
       "      <th>id</th>\n",
       "    </tr>\n",
       "  </thead>\n",
       "  <tbody>\n",
       "    <tr>\n",
       "      <th>count</th>\n",
       "      <td>100000</td>\n",
       "    </tr>\n",
       "    <tr>\n",
       "      <th>unique</th>\n",
       "      <td>99990</td>\n",
       "    </tr>\n",
       "    <tr>\n",
       "      <th>top</th>\n",
       "      <td>74z30</td>\n",
       "    </tr>\n",
       "    <tr>\n",
       "      <th>freq</th>\n",
       "      <td>2</td>\n",
       "    </tr>\n",
       "  </tbody>\n",
       "</table>\n",
       "</div>"
      ],
      "text/plain": [
       "            id\n",
       "count   100000\n",
       "unique   99990\n",
       "top      74z30\n",
       "freq         2"
      ]
     },
     "metadata": {},
     "output_type": "display_data"
    },
    {
     "name": "stdout",
     "output_type": "stream",
     "text": [
      "-----\n",
      "74z30    2\n",
      "bxg6G    2\n",
      "TtcGQ    2\n",
      "fiKDv    2\n",
      "QcMuo    2\n",
      "        ..\n",
      "dFvJv    1\n",
      "xaEGZ    1\n",
      "cPGZe    1\n",
      "LiW2W    1\n",
      "yXCSX    1\n",
      "Name: id, Length: 99990, dtype: int64\n",
      "-----\n",
      "f0\n"
     ]
    },
    {
     "data": {
      "image/png": "[encoded data removed]",
      "text/plain": [
       "<Figure size 432x288 with 1 Axes>"
      ]
     },
     "metadata": {
      "needs_background": "light"
     },
     "output_type": "display_data"
    },
    {
     "name": "stdout",
     "output_type": "stream",
     "text": [
      "f1\n"
     ]
    },
    {
     "data": {
      "image/png": "[encoded data removed]",
      "text/plain": [
       "<Figure size 432x288 with 1 Axes>"
      ]
     },
     "metadata": {
      "needs_background": "light"
     },
     "output_type": "display_data"
    },
    {
     "name": "stdout",
     "output_type": "stream",
     "text": [
      "f2\n"
     ]
    },
    {
     "data": {
      "image/png": "[encoded data removed]",
      "text/plain": [
       "<Figure size 432x288 with 1 Axes>"
      ]
     },
     "metadata": {
      "needs_background": "light"
     },
     "output_type": "display_data"
    },
    {
     "name": "stdout",
     "output_type": "stream",
     "text": [
      "product\n"
     ]
    },
    {
     "data": {
      "image/png": "[encoded data removed]",
      "text/plain": [
       "<Figure size 432x288 with 1 Axes>"
      ]
     },
     "metadata": {
      "needs_background": "light"
     },
     "output_type": "display_data"
    }
   ],
   "source": [
    "display(df_1.describe())\n",
    "try:\n",
    "    display(df_1.describe(include = ['object','bool','datetime']))\n",
    "    for i in df_1.select_dtypes(include=['object','bool','datetime']):\n",
    "        print('-----')\n",
    "        if df_1[i].count() != len(df_1[i].unique()):\n",
    "            print(df_1[i].value_counts())\n",
    "        else:\n",
    "            print('Все значения уникальны')\n",
    "except:\n",
    "    print('Все данные представлены в числовом формате')\n",
    "print('-----')\n",
    "for i in df_1:     \n",
    "    if not ((df_1[i].dtype == 'object') & (len(df_1[i].unique()) > 20)):\n",
    "        print(i)\n",
    "        if (len(df_1[i].unique()) < 20):\n",
    "            df_1[i].hist(bins=len(df_1[i].unique()))\n",
    "            plt.show()  \n",
    "        else:        \n",
    "            df_1[i].hist(bins=20)\n",
    "            plt.show()"
   ]
  },
  {
   "cell_type": "code",
   "execution_count": 5,
   "metadata": {},
   "outputs": [
    {
     "data": {
      "text/html": [
       "<div>\n",
       "<style scoped>\n",
       "    .dataframe tbody tr th:only-of-type {\n",
       "        vertical-align: middle;\n",
       "    }\n",
       "\n",
       "    .dataframe tbody tr th {\n",
       "        vertical-align: top;\n",
       "    }\n",
       "\n",
       "    .dataframe thead th {\n",
       "        text-align: right;\n",
       "    }\n",
       "</style>\n",
       "<table border=\"1\" class=\"dataframe\">\n",
       "  <thead>\n",
       "    <tr style=\"text-align: right;\">\n",
       "      <th></th>\n",
       "      <th>id</th>\n",
       "      <th>f0</th>\n",
       "      <th>f1</th>\n",
       "      <th>f2</th>\n",
       "      <th>product</th>\n",
       "    </tr>\n",
       "  </thead>\n",
       "  <tbody>\n",
       "    <tr>\n",
       "      <th>931</th>\n",
       "      <td>HZww2</td>\n",
       "      <td>0.755284</td>\n",
       "      <td>0.368511</td>\n",
       "      <td>1.863211</td>\n",
       "      <td>30.681774</td>\n",
       "    </tr>\n",
       "    <tr>\n",
       "      <th>7530</th>\n",
       "      <td>HZww2</td>\n",
       "      <td>1.061194</td>\n",
       "      <td>-0.373969</td>\n",
       "      <td>10.430210</td>\n",
       "      <td>158.828695</td>\n",
       "    </tr>\n",
       "  </tbody>\n",
       "</table>\n",
       "</div>"
      ],
      "text/plain": [
       "         id        f0        f1         f2     product\n",
       "931   HZww2  0.755284  0.368511   1.863211   30.681774\n",
       "7530  HZww2  1.061194 -0.373969  10.430210  158.828695"
      ]
     },
     "execution_count": 5,
     "metadata": {},
     "output_type": "execute_result"
    }
   ],
   "source": [
    "df_1[df_1['id'] == 'HZww2']    "
   ]
  },
  {
   "cell_type": "markdown",
   "metadata": {},
   "source": [
    "<font color='DarkBlue'> \n",
    "📌 Дубликаты, определяемые по подобным параметрам скважин, отсутствуют <br>\n",
    "📌 В базе присутствует 10 скважин с одинаковыми идентификаторами, возможно неверно обозначенных по причине наличия ручной ошибки или менее вероятно повторно исследуемых вследствие технологической ошибки, так как остальные их параметры не совпадают, о чем свидетельствует отсутствие дубликатов и выборочное сравнение одного из объектов <br>  \n",
    "📌 Объем запасов в скважинах нормально варьируется от 0 (абсолютно убыточные) до 186. Остальные параметры имеют также подобное распределение со снижением значений у периферий гистограммы <br>  \n",
    "📌 Рекомендуется преобразовать типы данных полей для оптимизации памяти <br>  \n",
    "📌 Необходимо удалить столбцы, не несущие полезной информации, так как модель машинного обучения использует все имеющиеся в своем алгоритме и пытается организовать возможные неполезные связи: 'id' <br>  \n",
    "</font>"
   ]
  },
  {
   "cell_type": "code",
   "execution_count": 6,
   "metadata": {},
   "outputs": [
    {
     "name": "stdout",
     "output_type": "stream",
     "text": [
      "<class 'pandas.core.frame.DataFrame'>\n",
      "RangeIndex: 100000 entries, 0 to 99999\n",
      "Data columns (total 5 columns):\n",
      " #   Column   Non-Null Count   Dtype  \n",
      "---  ------   --------------   -----  \n",
      " 0   id       100000 non-null  object \n",
      " 1   f0       100000 non-null  float32\n",
      " 2   f1       100000 non-null  float32\n",
      " 3   f2       100000 non-null  float32\n",
      " 4   product  100000 non-null  float32\n",
      "dtypes: float32(4), object(1)\n",
      "memory usage: 2.3+ MB\n"
     ]
    }
   ],
   "source": [
    "df_1[df_1.select_dtypes(include=['int']).columns] = df_1.select_dtypes(include=['int']).apply(pd.to_numeric,downcast='unsigned')\n",
    "df_1[df_1.select_dtypes(include=['float']).columns] = df_1.select_dtypes(include=['float']).apply(pd.to_numeric,downcast='float')\n",
    "df_1.info()"
   ]
  },
  {
   "cell_type": "code",
   "execution_count": 7,
   "metadata": {},
   "outputs": [],
   "source": [
    "df_1 = df_1.drop(['id'], axis=1)"
   ]
  },
  {
   "cell_type": "markdown",
   "metadata": {},
   "source": [
    "### Анализ датасета второго региона"
   ]
  },
  {
   "cell_type": "code",
   "execution_count": 8,
   "metadata": {},
   "outputs": [
    {
     "name": "stdout",
     "output_type": "stream",
     "text": [
      "\u001b[1m\u001b[43m ----- Просмотр общей информации о dataframe ----- \u001b[0m\n",
      "<class 'pandas.core.frame.DataFrame'>\n",
      "RangeIndex: 100000 entries, 0 to 99999\n",
      "Data columns (total 5 columns):\n",
      " #   Column   Non-Null Count   Dtype  \n",
      "---  ------   --------------   -----  \n",
      " 0   id       100000 non-null  object \n",
      " 1   f0       100000 non-null  float64\n",
      " 2   f1       100000 non-null  float64\n",
      " 3   f2       100000 non-null  float64\n",
      " 4   product  100000 non-null  float64\n",
      "dtypes: float64(4), object(1)\n",
      "memory usage: 3.8+ MB\n",
      "\u001b[1m\u001b[43m ----- Информация о заголовках полей dataframe ----- \u001b[0m\n",
      "Index(['id', 'f0', 'f1', 'f2', 'product'], dtype='object')\n",
      "\u001b[1m\u001b[43m ----- Информация о типах полей dataframe ----- \u001b[0m\n",
      "id          object\n",
      "f0         float64\n",
      "f1         float64\n",
      "f2         float64\n",
      "product    float64\n",
      "dtype: object\n",
      "\u001b[1m\u001b[43m ----- Отображение на экране в читаемом виде первых записей таблицы dataframe для визуального анализа ----- \u001b[0m\n"
     ]
    },
    {
     "data": {
      "text/html": [
       "<div>\n",
       "<style scoped>\n",
       "    .dataframe tbody tr th:only-of-type {\n",
       "        vertical-align: middle;\n",
       "    }\n",
       "\n",
       "    .dataframe tbody tr th {\n",
       "        vertical-align: top;\n",
       "    }\n",
       "\n",
       "    .dataframe thead th {\n",
       "        text-align: right;\n",
       "    }\n",
       "</style>\n",
       "<table border=\"1\" class=\"dataframe\">\n",
       "  <thead>\n",
       "    <tr style=\"text-align: right;\">\n",
       "      <th></th>\n",
       "      <th>id</th>\n",
       "      <th>f0</th>\n",
       "      <th>f1</th>\n",
       "      <th>f2</th>\n",
       "      <th>product</th>\n",
       "    </tr>\n",
       "  </thead>\n",
       "  <tbody>\n",
       "    <tr>\n",
       "      <th>0</th>\n",
       "      <td>kBEdx</td>\n",
       "      <td>-15.001348</td>\n",
       "      <td>-8.276000</td>\n",
       "      <td>-0.005876</td>\n",
       "      <td>3.179103</td>\n",
       "    </tr>\n",
       "    <tr>\n",
       "      <th>1</th>\n",
       "      <td>62mP7</td>\n",
       "      <td>14.272088</td>\n",
       "      <td>-3.475083</td>\n",
       "      <td>0.999183</td>\n",
       "      <td>26.953261</td>\n",
       "    </tr>\n",
       "    <tr>\n",
       "      <th>2</th>\n",
       "      <td>vyE1P</td>\n",
       "      <td>6.263187</td>\n",
       "      <td>-5.948386</td>\n",
       "      <td>5.001160</td>\n",
       "      <td>134.766305</td>\n",
       "    </tr>\n",
       "    <tr>\n",
       "      <th>3</th>\n",
       "      <td>KcrkZ</td>\n",
       "      <td>-13.081196</td>\n",
       "      <td>-11.506057</td>\n",
       "      <td>4.999415</td>\n",
       "      <td>137.945408</td>\n",
       "    </tr>\n",
       "    <tr>\n",
       "      <th>4</th>\n",
       "      <td>AHL4O</td>\n",
       "      <td>12.702195</td>\n",
       "      <td>-8.147433</td>\n",
       "      <td>5.004363</td>\n",
       "      <td>134.766305</td>\n",
       "    </tr>\n",
       "  </tbody>\n",
       "</table>\n",
       "</div>"
      ],
      "text/plain": [
       "      id         f0         f1        f2     product\n",
       "0  kBEdx -15.001348  -8.276000 -0.005876    3.179103\n",
       "1  62mP7  14.272088  -3.475083  0.999183   26.953261\n",
       "2  vyE1P   6.263187  -5.948386  5.001160  134.766305\n",
       "3  KcrkZ -13.081196 -11.506057  4.999415  137.945408\n",
       "4  AHL4O  12.702195  -8.147433  5.004363  134.766305"
      ]
     },
     "metadata": {},
     "output_type": "display_data"
    },
    {
     "name": "stdout",
     "output_type": "stream",
     "text": [
      "Количество явных дубликатов 0\n"
     ]
    }
   ],
   "source": [
    "# Загрузка таблицы в память переменной df типа dataframe\n",
    "df_2 = pd.read_csv('/datasets/geo_data_1.csv')\n",
    "# Разделители для удобства отображения информации указаны в виде отдельных пунктов 'print(\"\\033[1m\\033[43m {}\".format('----- Text -----'),\"\\033[0m\")'\n",
    "print(\"\\033[1m\\033[43m {}\".format('----- Просмотр общей информации о dataframe -----'),\"\\033[0m\")\n",
    "df_2.info()\n",
    "print(\"\\033[1m\\033[43m {}\".format('----- Информация о заголовках полей dataframe -----'),\"\\033[0m\")\n",
    "print(df_2.columns)\n",
    "print(\"\\033[1m\\033[43m {}\".format('----- Информация о типах полей dataframe -----'),\"\\033[0m\")\n",
    "print(df_2.dtypes)\n",
    "print(\"\\033[1m\\033[43m {}\".format('----- Отображение на экране в читаемом виде первых записей таблицы dataframe для визуального анализа -----'),\"\\033[0m\")\n",
    "display(df_2.head())\n",
    "print('Количество явных дубликатов', df_2.duplicated().sum())"
   ]
  },
  {
   "cell_type": "markdown",
   "metadata": {},
   "source": [
    "<font color='DarkBlue'> \n",
    "📌 В ходе первичного анализа данных сформированы следующие выводы: <br>\n",
    "    \n",
    "1. Отсутствует необходимость в редактировании заголовков, названия представлены в условно общепринятом формате 'Змеиный регистр'\n",
    "2. Отсутствуют пропуски и явные дубликаты, на данном этапе удаление строк не требуется. Можно рассмотреть количество записей с одинаковыми числовыми параметрами, например, с точностью до 3 знака\n",
    "3. Тип данных некоторых числовых полей желательно преобразовать для уменьшения объема памяти хранения данных\n",
    "4. В данных таблицы некорректные значения не наблюдаются. Необходимо детально рассмотреть параметры каждого столбца\n",
    "</font> "
   ]
  },
  {
   "cell_type": "code",
   "execution_count": 9,
   "metadata": {},
   "outputs": [
    {
     "name": "stdout",
     "output_type": "stream",
     "text": [
      "Количество возможных дубликатов 0\n"
     ]
    },
    {
     "data": {
      "text/html": [
       "<div>\n",
       "<style scoped>\n",
       "    .dataframe tbody tr th:only-of-type {\n",
       "        vertical-align: middle;\n",
       "    }\n",
       "\n",
       "    .dataframe tbody tr th {\n",
       "        vertical-align: top;\n",
       "    }\n",
       "\n",
       "    .dataframe thead th {\n",
       "        text-align: right;\n",
       "    }\n",
       "</style>\n",
       "<table border=\"1\" class=\"dataframe\">\n",
       "  <thead>\n",
       "    <tr style=\"text-align: right;\">\n",
       "      <th></th>\n",
       "      <th>id</th>\n",
       "      <th>f0</th>\n",
       "      <th>f1</th>\n",
       "      <th>f2</th>\n",
       "      <th>product</th>\n",
       "    </tr>\n",
       "  </thead>\n",
       "  <tbody>\n",
       "  </tbody>\n",
       "</table>\n",
       "</div>"
      ],
      "text/plain": [
       "Empty DataFrame\n",
       "Columns: [id, f0, f1, f2, product]\n",
       "Index: []"
      ]
     },
     "execution_count": 9,
     "metadata": {},
     "output_type": "execute_result"
    }
   ],
   "source": [
    "print('Количество возможных дубликатов', round(df_2.drop('id', axis=1),3).duplicated().sum())\n",
    "df_2[round(df_2.drop('id', axis=1),3).duplicated(keep=False)].sort_values(by='f0')"
   ]
  },
  {
   "cell_type": "code",
   "execution_count": 10,
   "metadata": {
    "scrolled": false
   },
   "outputs": [
    {
     "data": {
      "text/html": [
       "<div>\n",
       "<style scoped>\n",
       "    .dataframe tbody tr th:only-of-type {\n",
       "        vertical-align: middle;\n",
       "    }\n",
       "\n",
       "    .dataframe tbody tr th {\n",
       "        vertical-align: top;\n",
       "    }\n",
       "\n",
       "    .dataframe thead th {\n",
       "        text-align: right;\n",
       "    }\n",
       "</style>\n",
       "<table border=\"1\" class=\"dataframe\">\n",
       "  <thead>\n",
       "    <tr style=\"text-align: right;\">\n",
       "      <th></th>\n",
       "      <th>f0</th>\n",
       "      <th>f1</th>\n",
       "      <th>f2</th>\n",
       "      <th>product</th>\n",
       "    </tr>\n",
       "  </thead>\n",
       "  <tbody>\n",
       "    <tr>\n",
       "      <th>count</th>\n",
       "      <td>100000.000000</td>\n",
       "      <td>100000.000000</td>\n",
       "      <td>100000.000000</td>\n",
       "      <td>100000.000000</td>\n",
       "    </tr>\n",
       "    <tr>\n",
       "      <th>mean</th>\n",
       "      <td>1.141296</td>\n",
       "      <td>-4.796579</td>\n",
       "      <td>2.494541</td>\n",
       "      <td>68.825000</td>\n",
       "    </tr>\n",
       "    <tr>\n",
       "      <th>std</th>\n",
       "      <td>8.965932</td>\n",
       "      <td>5.119872</td>\n",
       "      <td>1.703572</td>\n",
       "      <td>45.944423</td>\n",
       "    </tr>\n",
       "    <tr>\n",
       "      <th>min</th>\n",
       "      <td>-31.609576</td>\n",
       "      <td>-26.358598</td>\n",
       "      <td>-0.018144</td>\n",
       "      <td>0.000000</td>\n",
       "    </tr>\n",
       "    <tr>\n",
       "      <th>25%</th>\n",
       "      <td>-6.298551</td>\n",
       "      <td>-8.267985</td>\n",
       "      <td>1.000021</td>\n",
       "      <td>26.953261</td>\n",
       "    </tr>\n",
       "    <tr>\n",
       "      <th>50%</th>\n",
       "      <td>1.153055</td>\n",
       "      <td>-4.813172</td>\n",
       "      <td>2.011479</td>\n",
       "      <td>57.085625</td>\n",
       "    </tr>\n",
       "    <tr>\n",
       "      <th>75%</th>\n",
       "      <td>8.621015</td>\n",
       "      <td>-1.332816</td>\n",
       "      <td>3.999904</td>\n",
       "      <td>107.813044</td>\n",
       "    </tr>\n",
       "    <tr>\n",
       "      <th>max</th>\n",
       "      <td>29.421755</td>\n",
       "      <td>18.734063</td>\n",
       "      <td>5.019721</td>\n",
       "      <td>137.945408</td>\n",
       "    </tr>\n",
       "  </tbody>\n",
       "</table>\n",
       "</div>"
      ],
      "text/plain": [
       "                  f0             f1             f2        product\n",
       "count  100000.000000  100000.000000  100000.000000  100000.000000\n",
       "mean        1.141296      -4.796579       2.494541      68.825000\n",
       "std         8.965932       5.119872       1.703572      45.944423\n",
       "min       -31.609576     -26.358598      -0.018144       0.000000\n",
       "25%        -6.298551      -8.267985       1.000021      26.953261\n",
       "50%         1.153055      -4.813172       2.011479      57.085625\n",
       "75%         8.621015      -1.332816       3.999904     107.813044\n",
       "max        29.421755      18.734063       5.019721     137.945408"
      ]
     },
     "metadata": {},
     "output_type": "display_data"
    },
    {
     "data": {
      "text/html": [
       "<div>\n",
       "<style scoped>\n",
       "    .dataframe tbody tr th:only-of-type {\n",
       "        vertical-align: middle;\n",
       "    }\n",
       "\n",
       "    .dataframe tbody tr th {\n",
       "        vertical-align: top;\n",
       "    }\n",
       "\n",
       "    .dataframe thead th {\n",
       "        text-align: right;\n",
       "    }\n",
       "</style>\n",
       "<table border=\"1\" class=\"dataframe\">\n",
       "  <thead>\n",
       "    <tr style=\"text-align: right;\">\n",
       "      <th></th>\n",
       "      <th>id</th>\n",
       "    </tr>\n",
       "  </thead>\n",
       "  <tbody>\n",
       "    <tr>\n",
       "      <th>count</th>\n",
       "      <td>100000</td>\n",
       "    </tr>\n",
       "    <tr>\n",
       "      <th>unique</th>\n",
       "      <td>99996</td>\n",
       "    </tr>\n",
       "    <tr>\n",
       "      <th>top</th>\n",
       "      <td>LHZR0</td>\n",
       "    </tr>\n",
       "    <tr>\n",
       "      <th>freq</th>\n",
       "      <td>2</td>\n",
       "    </tr>\n",
       "  </tbody>\n",
       "</table>\n",
       "</div>"
      ],
      "text/plain": [
       "            id\n",
       "count   100000\n",
       "unique   99996\n",
       "top      LHZR0\n",
       "freq         2"
      ]
     },
     "metadata": {},
     "output_type": "display_data"
    },
    {
     "name": "stdout",
     "output_type": "stream",
     "text": [
      "-----\n",
      "LHZR0    2\n",
      "wt4Uk    2\n",
      "5ltQ6    2\n",
      "bfPNe    2\n",
      "k9eWZ    1\n",
      "        ..\n",
      "odVIP    1\n",
      "U6s3F    1\n",
      "9234p    1\n",
      "fQckt    1\n",
      "3eFee    1\n",
      "Name: id, Length: 99996, dtype: int64\n",
      "-----\n",
      "f0\n"
     ]
    },
    {
     "data": {
      "image/png": "[encoded data removed]",
      "text/plain": [
       "<Figure size 432x288 with 1 Axes>"
      ]
     },
     "metadata": {
      "needs_background": "light"
     },
     "output_type": "display_data"
    },
    {
     "name": "stdout",
     "output_type": "stream",
     "text": [
      "f1\n"
     ]
    },
    {
     "data": {
      "image/png": "[encoded data removed]",
      "text/plain": [
       "<Figure size 432x288 with 1 Axes>"
      ]
     },
     "metadata": {
      "needs_background": "light"
     },
     "output_type": "display_data"
    },
    {
     "name": "stdout",
     "output_type": "stream",
     "text": [
      "f2\n"
     ]
    },
    {
     "data": {
      "image/png": "[encoded data removed]",
      "text/plain": [
       "<Figure size 432x288 with 1 Axes>"
      ]
     },
     "metadata": {
      "needs_background": "light"
     },
     "output_type": "display_data"
    },
    {
     "name": "stdout",
     "output_type": "stream",
     "text": [
      "product\n"
     ]
    },
    {
     "data": {
      "image/png": "[encoded data removed]",
      "text/plain": [
       "<Figure size 432x288 with 1 Axes>"
      ]
     },
     "metadata": {
      "needs_background": "light"
     },
     "output_type": "display_data"
    }
   ],
   "source": [
    "display(df_2.describe())\n",
    "try:\n",
    "    display(df_2.describe(include = ['object','bool','datetime']))\n",
    "    for i in df_2.select_dtypes(include=['object','bool','datetime']):\n",
    "        print('-----')\n",
    "        if df_2[i].count() != len(df_2[i].unique()):\n",
    "            print(df_2[i].value_counts())\n",
    "        else:\n",
    "            print('Все значения уникальны')\n",
    "except:\n",
    "    print('Все данные представлены в числовом формате')\n",
    "print('-----')\n",
    "for i in df_2:     \n",
    "    if not ((df_2[i].dtype == 'object') & (len(df_2[i].unique()) > 20)):\n",
    "        print(i)\n",
    "        if (len(df_2[i].unique()) < 20):\n",
    "            df_2[i].hist(bins=len(df_2[i].unique()))\n",
    "            plt.show()  \n",
    "        else:        \n",
    "            df_2[i].hist(bins=20)\n",
    "            plt.show()"
   ]
  },
  {
   "cell_type": "code",
   "execution_count": 11,
   "metadata": {},
   "outputs": [
    {
     "data": {
      "text/html": [
       "<div>\n",
       "<style scoped>\n",
       "    .dataframe tbody tr th:only-of-type {\n",
       "        vertical-align: middle;\n",
       "    }\n",
       "\n",
       "    .dataframe tbody tr th {\n",
       "        vertical-align: top;\n",
       "    }\n",
       "\n",
       "    .dataframe thead th {\n",
       "        text-align: right;\n",
       "    }\n",
       "</style>\n",
       "<table border=\"1\" class=\"dataframe\">\n",
       "  <thead>\n",
       "    <tr style=\"text-align: right;\">\n",
       "      <th></th>\n",
       "      <th>id</th>\n",
       "      <th>f0</th>\n",
       "      <th>f1</th>\n",
       "      <th>f2</th>\n",
       "      <th>product</th>\n",
       "    </tr>\n",
       "  </thead>\n",
       "  <tbody>\n",
       "    <tr>\n",
       "      <th>1305</th>\n",
       "      <td>LHZR0</td>\n",
       "      <td>11.170835</td>\n",
       "      <td>-1.945066</td>\n",
       "      <td>3.002872</td>\n",
       "      <td>80.859783</td>\n",
       "    </tr>\n",
       "    <tr>\n",
       "      <th>41906</th>\n",
       "      <td>LHZR0</td>\n",
       "      <td>-8.989672</td>\n",
       "      <td>-4.286607</td>\n",
       "      <td>2.009139</td>\n",
       "      <td>57.085625</td>\n",
       "    </tr>\n",
       "  </tbody>\n",
       "</table>\n",
       "</div>"
      ],
      "text/plain": [
       "          id         f0        f1        f2    product\n",
       "1305   LHZR0  11.170835 -1.945066  3.002872  80.859783\n",
       "41906  LHZR0  -8.989672 -4.286607  2.009139  57.085625"
      ]
     },
     "execution_count": 11,
     "metadata": {},
     "output_type": "execute_result"
    }
   ],
   "source": [
    "df_2[df_2['id'] == 'LHZR0']"
   ]
  },
  {
   "cell_type": "markdown",
   "metadata": {},
   "source": [
    "<font color='DarkBlue'> \n",
    "📌 Дубликаты, определяемые по подобным параметрам скважин, отсутствуют <br>\n",
    "📌 В базе присутствует 4 скважины с одинаковыми идентификаторами, возможно неверно обозначенных по причине наличия ручной ошибки или менее вероятно повторно исследуемых вследствие технологической ошибки, так как остальные их параметры не совпадают, о чем свидетельствует отсутствие дубликатов и выборочное сравнение одного из объектов <br>  \n",
    "📌 Объем запасов в скважинах варьируется от 0 (абсолютно убыточные) до 138 явно выраженным сгруппированным методом, сконцентрированным около выделенных значений. Остальные параметры имеют также подобную группировку и нормальное распределение со снижением значений у периферий гистограммы <br>  \n",
    "📌 Рекомендуется преобразовать типы данных полей для оптимизации памяти <br>  \n",
    "📌 Необходимо удалить столбцы, не несущие полезной информации: 'id' <br>  \n",
    "</font>"
   ]
  },
  {
   "cell_type": "code",
   "execution_count": 12,
   "metadata": {},
   "outputs": [
    {
     "name": "stdout",
     "output_type": "stream",
     "text": [
      "<class 'pandas.core.frame.DataFrame'>\n",
      "RangeIndex: 100000 entries, 0 to 99999\n",
      "Data columns (total 5 columns):\n",
      " #   Column   Non-Null Count   Dtype  \n",
      "---  ------   --------------   -----  \n",
      " 0   id       100000 non-null  object \n",
      " 1   f0       100000 non-null  float32\n",
      " 2   f1       100000 non-null  float32\n",
      " 3   f2       100000 non-null  float32\n",
      " 4   product  100000 non-null  float32\n",
      "dtypes: float32(4), object(1)\n",
      "memory usage: 2.3+ MB\n"
     ]
    }
   ],
   "source": [
    "df_2[df_2.select_dtypes(include=['int']).columns] = df_2.select_dtypes(include=['int']).apply(pd.to_numeric,downcast='unsigned')\n",
    "df_2[df_2.select_dtypes(include=['float']).columns] = df_2.select_dtypes(include=['float']).apply(pd.to_numeric,downcast='float')\n",
    "df_2.info()"
   ]
  },
  {
   "cell_type": "code",
   "execution_count": 13,
   "metadata": {},
   "outputs": [],
   "source": [
    "df_2 = df_2.drop(['id'], axis=1)"
   ]
  },
  {
   "cell_type": "markdown",
   "metadata": {},
   "source": [
    "### Анализ датасета третьего региона"
   ]
  },
  {
   "cell_type": "code",
   "execution_count": 14,
   "metadata": {},
   "outputs": [
    {
     "name": "stdout",
     "output_type": "stream",
     "text": [
      "\u001b[1m\u001b[43m ----- Просмотр общей информации о dataframe ----- \u001b[0m\n",
      "<class 'pandas.core.frame.DataFrame'>\n",
      "RangeIndex: 100000 entries, 0 to 99999\n",
      "Data columns (total 5 columns):\n",
      " #   Column   Non-Null Count   Dtype  \n",
      "---  ------   --------------   -----  \n",
      " 0   id       100000 non-null  object \n",
      " 1   f0       100000 non-null  float64\n",
      " 2   f1       100000 non-null  float64\n",
      " 3   f2       100000 non-null  float64\n",
      " 4   product  100000 non-null  float64\n",
      "dtypes: float64(4), object(1)\n",
      "memory usage: 3.8+ MB\n",
      "\u001b[1m\u001b[43m ----- Информация о заголовках полей dataframe ----- \u001b[0m\n",
      "Index(['id', 'f0', 'f1', 'f2', 'product'], dtype='object')\n",
      "\u001b[1m\u001b[43m ----- Информация о типах полей dataframe ----- \u001b[0m\n",
      "id          object\n",
      "f0         float64\n",
      "f1         float64\n",
      "f2         float64\n",
      "product    float64\n",
      "dtype: object\n",
      "\u001b[1m\u001b[43m ----- Отображение на экране в читаемом виде первых записей таблицы dataframe для визуального анализа ----- \u001b[0m\n"
     ]
    },
    {
     "data": {
      "text/html": [
       "<div>\n",
       "<style scoped>\n",
       "    .dataframe tbody tr th:only-of-type {\n",
       "        vertical-align: middle;\n",
       "    }\n",
       "\n",
       "    .dataframe tbody tr th {\n",
       "        vertical-align: top;\n",
       "    }\n",
       "\n",
       "    .dataframe thead th {\n",
       "        text-align: right;\n",
       "    }\n",
       "</style>\n",
       "<table border=\"1\" class=\"dataframe\">\n",
       "  <thead>\n",
       "    <tr style=\"text-align: right;\">\n",
       "      <th></th>\n",
       "      <th>id</th>\n",
       "      <th>f0</th>\n",
       "      <th>f1</th>\n",
       "      <th>f2</th>\n",
       "      <th>product</th>\n",
       "    </tr>\n",
       "  </thead>\n",
       "  <tbody>\n",
       "    <tr>\n",
       "      <th>0</th>\n",
       "      <td>fwXo0</td>\n",
       "      <td>-1.146987</td>\n",
       "      <td>0.963328</td>\n",
       "      <td>-0.828965</td>\n",
       "      <td>27.758673</td>\n",
       "    </tr>\n",
       "    <tr>\n",
       "      <th>1</th>\n",
       "      <td>WJtFt</td>\n",
       "      <td>0.262778</td>\n",
       "      <td>0.269839</td>\n",
       "      <td>-2.530187</td>\n",
       "      <td>56.069697</td>\n",
       "    </tr>\n",
       "    <tr>\n",
       "      <th>2</th>\n",
       "      <td>ovLUW</td>\n",
       "      <td>0.194587</td>\n",
       "      <td>0.289035</td>\n",
       "      <td>-5.586433</td>\n",
       "      <td>62.871910</td>\n",
       "    </tr>\n",
       "    <tr>\n",
       "      <th>3</th>\n",
       "      <td>q6cA6</td>\n",
       "      <td>2.236060</td>\n",
       "      <td>-0.553760</td>\n",
       "      <td>0.930038</td>\n",
       "      <td>114.572842</td>\n",
       "    </tr>\n",
       "    <tr>\n",
       "      <th>4</th>\n",
       "      <td>WPMUX</td>\n",
       "      <td>-0.515993</td>\n",
       "      <td>1.716266</td>\n",
       "      <td>5.899011</td>\n",
       "      <td>149.600746</td>\n",
       "    </tr>\n",
       "  </tbody>\n",
       "</table>\n",
       "</div>"
      ],
      "text/plain": [
       "      id        f0        f1        f2     product\n",
       "0  fwXo0 -1.146987  0.963328 -0.828965   27.758673\n",
       "1  WJtFt  0.262778  0.269839 -2.530187   56.069697\n",
       "2  ovLUW  0.194587  0.289035 -5.586433   62.871910\n",
       "3  q6cA6  2.236060 -0.553760  0.930038  114.572842\n",
       "4  WPMUX -0.515993  1.716266  5.899011  149.600746"
      ]
     },
     "metadata": {},
     "output_type": "display_data"
    },
    {
     "name": "stdout",
     "output_type": "stream",
     "text": [
      "Количество явных дубликатов 0\n"
     ]
    }
   ],
   "source": [
    "# Загрузка таблицы в память переменной df типа dataframe\n",
    "df_3 = pd.read_csv('/datasets/geo_data_2.csv')\n",
    "# Разделители для удобства отображения информации указаны в виде отдельных пунктов 'print(\"\\033[1m\\033[43m {}\".format('----- Text -----'),\"\\033[0m\")'\n",
    "print(\"\\033[1m\\033[43m {}\".format('----- Просмотр общей информации о dataframe -----'),\"\\033[0m\")\n",
    "df_3.info()\n",
    "print(\"\\033[1m\\033[43m {}\".format('----- Информация о заголовках полей dataframe -----'),\"\\033[0m\")\n",
    "print(df_3.columns)\n",
    "print(\"\\033[1m\\033[43m {}\".format('----- Информация о типах полей dataframe -----'),\"\\033[0m\")\n",
    "print(df_3.dtypes)\n",
    "print(\"\\033[1m\\033[43m {}\".format('----- Отображение на экране в читаемом виде первых записей таблицы dataframe для визуального анализа -----'),\"\\033[0m\")\n",
    "display(df_3.head())\n",
    "print('Количество явных дубликатов', df_3.duplicated().sum())"
   ]
  },
  {
   "cell_type": "markdown",
   "metadata": {},
   "source": [
    "<font color='DarkBlue'> \n",
    "📌 В ходе первичного анализа данных сформированы следующие выводы: <br>\n",
    "    \n",
    "1. Отсутствует необходимость в редактировании заголовков, названия представлены в условно общепринятом формате 'Змеиный регистр'\n",
    "2. Отсутствуют пропуски и явные дубликаты, на данном этапе удаление строк не требуется. Можно рассмотреть количество записей с одинаковыми числовыми параметрами, например, с точностью до 3 знака\n",
    "3. Тип данных некоторых числовых полей желательно преобразовать для уменьшения объема памяти хранения данных\n",
    "4. В данных таблицы некорректные значения не наблюдаются. Необходимо детально рассмотреть параметры каждого столбца\n",
    "</font> "
   ]
  },
  {
   "cell_type": "code",
   "execution_count": 15,
   "metadata": {},
   "outputs": [
    {
     "name": "stdout",
     "output_type": "stream",
     "text": [
      "Количество возможных дубликатов 0\n"
     ]
    },
    {
     "data": {
      "text/html": [
       "<div>\n",
       "<style scoped>\n",
       "    .dataframe tbody tr th:only-of-type {\n",
       "        vertical-align: middle;\n",
       "    }\n",
       "\n",
       "    .dataframe tbody tr th {\n",
       "        vertical-align: top;\n",
       "    }\n",
       "\n",
       "    .dataframe thead th {\n",
       "        text-align: right;\n",
       "    }\n",
       "</style>\n",
       "<table border=\"1\" class=\"dataframe\">\n",
       "  <thead>\n",
       "    <tr style=\"text-align: right;\">\n",
       "      <th></th>\n",
       "      <th>id</th>\n",
       "      <th>f0</th>\n",
       "      <th>f1</th>\n",
       "      <th>f2</th>\n",
       "      <th>product</th>\n",
       "    </tr>\n",
       "  </thead>\n",
       "  <tbody>\n",
       "  </tbody>\n",
       "</table>\n",
       "</div>"
      ],
      "text/plain": [
       "Empty DataFrame\n",
       "Columns: [id, f0, f1, f2, product]\n",
       "Index: []"
      ]
     },
     "execution_count": 15,
     "metadata": {},
     "output_type": "execute_result"
    }
   ],
   "source": [
    "print('Количество возможных дубликатов', round(df_3.drop('id', axis=1),3).duplicated().sum())\n",
    "df_3[round(df_3.drop('id', axis=1),3).duplicated(keep=False)].sort_values(by='f0')"
   ]
  },
  {
   "cell_type": "code",
   "execution_count": 16,
   "metadata": {
    "scrolled": false
   },
   "outputs": [
    {
     "data": {
      "text/html": [
       "<div>\n",
       "<style scoped>\n",
       "    .dataframe tbody tr th:only-of-type {\n",
       "        vertical-align: middle;\n",
       "    }\n",
       "\n",
       "    .dataframe tbody tr th {\n",
       "        vertical-align: top;\n",
       "    }\n",
       "\n",
       "    .dataframe thead th {\n",
       "        text-align: right;\n",
       "    }\n",
       "</style>\n",
       "<table border=\"1\" class=\"dataframe\">\n",
       "  <thead>\n",
       "    <tr style=\"text-align: right;\">\n",
       "      <th></th>\n",
       "      <th>f0</th>\n",
       "      <th>f1</th>\n",
       "      <th>f2</th>\n",
       "      <th>product</th>\n",
       "    </tr>\n",
       "  </thead>\n",
       "  <tbody>\n",
       "    <tr>\n",
       "      <th>count</th>\n",
       "      <td>100000.000000</td>\n",
       "      <td>100000.000000</td>\n",
       "      <td>100000.000000</td>\n",
       "      <td>100000.000000</td>\n",
       "    </tr>\n",
       "    <tr>\n",
       "      <th>mean</th>\n",
       "      <td>0.002023</td>\n",
       "      <td>-0.002081</td>\n",
       "      <td>2.495128</td>\n",
       "      <td>95.000000</td>\n",
       "    </tr>\n",
       "    <tr>\n",
       "      <th>std</th>\n",
       "      <td>1.732045</td>\n",
       "      <td>1.730417</td>\n",
       "      <td>3.473445</td>\n",
       "      <td>44.749921</td>\n",
       "    </tr>\n",
       "    <tr>\n",
       "      <th>min</th>\n",
       "      <td>-8.760004</td>\n",
       "      <td>-7.084020</td>\n",
       "      <td>-11.970335</td>\n",
       "      <td>0.000000</td>\n",
       "    </tr>\n",
       "    <tr>\n",
       "      <th>25%</th>\n",
       "      <td>-1.162288</td>\n",
       "      <td>-1.174820</td>\n",
       "      <td>0.130359</td>\n",
       "      <td>59.450441</td>\n",
       "    </tr>\n",
       "    <tr>\n",
       "      <th>50%</th>\n",
       "      <td>0.009424</td>\n",
       "      <td>-0.009482</td>\n",
       "      <td>2.484236</td>\n",
       "      <td>94.925613</td>\n",
       "    </tr>\n",
       "    <tr>\n",
       "      <th>75%</th>\n",
       "      <td>1.158535</td>\n",
       "      <td>1.163678</td>\n",
       "      <td>4.858794</td>\n",
       "      <td>130.595027</td>\n",
       "    </tr>\n",
       "    <tr>\n",
       "      <th>max</th>\n",
       "      <td>7.238262</td>\n",
       "      <td>7.844801</td>\n",
       "      <td>16.739402</td>\n",
       "      <td>190.029838</td>\n",
       "    </tr>\n",
       "  </tbody>\n",
       "</table>\n",
       "</div>"
      ],
      "text/plain": [
       "                  f0             f1             f2        product\n",
       "count  100000.000000  100000.000000  100000.000000  100000.000000\n",
       "mean        0.002023      -0.002081       2.495128      95.000000\n",
       "std         1.732045       1.730417       3.473445      44.749921\n",
       "min        -8.760004      -7.084020     -11.970335       0.000000\n",
       "25%        -1.162288      -1.174820       0.130359      59.450441\n",
       "50%         0.009424      -0.009482       2.484236      94.925613\n",
       "75%         1.158535       1.163678       4.858794     130.595027\n",
       "max         7.238262       7.844801      16.739402     190.029838"
      ]
     },
     "metadata": {},
     "output_type": "display_data"
    },
    {
     "data": {
      "text/html": [
       "<div>\n",
       "<style scoped>\n",
       "    .dataframe tbody tr th:only-of-type {\n",
       "        vertical-align: middle;\n",
       "    }\n",
       "\n",
       "    .dataframe tbody tr th {\n",
       "        vertical-align: top;\n",
       "    }\n",
       "\n",
       "    .dataframe thead th {\n",
       "        text-align: right;\n",
       "    }\n",
       "</style>\n",
       "<table border=\"1\" class=\"dataframe\">\n",
       "  <thead>\n",
       "    <tr style=\"text-align: right;\">\n",
       "      <th></th>\n",
       "      <th>id</th>\n",
       "    </tr>\n",
       "  </thead>\n",
       "  <tbody>\n",
       "    <tr>\n",
       "      <th>count</th>\n",
       "      <td>100000</td>\n",
       "    </tr>\n",
       "    <tr>\n",
       "      <th>unique</th>\n",
       "      <td>99996</td>\n",
       "    </tr>\n",
       "    <tr>\n",
       "      <th>top</th>\n",
       "      <td>Vcm5J</td>\n",
       "    </tr>\n",
       "    <tr>\n",
       "      <th>freq</th>\n",
       "      <td>2</td>\n",
       "    </tr>\n",
       "  </tbody>\n",
       "</table>\n",
       "</div>"
      ],
      "text/plain": [
       "            id\n",
       "count   100000\n",
       "unique   99996\n",
       "top      Vcm5J\n",
       "freq         2"
      ]
     },
     "metadata": {},
     "output_type": "display_data"
    },
    {
     "name": "stdout",
     "output_type": "stream",
     "text": [
      "-----\n",
      "Vcm5J    2\n",
      "VF7Jo    2\n",
      "xCHr8    2\n",
      "KUPhW    2\n",
      "krjlo    1\n",
      "        ..\n",
      "wVB4S    1\n",
      "pBwCV    1\n",
      "L6oja    1\n",
      "yf9Mw    1\n",
      "XL56l    1\n",
      "Name: id, Length: 99996, dtype: int64\n",
      "-----\n",
      "f0\n"
     ]
    },
    {
     "data": {
      "image/png": "[encoded data removed]",
      "text/plain": [
       "<Figure size 432x288 with 1 Axes>"
      ]
     },
     "metadata": {
      "needs_background": "light"
     },
     "output_type": "display_data"
    },
    {
     "name": "stdout",
     "output_type": "stream",
     "text": [
      "f1\n"
     ]
    },
    {
     "data": {
      "image/png": "[encoded data removed]",
      "text/plain": [
       "<Figure size 432x288 with 1 Axes>"
      ]
     },
     "metadata": {
      "needs_background": "light"
     },
     "output_type": "display_data"
    },
    {
     "name": "stdout",
     "output_type": "stream",
     "text": [
      "f2\n"
     ]
    },
    {
     "data": {
      "image/png": "[encoded data removed]",
      "text/plain": [
       "<Figure size 432x288 with 1 Axes>"
      ]
     },
     "metadata": {
      "needs_background": "light"
     },
     "output_type": "display_data"
    },
    {
     "name": "stdout",
     "output_type": "stream",
     "text": [
      "product\n"
     ]
    },
    {
     "data": {
      "image/png": "[encoded data removed]",
      "text/plain": [
       "<Figure size 432x288 with 1 Axes>"
      ]
     },
     "metadata": {
      "needs_background": "light"
     },
     "output_type": "display_data"
    }
   ],
   "source": [
    "display(df_3.describe())\n",
    "try:\n",
    "    display(df_3.describe(include = ['object','bool','datetime']))\n",
    "    for i in df_3.select_dtypes(include=['object','bool','datetime']):\n",
    "        print('-----')\n",
    "        if df_3[i].count() != len(df_3[i].unique()):\n",
    "            print(df_3[i].value_counts())\n",
    "        else:\n",
    "            print('Все значения уникальны')\n",
    "except:\n",
    "    print('Все данные представлены в числовом формате')\n",
    "print('-----')\n",
    "for i in df_3:     \n",
    "    if not ((df_3[i].dtype == 'object') & (len(df_3[i].unique()) > 20)):\n",
    "        print(i)\n",
    "        if (len(df_3[i].unique()) < 20):\n",
    "            df_3[i].hist(bins=len(df_3[i].unique()))\n",
    "            plt.show()  \n",
    "        else:        \n",
    "            df_3[i].hist(bins=20)\n",
    "            plt.show()"
   ]
  },
  {
   "cell_type": "code",
   "execution_count": 17,
   "metadata": {},
   "outputs": [
    {
     "data": {
      "text/html": [
       "<div>\n",
       "<style scoped>\n",
       "    .dataframe tbody tr th:only-of-type {\n",
       "        vertical-align: middle;\n",
       "    }\n",
       "\n",
       "    .dataframe tbody tr th {\n",
       "        vertical-align: top;\n",
       "    }\n",
       "\n",
       "    .dataframe thead th {\n",
       "        text-align: right;\n",
       "    }\n",
       "</style>\n",
       "<table border=\"1\" class=\"dataframe\">\n",
       "  <thead>\n",
       "    <tr style=\"text-align: right;\">\n",
       "      <th></th>\n",
       "      <th>id</th>\n",
       "      <th>f0</th>\n",
       "      <th>f1</th>\n",
       "      <th>f2</th>\n",
       "      <th>product</th>\n",
       "    </tr>\n",
       "  </thead>\n",
       "  <tbody>\n",
       "    <tr>\n",
       "      <th>28039</th>\n",
       "      <td>xCHr8</td>\n",
       "      <td>1.633027</td>\n",
       "      <td>0.368135</td>\n",
       "      <td>-2.378367</td>\n",
       "      <td>6.120525</td>\n",
       "    </tr>\n",
       "    <tr>\n",
       "      <th>43233</th>\n",
       "      <td>xCHr8</td>\n",
       "      <td>-0.847066</td>\n",
       "      <td>2.101796</td>\n",
       "      <td>5.597130</td>\n",
       "      <td>184.388641</td>\n",
       "    </tr>\n",
       "  </tbody>\n",
       "</table>\n",
       "</div>"
      ],
      "text/plain": [
       "          id        f0        f1        f2     product\n",
       "28039  xCHr8  1.633027  0.368135 -2.378367    6.120525\n",
       "43233  xCHr8 -0.847066  2.101796  5.597130  184.388641"
      ]
     },
     "execution_count": 17,
     "metadata": {},
     "output_type": "execute_result"
    }
   ],
   "source": [
    "df_3[df_3['id'] == 'xCHr8']"
   ]
  },
  {
   "cell_type": "markdown",
   "metadata": {},
   "source": [
    "<font color='DarkBlue'> \n",
    "📌 Дубликаты, определяемые по подобным параметрам скважин, отсутствуют <br>\n",
    "📌 В базе присутствует 4 скважины с одинаковыми идентификаторами, возможно неверно обозначенных по причине наличия ручной ошибки или менее вероятно повторно исследуемых вследствие технологической ошибки, так как остальные их параметры не совпадают, о чем свидетельствует отсутствие дубликатов и выборочное сравнение одного из объектов <br>  \n",
    "📌 Объем запасов в скважинах нормально варьируется от 0 (абсолютно убыточные) до 191. Остальные параметры имеют выраженное нормальное распределение со снижением значений у периферий гистограммы <br>  \n",
    "📌 Рекомендуется преобразовать типы данных полей для оптимизации памяти <br>  \n",
    "📌 Необходимо удалить столбцы, не несущие полезной информации: 'id' <br>  \n",
    "</font>"
   ]
  },
  {
   "cell_type": "code",
   "execution_count": 18,
   "metadata": {
    "scrolled": true
   },
   "outputs": [
    {
     "name": "stdout",
     "output_type": "stream",
     "text": [
      "<class 'pandas.core.frame.DataFrame'>\n",
      "RangeIndex: 100000 entries, 0 to 99999\n",
      "Data columns (total 5 columns):\n",
      " #   Column   Non-Null Count   Dtype  \n",
      "---  ------   --------------   -----  \n",
      " 0   id       100000 non-null  object \n",
      " 1   f0       100000 non-null  float32\n",
      " 2   f1       100000 non-null  float32\n",
      " 3   f2       100000 non-null  float32\n",
      " 4   product  100000 non-null  float32\n",
      "dtypes: float32(4), object(1)\n",
      "memory usage: 2.3+ MB\n"
     ]
    }
   ],
   "source": [
    "df_3[df_3.select_dtypes(include=['int']).columns] = df_3.select_dtypes(include=['int']).apply(pd.to_numeric,downcast='unsigned')\n",
    "df_3[df_3.select_dtypes(include=['float']).columns] = df_3.select_dtypes(include=['float']).apply(pd.to_numeric,downcast='float')\n",
    "df_3.info()"
   ]
  },
  {
   "cell_type": "code",
   "execution_count": 19,
   "metadata": {},
   "outputs": [],
   "source": [
    "df_3 = df_3.drop(['id'], axis=1)"
   ]
  },
  {
   "cell_type": "markdown",
   "metadata": {},
   "source": [
    "## Обучение и проверка модели"
   ]
  },
  {
   "cell_type": "markdown",
   "metadata": {},
   "source": [
    "### Создание модели для предсказания объёма запасов первого региона"
   ]
  },
  {
   "cell_type": "markdown",
   "metadata": {},
   "source": [
    "<font color='DarkBlue'> \n",
    "📌 Необходимо создать функцию, используемую в дальнейшем для обучения моделей исследуемых регионов добычи, разбив данные на обучающую и валидационную выборки в соотношении 75:25, и предсказать значения целевого признака для валидационной выборки <br>\n",
    "📌 Также требуется обозначить скоринг моделей на обучающей и валидационной выборках, средний запас предсказанного сырья <br>\n",
    "</font>"
   ]
  },
  {
   "cell_type": "code",
   "execution_count": 20,
   "metadata": {},
   "outputs": [],
   "source": [
    "def fit_model(df, kind):\n",
    "    df_features = df.drop('product', axis=1)\n",
    "    df_target = df['product']\n",
    "    df_features_train, df_features_valid, df_target_train, df_target_valid = train_test_split(df_features, df_target, test_size=0.25, random_state=12345)\n",
    "    if kind == 'rf':\n",
    "        model = RandomForestRegressor(random_state=12345)\n",
    "        grid = RandomizedSearchCV(model, {'n_estimators': range (11, 31, 10), 'max_depth': range (6, 11)}, cv=5)\n",
    "        grid.fit(df_features_train, df_target_train)\n",
    "        print('Лучшая модель:', grid.best_estimator_)\n",
    "        print('Параметры лучшей модели:', grid.best_params_)  \n",
    "        print('Лучшая метрика score:', grid.best_score_)   \n",
    "        model = grid.best_estimator_\n",
    "    else:\n",
    "        numeric = df.select_dtypes(include=['float32']).drop('product', axis=1).columns\n",
    "        scaler = StandardScaler()\n",
    "        scaler.fit(df_features_train[numeric]) \n",
    "        df_features_train[numeric] = scaler.transform(df_features_train[numeric])\n",
    "        df_features_valid[numeric] = scaler.transform(df_features_valid[numeric])\n",
    "        model = LinearRegression()\n",
    "        scores = cross_val_score(model, df_features_train, df_target_train, cv=5) \n",
    "        final_score = scores.mean()\n",
    "        print('Усредненное R2 на обучающей выборке', final_score) \n",
    "    model.fit(df_features_train, df_target_train)\n",
    "    df_predicted_valid = model.predict(df_features_valid)\n",
    "    print('R2 модели на обучающей выборке:', model.score(df_features_train, df_target_train))\n",
    "    print('R2 модели на валидационной выборке:', model.score(df_features_valid, df_target_valid))\n",
    "    print('RMSE модели на валидационной выборке:', mean_squared_error(df_target_valid, df_predicted_valid) ** 0.5)\n",
    "    print('MAE модели на валидационной выборке:', mean_absolute_error(df_target_valid, df_predicted_valid))\n",
    "    print('Средний запас предсказанного сырья:', df_predicted_valid.mean())\n",
    "    pd.Series(df_predicted_valid).hist(bins=20)\n",
    "    plt.show()\n",
    "    return df_features_train, df_features_valid, df_target_train, df_target_valid, df_predicted_valid"
   ]
  },
  {
   "cell_type": "markdown",
   "metadata": {},
   "source": [
    "<font color='DarkBlue'> \n",
    "📌 Желательно сравнить результаты предсказаний модели с использованием разных алгоритмов, например, случайного леса и линейной регрессии <br>\n",
    "</font>"
   ]
  },
  {
   "cell_type": "code",
   "execution_count": 21,
   "metadata": {
    "scrolled": false
   },
   "outputs": [
    {
     "name": "stdout",
     "output_type": "stream",
     "text": [
      "\u001b[1m\u001b[43m ----- Параметры модели для первого региона ----- \u001b[0m\n",
      "Лучшая модель: RandomForestRegressor(max_depth=9, n_estimators=21, random_state=12345)\n",
      "Параметры лучшей модели: {'n_estimators': 21, 'max_depth': 9}\n",
      "Лучшая метрика score: 0.29048198758592186\n",
      "R2 модели на обучающей выборке: 0.3276355458475617\n",
      "R2 модели на валидационной выборке: 0.2970339299921261\n",
      "RMSE модели на валидационной выборке: 37.130765332964614\n",
      "MAE модели на валидационной выборке: 30.541731948363026\n",
      "Средний запас предсказанного сырья: 92.55964959448642\n"
     ]
    },
    {
     "data": {
      "image/png": "[encoded data removed]",
      "text/plain": [
       "<Figure size 432x288 with 1 Axes>"
      ]
     },
     "metadata": {
      "needs_background": "light"
     },
     "output_type": "display_data"
    },
    {
     "name": "stdout",
     "output_type": "stream",
     "text": [
      "\u001b[1m\u001b[43m ----- Параметры модели для второго региона ----- \u001b[0m\n",
      "Лучшая модель: RandomForestRegressor(max_depth=7, n_estimators=21, random_state=12345)\n",
      "Параметры лучшей модели: {'n_estimators': 21, 'max_depth': 7}\n",
      "Лучшая метрика score: 0.9997625287345802\n",
      "R2 модели на обучающей выборке: 0.9997767943195982\n",
      "R2 модели на валидационной выборке: 0.9997563305799212\n",
      "RMSE модели на валидационной выборке: 0.7183876922965949\n",
      "MAE модели на валидационной выборке: 0.3190762543512469\n",
      "Средний запас предсказанного сырья: 68.7291540369082\n"
     ]
    },
    {
     "data": {
      "image/png": "[encoded data removed]",
      "text/plain": [
       "<Figure size 432x288 with 1 Axes>"
      ]
     },
     "metadata": {
      "needs_background": "light"
     },
     "output_type": "display_data"
    },
    {
     "name": "stdout",
     "output_type": "stream",
     "text": [
      "\u001b[1m\u001b[43m ----- Параметры модели для третьего региона ----- \u001b[0m\n",
      "Лучшая модель: RandomForestRegressor(max_depth=10, n_estimators=21, random_state=12345)\n",
      "Параметры лучшей модели: {'n_estimators': 21, 'max_depth': 10}\n",
      "Лучшая метрика score: 0.2877975222843939\n",
      "R2 модели на обучающей выборке: 0.3403266157094328\n",
      "R2 модели на валидационной выборке: 0.2935170045671779\n",
      "RMSE модели на валидационной выборке: 37.74134367005765\n",
      "MAE модели на валидационной выборке: 31.14847677567488\n",
      "Средний запас предсказанного сырья: 94.96680693712773\n"
     ]
    },
    {
     "data": {
      "image/png": "[encoded data removed]",
      "text/plain": [
       "<Figure size 432x288 with 1 Axes>"
      ]
     },
     "metadata": {
      "needs_background": "light"
     },
     "output_type": "display_data"
    }
   ],
   "source": [
    "print('\\033[1m\\033[43m {}'.format('----- Параметры модели для первого региона -----'),'\\033[0m')\n",
    "df_features_train_1, df_features_valid_1, df_target_train_1, df_target_valid_1, df_predicted_valid_1 = fit_model(df_1,'rf')\n",
    "print('\\033[1m\\033[43m {}'.format('----- Параметры модели для второго региона -----'),'\\033[0m')\n",
    "df_features_train_2, df_features_valid_2, df_target_train_2, df_target_valid_2, df_predicted_valid_2 = fit_model(df_2,'rf')\n",
    "print('\\033[1m\\033[43m {}'.format('----- Параметры модели для третьего региона -----'),'\\033[0m')\n",
    "df_features_train_3, df_features_valid_3, df_target_train_3, df_target_valid_3, df_predicted_valid_3 = fit_model(df_3,'rf')"
   ]
  },
  {
   "cell_type": "code",
   "execution_count": 22,
   "metadata": {},
   "outputs": [
    {
     "name": "stdout",
     "output_type": "stream",
     "text": [
      "\u001b[1m\u001b[43m ----- Параметры модели для первого региона ----- \u001b[0m\n",
      "Усредненное R2 на обучающей выборке 0.27408653428909235\n",
      "R2 модели на обучающей выборке: 0.2742390652670642\n",
      "R2 модели на валидационной выборке: 0.2799432141403785\n",
      "RMSE модели на валидационной выборке: 37.57941948134228\n",
      "MAE модели на валидационной выборке: 30.919603\n",
      "Средний запас предсказанного сырья: 92.59258\n"
     ]
    },
    {
     "data": {
      "image/png": "[encoded data removed]",
      "text/plain": [
       "<Figure size 432x288 with 1 Axes>"
      ]
     },
     "metadata": {
      "needs_background": "light"
     },
     "output_type": "display_data"
    },
    {
     "name": "stdout",
     "output_type": "stream",
     "text": [
      "\u001b[1m\u001b[43m ----- Параметры модели для второго региона ----- \u001b[0m\n",
      "Усредненное R2 на обучающей выборке 0.9996246812990066\n",
      "R2 модели на обучающей выборке: 0.9996247759518483\n",
      "R2 модели на валидационной выборке: 0.9996233978616408\n",
      "RMSE модели на валидационной выборке: 0.8930992758632121\n",
      "MAE модели на валидационной выборке: 0.71876633\n",
      "Средний запас предсказанного сырья: 68.728546\n"
     ]
    },
    {
     "data": {
      "image/png": "[encoded data removed]",
      "text/plain": [
       "<Figure size 432x288 with 1 Axes>"
      ]
     },
     "metadata": {
      "needs_background": "light"
     },
     "output_type": "display_data"
    },
    {
     "name": "stdout",
     "output_type": "stream",
     "text": [
      "\u001b[1m\u001b[43m ----- Параметры модели для третьего региона ----- \u001b[0m\n",
      "Усредненное R2 на обучающей выборке 0.19648225654588936\n",
      "R2 модели на обучающей выборке: 0.19661432910542231\n",
      "R2 модели на валидационной выборке: 0.20524758361558992\n",
      "RMSE модели на валидационной выборке: 40.0297085110117\n",
      "MAE модели на валидационной выборке: 32.79265\n",
      "Средний запас предсказанного сырья: 94.96505\n"
     ]
    },
    {
     "data": {
      "image/png": "[encoded data removed]",
      "text/plain": [
       "<Figure size 432x288 with 1 Axes>"
      ]
     },
     "metadata": {
      "needs_background": "light"
     },
     "output_type": "display_data"
    }
   ],
   "source": [
    "print('\\033[1m\\033[43m {}'.format('----- Параметры модели для первого региона -----'),'\\033[0m')\n",
    "df_features_train_1, df_features_valid_1, df_target_train_1, df_target_valid_1, df_predicted_valid_1 = fit_model(df_1,'lr')\n",
    "print('\\033[1m\\033[43m {}'.format('----- Параметры модели для второго региона -----'),'\\033[0m')\n",
    "df_features_train_2, df_features_valid_2, df_target_train_2, df_target_valid_2, df_predicted_valid_2 = fit_model(df_2,'lr')\n",
    "print('\\033[1m\\033[43m {}'.format('----- Параметры модели для третьего региона -----'),'\\033[0m')\n",
    "df_features_train_3, df_features_valid_3, df_target_train_3, df_target_valid_3, df_predicted_valid_3 = fit_model(df_3,'lr')"
   ]
  },
  {
   "cell_type": "markdown",
   "metadata": {},
   "source": [
    "<font color='DarkBlue'> \n",
    "📌 Заметно, что для модели линейной регрессии значения целевого признака наиболее сосредоточены в центральной области гистограмм, соответственно, менее выражен разброс значений, но параметры стандартного отклонения похожии. Точность модели случайного леса немного выше, но в целом показания метрик аналогичны. Наиболее оптимальной моделью является линейная регрессия по причине наименьшего разброса значений ее целевого признака, соответственно, большей определенности модели <br>\n",
    "📌 Самой точной является модель второго региона, так как значения целевого признака наиболее предсказуемы, наблюдаются явно выраженные равномерно распределенные скопления и провалы. Средний запас предсказанного ею сырья наименьший, но присутствует наибольшее количество прибыльных и убыточных скважин. Модели других регионов похожи, наблюдается нормальное распределение значений целевого признака, но наиболее точной является первая <br>\n",
    "</font>"
   ]
  },
  {
   "cell_type": "markdown",
   "metadata": {},
   "source": [
    "## Подготовка к расчёту прибыли"
   ]
  },
  {
   "cell_type": "markdown",
   "metadata": {},
   "source": [
    "<font color='DarkBlue'> \n",
    "📌 Бюджет на разработку скважин в регионе — 10 млрд. рублей, соответственно, и совокупные расходы на 200 лучших скважин для разработки <br>\n",
    "📌 Необходимо также определить доход с каждой скважины для безубыточной разработки и объем продукции <br>\n",
    "</font>"
   ]
  },
  {
   "cell_type": "code",
   "execution_count": 23,
   "metadata": {
    "scrolled": true
   },
   "outputs": [
    {
     "name": "stdout",
     "output_type": "stream",
     "text": [
      "Расходы: 10000000000\n",
      "Точка безубыточности одной скважины, руб.: 50000000.0\n",
      "Доход с единицы продукта (1000 баррелей), руб.: 450000\n",
      "Точка безубыточности одной скважины, ед.: 111.11111111111111\n"
     ]
    }
   ],
   "source": [
    "costs = 10000000000\n",
    "print('Расходы:', costs)\n",
    "income_rub = costs/200\n",
    "print('Точка безубыточности одной скважины, руб.:', income_rub)\n",
    "price = 450000\n",
    "print('Доход с единицы продукта (1000 баррелей), руб.:', price)\n",
    "income_bar = income_rub/price\n",
    "print('Точка безубыточности одной скважины, ед.:', income_bar)"
   ]
  },
  {
   "cell_type": "markdown",
   "metadata": {},
   "source": [
    "<font color='DarkBlue'> \n",
    "📌 Можно определить средний запас сырья в каждом регионе <br>\n",
    "</font>"
   ]
  },
  {
   "cell_type": "code",
   "execution_count": 24,
   "metadata": {},
   "outputs": [
    {
     "name": "stdout",
     "output_type": "stream",
     "text": [
      "Предсказанный запас сырья средней скважины в первом регионе, ед.: 92.59258\n",
      "Фактический запас сырья средней скважины в первом регионе, ед.: 92.0786\n",
      "Предсказанный запас сырья средней скважины во втором регионе, ед.: 68.728546\n",
      "Фактический запас сырья средней скважины в первом регионе, ед.: 68.72313\n",
      "Предсказанный запас сырья средней скважины в третьем регионе, ед.: 94.96505\n",
      "Фактический запас сырья средней скважины в первом регионе, ед.: 94.88424\n"
     ]
    }
   ],
   "source": [
    "print('Предсказанный запас сырья средней скважины в первом регионе, ед.:', df_predicted_valid_1.mean())\n",
    "print('Фактический запас сырья средней скважины в первом регионе, ед.:', df_target_valid_1.mean())\n",
    "print('Предсказанный запас сырья средней скважины во втором регионе, ед.:', df_predicted_valid_2.mean())\n",
    "print('Фактический запас сырья средней скважины в первом регионе, ед.:', df_target_valid_2.mean())\n",
    "print('Предсказанный запас сырья средней скважины в третьем регионе, ед.:', df_predicted_valid_3.mean())\n",
    "print('Фактический запас сырья средней скважины в первом регионе, ед.:', df_target_valid_3.mean())"
   ]
  },
  {
   "cell_type": "markdown",
   "metadata": {},
   "source": [
    "<font color='DarkBlue'> \n",
    "📌 Фактический запас сырья для средней скважины каждого региона коррелируется с предсказанным значением <br>\n",
    "📌 Запасы сырья для усредненных скважин в регионах меньше объема, требуемого для безубыточной разработки новой скважины. Поэтому необходимо выбрать 200 лучших по предсказаниям обученных моделей в каждом регионе для освоения бюджета в соответствии с заданием <br>    \n",
    "</font>"
   ]
  },
  {
   "cell_type": "markdown",
   "metadata": {},
   "source": [
    "## Расчёт прибыли и рисков "
   ]
  },
  {
   "cell_type": "markdown",
   "metadata": {},
   "source": [
    "<font color='DarkBlue'> \n",
    "📌 Требуется обозначить функцию для расчёта прибыли (разницу между доходами и расходами) по выбранным 200 скважинам в соответствии с наилучшими (максимальными) значениями добываемого сырья предсказаний модели <br> \n",
    "</font>"
   ]
  },
  {
   "cell_type": "code",
   "execution_count": 25,
   "metadata": {},
   "outputs": [],
   "source": [
    "def calculation(df_target_valid, df_predicted_valid):\n",
    "    df_predicted_valid_series = pd.Series(df_predicted_valid)\n",
    "    df_predicted_valid_series.index = df_target_valid.index\n",
    "    sum_bar = df_target_valid.loc[df_predicted_valid_series.sort_values(ascending=False).index][:200].sum()\n",
    "    sum_rub = df_target_valid.loc[df_predicted_valid_series.sort_values(ascending=False).index][:200].sum() * 450000 - costs\n",
    "    return sum_bar, sum_rub"
   ]
  },
  {
   "cell_type": "markdown",
   "metadata": {},
   "source": [
    "<font color='DarkBlue'> \n",
    "📌 Для каждого региона неоТебходимо определить объем сырья и прибыли с рассматриваемых скважин с помощью вышеуказанной функции <br> \n",
    "</font>"
   ]
  },
  {
   "cell_type": "code",
   "execution_count": 26,
   "metadata": {},
   "outputs": [
    {
     "name": "stdout",
     "output_type": "stream",
     "text": [
      "Объем полученного сырья со скважин первого региона 29601.836\n",
      "Объем полученного сырья со скважин второго региона 27589.086\n",
      "Объем полученного сырья со скважин третьего региона 28245.22\n",
      "Объем прибыли со скважин первого региона, руб. 3320826171.875\n",
      "Объем прибыли со скважин второго региона, руб. 2415088671.875\n",
      "Объем прибыли со скважин третьего региона, руб. 2710349316.40625\n"
     ]
    }
   ],
   "source": [
    "sum_bar_1, sum_rub_1 = calculation(df_target_valid_1, df_predicted_valid_1)\n",
    "sum_bar_2, sum_rub_2 = calculation(df_target_valid_2, df_predicted_valid_2)\n",
    "sum_bar_3, sum_rub_3 = calculation(df_target_valid_3, df_predicted_valid_3)\n",
    "print('Объем полученного сырья со скважин первого региона', sum_bar_1)\n",
    "print('Объем полученного сырья со скважин второго региона', sum_bar_2)\n",
    "print('Объем полученного сырья со скважин третьего региона', sum_bar_3)\n",
    "print('Объем прибыли со скважин первого региона, руб.', sum_rub_1)\n",
    "print('Объем прибыли со скважин второго региона, руб.', sum_rub_2)\n",
    "print('Объем прибыли со скважин третьего региона, руб.', sum_rub_3)"
   ]
  },
  {
   "cell_type": "markdown",
   "metadata": {},
   "source": [
    "<font color='DarkBlue'> \n",
    "📌 Наиболее прибыльным является первый регион при наличии информации о лучших объектах для разработки, затем третий и, соответственно, второй. Объем полученного сырья прямо пропорционален данным значениям. Все регионы имеют положительную прибыль <br> \n",
    "📌 Можно дополнительно указать получаемый объем сырья с наилучших скважин в регионе в соответстии с фактическими и предсказанными значениями по отдельности для определения качества работы модели. <br> \n",
    "</font>"
   ]
  },
  {
   "cell_type": "code",
   "execution_count": 27,
   "metadata": {},
   "outputs": [
    {
     "name": "stdout",
     "output_type": "stream",
     "text": [
      "Фактический объем полученного сырья со скважин первого региона 36690.992\n",
      "Предсказанный объем полученного сырья со скважин первого региона 31102.336\n",
      "Фактический объем полученного сырья со скважин второго региона 27589.086\n",
      "Предсказанный объем полученного сырья со скважин второго региона 27746.031\n",
      "Фактический объем полученного сырья со скважин третьего региона 37650.36\n",
      "Предсказанный объем полученного сырья со скважин третьего региона 29603.9\n"
     ]
    }
   ],
   "source": [
    "print('Фактический объем полученного сырья со скважин первого региона', df_target_valid_1.sort_values(ascending=False)[:200].sum())\n",
    "print('Предсказанный объем полученного сырья со скважин первого региона', pd.Series(df_predicted_valid_1).sort_values(ascending=False)[:200].sum())\n",
    "print('Фактический объем полученного сырья со скважин второго региона', df_target_valid_2.sort_values(ascending=False)[:200].sum())\n",
    "print('Предсказанный объем полученного сырья со скважин второго региона', pd.Series(df_predicted_valid_2).sort_values(ascending=False)[:200].sum())\n",
    "print('Фактический объем полученного сырья со скважин третьего региона', df_target_valid_3.sort_values(ascending=False)[:200].sum())\n",
    "print('Предсказанный объем полученного сырья со скважин третьего региона', pd.Series(df_predicted_valid_3).sort_values(ascending=False)[:200].sum())"
   ]
  },
  {
   "cell_type": "markdown",
   "metadata": {},
   "source": [
    "<font color='DarkBlue'> \n",
    "📌 Модель для второго региона наиболее точно предсказывает объем добычи с самых рентабельных скважин, как было указано ранее. Показания для третьей модели меньше остальных соответствуют фактическим значениям  <br> \n",
    "📌 Также можно определить необходимый для безубыточной разработки доход с 200 наиболее прибыльных скважин для каждого региона <br> \n",
    "</font>"
   ]
  },
  {
   "cell_type": "code",
   "execution_count": 28,
   "metadata": {},
   "outputs": [
    {
     "name": "stdout",
     "output_type": "stream",
     "text": [
      "Точка безубыточности одного региона, ед.: 22222.222222222223\n"
     ]
    }
   ],
   "source": [
    "income_region = costs/price\n",
    "print('Точка безубыточности одного региона, ед.:', income_region)"
   ]
  },
  {
   "cell_type": "markdown",
   "metadata": {},
   "source": [
    "<font color='DarkBlue'> \n",
    "📌 В соответствии с выводом о прибыльности предсказанных значений всех указанных выше расчетов точка безубыточности количества добываемого сырья всегда будет меньше. Следует проверить, не является ли подобное предположение случайным <br> \n",
    "📌 Для этого необходимо определить прибыль и риски убыточности для каждого региона в соответствии с предсказаниями обученных моделей, предварительно указав общую функцию определения ключевых метрик с применением техники bootstrap, рассматривая предсказания 200 из 500 случайных скважин: среднюю прибыль, 95%-й доверительный интервал и точку, определяющую вероятность разработки при получении нулевой доходности. Также полезно отобразить распределение прибыли <br> \n",
    "</font>"
   ]
  },
  {
   "cell_type": "code",
   "execution_count": 29,
   "metadata": {
    "scrolled": false
   },
   "outputs": [],
   "source": [
    "state = np.random.RandomState(12345)\n",
    "def analysis(df_target_valid, df_predicted_valid):\n",
    "    values = []\n",
    "    for i in range(1000):\n",
    "        target_subsample = df_target_valid.sample(n=500, replace=True, random_state=state)\n",
    "        df_predicted_valid_series = pd.Series(df_predicted_valid)\n",
    "        df_predicted_valid_series.index = df_target_valid.index    \n",
    "        predict_subsample = df_predicted_valid_series.loc[target_subsample.index]\n",
    "        values.append(calculation(target_subsample, predict_subsample))\n",
    "    values = pd.DataFrame(values)[1]\n",
    "    mean = values.mean()\n",
    "    print(\"Средняя выручка:\", mean)\n",
    "    lower = values.quantile(0.025)\n",
    "    print(\"2.5%-квантиль:\", lower)\n",
    "    higher = values.quantile(0.975)\n",
    "    print(\"97.5%-квантиль:\", higher)\n",
    "    confidence_interval = st.t.interval(0.95, len(values)-1, values.mean(), values.sem())\n",
    "    print('95%-ый доверительный интервал:', confidence_interval)\n",
    "    risk = st.norm(values.mean(), values.std()).cdf(0)\n",
    "    print('Риск убытков, %:', risk * 100) \n",
    "    plt.plot(range(int(values.mean() - 3 * values.std()), int(values.mean() + 3 * values.std()), 1000),st.norm.pdf(range(int(values.mean() - 3 * values.std()), int(values.mean() + 3 * values.std()), 1000), values.mean(), values.std()))\n",
    "    plt.show()\n",
    "    values.hist(bins=20)\n",
    "    plt.show()"
   ]
  },
  {
   "cell_type": "code",
   "execution_count": 30,
   "metadata": {
    "scrolled": false
   },
   "outputs": [
    {
     "name": "stdout",
     "output_type": "stream",
     "text": [
      "\u001b[1m\u001b[43m ----- Параметры предсказанной прибыли для первого региона ----- \u001b[0m\n",
      "Средняя выручка: 425938506.34765625\n",
      "2.5%-квантиль: -102090039.0625\n",
      "97.5%-квантиль: 947976479.4921875\n",
      "95%-ый доверительный интервал: (408732186.78535104, 443144825.90996146)\n",
      "Риск убытков, %: 6.225085258015766\n"
     ]
    },
    {
     "data": {
      "image/png": "[encoded data removed]",
      "text/plain": [
       "<Figure size 432x288 with 1 Axes>"
      ]
     },
     "metadata": {
      "needs_background": "light"
     },
     "output_type": "display_data"
    },
    {
     "data": {
      "image/png": "[encoded data removed]",
      "text/plain": [
       "<Figure size 432x288 with 1 Axes>"
      ]
     },
     "metadata": {
      "needs_background": "light"
     },
     "output_type": "display_data"
    },
    {
     "name": "stdout",
     "output_type": "stream",
     "text": [
      "\u001b[1m\u001b[43m ----- Параметры предсказанной прибыли для второго региона ----- \u001b[0m\n",
      "Средняя выручка: 518260765.625\n",
      "2.5%-квантиль: 128124489.74609375\n",
      "97.5%-квантиль: 953614091.796875\n",
      "95%-ый доверительный интервал: (505251152.9240029, 531270378.3259971)\n",
      "Риск убытков, %: 0.6716897899605077\n"
     ]
    },
    {
     "data": {
      "image/png": "[encoded data removed]",
      "text/plain": [
       "<Figure size 432x288 with 1 Axes>"
      ]
     },
     "metadata": {
      "needs_background": "light"
     },
     "output_type": "display_data"
    },
    {
     "data": {
      "image/png": "[encoded data removed]",
      "text/plain": [
       "<Figure size 432x288 with 1 Axes>"
      ]
     },
     "metadata": {
      "needs_background": "light"
     },
     "output_type": "display_data"
    },
    {
     "name": "stdout",
     "output_type": "stream",
     "text": [
      "\u001b[1m\u001b[43m ----- Параметры предсказанной прибыли для третьего региона ----- \u001b[0m\n",
      "Средняя выручка: 420193979.4921875\n",
      "2.5%-квантиль: -115852612.3046875\n",
      "97.5%-квантиль: 989630483.3984375\n",
      "95%-ый доверительный интервал: (402528678.06540674, 437859280.91896826)\n",
      "Риск убытков, %: 6.996419312669438\n"
     ]
    },
    {
     "data": {
      "image/png": "[encoded data removed]",
      "text/plain": [
       "<Figure size 432x288 with 1 Axes>"
      ]
     },
     "metadata": {
      "needs_background": "light"
     },
     "output_type": "display_data"
    },
    {
     "data": {
      "image/png": "[encoded data removed]",
      "text/plain": [
       "<Figure size 432x288 with 1 Axes>"
      ]
     },
     "metadata": {
      "needs_background": "light"
     },
     "output_type": "display_data"
    }
   ],
   "source": [
    "print('\\033[1m\\033[43m {}'.format('----- Параметры предсказанной прибыли для первого региона -----'),'\\033[0m')\n",
    "analysis(df_target_valid_1, df_predicted_valid_1)\n",
    "print('\\033[1m\\033[43m {}'.format('----- Параметры предсказанной прибыли для второго региона -----'),'\\033[0m')\n",
    "analysis(df_target_valid_2, df_predicted_valid_2)\n",
    "print('\\033[1m\\033[43m {}'.format('----- Параметры предсказанной прибыли для третьего региона -----'),'\\033[0m')\n",
    "analysis(df_target_valid_3, df_predicted_valid_3)"
   ]
  },
  {
   "cell_type": "markdown",
   "metadata": {},
   "source": [
    "<font color='DarkBlue'> \n",
    "📌 Исходя из указанной информации определяется, что для второго региона риск убыточности минимален, менее 1%, для остальных 6-7%. Следовательно, только во втором регионе вероятность убытков менее 2.5%, со скважин которого также получена наибольшая средняя прибыль. Объем продукта этого региона наиболее предсказуем и имеется большее количество наиболее прибыльных скважин в соответсвии с гистограммой, обозначенной в начале исследования. Средние значения с 95 % вероятностью попадают в текущий доверительный интервал. Данный регион будет лучшим для разработки скважин <br> \n",
    "    \n",
    "📌 На основании произведенных исследований можно сформировать следующие выводы: <br>   \n",
    "- предоставленные данные хорошего качества, для более удобного анализа необходимо преобразование типов данных в форматы, занимающие меньший объем памяти, и удаление неинформативного поля 'id' <br>\n",
    "- определено, что наилучшим алгоритмом обучения модели для прогноза ухода клиентов по исходным данным будет являться наиболее предсказуемая 'Линейная регрессия' <br>    \n",
    "- Лучшим регионом для разработки скважин по предсказаниям объема добычи в соответствии с их параметрами является второй, обученная модель которого отличается наиболее точными предсказаниями, соответсвенно, минимальными рисками убыточности, и достаточным количеством продуктивных объектов\n",
    "</font>"
   ]
  },
  {
   "cell_type": "code",
   "execution_count": null,
   "metadata": {},
   "outputs": [],
   "source": []
  }
 ],
 "metadata": {
  "ExecuteTimeLog": [
   {
    "duration": 1537,
    "start_time": "2022-06-15T15:59:34.717Z"
   },
   {
    "duration": 7,
    "start_time": "2022-06-15T16:00:47.819Z"
   },
   {
    "duration": 450,
    "start_time": "2022-06-15T16:00:49.132Z"
   },
   {
    "duration": 119,
    "start_time": "2022-06-15T16:02:51.317Z"
   },
   {
    "duration": 921,
    "start_time": "2022-06-15T16:03:44.571Z"
   },
   {
    "duration": 772,
    "start_time": "2022-06-15T16:04:38.307Z"
   },
   {
    "duration": 754,
    "start_time": "2022-06-15T16:04:47.906Z"
   },
   {
    "duration": 28,
    "start_time": "2022-06-15T16:11:25.931Z"
   },
   {
    "duration": 21,
    "start_time": "2022-06-15T16:11:31.520Z"
   },
   {
    "duration": 19,
    "start_time": "2022-06-15T16:11:35.830Z"
   },
   {
    "duration": 197,
    "start_time": "2022-06-15T16:12:11.078Z"
   },
   {
    "duration": 179,
    "start_time": "2022-06-15T16:12:51.348Z"
   },
   {
    "duration": 161,
    "start_time": "2022-06-15T16:13:50.809Z"
   },
   {
    "duration": 20,
    "start_time": "2022-06-15T16:13:55.279Z"
   },
   {
    "duration": 190,
    "start_time": "2022-06-15T16:14:19.058Z"
   },
   {
    "duration": 19,
    "start_time": "2022-06-15T16:14:29.758Z"
   },
   {
    "duration": 24,
    "start_time": "2022-06-15T16:17:11.144Z"
   },
   {
    "duration": 20,
    "start_time": "2022-06-15T16:17:32.340Z"
   },
   {
    "duration": 10,
    "start_time": "2022-06-15T16:17:37.659Z"
   },
   {
    "duration": 53,
    "start_time": "2022-06-15T16:17:42.209Z"
   },
   {
    "duration": 37,
    "start_time": "2022-06-15T16:18:55.279Z"
   },
   {
    "duration": 57,
    "start_time": "2022-06-15T16:19:08.353Z"
   },
   {
    "duration": 36,
    "start_time": "2022-06-15T16:23:36.087Z"
   },
   {
    "duration": 248,
    "start_time": "2022-06-15T16:24:19.717Z"
   },
   {
    "duration": 30,
    "start_time": "2022-06-15T16:24:41.559Z"
   },
   {
    "duration": 21,
    "start_time": "2022-06-15T16:24:49.308Z"
   },
   {
    "duration": 31,
    "start_time": "2022-06-15T16:25:07.091Z"
   },
   {
    "duration": 932,
    "start_time": "2022-06-15T16:26:15.303Z"
   },
   {
    "duration": 319,
    "start_time": "2022-06-15T16:26:26.987Z"
   },
   {
    "duration": 20,
    "start_time": "2022-06-15T16:26:51.887Z"
   },
   {
    "duration": 28,
    "start_time": "2022-06-15T16:26:54.204Z"
   },
   {
    "duration": 689,
    "start_time": "2022-06-15T16:26:57.297Z"
   },
   {
    "duration": 37,
    "start_time": "2022-06-15T16:27:44.857Z"
   },
   {
    "duration": 30,
    "start_time": "2022-06-15T16:27:55.083Z"
   },
   {
    "duration": 20,
    "start_time": "2022-06-15T16:28:09.399Z"
   },
   {
    "duration": 33,
    "start_time": "2022-06-15T16:28:16.879Z"
   },
   {
    "duration": 25,
    "start_time": "2022-06-15T16:28:28.528Z"
   },
   {
    "duration": 21,
    "start_time": "2022-06-15T16:28:36.936Z"
   },
   {
    "duration": 24,
    "start_time": "2022-06-15T16:28:39.069Z"
   },
   {
    "duration": 624,
    "start_time": "2022-06-15T16:28:57.865Z"
   },
   {
    "duration": 749,
    "start_time": "2022-06-15T16:29:33.287Z"
   },
   {
    "duration": 8,
    "start_time": "2022-06-15T16:32:16.017Z"
   },
   {
    "duration": 440,
    "start_time": "2022-06-15T16:32:30.395Z"
   },
   {
    "duration": 24,
    "start_time": "2022-06-15T16:32:50.764Z"
   },
   {
    "duration": 36,
    "start_time": "2022-06-15T16:33:07.507Z"
   },
   {
    "duration": 290,
    "start_time": "2022-06-15T16:34:54.936Z"
   },
   {
    "duration": 30,
    "start_time": "2022-06-15T16:34:58.689Z"
   },
   {
    "duration": 35,
    "start_time": "2022-06-15T16:35:01.828Z"
   },
   {
    "duration": 858,
    "start_time": "2022-06-15T16:35:06.686Z"
   },
   {
    "duration": 25,
    "start_time": "2022-06-15T16:35:12.955Z"
   },
   {
    "duration": 267,
    "start_time": "2022-06-15T16:35:33.096Z"
   },
   {
    "duration": 27,
    "start_time": "2022-06-15T16:35:35.658Z"
   },
   {
    "duration": 40,
    "start_time": "2022-06-15T16:35:37.599Z"
   },
   {
    "duration": 791,
    "start_time": "2022-06-15T16:35:39.515Z"
   },
   {
    "duration": 25,
    "start_time": "2022-06-15T16:35:43.163Z"
   },
   {
    "duration": 26,
    "start_time": "2022-06-15T17:11:32.085Z"
   },
   {
    "duration": 8,
    "start_time": "2022-06-15T17:13:45.501Z"
   },
   {
    "duration": 15,
    "start_time": "2022-06-15T17:13:55.057Z"
   },
   {
    "duration": 6,
    "start_time": "2022-06-15T17:14:18.881Z"
   },
   {
    "duration": 10,
    "start_time": "2022-06-15T17:14:22.755Z"
   },
   {
    "duration": 24,
    "start_time": "2022-06-15T17:14:26.235Z"
   },
   {
    "duration": 24,
    "start_time": "2022-06-15T17:14:46.689Z"
   },
   {
    "duration": 18,
    "start_time": "2022-06-15T17:15:23.225Z"
   },
   {
    "duration": 16,
    "start_time": "2022-06-15T17:15:54.017Z"
   },
   {
    "duration": 14,
    "start_time": "2022-06-15T17:15:56.504Z"
   },
   {
    "duration": 15,
    "start_time": "2022-06-15T17:16:05.089Z"
   },
   {
    "duration": 24,
    "start_time": "2022-06-15T17:16:36.655Z"
   },
   {
    "duration": 9,
    "start_time": "2022-06-15T17:17:00.537Z"
   },
   {
    "duration": 8,
    "start_time": "2022-06-15T17:17:08.928Z"
   },
   {
    "duration": 17,
    "start_time": "2022-06-15T17:17:16.615Z"
   },
   {
    "duration": 23,
    "start_time": "2022-06-15T17:18:24.448Z"
   },
   {
    "duration": 7,
    "start_time": "2022-06-15T17:18:40.107Z"
   },
   {
    "duration": 9,
    "start_time": "2022-06-15T17:19:01.227Z"
   },
   {
    "duration": 20,
    "start_time": "2022-06-15T17:19:17.025Z"
   },
   {
    "duration": 14,
    "start_time": "2022-06-15T17:19:24.416Z"
   },
   {
    "duration": 11,
    "start_time": "2022-06-15T17:19:28.985Z"
   },
   {
    "duration": 23,
    "start_time": "2022-06-15T17:19:34.343Z"
   },
   {
    "duration": 94,
    "start_time": "2022-06-15T17:20:52.948Z"
   },
   {
    "duration": 60,
    "start_time": "2022-06-15T17:21:12.909Z"
   },
   {
    "duration": 11,
    "start_time": "2022-06-15T17:21:38.186Z"
   },
   {
    "duration": 8,
    "start_time": "2022-06-15T17:21:55.087Z"
   },
   {
    "duration": 11,
    "start_time": "2022-06-15T17:22:05.216Z"
   },
   {
    "duration": 29,
    "start_time": "2022-06-15T17:22:20.585Z"
   },
   {
    "duration": 9,
    "start_time": "2022-06-15T17:30:45.626Z"
   },
   {
    "duration": 5,
    "start_time": "2022-06-15T17:30:55.236Z"
   },
   {
    "duration": 465,
    "start_time": "2022-06-15T17:31:00.296Z"
   },
   {
    "duration": 250,
    "start_time": "2022-06-15T17:31:04.815Z"
   },
   {
    "duration": 488,
    "start_time": "2022-06-15T17:37:55.071Z"
   },
   {
    "duration": 372,
    "start_time": "2022-06-15T17:38:29.088Z"
   },
   {
    "duration": 5,
    "start_time": "2022-06-15T17:38:44.134Z"
   },
   {
    "duration": 240,
    "start_time": "2022-06-15T17:39:09.039Z"
   },
   {
    "duration": 332,
    "start_time": "2022-06-15T17:39:17.833Z"
   },
   {
    "duration": 115,
    "start_time": "2022-06-15T17:40:54.059Z"
   },
   {
    "duration": 17,
    "start_time": "2022-06-15T17:47:04.043Z"
   },
   {
    "duration": 529,
    "start_time": "2022-06-15T17:47:08.733Z"
   },
   {
    "duration": 9,
    "start_time": "2022-06-15T17:47:37.453Z"
   },
   {
    "duration": 20,
    "start_time": "2022-06-15T17:47:41.048Z"
   },
   {
    "duration": 9,
    "start_time": "2022-06-15T17:47:43.093Z"
   },
   {
    "duration": 15,
    "start_time": "2022-06-15T17:48:22.893Z"
   },
   {
    "duration": 9,
    "start_time": "2022-06-15T17:48:26.977Z"
   },
   {
    "duration": 19,
    "start_time": "2022-06-15T17:48:35.081Z"
   },
   {
    "duration": 15,
    "start_time": "2022-06-15T17:48:54.174Z"
   },
   {
    "duration": 625,
    "start_time": "2022-06-15T17:49:03.244Z"
   },
   {
    "duration": 87,
    "start_time": "2022-06-15T17:49:08.273Z"
   },
   {
    "duration": 3,
    "start_time": "2022-06-15T17:49:11.215Z"
   },
   {
    "duration": 23,
    "start_time": "2022-06-15T17:49:21.877Z"
   },
   {
    "duration": 8,
    "start_time": "2022-06-15T17:49:32.114Z"
   },
   {
    "duration": 22,
    "start_time": "2022-06-15T17:49:42.589Z"
   },
   {
    "duration": 8,
    "start_time": "2022-06-15T17:49:44.353Z"
   },
   {
    "duration": 17,
    "start_time": "2022-06-15T17:49:47.693Z"
   },
   {
    "duration": 11,
    "start_time": "2022-06-15T17:49:51.469Z"
   },
   {
    "duration": 434,
    "start_time": "2022-06-15T17:49:54.228Z"
   },
   {
    "duration": 21,
    "start_time": "2022-06-15T17:52:04.156Z"
   },
   {
    "duration": 1337,
    "start_time": "2022-06-15T17:52:21.220Z"
   },
   {
    "duration": 14,
    "start_time": "2022-06-15T17:53:20.709Z"
   },
   {
    "duration": 15,
    "start_time": "2022-06-15T17:53:28.526Z"
   },
   {
    "duration": 12,
    "start_time": "2022-06-15T17:56:20.589Z"
   },
   {
    "duration": 37,
    "start_time": "2022-06-15T17:56:49.888Z"
   },
   {
    "duration": 13,
    "start_time": "2022-06-15T17:57:17.913Z"
   },
   {
    "duration": 344,
    "start_time": "2022-06-15T17:57:23.133Z"
   },
   {
    "duration": 4,
    "start_time": "2022-06-15T17:57:28.000Z"
   },
   {
    "duration": 429,
    "start_time": "2022-06-15T17:57:33.305Z"
   },
   {
    "duration": 479,
    "start_time": "2022-06-15T17:57:44.415Z"
   },
   {
    "duration": 12,
    "start_time": "2022-06-15T17:58:04.785Z"
   },
   {
    "duration": 122,
    "start_time": "2022-06-15T17:58:14.825Z"
   },
   {
    "duration": 214,
    "start_time": "2022-06-15T17:58:23.523Z"
   },
   {
    "duration": 93,
    "start_time": "2022-06-15T17:58:28.230Z"
   },
   {
    "duration": 125,
    "start_time": "2022-06-15T17:58:44.233Z"
   },
   {
    "duration": 11,
    "start_time": "2022-06-15T18:00:31.903Z"
   },
   {
    "duration": 7334,
    "start_time": "2022-06-15T18:00:42.727Z"
   },
   {
    "duration": 4104,
    "start_time": "2022-06-15T18:01:22.453Z"
   },
   {
    "duration": 0,
    "start_time": "2022-06-15T18:09:40.641Z"
   },
   {
    "duration": 14,
    "start_time": "2022-06-15T18:09:43.288Z"
   },
   {
    "duration": 31089,
    "start_time": "2022-06-15T18:09:48.349Z"
   },
   {
    "duration": 8,
    "start_time": "2022-06-15T18:10:23.193Z"
   },
   {
    "duration": 7,
    "start_time": "2022-06-15T18:10:26.124Z"
   },
   {
    "duration": 33963,
    "start_time": "2022-06-15T18:10:30.949Z"
   },
   {
    "duration": 0,
    "start_time": "2022-06-15T18:11:04.914Z"
   },
   {
    "duration": 1454,
    "start_time": "2022-06-15T18:11:12.020Z"
   },
   {
    "duration": 230,
    "start_time": "2022-06-15T18:11:13.479Z"
   },
   {
    "duration": 5,
    "start_time": "2022-06-15T18:11:28.123Z"
   },
   {
    "duration": 215,
    "start_time": "2022-06-15T18:11:28.130Z"
   },
   {
    "duration": 40,
    "start_time": "2022-06-15T18:11:28.348Z"
   },
   {
    "duration": 37,
    "start_time": "2022-06-15T18:11:28.390Z"
   },
   {
    "duration": 890,
    "start_time": "2022-06-15T18:11:28.428Z"
   },
   {
    "duration": 43,
    "start_time": "2022-06-15T18:11:29.320Z"
   },
   {
    "duration": 11,
    "start_time": "2022-06-15T18:11:29.370Z"
   },
   {
    "duration": 390,
    "start_time": "2022-06-15T18:11:29.383Z"
   },
   {
    "duration": 24,
    "start_time": "2022-06-15T18:11:29.776Z"
   },
   {
    "duration": 38,
    "start_time": "2022-06-15T18:11:29.803Z"
   },
   {
    "duration": 906,
    "start_time": "2022-06-15T18:11:29.843Z"
   },
   {
    "duration": 43,
    "start_time": "2022-06-15T18:11:30.752Z"
   },
   {
    "duration": 24,
    "start_time": "2022-06-15T18:11:30.797Z"
   },
   {
    "duration": 267,
    "start_time": "2022-06-15T18:11:30.825Z"
   },
   {
    "duration": 28,
    "start_time": "2022-06-15T18:11:31.094Z"
   },
   {
    "duration": 47,
    "start_time": "2022-06-15T18:11:31.123Z"
   },
   {
    "duration": 960,
    "start_time": "2022-06-15T18:11:31.171Z"
   },
   {
    "duration": 40,
    "start_time": "2022-06-15T18:11:32.133Z"
   },
   {
    "duration": 9,
    "start_time": "2022-06-15T18:11:32.176Z"
   },
   {
    "duration": 65,
    "start_time": "2022-06-15T18:11:32.187Z"
   },
   {
    "duration": 14,
    "start_time": "2022-06-15T18:11:32.254Z"
   },
   {
    "duration": 75,
    "start_time": "2022-06-15T18:11:32.271Z"
   },
   {
    "duration": 19,
    "start_time": "2022-06-15T18:11:32.348Z"
   },
   {
    "duration": 107,
    "start_time": "2022-06-15T18:11:34.428Z"
   },
   {
    "duration": 22,
    "start_time": "2022-06-15T18:11:42.171Z"
   },
   {
    "duration": 607,
    "start_time": "2022-06-15T18:13:54.958Z"
   },
   {
    "duration": 342,
    "start_time": "2022-06-15T18:14:46.021Z"
   },
   {
    "duration": 289,
    "start_time": "2022-06-15T18:15:00.583Z"
   },
   {
    "duration": 18525,
    "start_time": "2022-06-15T18:18:11.046Z"
   },
   {
    "duration": 18535,
    "start_time": "2022-06-15T18:18:35.207Z"
   },
   {
    "duration": 177,
    "start_time": "2022-06-15T18:19:29.391Z"
   },
   {
    "duration": 12560,
    "start_time": "2022-06-15T18:19:38.880Z"
   },
   {
    "duration": 333,
    "start_time": "2022-06-15T18:20:29.408Z"
   },
   {
    "duration": 190,
    "start_time": "2022-06-15T18:20:36.127Z"
   },
   {
    "duration": 173,
    "start_time": "2022-06-15T18:20:43.788Z"
   },
   {
    "duration": 183,
    "start_time": "2022-06-15T18:20:59.888Z"
   },
   {
    "duration": 12660,
    "start_time": "2022-06-15T18:21:07.298Z"
   },
   {
    "duration": 99986,
    "start_time": "2022-06-15T18:21:35.349Z"
   },
   {
    "duration": 14,
    "start_time": "2022-06-15T18:25:22.559Z"
   },
   {
    "duration": 192,
    "start_time": "2022-06-15T18:25:27.278Z"
   },
   {
    "duration": 14,
    "start_time": "2022-06-15T18:25:29.319Z"
   },
   {
    "duration": 11,
    "start_time": "2022-06-15T18:31:48.994Z"
   },
   {
    "duration": 111,
    "start_time": "2022-06-15T18:32:07.061Z"
   },
   {
    "duration": 83,
    "start_time": "2022-06-15T18:36:23.976Z"
   },
   {
    "duration": 190,
    "start_time": "2022-06-15T18:38:32.874Z"
   },
   {
    "duration": 61,
    "start_time": "2022-06-15T18:40:10.506Z"
   },
   {
    "duration": 209,
    "start_time": "2022-06-15T18:41:44.252Z"
   },
   {
    "duration": 60,
    "start_time": "2022-06-15T18:42:00.304Z"
   },
   {
    "duration": 183,
    "start_time": "2022-06-15T18:42:01.286Z"
   },
   {
    "duration": 216,
    "start_time": "2022-06-15T18:42:04.854Z"
   },
   {
    "duration": 57,
    "start_time": "2022-06-15T18:42:07.613Z"
   },
   {
    "duration": 103,
    "start_time": "2022-06-15T18:42:10.856Z"
   },
   {
    "duration": 95,
    "start_time": "2022-06-15T18:47:28.169Z"
   },
   {
    "duration": 95,
    "start_time": "2022-06-15T18:47:31.967Z"
   },
   {
    "duration": 11,
    "start_time": "2022-06-15T18:53:48.203Z"
   },
   {
    "duration": 105,
    "start_time": "2022-06-15T18:53:57.196Z"
   },
   {
    "duration": 7807,
    "start_time": "2022-06-15T18:54:06.900Z"
   },
   {
    "duration": 8,
    "start_time": "2022-06-15T18:54:22.668Z"
   },
   {
    "duration": 19,
    "start_time": "2022-06-15T18:54:24.341Z"
   },
   {
    "duration": 9,
    "start_time": "2022-06-15T18:54:25.927Z"
   },
   {
    "duration": 578,
    "start_time": "2022-06-15T18:54:27.999Z"
   },
   {
    "duration": 94,
    "start_time": "2022-06-15T18:54:32.567Z"
   },
   {
    "duration": 5,
    "start_time": "2022-06-15T18:54:53.058Z"
   },
   {
    "duration": 3119,
    "start_time": "2022-06-15T18:54:58.281Z"
   },
   {
    "duration": 20241,
    "start_time": "2022-06-15T18:55:08.554Z"
   },
   {
    "duration": 0,
    "start_time": "2022-06-15T18:55:28.797Z"
   },
   {
    "duration": 610,
    "start_time": "2022-06-15T18:55:41.449Z"
   },
   {
    "duration": 1393,
    "start_time": "2022-06-15T18:56:56.939Z"
   },
   {
    "duration": 201,
    "start_time": "2022-06-15T18:56:58.334Z"
   },
   {
    "duration": 37,
    "start_time": "2022-06-15T18:56:58.537Z"
   },
   {
    "duration": 40,
    "start_time": "2022-06-15T18:56:58.577Z"
   },
   {
    "duration": 789,
    "start_time": "2022-06-15T18:56:58.618Z"
   },
   {
    "duration": 29,
    "start_time": "2022-06-15T18:56:59.409Z"
   },
   {
    "duration": 22,
    "start_time": "2022-06-15T18:56:59.439Z"
   },
   {
    "duration": 262,
    "start_time": "2022-06-15T18:56:59.463Z"
   },
   {
    "duration": 18,
    "start_time": "2022-06-15T18:56:59.727Z"
   },
   {
    "duration": 23,
    "start_time": "2022-06-15T18:56:59.758Z"
   },
   {
    "duration": 763,
    "start_time": "2022-06-15T18:56:59.782Z"
   },
   {
    "duration": 37,
    "start_time": "2022-06-15T18:57:00.548Z"
   },
   {
    "duration": 14,
    "start_time": "2022-06-15T18:57:00.587Z"
   },
   {
    "duration": 243,
    "start_time": "2022-06-15T18:57:00.604Z"
   },
   {
    "duration": 39,
    "start_time": "2022-06-15T18:57:00.849Z"
   },
   {
    "duration": 35,
    "start_time": "2022-06-15T18:57:00.889Z"
   },
   {
    "duration": 837,
    "start_time": "2022-06-15T18:57:00.926Z"
   },
   {
    "duration": 25,
    "start_time": "2022-06-15T18:57:01.765Z"
   },
   {
    "duration": 19,
    "start_time": "2022-06-15T18:57:01.792Z"
   },
   {
    "duration": 16,
    "start_time": "2022-06-15T18:57:01.813Z"
   },
   {
    "duration": 8,
    "start_time": "2022-06-15T18:57:17.680Z"
   },
   {
    "duration": 18,
    "start_time": "2022-06-15T18:57:19.604Z"
   },
   {
    "duration": 8,
    "start_time": "2022-06-15T18:57:29.224Z"
   },
   {
    "duration": 380,
    "start_time": "2022-06-15T18:57:53.882Z"
   },
   {
    "duration": 19,
    "start_time": "2022-06-15T18:58:02.974Z"
   },
   {
    "duration": 149,
    "start_time": "2022-06-15T18:58:49.710Z"
   },
   {
    "duration": 182,
    "start_time": "2022-06-15T18:59:21.603Z"
   },
   {
    "duration": 124,
    "start_time": "2022-06-15T18:59:54.240Z"
   },
   {
    "duration": 169,
    "start_time": "2022-06-15T18:59:58.293Z"
   },
   {
    "duration": 150,
    "start_time": "2022-06-15T19:00:57.710Z"
   },
   {
    "duration": 527,
    "start_time": "2022-06-15T19:02:12.299Z"
   },
   {
    "duration": 43,
    "start_time": "2022-06-17T17:33:05.994Z"
   },
   {
    "duration": 1440,
    "start_time": "2022-06-17T17:33:10.435Z"
   },
   {
    "duration": 783,
    "start_time": "2022-06-17T17:33:11.878Z"
   },
   {
    "duration": 23,
    "start_time": "2022-06-17T17:33:12.663Z"
   },
   {
    "duration": 42,
    "start_time": "2022-06-17T17:33:12.687Z"
   },
   {
    "duration": 775,
    "start_time": "2022-06-17T17:33:12.730Z"
   },
   {
    "duration": 45,
    "start_time": "2022-06-17T17:33:13.507Z"
   },
   {
    "duration": 6,
    "start_time": "2022-06-17T17:33:13.554Z"
   },
   {
    "duration": 698,
    "start_time": "2022-06-17T17:33:13.562Z"
   },
   {
    "duration": 20,
    "start_time": "2022-06-17T17:33:14.262Z"
   },
   {
    "duration": 45,
    "start_time": "2022-06-17T17:33:14.286Z"
   },
   {
    "duration": 708,
    "start_time": "2022-06-17T17:33:14.333Z"
   },
   {
    "duration": 28,
    "start_time": "2022-06-17T17:33:15.043Z"
   },
   {
    "duration": 7,
    "start_time": "2022-06-17T17:33:15.073Z"
   },
   {
    "duration": 587,
    "start_time": "2022-06-17T17:33:15.082Z"
   },
   {
    "duration": 25,
    "start_time": "2022-06-17T17:33:15.670Z"
   },
   {
    "duration": 50,
    "start_time": "2022-06-17T17:33:15.696Z"
   },
   {
    "duration": 752,
    "start_time": "2022-06-17T17:33:15.748Z"
   },
   {
    "duration": 33,
    "start_time": "2022-06-17T17:33:16.502Z"
   },
   {
    "duration": 8,
    "start_time": "2022-06-17T17:33:16.537Z"
   },
   {
    "duration": 32,
    "start_time": "2022-06-17T17:33:16.547Z"
   },
   {
    "duration": 73760,
    "start_time": "2022-06-17T17:33:16.581Z"
   },
   {
    "duration": 9,
    "start_time": "2022-06-17T17:34:30.343Z"
   },
   {
    "duration": 40,
    "start_time": "2022-06-17T17:34:30.354Z"
   },
   {
    "duration": 30,
    "start_time": "2022-06-17T17:34:30.397Z"
   },
   {
    "duration": 299,
    "start_time": "2022-06-17T17:34:30.430Z"
   },
   {
    "duration": 424,
    "start_time": "2022-06-17T17:34:30.731Z"
   },
   {
    "duration": 300,
    "start_time": "2022-06-17T17:34:31.157Z"
   },
   {
    "duration": 512,
    "start_time": "2022-06-17T17:34:31.461Z"
   },
   {
    "duration": 3,
    "start_time": "2022-06-17T17:34:31.975Z"
   },
   {
    "duration": 9,
    "start_time": "2022-06-17T17:34:37.383Z"
   },
   {
    "duration": 3,
    "start_time": "2022-06-17T17:35:01.514Z"
   },
   {
    "duration": 94,
    "start_time": "2022-06-17T17:35:19.509Z"
   },
   {
    "duration": 247,
    "start_time": "2022-06-17T17:35:34.606Z"
   },
   {
    "duration": 5,
    "start_time": "2022-06-17T17:35:41.764Z"
   },
   {
    "duration": 12,
    "start_time": "2022-06-17T17:37:16.765Z"
   },
   {
    "duration": 9,
    "start_time": "2022-06-17T17:38:55.846Z"
   },
   {
    "duration": 24,
    "start_time": "2022-06-17T17:39:06.486Z"
   },
   {
    "duration": 14,
    "start_time": "2022-06-17T17:39:26.223Z"
   },
   {
    "duration": 31,
    "start_time": "2022-06-17T17:39:41.575Z"
   },
   {
    "duration": 8,
    "start_time": "2022-06-17T17:39:47.823Z"
   },
   {
    "duration": 7,
    "start_time": "2022-06-17T17:40:01.704Z"
   },
   {
    "duration": 7,
    "start_time": "2022-06-17T17:40:28.354Z"
   },
   {
    "duration": 7,
    "start_time": "2022-06-17T17:41:00.997Z"
   },
   {
    "duration": 8,
    "start_time": "2022-06-17T17:41:07.123Z"
   },
   {
    "duration": 7,
    "start_time": "2022-06-17T17:42:38.804Z"
   },
   {
    "duration": 7,
    "start_time": "2022-06-17T17:42:44.914Z"
   },
   {
    "duration": 6,
    "start_time": "2022-06-17T17:42:48.065Z"
   },
   {
    "duration": 9,
    "start_time": "2022-06-17T17:43:46.966Z"
   },
   {
    "duration": 18,
    "start_time": "2022-06-17T17:44:16.514Z"
   },
   {
    "duration": 12,
    "start_time": "2022-06-17T17:44:21.846Z"
   },
   {
    "duration": 16,
    "start_time": "2022-06-17T17:44:30.854Z"
   },
   {
    "duration": 4,
    "start_time": "2022-06-17T17:52:38.561Z"
   },
   {
    "duration": 3,
    "start_time": "2022-06-17T17:53:04.371Z"
   },
   {
    "duration": 4,
    "start_time": "2022-06-17T18:04:09.943Z"
   },
   {
    "duration": 3,
    "start_time": "2022-06-17T18:04:14.863Z"
   },
   {
    "duration": 4,
    "start_time": "2022-06-17T18:04:16.233Z"
   },
   {
    "duration": 6,
    "start_time": "2022-06-17T18:04:29.635Z"
   },
   {
    "duration": 4,
    "start_time": "2022-06-17T18:04:31.014Z"
   },
   {
    "duration": 4,
    "start_time": "2022-06-17T18:04:40.808Z"
   },
   {
    "duration": 5,
    "start_time": "2022-06-17T18:04:48.215Z"
   },
   {
    "duration": 4,
    "start_time": "2022-06-17T18:05:19.778Z"
   },
   {
    "duration": 4,
    "start_time": "2022-06-17T18:05:34.887Z"
   },
   {
    "duration": 8,
    "start_time": "2022-06-17T18:09:18.272Z"
   },
   {
    "duration": 3,
    "start_time": "2022-06-17T18:09:22.007Z"
   },
   {
    "duration": 5,
    "start_time": "2022-06-17T18:09:25.844Z"
   },
   {
    "duration": 6,
    "start_time": "2022-06-17T18:09:27.535Z"
   },
   {
    "duration": 4,
    "start_time": "2022-06-17T18:09:37.297Z"
   },
   {
    "duration": 4,
    "start_time": "2022-06-17T18:10:52.242Z"
   },
   {
    "duration": 4,
    "start_time": "2022-06-17T18:11:01.756Z"
   },
   {
    "duration": 4,
    "start_time": "2022-06-17T18:11:03.317Z"
   },
   {
    "duration": 5,
    "start_time": "2022-06-17T18:11:55.984Z"
   },
   {
    "duration": 6,
    "start_time": "2022-06-17T18:11:57.866Z"
   },
   {
    "duration": 8,
    "start_time": "2022-06-17T18:12:12.146Z"
   },
   {
    "duration": 6,
    "start_time": "2022-06-17T18:12:13.471Z"
   },
   {
    "duration": 8,
    "start_time": "2022-06-17T18:42:01.361Z"
   },
   {
    "duration": 4,
    "start_time": "2022-06-17T18:42:10.914Z"
   },
   {
    "duration": 8,
    "start_time": "2022-06-17T18:42:16.183Z"
   },
   {
    "duration": 4,
    "start_time": "2022-06-17T18:42:22.115Z"
   },
   {
    "duration": 8,
    "start_time": "2022-06-17T18:42:35.273Z"
   },
   {
    "duration": 8,
    "start_time": "2022-06-17T18:43:07.237Z"
   },
   {
    "duration": 9,
    "start_time": "2022-06-17T18:43:12.714Z"
   },
   {
    "duration": 9,
    "start_time": "2022-06-17T18:45:09.554Z"
   },
   {
    "duration": 7,
    "start_time": "2022-06-17T18:45:28.970Z"
   },
   {
    "duration": 6,
    "start_time": "2022-06-17T18:45:44.874Z"
   },
   {
    "duration": 4,
    "start_time": "2022-06-17T18:46:03.199Z"
   },
   {
    "duration": 5,
    "start_time": "2022-06-17T18:46:05.024Z"
   },
   {
    "duration": 5,
    "start_time": "2022-06-17T18:46:41.664Z"
   },
   {
    "duration": 5,
    "start_time": "2022-06-17T18:46:54.834Z"
   },
   {
    "duration": 5,
    "start_time": "2022-06-17T18:47:00.783Z"
   },
   {
    "duration": 5,
    "start_time": "2022-06-17T18:55:57.955Z"
   },
   {
    "duration": 5,
    "start_time": "2022-06-17T18:58:55.359Z"
   },
   {
    "duration": 5,
    "start_time": "2022-06-17T18:59:09.390Z"
   },
   {
    "duration": 6,
    "start_time": "2022-06-17T18:59:14.079Z"
   },
   {
    "duration": 9,
    "start_time": "2022-06-17T18:59:45.639Z"
   },
   {
    "duration": 10,
    "start_time": "2022-06-17T19:00:02.936Z"
   },
   {
    "duration": 7,
    "start_time": "2022-06-17T19:00:10.320Z"
   },
   {
    "duration": 42,
    "start_time": "2022-06-17T19:00:51.350Z"
   },
   {
    "duration": 17,
    "start_time": "2022-06-17T19:01:28.788Z"
   },
   {
    "duration": 6,
    "start_time": "2022-06-17T19:02:45.462Z"
   },
   {
    "duration": 4,
    "start_time": "2022-06-17T19:03:37.903Z"
   },
   {
    "duration": 5,
    "start_time": "2022-06-17T19:03:39.753Z"
   },
   {
    "duration": 5,
    "start_time": "2022-06-17T19:03:50.222Z"
   },
   {
    "duration": 5,
    "start_time": "2022-06-17T19:03:51.908Z"
   },
   {
    "duration": 22,
    "start_time": "2022-06-17T19:15:38.329Z"
   },
   {
    "duration": 20,
    "start_time": "2022-06-17T19:15:47.984Z"
   },
   {
    "duration": 12,
    "start_time": "2022-06-17T19:16:31.328Z"
   },
   {
    "duration": 348,
    "start_time": "2022-06-17T19:16:42.569Z"
   },
   {
    "duration": 6,
    "start_time": "2022-06-17T19:16:50.848Z"
   },
   {
    "duration": 7,
    "start_time": "2022-06-17T19:17:50.558Z"
   },
   {
    "duration": 431,
    "start_time": "2022-06-17T19:24:49.955Z"
   },
   {
    "duration": 6,
    "start_time": "2022-06-17T19:25:02.210Z"
   },
   {
    "duration": 382,
    "start_time": "2022-06-17T19:25:16.669Z"
   },
   {
    "duration": 10,
    "start_time": "2022-06-17T19:25:21.250Z"
   },
   {
    "duration": 6,
    "start_time": "2022-06-17T19:25:39.489Z"
   },
   {
    "duration": 6,
    "start_time": "2022-06-17T19:25:47.950Z"
   },
   {
    "duration": 9,
    "start_time": "2022-06-17T19:26:38.060Z"
   },
   {
    "duration": 7,
    "start_time": "2022-06-17T19:26:45.321Z"
   },
   {
    "duration": 24,
    "start_time": "2022-06-17T20:04:19.407Z"
   },
   {
    "duration": 7,
    "start_time": "2022-06-17T20:04:27.202Z"
   },
   {
    "duration": 7,
    "start_time": "2022-06-17T20:06:15.367Z"
   },
   {
    "duration": 6,
    "start_time": "2022-06-17T20:06:34.268Z"
   },
   {
    "duration": 8,
    "start_time": "2022-06-17T20:33:56.047Z"
   },
   {
    "duration": 3,
    "start_time": "2022-06-17T20:35:08.717Z"
   },
   {
    "duration": 3,
    "start_time": "2022-06-17T20:35:10.536Z"
   },
   {
    "duration": 6,
    "start_time": "2022-06-17T20:35:15.717Z"
   },
   {
    "duration": 6,
    "start_time": "2022-06-17T20:35:41.447Z"
   },
   {
    "duration": 5,
    "start_time": "2022-06-17T20:35:47.486Z"
   },
   {
    "duration": 5,
    "start_time": "2022-06-17T20:36:00.149Z"
   },
   {
    "duration": 9,
    "start_time": "2022-06-17T20:36:13.020Z"
   },
   {
    "duration": 4,
    "start_time": "2022-06-17T20:43:36.546Z"
   },
   {
    "duration": 4,
    "start_time": "2022-06-17T20:43:38.196Z"
   },
   {
    "duration": 46,
    "start_time": "2022-06-17T20:43:39.572Z"
   },
   {
    "duration": 19,
    "start_time": "2022-06-17T20:43:54.568Z"
   },
   {
    "duration": 14,
    "start_time": "2022-06-17T20:44:07.326Z"
   },
   {
    "duration": 9,
    "start_time": "2022-06-17T20:44:12.147Z"
   },
   {
    "duration": 10,
    "start_time": "2022-06-17T20:44:14.447Z"
   },
   {
    "duration": 7,
    "start_time": "2022-06-17T20:45:41.055Z"
   },
   {
    "duration": 8,
    "start_time": "2022-06-17T20:45:43.953Z"
   },
   {
    "duration": 7,
    "start_time": "2022-06-17T20:45:53.256Z"
   },
   {
    "duration": 5,
    "start_time": "2022-06-17T20:46:20.556Z"
   },
   {
    "duration": 7,
    "start_time": "2022-06-17T20:46:22.181Z"
   },
   {
    "duration": 4,
    "start_time": "2022-06-17T20:46:34.416Z"
   },
   {
    "duration": 5,
    "start_time": "2022-06-17T20:46:44.240Z"
   },
   {
    "duration": 8,
    "start_time": "2022-06-17T20:46:52.496Z"
   },
   {
    "duration": 8,
    "start_time": "2022-06-17T20:47:00.526Z"
   },
   {
    "duration": 7,
    "start_time": "2022-06-17T20:47:08.617Z"
   },
   {
    "duration": 12,
    "start_time": "2022-06-17T20:49:47.776Z"
   },
   {
    "duration": 12,
    "start_time": "2022-06-17T20:50:01.246Z"
   },
   {
    "duration": 10,
    "start_time": "2022-06-17T20:50:30.721Z"
   },
   {
    "duration": 8,
    "start_time": "2022-06-17T20:50:34.796Z"
   },
   {
    "duration": 7,
    "start_time": "2022-06-17T20:50:41.565Z"
   },
   {
    "duration": 8,
    "start_time": "2022-06-17T20:52:24.051Z"
   },
   {
    "duration": 8,
    "start_time": "2022-06-17T20:52:48.036Z"
   },
   {
    "duration": 9,
    "start_time": "2022-06-17T20:52:51.405Z"
   },
   {
    "duration": 7,
    "start_time": "2022-06-17T20:52:58.636Z"
   },
   {
    "duration": 29,
    "start_time": "2022-06-17T20:53:46.045Z"
   },
   {
    "duration": 9,
    "start_time": "2022-06-17T20:53:49.935Z"
   },
   {
    "duration": 9,
    "start_time": "2022-06-17T20:53:55.275Z"
   },
   {
    "duration": 11,
    "start_time": "2022-06-17T20:57:15.845Z"
   },
   {
    "duration": 12,
    "start_time": "2022-06-17T20:57:42.921Z"
   },
   {
    "duration": 10,
    "start_time": "2022-06-17T20:59:29.297Z"
   },
   {
    "duration": 8,
    "start_time": "2022-06-17T20:59:44.201Z"
   },
   {
    "duration": 8,
    "start_time": "2022-06-17T21:04:19.185Z"
   },
   {
    "duration": 8,
    "start_time": "2022-06-17T21:04:30.381Z"
   },
   {
    "duration": 8,
    "start_time": "2022-06-17T21:04:40.414Z"
   },
   {
    "duration": 7,
    "start_time": "2022-06-17T21:04:52.994Z"
   },
   {
    "duration": 9,
    "start_time": "2022-06-17T21:05:04.024Z"
   },
   {
    "duration": 11,
    "start_time": "2022-06-18T01:58:56.689Z"
   },
   {
    "duration": 43,
    "start_time": "2022-06-18T01:58:59.009Z"
   },
   {
    "duration": 1456,
    "start_time": "2022-06-18T01:59:03.894Z"
   },
   {
    "duration": 418,
    "start_time": "2022-06-18T01:59:05.352Z"
   },
   {
    "duration": 28,
    "start_time": "2022-06-18T01:59:05.771Z"
   },
   {
    "duration": 29,
    "start_time": "2022-06-18T01:59:05.801Z"
   },
   {
    "duration": 807,
    "start_time": "2022-06-18T01:59:05.831Z"
   },
   {
    "duration": 27,
    "start_time": "2022-06-18T01:59:06.640Z"
   },
   {
    "duration": 6,
    "start_time": "2022-06-18T01:59:06.669Z"
   },
   {
    "duration": 348,
    "start_time": "2022-06-18T01:59:06.677Z"
   },
   {
    "duration": 21,
    "start_time": "2022-06-18T01:59:07.027Z"
   },
   {
    "duration": 29,
    "start_time": "2022-06-18T01:59:07.051Z"
   },
   {
    "duration": 755,
    "start_time": "2022-06-18T01:59:07.095Z"
   },
   {
    "duration": 25,
    "start_time": "2022-06-18T01:59:07.851Z"
   },
   {
    "duration": 21,
    "start_time": "2022-06-18T01:59:07.877Z"
   },
   {
    "duration": 282,
    "start_time": "2022-06-18T01:59:07.900Z"
   },
   {
    "duration": 26,
    "start_time": "2022-06-18T01:59:08.184Z"
   },
   {
    "duration": 30,
    "start_time": "2022-06-18T01:59:08.212Z"
   },
   {
    "duration": 836,
    "start_time": "2022-06-18T01:59:08.244Z"
   },
   {
    "duration": 34,
    "start_time": "2022-06-18T01:59:09.081Z"
   },
   {
    "duration": 6,
    "start_time": "2022-06-18T01:59:09.117Z"
   },
   {
    "duration": 14,
    "start_time": "2022-06-18T01:59:09.125Z"
   },
   {
    "duration": 77084,
    "start_time": "2022-06-18T01:59:09.140Z"
   },
   {
    "duration": 7,
    "start_time": "2022-06-18T02:00:26.226Z"
   },
   {
    "duration": 22,
    "start_time": "2022-06-18T02:00:26.234Z"
   },
   {
    "duration": 8,
    "start_time": "2022-06-18T02:00:26.257Z"
   },
   {
    "duration": 433,
    "start_time": "2022-06-18T02:00:26.266Z"
   },
   {
    "duration": 246,
    "start_time": "2022-06-18T02:00:26.701Z"
   },
   {
    "duration": 0,
    "start_time": "2022-06-18T02:00:26.948Z"
   },
   {
    "duration": 0,
    "start_time": "2022-06-18T02:00:26.949Z"
   },
   {
    "duration": 0,
    "start_time": "2022-06-18T02:00:26.950Z"
   },
   {
    "duration": 0,
    "start_time": "2022-06-18T02:00:26.951Z"
   },
   {
    "duration": 0,
    "start_time": "2022-06-18T02:00:26.953Z"
   },
   {
    "duration": 0,
    "start_time": "2022-06-18T02:00:26.953Z"
   },
   {
    "duration": 0,
    "start_time": "2022-06-18T02:00:26.954Z"
   },
   {
    "duration": 0,
    "start_time": "2022-06-18T02:00:26.955Z"
   },
   {
    "duration": 0,
    "start_time": "2022-06-18T02:00:26.956Z"
   },
   {
    "duration": 0,
    "start_time": "2022-06-18T02:00:26.957Z"
   },
   {
    "duration": 0,
    "start_time": "2022-06-18T02:00:26.958Z"
   },
   {
    "duration": 0,
    "start_time": "2022-06-18T02:00:26.959Z"
   },
   {
    "duration": 0,
    "start_time": "2022-06-18T02:00:26.959Z"
   },
   {
    "duration": 354,
    "start_time": "2022-06-18T02:04:00.799Z"
   },
   {
    "duration": 446,
    "start_time": "2022-06-18T02:04:03.889Z"
   },
   {
    "duration": 498,
    "start_time": "2022-06-18T02:04:06.839Z"
   },
   {
    "duration": 3,
    "start_time": "2022-06-18T02:04:14.923Z"
   },
   {
    "duration": 4,
    "start_time": "2022-06-18T02:04:16.493Z"
   },
   {
    "duration": 4,
    "start_time": "2022-06-18T02:04:19.287Z"
   },
   {
    "duration": 4,
    "start_time": "2022-06-18T02:04:20.873Z"
   },
   {
    "duration": 4,
    "start_time": "2022-06-18T02:04:22.657Z"
   },
   {
    "duration": 4,
    "start_time": "2022-06-18T02:04:24.644Z"
   },
   {
    "duration": 5,
    "start_time": "2022-06-18T02:04:26.448Z"
   },
   {
    "duration": 3,
    "start_time": "2022-06-18T02:13:08.420Z"
   },
   {
    "duration": 9,
    "start_time": "2022-06-18T02:13:10.392Z"
   },
   {
    "duration": 13,
    "start_time": "2022-06-18T02:13:31.042Z"
   },
   {
    "duration": 4,
    "start_time": "2022-06-18T02:13:50.342Z"
   },
   {
    "duration": 11,
    "start_time": "2022-06-18T02:13:52.022Z"
   },
   {
    "duration": 3,
    "start_time": "2022-06-18T02:14:18.568Z"
   },
   {
    "duration": 9,
    "start_time": "2022-06-18T02:14:20.432Z"
   },
   {
    "duration": 20,
    "start_time": "2022-06-18T02:14:41.492Z"
   },
   {
    "duration": 4,
    "start_time": "2022-06-18T02:21:44.891Z"
   },
   {
    "duration": 4,
    "start_time": "2022-06-18T02:21:53.152Z"
   },
   {
    "duration": 4,
    "start_time": "2022-06-18T02:23:47.657Z"
   },
   {
    "duration": 6,
    "start_time": "2022-06-18T02:24:39.330Z"
   },
   {
    "duration": 7,
    "start_time": "2022-06-18T02:25:42.356Z"
   },
   {
    "duration": 4,
    "start_time": "2022-06-18T02:26:08.371Z"
   },
   {
    "duration": 11,
    "start_time": "2022-06-18T02:33:30.049Z"
   },
   {
    "duration": 5,
    "start_time": "2022-06-18T02:52:52.879Z"
   },
   {
    "duration": 8,
    "start_time": "2022-06-18T02:53:07.189Z"
   },
   {
    "duration": 10,
    "start_time": "2022-06-18T02:53:22.574Z"
   },
   {
    "duration": 13,
    "start_time": "2022-06-18T02:53:40.000Z"
   },
   {
    "duration": 22,
    "start_time": "2022-06-18T02:53:47.805Z"
   },
   {
    "duration": 7,
    "start_time": "2022-06-18T02:54:06.543Z"
   },
   {
    "duration": 8,
    "start_time": "2022-06-18T02:54:51.090Z"
   },
   {
    "duration": 12,
    "start_time": "2022-06-18T02:55:39.483Z"
   },
   {
    "duration": 10,
    "start_time": "2022-06-18T02:57:31.668Z"
   },
   {
    "duration": 25,
    "start_time": "2022-06-18T02:58:04.094Z"
   },
   {
    "duration": 23,
    "start_time": "2022-06-18T02:58:41.721Z"
   },
   {
    "duration": 1465,
    "start_time": "2022-06-18T12:27:29.922Z"
   },
   {
    "duration": 893,
    "start_time": "2022-06-18T12:27:31.390Z"
   },
   {
    "duration": 24,
    "start_time": "2022-06-18T12:27:32.285Z"
   },
   {
    "duration": 45,
    "start_time": "2022-06-18T12:27:32.311Z"
   },
   {
    "duration": 789,
    "start_time": "2022-06-18T12:27:32.358Z"
   },
   {
    "duration": 26,
    "start_time": "2022-06-18T12:27:33.148Z"
   },
   {
    "duration": 6,
    "start_time": "2022-06-18T12:27:33.175Z"
   },
   {
    "duration": 773,
    "start_time": "2022-06-18T12:27:33.182Z"
   },
   {
    "duration": 21,
    "start_time": "2022-06-18T12:27:33.957Z"
   },
   {
    "duration": 59,
    "start_time": "2022-06-18T12:27:33.980Z"
   },
   {
    "duration": 824,
    "start_time": "2022-06-18T12:27:34.042Z"
   },
   {
    "duration": 25,
    "start_time": "2022-06-18T12:27:34.867Z"
   },
   {
    "duration": 8,
    "start_time": "2022-06-18T12:27:34.893Z"
   },
   {
    "duration": 719,
    "start_time": "2022-06-18T12:27:34.903Z"
   },
   {
    "duration": 33,
    "start_time": "2022-06-18T12:27:35.623Z"
   },
   {
    "duration": 30,
    "start_time": "2022-06-18T12:27:35.657Z"
   },
   {
    "duration": 827,
    "start_time": "2022-06-18T12:27:35.688Z"
   },
   {
    "duration": 36,
    "start_time": "2022-06-18T12:27:36.517Z"
   },
   {
    "duration": 7,
    "start_time": "2022-06-18T12:27:36.555Z"
   },
   {
    "duration": 15,
    "start_time": "2022-06-18T12:27:36.567Z"
   },
   {
    "duration": 75255,
    "start_time": "2022-06-18T12:27:36.584Z"
   },
   {
    "duration": 8,
    "start_time": "2022-06-18T12:28:51.841Z"
   },
   {
    "duration": 19,
    "start_time": "2022-06-18T12:28:51.850Z"
   },
   {
    "duration": 7,
    "start_time": "2022-06-18T12:28:51.870Z"
   },
   {
    "duration": 359,
    "start_time": "2022-06-18T12:28:51.879Z"
   },
   {
    "duration": 442,
    "start_time": "2022-06-18T12:28:52.239Z"
   },
   {
    "duration": 363,
    "start_time": "2022-06-18T12:28:52.682Z"
   },
   {
    "duration": 403,
    "start_time": "2022-06-18T12:28:53.046Z"
   },
   {
    "duration": 3,
    "start_time": "2022-06-18T12:28:53.451Z"
   },
   {
    "duration": 10,
    "start_time": "2022-06-18T12:28:53.456Z"
   },
   {
    "duration": 4,
    "start_time": "2022-06-18T12:28:53.468Z"
   },
   {
    "duration": 6,
    "start_time": "2022-06-18T12:28:53.474Z"
   },
   {
    "duration": 5,
    "start_time": "2022-06-18T12:28:53.482Z"
   },
   {
    "duration": 8,
    "start_time": "2022-06-18T12:28:53.488Z"
   },
   {
    "duration": 41,
    "start_time": "2022-06-18T12:28:53.497Z"
   },
   {
    "duration": 5,
    "start_time": "2022-06-18T12:28:53.539Z"
   },
   {
    "duration": 4,
    "start_time": "2022-06-18T12:28:53.545Z"
   },
   {
    "duration": 30,
    "start_time": "2022-06-18T12:28:53.551Z"
   },
   {
    "duration": 5,
    "start_time": "2022-06-18T12:28:53.583Z"
   },
   {
    "duration": 42,
    "start_time": "2022-06-18T12:28:53.589Z"
   },
   {
    "duration": 8,
    "start_time": "2022-06-18T12:28:53.634Z"
   },
   {
    "duration": 6,
    "start_time": "2022-06-18T12:28:53.645Z"
   },
   {
    "duration": 9,
    "start_time": "2022-06-18T12:28:53.652Z"
   },
   {
    "duration": 114,
    "start_time": "2022-06-18T12:42:49.908Z"
   },
   {
    "duration": 14,
    "start_time": "2022-06-18T12:45:13.459Z"
   },
   {
    "duration": 11,
    "start_time": "2022-06-18T12:45:20.291Z"
   },
   {
    "duration": 23,
    "start_time": "2022-06-18T12:45:26.816Z"
   },
   {
    "duration": 15,
    "start_time": "2022-06-18T12:45:31.692Z"
   },
   {
    "duration": 12,
    "start_time": "2022-06-18T12:46:08.301Z"
   },
   {
    "duration": 12,
    "start_time": "2022-06-18T12:46:13.587Z"
   },
   {
    "duration": 20,
    "start_time": "2022-06-18T12:46:27.134Z"
   },
   {
    "duration": 18,
    "start_time": "2022-06-18T12:46:33.461Z"
   },
   {
    "duration": 13,
    "start_time": "2022-06-18T12:49:08.040Z"
   },
   {
    "duration": 2227,
    "start_time": "2022-06-18T12:49:32.351Z"
   },
   {
    "duration": 16,
    "start_time": "2022-06-18T12:49:41.871Z"
   },
   {
    "duration": 2367,
    "start_time": "2022-06-18T12:53:09.453Z"
   },
   {
    "duration": 2139,
    "start_time": "2022-06-18T12:53:25.157Z"
   },
   {
    "duration": 2281,
    "start_time": "2022-06-18T12:54:30.755Z"
   },
   {
    "duration": 2111,
    "start_time": "2022-06-18T12:54:47.852Z"
   },
   {
    "duration": 2315,
    "start_time": "2022-06-18T12:55:12.923Z"
   },
   {
    "duration": 2193,
    "start_time": "2022-06-18T12:57:49.134Z"
   },
   {
    "duration": 2207,
    "start_time": "2022-06-18T12:58:03.308Z"
   },
   {
    "duration": 2252,
    "start_time": "2022-06-18T12:59:49.588Z"
   },
   {
    "duration": 2193,
    "start_time": "2022-06-18T12:59:55.752Z"
   },
   {
    "duration": 2276,
    "start_time": "2022-06-18T13:04:06.203Z"
   },
   {
    "duration": 2246,
    "start_time": "2022-06-18T13:05:39.372Z"
   },
   {
    "duration": 2132,
    "start_time": "2022-06-18T13:07:16.706Z"
   },
   {
    "duration": 2309,
    "start_time": "2022-06-18T13:07:44.643Z"
   },
   {
    "duration": 2283,
    "start_time": "2022-06-18T13:08:00.442Z"
   },
   {
    "duration": 2324,
    "start_time": "2022-06-18T13:08:15.250Z"
   },
   {
    "duration": 5,
    "start_time": "2022-06-18T13:54:09.568Z"
   },
   {
    "duration": 2041,
    "start_time": "2022-06-18T13:54:21.151Z"
   },
   {
    "duration": 5,
    "start_time": "2022-06-18T13:55:01.770Z"
   },
   {
    "duration": 56,
    "start_time": "2022-06-18T13:55:26.627Z"
   },
   {
    "duration": 1213,
    "start_time": "2022-06-18T13:55:41.156Z"
   },
   {
    "duration": 68,
    "start_time": "2022-06-18T13:55:47.474Z"
   },
   {
    "duration": 5,
    "start_time": "2022-06-18T13:55:55.801Z"
   },
   {
    "duration": 550,
    "start_time": "2022-06-18T13:55:55.808Z"
   },
   {
    "duration": 24,
    "start_time": "2022-06-18T13:55:56.359Z"
   },
   {
    "duration": 26,
    "start_time": "2022-06-18T13:55:56.384Z"
   },
   {
    "duration": 821,
    "start_time": "2022-06-18T13:55:56.412Z"
   },
   {
    "duration": 25,
    "start_time": "2022-06-18T13:55:57.235Z"
   },
   {
    "duration": 7,
    "start_time": "2022-06-18T13:55:57.262Z"
   },
   {
    "duration": 698,
    "start_time": "2022-06-18T13:55:57.270Z"
   },
   {
    "duration": 19,
    "start_time": "2022-06-18T13:55:57.970Z"
   },
   {
    "duration": 41,
    "start_time": "2022-06-18T13:55:57.991Z"
   },
   {
    "duration": 684,
    "start_time": "2022-06-18T13:55:58.034Z"
   },
   {
    "duration": 39,
    "start_time": "2022-06-18T13:55:58.725Z"
   },
   {
    "duration": 8,
    "start_time": "2022-06-18T13:55:58.766Z"
   },
   {
    "duration": 592,
    "start_time": "2022-06-18T13:55:58.777Z"
   },
   {
    "duration": 25,
    "start_time": "2022-06-18T13:55:59.371Z"
   },
   {
    "duration": 44,
    "start_time": "2022-06-18T13:55:59.397Z"
   },
   {
    "duration": 720,
    "start_time": "2022-06-18T13:55:59.443Z"
   },
   {
    "duration": 25,
    "start_time": "2022-06-18T13:56:00.164Z"
   },
   {
    "duration": 6,
    "start_time": "2022-06-18T13:56:00.190Z"
   },
   {
    "duration": 28,
    "start_time": "2022-06-18T13:56:00.197Z"
   },
   {
    "duration": 70785,
    "start_time": "2022-06-18T13:56:00.227Z"
   },
   {
    "duration": 13,
    "start_time": "2022-06-18T13:57:11.013Z"
   },
   {
    "duration": 24,
    "start_time": "2022-06-18T13:57:11.028Z"
   },
   {
    "duration": 9,
    "start_time": "2022-06-18T13:57:11.054Z"
   },
   {
    "duration": 363,
    "start_time": "2022-06-18T13:57:11.065Z"
   },
   {
    "duration": 438,
    "start_time": "2022-06-18T13:57:11.430Z"
   },
   {
    "duration": 394,
    "start_time": "2022-06-18T13:57:11.870Z"
   },
   {
    "duration": 492,
    "start_time": "2022-06-18T13:57:12.266Z"
   },
   {
    "duration": 3,
    "start_time": "2022-06-18T13:57:12.760Z"
   },
   {
    "duration": 10,
    "start_time": "2022-06-18T13:57:12.764Z"
   },
   {
    "duration": 16,
    "start_time": "2022-06-18T13:57:12.776Z"
   },
   {
    "duration": 10,
    "start_time": "2022-06-18T13:57:12.794Z"
   },
   {
    "duration": 7,
    "start_time": "2022-06-18T13:57:12.806Z"
   },
   {
    "duration": 4,
    "start_time": "2022-06-18T13:57:12.815Z"
   },
   {
    "duration": 3,
    "start_time": "2022-06-18T13:57:12.825Z"
   },
   {
    "duration": 6,
    "start_time": "2022-06-18T13:57:12.830Z"
   },
   {
    "duration": 5,
    "start_time": "2022-06-18T13:57:12.837Z"
   },
   {
    "duration": 29,
    "start_time": "2022-06-18T13:57:12.843Z"
   },
   {
    "duration": 4,
    "start_time": "2022-06-18T13:57:12.874Z"
   },
   {
    "duration": 21,
    "start_time": "2022-06-18T13:57:12.880Z"
   },
   {
    "duration": 2,
    "start_time": "2022-06-18T13:57:12.927Z"
   },
   {
    "duration": 5,
    "start_time": "2022-06-18T13:57:12.931Z"
   },
   {
    "duration": 8,
    "start_time": "2022-06-18T13:57:12.937Z"
   },
   {
    "duration": 44,
    "start_time": "2022-06-18T13:57:33.337Z"
   },
   {
    "duration": 1180,
    "start_time": "2022-06-18T13:57:44.980Z"
   },
   {
    "duration": 597,
    "start_time": "2022-06-18T13:57:46.161Z"
   },
   {
    "duration": 28,
    "start_time": "2022-06-18T13:57:46.760Z"
   },
   {
    "duration": 44,
    "start_time": "2022-06-18T13:57:46.791Z"
   },
   {
    "duration": 722,
    "start_time": "2022-06-18T13:57:46.837Z"
   },
   {
    "duration": 25,
    "start_time": "2022-06-18T13:57:47.561Z"
   },
   {
    "duration": 7,
    "start_time": "2022-06-18T13:57:47.588Z"
   },
   {
    "duration": 696,
    "start_time": "2022-06-18T13:57:47.596Z"
   },
   {
    "duration": 18,
    "start_time": "2022-06-18T13:57:48.294Z"
   },
   {
    "duration": 22,
    "start_time": "2022-06-18T13:57:48.314Z"
   },
   {
    "duration": 709,
    "start_time": "2022-06-18T13:57:48.338Z"
   },
   {
    "duration": 21,
    "start_time": "2022-06-18T13:57:49.048Z"
   },
   {
    "duration": 5,
    "start_time": "2022-06-18T13:57:49.071Z"
   },
   {
    "duration": 606,
    "start_time": "2022-06-18T13:57:49.078Z"
   },
   {
    "duration": 24,
    "start_time": "2022-06-18T13:57:49.685Z"
   },
   {
    "duration": 41,
    "start_time": "2022-06-18T13:57:49.710Z"
   },
   {
    "duration": 778,
    "start_time": "2022-06-18T13:57:49.752Z"
   },
   {
    "duration": 23,
    "start_time": "2022-06-18T13:57:50.531Z"
   },
   {
    "duration": 6,
    "start_time": "2022-06-18T13:57:50.556Z"
   },
   {
    "duration": 13,
    "start_time": "2022-06-18T13:57:50.563Z"
   },
   {
    "duration": 71534,
    "start_time": "2022-06-18T13:57:50.578Z"
   },
   {
    "duration": 13,
    "start_time": "2022-06-18T13:59:02.114Z"
   },
   {
    "duration": 20,
    "start_time": "2022-06-18T13:59:02.128Z"
   },
   {
    "duration": 7,
    "start_time": "2022-06-18T13:59:02.150Z"
   },
   {
    "duration": 370,
    "start_time": "2022-06-18T13:59:02.158Z"
   },
   {
    "duration": 439,
    "start_time": "2022-06-18T13:59:02.531Z"
   },
   {
    "duration": 380,
    "start_time": "2022-06-18T13:59:02.971Z"
   },
   {
    "duration": 408,
    "start_time": "2022-06-18T13:59:03.354Z"
   },
   {
    "duration": 3,
    "start_time": "2022-06-18T13:59:03.763Z"
   },
   {
    "duration": 12,
    "start_time": "2022-06-18T13:59:03.767Z"
   },
   {
    "duration": 7,
    "start_time": "2022-06-18T13:59:03.780Z"
   },
   {
    "duration": 7,
    "start_time": "2022-06-18T13:59:03.788Z"
   },
   {
    "duration": 5,
    "start_time": "2022-06-18T13:59:03.796Z"
   },
   {
    "duration": 5,
    "start_time": "2022-06-18T13:59:03.803Z"
   },
   {
    "duration": 16,
    "start_time": "2022-06-18T13:59:03.810Z"
   },
   {
    "duration": 4,
    "start_time": "2022-06-18T13:59:03.828Z"
   },
   {
    "duration": 5,
    "start_time": "2022-06-18T13:59:03.833Z"
   },
   {
    "duration": 32,
    "start_time": "2022-06-18T13:59:03.839Z"
   },
   {
    "duration": 5,
    "start_time": "2022-06-18T13:59:03.872Z"
   },
   {
    "duration": 22,
    "start_time": "2022-06-18T13:59:03.879Z"
   },
   {
    "duration": 3,
    "start_time": "2022-06-18T13:59:03.926Z"
   },
   {
    "duration": 5,
    "start_time": "2022-06-18T13:59:03.931Z"
   },
   {
    "duration": 12,
    "start_time": "2022-06-18T13:59:03.938Z"
   },
   {
    "duration": 2170,
    "start_time": "2022-06-18T13:59:17.866Z"
   },
   {
    "duration": 4,
    "start_time": "2022-06-18T13:59:27.240Z"
   },
   {
    "duration": 4,
    "start_time": "2022-06-18T13:59:31.664Z"
   },
   {
    "duration": 56,
    "start_time": "2022-06-18T14:00:10.748Z"
   },
   {
    "duration": 1267,
    "start_time": "2022-06-18T14:00:17.127Z"
   },
   {
    "duration": 593,
    "start_time": "2022-06-18T14:00:18.396Z"
   },
   {
    "duration": 25,
    "start_time": "2022-06-18T14:00:18.990Z"
   },
   {
    "duration": 29,
    "start_time": "2022-06-18T14:00:19.026Z"
   },
   {
    "duration": 706,
    "start_time": "2022-06-18T14:00:19.057Z"
   },
   {
    "duration": 26,
    "start_time": "2022-06-18T14:00:19.764Z"
   },
   {
    "duration": 6,
    "start_time": "2022-06-18T14:00:19.791Z"
   },
   {
    "duration": 717,
    "start_time": "2022-06-18T14:00:19.798Z"
   },
   {
    "duration": 18,
    "start_time": "2022-06-18T14:00:20.516Z"
   },
   {
    "duration": 22,
    "start_time": "2022-06-18T14:00:20.536Z"
   },
   {
    "duration": 707,
    "start_time": "2022-06-18T14:00:20.559Z"
   },
   {
    "duration": 22,
    "start_time": "2022-06-18T14:00:21.268Z"
   },
   {
    "duration": 6,
    "start_time": "2022-06-18T14:00:21.292Z"
   },
   {
    "duration": 592,
    "start_time": "2022-06-18T14:00:21.299Z"
   },
   {
    "duration": 23,
    "start_time": "2022-06-18T14:00:21.893Z"
   },
   {
    "duration": 31,
    "start_time": "2022-06-18T14:00:21.918Z"
   },
   {
    "duration": 759,
    "start_time": "2022-06-18T14:00:21.950Z"
   },
   {
    "duration": 31,
    "start_time": "2022-06-18T14:00:22.711Z"
   },
   {
    "duration": 5,
    "start_time": "2022-06-18T14:00:22.743Z"
   },
   {
    "duration": 12,
    "start_time": "2022-06-18T14:00:22.750Z"
   },
   {
    "duration": 71524,
    "start_time": "2022-06-18T14:00:22.763Z"
   },
   {
    "duration": 8,
    "start_time": "2022-06-18T14:01:34.288Z"
   },
   {
    "duration": 44,
    "start_time": "2022-06-18T14:01:34.298Z"
   },
   {
    "duration": 17,
    "start_time": "2022-06-18T14:01:34.343Z"
   },
   {
    "duration": 268,
    "start_time": "2022-06-18T14:01:34.362Z"
   },
   {
    "duration": 431,
    "start_time": "2022-06-18T14:01:34.632Z"
   },
   {
    "duration": 387,
    "start_time": "2022-06-18T14:01:35.065Z"
   },
   {
    "duration": 489,
    "start_time": "2022-06-18T14:01:35.455Z"
   },
   {
    "duration": 3,
    "start_time": "2022-06-18T14:01:35.945Z"
   },
   {
    "duration": 10,
    "start_time": "2022-06-18T14:01:35.950Z"
   },
   {
    "duration": 6,
    "start_time": "2022-06-18T14:01:35.961Z"
   },
   {
    "duration": 7,
    "start_time": "2022-06-18T14:01:35.969Z"
   },
   {
    "duration": 7,
    "start_time": "2022-06-18T14:01:35.977Z"
   },
   {
    "duration": 7,
    "start_time": "2022-06-18T14:01:35.986Z"
   },
   {
    "duration": 6,
    "start_time": "2022-06-18T14:01:35.994Z"
   },
   {
    "duration": 10,
    "start_time": "2022-06-18T14:01:36.001Z"
   },
   {
    "duration": 6,
    "start_time": "2022-06-18T14:01:36.013Z"
   },
   {
    "duration": 35,
    "start_time": "2022-06-18T14:01:36.025Z"
   },
   {
    "duration": 4,
    "start_time": "2022-06-18T14:01:36.062Z"
   },
   {
    "duration": 22,
    "start_time": "2022-06-18T14:01:36.067Z"
   },
   {
    "duration": 2,
    "start_time": "2022-06-18T14:01:36.091Z"
   },
   {
    "duration": 7,
    "start_time": "2022-06-18T14:01:36.094Z"
   },
   {
    "duration": 10,
    "start_time": "2022-06-18T14:01:36.102Z"
   },
   {
    "duration": 2211,
    "start_time": "2022-06-18T14:01:36.113Z"
   },
   {
    "duration": 662,
    "start_time": "2022-06-18T14:13:50.071Z"
   },
   {
    "duration": 140,
    "start_time": "2022-06-18T14:15:01.458Z"
   },
   {
    "duration": 189,
    "start_time": "2022-06-18T14:15:16.698Z"
   },
   {
    "duration": 232,
    "start_time": "2022-06-18T14:15:21.853Z"
   },
   {
    "duration": 195,
    "start_time": "2022-06-18T14:15:28.813Z"
   },
   {
    "duration": 145,
    "start_time": "2022-06-18T14:15:33.457Z"
   },
   {
    "duration": 4,
    "start_time": "2022-06-18T14:18:52.408Z"
   },
   {
    "duration": 4,
    "start_time": "2022-06-18T14:19:10.072Z"
   },
   {
    "duration": 28,
    "start_time": "2022-06-18T14:19:11.923Z"
   },
   {
    "duration": 4,
    "start_time": "2022-06-18T14:19:36.903Z"
   },
   {
    "duration": 27,
    "start_time": "2022-06-18T14:19:38.281Z"
   },
   {
    "duration": 4,
    "start_time": "2022-06-18T14:19:39.475Z"
   },
   {
    "duration": 21,
    "start_time": "2022-06-18T14:19:44.862Z"
   },
   {
    "duration": 4,
    "start_time": "2022-06-18T14:19:48.792Z"
   },
   {
    "duration": 2257,
    "start_time": "2022-06-18T14:20:25.595Z"
   },
   {
    "duration": 752,
    "start_time": "2022-06-18T14:20:39.228Z"
   },
   {
    "duration": 82,
    "start_time": "2022-06-18T14:20:55.910Z"
   },
   {
    "duration": 14,
    "start_time": "2022-06-18T14:21:44.187Z"
   },
   {
    "duration": 5,
    "start_time": "2022-06-18T14:22:42.484Z"
   },
   {
    "duration": 8,
    "start_time": "2022-06-18T14:22:50.996Z"
   },
   {
    "duration": 4,
    "start_time": "2022-06-18T15:13:23.917Z"
   },
   {
    "duration": 6,
    "start_time": "2022-06-18T15:19:18.803Z"
   },
   {
    "duration": 6,
    "start_time": "2022-06-18T15:19:59.747Z"
   },
   {
    "duration": 5,
    "start_time": "2022-06-18T15:20:02.914Z"
   },
   {
    "duration": 6,
    "start_time": "2022-06-18T15:25:23.952Z"
   },
   {
    "duration": 9,
    "start_time": "2022-06-18T15:31:10.792Z"
   },
   {
    "duration": 122,
    "start_time": "2022-06-18T15:31:13.852Z"
   },
   {
    "duration": 3203,
    "start_time": "2022-06-18T15:31:15.385Z"
   },
   {
    "duration": 9142,
    "start_time": "2022-06-18T15:32:39.488Z"
   },
   {
    "duration": 9091,
    "start_time": "2022-06-18T15:33:44.558Z"
   },
   {
    "duration": 9174,
    "start_time": "2022-06-18T15:34:02.377Z"
   },
   {
    "duration": 7,
    "start_time": "2022-06-18T15:35:55.865Z"
   },
   {
    "duration": 7,
    "start_time": "2022-06-18T15:42:19.256Z"
   },
   {
    "duration": 8524,
    "start_time": "2022-06-18T15:42:21.972Z"
   },
   {
    "duration": 9764,
    "start_time": "2022-06-18T15:45:27.279Z"
   },
   {
    "duration": 3084,
    "start_time": "2022-06-18T15:46:09.945Z"
   },
   {
    "duration": 7,
    "start_time": "2022-06-18T17:01:21.698Z"
   },
   {
    "duration": 735,
    "start_time": "2022-06-18T17:01:47.928Z"
   },
   {
    "duration": 7,
    "start_time": "2022-06-18T17:02:57.819Z"
   },
   {
    "duration": 87749,
    "start_time": "2022-06-18T17:02:59.966Z"
   },
   {
    "duration": 6,
    "start_time": "2022-06-18T17:04:54.306Z"
   },
   {
    "duration": 830,
    "start_time": "2022-06-18T17:04:56.625Z"
   },
   {
    "duration": 2314,
    "start_time": "2022-06-18T17:06:22.025Z"
   },
   {
    "duration": 6,
    "start_time": "2022-06-18T17:08:23.059Z"
   },
   {
    "duration": 7,
    "start_time": "2022-06-18T17:08:30.780Z"
   },
   {
    "duration": 26,
    "start_time": "2022-06-18T17:08:35.617Z"
   },
   {
    "duration": 8,
    "start_time": "2022-06-18T17:08:42.146Z"
   },
   {
    "duration": 2400,
    "start_time": "2022-06-18T17:08:44.294Z"
   },
   {
    "duration": 8,
    "start_time": "2022-06-18T17:10:00.096Z"
   },
   {
    "duration": 8,
    "start_time": "2022-06-18T17:10:24.210Z"
   },
   {
    "duration": 270551,
    "start_time": "2022-06-18T17:10:29.320Z"
   },
   {
    "duration": 2937,
    "start_time": "2022-06-18T17:15:02.784Z"
   },
   {
    "duration": 8260,
    "start_time": "2022-06-18T17:15:38.113Z"
   },
   {
    "duration": 0,
    "start_time": "2022-06-18T17:15:46.375Z"
   },
   {
    "duration": 114277,
    "start_time": "2022-06-18T17:15:48.415Z"
   },
   {
    "duration": 6,
    "start_time": "2022-06-18T17:17:44.499Z"
   },
   {
    "duration": 95,
    "start_time": "2022-06-18T17:17:50.045Z"
   },
   {
    "duration": 16,
    "start_time": "2022-06-18T17:31:45.062Z"
   },
   {
    "duration": 5,
    "start_time": "2022-06-18T17:31:50.178Z"
   },
   {
    "duration": 326,
    "start_time": "2022-06-18T17:31:52.806Z"
   },
   {
    "duration": 48,
    "start_time": "2022-06-18T17:31:55.839Z"
   },
   {
    "duration": 9,
    "start_time": "2022-06-18T17:37:20.820Z"
   },
   {
    "duration": 13,
    "start_time": "2022-06-18T17:37:40.787Z"
   },
   {
    "duration": 12,
    "start_time": "2022-06-18T17:48:35.061Z"
   },
   {
    "duration": 171,
    "start_time": "2022-06-18T17:48:42.765Z"
   },
   {
    "duration": 52,
    "start_time": "2022-06-18T17:48:46.605Z"
   },
   {
    "duration": 41,
    "start_time": "2022-06-18T17:48:50.610Z"
   },
   {
    "duration": 755,
    "start_time": "2022-06-18T17:48:53.492Z"
   },
   {
    "duration": 15,
    "start_time": "2022-06-18T17:48:56.585Z"
   },
   {
    "duration": 15,
    "start_time": "2022-06-18T17:49:03.401Z"
   },
   {
    "duration": 15,
    "start_time": "2022-06-18T17:56:21.602Z"
   },
   {
    "duration": 165,
    "start_time": "2022-06-18T17:56:25.189Z"
   },
   {
    "duration": 42,
    "start_time": "2022-06-18T17:56:28.141Z"
   },
   {
    "duration": 801,
    "start_time": "2022-06-18T17:56:32.998Z"
   },
   {
    "duration": 12,
    "start_time": "2022-06-18T17:57:37.288Z"
   },
   {
    "duration": 5,
    "start_time": "2022-06-18T18:50:59.056Z"
   },
   {
    "duration": 11,
    "start_time": "2022-06-18T18:51:51.107Z"
   },
   {
    "duration": 51,
    "start_time": "2022-06-18T18:51:55.446Z"
   },
   {
    "duration": 5,
    "start_time": "2022-06-18T18:52:04.385Z"
   },
   {
    "duration": 199,
    "start_time": "2022-06-18T18:52:04.406Z"
   },
   {
    "duration": 58,
    "start_time": "2022-06-18T18:52:04.608Z"
   },
   {
    "duration": 854,
    "start_time": "2022-06-18T18:52:04.668Z"
   },
   {
    "duration": 17,
    "start_time": "2022-06-18T18:52:05.526Z"
   },
   {
    "duration": 34,
    "start_time": "2022-06-18T18:52:05.544Z"
   },
   {
    "duration": 6,
    "start_time": "2022-06-18T18:52:05.581Z"
   },
   {
    "duration": 203,
    "start_time": "2022-06-18T18:52:05.589Z"
   },
   {
    "duration": 61,
    "start_time": "2022-06-18T18:52:05.794Z"
   },
   {
    "duration": 910,
    "start_time": "2022-06-18T18:52:05.857Z"
   },
   {
    "duration": 20,
    "start_time": "2022-06-18T18:52:06.771Z"
   },
   {
    "duration": 52,
    "start_time": "2022-06-18T18:52:06.793Z"
   },
   {
    "duration": 8,
    "start_time": "2022-06-18T18:52:06.847Z"
   },
   {
    "duration": 215,
    "start_time": "2022-06-18T18:52:06.857Z"
   },
   {
    "duration": 57,
    "start_time": "2022-06-18T18:52:07.074Z"
   },
   {
    "duration": 1002,
    "start_time": "2022-06-18T18:52:07.133Z"
   },
   {
    "duration": 15,
    "start_time": "2022-06-18T18:52:08.137Z"
   },
   {
    "duration": 29,
    "start_time": "2022-06-18T18:52:08.153Z"
   },
   {
    "duration": 7,
    "start_time": "2022-06-18T18:52:08.183Z"
   },
   {
    "duration": 9,
    "start_time": "2022-06-18T18:52:08.192Z"
   },
   {
    "duration": 272254,
    "start_time": "2022-06-18T18:52:08.226Z"
   },
   {
    "duration": 2575,
    "start_time": "2022-06-18T18:56:40.482Z"
   },
   {
    "duration": 6,
    "start_time": "2022-06-18T19:29:28.622Z"
   },
   {
    "duration": 4,
    "start_time": "2022-06-18T19:29:54.139Z"
   },
   {
    "duration": 4,
    "start_time": "2022-06-18T19:30:02.417Z"
   },
   {
    "duration": 5,
    "start_time": "2022-06-18T19:32:35.925Z"
   },
   {
    "duration": 8,
    "start_time": "2022-06-18T19:33:02.720Z"
   },
   {
    "duration": 35,
    "start_time": "2022-06-18T19:45:22.190Z"
   },
   {
    "duration": 4,
    "start_time": "2022-06-18T20:03:51.023Z"
   },
   {
    "duration": 1137,
    "start_time": "2022-06-18T20:33:57.453Z"
   },
   {
    "duration": 190,
    "start_time": "2022-06-18T20:33:58.592Z"
   },
   {
    "duration": 66,
    "start_time": "2022-06-18T20:33:58.784Z"
   },
   {
    "duration": 709,
    "start_time": "2022-06-18T20:33:58.852Z"
   },
   {
    "duration": 13,
    "start_time": "2022-06-18T20:33:59.563Z"
   },
   {
    "duration": 129,
    "start_time": "2022-06-18T20:33:59.577Z"
   },
   {
    "duration": 6,
    "start_time": "2022-06-18T20:33:59.708Z"
   },
   {
    "duration": 186,
    "start_time": "2022-06-18T20:33:59.716Z"
   },
   {
    "duration": 56,
    "start_time": "2022-06-18T20:33:59.904Z"
   },
   {
    "duration": 720,
    "start_time": "2022-06-18T20:33:59.962Z"
   },
   {
    "duration": 13,
    "start_time": "2022-06-18T20:34:00.683Z"
   },
   {
    "duration": 38,
    "start_time": "2022-06-18T20:34:00.698Z"
   },
   {
    "duration": 6,
    "start_time": "2022-06-18T20:34:00.738Z"
   },
   {
    "duration": 212,
    "start_time": "2022-06-18T20:34:00.746Z"
   },
   {
    "duration": 50,
    "start_time": "2022-06-18T20:34:00.960Z"
   },
   {
    "duration": 717,
    "start_time": "2022-06-18T20:34:01.012Z"
   },
   {
    "duration": 14,
    "start_time": "2022-06-18T20:34:01.730Z"
   },
   {
    "duration": 26,
    "start_time": "2022-06-18T20:34:01.745Z"
   },
   {
    "duration": 5,
    "start_time": "2022-06-18T20:34:01.772Z"
   },
   {
    "duration": 6,
    "start_time": "2022-06-18T20:34:01.779Z"
   },
   {
    "duration": 125691,
    "start_time": "2022-06-18T20:34:01.786Z"
   },
   {
    "duration": 0,
    "start_time": "2022-06-18T20:36:07.479Z"
   },
   {
    "duration": 0,
    "start_time": "2022-06-18T20:36:07.480Z"
   },
   {
    "duration": 0,
    "start_time": "2022-06-18T20:36:07.481Z"
   },
   {
    "duration": 0,
    "start_time": "2022-06-18T20:36:07.482Z"
   },
   {
    "duration": 0,
    "start_time": "2022-06-18T20:36:07.483Z"
   },
   {
    "duration": 0,
    "start_time": "2022-06-18T20:36:07.484Z"
   },
   {
    "duration": 0,
    "start_time": "2022-06-18T20:36:07.485Z"
   },
   {
    "duration": 0,
    "start_time": "2022-06-18T20:36:07.485Z"
   },
   {
    "duration": 0,
    "start_time": "2022-06-18T20:36:07.486Z"
   },
   {
    "duration": 1178,
    "start_time": "2022-06-18T20:37:31.681Z"
   },
   {
    "duration": 181,
    "start_time": "2022-06-18T20:37:32.861Z"
   },
   {
    "duration": 47,
    "start_time": "2022-06-18T20:37:33.043Z"
   },
   {
    "duration": 711,
    "start_time": "2022-06-18T20:37:33.092Z"
   },
   {
    "duration": 25,
    "start_time": "2022-06-18T20:37:33.805Z"
   },
   {
    "duration": 98,
    "start_time": "2022-06-18T20:37:33.832Z"
   },
   {
    "duration": 7,
    "start_time": "2022-06-18T20:37:33.931Z"
   },
   {
    "duration": 174,
    "start_time": "2022-06-18T20:37:33.940Z"
   },
   {
    "duration": 44,
    "start_time": "2022-06-18T20:37:34.124Z"
   },
   {
    "duration": 697,
    "start_time": "2022-06-18T20:37:34.170Z"
   },
   {
    "duration": 14,
    "start_time": "2022-06-18T20:37:34.868Z"
   },
   {
    "duration": 27,
    "start_time": "2022-06-18T20:37:34.883Z"
   },
   {
    "duration": 8,
    "start_time": "2022-06-18T20:37:34.924Z"
   },
   {
    "duration": 183,
    "start_time": "2022-06-18T20:37:34.934Z"
   },
   {
    "duration": 54,
    "start_time": "2022-06-18T20:37:35.119Z"
   },
   {
    "duration": 751,
    "start_time": "2022-06-18T20:37:35.174Z"
   },
   {
    "duration": 14,
    "start_time": "2022-06-18T20:37:35.927Z"
   },
   {
    "duration": 27,
    "start_time": "2022-06-18T20:37:35.942Z"
   },
   {
    "duration": 6,
    "start_time": "2022-06-18T20:37:35.971Z"
   },
   {
    "duration": 9,
    "start_time": "2022-06-18T20:37:35.979Z"
   },
   {
    "duration": 225577,
    "start_time": "2022-06-18T20:37:35.989Z"
   },
   {
    "duration": 2274,
    "start_time": "2022-06-18T20:41:21.568Z"
   },
   {
    "duration": 4,
    "start_time": "2022-06-18T20:41:23.844Z"
   },
   {
    "duration": 10,
    "start_time": "2022-06-18T20:41:23.849Z"
   },
   {
    "duration": 5,
    "start_time": "2022-06-18T20:41:23.860Z"
   },
   {
    "duration": 32,
    "start_time": "2022-06-18T20:41:23.867Z"
   },
   {
    "duration": 37,
    "start_time": "2022-06-18T20:41:23.902Z"
   },
   {
    "duration": 3,
    "start_time": "2022-06-18T20:41:23.944Z"
   },
   {
    "duration": 10,
    "start_time": "2022-06-18T20:41:23.949Z"
   },
   {
    "duration": 8369,
    "start_time": "2022-06-18T20:41:23.961Z"
   }
  ],
  "kernelspec": {
   "display_name": "Python 3",
   "language": "python",
   "name": "python3"
  },
  "language_info": {
   "codemirror_mode": {
    "name": "ipython",
    "version": 3
   },
   "file_extension": ".py",
   "mimetype": "text/x-python",
   "name": "python",
   "nbconvert_exporter": "python",
   "pygments_lexer": "ipython3",
   "version": "3.8.8"
  },
  "toc": {
   "base_numbering": 1,
   "nav_menu": {},
   "number_sections": true,
   "sideBar": true,
   "skip_h1_title": true,
   "title_cell": "Table of Contents",
   "title_sidebar": "Contents",
   "toc_cell": false,
   "toc_position": {},
   "toc_section_display": true,
   "toc_window_display": false
  }
 },
 "nbformat": 4,
 "nbformat_minor": 2
}
