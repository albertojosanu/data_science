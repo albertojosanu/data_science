{
 "cells": [
  {
   "cell_type": "markdown",
   "id": "1c36351f",
   "metadata": {},
   "source": [
    "# Исследование надежности заемщиков."
   ]
  },
  {
   "cell_type": "markdown",
   "id": "43d44452",
   "metadata": {},
   "source": [
    "### Шаг 1. Обзор данных"
   ]
  },
  {
   "cell_type": "code",
   "execution_count": 67,
   "id": "d23319b4",
   "metadata": {
    "scrolled": false
   },
   "outputs": [
    {
     "name": "stdout",
     "output_type": "stream",
     "text": [
      "\u001b[1m\u001b[43m ----- Просмотр общей информации о dataframe ----- \u001b[0m\n",
      "<class 'pandas.core.frame.DataFrame'>\n",
      "RangeIndex: 21525 entries, 0 to 21524\n",
      "Data columns (total 12 columns):\n",
      " #   Column            Non-Null Count  Dtype  \n",
      "---  ------            --------------  -----  \n",
      " 0   children          21525 non-null  int64  \n",
      " 1   days_employed     19351 non-null  float64\n",
      " 2   dob_years         21525 non-null  int64  \n",
      " 3   education         21525 non-null  object \n",
      " 4   education_id      21525 non-null  int64  \n",
      " 5   family_status     21525 non-null  object \n",
      " 6   family_status_id  21525 non-null  int64  \n",
      " 7   gender            21525 non-null  object \n",
      " 8   income_type       21525 non-null  object \n",
      " 9   debt              21525 non-null  int64  \n",
      " 10  total_income      19351 non-null  float64\n",
      " 11  purpose           21525 non-null  object \n",
      "dtypes: float64(2), int64(5), object(5)\n",
      "memory usage: 2.0+ MB\n",
      "\u001b[1m\u001b[43m ----- Информация о заголовках полей dataframe ----- \u001b[0m\n",
      "Index(['children', 'days_employed', 'dob_years', 'education', 'education_id',\n",
      "       'family_status', 'family_status_id', 'gender', 'income_type', 'debt',\n",
      "       'total_income', 'purpose'],\n",
      "      dtype='object')\n",
      "\u001b[1m\u001b[43m ----- Информация о типах полей dataframe ----- \u001b[0m\n",
      "children              int64\n",
      "days_employed       float64\n",
      "dob_years             int64\n",
      "education            object\n",
      "education_id          int64\n",
      "family_status        object\n",
      "family_status_id      int64\n",
      "gender               object\n",
      "income_type          object\n",
      "debt                  int64\n",
      "total_income        float64\n",
      "purpose              object\n",
      "dtype: object\n",
      "\u001b[1m\u001b[43m ----- Информация о размере dataframe ----- \u001b[0m\n",
      "(21525, 12)\n",
      "\u001b[1m\u001b[43m ----- Отображение на экране в читаемом виде первых записей таблицы dataframe для визуального анализа ----- \u001b[0m\n"
     ]
    },
    {
     "data": {
      "text/html": [
       "<div>\n",
       "<style scoped>\n",
       "    .dataframe tbody tr th:only-of-type {\n",
       "        vertical-align: middle;\n",
       "    }\n",
       "\n",
       "    .dataframe tbody tr th {\n",
       "        vertical-align: top;\n",
       "    }\n",
       "\n",
       "    .dataframe thead th {\n",
       "        text-align: right;\n",
       "    }\n",
       "</style>\n",
       "<table border=\"1\" class=\"dataframe\">\n",
       "  <thead>\n",
       "    <tr style=\"text-align: right;\">\n",
       "      <th></th>\n",
       "      <th>children</th>\n",
       "      <th>days_employed</th>\n",
       "      <th>dob_years</th>\n",
       "      <th>education</th>\n",
       "      <th>education_id</th>\n",
       "      <th>family_status</th>\n",
       "      <th>family_status_id</th>\n",
       "      <th>gender</th>\n",
       "      <th>income_type</th>\n",
       "      <th>debt</th>\n",
       "      <th>total_income</th>\n",
       "      <th>purpose</th>\n",
       "    </tr>\n",
       "  </thead>\n",
       "  <tbody>\n",
       "    <tr>\n",
       "      <th>0</th>\n",
       "      <td>1</td>\n",
       "      <td>-8437.673028</td>\n",
       "      <td>42</td>\n",
       "      <td>высшее</td>\n",
       "      <td>0</td>\n",
       "      <td>женат / замужем</td>\n",
       "      <td>0</td>\n",
       "      <td>F</td>\n",
       "      <td>сотрудник</td>\n",
       "      <td>0</td>\n",
       "      <td>253875.639453</td>\n",
       "      <td>покупка жилья</td>\n",
       "    </tr>\n",
       "    <tr>\n",
       "      <th>1</th>\n",
       "      <td>1</td>\n",
       "      <td>-4024.803754</td>\n",
       "      <td>36</td>\n",
       "      <td>среднее</td>\n",
       "      <td>1</td>\n",
       "      <td>женат / замужем</td>\n",
       "      <td>0</td>\n",
       "      <td>F</td>\n",
       "      <td>сотрудник</td>\n",
       "      <td>0</td>\n",
       "      <td>112080.014102</td>\n",
       "      <td>приобретение автомобиля</td>\n",
       "    </tr>\n",
       "    <tr>\n",
       "      <th>2</th>\n",
       "      <td>0</td>\n",
       "      <td>-5623.422610</td>\n",
       "      <td>33</td>\n",
       "      <td>Среднее</td>\n",
       "      <td>1</td>\n",
       "      <td>женат / замужем</td>\n",
       "      <td>0</td>\n",
       "      <td>M</td>\n",
       "      <td>сотрудник</td>\n",
       "      <td>0</td>\n",
       "      <td>145885.952297</td>\n",
       "      <td>покупка жилья</td>\n",
       "    </tr>\n",
       "    <tr>\n",
       "      <th>3</th>\n",
       "      <td>3</td>\n",
       "      <td>-4124.747207</td>\n",
       "      <td>32</td>\n",
       "      <td>среднее</td>\n",
       "      <td>1</td>\n",
       "      <td>женат / замужем</td>\n",
       "      <td>0</td>\n",
       "      <td>M</td>\n",
       "      <td>сотрудник</td>\n",
       "      <td>0</td>\n",
       "      <td>267628.550329</td>\n",
       "      <td>дополнительное образование</td>\n",
       "    </tr>\n",
       "    <tr>\n",
       "      <th>4</th>\n",
       "      <td>0</td>\n",
       "      <td>340266.072047</td>\n",
       "      <td>53</td>\n",
       "      <td>среднее</td>\n",
       "      <td>1</td>\n",
       "      <td>гражданский брак</td>\n",
       "      <td>1</td>\n",
       "      <td>F</td>\n",
       "      <td>пенсионер</td>\n",
       "      <td>0</td>\n",
       "      <td>158616.077870</td>\n",
       "      <td>сыграть свадьбу</td>\n",
       "    </tr>\n",
       "  </tbody>\n",
       "</table>\n",
       "</div>"
      ],
      "text/plain": [
       "   children  days_employed  dob_years education  education_id  \\\n",
       "0         1   -8437.673028         42    высшее             0   \n",
       "1         1   -4024.803754         36   среднее             1   \n",
       "2         0   -5623.422610         33   Среднее             1   \n",
       "3         3   -4124.747207         32   среднее             1   \n",
       "4         0  340266.072047         53   среднее             1   \n",
       "\n",
       "      family_status  family_status_id gender income_type  debt   total_income  \\\n",
       "0   женат / замужем                 0      F   сотрудник     0  253875.639453   \n",
       "1   женат / замужем                 0      F   сотрудник     0  112080.014102   \n",
       "2   женат / замужем                 0      M   сотрудник     0  145885.952297   \n",
       "3   женат / замужем                 0      M   сотрудник     0  267628.550329   \n",
       "4  гражданский брак                 1      F   пенсионер     0  158616.077870   \n",
       "\n",
       "                      purpose  \n",
       "0               покупка жилья  \n",
       "1     приобретение автомобиля  \n",
       "2               покупка жилья  \n",
       "3  дополнительное образование  \n",
       "4             сыграть свадьбу  "
      ]
     },
     "metadata": {},
     "output_type": "display_data"
    }
   ],
   "source": [
    "# Импорт библиотеки pandas\n",
    "import pandas as pd\n",
    "# Импорт библиотеки matplotlib для создания графиков\n",
    "import matplotlib.pyplot as plt\n",
    "# Загрузка таблицы в память переменной df типа dataframe\n",
    "df_test = pd.read_csv('/datasets/data.csv')\n",
    "# Разделители для удобства отображения информации указаны в виде отдельных пунктов 'print(\"\\033[1m\\033[43m {}\".format('----- Text -----'),\"\\033[0m\")'\n",
    "print(\"\\033[1m\\033[43m {}\".format('----- Просмотр общей информации о dataframe -----'),\"\\033[0m\")\n",
    "df_test.info()\n",
    "print(\"\\033[1m\\033[43m {}\".format('----- Информация о заголовках полей dataframe -----'),\"\\033[0m\")\n",
    "print(df_test.columns)\n",
    "print(\"\\033[1m\\033[43m {}\".format('----- Информация о типах полей dataframe -----'),\"\\033[0m\")\n",
    "print(df_test.dtypes)\n",
    "print(\"\\033[1m\\033[43m {}\".format('----- Информация о размере dataframe -----'),\"\\033[0m\")\n",
    "print(df_test.shape)\n",
    "# Копирование dataframe для дальнейшей возможности использования исходного датасета, работа будет производиться с копией\n",
    "print(\"\\033[1m\\033[43m {}\".format('----- Отображение на экране в читаемом виде первых записей таблицы dataframe для визуального анализа -----'),\"\\033[0m\")\n",
    "display(df_test.head())"
   ]
  },
  {
   "cell_type": "markdown",
   "id": "f4f431ea",
   "metadata": {},
   "source": [
    "### Шаг 2.1 Заполнение пропусков"
   ]
  },
  {
   "cell_type": "markdown",
   "id": "97dce603",
   "metadata": {},
   "source": [
    "<font color='DarkBlue'> \n",
    "📌 Исходя из вышеприведенных данных можно сделать вывод о том, что в полях 'days_employed' и 'total_income' есть пропуски значений. Сначала необходимо исследовать значения этих полей. Изначально рассматривается поле 'days_employed' <br>\n",
    "📌 Также сходя из информации в первоначальной таблице можно сделать вывод о неверно указанных значениях в поле 'days_employed', они отрицательные, но после приведения к модулю будут принимать логичные значения в качестве количества отработанных в пересчете в года, например, 8438 / 365 = 23 года <br>\n",
    "📌 Необходимо определить минимальное и максимальное значения в поле 'days_employed' среди существующих после приведения всех значений к модулю <br>\n",
    "📌 Затем нужно вывести на экран строки с максимальными и минимальными значениями параметров, в выше приведенной таблице есть несоответствующие адекватному значению параметры <br>    \n",
    "📌 Для более подробного визуального анализа нужно вывести график выборки всех значений поля в порядке возрастания, где по горизонтальной оси в порядке возрастания исследуемого значения будут располагаться индексы строк, а по вертикальной - значение каждого параметра. Для работы с графиками необходимо импортировть библиотеку matplotlib <br>        \n",
    "📌 Необходимо определить количество явных дубликатов <br>    \n",
    "📌 Отсутствие знаяений в поле 'days_employed' возможно связано с отсутствием значений в поле 'total_income', поэтому можно определить количество полей, где отсутствуют оба значения. Если оно равно количеству отсутствующих значений для одного из полей, следовательно, отсутствие значений проявляется всегда одновременно в обоих полях <br>\n",
    "</font>"
   ]
  },
  {
   "cell_type": "code",
   "execution_count": 68,
   "id": "2b2ba840",
   "metadata": {
    "scrolled": false
   },
   "outputs": [
    {
     "name": "stdout",
     "output_type": "stream",
     "text": [
      "Минимальное значение рабочих дней: 24.14163324048118\n",
      "Максимальное значение рабочих дней: 401755.40047533\n",
      "-----\n",
      "Записи с максимальным значением поля 'days_employed'\n"
     ]
    },
    {
     "data": {
      "text/html": [
       "<div>\n",
       "<style scoped>\n",
       "    .dataframe tbody tr th:only-of-type {\n",
       "        vertical-align: middle;\n",
       "    }\n",
       "\n",
       "    .dataframe tbody tr th {\n",
       "        vertical-align: top;\n",
       "    }\n",
       "\n",
       "    .dataframe thead th {\n",
       "        text-align: right;\n",
       "    }\n",
       "</style>\n",
       "<table border=\"1\" class=\"dataframe\">\n",
       "  <thead>\n",
       "    <tr style=\"text-align: right;\">\n",
       "      <th></th>\n",
       "      <th>days_employed</th>\n",
       "      <th>dob_years</th>\n",
       "    </tr>\n",
       "  </thead>\n",
       "  <tbody>\n",
       "    <tr>\n",
       "      <th>7794</th>\n",
       "      <td>401663.850046</td>\n",
       "      <td>61</td>\n",
       "    </tr>\n",
       "    <tr>\n",
       "      <th>2156</th>\n",
       "      <td>401674.466633</td>\n",
       "      <td>60</td>\n",
       "    </tr>\n",
       "    <tr>\n",
       "      <th>7664</th>\n",
       "      <td>401675.093434</td>\n",
       "      <td>61</td>\n",
       "    </tr>\n",
       "    <tr>\n",
       "      <th>10006</th>\n",
       "      <td>401715.811749</td>\n",
       "      <td>69</td>\n",
       "    </tr>\n",
       "    <tr>\n",
       "      <th>6954</th>\n",
       "      <td>401755.400475</td>\n",
       "      <td>56</td>\n",
       "    </tr>\n",
       "  </tbody>\n",
       "</table>\n",
       "</div>"
      ],
      "text/plain": [
       "       days_employed  dob_years\n",
       "7794   401663.850046         61\n",
       "2156   401674.466633         60\n",
       "7664   401675.093434         61\n",
       "10006  401715.811749         69\n",
       "6954   401755.400475         56"
      ]
     },
     "metadata": {},
     "output_type": "display_data"
    },
    {
     "name": "stdout",
     "output_type": "stream",
     "text": [
      "-----\n",
      "Записи с минимальным значением поля 'days_employed'\n"
     ]
    },
    {
     "data": {
      "text/html": [
       "<div>\n",
       "<style scoped>\n",
       "    .dataframe tbody tr th:only-of-type {\n",
       "        vertical-align: middle;\n",
       "    }\n",
       "\n",
       "    .dataframe tbody tr th {\n",
       "        vertical-align: top;\n",
       "    }\n",
       "\n",
       "    .dataframe thead th {\n",
       "        text-align: right;\n",
       "    }\n",
       "</style>\n",
       "<table border=\"1\" class=\"dataframe\">\n",
       "  <thead>\n",
       "    <tr style=\"text-align: right;\">\n",
       "      <th></th>\n",
       "      <th>days_employed</th>\n",
       "      <th>dob_years</th>\n",
       "    </tr>\n",
       "  </thead>\n",
       "  <tbody>\n",
       "    <tr>\n",
       "      <th>17437</th>\n",
       "      <td>24.141633</td>\n",
       "      <td>31</td>\n",
       "    </tr>\n",
       "    <tr>\n",
       "      <th>8336</th>\n",
       "      <td>24.240695</td>\n",
       "      <td>32</td>\n",
       "    </tr>\n",
       "    <tr>\n",
       "      <th>6157</th>\n",
       "      <td>30.195337</td>\n",
       "      <td>47</td>\n",
       "    </tr>\n",
       "    <tr>\n",
       "      <th>9683</th>\n",
       "      <td>33.520665</td>\n",
       "      <td>43</td>\n",
       "    </tr>\n",
       "    <tr>\n",
       "      <th>2127</th>\n",
       "      <td>34.701045</td>\n",
       "      <td>31</td>\n",
       "    </tr>\n",
       "  </tbody>\n",
       "</table>\n",
       "</div>"
      ],
      "text/plain": [
       "       days_employed  dob_years\n",
       "17437      24.141633         31\n",
       "8336       24.240695         32\n",
       "6157       30.195337         47\n",
       "9683       33.520665         43\n",
       "2127       34.701045         31"
      ]
     },
     "metadata": {},
     "output_type": "display_data"
    },
    {
     "name": "stdout",
     "output_type": "stream",
     "text": [
      "-----\n",
      "Исходный график выборки значений поля 'days_employed'\n"
     ]
    },
    {
     "data": {
      "image/png": "[encoded data removed]",
      "text/plain": [
       "<Figure size 432x288 with 1 Axes>"
      ]
     },
     "metadata": {
      "needs_background": "light"
     },
     "output_type": "display_data"
    },
    {
     "name": "stdout",
     "output_type": "stream",
     "text": [
      "Гистограмма для грубой оценки наличия аномалий в значениях поля 'days_employed'\n"
     ]
    },
    {
     "data": {
      "image/png": "[encoded data removed]",
      "text/plain": [
       "<Figure size 432x288 with 1 Axes>"
      ]
     },
     "metadata": {
      "needs_background": "light"
     },
     "output_type": "display_data"
    },
    {
     "name": "stdout",
     "output_type": "stream",
     "text": [
      "Количество явных дубликатов до обработки: 54\n",
      "-----\n",
      "Количество отсутствующих значений в поле 'days_employed' 2174\n",
      "-----\n",
      "Количество отсутствующих значений в полях 'days_employed' и 'total_income' 2174\n"
     ]
    }
   ],
   "source": [
    "# Приведение отрицательных значений из поля 'days_employed' к положительным с помощью функции для модуля\n",
    "df_test['days_employed'] = abs(df_test['days_employed'])\n",
    "print('Минимальное значение рабочих дней:',df_test['days_employed'].min())\n",
    "print('Максимальное значение рабочих дней:',df_test['days_employed'].max())\n",
    "print('-----')\n",
    "print('Записи с максимальным значением поля \\'days_employed\\'')\n",
    "display(df_test.loc[~df_test['days_employed'].isna(),['days_employed','dob_years']].sort_values(by='days_employed').tail())\n",
    "print('-----')\n",
    "print('Записи с минимальным значением поля \\'days_employed\\'')\n",
    "display(df_test.loc[~df_test['days_employed'].isna(),['days_employed','dob_years']].sort_values(by='days_employed').head())\n",
    "print('-----')\n",
    "print('Исходный график выборки значений поля \\'days_employed\\'')\n",
    "plt.plot(df_test['days_employed'].sort_values().reset_index(drop=True))\n",
    "plt.show()\n",
    "print('Гистограмма для грубой оценки наличия аномалий в значениях поля \\'days_employed\\'')\n",
    "plt.hist(df_test['days_employed'], bins = 100)\n",
    "plt.show()\n",
    "print('Количество явных дубликатов до обработки:',df_test.duplicated().sum())\n",
    "print('-----')\n",
    "print('Количество отсутствующих значений в поле \\'days_employed\\'',df_test.loc[df_test['days_employed'].isna(),'dob_years'].count())\n",
    "print('-----')\n",
    "print('Количество отсутствующих значений в полях \\'days_employed\\' и \\'total_income\\'',df_test.loc[(df_test['total_income'].isna()) & (df_test['days_employed'].isna()),'dob_years'].count())"
   ]
  },
  {
   "cell_type": "markdown",
   "id": "c749e2ba",
   "metadata": {},
   "source": [
    "<font color='DarkBlue'> \n",
    "📌 Из полученных данных и графика видно, что параметр принимает значения менее 50000 и более 300000, что не является вероятным. Достаточно большое количество записей имеет ненулевое и аномальное значение параметра 'days_employed', следовательно нельзя их отбросить или заменить, если можно проанализировать эти значения. Чем более пологий график, тем более равномерно распределены значения. Если он более крутой в начале, то параметров с меньшим значением больше, если в конце - то больше параметров с большим значением. Так как он крутой в аномальной области, скорее всего данные представлены не в днях <br>\n",
    "📌 Необходимо определить, есть ли зависимости и связаны ли аномалии со значениями других столбцов dataframe. Сначала можно проанализировать данные с отсутствующими значениями, затем с превышающими допустимые. <br>  \n",
    "📌 Также можно определить минимальный и максимальный возраст клиентов для дальнейших анализов, так как количество отработанных дней имеет прямую зависимость с возрастом, по которой можно выявить аномалии. Можно построить график распределения значений по возрасту. <br>\n",
    "📌 Для дальнейшего анализа поля 'days_employed' необходимо определить минимальное значение поля с некорректным параметром и разницу между максимальным значением, выявленным в предыдущем расчете, и минимальным для проведения соответствия. <br> \n",
    "📌 Для информации можно определить отношение количества отсутствующих значений ко всем в исходном датасете (оно одинаково для полей 'days_employed' и 'total_income', как было выявлено ранее) <br>\n",
    "📌 Необходимо удалить явные дубликаты, чтобы исключить вероятность неверного анализа и обработки данных по графикам, средним арифметическим и медианным значениям, отклонениям и т.д. Для достоверности можно отобразить их количество после операции <br>\n",
    "</font>    "
   ]
  },
  {
   "cell_type": "code",
   "execution_count": 69,
   "id": "bcca7095",
   "metadata": {},
   "outputs": [
    {
     "name": "stdout",
     "output_type": "stream",
     "text": [
      "Записи с отсутствующими значениями поля 'days_employed'\n"
     ]
    },
    {
     "data": {
      "text/html": [
       "<div>\n",
       "<style scoped>\n",
       "    .dataframe tbody tr th:only-of-type {\n",
       "        vertical-align: middle;\n",
       "    }\n",
       "\n",
       "    .dataframe tbody tr th {\n",
       "        vertical-align: top;\n",
       "    }\n",
       "\n",
       "    .dataframe thead th {\n",
       "        text-align: right;\n",
       "    }\n",
       "</style>\n",
       "<table border=\"1\" class=\"dataframe\">\n",
       "  <thead>\n",
       "    <tr style=\"text-align: right;\">\n",
       "      <th></th>\n",
       "      <th>children</th>\n",
       "      <th>days_employed</th>\n",
       "      <th>dob_years</th>\n",
       "      <th>education</th>\n",
       "      <th>education_id</th>\n",
       "      <th>family_status</th>\n",
       "      <th>family_status_id</th>\n",
       "      <th>gender</th>\n",
       "      <th>income_type</th>\n",
       "      <th>debt</th>\n",
       "      <th>total_income</th>\n",
       "      <th>purpose</th>\n",
       "    </tr>\n",
       "  </thead>\n",
       "  <tbody>\n",
       "    <tr>\n",
       "      <th>12</th>\n",
       "      <td>0</td>\n",
       "      <td>NaN</td>\n",
       "      <td>65</td>\n",
       "      <td>среднее</td>\n",
       "      <td>1</td>\n",
       "      <td>гражданский брак</td>\n",
       "      <td>1</td>\n",
       "      <td>M</td>\n",
       "      <td>пенсионер</td>\n",
       "      <td>0</td>\n",
       "      <td>NaN</td>\n",
       "      <td>сыграть свадьбу</td>\n",
       "    </tr>\n",
       "    <tr>\n",
       "      <th>26</th>\n",
       "      <td>0</td>\n",
       "      <td>NaN</td>\n",
       "      <td>41</td>\n",
       "      <td>среднее</td>\n",
       "      <td>1</td>\n",
       "      <td>женат / замужем</td>\n",
       "      <td>0</td>\n",
       "      <td>M</td>\n",
       "      <td>госслужащий</td>\n",
       "      <td>0</td>\n",
       "      <td>NaN</td>\n",
       "      <td>образование</td>\n",
       "    </tr>\n",
       "    <tr>\n",
       "      <th>29</th>\n",
       "      <td>0</td>\n",
       "      <td>NaN</td>\n",
       "      <td>63</td>\n",
       "      <td>среднее</td>\n",
       "      <td>1</td>\n",
       "      <td>Не женат / не замужем</td>\n",
       "      <td>4</td>\n",
       "      <td>F</td>\n",
       "      <td>пенсионер</td>\n",
       "      <td>0</td>\n",
       "      <td>NaN</td>\n",
       "      <td>строительство жилой недвижимости</td>\n",
       "    </tr>\n",
       "    <tr>\n",
       "      <th>41</th>\n",
       "      <td>0</td>\n",
       "      <td>NaN</td>\n",
       "      <td>50</td>\n",
       "      <td>среднее</td>\n",
       "      <td>1</td>\n",
       "      <td>женат / замужем</td>\n",
       "      <td>0</td>\n",
       "      <td>F</td>\n",
       "      <td>госслужащий</td>\n",
       "      <td>0</td>\n",
       "      <td>NaN</td>\n",
       "      <td>сделка с подержанным автомобилем</td>\n",
       "    </tr>\n",
       "    <tr>\n",
       "      <th>55</th>\n",
       "      <td>0</td>\n",
       "      <td>NaN</td>\n",
       "      <td>54</td>\n",
       "      <td>среднее</td>\n",
       "      <td>1</td>\n",
       "      <td>гражданский брак</td>\n",
       "      <td>1</td>\n",
       "      <td>F</td>\n",
       "      <td>пенсионер</td>\n",
       "      <td>1</td>\n",
       "      <td>NaN</td>\n",
       "      <td>сыграть свадьбу</td>\n",
       "    </tr>\n",
       "  </tbody>\n",
       "</table>\n",
       "</div>"
      ],
      "text/plain": [
       "    children  days_employed  dob_years education  education_id  \\\n",
       "12         0            NaN         65   среднее             1   \n",
       "26         0            NaN         41   среднее             1   \n",
       "29         0            NaN         63   среднее             1   \n",
       "41         0            NaN         50   среднее             1   \n",
       "55         0            NaN         54   среднее             1   \n",
       "\n",
       "            family_status  family_status_id gender  income_type  debt  \\\n",
       "12       гражданский брак                 1      M    пенсионер     0   \n",
       "26        женат / замужем                 0      M  госслужащий     0   \n",
       "29  Не женат / не замужем                 4      F    пенсионер     0   \n",
       "41        женат / замужем                 0      F  госслужащий     0   \n",
       "55       гражданский брак                 1      F    пенсионер     1   \n",
       "\n",
       "    total_income                           purpose  \n",
       "12           NaN                   сыграть свадьбу  \n",
       "26           NaN                       образование  \n",
       "29           NaN  строительство жилой недвижимости  \n",
       "41           NaN  сделка с подержанным автомобилем  \n",
       "55           NaN                   сыграть свадьбу  "
      ]
     },
     "metadata": {},
     "output_type": "display_data"
    },
    {
     "name": "stdout",
     "output_type": "stream",
     "text": [
      "-----\n",
      "Записи с максимальными аномальными значениями поля 'days_employed'\n"
     ]
    },
    {
     "data": {
      "text/html": [
       "<div>\n",
       "<style scoped>\n",
       "    .dataframe tbody tr th:only-of-type {\n",
       "        vertical-align: middle;\n",
       "    }\n",
       "\n",
       "    .dataframe tbody tr th {\n",
       "        vertical-align: top;\n",
       "    }\n",
       "\n",
       "    .dataframe thead th {\n",
       "        text-align: right;\n",
       "    }\n",
       "</style>\n",
       "<table border=\"1\" class=\"dataframe\">\n",
       "  <thead>\n",
       "    <tr style=\"text-align: right;\">\n",
       "      <th></th>\n",
       "      <th>children</th>\n",
       "      <th>days_employed</th>\n",
       "      <th>dob_years</th>\n",
       "      <th>education</th>\n",
       "      <th>education_id</th>\n",
       "      <th>family_status</th>\n",
       "      <th>family_status_id</th>\n",
       "      <th>gender</th>\n",
       "      <th>income_type</th>\n",
       "      <th>debt</th>\n",
       "      <th>total_income</th>\n",
       "      <th>purpose</th>\n",
       "    </tr>\n",
       "  </thead>\n",
       "  <tbody>\n",
       "    <tr>\n",
       "      <th>7794</th>\n",
       "      <td>0</td>\n",
       "      <td>401663.850046</td>\n",
       "      <td>61</td>\n",
       "      <td>среднее</td>\n",
       "      <td>1</td>\n",
       "      <td>гражданский брак</td>\n",
       "      <td>1</td>\n",
       "      <td>F</td>\n",
       "      <td>пенсионер</td>\n",
       "      <td>0</td>\n",
       "      <td>48286.441362</td>\n",
       "      <td>свадьба</td>\n",
       "    </tr>\n",
       "    <tr>\n",
       "      <th>2156</th>\n",
       "      <td>0</td>\n",
       "      <td>401674.466633</td>\n",
       "      <td>60</td>\n",
       "      <td>среднее</td>\n",
       "      <td>1</td>\n",
       "      <td>женат / замужем</td>\n",
       "      <td>0</td>\n",
       "      <td>M</td>\n",
       "      <td>пенсионер</td>\n",
       "      <td>0</td>\n",
       "      <td>325395.724541</td>\n",
       "      <td>автомобили</td>\n",
       "    </tr>\n",
       "    <tr>\n",
       "      <th>7664</th>\n",
       "      <td>1</td>\n",
       "      <td>401675.093434</td>\n",
       "      <td>61</td>\n",
       "      <td>среднее</td>\n",
       "      <td>1</td>\n",
       "      <td>женат / замужем</td>\n",
       "      <td>0</td>\n",
       "      <td>F</td>\n",
       "      <td>пенсионер</td>\n",
       "      <td>0</td>\n",
       "      <td>126214.519212</td>\n",
       "      <td>операции с жильем</td>\n",
       "    </tr>\n",
       "    <tr>\n",
       "      <th>10006</th>\n",
       "      <td>0</td>\n",
       "      <td>401715.811749</td>\n",
       "      <td>69</td>\n",
       "      <td>высшее</td>\n",
       "      <td>0</td>\n",
       "      <td>Не женат / не замужем</td>\n",
       "      <td>4</td>\n",
       "      <td>F</td>\n",
       "      <td>пенсионер</td>\n",
       "      <td>0</td>\n",
       "      <td>57390.256908</td>\n",
       "      <td>получение образования</td>\n",
       "    </tr>\n",
       "    <tr>\n",
       "      <th>6954</th>\n",
       "      <td>0</td>\n",
       "      <td>401755.400475</td>\n",
       "      <td>56</td>\n",
       "      <td>среднее</td>\n",
       "      <td>1</td>\n",
       "      <td>вдовец / вдова</td>\n",
       "      <td>2</td>\n",
       "      <td>F</td>\n",
       "      <td>пенсионер</td>\n",
       "      <td>0</td>\n",
       "      <td>176278.441171</td>\n",
       "      <td>ремонт жилью</td>\n",
       "    </tr>\n",
       "  </tbody>\n",
       "</table>\n",
       "</div>"
      ],
      "text/plain": [
       "       children  days_employed  dob_years education  education_id  \\\n",
       "7794          0  401663.850046         61   среднее             1   \n",
       "2156          0  401674.466633         60   среднее             1   \n",
       "7664          1  401675.093434         61   среднее             1   \n",
       "10006         0  401715.811749         69    высшее             0   \n",
       "6954          0  401755.400475         56   среднее             1   \n",
       "\n",
       "               family_status  family_status_id gender income_type  debt  \\\n",
       "7794        гражданский брак                 1      F   пенсионер     0   \n",
       "2156         женат / замужем                 0      M   пенсионер     0   \n",
       "7664         женат / замужем                 0      F   пенсионер     0   \n",
       "10006  Не женат / не замужем                 4      F   пенсионер     0   \n",
       "6954          вдовец / вдова                 2      F   пенсионер     0   \n",
       "\n",
       "        total_income                purpose  \n",
       "7794    48286.441362                свадьба  \n",
       "2156   325395.724541             автомобили  \n",
       "7664   126214.519212      операции с жильем  \n",
       "10006   57390.256908  получение образования  \n",
       "6954   176278.441171           ремонт жилью  "
      ]
     },
     "metadata": {},
     "output_type": "display_data"
    },
    {
     "name": "stdout",
     "output_type": "stream",
     "text": [
      "-----\n",
      "Записи с минимальными аномальными значениями поля 'days_employed'\n"
     ]
    },
    {
     "data": {
      "text/html": [
       "<div>\n",
       "<style scoped>\n",
       "    .dataframe tbody tr th:only-of-type {\n",
       "        vertical-align: middle;\n",
       "    }\n",
       "\n",
       "    .dataframe tbody tr th {\n",
       "        vertical-align: top;\n",
       "    }\n",
       "\n",
       "    .dataframe thead th {\n",
       "        text-align: right;\n",
       "    }\n",
       "</style>\n",
       "<table border=\"1\" class=\"dataframe\">\n",
       "  <thead>\n",
       "    <tr style=\"text-align: right;\">\n",
       "      <th></th>\n",
       "      <th>children</th>\n",
       "      <th>days_employed</th>\n",
       "      <th>dob_years</th>\n",
       "      <th>education</th>\n",
       "      <th>education_id</th>\n",
       "      <th>family_status</th>\n",
       "      <th>family_status_id</th>\n",
       "      <th>gender</th>\n",
       "      <th>income_type</th>\n",
       "      <th>debt</th>\n",
       "      <th>total_income</th>\n",
       "      <th>purpose</th>\n",
       "    </tr>\n",
       "  </thead>\n",
       "  <tbody>\n",
       "    <tr>\n",
       "      <th>20444</th>\n",
       "      <td>0</td>\n",
       "      <td>328728.720605</td>\n",
       "      <td>72</td>\n",
       "      <td>среднее</td>\n",
       "      <td>1</td>\n",
       "      <td>вдовец / вдова</td>\n",
       "      <td>2</td>\n",
       "      <td>F</td>\n",
       "      <td>пенсионер</td>\n",
       "      <td>0</td>\n",
       "      <td>96519.339647</td>\n",
       "      <td>покупка жилья для семьи</td>\n",
       "    </tr>\n",
       "    <tr>\n",
       "      <th>9328</th>\n",
       "      <td>2</td>\n",
       "      <td>328734.923996</td>\n",
       "      <td>41</td>\n",
       "      <td>высшее</td>\n",
       "      <td>0</td>\n",
       "      <td>женат / замужем</td>\n",
       "      <td>0</td>\n",
       "      <td>M</td>\n",
       "      <td>пенсионер</td>\n",
       "      <td>0</td>\n",
       "      <td>126997.497760</td>\n",
       "      <td>операции со своей недвижимостью</td>\n",
       "    </tr>\n",
       "    <tr>\n",
       "      <th>17782</th>\n",
       "      <td>0</td>\n",
       "      <td>328771.341387</td>\n",
       "      <td>56</td>\n",
       "      <td>среднее</td>\n",
       "      <td>1</td>\n",
       "      <td>женат / замужем</td>\n",
       "      <td>0</td>\n",
       "      <td>F</td>\n",
       "      <td>пенсионер</td>\n",
       "      <td>0</td>\n",
       "      <td>68648.047062</td>\n",
       "      <td>операции с коммерческой недвижимостью</td>\n",
       "    </tr>\n",
       "    <tr>\n",
       "      <th>14783</th>\n",
       "      <td>0</td>\n",
       "      <td>328795.726728</td>\n",
       "      <td>62</td>\n",
       "      <td>высшее</td>\n",
       "      <td>0</td>\n",
       "      <td>женат / замужем</td>\n",
       "      <td>0</td>\n",
       "      <td>F</td>\n",
       "      <td>пенсионер</td>\n",
       "      <td>0</td>\n",
       "      <td>79940.196752</td>\n",
       "      <td>на покупку своего автомобиля</td>\n",
       "    </tr>\n",
       "    <tr>\n",
       "      <th>7229</th>\n",
       "      <td>1</td>\n",
       "      <td>328827.345667</td>\n",
       "      <td>32</td>\n",
       "      <td>среднее</td>\n",
       "      <td>1</td>\n",
       "      <td>гражданский брак</td>\n",
       "      <td>1</td>\n",
       "      <td>F</td>\n",
       "      <td>пенсионер</td>\n",
       "      <td>0</td>\n",
       "      <td>122162.965695</td>\n",
       "      <td>сыграть свадьбу</td>\n",
       "    </tr>\n",
       "  </tbody>\n",
       "</table>\n",
       "</div>"
      ],
      "text/plain": [
       "       children  days_employed  dob_years education  education_id  \\\n",
       "20444         0  328728.720605         72   среднее             1   \n",
       "9328          2  328734.923996         41    высшее             0   \n",
       "17782         0  328771.341387         56   среднее             1   \n",
       "14783         0  328795.726728         62    высшее             0   \n",
       "7229          1  328827.345667         32   среднее             1   \n",
       "\n",
       "          family_status  family_status_id gender income_type  debt  \\\n",
       "20444    вдовец / вдова                 2      F   пенсионер     0   \n",
       "9328    женат / замужем                 0      M   пенсионер     0   \n",
       "17782   женат / замужем                 0      F   пенсионер     0   \n",
       "14783   женат / замужем                 0      F   пенсионер     0   \n",
       "7229   гражданский брак                 1      F   пенсионер     0   \n",
       "\n",
       "        total_income                                purpose  \n",
       "20444   96519.339647                покупка жилья для семьи  \n",
       "9328   126997.497760        операции со своей недвижимостью  \n",
       "17782   68648.047062  операции с коммерческой недвижимостью  \n",
       "14783   79940.196752           на покупку своего автомобиля  \n",
       "7229   122162.965695                        сыграть свадьбу  "
      ]
     },
     "metadata": {},
     "output_type": "display_data"
    },
    {
     "name": "stdout",
     "output_type": "stream",
     "text": [
      "-----\n",
      "Минимальное значение возраста: 0\n",
      "-----\n",
      "Максимальное значение возраста: 75\n",
      "-----\n",
      "Исходный график выборки значений поля 'dob_years'\n"
     ]
    },
    {
     "data": {
      "image/png": "[encoded data removed]",
      "text/plain": [
       "<Figure size 432x288 with 1 Axes>"
      ]
     },
     "metadata": {
      "needs_background": "light"
     },
     "output_type": "display_data"
    },
    {
     "name": "stdout",
     "output_type": "stream",
     "text": [
      "Минимальное аномальное значение количества отработанных дней: 328728.72060451825\n",
      "-----\n",
      "Разница между максимальным и минимальным значениями количества отработанных дней для аномальной выборки: 73026.67987081176\n",
      "-----\n",
      "Доля пропущенных значений в столбцах 'days_employed' и 'total_income': 0.10099883855981417\n",
      "-----\n",
      "Количество явных дубликатов после обработки: 0\n"
     ]
    }
   ],
   "source": [
    "# Аномалии и зависимости значений других полей для записей с отсутствием значения в поле 'days_employed',\n",
    "print('Записи с отсутствующими значениями поля \\'days_employed\\'')\n",
    "display(df_test[df_test['days_employed'].isna()].sort_values(by='days_employed').head())\n",
    "print('-----')\n",
    "# Аномалии и зависимости значений других полей для записей с большим значением в поле 'days_employed'\n",
    "print('Записи с максимальными аномальными значениями поля \\'days_employed\\'')\n",
    "display(df_test[df_test['days_employed'] > 300000].sort_values(by='days_employed').tail())\n",
    "print('-----')\n",
    "print('Записи с минимальными аномальными значениями поля \\'days_employed\\'')\n",
    "display(df_test[df_test['days_employed'] > 300000].sort_values(by='days_employed').head())\n",
    "print('-----')\n",
    "print('Минимальное значение возраста:',df_test['dob_years'].min())\n",
    "print('-----')\n",
    "print('Максимальное значение возраста:',df_test['dob_years'].max())\n",
    "print('-----')\n",
    "print('Исходный график выборки значений поля \\'dob_years\\'')\n",
    "plt.plot(df_test['dob_years'].sort_values().reset_index(drop=True))\n",
    "plt.show()\n",
    "print('Минимальное аномальное значение количества отработанных дней:',df_test.loc[df_test['days_employed'] > 300000,'days_employed'].min())\n",
    "print('-----')\n",
    "print('Разница между максимальным и минимальным значениями количества отработанных дней для аномальной выборки:',df_test.loc[df_test['days_employed'] > 300000,'days_employed'].max() - df_test.loc[df_test['days_employed'] > 300000,'days_employed'].min())\n",
    "print('-----')\n",
    "print('Доля пропущенных значений в столбцах \\'days_employed\\' и \\'total_income\\':', df_test['days_employed'].isna().mean())\n",
    "print('-----')\n",
    "df_test = df_test.drop_duplicates().reset_index(drop=True)\n",
    "print('Количество явных дубликатов после обработки:',df_test.duplicated().sum())"
   ]
  },
  {
   "cell_type": "markdown",
   "id": "765ca397",
   "metadata": {},
   "source": [
    "<font color='DarkBlue'> \n",
    "📌 Так как минимальный возраст 0, следовательно необходимо отсечь эти значения, для определения действительно минимального возраста. Можно вывести первые записи с данными о самых молодых клиенах, имеющие некорректное значение в поле 'days_employed'. <br>\n",
    "📌 Также можно вывести на экран первые записи о клиентах с нулевым значением возраста, чтобы выявить аномалии и зависимости со значениями других полей, а также определить количество этих значений в общем датасете <br>\n",
    "📌 Разница между максимальным и минимальным значениями количества отработанных дней 73026 / 365 = 200 лет, невозможное значение скорее всего выражено в часах, поэтому полученное значение можно пересчитать, разделив на 24. Значение в десятичной системе исчисления, но возможно находится близко к граничным диапазонам типов данных 'uint8', 'int8', 'uint16', 'int16', 'uint32', 'int32' и образовано путем некорректного выполнения арифметических действий с изначально неверным типом. Можно дополнительно проверить их диапазоны.\n",
    "</font>    "
   ]
  },
  {
   "cell_type": "code",
   "execution_count": 70,
   "id": "256d8b99",
   "metadata": {},
   "outputs": [
    {
     "name": "stdout",
     "output_type": "stream",
     "text": [
      "Записи с минимальными значениями поля 'dob_years' при аномальных значениях поля 'days_employed'\n"
     ]
    },
    {
     "data": {
      "text/html": [
       "<div>\n",
       "<style scoped>\n",
       "    .dataframe tbody tr th:only-of-type {\n",
       "        vertical-align: middle;\n",
       "    }\n",
       "\n",
       "    .dataframe tbody tr th {\n",
       "        vertical-align: top;\n",
       "    }\n",
       "\n",
       "    .dataframe thead th {\n",
       "        text-align: right;\n",
       "    }\n",
       "</style>\n",
       "<table border=\"1\" class=\"dataframe\">\n",
       "  <thead>\n",
       "    <tr style=\"text-align: right;\">\n",
       "      <th></th>\n",
       "      <th>days_employed</th>\n",
       "      <th>dob_years</th>\n",
       "    </tr>\n",
       "  </thead>\n",
       "  <tbody>\n",
       "    <tr>\n",
       "      <th>1242</th>\n",
       "      <td>334764.259831</td>\n",
       "      <td>22</td>\n",
       "    </tr>\n",
       "    <tr>\n",
       "      <th>16139</th>\n",
       "      <td>364348.197352</td>\n",
       "      <td>26</td>\n",
       "    </tr>\n",
       "    <tr>\n",
       "      <th>19395</th>\n",
       "      <td>389397.167577</td>\n",
       "      <td>26</td>\n",
       "    </tr>\n",
       "    <tr>\n",
       "      <th>12736</th>\n",
       "      <td>329781.704997</td>\n",
       "      <td>27</td>\n",
       "    </tr>\n",
       "    <tr>\n",
       "      <th>13931</th>\n",
       "      <td>376824.585817</td>\n",
       "      <td>27</td>\n",
       "    </tr>\n",
       "  </tbody>\n",
       "</table>\n",
       "</div>"
      ],
      "text/plain": [
       "       days_employed  dob_years\n",
       "1242   334764.259831         22\n",
       "16139  364348.197352         26\n",
       "19395  389397.167577         26\n",
       "12736  329781.704997         27\n",
       "13931  376824.585817         27"
      ]
     },
     "metadata": {},
     "output_type": "display_data"
    },
    {
     "name": "stdout",
     "output_type": "stream",
     "text": [
      "-----\n",
      "Записи с нулевыми значениями поля 'dob_years'\n"
     ]
    },
    {
     "data": {
      "text/html": [
       "<div>\n",
       "<style scoped>\n",
       "    .dataframe tbody tr th:only-of-type {\n",
       "        vertical-align: middle;\n",
       "    }\n",
       "\n",
       "    .dataframe tbody tr th {\n",
       "        vertical-align: top;\n",
       "    }\n",
       "\n",
       "    .dataframe thead th {\n",
       "        text-align: right;\n",
       "    }\n",
       "</style>\n",
       "<table border=\"1\" class=\"dataframe\">\n",
       "  <thead>\n",
       "    <tr style=\"text-align: right;\">\n",
       "      <th></th>\n",
       "      <th>children</th>\n",
       "      <th>days_employed</th>\n",
       "      <th>dob_years</th>\n",
       "      <th>education</th>\n",
       "      <th>education_id</th>\n",
       "      <th>family_status</th>\n",
       "      <th>family_status_id</th>\n",
       "      <th>gender</th>\n",
       "      <th>income_type</th>\n",
       "      <th>debt</th>\n",
       "      <th>total_income</th>\n",
       "      <th>purpose</th>\n",
       "    </tr>\n",
       "  </thead>\n",
       "  <tbody>\n",
       "    <tr>\n",
       "      <th>99</th>\n",
       "      <td>0</td>\n",
       "      <td>346541.618895</td>\n",
       "      <td>0</td>\n",
       "      <td>Среднее</td>\n",
       "      <td>1</td>\n",
       "      <td>женат / замужем</td>\n",
       "      <td>0</td>\n",
       "      <td>F</td>\n",
       "      <td>пенсионер</td>\n",
       "      <td>0</td>\n",
       "      <td>71291.522491</td>\n",
       "      <td>автомобиль</td>\n",
       "    </tr>\n",
       "    <tr>\n",
       "      <th>149</th>\n",
       "      <td>0</td>\n",
       "      <td>2664.273168</td>\n",
       "      <td>0</td>\n",
       "      <td>среднее</td>\n",
       "      <td>1</td>\n",
       "      <td>в разводе</td>\n",
       "      <td>3</td>\n",
       "      <td>F</td>\n",
       "      <td>сотрудник</td>\n",
       "      <td>0</td>\n",
       "      <td>70176.435951</td>\n",
       "      <td>операции с жильем</td>\n",
       "    </tr>\n",
       "    <tr>\n",
       "      <th>270</th>\n",
       "      <td>3</td>\n",
       "      <td>1872.663186</td>\n",
       "      <td>0</td>\n",
       "      <td>среднее</td>\n",
       "      <td>1</td>\n",
       "      <td>женат / замужем</td>\n",
       "      <td>0</td>\n",
       "      <td>F</td>\n",
       "      <td>сотрудник</td>\n",
       "      <td>0</td>\n",
       "      <td>102166.458894</td>\n",
       "      <td>ремонт жилью</td>\n",
       "    </tr>\n",
       "    <tr>\n",
       "      <th>578</th>\n",
       "      <td>0</td>\n",
       "      <td>397856.565013</td>\n",
       "      <td>0</td>\n",
       "      <td>среднее</td>\n",
       "      <td>1</td>\n",
       "      <td>женат / замужем</td>\n",
       "      <td>0</td>\n",
       "      <td>F</td>\n",
       "      <td>пенсионер</td>\n",
       "      <td>0</td>\n",
       "      <td>97620.687042</td>\n",
       "      <td>строительство собственной недвижимости</td>\n",
       "    </tr>\n",
       "    <tr>\n",
       "      <th>1040</th>\n",
       "      <td>0</td>\n",
       "      <td>1158.029561</td>\n",
       "      <td>0</td>\n",
       "      <td>высшее</td>\n",
       "      <td>0</td>\n",
       "      <td>в разводе</td>\n",
       "      <td>3</td>\n",
       "      <td>F</td>\n",
       "      <td>компаньон</td>\n",
       "      <td>0</td>\n",
       "      <td>303994.134987</td>\n",
       "      <td>свой автомобиль</td>\n",
       "    </tr>\n",
       "  </tbody>\n",
       "</table>\n",
       "</div>"
      ],
      "text/plain": [
       "      children  days_employed  dob_years education  education_id  \\\n",
       "99           0  346541.618895          0   Среднее             1   \n",
       "149          0    2664.273168          0   среднее             1   \n",
       "270          3    1872.663186          0   среднее             1   \n",
       "578          0  397856.565013          0   среднее             1   \n",
       "1040         0    1158.029561          0    высшее             0   \n",
       "\n",
       "        family_status  family_status_id gender income_type  debt  \\\n",
       "99    женат / замужем                 0      F   пенсионер     0   \n",
       "149         в разводе                 3      F   сотрудник     0   \n",
       "270   женат / замужем                 0      F   сотрудник     0   \n",
       "578   женат / замужем                 0      F   пенсионер     0   \n",
       "1040        в разводе                 3      F   компаньон     0   \n",
       "\n",
       "       total_income                                 purpose  \n",
       "99     71291.522491                              автомобиль  \n",
       "149    70176.435951                       операции с жильем  \n",
       "270   102166.458894                            ремонт жилью  \n",
       "578    97620.687042  строительство собственной недвижимости  \n",
       "1040  303994.134987                         свой автомобиль  "
      ]
     },
     "metadata": {},
     "output_type": "display_data"
    },
    {
     "name": "stdout",
     "output_type": "stream",
     "text": [
      "-----\n",
      "Количество клиентов со значением возраста 0: 101\n",
      "-----\n",
      "Отношение записей с возрастом 0 к количеству всех записей: 0.004704019374970891\n",
      "-----\n",
      "Разница между максимальным и минимальным значениями количества отработанных дней для аномальной выборки: 3042.7783279504897\n",
      "-----\n",
      "Machine parameters for uint8\n",
      "---------------------------------------------------------------\n",
      "min = 0\n",
      "max = 255\n",
      "---------------------------------------------------------------\n",
      "\n",
      "Machine parameters for int8\n",
      "---------------------------------------------------------------\n",
      "min = -128\n",
      "max = 127\n",
      "---------------------------------------------------------------\n",
      "\n",
      "Machine parameters for uint16\n",
      "---------------------------------------------------------------\n",
      "min = 0\n",
      "max = 65535\n",
      "---------------------------------------------------------------\n",
      "\n",
      "Machine parameters for int16\n",
      "---------------------------------------------------------------\n",
      "min = -32768\n",
      "max = 32767\n",
      "---------------------------------------------------------------\n",
      "\n",
      "Machine parameters for uint32\n",
      "---------------------------------------------------------------\n",
      "min = 0\n",
      "max = 4294967295\n",
      "---------------------------------------------------------------\n",
      "\n",
      "Machine parameters for int32\n",
      "---------------------------------------------------------------\n",
      "min = -2147483648\n",
      "max = 2147483647\n",
      "---------------------------------------------------------------\n",
      "\n"
     ]
    }
   ],
   "source": [
    "print('Записи с минимальными значениями поля \\'dob_years\\' при аномальных значениях поля \\'days_employed\\'')\n",
    "display(df_test.loc[(df_test['days_employed'] > 300000) & (df_test['dob_years'] > 0), ['days_employed','dob_years']].sort_values(by='dob_years').head())\n",
    "print('-----')\n",
    "# Аномалии и зависимости значений других полей для записей с нулевым количеством лет в поле 'dob_years'\n",
    "print('Записи с нулевыми значениями поля \\'dob_years\\'')\n",
    "display(df_test[df_test['dob_years'] == 0].head())\n",
    "print('-----')\n",
    "print('Количество клиентов со значением возраста 0:',df_test.loc[df_test['dob_years'] == 0, 'dob_years'].count())\n",
    "print('-----')\n",
    "print('Отношение записей с возрастом 0 к количеству всех записей:',df_test.loc[df_test['dob_years'] == 0, 'dob_years'].count()/df_test['dob_years'].count())\n",
    "print('-----')\n",
    "print('Разница между максимальным и минимальным значениями количества отработанных дней для аномальной выборки:',(df_test.loc[df_test['days_employed'] > 300000,'days_employed'].max() - df_test.loc[df_test['days_employed'] > 300000,'days_employed'].min()) / 24)\n",
    "print('-----')\n",
    "import numpy as np\n",
    "int_types = [\"uint8\", \"int8\", \"uint16\", \"int16\", \"uint32\", \"int32\"]\n",
    "for i in int_types:\n",
    "    print(np.iinfo(i))"
   ]
  },
  {
   "cell_type": "markdown",
   "id": "899d33bc",
   "metadata": {},
   "source": [
    "<font color='DarkBlue'> \n",
    "📌 Границы диапазонов типов данных находятся достаточно далеко от выявленных аномальных значений, значит проблема возникла не в результате преобразования типов данных. Разница между максимальным и минимальным значениями количества отработанных дней для аномальной выборки показывает реальное значение 3043 / 365 = 8 лет. Минимальный возраст для этой выборки - 22 года, значение 'days_employed' - 334764, а минимальное значение из аномальной выборки - 328728, значит логично, что его можно учитывать как нулевое. Следовательно, остальные аномальные значения можно указать как разницу между текущим значением и минимальным, являющимся нулевым, разделенную на 24. Затем можно убедиться в том, что максимальное значение не превышает невозможное и построить график изменения значений <br>\n",
    "📌 Для анализа исходных данных можно определить медианное значение для полей 'days_employed', 'total_income' и 'dob_years'. <br>\n",
    "📌 Также нужно заменить отсутствующие значения полей 'days_employed' и 'total_income' на медианное значение измененного датасета. Так как график намного более крутой в конечных точках, следует применять функцию нахождения медианного значения выборки, так как крайние значения могут оказать существенное влияние на усредненное значение методом нахождения среднего арифметического. <br>\n",
    "📌 Нужно заменить нулевые значения в колонке возраста клиентов на медианные, так как в конечной точке график достаточно крутой, для нормализации общей картины последующего анализа. <br>\n",
    "📌 Затем нужно отредактировать недостающие данные в поле 'total_income'. Для начального анализа нужно найти крайние значения выборки, вывести строки датасета с максимальными и минимальными параметрами рассматриваемого столбца и посторить график распределения значений <br>   \n",
    "</font>     "
   ]
  },
  {
   "cell_type": "code",
   "execution_count": 71,
   "id": "5b949710",
   "metadata": {
    "scrolled": false
   },
   "outputs": [
    {
     "name": "stdout",
     "output_type": "stream",
     "text": [
      "Максимальное количество отработынных дней: 18388.949900568383\n",
      "-----\n",
      "График выборки значений поля 'days_employed' после приведения аномальных значений\n"
     ]
    },
    {
     "data": {
      "image/png": "[encoded data removed]",
      "text/plain": [
       "<Figure size 432x288 with 1 Axes>"
      ]
     },
     "metadata": {
      "needs_background": "light"
     },
     "output_type": "display_data"
    },
    {
     "name": "stdout",
     "output_type": "stream",
     "text": [
      "Медианное значение исходного поля 'days_employed' после устранения аномалий: 1604.249730074267\n",
      "-----\n",
      "Медианное значение исходного поля 'total_income': 145017.93753253992\n",
      "-----\n",
      "Медианное значение исходного поля 'dob_years': 42.0\n",
      "-----\n",
      "График выборки значений поля 'days_employed' после усреднения пропущенных значений\n"
     ]
    },
    {
     "data": {
      "image/png": "[encoded data removed]",
      "text/plain": [
       "<Figure size 432x288 with 1 Axes>"
      ]
     },
     "metadata": {
      "needs_background": "light"
     },
     "output_type": "display_data"
    },
    {
     "name": "stdout",
     "output_type": "stream",
     "text": [
      "-----\n",
      "График выборки значений поля 'days_employed' после усреднения нулевых значений\n"
     ]
    },
    {
     "data": {
      "image/png": "[encoded data removed]",
      "text/plain": [
       "<Figure size 432x288 with 1 Axes>"
      ]
     },
     "metadata": {
      "needs_background": "light"
     },
     "output_type": "display_data"
    },
    {
     "name": "stdout",
     "output_type": "stream",
     "text": [
      "Минимальное значение дохода: 20667.26379327158\n",
      "Максимальное значение дохода: 2265604.028722744\n",
      "-----\n",
      "Записи с максимальными значениями поля 'total_income'\n"
     ]
    },
    {
     "data": {
      "text/html": [
       "<div>\n",
       "<style scoped>\n",
       "    .dataframe tbody tr th:only-of-type {\n",
       "        vertical-align: middle;\n",
       "    }\n",
       "\n",
       "    .dataframe tbody tr th {\n",
       "        vertical-align: top;\n",
       "    }\n",
       "\n",
       "    .dataframe thead th {\n",
       "        text-align: right;\n",
       "    }\n",
       "</style>\n",
       "<table border=\"1\" class=\"dataframe\">\n",
       "  <thead>\n",
       "    <tr style=\"text-align: right;\">\n",
       "      <th></th>\n",
       "      <th>days_employed</th>\n",
       "      <th>dob_years</th>\n",
       "      <th>total_income</th>\n",
       "    </tr>\n",
       "  </thead>\n",
       "  <tbody>\n",
       "    <tr>\n",
       "      <th>17147</th>\n",
       "      <td>5734.127087</td>\n",
       "      <td>42.0</td>\n",
       "      <td>1.711309e+06</td>\n",
       "    </tr>\n",
       "    <tr>\n",
       "      <th>20759</th>\n",
       "      <td>4719.273476</td>\n",
       "      <td>61.0</td>\n",
       "      <td>1.715018e+06</td>\n",
       "    </tr>\n",
       "    <tr>\n",
       "      <th>9163</th>\n",
       "      <td>5248.554336</td>\n",
       "      <td>35.0</td>\n",
       "      <td>1.726276e+06</td>\n",
       "    </tr>\n",
       "    <tr>\n",
       "      <th>19562</th>\n",
       "      <td>2577.664662</td>\n",
       "      <td>39.0</td>\n",
       "      <td>2.200852e+06</td>\n",
       "    </tr>\n",
       "    <tr>\n",
       "      <th>12396</th>\n",
       "      <td>1477.438114</td>\n",
       "      <td>44.0</td>\n",
       "      <td>2.265604e+06</td>\n",
       "    </tr>\n",
       "  </tbody>\n",
       "</table>\n",
       "</div>"
      ],
      "text/plain": [
       "       days_employed  dob_years  total_income\n",
       "17147    5734.127087       42.0  1.711309e+06\n",
       "20759    4719.273476       61.0  1.715018e+06\n",
       "9163     5248.554336       35.0  1.726276e+06\n",
       "19562    2577.664662       39.0  2.200852e+06\n",
       "12396    1477.438114       44.0  2.265604e+06"
      ]
     },
     "metadata": {},
     "output_type": "display_data"
    },
    {
     "name": "stdout",
     "output_type": "stream",
     "text": [
      "-----\n",
      "Записи с минимальными значениями поля 'total_income'\n"
     ]
    },
    {
     "data": {
      "text/html": [
       "<div>\n",
       "<style scoped>\n",
       "    .dataframe tbody tr th:only-of-type {\n",
       "        vertical-align: middle;\n",
       "    }\n",
       "\n",
       "    .dataframe tbody tr th {\n",
       "        vertical-align: top;\n",
       "    }\n",
       "\n",
       "    .dataframe thead th {\n",
       "        text-align: right;\n",
       "    }\n",
       "</style>\n",
       "<table border=\"1\" class=\"dataframe\">\n",
       "  <thead>\n",
       "    <tr style=\"text-align: right;\">\n",
       "      <th></th>\n",
       "      <th>days_employed</th>\n",
       "      <th>dob_years</th>\n",
       "      <th>total_income</th>\n",
       "    </tr>\n",
       "  </thead>\n",
       "  <tbody>\n",
       "    <tr>\n",
       "      <th>14562</th>\n",
       "      <td>1270.430781</td>\n",
       "      <td>57.0</td>\n",
       "      <td>20667.263793</td>\n",
       "    </tr>\n",
       "    <tr>\n",
       "      <th>12989</th>\n",
       "      <td>1707.494521</td>\n",
       "      <td>37.0</td>\n",
       "      <td>21205.280566</td>\n",
       "    </tr>\n",
       "    <tr>\n",
       "      <th>16147</th>\n",
       "      <td>3642.820023</td>\n",
       "      <td>52.0</td>\n",
       "      <td>21367.648356</td>\n",
       "    </tr>\n",
       "    <tr>\n",
       "      <th>1598</th>\n",
       "      <td>1291.557650</td>\n",
       "      <td>68.0</td>\n",
       "      <td>21695.101789</td>\n",
       "    </tr>\n",
       "    <tr>\n",
       "      <th>14254</th>\n",
       "      <td>744.738882</td>\n",
       "      <td>61.0</td>\n",
       "      <td>21895.614355</td>\n",
       "    </tr>\n",
       "  </tbody>\n",
       "</table>\n",
       "</div>"
      ],
      "text/plain": [
       "       days_employed  dob_years  total_income\n",
       "14562    1270.430781       57.0  20667.263793\n",
       "12989    1707.494521       37.0  21205.280566\n",
       "16147    3642.820023       52.0  21367.648356\n",
       "1598     1291.557650       68.0  21695.101789\n",
       "14254     744.738882       61.0  21895.614355"
      ]
     },
     "metadata": {},
     "output_type": "display_data"
    },
    {
     "name": "stdout",
     "output_type": "stream",
     "text": [
      "-----\n",
      "График выборки исходных значений поля 'total_income'\n"
     ]
    },
    {
     "data": {
      "image/png": "[encoded data removed]",
      "text/plain": [
       "<Figure size 432x288 with 1 Axes>"
      ]
     },
     "metadata": {
      "needs_background": "light"
     },
     "output_type": "display_data"
    }
   ],
   "source": [
    "df_test.loc[df_test['days_employed'] > 300000,'days_employed'] = (df_test.loc[df_test['days_employed'] > 300000, 'days_employed'] - df_test.loc[df_test['days_employed'] > 300000,'days_employed'].min()) / 24\n",
    "print('Максимальное количество отработынных дней:',df_test['days_employed'].max())\n",
    "print('-----')\n",
    "print('График выборки значений поля \\'days_employed\\' после приведения аномальных значений')\n",
    "plt.plot(df_test['days_employed'].sort_values().reset_index(drop=True))\n",
    "plt.show()\n",
    "print('Медианное значение исходного поля \\'days_employed\\' после устранения аномалий:',df_test['days_employed'].median())\n",
    "print('-----')\n",
    "print('Медианное значение исходного поля \\'total_income\\':',df_test['total_income'].median())\n",
    "print('-----')\n",
    "print('Медианное значение исходного поля \\'dob_years\\':',df_test['dob_years'].median())\n",
    "df_test['days_employed'] = df_test['days_employed'].fillna(df_test['days_employed'].median())\n",
    "print('-----')\n",
    "print('График выборки значений поля \\'days_employed\\' после усреднения пропущенных значений')\n",
    "plt.plot(df_test['days_employed'].sort_values().reset_index(drop=True))\n",
    "plt.show()\n",
    "df_test['dob_years'] = df_test['dob_years'].replace(0,df_test.loc[df_test['dob_years'] != 0,'dob_years'].median())\n",
    "print('-----')\n",
    "print('График выборки значений поля \\'days_employed\\' после усреднения нулевых значений')\n",
    "plt.plot(df_test['dob_years'].sort_values().reset_index(drop=True))\n",
    "plt.show()\n",
    "print('Минимальное значение дохода:',df_test['total_income'].min())\n",
    "print('Максимальное значение дохода:',df_test['total_income'].max())\n",
    "print('-----')\n",
    "print('Записи с максимальными значениями поля \\'total_income\\'')\n",
    "display(df_test.loc[~df_test['total_income'].isna(),['days_employed','dob_years','total_income']].sort_values(by='total_income').tail())\n",
    "print('-----')\n",
    "print('Записи с минимальными значениями поля \\'total_income\\'')\n",
    "display(df_test.loc[~df_test['total_income'].isna(),['days_employed','dob_years','total_income']].sort_values(by='total_income').head())\n",
    "print('-----')\n",
    "print('График выборки исходных значений поля \\'total_income\\'')\n",
    "plt.plot(df_test['total_income'].sort_values().reset_index(drop=True))\n",
    "plt.show()"
   ]
  },
  {
   "cell_type": "markdown",
   "id": "c0fb1e0f",
   "metadata": {},
   "source": [
    "<font color='DarkBlue'> \n",
    "📌 Как видно из графика выше, новая медианная выборка представляет собой горизонтальную прямую с одинаковыми значениями в центре, также количество значений увеличилось по сравнению с первоначальным графиком <br>\n",
    "📌 Нужно заменить отсутствующие значения в поле 'total_income' на медианные, так как в конечной точке график очень крутой, для последующего анализа, и вывести обновленный график на экран <br>\n",
    "📌 Причиной появления пропусков в столбцах 'days_employed' и 'total_income' может являться отсутствие значения (скорее всего некорректно введенного) в одном из столбцов, что приводит к невозможности записи или сохранения данных во втором столбце. Также есть предположение об отсутствии трудового стажа и, соответственно, дохода, так как нет полей с нулевым трудовым стажем. Но в задании четко обозначено, что нужно заполнить пропуски медианным значением, следовательно, за основу берется первый вариант <br>\n",
    "📌 Отрицательные значения в столбце 'days_employed' появились скорее всего по причине определения количества отработанных дней методом вычитания конечной даты из начальной, а не наоборот. Большие аномальные значения в данном поле могли появиться, так как изменился алгоритм подсчета даты: отсчет начинался с другого года, значения объявлены в часовом формате <br>\n",
    "📌 Нулевые значения в поле 'dob_years' никак не связаны с остальными и их количество мало, что может свидетельствовать о возникновении некорректных данных в связи с присутствием явления человеческого фактора <br>\n",
    "📌 Можно сделать вывод только по полям 'days_employed', 'total_income' и 'dob_years', что данные в датасете скорее всего некорректны, так как при изначально среднем количестве отработанных дней 1604 средняя зарплата составляет изначально 145 тыс. руб. (минимальная 20667, соответственно валютой являются рубли), что даже для Москвы является большим показателем, к тому же при парадоксально малом количестве рабочих дней в среднем, учитывая средний возраст исследуемых 42 года, значит данные в исходном датасете сгенерированы в соответствии с некорректно заданными правилами либо сфальцифицированы (среднее количество в данном контексте - медианное значение параметра)   \n",
    "</font>    "
   ]
  },
  {
   "cell_type": "code",
   "execution_count": 72,
   "id": "aec45bf7",
   "metadata": {},
   "outputs": [
    {
     "name": "stdout",
     "output_type": "stream",
     "text": [
      "График выборки значений поля 'total_income' после усреднения пропущенных значений\n"
     ]
    },
    {
     "data": {
      "image/png": "[encoded data removed]",
      "text/plain": [
       "<Figure size 432x288 with 1 Axes>"
      ]
     },
     "metadata": {
      "needs_background": "light"
     },
     "output_type": "display_data"
    }
   ],
   "source": [
    "df_test['total_income'] = df_test['total_income'].fillna(df_test['total_income'].median())\n",
    "print('График выборки значений поля \\'total_income\\' после усреднения пропущенных значений')\n",
    "plt.plot(df_test['total_income'].sort_values().reset_index(drop=True))\n",
    "plt.show()\n",
    "# print('Медианное значение исходного поля \\'days_employed\\':',abs(df.loc[df['days_employed'] < 300000, 'days_employed']).median())"
   ]
  },
  {
   "cell_type": "markdown",
   "id": "0b4ec8aa",
   "metadata": {},
   "source": [
    "### Шаг 2.2 Проверка данных на аномалии и исправления."
   ]
  },
  {
   "cell_type": "markdown",
   "id": "ca9304c8",
   "metadata": {},
   "source": [
    "<font color='DarkBlue'> \n",
    "📌 Нужно вывести общую информацию о столбцах dataframe. Предпочтительно выполнять соответствующие команды в начале анализа <br>\n",
    "</font>    "
   ]
  },
  {
   "cell_type": "code",
   "execution_count": 73,
   "id": "88be8794",
   "metadata": {
    "scrolled": false
   },
   "outputs": [
    {
     "name": "stdout",
     "output_type": "stream",
     "text": [
      "count    21471.000000\n",
      "mean         0.539565\n",
      "std          1.382978\n",
      "min         -1.000000\n",
      "25%          0.000000\n",
      "50%          0.000000\n",
      "75%          1.000000\n",
      "max         20.000000\n",
      "Name: children, dtype: float64\n",
      "-----\n",
      "count    21471.000000\n",
      "mean      2144.061264\n",
      "std       2045.075406\n",
      "min          0.000000\n",
      "25%        839.813416\n",
      "50%       1604.249730\n",
      "75%       2694.941095\n",
      "max      18388.949901\n",
      "Name: days_employed, dtype: float64\n",
      "-----\n",
      "count    21471.000000\n",
      "mean        43.481347\n",
      "std         12.217235\n",
      "min         19.000000\n",
      "25%         33.500000\n",
      "50%         43.000000\n",
      "75%         53.000000\n",
      "max         75.000000\n",
      "Name: dob_years, dtype: float64\n",
      "-----\n",
      "count       21471\n",
      "unique         15\n",
      "top       среднее\n",
      "freq        13705\n",
      "Name: education, dtype: object\n",
      "-----\n",
      "count    21471.000000\n",
      "mean         0.817195\n",
      "std          0.548508\n",
      "min          0.000000\n",
      "25%          1.000000\n",
      "50%          1.000000\n",
      "75%          1.000000\n",
      "max          4.000000\n",
      "Name: education_id, dtype: float64\n",
      "-----\n",
      "count               21471\n",
      "unique                  5\n",
      "top       женат / замужем\n",
      "freq                12344\n",
      "Name: family_status, dtype: object\n",
      "-----\n",
      "count    21471.000000\n",
      "mean         0.973685\n",
      "std          1.421082\n",
      "min          0.000000\n",
      "25%          0.000000\n",
      "50%          0.000000\n",
      "75%          1.000000\n",
      "max          4.000000\n",
      "Name: family_status_id, dtype: float64\n",
      "-----\n",
      "count     21471\n",
      "unique        3\n",
      "top           F\n",
      "freq      14189\n",
      "Name: gender, dtype: object\n",
      "-----\n",
      "count         21471\n",
      "unique            8\n",
      "top       сотрудник\n",
      "freq          11091\n",
      "Name: income_type, dtype: object\n",
      "-----\n",
      "count    21471.000000\n",
      "mean         0.081086\n",
      "std          0.272974\n",
      "min          0.000000\n",
      "25%          0.000000\n",
      "50%          0.000000\n",
      "75%          0.000000\n",
      "max          1.000000\n",
      "Name: debt, dtype: float64\n",
      "-----\n",
      "count    2.147100e+04\n",
      "mean     1.652101e+05\n",
      "std      9.798384e+04\n",
      "min      2.066726e+04\n",
      "25%      1.076553e+05\n",
      "50%      1.450179e+05\n",
      "75%      1.957519e+05\n",
      "max      2.265604e+06\n",
      "Name: total_income, dtype: float64\n",
      "-----\n",
      "count       21471\n",
      "unique         38\n",
      "top       свадьба\n",
      "freq          793\n",
      "Name: purpose, dtype: object\n",
      "-----\n"
     ]
    }
   ],
   "source": [
    "for i in df_test:\n",
    "    print(df_test[i].describe())\n",
    "    print('-----')"
   ]
  },
  {
   "cell_type": "markdown",
   "id": "9b1095c1",
   "metadata": {},
   "source": [
    "<font color='DarkBlue'> \n",
    "📌 Из указанных данных можно сделать вывод о некорректных значениях в поле количества детей у клиентов. Необходимо построить график распределения записей по данному параметру <br>\n",
    "📌 Можно вывести на экран все уникальные значения полей 'education', 'family_status', 'gender', 'income_type', 'purpose' <br>\n",
    "</font>   "
   ]
  },
  {
   "cell_type": "code",
   "execution_count": 74,
   "id": "f7acb2e9",
   "metadata": {
    "scrolled": false
   },
   "outputs": [
    {
     "name": "stdout",
     "output_type": "stream",
     "text": [
      "График выборки исходных значений поля 'children'\n"
     ]
    },
    {
     "data": {
      "image/png": "[encoded data removed]",
      "text/plain": [
       "<Figure size 432x288 with 1 Axes>"
      ]
     },
     "metadata": {
      "needs_background": "light"
     },
     "output_type": "display_data"
    },
    {
     "name": "stdout",
     "output_type": "stream",
     "text": [
      "Уникальные значения поля 'education': ['высшее' 'среднее' 'Среднее' 'СРЕДНЕЕ' 'ВЫСШЕЕ' 'неоконченное высшее'\n",
      " 'начальное' 'Высшее' 'НЕОКОНЧЕННОЕ ВЫСШЕЕ' 'Неоконченное высшее'\n",
      " 'НАЧАЛЬНОЕ' 'Начальное' 'Ученая степень' 'УЧЕНАЯ СТЕПЕНЬ'\n",
      " 'ученая степень']\n",
      "Уникальные значения поля 'family_status': ['женат / замужем' 'гражданский брак' 'вдовец / вдова' 'в разводе'\n",
      " 'Не женат / не замужем']\n",
      "Уникальные значения поля 'gender': ['F' 'M' 'XNA']\n",
      "Уникальные значения поля 'income_type': ['сотрудник' 'пенсионер' 'компаньон' 'госслужащий' 'безработный'\n",
      " 'предприниматель' 'студент' 'в декрете']\n",
      "Уникальные значения поля 'purpose': ['покупка жилья' 'приобретение автомобиля' 'дополнительное образование'\n",
      " 'сыграть свадьбу' 'операции с жильем' 'образование'\n",
      " 'на проведение свадьбы' 'покупка жилья для семьи' 'покупка недвижимости'\n",
      " 'покупка коммерческой недвижимости' 'покупка жилой недвижимости'\n",
      " 'строительство собственной недвижимости' 'недвижимость'\n",
      " 'строительство недвижимости' 'на покупку подержанного автомобиля'\n",
      " 'на покупку своего автомобиля' 'операции с коммерческой недвижимостью'\n",
      " 'строительство жилой недвижимости' 'жилье'\n",
      " 'операции со своей недвижимостью' 'автомобили' 'заняться образованием'\n",
      " 'сделка с подержанным автомобилем' 'получение образования' 'автомобиль'\n",
      " 'свадьба' 'получение дополнительного образования' 'покупка своего жилья'\n",
      " 'операции с недвижимостью' 'получение высшего образования'\n",
      " 'свой автомобиль' 'сделка с автомобилем' 'профильное образование'\n",
      " 'высшее образование' 'покупка жилья для сдачи' 'на покупку автомобиля'\n",
      " 'ремонт жилью' 'заняться высшим образованием']\n"
     ]
    }
   ],
   "source": [
    "print('График выборки исходных значений поля \\'children\\'')\n",
    "plt.plot(df_test['children'].sort_values().reset_index(drop=True))\n",
    "plt.show()\n",
    "print('Уникальные значения поля \\'education\\':',df_test['education'].unique())\n",
    "print('Уникальные значения поля \\'family_status\\':',df_test['family_status'].unique())\n",
    "print('Уникальные значения поля \\'gender\\':',df_test['gender'].unique())\n",
    "print('Уникальные значения поля \\'income_type\\':',df_test['income_type'].unique())\n",
    "print('Уникальные значения поля \\'purpose\\':',df_test['purpose'].unique())"
   ]
  },
  {
   "cell_type": "markdown",
   "id": "31391f6c",
   "metadata": {},
   "source": [
    "<font color='DarkBlue'> \n",
    "📌 Аномальными значениями в поле 'children' являются значения '-1' и '20'. Необходимо рассмотреть количество подобных значений в датасете, а также средний возраст клиентов, которым принадлежат эти записи. Вероятно, при разумном для наличия детей возрасте соответствующих групп (30+), в первом случае ошибка в наличии знака '-', во втором - наличие лишнего '0', поэтому также можно проверить количество и средний возраст клиентов, имеющих 1 и 2 ребенка <br>\n",
    "📌 Исходя из данных о полученном наборе параметров в поле 'education', необходимо привести текст к нижнему регистру и вывести снова все уникальные значения на экран <br>\n",
    "📌 Также во встречающихся в датасете параметрах поля 'gender' присутствует нехарактерное значение пола 'XNA'. Необходимо определить количество строк с данной записью <br>\n",
    "</font>   "
   ]
  },
  {
   "cell_type": "code",
   "execution_count": 75,
   "id": "45daba6f",
   "metadata": {},
   "outputs": [
    {
     "name": "stdout",
     "output_type": "stream",
     "text": [
      "Количеcтво записей с аномальным значением '-1' в поле 'children' 47\n",
      "Средний возраст клиентов с аномальным значением '-1' в поле 'children' 41.0\n",
      "Количеcтво записей с аномальным значением '20' в поле 'children' 76\n",
      "Средний возраст клиентов с аномальным значением '20' в поле 'children' 42.0\n",
      "Количеcтво записей со значением '1' в поле 'children' 4809\n",
      "Средний возраст клиентов со значением '1' в поле 'children' 38.0\n",
      "Количеcтво записей со значением '2' в поле 'children' 2052\n",
      "Средний возраст клиентов со значением '1' в поле 'children' 35.0\n",
      "-----\n",
      "Уникальные значения поле 'education' после преобразования: ['высшее' 'среднее' 'неоконченное высшее' 'начальное' 'ученая степень']\n",
      "-----\n",
      "Количеcтво записей со значением 'XNA' в поле 'gender': 1\n"
     ]
    }
   ],
   "source": [
    "print('Количеcтво записей с аномальным значением \\'-1\\' в поле \\'children\\'',df_test.loc[df_test['children'] < 0, 'children'].count())\n",
    "print('Средний возраст клиентов с аномальным значением \\'-1\\' в поле \\'children\\'',df_test.loc[df_test['children'] < 0, 'dob_years'].median())\n",
    "print('Количеcтво записей с аномальным значением \\'20\\' в поле \\'children\\'',df_test.loc[df_test['children'] == 20, 'children'].count())\n",
    "print('Средний возраст клиентов с аномальным значением \\'20\\' в поле \\'children\\'',df_test.loc[df_test['children'] == 20, 'dob_years'].median())\n",
    "print('Количеcтво записей со значением \\'1\\' в поле \\'children\\'',df_test.loc[df_test['children'] == 1, 'children'].count())\n",
    "print('Средний возраст клиентов со значением \\'1\\' в поле \\'children\\'',df_test.loc[df_test['children'] == 1, 'dob_years'].median())\n",
    "print('Количеcтво записей со значением \\'2\\' в поле \\'children\\'',df_test.loc[df_test['children'] == 2, 'children'].count())\n",
    "print('Средний возраст клиентов со значением \\'1\\' в поле \\'children\\'',df_test.loc[df_test['children'] == 2, 'dob_years'].median())\n",
    "print('-----')\n",
    "df_test['education'] = df_test['education'].str.lower() \n",
    "print('Уникальные значения поле \\'education\\' после преобразования:',df_test['education'].unique())\n",
    "print('-----')\n",
    "print('Количеcтво записей со значением \\'XNA\\' в поле \\'gender\\':',df_test.loc[df_test['gender'] == 'XNA', 'gender'].count())"
   ]
  },
  {
   "cell_type": "markdown",
   "id": "2f731a4c",
   "metadata": {},
   "source": [
    "<font color='DarkBlue'> \n",
    "📌 Значение '-1' в поле 'children' в среднем у людей в возрасте 41 года, поэтому можно убрать знак '-', значение '20' в поле 'children' у людей в возрасте 42 года, поэтому можно предположить, что должно быть значение '2', возможно оператор ошибся при наборе значения, скопировав неверное, число было указано в неверном формате или неверно отсканировалось значение в таблице. Вариантов может быть достаточно много. Желательно установить указанные значения, так как медианное значение '0' указывает на слишком большое количество бездетных, что не отражает действительность. Можно снова вывести на экран график <br>\n",
    "📌 Предполагается указать вместо неизвестного параметра пола наиболее вероятное встречающееся значение 'F', учитывая, что все виды занятости подходят как для мужчин, так и для женщин. Перед этим можно вывести на экран запись с неверно указанным полом <br>\n",
    "📌 Можно проверить корректность соответствия значений в полях 'education_id' и 'education', 'family_status' и 'family_status_id' сначала по количеству записей, создав функцию для упрощения последующих вызовов алгоритма перебора значений <br>\n",
    "</font> "
   ]
  },
  {
   "cell_type": "code",
   "execution_count": 76,
   "id": "fe67560d",
   "metadata": {
    "scrolled": false
   },
   "outputs": [
    {
     "name": "stdout",
     "output_type": "stream",
     "text": [
      "-----\n",
      "График выборки значений поля 'children' после модификации значений столбца\n"
     ]
    },
    {
     "data": {
      "image/png": "[encoded data removed]",
      "text/plain": [
       "<Figure size 432x288 with 1 Axes>"
      ]
     },
     "metadata": {
      "needs_background": "light"
     },
     "output_type": "display_data"
    },
    {
     "name": "stdout",
     "output_type": "stream",
     "text": [
      "-----\n",
      "Исходные записи с некорректными значениями поля 'gender'\n"
     ]
    },
    {
     "data": {
      "text/html": [
       "<div>\n",
       "<style scoped>\n",
       "    .dataframe tbody tr th:only-of-type {\n",
       "        vertical-align: middle;\n",
       "    }\n",
       "\n",
       "    .dataframe tbody tr th {\n",
       "        vertical-align: top;\n",
       "    }\n",
       "\n",
       "    .dataframe thead th {\n",
       "        text-align: right;\n",
       "    }\n",
       "</style>\n",
       "<table border=\"1\" class=\"dataframe\">\n",
       "  <thead>\n",
       "    <tr style=\"text-align: right;\">\n",
       "      <th></th>\n",
       "      <th>children</th>\n",
       "      <th>days_employed</th>\n",
       "      <th>dob_years</th>\n",
       "      <th>education</th>\n",
       "      <th>education_id</th>\n",
       "      <th>family_status</th>\n",
       "      <th>family_status_id</th>\n",
       "      <th>gender</th>\n",
       "      <th>income_type</th>\n",
       "      <th>debt</th>\n",
       "      <th>total_income</th>\n",
       "      <th>purpose</th>\n",
       "    </tr>\n",
       "  </thead>\n",
       "  <tbody>\n",
       "    <tr>\n",
       "      <th>10690</th>\n",
       "      <td>0</td>\n",
       "      <td>2358.600502</td>\n",
       "      <td>24.0</td>\n",
       "      <td>неоконченное высшее</td>\n",
       "      <td>2</td>\n",
       "      <td>гражданский брак</td>\n",
       "      <td>1</td>\n",
       "      <td>XNA</td>\n",
       "      <td>компаньон</td>\n",
       "      <td>0</td>\n",
       "      <td>203905.157261</td>\n",
       "      <td>покупка недвижимости</td>\n",
       "    </tr>\n",
       "  </tbody>\n",
       "</table>\n",
       "</div>"
      ],
      "text/plain": [
       "       children  days_employed  dob_years            education  education_id  \\\n",
       "10690         0    2358.600502       24.0  неоконченное высшее             2   \n",
       "\n",
       "          family_status  family_status_id gender income_type  debt  \\\n",
       "10690  гражданский брак                 1    XNA   компаньон     0   \n",
       "\n",
       "        total_income               purpose  \n",
       "10690  203905.157261  покупка недвижимости  "
      ]
     },
     "metadata": {},
     "output_type": "display_data"
    },
    {
     "name": "stdout",
     "output_type": "stream",
     "text": [
      "-----\n",
      "Количество записей с некорректными значениями поля 'gender' после преобразования: 0\n",
      "Соответствие количества идентификаторов для значений следующих полей\n",
      "----- education -----\n",
      "высшее - 5251\n",
      "среднее - 15188\n",
      "неоконченное высшее - 744\n",
      "начальное - 282\n",
      "ученая степень - 6\n",
      "----- education_id -----\n",
      "0 - 5251\n",
      "1 - 15188\n",
      "2 - 744\n",
      "3 - 282\n",
      "4 - 6\n",
      "----- family_status -----\n",
      "женат / замужем - 12344\n",
      "гражданский брак - 4163\n",
      "вдовец / вдова - 959\n",
      "в разводе - 1195\n",
      "Не женат / не замужем - 2810\n",
      "----- family_status_id -----\n",
      "0 - 12344\n",
      "1 - 4163\n",
      "2 - 959\n",
      "3 - 1195\n",
      "4 - 2810\n"
     ]
    }
   ],
   "source": [
    "df_test['children'] = df_test['children'].replace(-1,1)\n",
    "df_test['children'] = df_test['children'].replace(20,2)\n",
    "print('-----')\n",
    "print('График выборки значений поля \\'children\\' после модификации значений столбца')\n",
    "plt.plot(df_test['children'].sort_values().reset_index(drop=True))\n",
    "plt.show()\n",
    "print('-----')\n",
    "print('Исходные записи с некорректными значениями поля \\'gender\\'')\n",
    "display(df_test[df_test['gender'] == 'XNA'])\n",
    "df_test.loc[df_test['gender'] == 'XNA','gender'] = 'F'\n",
    "print('-----')\n",
    "print('Количество записей с некорректными значениями поля \\'gender\\' после преобразования:',df_test.loc[df_test['gender'] == 'XNA', 'gender'].count())   \n",
    "print('Соответствие количества идентификаторов для значений следующих полей')\n",
    "def correct_id (param):\n",
    "    print('-----',param,'-----')\n",
    "    for i in df_test[param].unique():\n",
    "        print(i,'-',df_test.loc[df_test[param] == i, param].count()) \n",
    "correct_id ('education')\n",
    "correct_id ('education_id')\n",
    "correct_id ('family_status')\n",
    "correct_id ('family_status_id')  "
   ]
  },
  {
   "cell_type": "markdown",
   "id": "06389d7c",
   "metadata": {},
   "source": [
    "### Шаг 2.3. Изменение типов данных."
   ]
  },
  {
   "cell_type": "markdown",
   "id": "0031f1f7",
   "metadata": {},
   "source": [
    "<font color='DarkBlue'> \n",
    "📌 Исходный датасет имеет использование памяти, равное 2МБ - достаточно малое значение, так как в основном содержатся числовые данные. Можно уменьшить, например, с помощью функции приведения типов <br>\n",
    "📌 Также можно уменьшить размеры памяти для остальных числовых данных способом, указанным ниже. Можно также уменьшить емкость для хранения типов данных оobject путем категоризации <br>\n",
    "</font> "
   ]
  },
  {
   "cell_type": "code",
   "execution_count": 77,
   "id": "bff813ed",
   "metadata": {
    "scrolled": false
   },
   "outputs": [
    {
     "name": "stdout",
     "output_type": "stream",
     "text": [
      "----- Типы данных датасета после изменения типа одного из столбцов -----\n",
      "children              int64\n",
      "days_employed       float64\n",
      "dob_years           float64\n",
      "education            object\n",
      "education_id          int64\n",
      "family_status        object\n",
      "family_status_id      int64\n",
      "gender               object\n",
      "income_type          object\n",
      "debt                  int64\n",
      "total_income          int32\n",
      "purpose              object\n",
      "dtype: object\n",
      "----- Изменения в столбцах типа 'int' -----\n",
      "<class 'pandas.core.frame.DataFrame'>\n",
      "RangeIndex: 21471 entries, 0 to 21470\n",
      "Data columns (total 4 columns):\n",
      " #   Column            Non-Null Count  Dtype\n",
      "---  ------            --------------  -----\n",
      " 0   children          21471 non-null  uint8\n",
      " 1   education_id      21471 non-null  uint8\n",
      " 2   family_status_id  21471 non-null  uint8\n",
      " 3   debt              21471 non-null  uint8\n",
      "dtypes: uint8(4)\n",
      "memory usage: 84.0 KB\n",
      "----- Изменения в столбцах типа 'float' -----\n",
      "<class 'pandas.core.frame.DataFrame'>\n",
      "RangeIndex: 21471 entries, 0 to 21470\n",
      "Data columns (total 2 columns):\n",
      " #   Column         Non-Null Count  Dtype  \n",
      "---  ------         --------------  -----  \n",
      " 0   days_employed  21471 non-null  float32\n",
      " 1   dob_years      21471 non-null  float32\n",
      "dtypes: float32(2)\n",
      "memory usage: 167.9 KB\n",
      "----- Общая информация преобразованного dataframe -----\n",
      "<class 'pandas.core.frame.DataFrame'>\n",
      "RangeIndex: 21471 entries, 0 to 21470\n",
      "Data columns (total 12 columns):\n",
      " #   Column            Non-Null Count  Dtype  \n",
      "---  ------            --------------  -----  \n",
      " 0   children          21471 non-null  uint8  \n",
      " 1   days_employed     21471 non-null  float32\n",
      " 2   dob_years         21471 non-null  float32\n",
      " 3   education         21471 non-null  object \n",
      " 4   education_id      21471 non-null  uint8  \n",
      " 5   family_status     21471 non-null  object \n",
      " 6   family_status_id  21471 non-null  uint8  \n",
      " 7   gender            21471 non-null  object \n",
      " 8   income_type       21471 non-null  object \n",
      " 9   debt              21471 non-null  uint8  \n",
      " 10  total_income      21471 non-null  int32  \n",
      " 11  purpose           21471 non-null  object \n",
      "dtypes: float32(2), int32(1), object(5), uint8(4)\n",
      "memory usage: 1.1+ MB\n"
     ]
    }
   ],
   "source": [
    "df_test['total_income'] = df_test['total_income'].astype('int32')\n",
    "print('----- Типы данных датасета после изменения типа одного из столбцов -----')\n",
    "print(df_test.dtypes)\n",
    "converted_int = df_test.select_dtypes(include=['int'])\n",
    "converted_int = converted_int.apply(pd.to_numeric,downcast='unsigned')\n",
    "print('----- Изменения в столбцах типа \\'int\\' -----')\n",
    "converted_int.info()\n",
    "converted_float = df_test.select_dtypes(include=['float'])\n",
    "converted_float = converted_float.apply(pd.to_numeric,downcast='float')\n",
    "print('----- Изменения в столбцах типа \\'float\\' -----')\n",
    "converted_float.info()\n",
    "df_test[converted_int.columns] = converted_int\n",
    "df_test[converted_float.columns] = converted_float\n",
    "print('----- Общая информация преобразованного dataframe -----')\n",
    "df_test.info()"
   ]
  },
  {
   "cell_type": "markdown",
   "id": "071a05f3",
   "metadata": {},
   "source": [
    "### Шаг 2.4. Удаление дубликатов."
   ]
  },
  {
   "cell_type": "markdown",
   "id": "7a3419d7",
   "metadata": {},
   "source": [
    "<font color='DarkBlue'> \n",
    "📌 Можно рассмотреть появившиеся неявные дубликаты после приведения данных. Этот шаг может выполняться после каждой модификации записей для исключения дальнейшего неверного анализа, в особенности после изменения текстовых данных. Соответственно, желательно сначала обрабатывать поля типа object, определяя повторы по уникальным значениям <br>\n",
    "📌 Метод для поиска и удаления дубликатов выбирается исходя из диапазона или списка уникальных параметров каждого поля, типов данных, необходимости сохранения количества одинаковых записей, выявления природы появления дубликатов. Возможными причинами появления дубликатов могут являться технические ошибки, например, зависание системы, ошибки программного обеспечения в цикле записи или несоответствие периода изменения данных периоду записи в таблицу, и вызванные человеческим фактором, например двойное нажатие кнопки мыши по кнопке создания записи или отсутствия в памяти оператора информации о ранее сделанной записи, в том числе другим человеком <br>\n",
    "</font> "
   ]
  },
  {
   "cell_type": "code",
   "execution_count": 78,
   "id": "256d3c02",
   "metadata": {},
   "outputs": [
    {
     "name": "stdout",
     "output_type": "stream",
     "text": [
      "17\n"
     ]
    },
    {
     "data": {
      "text/html": [
       "<div>\n",
       "<style scoped>\n",
       "    .dataframe tbody tr th:only-of-type {\n",
       "        vertical-align: middle;\n",
       "    }\n",
       "\n",
       "    .dataframe tbody tr th {\n",
       "        vertical-align: top;\n",
       "    }\n",
       "\n",
       "    .dataframe thead th {\n",
       "        text-align: right;\n",
       "    }\n",
       "</style>\n",
       "<table border=\"1\" class=\"dataframe\">\n",
       "  <thead>\n",
       "    <tr style=\"text-align: right;\">\n",
       "      <th></th>\n",
       "      <th>children</th>\n",
       "      <th>days_employed</th>\n",
       "      <th>dob_years</th>\n",
       "      <th>education</th>\n",
       "      <th>education_id</th>\n",
       "      <th>family_status</th>\n",
       "      <th>family_status_id</th>\n",
       "      <th>gender</th>\n",
       "      <th>income_type</th>\n",
       "      <th>debt</th>\n",
       "      <th>total_income</th>\n",
       "      <th>purpose</th>\n",
       "    </tr>\n",
       "  </thead>\n",
       "  <tbody>\n",
       "    <tr>\n",
       "      <th>0</th>\n",
       "      <td>1</td>\n",
       "      <td>8437.672852</td>\n",
       "      <td>42.0</td>\n",
       "      <td>высшее</td>\n",
       "      <td>0</td>\n",
       "      <td>женат / замужем</td>\n",
       "      <td>0</td>\n",
       "      <td>F</td>\n",
       "      <td>сотрудник</td>\n",
       "      <td>0</td>\n",
       "      <td>253875</td>\n",
       "      <td>покупка жилья</td>\n",
       "    </tr>\n",
       "    <tr>\n",
       "      <th>1</th>\n",
       "      <td>1</td>\n",
       "      <td>4024.803711</td>\n",
       "      <td>36.0</td>\n",
       "      <td>среднее</td>\n",
       "      <td>1</td>\n",
       "      <td>женат / замужем</td>\n",
       "      <td>0</td>\n",
       "      <td>F</td>\n",
       "      <td>сотрудник</td>\n",
       "      <td>0</td>\n",
       "      <td>112080</td>\n",
       "      <td>приобретение автомобиля</td>\n",
       "    </tr>\n",
       "    <tr>\n",
       "      <th>2</th>\n",
       "      <td>0</td>\n",
       "      <td>5623.422852</td>\n",
       "      <td>33.0</td>\n",
       "      <td>среднее</td>\n",
       "      <td>1</td>\n",
       "      <td>женат / замужем</td>\n",
       "      <td>0</td>\n",
       "      <td>M</td>\n",
       "      <td>сотрудник</td>\n",
       "      <td>0</td>\n",
       "      <td>145885</td>\n",
       "      <td>покупка жилья</td>\n",
       "    </tr>\n",
       "    <tr>\n",
       "      <th>3</th>\n",
       "      <td>3</td>\n",
       "      <td>4124.747070</td>\n",
       "      <td>32.0</td>\n",
       "      <td>среднее</td>\n",
       "      <td>1</td>\n",
       "      <td>женат / замужем</td>\n",
       "      <td>0</td>\n",
       "      <td>M</td>\n",
       "      <td>сотрудник</td>\n",
       "      <td>0</td>\n",
       "      <td>267628</td>\n",
       "      <td>дополнительное образование</td>\n",
       "    </tr>\n",
       "    <tr>\n",
       "      <th>4</th>\n",
       "      <td>0</td>\n",
       "      <td>480.722992</td>\n",
       "      <td>53.0</td>\n",
       "      <td>среднее</td>\n",
       "      <td>1</td>\n",
       "      <td>гражданский брак</td>\n",
       "      <td>1</td>\n",
       "      <td>F</td>\n",
       "      <td>пенсионер</td>\n",
       "      <td>0</td>\n",
       "      <td>158616</td>\n",
       "      <td>сыграть свадьбу</td>\n",
       "    </tr>\n",
       "  </tbody>\n",
       "</table>\n",
       "</div>"
      ],
      "text/plain": [
       "   children  days_employed  dob_years education  education_id  \\\n",
       "0         1    8437.672852       42.0    высшее             0   \n",
       "1         1    4024.803711       36.0   среднее             1   \n",
       "2         0    5623.422852       33.0   среднее             1   \n",
       "3         3    4124.747070       32.0   среднее             1   \n",
       "4         0     480.722992       53.0   среднее             1   \n",
       "\n",
       "      family_status  family_status_id gender income_type  debt  total_income  \\\n",
       "0   женат / замужем                 0      F   сотрудник     0        253875   \n",
       "1   женат / замужем                 0      F   сотрудник     0        112080   \n",
       "2   женат / замужем                 0      M   сотрудник     0        145885   \n",
       "3   женат / замужем                 0      M   сотрудник     0        267628   \n",
       "4  гражданский брак                 1      F   пенсионер     0        158616   \n",
       "\n",
       "                      purpose  \n",
       "0               покупка жилья  \n",
       "1     приобретение автомобиля  \n",
       "2               покупка жилья  \n",
       "3  дополнительное образование  \n",
       "4             сыграть свадьбу  "
      ]
     },
     "metadata": {},
     "output_type": "display_data"
    }
   ],
   "source": [
    "print(df_test.duplicated().sum())\n",
    "display(df_test.head())"
   ]
  },
  {
   "cell_type": "markdown",
   "id": "a7c570f6",
   "metadata": {},
   "source": [
    "<font color='DarkBlue'> \n",
    "📌 Затем необходимо удалить неявные дубликаты по отношению к исходной таблице и посмотреть их количество после операции <br>\n",
    "</font> "
   ]
  },
  {
   "cell_type": "code",
   "execution_count": 79,
   "id": "76363115",
   "metadata": {},
   "outputs": [
    {
     "name": "stdout",
     "output_type": "stream",
     "text": [
      "0\n"
     ]
    }
   ],
   "source": [
    "df_test = df_test.drop_duplicates().reset_index(drop=True)\n",
    "print(df_test.duplicated().sum())"
   ]
  },
  {
   "cell_type": "markdown",
   "id": "db9d0938",
   "metadata": {},
   "source": [
    "### Шаг 2.5. Формирование дополнительных датафреймов словарей, декомпозиция исходного датафрейма."
   ]
  },
  {
   "cell_type": "markdown",
   "id": "43fa89f8",
   "metadata": {},
   "source": [
    "<font color='DarkBlue'> \n",
    "📌 В dataframe 5 видов уникальных значений каждого из столбцов 'education_id','education', 'family_status_id','family_status', прчем столбцы 'education_id' и 'education', а также 'family_status_id' и 'family_status' коррелируются между собой. Текстовые поля занимают на порядок больший объем памяти в сравнении с числовыми, поэтому от них можно избавиться, создав дополнительные таблицы - \"словари\" для соответствующих идентификаторов. При необходимости определения значений в соответствующих идентификаторах можно обращаться к созданным объектам как к отдельным dataframe. <br>\n",
    "📌 В первом созданном \"словаре\" каждому уникальному значению из 'education' соответствует уникальное значение 'education_id', во втором - каждому уникальному значению из 'family_status' соответствует уникальное значение 'family_status_id'. Затем из исходного датафрейма можно удалить поля 'education' и 'family_status' типа 'object', оставив только их идентификаторы: 'education_id' и 'family_status_id' <br>\n",
    "</font> "
   ]
  },
  {
   "cell_type": "code",
   "execution_count": 80,
   "id": "9e7c902d",
   "metadata": {
    "scrolled": false
   },
   "outputs": [
    {
     "name": "stdout",
     "output_type": "stream",
     "text": [
      "Словарь идентификаторов 'education_id'\n"
     ]
    },
    {
     "data": {
      "text/html": [
       "<div>\n",
       "<style scoped>\n",
       "    .dataframe tbody tr th:only-of-type {\n",
       "        vertical-align: middle;\n",
       "    }\n",
       "\n",
       "    .dataframe tbody tr th {\n",
       "        vertical-align: top;\n",
       "    }\n",
       "\n",
       "    .dataframe thead th {\n",
       "        text-align: right;\n",
       "    }\n",
       "</style>\n",
       "<table border=\"1\" class=\"dataframe\">\n",
       "  <thead>\n",
       "    <tr style=\"text-align: right;\">\n",
       "      <th></th>\n",
       "      <th>education_id</th>\n",
       "      <th>education</th>\n",
       "    </tr>\n",
       "  </thead>\n",
       "  <tbody>\n",
       "    <tr>\n",
       "      <th>0</th>\n",
       "      <td>0</td>\n",
       "      <td>высшее</td>\n",
       "    </tr>\n",
       "    <tr>\n",
       "      <th>1</th>\n",
       "      <td>1</td>\n",
       "      <td>среднее</td>\n",
       "    </tr>\n",
       "    <tr>\n",
       "      <th>2</th>\n",
       "      <td>2</td>\n",
       "      <td>неоконченное высшее</td>\n",
       "    </tr>\n",
       "    <tr>\n",
       "      <th>3</th>\n",
       "      <td>3</td>\n",
       "      <td>начальное</td>\n",
       "    </tr>\n",
       "    <tr>\n",
       "      <th>4</th>\n",
       "      <td>4</td>\n",
       "      <td>ученая степень</td>\n",
       "    </tr>\n",
       "  </tbody>\n",
       "</table>\n",
       "</div>"
      ],
      "text/plain": [
       "   education_id            education\n",
       "0             0               высшее\n",
       "1             1              среднее\n",
       "2             2  неоконченное высшее\n",
       "3             3            начальное\n",
       "4             4       ученая степень"
      ]
     },
     "metadata": {},
     "output_type": "display_data"
    },
    {
     "name": "stdout",
     "output_type": "stream",
     "text": [
      "Словарь идентификаторов 'family_status_id'\n"
     ]
    },
    {
     "data": {
      "text/html": [
       "<div>\n",
       "<style scoped>\n",
       "    .dataframe tbody tr th:only-of-type {\n",
       "        vertical-align: middle;\n",
       "    }\n",
       "\n",
       "    .dataframe tbody tr th {\n",
       "        vertical-align: top;\n",
       "    }\n",
       "\n",
       "    .dataframe thead th {\n",
       "        text-align: right;\n",
       "    }\n",
       "</style>\n",
       "<table border=\"1\" class=\"dataframe\">\n",
       "  <thead>\n",
       "    <tr style=\"text-align: right;\">\n",
       "      <th></th>\n",
       "      <th>family_status_id</th>\n",
       "      <th>family_status</th>\n",
       "    </tr>\n",
       "  </thead>\n",
       "  <tbody>\n",
       "    <tr>\n",
       "      <th>0</th>\n",
       "      <td>0</td>\n",
       "      <td>женат / замужем</td>\n",
       "    </tr>\n",
       "    <tr>\n",
       "      <th>1</th>\n",
       "      <td>1</td>\n",
       "      <td>гражданский брак</td>\n",
       "    </tr>\n",
       "    <tr>\n",
       "      <th>2</th>\n",
       "      <td>2</td>\n",
       "      <td>вдовец / вдова</td>\n",
       "    </tr>\n",
       "    <tr>\n",
       "      <th>3</th>\n",
       "      <td>3</td>\n",
       "      <td>в разводе</td>\n",
       "    </tr>\n",
       "    <tr>\n",
       "      <th>4</th>\n",
       "      <td>4</td>\n",
       "      <td>Не женат / не замужем</td>\n",
       "    </tr>\n",
       "  </tbody>\n",
       "</table>\n",
       "</div>"
      ],
      "text/plain": [
       "   family_status_id          family_status\n",
       "0                 0        женат / замужем\n",
       "1                 1       гражданский брак\n",
       "2                 2         вдовец / вдова\n",
       "3                 3              в разводе\n",
       "4                 4  Не женат / не замужем"
      ]
     },
     "metadata": {},
     "output_type": "display_data"
    },
    {
     "name": "stdout",
     "output_type": "stream",
     "text": [
      "Первые записи измененного dataframe\n"
     ]
    },
    {
     "data": {
      "text/html": [
       "<div>\n",
       "<style scoped>\n",
       "    .dataframe tbody tr th:only-of-type {\n",
       "        vertical-align: middle;\n",
       "    }\n",
       "\n",
       "    .dataframe tbody tr th {\n",
       "        vertical-align: top;\n",
       "    }\n",
       "\n",
       "    .dataframe thead th {\n",
       "        text-align: right;\n",
       "    }\n",
       "</style>\n",
       "<table border=\"1\" class=\"dataframe\">\n",
       "  <thead>\n",
       "    <tr style=\"text-align: right;\">\n",
       "      <th></th>\n",
       "      <th>children</th>\n",
       "      <th>days_employed</th>\n",
       "      <th>dob_years</th>\n",
       "      <th>education_id</th>\n",
       "      <th>family_status_id</th>\n",
       "      <th>gender</th>\n",
       "      <th>income_type</th>\n",
       "      <th>debt</th>\n",
       "      <th>total_income</th>\n",
       "      <th>purpose</th>\n",
       "    </tr>\n",
       "  </thead>\n",
       "  <tbody>\n",
       "    <tr>\n",
       "      <th>0</th>\n",
       "      <td>1</td>\n",
       "      <td>8437.672852</td>\n",
       "      <td>42.0</td>\n",
       "      <td>0</td>\n",
       "      <td>0</td>\n",
       "      <td>F</td>\n",
       "      <td>сотрудник</td>\n",
       "      <td>0</td>\n",
       "      <td>253875</td>\n",
       "      <td>покупка жилья</td>\n",
       "    </tr>\n",
       "    <tr>\n",
       "      <th>1</th>\n",
       "      <td>1</td>\n",
       "      <td>4024.803711</td>\n",
       "      <td>36.0</td>\n",
       "      <td>1</td>\n",
       "      <td>0</td>\n",
       "      <td>F</td>\n",
       "      <td>сотрудник</td>\n",
       "      <td>0</td>\n",
       "      <td>112080</td>\n",
       "      <td>приобретение автомобиля</td>\n",
       "    </tr>\n",
       "    <tr>\n",
       "      <th>2</th>\n",
       "      <td>0</td>\n",
       "      <td>5623.422852</td>\n",
       "      <td>33.0</td>\n",
       "      <td>1</td>\n",
       "      <td>0</td>\n",
       "      <td>M</td>\n",
       "      <td>сотрудник</td>\n",
       "      <td>0</td>\n",
       "      <td>145885</td>\n",
       "      <td>покупка жилья</td>\n",
       "    </tr>\n",
       "    <tr>\n",
       "      <th>3</th>\n",
       "      <td>3</td>\n",
       "      <td>4124.747070</td>\n",
       "      <td>32.0</td>\n",
       "      <td>1</td>\n",
       "      <td>0</td>\n",
       "      <td>M</td>\n",
       "      <td>сотрудник</td>\n",
       "      <td>0</td>\n",
       "      <td>267628</td>\n",
       "      <td>дополнительное образование</td>\n",
       "    </tr>\n",
       "    <tr>\n",
       "      <th>4</th>\n",
       "      <td>0</td>\n",
       "      <td>480.722992</td>\n",
       "      <td>53.0</td>\n",
       "      <td>1</td>\n",
       "      <td>1</td>\n",
       "      <td>F</td>\n",
       "      <td>пенсионер</td>\n",
       "      <td>0</td>\n",
       "      <td>158616</td>\n",
       "      <td>сыграть свадьбу</td>\n",
       "    </tr>\n",
       "  </tbody>\n",
       "</table>\n",
       "</div>"
      ],
      "text/plain": [
       "   children  days_employed  dob_years  education_id  family_status_id gender  \\\n",
       "0         1    8437.672852       42.0             0                 0      F   \n",
       "1         1    4024.803711       36.0             1                 0      F   \n",
       "2         0    5623.422852       33.0             1                 0      M   \n",
       "3         3    4124.747070       32.0             1                 0      M   \n",
       "4         0     480.722992       53.0             1                 1      F   \n",
       "\n",
       "  income_type  debt  total_income                     purpose  \n",
       "0   сотрудник     0        253875               покупка жилья  \n",
       "1   сотрудник     0        112080     приобретение автомобиля  \n",
       "2   сотрудник     0        145885               покупка жилья  \n",
       "3   сотрудник     0        267628  дополнительное образование  \n",
       "4   пенсионер     0        158616             сыграть свадьбу  "
      ]
     },
     "metadata": {},
     "output_type": "display_data"
    }
   ],
   "source": [
    "education_dict = df_test[['education_id','education']].drop_duplicates().reset_index(drop=True)\n",
    "print('Словарь идентификаторов \\'education_id\\'')\n",
    "display(education_dict)\n",
    "family_status_dict = df_test[['family_status_id','family_status']].drop_duplicates().reset_index(drop=True)\n",
    "print('Словарь идентификаторов \\'family_status_id\\'')\n",
    "display(family_status_dict)\n",
    "df_test = df_test.drop(columns = ['education','family_status'],axis = 1)\n",
    "print('Первые записи измененного dataframe')\n",
    "display(df_test.head())"
   ]
  },
  {
   "cell_type": "markdown",
   "id": "641cf08c",
   "metadata": {},
   "source": [
    "### Шаг 2.6. Категоризация дохода."
   ]
  },
  {
   "cell_type": "markdown",
   "id": "1b1b443b",
   "metadata": {},
   "source": [
    "<font color='DarkBlue'> \n",
    "📌 Для упрощения анализа нужно сгруппировать клиентов по группам в зависимости от дохода. На основании диапазонов, указанных в функции, создается столбец total_income_category с соответствующими категориями. Используется новая функция и метод apply(). Первые строки получившегося dataframe можно вывести на экран <br>\n",
    "</font> "
   ]
  },
  {
   "cell_type": "code",
   "execution_count": 81,
   "id": "3ecb369b",
   "metadata": {
    "scrolled": false
   },
   "outputs": [
    {
     "data": {
      "text/html": [
       "<div>\n",
       "<style scoped>\n",
       "    .dataframe tbody tr th:only-of-type {\n",
       "        vertical-align: middle;\n",
       "    }\n",
       "\n",
       "    .dataframe tbody tr th {\n",
       "        vertical-align: top;\n",
       "    }\n",
       "\n",
       "    .dataframe thead th {\n",
       "        text-align: right;\n",
       "    }\n",
       "</style>\n",
       "<table border=\"1\" class=\"dataframe\">\n",
       "  <thead>\n",
       "    <tr style=\"text-align: right;\">\n",
       "      <th></th>\n",
       "      <th>children</th>\n",
       "      <th>days_employed</th>\n",
       "      <th>dob_years</th>\n",
       "      <th>education_id</th>\n",
       "      <th>family_status_id</th>\n",
       "      <th>gender</th>\n",
       "      <th>income_type</th>\n",
       "      <th>debt</th>\n",
       "      <th>total_income</th>\n",
       "      <th>purpose</th>\n",
       "      <th>total_income_category</th>\n",
       "    </tr>\n",
       "  </thead>\n",
       "  <tbody>\n",
       "    <tr>\n",
       "      <th>0</th>\n",
       "      <td>1</td>\n",
       "      <td>8437.672852</td>\n",
       "      <td>42.0</td>\n",
       "      <td>0</td>\n",
       "      <td>0</td>\n",
       "      <td>F</td>\n",
       "      <td>сотрудник</td>\n",
       "      <td>0</td>\n",
       "      <td>253875</td>\n",
       "      <td>покупка жилья</td>\n",
       "      <td>B</td>\n",
       "    </tr>\n",
       "    <tr>\n",
       "      <th>1</th>\n",
       "      <td>1</td>\n",
       "      <td>4024.803711</td>\n",
       "      <td>36.0</td>\n",
       "      <td>1</td>\n",
       "      <td>0</td>\n",
       "      <td>F</td>\n",
       "      <td>сотрудник</td>\n",
       "      <td>0</td>\n",
       "      <td>112080</td>\n",
       "      <td>приобретение автомобиля</td>\n",
       "      <td>C</td>\n",
       "    </tr>\n",
       "    <tr>\n",
       "      <th>2</th>\n",
       "      <td>0</td>\n",
       "      <td>5623.422852</td>\n",
       "      <td>33.0</td>\n",
       "      <td>1</td>\n",
       "      <td>0</td>\n",
       "      <td>M</td>\n",
       "      <td>сотрудник</td>\n",
       "      <td>0</td>\n",
       "      <td>145885</td>\n",
       "      <td>покупка жилья</td>\n",
       "      <td>C</td>\n",
       "    </tr>\n",
       "    <tr>\n",
       "      <th>3</th>\n",
       "      <td>3</td>\n",
       "      <td>4124.747070</td>\n",
       "      <td>32.0</td>\n",
       "      <td>1</td>\n",
       "      <td>0</td>\n",
       "      <td>M</td>\n",
       "      <td>сотрудник</td>\n",
       "      <td>0</td>\n",
       "      <td>267628</td>\n",
       "      <td>дополнительное образование</td>\n",
       "      <td>B</td>\n",
       "    </tr>\n",
       "    <tr>\n",
       "      <th>4</th>\n",
       "      <td>0</td>\n",
       "      <td>480.722992</td>\n",
       "      <td>53.0</td>\n",
       "      <td>1</td>\n",
       "      <td>1</td>\n",
       "      <td>F</td>\n",
       "      <td>пенсионер</td>\n",
       "      <td>0</td>\n",
       "      <td>158616</td>\n",
       "      <td>сыграть свадьбу</td>\n",
       "      <td>C</td>\n",
       "    </tr>\n",
       "  </tbody>\n",
       "</table>\n",
       "</div>"
      ],
      "text/plain": [
       "   children  days_employed  dob_years  education_id  family_status_id gender  \\\n",
       "0         1    8437.672852       42.0             0                 0      F   \n",
       "1         1    4024.803711       36.0             1                 0      F   \n",
       "2         0    5623.422852       33.0             1                 0      M   \n",
       "3         3    4124.747070       32.0             1                 0      M   \n",
       "4         0     480.722992       53.0             1                 1      F   \n",
       "\n",
       "  income_type  debt  total_income                     purpose  \\\n",
       "0   сотрудник     0        253875               покупка жилья   \n",
       "1   сотрудник     0        112080     приобретение автомобиля   \n",
       "2   сотрудник     0        145885               покупка жилья   \n",
       "3   сотрудник     0        267628  дополнительное образование   \n",
       "4   пенсионер     0        158616             сыграть свадьбу   \n",
       "\n",
       "  total_income_category  \n",
       "0                     B  \n",
       "1                     C  \n",
       "2                     C  \n",
       "3                     B  \n",
       "4                     C  "
      ]
     },
     "metadata": {},
     "output_type": "display_data"
    },
    {
     "name": "stdout",
     "output_type": "stream",
     "text": [
      "Количество незаполненных строк: 0\n"
     ]
    }
   ],
   "source": [
    "def total_income(row):\n",
    "    if row <= 30000:\n",
    "        return 'E'\n",
    "    elif row <= 50000:\n",
    "        return 'D'\n",
    "    elif row <= 200000:\n",
    "        return 'C'\n",
    "    elif row <= 1000000:\n",
    "        return 'B'\n",
    "    elif row > 1000000:\n",
    "        return 'A'\n",
    "    return 'error'\n",
    "df_test['total_income_category'] = df_test['total_income'].apply(total_income)\n",
    "display(df_test.head())\n",
    "print('Количество незаполненных строк:', df_test.loc[df_test['total_income_category'] == 'error','total_income'].count())"
   ]
  },
  {
   "cell_type": "markdown",
   "id": "8726c619",
   "metadata": {},
   "source": [
    "### Шаг 2.7. Категоризация целей кредита."
   ]
  },
  {
   "cell_type": "markdown",
   "id": "b09b2ccb",
   "metadata": {},
   "source": [
    "<font color='DarkBlue'> \n",
    "📌 Для более конкретной классификации целей кредита необходимо на основании данных из столбца 'purpose' сформировать новый столбец 'purpose_category' с выделенными в следующей функции категориями на основании вхождения частей слов в текстовых выражениях поля 'purpose' <br>\n",
    "</font> "
   ]
  },
  {
   "cell_type": "code",
   "execution_count": 82,
   "id": "1d016e55",
   "metadata": {
    "scrolled": false
   },
   "outputs": [
    {
     "data": {
      "text/html": [
       "<div>\n",
       "<style scoped>\n",
       "    .dataframe tbody tr th:only-of-type {\n",
       "        vertical-align: middle;\n",
       "    }\n",
       "\n",
       "    .dataframe tbody tr th {\n",
       "        vertical-align: top;\n",
       "    }\n",
       "\n",
       "    .dataframe thead th {\n",
       "        text-align: right;\n",
       "    }\n",
       "</style>\n",
       "<table border=\"1\" class=\"dataframe\">\n",
       "  <thead>\n",
       "    <tr style=\"text-align: right;\">\n",
       "      <th></th>\n",
       "      <th>children</th>\n",
       "      <th>days_employed</th>\n",
       "      <th>dob_years</th>\n",
       "      <th>education_id</th>\n",
       "      <th>family_status_id</th>\n",
       "      <th>gender</th>\n",
       "      <th>income_type</th>\n",
       "      <th>debt</th>\n",
       "      <th>total_income</th>\n",
       "      <th>purpose</th>\n",
       "      <th>total_income_category</th>\n",
       "      <th>purpose_category</th>\n",
       "    </tr>\n",
       "  </thead>\n",
       "  <tbody>\n",
       "    <tr>\n",
       "      <th>0</th>\n",
       "      <td>1</td>\n",
       "      <td>8437.672852</td>\n",
       "      <td>42.0</td>\n",
       "      <td>0</td>\n",
       "      <td>0</td>\n",
       "      <td>F</td>\n",
       "      <td>сотрудник</td>\n",
       "      <td>0</td>\n",
       "      <td>253875</td>\n",
       "      <td>покупка жилья</td>\n",
       "      <td>B</td>\n",
       "      <td>операции с недвижимостью</td>\n",
       "    </tr>\n",
       "    <tr>\n",
       "      <th>1</th>\n",
       "      <td>1</td>\n",
       "      <td>4024.803711</td>\n",
       "      <td>36.0</td>\n",
       "      <td>1</td>\n",
       "      <td>0</td>\n",
       "      <td>F</td>\n",
       "      <td>сотрудник</td>\n",
       "      <td>0</td>\n",
       "      <td>112080</td>\n",
       "      <td>приобретение автомобиля</td>\n",
       "      <td>C</td>\n",
       "      <td>операции с автомобилем</td>\n",
       "    </tr>\n",
       "    <tr>\n",
       "      <th>2</th>\n",
       "      <td>0</td>\n",
       "      <td>5623.422852</td>\n",
       "      <td>33.0</td>\n",
       "      <td>1</td>\n",
       "      <td>0</td>\n",
       "      <td>M</td>\n",
       "      <td>сотрудник</td>\n",
       "      <td>0</td>\n",
       "      <td>145885</td>\n",
       "      <td>покупка жилья</td>\n",
       "      <td>C</td>\n",
       "      <td>операции с недвижимостью</td>\n",
       "    </tr>\n",
       "    <tr>\n",
       "      <th>3</th>\n",
       "      <td>3</td>\n",
       "      <td>4124.747070</td>\n",
       "      <td>32.0</td>\n",
       "      <td>1</td>\n",
       "      <td>0</td>\n",
       "      <td>M</td>\n",
       "      <td>сотрудник</td>\n",
       "      <td>0</td>\n",
       "      <td>267628</td>\n",
       "      <td>дополнительное образование</td>\n",
       "      <td>B</td>\n",
       "      <td>получение образования</td>\n",
       "    </tr>\n",
       "    <tr>\n",
       "      <th>4</th>\n",
       "      <td>0</td>\n",
       "      <td>480.722992</td>\n",
       "      <td>53.0</td>\n",
       "      <td>1</td>\n",
       "      <td>1</td>\n",
       "      <td>F</td>\n",
       "      <td>пенсионер</td>\n",
       "      <td>0</td>\n",
       "      <td>158616</td>\n",
       "      <td>сыграть свадьбу</td>\n",
       "      <td>C</td>\n",
       "      <td>проведение свадьбы</td>\n",
       "    </tr>\n",
       "  </tbody>\n",
       "</table>\n",
       "</div>"
      ],
      "text/plain": [
       "   children  days_employed  dob_years  education_id  family_status_id gender  \\\n",
       "0         1    8437.672852       42.0             0                 0      F   \n",
       "1         1    4024.803711       36.0             1                 0      F   \n",
       "2         0    5623.422852       33.0             1                 0      M   \n",
       "3         3    4124.747070       32.0             1                 0      M   \n",
       "4         0     480.722992       53.0             1                 1      F   \n",
       "\n",
       "  income_type  debt  total_income                     purpose  \\\n",
       "0   сотрудник     0        253875               покупка жилья   \n",
       "1   сотрудник     0        112080     приобретение автомобиля   \n",
       "2   сотрудник     0        145885               покупка жилья   \n",
       "3   сотрудник     0        267628  дополнительное образование   \n",
       "4   пенсионер     0        158616             сыграть свадьбу   \n",
       "\n",
       "  total_income_category          purpose_category  \n",
       "0                     B  операции с недвижимостью  \n",
       "1                     C    операции с автомобилем  \n",
       "2                     C  операции с недвижимостью  \n",
       "3                     B     получение образования  \n",
       "4                     C        проведение свадьбы  "
      ]
     },
     "metadata": {},
     "output_type": "display_data"
    },
    {
     "name": "stdout",
     "output_type": "stream",
     "text": [
      "Количество незаполненных строк: 0\n"
     ]
    }
   ],
   "source": [
    "def purpose(row):\n",
    "    if 'авто' in row:\n",
    "        return 'операции с автомобилем'\n",
    "    elif ('недв' in row) or ('жил' in row):\n",
    "        return 'операции с недвижимостью'\n",
    "    elif 'свад' in row:\n",
    "        return 'проведение свадьбы'\n",
    "    elif 'образ' in row:\n",
    "        return 'получение образования'\n",
    "    return 'unknown category'\n",
    "df_test['purpose_category'] = df_test['purpose'].apply(purpose)\n",
    "display(df_test.head())\n",
    "print('Количество незаполненных строк:', df_test.loc[df_test['purpose_category'] == 'unknown category','purpose'].count())"
   ]
  },
  {
   "cell_type": "markdown",
   "id": "c4827cd5",
   "metadata": {},
   "source": [
    "### Ответы на вопросы."
   ]
  },
  {
   "cell_type": "markdown",
   "id": "7b0cbafc",
   "metadata": {},
   "source": [
    "##### Вопрос 1:"
   ]
  },
  {
   "cell_type": "markdown",
   "id": "5351b844",
   "metadata": {},
   "source": [
    "<font color='DarkBlue'> \n",
    "📌 Есть ли зависимость между количеством детей и возвратом кредита в срок? <br>\n",
    "</font> "
   ]
  },
  {
   "cell_type": "markdown",
   "id": "98918cd5",
   "metadata": {},
   "source": [
    "##### Вывод 1:"
   ]
  },
  {
   "cell_type": "code",
   "execution_count": 83,
   "id": "1e20b484",
   "metadata": {},
   "outputs": [
    {
     "data": {
      "image/png": "[encoded data removed]",
      "text/plain": [
       "<Figure size 432x288 with 1 Axes>"
      ]
     },
     "metadata": {
      "needs_background": "light"
     },
     "output_type": "display_data"
    },
    {
     "data": {
      "text/html": [
       "<style  type=\"text/css\" >\n",
       "</style><table id=\"T_35ce6_\" ><thead>    <tr>        <th class=\"blank level0\" ></th>        <th class=\"col_heading level0 col0\" >count</th>        <th class=\"col_heading level0 col1\" >mean</th>        <th class=\"col_heading level0 col2\" >sum</th>    </tr>    <tr>        <th class=\"index_name level0\" >children</th>        <th class=\"blank\" ></th>        <th class=\"blank\" ></th>        <th class=\"blank\" ></th>    </tr></thead><tbody>\n",
       "                <tr>\n",
       "                        <th id=\"T_35ce6_level0_row0\" class=\"row_heading level0 row0\" >0</th>\n",
       "                        <td id=\"T_35ce6_row0_col0\" class=\"data row0 col0\" >14091.000000</td>\n",
       "                        <td id=\"T_35ce6_row0_col1\" class=\"data row0 col1\" >7.54%</td>\n",
       "                        <td id=\"T_35ce6_row0_col2\" class=\"data row0 col2\" >1063.000000</td>\n",
       "            </tr>\n",
       "            <tr>\n",
       "                        <th id=\"T_35ce6_level0_row1\" class=\"row_heading level0 row1\" >1</th>\n",
       "                        <td id=\"T_35ce6_row1_col0\" class=\"data row1 col0\" >4855.000000</td>\n",
       "                        <td id=\"T_35ce6_row1_col1\" class=\"data row1 col1\" >9.17%</td>\n",
       "                        <td id=\"T_35ce6_row1_col2\" class=\"data row1 col2\" >445.000000</td>\n",
       "            </tr>\n",
       "            <tr>\n",
       "                        <th id=\"T_35ce6_level0_row2\" class=\"row_heading level0 row2\" >2</th>\n",
       "                        <td id=\"T_35ce6_row2_col0\" class=\"data row2 col0\" >2128.000000</td>\n",
       "                        <td id=\"T_35ce6_row2_col1\" class=\"data row2 col1\" >9.49%</td>\n",
       "                        <td id=\"T_35ce6_row2_col2\" class=\"data row2 col2\" >202.000000</td>\n",
       "            </tr>\n",
       "            <tr>\n",
       "                        <th id=\"T_35ce6_level0_row3\" class=\"row_heading level0 row3\" >3</th>\n",
       "                        <td id=\"T_35ce6_row3_col0\" class=\"data row3 col0\" >330.000000</td>\n",
       "                        <td id=\"T_35ce6_row3_col1\" class=\"data row3 col1\" >8.18%</td>\n",
       "                        <td id=\"T_35ce6_row3_col2\" class=\"data row3 col2\" >27.000000</td>\n",
       "            </tr>\n",
       "            <tr>\n",
       "                        <th id=\"T_35ce6_level0_row4\" class=\"row_heading level0 row4\" >4</th>\n",
       "                        <td id=\"T_35ce6_row4_col0\" class=\"data row4 col0\" >41.000000</td>\n",
       "                        <td id=\"T_35ce6_row4_col1\" class=\"data row4 col1\" >9.76%</td>\n",
       "                        <td id=\"T_35ce6_row4_col2\" class=\"data row4 col2\" >4.000000</td>\n",
       "            </tr>\n",
       "            <tr>\n",
       "                        <th id=\"T_35ce6_level0_row5\" class=\"row_heading level0 row5\" >5</th>\n",
       "                        <td id=\"T_35ce6_row5_col0\" class=\"data row5 col0\" >9.000000</td>\n",
       "                        <td id=\"T_35ce6_row5_col1\" class=\"data row5 col1\" >0.00%</td>\n",
       "                        <td id=\"T_35ce6_row5_col2\" class=\"data row5 col2\" >0.000000</td>\n",
       "            </tr>\n",
       "    </tbody></table>"
      ],
      "text/plain": [
       "<pandas.io.formats.style.Styler at 0x7f3622c5f1c0>"
      ]
     },
     "metadata": {},
     "output_type": "display_data"
    }
   ],
   "source": [
    "data_pivot = df_test.pivot_table(index=['children'], values='debt', aggfunc = {'debt':['sum','count','mean']})\n",
    "plt.plot(data_pivot['mean'].reset_index(drop=True))\n",
    "plt.show()\n",
    "data_pivot = data_pivot.style.format({'mean': '{:.2%}'})\n",
    "display(data_pivot)"
   ]
  },
  {
   "cell_type": "markdown",
   "id": "1c16e488",
   "metadata": {},
   "source": [
    "<font color='DarkBlue'> \n",
    "📌 Присутствует прослеживающаяся зависимость между количеством детей и возвратом кредита в срок. Чем больше значение в поле 'debt', тем меньше вероятность выплаты долга. В рассматриваемой зависимости чем меньше детей, тем меньше вероятность возникновения задолженностей при оформлении новых кредитов, исходя из текущих данных. У клиентов, имеющих 4 ребенка, чаще имеются задолженности, и наоборот, у бездетных меньшее количество существующих догов по кредитам, следовательно есть вероятность того, что в таких семьях родители обычно не рассчиывают количество материальных затрат при появлении следующего ребенка или рожают для получения каких-либо льгот, а дети с 5 детьми предположительно уже являются обеспеченными и не имеют долгов, но выборка достаточно мала для однозначных выводов. Но клиенты, имеющие 3 детей выбиваются из общей картины по этому параметру, возможно для более точной картины необходимо рассмотреть беольшее количество подобных семей <br>\n",
    "</font> "
   ]
  },
  {
   "cell_type": "markdown",
   "id": "5a313f79",
   "metadata": {},
   "source": [
    "##### Вопрос 2:"
   ]
  },
  {
   "cell_type": "markdown",
   "id": "4a7f87d8",
   "metadata": {},
   "source": [
    "<font color='DarkBlue'> \n",
    "📌 Есть ли зависимость между семейным положением и возвратом кредита в срок? <br>\n",
    "</font> "
   ]
  },
  {
   "cell_type": "markdown",
   "id": "55151efa",
   "metadata": {},
   "source": [
    "##### Вывод 2:"
   ]
  },
  {
   "cell_type": "code",
   "execution_count": 84,
   "id": "8e605a38",
   "metadata": {},
   "outputs": [
    {
     "data": {
      "text/html": [
       "<style  type=\"text/css\" >\n",
       "</style><table id=\"T_4c410_\" ><thead>    <tr>        <th class=\"blank level0\" ></th>        <th class=\"col_heading level0 col0\" >count</th>        <th class=\"col_heading level0 col1\" >mean</th>        <th class=\"col_heading level0 col2\" >sum</th>        <th class=\"col_heading level0 col3\" >family_status</th>    </tr>    <tr>        <th class=\"index_name level0\" >family_status_id</th>        <th class=\"blank\" ></th>        <th class=\"blank\" ></th>        <th class=\"blank\" ></th>        <th class=\"blank\" ></th>    </tr></thead><tbody>\n",
       "                <tr>\n",
       "                        <th id=\"T_4c410_level0_row0\" class=\"row_heading level0 row0\" >4</th>\n",
       "                        <td id=\"T_4c410_row0_col0\" class=\"data row0 col0\" >2810.000000</td>\n",
       "                        <td id=\"T_4c410_row0_col1\" class=\"data row0 col1\" >9.75%</td>\n",
       "                        <td id=\"T_4c410_row0_col2\" class=\"data row0 col2\" >274.000000</td>\n",
       "                        <td id=\"T_4c410_row0_col3\" class=\"data row0 col3\" >Не женат / не замужем</td>\n",
       "            </tr>\n",
       "            <tr>\n",
       "                        <th id=\"T_4c410_level0_row1\" class=\"row_heading level0 row1\" >1</th>\n",
       "                        <td id=\"T_4c410_row1_col0\" class=\"data row1 col0\" >4151.000000</td>\n",
       "                        <td id=\"T_4c410_row1_col1\" class=\"data row1 col1\" >9.35%</td>\n",
       "                        <td id=\"T_4c410_row1_col2\" class=\"data row1 col2\" >388.000000</td>\n",
       "                        <td id=\"T_4c410_row1_col3\" class=\"data row1 col3\" >гражданский брак</td>\n",
       "            </tr>\n",
       "            <tr>\n",
       "                        <th id=\"T_4c410_level0_row2\" class=\"row_heading level0 row2\" >0</th>\n",
       "                        <td id=\"T_4c410_row2_col0\" class=\"data row2 col0\" >12339.000000</td>\n",
       "                        <td id=\"T_4c410_row2_col1\" class=\"data row2 col1\" >7.55%</td>\n",
       "                        <td id=\"T_4c410_row2_col2\" class=\"data row2 col2\" >931.000000</td>\n",
       "                        <td id=\"T_4c410_row2_col3\" class=\"data row2 col3\" >женат / замужем</td>\n",
       "            </tr>\n",
       "            <tr>\n",
       "                        <th id=\"T_4c410_level0_row3\" class=\"row_heading level0 row3\" >3</th>\n",
       "                        <td id=\"T_4c410_row3_col0\" class=\"data row3 col0\" >1195.000000</td>\n",
       "                        <td id=\"T_4c410_row3_col1\" class=\"data row3 col1\" >7.11%</td>\n",
       "                        <td id=\"T_4c410_row3_col2\" class=\"data row3 col2\" >85.000000</td>\n",
       "                        <td id=\"T_4c410_row3_col3\" class=\"data row3 col3\" >в разводе</td>\n",
       "            </tr>\n",
       "            <tr>\n",
       "                        <th id=\"T_4c410_level0_row4\" class=\"row_heading level0 row4\" >2</th>\n",
       "                        <td id=\"T_4c410_row4_col0\" class=\"data row4 col0\" >959.000000</td>\n",
       "                        <td id=\"T_4c410_row4_col1\" class=\"data row4 col1\" >6.57%</td>\n",
       "                        <td id=\"T_4c410_row4_col2\" class=\"data row4 col2\" >63.000000</td>\n",
       "                        <td id=\"T_4c410_row4_col3\" class=\"data row4 col3\" >вдовец / вдова</td>\n",
       "            </tr>\n",
       "    </tbody></table>"
      ],
      "text/plain": [
       "<pandas.io.formats.style.Styler at 0x7f36127c7310>"
      ]
     },
     "metadata": {},
     "output_type": "display_data"
    }
   ],
   "source": [
    "data_pivot = df_test.pivot_table(index=['family_status_id'], values='debt', aggfunc = {'debt':['sum','count', 'mean']})\n",
    "data_pivot['family_status'] = family_status_dict.loc[family_status_dict['family_status_id'] == data_pivot.index, 'family_status']\n",
    "display(data_pivot.sort_values(by='mean', ascending=False).style.format({'mean': '{:.2%}'}))"
   ]
  },
  {
   "cell_type": "markdown",
   "id": "158f1ea0",
   "metadata": {},
   "source": [
    "<font color='DarkBlue'> \n",
    "📌 Присутствует следующая зависимость между семейным положением и возвратом кредита в срок. У тех, кто никогда не был женат или живет в гражданском браке, меньше вероятность возврата кредита в срок. Соответственно у улиентов в официальном браке вероятность возврата больше, а у находившихся в нем еще больше <br>\n",
    "</font> "
   ]
  },
  {
   "cell_type": "markdown",
   "id": "5c086d6d",
   "metadata": {},
   "source": [
    "##### Вопрос 3:"
   ]
  },
  {
   "cell_type": "markdown",
   "id": "a27056eb",
   "metadata": {},
   "source": [
    "<font color='DarkBlue'> \n",
    "📌 Есть ли зависимость между уровнем дохода и возвратом кредита в срок? <br>\n",
    "</font> "
   ]
  },
  {
   "cell_type": "markdown",
   "id": "7431d017",
   "metadata": {},
   "source": [
    "##### Вывод 3:"
   ]
  },
  {
   "cell_type": "code",
   "execution_count": 85,
   "id": "1ed60d21",
   "metadata": {},
   "outputs": [
    {
     "data": {
      "text/html": [
       "<style  type=\"text/css\" >\n",
       "</style><table id=\"T_f5b99_\" ><thead>    <tr>        <th class=\"blank level0\" ></th>        <th class=\"col_heading level0 col0\" >count</th>        <th class=\"col_heading level0 col1\" >mean</th>        <th class=\"col_heading level0 col2\" >sum</th>    </tr>    <tr>        <th class=\"index_name level0\" >total_income_category</th>        <th class=\"blank\" ></th>        <th class=\"blank\" ></th>        <th class=\"blank\" ></th>    </tr></thead><tbody>\n",
       "                <tr>\n",
       "                        <th id=\"T_f5b99_level0_row0\" class=\"row_heading level0 row0\" >A</th>\n",
       "                        <td id=\"T_f5b99_row0_col0\" class=\"data row0 col0\" >25.000000</td>\n",
       "                        <td id=\"T_f5b99_row0_col1\" class=\"data row0 col1\" >8.00%</td>\n",
       "                        <td id=\"T_f5b99_row0_col2\" class=\"data row0 col2\" >2.000000</td>\n",
       "            </tr>\n",
       "            <tr>\n",
       "                        <th id=\"T_f5b99_level0_row1\" class=\"row_heading level0 row1\" >B</th>\n",
       "                        <td id=\"T_f5b99_row1_col0\" class=\"data row1 col0\" >5041.000000</td>\n",
       "                        <td id=\"T_f5b99_row1_col1\" class=\"data row1 col1\" >7.06%</td>\n",
       "                        <td id=\"T_f5b99_row1_col2\" class=\"data row1 col2\" >356.000000</td>\n",
       "            </tr>\n",
       "            <tr>\n",
       "                        <th id=\"T_f5b99_level0_row2\" class=\"row_heading level0 row2\" >C</th>\n",
       "                        <td id=\"T_f5b99_row2_col0\" class=\"data row2 col0\" >16016.000000</td>\n",
       "                        <td id=\"T_f5b99_row2_col1\" class=\"data row2 col1\" >8.49%</td>\n",
       "                        <td id=\"T_f5b99_row2_col2\" class=\"data row2 col2\" >1360.000000</td>\n",
       "            </tr>\n",
       "            <tr>\n",
       "                        <th id=\"T_f5b99_level0_row3\" class=\"row_heading level0 row3\" >D</th>\n",
       "                        <td id=\"T_f5b99_row3_col0\" class=\"data row3 col0\" >350.000000</td>\n",
       "                        <td id=\"T_f5b99_row3_col1\" class=\"data row3 col1\" >6.00%</td>\n",
       "                        <td id=\"T_f5b99_row3_col2\" class=\"data row3 col2\" >21.000000</td>\n",
       "            </tr>\n",
       "            <tr>\n",
       "                        <th id=\"T_f5b99_level0_row4\" class=\"row_heading level0 row4\" >E</th>\n",
       "                        <td id=\"T_f5b99_row4_col0\" class=\"data row4 col0\" >22.000000</td>\n",
       "                        <td id=\"T_f5b99_row4_col1\" class=\"data row4 col1\" >9.09%</td>\n",
       "                        <td id=\"T_f5b99_row4_col2\" class=\"data row4 col2\" >2.000000</td>\n",
       "            </tr>\n",
       "    </tbody></table>"
      ],
      "text/plain": [
       "<pandas.io.formats.style.Styler at 0x7f3622c5f940>"
      ]
     },
     "metadata": {},
     "output_type": "display_data"
    }
   ],
   "source": [
    "data_pivot = df_test.pivot_table(index=['total_income_category'], values='debt', aggfunc = {'debt':['sum','count','mean']})\n",
    "display(data_pivot.style.format({'mean': '{:.2%}'}))"
   ]
  },
  {
   "cell_type": "markdown",
   "id": "1af46538",
   "metadata": {},
   "source": [
    "<font color='DarkBlue'> \n",
    "📌 Зависимость между уровнем дохода и возвратом кредита в срок слабо прослеживается ввиду малого количества клиентов в выборках групп 'A','D' и 'E', возможно для более точного анализа следует изменить диапазоны значений для указанных групп. Судя по значениям в группах 'B' и 'C' можно слеать вывод о том, что при увеличении дохода вероятность выплаты кредита в срок повышается <br>\n",
    "</font> "
   ]
  },
  {
   "cell_type": "markdown",
   "id": "32c54004",
   "metadata": {},
   "source": [
    "##### Вопрос 4:"
   ]
  },
  {
   "cell_type": "markdown",
   "id": "7b874f09",
   "metadata": {},
   "source": [
    "<font color='DarkBlue'> \n",
    "📌 Как разные цели кредита влияют на его возврат в срок? <br>\n",
    "</font> "
   ]
  },
  {
   "cell_type": "markdown",
   "id": "d236f511",
   "metadata": {},
   "source": [
    "##### Вывод 4:"
   ]
  },
  {
   "cell_type": "code",
   "execution_count": 86,
   "id": "b5c197e1",
   "metadata": {},
   "outputs": [
    {
     "data": {
      "text/html": [
       "<style  type=\"text/css\" >\n",
       "</style><table id=\"T_54cfd_\" ><thead>    <tr>        <th class=\"blank level0\" ></th>        <th class=\"col_heading level0 col0\" >count</th>        <th class=\"col_heading level0 col1\" >mean</th>        <th class=\"col_heading level0 col2\" >sum</th>    </tr>    <tr>        <th class=\"index_name level0\" >purpose_category</th>        <th class=\"blank\" ></th>        <th class=\"blank\" ></th>        <th class=\"blank\" ></th>    </tr></thead><tbody>\n",
       "                <tr>\n",
       "                        <th id=\"T_54cfd_level0_row0\" class=\"row_heading level0 row0\" >операции с автомобилем</th>\n",
       "                        <td id=\"T_54cfd_row0_col0\" class=\"data row0 col0\" >4306.000000</td>\n",
       "                        <td id=\"T_54cfd_row0_col1\" class=\"data row0 col1\" >9.36%</td>\n",
       "                        <td id=\"T_54cfd_row0_col2\" class=\"data row0 col2\" >403.000000</td>\n",
       "            </tr>\n",
       "            <tr>\n",
       "                        <th id=\"T_54cfd_level0_row1\" class=\"row_heading level0 row1\" >получение образования</th>\n",
       "                        <td id=\"T_54cfd_row1_col0\" class=\"data row1 col0\" >4013.000000</td>\n",
       "                        <td id=\"T_54cfd_row1_col1\" class=\"data row1 col1\" >9.22%</td>\n",
       "                        <td id=\"T_54cfd_row1_col2\" class=\"data row1 col2\" >370.000000</td>\n",
       "            </tr>\n",
       "            <tr>\n",
       "                        <th id=\"T_54cfd_level0_row2\" class=\"row_heading level0 row2\" >проведение свадьбы</th>\n",
       "                        <td id=\"T_54cfd_row2_col0\" class=\"data row2 col0\" >2324.000000</td>\n",
       "                        <td id=\"T_54cfd_row2_col1\" class=\"data row2 col1\" >8.00%</td>\n",
       "                        <td id=\"T_54cfd_row2_col2\" class=\"data row2 col2\" >186.000000</td>\n",
       "            </tr>\n",
       "            <tr>\n",
       "                        <th id=\"T_54cfd_level0_row3\" class=\"row_heading level0 row3\" >операции с недвижимостью</th>\n",
       "                        <td id=\"T_54cfd_row3_col0\" class=\"data row3 col0\" >10811.000000</td>\n",
       "                        <td id=\"T_54cfd_row3_col1\" class=\"data row3 col1\" >7.23%</td>\n",
       "                        <td id=\"T_54cfd_row3_col2\" class=\"data row3 col2\" >782.000000</td>\n",
       "            </tr>\n",
       "    </tbody></table>"
      ],
      "text/plain": [
       "<pandas.io.formats.style.Styler at 0x7f3622a10340>"
      ]
     },
     "metadata": {},
     "output_type": "display_data"
    }
   ],
   "source": [
    "data_pivot = df_test.pivot_table(index=['purpose_category'], values='debt', aggfunc = {'debt':['sum','count','mean']})\n",
    "display(data_pivot.sort_values(by='mean', ascending=False).style.format({'mean': '{:.2%}'}))"
   ]
  },
  {
   "cell_type": "markdown",
   "id": "e6117b1e",
   "metadata": {},
   "source": [
    "<font color='DarkBlue'> \n",
    "📌 Выборка распределена достаточно равномерно. Из данных в таблице можно сделать вывод о том, что в том случае, если целью кредита являются операции с недвижимостью, вероятность своевременной выплаты долга выше, чем у других категорий. Соответственно, если целью кредита являются операции с автомобилем или получение образования вероятность наиболее низкая <br>\n",
    "</font> "
   ]
  },
  {
   "cell_type": "markdown",
   "id": "d01d0b5a",
   "metadata": {},
   "source": [
    "## Общий вывод:"
   ]
  },
  {
   "cell_type": "markdown",
   "id": "6ee1d898",
   "metadata": {},
   "source": [
    "<font color='DarkBlue'> \n",
    "📌 В ходе осуществленных исследований выявлено, что: <br>\n",
    "    - предоставленные данные посредственного качества, содержится достаточное количество пропусков, ошибок и недостоверной информации, присутсвуют как технические ошибки в корректности данных, так и связанные с явлением человеческого фактора, возможно требуется задать дополнительные вопросы заказчику касательно аномальных значений данных в полях, в частности 'days_employed'; <br>\n",
    "    - улучшено качество исходного датасета, удалены дубликаты и все отсутствующие и аномальные значения усреднены без использования фактора отклонения, создан готовый алгоритм для следующих преобразований исходных данных; <br>\n",
    "    - вероятность возникновения задолженностей ниже у бездетных клиентов, в настроящее время или ранее находящихся в официальном браке, имеющих больший доход (желательно изменить диапазоны группировки) и в том случае, если целью кредита являются операции с недвижимостью <br>\n",
    "</font> "
   ]
  },
  {
   "cell_type": "code",
   "execution_count": 87,
   "id": "2b10dfae",
   "metadata": {},
   "outputs": [
    {
     "data": {
      "text/html": [
       "<div>\n",
       "<style scoped>\n",
       "    .dataframe tbody tr th:only-of-type {\n",
       "        vertical-align: middle;\n",
       "    }\n",
       "\n",
       "    .dataframe tbody tr th {\n",
       "        vertical-align: top;\n",
       "    }\n",
       "\n",
       "    .dataframe thead th {\n",
       "        text-align: right;\n",
       "    }\n",
       "</style>\n",
       "<table border=\"1\" class=\"dataframe\">\n",
       "  <thead>\n",
       "    <tr style=\"text-align: right;\">\n",
       "      <th></th>\n",
       "      <th>children</th>\n",
       "      <th>days_employed</th>\n",
       "      <th>dob_years</th>\n",
       "      <th>education_id</th>\n",
       "      <th>family_status_id</th>\n",
       "      <th>gender</th>\n",
       "      <th>income_type</th>\n",
       "      <th>debt</th>\n",
       "      <th>total_income</th>\n",
       "      <th>purpose</th>\n",
       "      <th>total_income_category</th>\n",
       "      <th>purpose_category</th>\n",
       "    </tr>\n",
       "  </thead>\n",
       "  <tbody>\n",
       "    <tr>\n",
       "      <th>0</th>\n",
       "      <td>1</td>\n",
       "      <td>8437.672852</td>\n",
       "      <td>42.0</td>\n",
       "      <td>0</td>\n",
       "      <td>0</td>\n",
       "      <td>F</td>\n",
       "      <td>сотрудник</td>\n",
       "      <td>0</td>\n",
       "      <td>253875</td>\n",
       "      <td>покупка жилья</td>\n",
       "      <td>B</td>\n",
       "      <td>операции с недвижимостью</td>\n",
       "    </tr>\n",
       "    <tr>\n",
       "      <th>1</th>\n",
       "      <td>1</td>\n",
       "      <td>4024.803711</td>\n",
       "      <td>36.0</td>\n",
       "      <td>1</td>\n",
       "      <td>0</td>\n",
       "      <td>F</td>\n",
       "      <td>сотрудник</td>\n",
       "      <td>0</td>\n",
       "      <td>112080</td>\n",
       "      <td>приобретение автомобиля</td>\n",
       "      <td>C</td>\n",
       "      <td>операции с автомобилем</td>\n",
       "    </tr>\n",
       "    <tr>\n",
       "      <th>2</th>\n",
       "      <td>0</td>\n",
       "      <td>5623.422852</td>\n",
       "      <td>33.0</td>\n",
       "      <td>1</td>\n",
       "      <td>0</td>\n",
       "      <td>M</td>\n",
       "      <td>сотрудник</td>\n",
       "      <td>0</td>\n",
       "      <td>145885</td>\n",
       "      <td>покупка жилья</td>\n",
       "      <td>C</td>\n",
       "      <td>операции с недвижимостью</td>\n",
       "    </tr>\n",
       "    <tr>\n",
       "      <th>3</th>\n",
       "      <td>3</td>\n",
       "      <td>4124.747070</td>\n",
       "      <td>32.0</td>\n",
       "      <td>1</td>\n",
       "      <td>0</td>\n",
       "      <td>M</td>\n",
       "      <td>сотрудник</td>\n",
       "      <td>0</td>\n",
       "      <td>267628</td>\n",
       "      <td>дополнительное образование</td>\n",
       "      <td>B</td>\n",
       "      <td>получение образования</td>\n",
       "    </tr>\n",
       "    <tr>\n",
       "      <th>4</th>\n",
       "      <td>0</td>\n",
       "      <td>480.722992</td>\n",
       "      <td>53.0</td>\n",
       "      <td>1</td>\n",
       "      <td>1</td>\n",
       "      <td>F</td>\n",
       "      <td>пенсионер</td>\n",
       "      <td>0</td>\n",
       "      <td>158616</td>\n",
       "      <td>сыграть свадьбу</td>\n",
       "      <td>C</td>\n",
       "      <td>проведение свадьбы</td>\n",
       "    </tr>\n",
       "  </tbody>\n",
       "</table>\n",
       "</div>"
      ],
      "text/plain": [
       "   children  days_employed  dob_years  education_id  family_status_id gender  \\\n",
       "0         1    8437.672852       42.0             0                 0      F   \n",
       "1         1    4024.803711       36.0             1                 0      F   \n",
       "2         0    5623.422852       33.0             1                 0      M   \n",
       "3         3    4124.747070       32.0             1                 0      M   \n",
       "4         0     480.722992       53.0             1                 1      F   \n",
       "\n",
       "  income_type  debt  total_income                     purpose  \\\n",
       "0   сотрудник     0        253875               покупка жилья   \n",
       "1   сотрудник     0        112080     приобретение автомобиля   \n",
       "2   сотрудник     0        145885               покупка жилья   \n",
       "3   сотрудник     0        267628  дополнительное образование   \n",
       "4   пенсионер     0        158616             сыграть свадьбу   \n",
       "\n",
       "  total_income_category          purpose_category  \n",
       "0                     B  операции с недвижимостью  \n",
       "1                     C    операции с автомобилем  \n",
       "2                     C  операции с недвижимостью  \n",
       "3                     B     получение образования  \n",
       "4                     C        проведение свадьбы  "
      ]
     },
     "metadata": {},
     "output_type": "display_data"
    }
   ],
   "source": [
    "display(df_test.head())"
   ]
  },
  {
   "cell_type": "code",
   "execution_count": null,
   "id": "e6ccb6a9",
   "metadata": {},
   "outputs": [],
   "source": []
  }
 ],
 "metadata": {
  "ExecuteTimeLog": [
   {
    "duration": 610,
    "start_time": "2022-03-20T04:21:04.390Z"
   },
   {
    "duration": 1859,
    "start_time": "2022-03-20T04:21:05.003Z"
   },
   {
    "duration": 94,
    "start_time": "2022-03-20T04:21:06.864Z"
   },
   {
    "duration": 8,
    "start_time": "2022-03-20T04:21:06.961Z"
   },
   {
    "duration": 25,
    "start_time": "2022-03-20T04:27:02.856Z"
   },
   {
    "duration": 29,
    "start_time": "2022-03-20T04:27:52.818Z"
   },
   {
    "duration": 118,
    "start_time": "2022-03-20T04:34:31.018Z"
   },
   {
    "duration": 1070,
    "start_time": "2022-03-20T04:42:51.732Z"
   },
   {
    "duration": 979,
    "start_time": "2022-03-20T04:51:42.479Z"
   },
   {
    "duration": 123,
    "start_time": "2022-03-20T04:51:55.458Z"
   },
   {
    "duration": 1196,
    "start_time": "2022-03-20T04:52:00.134Z"
   },
   {
    "duration": 115,
    "start_time": "2022-03-20T04:54:04.756Z"
   },
   {
    "duration": 1047,
    "start_time": "2022-03-20T04:54:07.957Z"
   },
   {
    "duration": 117,
    "start_time": "2022-03-20T04:54:50.375Z"
   },
   {
    "duration": 1134,
    "start_time": "2022-03-20T04:54:53.046Z"
   },
   {
    "duration": 116,
    "start_time": "2022-03-20T04:58:13.438Z"
   },
   {
    "duration": 1059,
    "start_time": "2022-03-20T04:58:13.558Z"
   },
   {
    "duration": 125,
    "start_time": "2022-03-20T05:00:04.217Z"
   },
   {
    "duration": 112,
    "start_time": "2022-03-20T05:00:20.616Z"
   },
   {
    "duration": 111,
    "start_time": "2022-03-20T05:00:38.477Z"
   },
   {
    "duration": 113,
    "start_time": "2022-03-20T05:01:31.684Z"
   },
   {
    "duration": 119,
    "start_time": "2022-03-20T05:03:42.671Z"
   },
   {
    "duration": 1106,
    "start_time": "2022-03-20T05:03:45.300Z"
   },
   {
    "duration": 171,
    "start_time": "2022-03-20T05:40:19.487Z"
   },
   {
    "duration": 71,
    "start_time": "2022-03-20T05:40:27.339Z"
   },
   {
    "duration": 80,
    "start_time": "2022-03-20T05:41:01.457Z"
   },
   {
    "duration": 73,
    "start_time": "2022-03-20T05:45:23.712Z"
   },
   {
    "duration": 73,
    "start_time": "2022-03-20T05:48:39.956Z"
   },
   {
    "duration": 258,
    "start_time": "2022-03-20T05:51:10.808Z"
   },
   {
    "duration": 241,
    "start_time": "2022-03-20T05:52:36.474Z"
   },
   {
    "duration": 116,
    "start_time": "2022-03-20T05:58:53.842Z"
   },
   {
    "duration": 1045,
    "start_time": "2022-03-20T05:58:57.084Z"
   },
   {
    "duration": 265,
    "start_time": "2022-03-20T06:00:47.224Z"
   },
   {
    "duration": 118,
    "start_time": "2022-03-20T06:01:58.692Z"
   },
   {
    "duration": 1159,
    "start_time": "2022-03-20T06:02:02.558Z"
   },
   {
    "duration": 430,
    "start_time": "2022-03-20T06:02:06.056Z"
   },
   {
    "duration": 117,
    "start_time": "2022-03-20T06:03:32.422Z"
   },
   {
    "duration": 1128,
    "start_time": "2022-03-20T06:03:35.199Z"
   },
   {
    "duration": 465,
    "start_time": "2022-03-20T06:03:38.990Z"
   },
   {
    "duration": 413,
    "start_time": "2022-03-20T06:09:50.587Z"
   },
   {
    "duration": 525,
    "start_time": "2022-03-20T06:10:00.474Z"
   },
   {
    "duration": 577,
    "start_time": "2022-03-20T06:10:29.682Z"
   },
   {
    "duration": 632,
    "start_time": "2022-03-20T06:10:49.457Z"
   },
   {
    "duration": 577,
    "start_time": "2022-03-20T06:11:43.066Z"
   },
   {
    "duration": 570,
    "start_time": "2022-03-20T06:12:29.076Z"
   },
   {
    "duration": 122,
    "start_time": "2022-03-20T06:13:59.989Z"
   },
   {
    "duration": 1238,
    "start_time": "2022-03-20T06:14:02.991Z"
   },
   {
    "duration": 623,
    "start_time": "2022-03-20T06:14:06.773Z"
   },
   {
    "duration": 122,
    "start_time": "2022-03-20T06:14:37.716Z"
   },
   {
    "duration": 1069,
    "start_time": "2022-03-20T06:14:41.897Z"
   },
   {
    "duration": 692,
    "start_time": "2022-03-20T06:14:45.516Z"
   },
   {
    "duration": 120,
    "start_time": "2022-03-20T06:24:22.300Z"
   },
   {
    "duration": 1072,
    "start_time": "2022-03-20T06:24:24.962Z"
   },
   {
    "duration": 121,
    "start_time": "2022-03-20T06:26:44.654Z"
   },
   {
    "duration": 1326,
    "start_time": "2022-03-20T06:26:47.500Z"
   },
   {
    "duration": 156,
    "start_time": "2022-03-20T06:30:05.179Z"
   },
   {
    "duration": 1184,
    "start_time": "2022-03-20T06:30:08.148Z"
   },
   {
    "duration": 1108,
    "start_time": "2022-03-20T06:31:54.953Z"
   },
   {
    "duration": 1123,
    "start_time": "2022-03-20T06:33:40.591Z"
   },
   {
    "duration": 134,
    "start_time": "2022-03-20T06:37:30.911Z"
   },
   {
    "duration": 247,
    "start_time": "2022-03-20T06:39:50.897Z"
   },
   {
    "duration": 128,
    "start_time": "2022-03-20T06:40:05.083Z"
   },
   {
    "duration": 120,
    "start_time": "2022-03-20T06:41:10.170Z"
   },
   {
    "duration": 124,
    "start_time": "2022-03-20T06:43:36.527Z"
   },
   {
    "duration": 118,
    "start_time": "2022-03-20T06:43:43.029Z"
   },
   {
    "duration": 162,
    "start_time": "2022-03-20T06:44:16.184Z"
   },
   {
    "duration": 121,
    "start_time": "2022-03-20T06:44:42.205Z"
   },
   {
    "duration": 131,
    "start_time": "2022-03-20T06:45:48.312Z"
   },
   {
    "duration": 118,
    "start_time": "2022-03-20T06:46:46.636Z"
   },
   {
    "duration": 121,
    "start_time": "2022-03-20T06:47:05.810Z"
   },
   {
    "duration": 117,
    "start_time": "2022-03-20T06:47:26.313Z"
   },
   {
    "duration": 132,
    "start_time": "2022-03-20T06:47:50.225Z"
   },
   {
    "duration": 120,
    "start_time": "2022-03-20T06:47:57.054Z"
   },
   {
    "duration": 119,
    "start_time": "2022-03-20T06:48:17.703Z"
   },
   {
    "duration": 123,
    "start_time": "2022-03-20T06:48:30.955Z"
   },
   {
    "duration": 121,
    "start_time": "2022-03-20T06:48:45.338Z"
   },
   {
    "duration": 220,
    "start_time": "2022-03-20T06:51:11.456Z"
   },
   {
    "duration": 214,
    "start_time": "2022-03-20T06:51:21.396Z"
   },
   {
    "duration": 1126,
    "start_time": "2022-03-20T06:52:30.183Z"
   },
   {
    "duration": 1104,
    "start_time": "2022-03-20T06:56:01.380Z"
   },
   {
    "duration": 1008,
    "start_time": "2022-03-20T06:56:15.852Z"
   },
   {
    "duration": 213,
    "start_time": "2022-03-20T06:58:35.592Z"
   },
   {
    "duration": 216,
    "start_time": "2022-03-20T06:59:01.267Z"
   },
   {
    "duration": 126,
    "start_time": "2022-03-20T07:26:28.632Z"
   },
   {
    "duration": 242,
    "start_time": "2022-03-20T07:28:36.566Z"
   },
   {
    "duration": 326,
    "start_time": "2022-03-20T07:29:24.484Z"
   },
   {
    "duration": 242,
    "start_time": "2022-03-20T08:40:51.364Z"
   },
   {
    "duration": 18,
    "start_time": "2022-03-20T08:41:11.494Z"
   },
   {
    "duration": 38,
    "start_time": "2022-03-20T08:49:19.278Z"
   },
   {
    "duration": 866,
    "start_time": "2022-03-20T08:49:23.688Z"
   },
   {
    "duration": 156,
    "start_time": "2022-03-20T09:00:41.256Z"
   },
   {
    "duration": 331,
    "start_time": "2022-03-20T09:00:45.724Z"
   },
   {
    "duration": 38,
    "start_time": "2022-03-20T09:00:59.875Z"
   },
   {
    "duration": 21,
    "start_time": "2022-03-20T09:01:08.510Z"
   },
   {
    "duration": 249,
    "start_time": "2022-03-20T09:20:40.261Z"
   },
   {
    "duration": 239,
    "start_time": "2022-03-20T09:22:34.961Z"
   },
   {
    "duration": 224,
    "start_time": "2022-03-20T09:31:53.206Z"
   },
   {
    "duration": 36,
    "start_time": "2022-03-20T09:32:04.868Z"
   },
   {
    "duration": 48,
    "start_time": "2022-03-20T09:52:15.780Z"
   },
   {
    "duration": 192,
    "start_time": "2022-03-20T10:14:26.022Z"
   },
   {
    "duration": 259,
    "start_time": "2022-03-20T10:14:29.728Z"
   },
   {
    "duration": 405,
    "start_time": "2022-03-20T10:14:32.886Z"
   },
   {
    "duration": 41,
    "start_time": "2022-03-20T10:14:37.537Z"
   },
   {
    "duration": 217,
    "start_time": "2022-03-20T10:14:41.295Z"
   },
   {
    "duration": 849,
    "start_time": "2022-03-20T10:15:10.000Z"
   },
   {
    "duration": 140,
    "start_time": "2022-03-20T10:45:28.103Z"
   },
   {
    "duration": 267,
    "start_time": "2022-03-20T10:45:28.246Z"
   },
   {
    "duration": 262,
    "start_time": "2022-03-20T10:45:28.516Z"
   },
   {
    "duration": 38,
    "start_time": "2022-03-20T10:45:28.782Z"
   },
   {
    "duration": 1021,
    "start_time": "2022-03-20T10:45:28.845Z"
   },
   {
    "duration": 349,
    "start_time": "2022-03-20T10:45:29.869Z"
   },
   {
    "duration": 358,
    "start_time": "2022-03-20T10:45:30.221Z"
   },
   {
    "duration": 9,
    "start_time": "2022-03-20T10:45:30.582Z"
   },
   {
    "duration": 238,
    "start_time": "2022-03-20T10:52:35.278Z"
   },
   {
    "duration": 231,
    "start_time": "2022-03-20T10:52:43.855Z"
   },
   {
    "duration": 331,
    "start_time": "2022-03-20T10:53:39.033Z"
   },
   {
    "duration": 342,
    "start_time": "2022-03-20T11:13:41.010Z"
   },
   {
    "duration": 301,
    "start_time": "2022-03-20T11:15:27.311Z"
   },
   {
    "duration": 69,
    "start_time": "2022-03-20T11:17:17.677Z"
   },
   {
    "duration": 184,
    "start_time": "2022-03-20T11:18:11.831Z"
   },
   {
    "duration": 15,
    "start_time": "2022-03-20T11:21:58.103Z"
   },
   {
    "duration": 18,
    "start_time": "2022-03-20T11:23:44.695Z"
   },
   {
    "duration": 176,
    "start_time": "2022-03-20T11:31:03.357Z"
   },
   {
    "duration": 21,
    "start_time": "2022-03-20T11:32:48.806Z"
   },
   {
    "duration": 10,
    "start_time": "2022-03-20T11:35:33.183Z"
   },
   {
    "duration": 20,
    "start_time": "2022-03-20T11:35:43.591Z"
   },
   {
    "duration": 17,
    "start_time": "2022-03-20T11:39:39.268Z"
   },
   {
    "duration": 15,
    "start_time": "2022-03-20T11:40:10.727Z"
   },
   {
    "duration": 33,
    "start_time": "2022-03-20T11:40:20.632Z"
   },
   {
    "duration": 58,
    "start_time": "2022-03-20T11:55:14.405Z"
   },
   {
    "duration": 229,
    "start_time": "2022-03-20T12:05:40.064Z"
   },
   {
    "duration": 69,
    "start_time": "2022-03-20T12:05:50.703Z"
   },
   {
    "duration": 51,
    "start_time": "2022-03-20T12:06:13.624Z"
   },
   {
    "duration": 33,
    "start_time": "2022-03-20T12:06:42.694Z"
   },
   {
    "duration": 34,
    "start_time": "2022-03-20T12:06:58.593Z"
   },
   {
    "duration": 30,
    "start_time": "2022-03-20T12:09:04.051Z"
   },
   {
    "duration": 45,
    "start_time": "2022-03-20T12:09:54.480Z"
   },
   {
    "duration": 111,
    "start_time": "2022-03-20T12:14:24.995Z"
   },
   {
    "duration": 129,
    "start_time": "2022-03-20T13:07:53.095Z"
   },
   {
    "duration": 122,
    "start_time": "2022-03-20T13:08:16.354Z"
   },
   {
    "duration": 130,
    "start_time": "2022-03-20T13:08:48.833Z"
   },
   {
    "duration": 103,
    "start_time": "2022-03-20T13:08:59.332Z"
   },
   {
    "duration": 182,
    "start_time": "2022-03-20T13:16:34.649Z"
   },
   {
    "duration": 43,
    "start_time": "2022-03-20T13:21:19.632Z"
   },
   {
    "duration": 170,
    "start_time": "2022-03-20T13:56:37.231Z"
   },
   {
    "duration": 43,
    "start_time": "2022-03-20T13:57:11.673Z"
   },
   {
    "duration": 118,
    "start_time": "2022-03-20T14:01:11.104Z"
   },
   {
    "duration": 301,
    "start_time": "2022-03-20T14:01:11.225Z"
   },
   {
    "duration": 392,
    "start_time": "2022-03-20T14:01:11.529Z"
   },
   {
    "duration": 64,
    "start_time": "2022-03-20T14:01:11.923Z"
   },
   {
    "duration": 866,
    "start_time": "2022-03-20T14:01:11.991Z"
   },
   {
    "duration": 184,
    "start_time": "2022-03-20T14:01:12.859Z"
   },
   {
    "duration": 68,
    "start_time": "2022-03-20T14:01:13.045Z"
   },
   {
    "duration": 199,
    "start_time": "2022-03-20T14:01:13.115Z"
   },
   {
    "duration": 270,
    "start_time": "2022-03-20T14:01:13.317Z"
   },
   {
    "duration": 0,
    "start_time": "2022-03-20T14:01:13.589Z"
   },
   {
    "duration": 231,
    "start_time": "2022-03-20T14:03:04.590Z"
   },
   {
    "duration": 214,
    "start_time": "2022-03-20T14:03:56.122Z"
   },
   {
    "duration": 224,
    "start_time": "2022-03-20T14:05:01.304Z"
   },
   {
    "duration": 227,
    "start_time": "2022-03-20T14:05:33.952Z"
   },
   {
    "duration": 204,
    "start_time": "2022-03-20T14:05:53.316Z"
   },
   {
    "duration": 224,
    "start_time": "2022-03-20T14:05:59.119Z"
   },
   {
    "duration": 207,
    "start_time": "2022-03-20T14:06:04.351Z"
   },
   {
    "duration": 223,
    "start_time": "2022-03-20T14:06:09.559Z"
   },
   {
    "duration": 40,
    "start_time": "2022-03-20T14:06:40.836Z"
   },
   {
    "duration": 213,
    "start_time": "2022-03-20T14:06:56.911Z"
   },
   {
    "duration": 277,
    "start_time": "2022-03-20T14:09:49.736Z"
   },
   {
    "duration": 35,
    "start_time": "2022-03-20T14:10:42.651Z"
   },
   {
    "duration": 47,
    "start_time": "2022-03-20T14:10:56.829Z"
   },
   {
    "duration": 50,
    "start_time": "2022-03-20T14:11:35.853Z"
   },
   {
    "duration": 41,
    "start_time": "2022-03-20T14:12:41.083Z"
   },
   {
    "duration": 48,
    "start_time": "2022-03-20T14:14:30.820Z"
   },
   {
    "duration": 50,
    "start_time": "2022-03-20T14:24:27.342Z"
   },
   {
    "duration": 82,
    "start_time": "2022-03-20T14:26:11.700Z"
   },
   {
    "duration": 72,
    "start_time": "2022-03-20T14:26:29.518Z"
   },
   {
    "duration": 57,
    "start_time": "2022-03-20T14:27:59.771Z"
   },
   {
    "duration": 68,
    "start_time": "2022-03-20T14:28:23.436Z"
   },
   {
    "duration": 49,
    "start_time": "2022-03-20T14:28:45.558Z"
   },
   {
    "duration": 59,
    "start_time": "2022-03-20T14:28:58.134Z"
   },
   {
    "duration": 68,
    "start_time": "2022-03-20T14:29:16.930Z"
   },
   {
    "duration": 56,
    "start_time": "2022-03-20T14:36:53.386Z"
   },
   {
    "duration": 39,
    "start_time": "2022-03-20T14:41:08.527Z"
   },
   {
    "duration": 56,
    "start_time": "2022-03-20T14:54:59.864Z"
   },
   {
    "duration": 14,
    "start_time": "2022-03-20T14:59:29.411Z"
   },
   {
    "duration": 28,
    "start_time": "2022-03-20T15:00:22.719Z"
   },
   {
    "duration": 33,
    "start_time": "2022-03-20T15:01:08.541Z"
   },
   {
    "duration": 43,
    "start_time": "2022-03-20T15:10:14.341Z"
   },
   {
    "duration": 47,
    "start_time": "2022-03-20T15:10:38.456Z"
   },
   {
    "duration": 44,
    "start_time": "2022-03-20T15:11:12.041Z"
   },
   {
    "duration": 49,
    "start_time": "2022-03-20T15:11:29.681Z"
   },
   {
    "duration": 18,
    "start_time": "2022-03-20T15:21:50.544Z"
   },
   {
    "duration": 934,
    "start_time": "2022-03-20T15:32:35.851Z"
   },
   {
    "duration": 15,
    "start_time": "2022-03-20T15:33:39.006Z"
   },
   {
    "duration": 27,
    "start_time": "2022-03-20T15:33:57.556Z"
   },
   {
    "duration": 23,
    "start_time": "2022-03-20T15:41:23.544Z"
   },
   {
    "duration": 33,
    "start_time": "2022-03-20T15:45:49.503Z"
   },
   {
    "duration": 49,
    "start_time": "2022-03-20T15:45:59.261Z"
   },
   {
    "duration": 31,
    "start_time": "2022-03-20T15:46:10.874Z"
   },
   {
    "duration": 37,
    "start_time": "2022-03-20T15:49:02.571Z"
   },
   {
    "duration": 43,
    "start_time": "2022-03-20T15:50:02.285Z"
   },
   {
    "duration": 38,
    "start_time": "2022-03-20T15:50:32.233Z"
   },
   {
    "duration": 39,
    "start_time": "2022-03-20T15:51:20.436Z"
   },
   {
    "duration": 41,
    "start_time": "2022-03-20T15:51:38.668Z"
   },
   {
    "duration": 41,
    "start_time": "2022-03-20T15:51:54.959Z"
   },
   {
    "duration": 46,
    "start_time": "2022-03-20T15:52:16.389Z"
   },
   {
    "duration": 44,
    "start_time": "2022-03-20T15:52:46.795Z"
   },
   {
    "duration": 43,
    "start_time": "2022-03-20T15:53:19.164Z"
   },
   {
    "duration": 37,
    "start_time": "2022-03-20T15:53:28.613Z"
   },
   {
    "duration": 35,
    "start_time": "2022-03-20T15:53:45.537Z"
   },
   {
    "duration": 53,
    "start_time": "2022-03-20T16:00:22.879Z"
   },
   {
    "duration": 39,
    "start_time": "2022-03-20T16:00:38.087Z"
   },
   {
    "duration": 448,
    "start_time": "2022-03-20T16:12:00.717Z"
   },
   {
    "duration": 21,
    "start_time": "2022-03-20T16:12:56.642Z"
   },
   {
    "duration": 27,
    "start_time": "2022-03-20T16:13:13.980Z"
   },
   {
    "duration": 23,
    "start_time": "2022-03-20T16:13:47.638Z"
   },
   {
    "duration": 22,
    "start_time": "2022-03-20T16:13:53.328Z"
   },
   {
    "duration": 37,
    "start_time": "2022-03-20T16:14:01.396Z"
   },
   {
    "duration": 20,
    "start_time": "2022-03-20T16:14:27.420Z"
   },
   {
    "duration": 30,
    "start_time": "2022-03-20T16:14:53.125Z"
   },
   {
    "duration": 24,
    "start_time": "2022-03-20T17:24:58.369Z"
   },
   {
    "duration": 24,
    "start_time": "2022-03-20T17:27:26.988Z"
   },
   {
    "duration": 25,
    "start_time": "2022-03-20T17:27:37.464Z"
   },
   {
    "duration": 15,
    "start_time": "2022-03-20T17:28:46.729Z"
   },
   {
    "duration": 247,
    "start_time": "2022-03-20T17:29:03.024Z"
   },
   {
    "duration": 14,
    "start_time": "2022-03-20T17:29:10.831Z"
   },
   {
    "duration": 14,
    "start_time": "2022-03-20T17:33:16.944Z"
   },
   {
    "duration": 16,
    "start_time": "2022-03-20T17:33:24.122Z"
   },
   {
    "duration": 25,
    "start_time": "2022-03-20T17:33:29.140Z"
   },
   {
    "duration": 15,
    "start_time": "2022-03-20T17:33:52.717Z"
   },
   {
    "duration": 14,
    "start_time": "2022-03-20T17:34:07.775Z"
   },
   {
    "duration": 17,
    "start_time": "2022-03-20T17:35:36.135Z"
   },
   {
    "duration": 13,
    "start_time": "2022-03-20T17:35:47.014Z"
   },
   {
    "duration": 13,
    "start_time": "2022-03-20T17:36:58.872Z"
   },
   {
    "duration": 25,
    "start_time": "2022-03-20T17:37:05.006Z"
   },
   {
    "duration": 14,
    "start_time": "2022-03-20T17:37:36.851Z"
   },
   {
    "duration": 23,
    "start_time": "2022-03-20T17:37:59.637Z"
   },
   {
    "duration": 35,
    "start_time": "2022-03-20T17:38:11.022Z"
   },
   {
    "duration": 35,
    "start_time": "2022-03-20T17:38:29.016Z"
   },
   {
    "duration": 29,
    "start_time": "2022-03-20T17:38:42.883Z"
   },
   {
    "duration": 24,
    "start_time": "2022-03-20T17:39:51.766Z"
   },
   {
    "duration": 24,
    "start_time": "2022-03-20T17:40:17.535Z"
   },
   {
    "duration": 3657,
    "start_time": "2022-03-20T17:41:05.136Z"
   },
   {
    "duration": 3631,
    "start_time": "2022-03-20T17:41:38.910Z"
   },
   {
    "duration": 23,
    "start_time": "2022-03-20T17:41:46.856Z"
   },
   {
    "duration": 206,
    "start_time": "2022-03-20T17:42:31.031Z"
   },
   {
    "duration": 34,
    "start_time": "2022-03-20T17:42:35.245Z"
   },
   {
    "duration": 27,
    "start_time": "2022-03-20T17:43:02.616Z"
   },
   {
    "duration": 3546,
    "start_time": "2022-03-20T17:43:32.797Z"
   },
   {
    "duration": 3735,
    "start_time": "2022-03-20T17:44:03.120Z"
   },
   {
    "duration": 3722,
    "start_time": "2022-03-20T17:44:09.769Z"
   },
   {
    "duration": 3673,
    "start_time": "2022-03-20T17:44:32.214Z"
   },
   {
    "duration": 3753,
    "start_time": "2022-03-20T17:44:40.046Z"
   },
   {
    "duration": 33,
    "start_time": "2022-03-20T17:45:14.850Z"
   },
   {
    "duration": 30,
    "start_time": "2022-03-20T17:45:19.654Z"
   },
   {
    "duration": 48,
    "start_time": "2022-03-20T17:46:47.354Z"
   },
   {
    "duration": 13,
    "start_time": "2022-03-20T17:47:33.618Z"
   },
   {
    "duration": 20,
    "start_time": "2022-03-20T17:47:40.893Z"
   },
   {
    "duration": 199,
    "start_time": "2022-03-20T17:48:24.712Z"
   },
   {
    "duration": 2788,
    "start_time": "2022-03-20T17:48:29.497Z"
   },
   {
    "duration": 16,
    "start_time": "2022-03-20T17:49:26.560Z"
   },
   {
    "duration": 3526,
    "start_time": "2022-03-20T17:50:48.623Z"
   },
   {
    "duration": 25,
    "start_time": "2022-03-20T17:50:57.602Z"
   },
   {
    "duration": 25,
    "start_time": "2022-03-20T17:52:43.046Z"
   },
   {
    "duration": 25,
    "start_time": "2022-03-20T17:53:12.520Z"
   },
   {
    "duration": 23,
    "start_time": "2022-03-20T17:53:19.742Z"
   },
   {
    "duration": 28,
    "start_time": "2022-03-20T17:54:02.020Z"
   },
   {
    "duration": 26,
    "start_time": "2022-03-20T17:54:07.815Z"
   },
   {
    "duration": 29,
    "start_time": "2022-03-20T17:54:50.486Z"
   },
   {
    "duration": 32,
    "start_time": "2022-03-20T17:55:03.804Z"
   },
   {
    "duration": 28,
    "start_time": "2022-03-20T17:55:47.910Z"
   },
   {
    "duration": 28,
    "start_time": "2022-03-20T17:55:52.714Z"
   },
   {
    "duration": 32,
    "start_time": "2022-03-20T17:56:19.176Z"
   },
   {
    "duration": 31,
    "start_time": "2022-03-20T17:56:35.992Z"
   },
   {
    "duration": 31,
    "start_time": "2022-03-20T17:57:26.120Z"
   },
   {
    "duration": 26,
    "start_time": "2022-03-20T18:00:37.594Z"
   },
   {
    "duration": 28,
    "start_time": "2022-03-20T18:01:08.851Z"
   },
   {
    "duration": 34,
    "start_time": "2022-03-20T18:01:22.328Z"
   },
   {
    "duration": 25,
    "start_time": "2022-03-20T18:03:31.383Z"
   },
   {
    "duration": 211,
    "start_time": "2022-03-20T18:03:54.985Z"
   },
   {
    "duration": 3876,
    "start_time": "2022-03-20T18:04:02.193Z"
   },
   {
    "duration": 188,
    "start_time": "2022-03-20T18:05:38.209Z"
   },
   {
    "duration": 27,
    "start_time": "2022-03-20T18:06:10.478Z"
   },
   {
    "duration": 213,
    "start_time": "2022-03-20T18:06:16.864Z"
   },
   {
    "duration": 15,
    "start_time": "2022-03-20T18:06:26.528Z"
   },
   {
    "duration": 15,
    "start_time": "2022-03-20T18:07:18.229Z"
   },
   {
    "duration": 21,
    "start_time": "2022-03-20T18:07:24.961Z"
   },
   {
    "duration": 204,
    "start_time": "2022-03-20T18:07:30.861Z"
   },
   {
    "duration": 201,
    "start_time": "2022-03-20T18:07:37.842Z"
   },
   {
    "duration": 24,
    "start_time": "2022-03-20T18:07:43.418Z"
   },
   {
    "duration": 299,
    "start_time": "2022-03-20T18:08:01.750Z"
   },
   {
    "duration": 199,
    "start_time": "2022-03-20T18:08:22.217Z"
   },
   {
    "duration": 3679,
    "start_time": "2022-03-20T18:08:30.679Z"
   },
   {
    "duration": 25,
    "start_time": "2022-03-20T18:11:37.323Z"
   },
   {
    "duration": 13,
    "start_time": "2022-03-20T18:11:48.305Z"
   },
   {
    "duration": 23,
    "start_time": "2022-03-20T18:11:52.814Z"
   },
   {
    "duration": 26,
    "start_time": "2022-03-20T18:12:00.119Z"
   },
   {
    "duration": 24,
    "start_time": "2022-03-20T18:12:12.321Z"
   },
   {
    "duration": 24,
    "start_time": "2022-03-20T18:12:18.015Z"
   },
   {
    "duration": 23,
    "start_time": "2022-03-20T18:12:23.630Z"
   },
   {
    "duration": 21,
    "start_time": "2022-03-20T18:12:30.926Z"
   },
   {
    "duration": 23,
    "start_time": "2022-03-20T18:12:36.462Z"
   },
   {
    "duration": 29,
    "start_time": "2022-03-20T18:13:44.551Z"
   },
   {
    "duration": 34,
    "start_time": "2022-03-20T18:14:26.777Z"
   },
   {
    "duration": 32,
    "start_time": "2022-03-20T18:14:38.979Z"
   },
   {
    "duration": 34,
    "start_time": "2022-03-20T18:14:51.572Z"
   },
   {
    "duration": 51,
    "start_time": "2022-03-20T18:15:25.972Z"
   },
   {
    "duration": 208,
    "start_time": "2022-03-20T18:17:31.332Z"
   },
   {
    "duration": 219,
    "start_time": "2022-03-20T18:17:38.853Z"
   },
   {
    "duration": 197,
    "start_time": "2022-03-20T18:18:33.577Z"
   },
   {
    "duration": 206,
    "start_time": "2022-03-20T18:18:59.101Z"
   },
   {
    "duration": 36,
    "start_time": "2022-03-20T18:19:05.646Z"
   },
   {
    "duration": 38,
    "start_time": "2022-03-20T18:24:38.084Z"
   },
   {
    "duration": 33,
    "start_time": "2022-03-20T18:41:45.478Z"
   },
   {
    "duration": 211,
    "start_time": "2022-03-20T18:42:21.734Z"
   },
   {
    "duration": 198,
    "start_time": "2022-03-20T18:42:33.490Z"
   },
   {
    "duration": 33,
    "start_time": "2022-03-20T18:42:40.559Z"
   },
   {
    "duration": 32,
    "start_time": "2022-03-20T18:43:46.760Z"
   },
   {
    "duration": 194,
    "start_time": "2022-03-20T18:44:27.024Z"
   },
   {
    "duration": 36,
    "start_time": "2022-03-20T18:45:21.431Z"
   },
   {
    "duration": 188,
    "start_time": "2022-03-20T18:46:01.280Z"
   },
   {
    "duration": 42,
    "start_time": "2022-03-20T18:46:54.145Z"
   },
   {
    "duration": 40,
    "start_time": "2022-03-20T18:46:59.863Z"
   },
   {
    "duration": 42,
    "start_time": "2022-03-20T18:47:14.976Z"
   },
   {
    "duration": 198,
    "start_time": "2022-03-20T18:47:41.429Z"
   },
   {
    "duration": 209,
    "start_time": "2022-03-20T18:48:07.480Z"
   },
   {
    "duration": 258,
    "start_time": "2022-03-20T18:48:59.862Z"
   },
   {
    "duration": 33,
    "start_time": "2022-03-20T18:49:04.916Z"
   },
   {
    "duration": 33,
    "start_time": "2022-03-20T18:49:20.941Z"
   },
   {
    "duration": 33,
    "start_time": "2022-03-20T18:49:43.678Z"
   },
   {
    "duration": 30,
    "start_time": "2022-03-20T18:49:50.191Z"
   },
   {
    "duration": 29,
    "start_time": "2022-03-20T18:50:42.743Z"
   },
   {
    "duration": 32,
    "start_time": "2022-03-20T18:50:48.391Z"
   },
   {
    "duration": 33,
    "start_time": "2022-03-20T18:50:57.744Z"
   },
   {
    "duration": 34,
    "start_time": "2022-03-20T18:51:17.713Z"
   },
   {
    "duration": 31,
    "start_time": "2022-03-20T18:51:59.798Z"
   },
   {
    "duration": 32,
    "start_time": "2022-03-20T18:52:20.940Z"
   },
   {
    "duration": 35,
    "start_time": "2022-03-20T18:52:30.652Z"
   },
   {
    "duration": 33,
    "start_time": "2022-03-20T18:52:37.159Z"
   },
   {
    "duration": 34,
    "start_time": "2022-03-20T18:53:06.692Z"
   },
   {
    "duration": 47,
    "start_time": "2022-03-20T18:53:10.940Z"
   },
   {
    "duration": 31,
    "start_time": "2022-03-20T18:54:26.283Z"
   },
   {
    "duration": 49,
    "start_time": "2022-03-20T19:06:54.042Z"
   },
   {
    "duration": 38,
    "start_time": "2022-03-20T19:07:08.186Z"
   },
   {
    "duration": 46,
    "start_time": "2022-03-20T19:07:31.753Z"
   },
   {
    "duration": 40,
    "start_time": "2022-03-20T19:08:29.602Z"
   },
   {
    "duration": 36,
    "start_time": "2022-03-20T19:08:42.899Z"
   },
   {
    "duration": 36,
    "start_time": "2022-03-20T19:10:09.497Z"
   },
   {
    "duration": 36,
    "start_time": "2022-03-20T19:10:27.587Z"
   },
   {
    "duration": 3662,
    "start_time": "2022-03-20T19:13:01.298Z"
   },
   {
    "duration": 38,
    "start_time": "2022-03-20T19:13:50.992Z"
   },
   {
    "duration": 38,
    "start_time": "2022-03-20T19:15:05.874Z"
   },
   {
    "duration": 36,
    "start_time": "2022-03-20T19:22:49.323Z"
   },
   {
    "duration": 39,
    "start_time": "2022-03-20T19:36:52.527Z"
   },
   {
    "duration": 38,
    "start_time": "2022-03-20T19:37:11.575Z"
   },
   {
    "duration": 52,
    "start_time": "2022-03-20T19:37:26.766Z"
   },
   {
    "duration": 36,
    "start_time": "2022-03-20T19:37:29.386Z"
   },
   {
    "duration": 18,
    "start_time": "2022-03-20T19:58:24.518Z"
   },
   {
    "duration": 206,
    "start_time": "2022-03-20T19:59:47.947Z"
   },
   {
    "duration": 273,
    "start_time": "2022-03-20T20:00:48.188Z"
   },
   {
    "duration": 192,
    "start_time": "2022-03-20T20:01:03.466Z"
   },
   {
    "duration": 229,
    "start_time": "2022-03-20T20:01:33.171Z"
   },
   {
    "duration": 35,
    "start_time": "2022-03-20T20:01:52.149Z"
   },
   {
    "duration": 117,
    "start_time": "2022-03-20T20:02:22.242Z"
   },
   {
    "duration": 318,
    "start_time": "2022-03-20T20:02:22.362Z"
   },
   {
    "duration": 423,
    "start_time": "2022-03-20T20:02:22.683Z"
   },
   {
    "duration": 51,
    "start_time": "2022-03-20T20:02:23.329Z"
   },
   {
    "duration": 900,
    "start_time": "2022-03-20T20:02:23.384Z"
   },
   {
    "duration": 201,
    "start_time": "2022-03-20T20:02:24.287Z"
   },
   {
    "duration": 85,
    "start_time": "2022-03-20T20:02:24.490Z"
   },
   {
    "duration": 191,
    "start_time": "2022-03-20T20:02:24.578Z"
   },
   {
    "duration": 114,
    "start_time": "2022-03-20T20:02:24.772Z"
   },
   {
    "duration": 356,
    "start_time": "2022-03-20T20:02:24.888Z"
   },
   {
    "duration": 99,
    "start_time": "2022-03-20T20:02:25.247Z"
   },
   {
    "duration": 40,
    "start_time": "2022-03-20T20:02:25.349Z"
   },
   {
    "duration": 95,
    "start_time": "2022-03-20T20:02:25.391Z"
   },
   {
    "duration": 82,
    "start_time": "2022-03-20T20:02:25.491Z"
   },
   {
    "duration": 40,
    "start_time": "2022-03-20T20:02:25.576Z"
   },
   {
    "duration": 35,
    "start_time": "2022-03-20T20:02:25.642Z"
   },
   {
    "duration": 232,
    "start_time": "2022-03-20T20:02:25.679Z"
   },
   {
    "duration": 43,
    "start_time": "2022-03-20T20:02:25.913Z"
   },
   {
    "duration": 35,
    "start_time": "2022-03-20T20:02:25.958Z"
   },
   {
    "duration": 59,
    "start_time": "2022-03-20T20:02:25.995Z"
   },
   {
    "duration": 18,
    "start_time": "2022-03-20T20:02:26.056Z"
   },
   {
    "duration": 662,
    "start_time": "2022-03-31T15:20:23.859Z"
   },
   {
    "duration": 713,
    "start_time": "2022-03-31T15:20:24.525Z"
   },
   {
    "duration": 336,
    "start_time": "2022-03-31T15:20:25.241Z"
   },
   {
    "duration": 47,
    "start_time": "2022-03-31T15:20:25.580Z"
   },
   {
    "duration": 884,
    "start_time": "2022-03-31T15:20:25.630Z"
   },
   {
    "duration": 165,
    "start_time": "2022-03-31T15:20:26.517Z"
   },
   {
    "duration": 90,
    "start_time": "2022-03-31T15:20:26.685Z"
   },
   {
    "duration": 176,
    "start_time": "2022-03-31T15:20:26.778Z"
   },
   {
    "duration": 49,
    "start_time": "2022-03-31T15:20:26.956Z"
   },
   {
    "duration": 276,
    "start_time": "2022-03-31T15:20:27.009Z"
   },
   {
    "duration": 58,
    "start_time": "2022-03-31T15:20:27.288Z"
   },
   {
    "duration": 39,
    "start_time": "2022-03-31T15:20:27.368Z"
   },
   {
    "duration": 74,
    "start_time": "2022-03-31T15:20:27.409Z"
   },
   {
    "duration": 48,
    "start_time": "2022-03-31T15:20:27.485Z"
   },
   {
    "duration": 62,
    "start_time": "2022-03-31T15:20:27.536Z"
   },
   {
    "duration": 33,
    "start_time": "2022-03-31T15:20:27.600Z"
   },
   {
    "duration": 223,
    "start_time": "2022-03-31T15:20:27.635Z"
   },
   {
    "duration": 36,
    "start_time": "2022-03-31T15:20:27.861Z"
   },
   {
    "duration": 32,
    "start_time": "2022-03-31T15:20:27.899Z"
   },
   {
    "duration": 52,
    "start_time": "2022-03-31T15:20:27.933Z"
   },
   {
    "duration": 17,
    "start_time": "2022-03-31T15:20:27.987Z"
   },
   {
    "duration": 1116,
    "start_time": "2022-04-01T07:31:26.249Z"
   },
   {
    "duration": 242,
    "start_time": "2022-04-01T07:31:29.057Z"
   },
   {
    "duration": 209,
    "start_time": "2022-04-01T07:32:03.145Z"
   },
   {
    "duration": 3577,
    "start_time": "2022-04-01T08:15:29.806Z"
   },
   {
    "duration": 542,
    "start_time": "2022-04-01T08:15:39.947Z"
   },
   {
    "duration": 583,
    "start_time": "2022-04-01T08:17:00.179Z"
   },
   {
    "duration": 666,
    "start_time": "2022-04-01T08:17:32.376Z"
   },
   {
    "duration": 539,
    "start_time": "2022-04-01T08:17:45.628Z"
   },
   {
    "duration": 630,
    "start_time": "2022-04-01T08:17:52.958Z"
   },
   {
    "duration": 629,
    "start_time": "2022-04-01T08:18:27.619Z"
   },
   {
    "duration": 108,
    "start_time": "2022-04-01T08:24:49.368Z"
   },
   {
    "duration": 708,
    "start_time": "2022-04-01T08:24:49.479Z"
   },
   {
    "duration": 305,
    "start_time": "2022-04-01T08:24:50.189Z"
   },
   {
    "duration": 130,
    "start_time": "2022-04-01T08:24:50.496Z"
   },
   {
    "duration": 218,
    "start_time": "2022-04-01T08:24:56.844Z"
   },
   {
    "duration": 784,
    "start_time": "2022-04-01T08:25:46.793Z"
   },
   {
    "duration": 817,
    "start_time": "2022-04-01T08:29:53.448Z"
   },
   {
    "duration": 746,
    "start_time": "2022-04-01T08:29:54.268Z"
   },
   {
    "duration": 275,
    "start_time": "2022-04-01T08:30:02.755Z"
   },
   {
    "duration": 231,
    "start_time": "2022-04-01T08:30:40.075Z"
   },
   {
    "duration": 278,
    "start_time": "2022-04-01T08:31:26.896Z"
   },
   {
    "duration": 287,
    "start_time": "2022-04-01T08:31:54.687Z"
   },
   {
    "duration": 106,
    "start_time": "2022-04-01T08:42:10.142Z"
   },
   {
    "duration": 646,
    "start_time": "2022-04-01T08:42:10.251Z"
   },
   {
    "duration": 315,
    "start_time": "2022-04-01T08:42:10.899Z"
   },
   {
    "duration": 61,
    "start_time": "2022-04-01T08:42:11.216Z"
   },
   {
    "duration": 837,
    "start_time": "2022-04-01T08:42:11.280Z"
   },
   {
    "duration": 126,
    "start_time": "2022-04-01T11:08:03.054Z"
   },
   {
    "duration": 779,
    "start_time": "2022-04-01T11:08:03.184Z"
   },
   {
    "duration": 319,
    "start_time": "2022-04-01T11:08:03.966Z"
   },
   {
    "duration": 62,
    "start_time": "2022-04-01T11:08:04.288Z"
   },
   {
    "duration": 784,
    "start_time": "2022-04-01T11:08:04.353Z"
   },
   {
    "duration": 198,
    "start_time": "2022-04-01T11:08:05.142Z"
   },
   {
    "duration": 81,
    "start_time": "2022-04-01T11:08:05.343Z"
   },
   {
    "duration": 174,
    "start_time": "2022-04-01T11:08:05.443Z"
   },
   {
    "duration": 56,
    "start_time": "2022-04-01T11:08:05.619Z"
   },
   {
    "duration": 275,
    "start_time": "2022-04-01T11:08:05.677Z"
   },
   {
    "duration": 146,
    "start_time": "2022-04-01T11:08:05.956Z"
   },
   {
    "duration": 52,
    "start_time": "2022-04-01T11:08:06.104Z"
   },
   {
    "duration": 52,
    "start_time": "2022-04-01T11:08:06.159Z"
   },
   {
    "duration": 70,
    "start_time": "2022-04-01T11:08:06.213Z"
   },
   {
    "duration": 58,
    "start_time": "2022-04-01T11:08:06.285Z"
   },
   {
    "duration": 34,
    "start_time": "2022-04-01T11:08:06.346Z"
   },
   {
    "duration": 282,
    "start_time": "2022-04-01T11:08:24.665Z"
   },
   {
    "duration": 183,
    "start_time": "2022-04-01T11:08:59.793Z"
   },
   {
    "duration": 244,
    "start_time": "2022-04-01T11:11:50.167Z"
   },
   {
    "duration": 189,
    "start_time": "2022-04-01T11:11:54.951Z"
   },
   {
    "duration": 185,
    "start_time": "2022-04-01T11:12:10.567Z"
   },
   {
    "duration": 182,
    "start_time": "2022-04-01T11:13:35.189Z"
   },
   {
    "duration": 36,
    "start_time": "2022-04-01T11:13:59.206Z"
   },
   {
    "duration": 186,
    "start_time": "2022-04-01T11:14:24.657Z"
   },
   {
    "duration": 208,
    "start_time": "2022-04-01T11:15:00.239Z"
   },
   {
    "duration": 32,
    "start_time": "2022-04-01T11:15:08.439Z"
   },
   {
    "duration": 35,
    "start_time": "2022-04-01T11:15:53.050Z"
   },
   {
    "duration": 36,
    "start_time": "2022-04-01T11:16:03.056Z"
   },
   {
    "duration": 246,
    "start_time": "2022-04-01T11:16:50.063Z"
   },
   {
    "duration": 248,
    "start_time": "2022-04-01T11:22:39.685Z"
   },
   {
    "duration": 240,
    "start_time": "2022-04-01T11:23:35.894Z"
   },
   {
    "duration": 180,
    "start_time": "2022-04-01T11:23:40.225Z"
   },
   {
    "duration": 34,
    "start_time": "2022-04-01T11:23:51.261Z"
   },
   {
    "duration": 35,
    "start_time": "2022-04-01T11:24:20.228Z"
   },
   {
    "duration": 178,
    "start_time": "2022-04-01T11:28:05.181Z"
   },
   {
    "duration": 37,
    "start_time": "2022-04-01T11:29:25.860Z"
   },
   {
    "duration": 31,
    "start_time": "2022-04-01T11:31:09.044Z"
   },
   {
    "duration": 32,
    "start_time": "2022-04-01T11:33:08.351Z"
   },
   {
    "duration": 29,
    "start_time": "2022-04-01T11:33:37.012Z"
   },
   {
    "duration": 105,
    "start_time": "2022-04-01T11:37:46.975Z"
   },
   {
    "duration": 660,
    "start_time": "2022-04-01T11:37:47.083Z"
   },
   {
    "duration": 315,
    "start_time": "2022-04-01T11:37:47.745Z"
   },
   {
    "duration": 44,
    "start_time": "2022-04-01T11:37:48.063Z"
   },
   {
    "duration": 796,
    "start_time": "2022-04-01T11:37:48.109Z"
   },
   {
    "duration": 231,
    "start_time": "2022-04-01T11:37:48.907Z"
   },
   {
    "duration": 64,
    "start_time": "2022-04-01T11:37:49.140Z"
   },
   {
    "duration": 179,
    "start_time": "2022-04-01T11:37:49.206Z"
   },
   {
    "duration": 57,
    "start_time": "2022-04-01T11:37:49.387Z"
   },
   {
    "duration": 244,
    "start_time": "2022-04-01T11:37:49.448Z"
   },
   {
    "duration": 81,
    "start_time": "2022-04-01T11:37:49.694Z"
   },
   {
    "duration": 37,
    "start_time": "2022-04-01T11:37:49.777Z"
   },
   {
    "duration": 66,
    "start_time": "2022-04-01T11:37:49.816Z"
   },
   {
    "duration": 68,
    "start_time": "2022-04-01T11:37:49.884Z"
   },
   {
    "duration": 30,
    "start_time": "2022-04-01T11:37:49.954Z"
   },
   {
    "duration": 31,
    "start_time": "2022-04-01T11:37:49.986Z"
   },
   {
    "duration": 200,
    "start_time": "2022-04-01T11:37:50.044Z"
   },
   {
    "duration": 31,
    "start_time": "2022-04-01T11:37:50.246Z"
   },
   {
    "duration": 31,
    "start_time": "2022-04-01T11:37:50.280Z"
   },
   {
    "duration": 60,
    "start_time": "2022-04-01T11:37:50.313Z"
   },
   {
    "duration": 17,
    "start_time": "2022-04-01T11:37:50.376Z"
   }
  ],
  "kernelspec": {
   "display_name": "Python 3",
   "language": "python",
   "name": "python3"
  },
  "language_info": {
   "codemirror_mode": {
    "name": "ipython",
    "version": 3
   },
   "file_extension": ".py",
   "mimetype": "text/x-python",
   "name": "python",
   "nbconvert_exporter": "python",
   "pygments_lexer": "ipython3",
   "version": "3.8.8"
  },
  "toc": {
   "base_numbering": 1,
   "nav_menu": {},
   "number_sections": true,
   "sideBar": true,
   "skip_h1_title": true,
   "title_cell": "Table of Contents",
   "title_sidebar": "Contents",
   "toc_cell": false,
   "toc_position": {},
   "toc_section_display": true,
   "toc_window_display": false
  }
 },
 "nbformat": 4,
 "nbformat_minor": 5
}
