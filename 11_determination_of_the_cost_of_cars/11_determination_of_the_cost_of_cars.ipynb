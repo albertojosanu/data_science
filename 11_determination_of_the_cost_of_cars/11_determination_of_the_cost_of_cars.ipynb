{
 "cells": [
  {
   "cell_type": "markdown",
   "metadata": {},
   "source": [
    "# Определение стоимости автомобилей"
   ]
  },
  {
   "cell_type": "markdown",
   "metadata": {},
   "source": [
    "Сервис по продаже автомобилей с пробегом разрабатывает приложение для привлечения новых клиентов. В нём можно быстро узнать рыночную стоимость своего автомобиля. В распоряжении исторические данные: технические характеристики, комплектации и цены автомобилей. Нужно построить модель для определения стоимости. \n",
    "\n",
    "Заказчику важны:\n",
    "\n",
    "- качество предсказания;\n",
    "- скорость предсказания;\n",
    "- время обучения."
   ]
  },
  {
   "cell_type": "markdown",
   "metadata": {},
   "source": [
    "## Подготовка данных"
   ]
  },
  {
   "cell_type": "code",
   "execution_count": 1,
   "metadata": {},
   "outputs": [],
   "source": [
    "# Импорт библиотеки pandas\n",
    "import pandas as pd\n",
    "# Импорт библиотеки numpy\n",
    "import numpy as np\n",
    "# Импорт библиотеки matplotlib\n",
    "import matplotlib.pyplot as plt\n",
    "# Импорт библиотеки math\n",
    "import math\n",
    "# Импорт библиотеки seaborn\n",
    "import seaborn as sns\n",
    "# Импорт библиотеки re\n",
    "import re\n",
    "# Импорт библиотеки time\n",
    "import time\n",
    "# Импорт библиотеки sklearn и необходимых компонентов\n",
    "from sklearn.model_selection import train_test_split\n",
    "from sklearn.tree import DecisionTreeRegressor\n",
    "from sklearn.ensemble import RandomForestRegressor\n",
    "from sklearn.linear_model import LinearRegression\n",
    "from sklearn.model_selection import GridSearchCV\n",
    "from sklearn.model_selection import RandomizedSearchCV\n",
    "from sklearn.preprocessing import OrdinalEncoder \n",
    "from sklearn.preprocessing import StandardScaler \n",
    "from sklearn.metrics import mean_squared_error\n",
    "from sklearn.metrics import mean_absolute_error \n",
    "from catboost import CatBoostRegressor\n",
    "from lightgbm import LGBMRegressor\n",
    "# Удаление ложных предупреждений\n",
    "pd.options.mode.chained_assignment = None  # default='warn'\n",
    "# Сброс ограничений на число столбцов\n",
    "pd.set_option('display.max_columns', None)"
   ]
  },
  {
   "cell_type": "markdown",
   "metadata": {},
   "source": [
    "<font color='DarkBlue'> \n",
    "📌 Импортированы все библиотеки, используемые далее в проекте, и скорректированы настройки <br>\n",
    "</font> "
   ]
  },
  {
   "cell_type": "code",
   "execution_count": 2,
   "metadata": {},
   "outputs": [
    {
     "name": "stdout",
     "output_type": "stream",
     "text": [
      "\u001b[1m\u001b[43m ----- Просмотр общей информации о dataframe ----- \u001b[0m\n",
      "<class 'pandas.core.frame.DataFrame'>\n",
      "RangeIndex: 354369 entries, 0 to 354368\n",
      "Data columns (total 16 columns):\n",
      " #   Column             Non-Null Count   Dtype \n",
      "---  ------             --------------   ----- \n",
      " 0   DateCrawled        354369 non-null  object\n",
      " 1   Price              354369 non-null  int64 \n",
      " 2   VehicleType        316879 non-null  object\n",
      " 3   RegistrationYear   354369 non-null  int64 \n",
      " 4   Gearbox            334536 non-null  object\n",
      " 5   Power              354369 non-null  int64 \n",
      " 6   Model              334664 non-null  object\n",
      " 7   Kilometer          354369 non-null  int64 \n",
      " 8   RegistrationMonth  354369 non-null  int64 \n",
      " 9   FuelType           321474 non-null  object\n",
      " 10  Brand              354369 non-null  object\n",
      " 11  NotRepaired        283215 non-null  object\n",
      " 12  DateCreated        354369 non-null  object\n",
      " 13  NumberOfPictures   354369 non-null  int64 \n",
      " 14  PostalCode         354369 non-null  int64 \n",
      " 15  LastSeen           354369 non-null  object\n",
      "dtypes: int64(7), object(9)\n",
      "memory usage: 43.3+ MB\n",
      "\u001b[1m\u001b[43m ----- Информация о заголовках полей dataframe ----- \u001b[0m\n",
      "Index(['DateCrawled', 'Price', 'VehicleType', 'RegistrationYear', 'Gearbox',\n",
      "       'Power', 'Model', 'Kilometer', 'RegistrationMonth', 'FuelType', 'Brand',\n",
      "       'NotRepaired', 'DateCreated', 'NumberOfPictures', 'PostalCode',\n",
      "       'LastSeen'],\n",
      "      dtype='object')\n",
      "\u001b[1m\u001b[43m ----- Информация о типах полей dataframe ----- \u001b[0m\n",
      "DateCrawled          object\n",
      "Price                 int64\n",
      "VehicleType          object\n",
      "RegistrationYear      int64\n",
      "Gearbox              object\n",
      "Power                 int64\n",
      "Model                object\n",
      "Kilometer             int64\n",
      "RegistrationMonth     int64\n",
      "FuelType             object\n",
      "Brand                object\n",
      "NotRepaired          object\n",
      "DateCreated          object\n",
      "NumberOfPictures      int64\n",
      "PostalCode            int64\n",
      "LastSeen             object\n",
      "dtype: object\n",
      "\u001b[1m\u001b[43m ----- Отображение на экране в читаемом виде первых записей таблицы dataframe для визуального анализа ----- \u001b[0m\n"
     ]
    },
    {
     "data": {
      "text/html": [
       "<div>\n",
       "<style scoped>\n",
       "    .dataframe tbody tr th:only-of-type {\n",
       "        vertical-align: middle;\n",
       "    }\n",
       "\n",
       "    .dataframe tbody tr th {\n",
       "        vertical-align: top;\n",
       "    }\n",
       "\n",
       "    .dataframe thead th {\n",
       "        text-align: right;\n",
       "    }\n",
       "</style>\n",
       "<table border=\"1\" class=\"dataframe\">\n",
       "  <thead>\n",
       "    <tr style=\"text-align: right;\">\n",
       "      <th></th>\n",
       "      <th>DateCrawled</th>\n",
       "      <th>Price</th>\n",
       "      <th>VehicleType</th>\n",
       "      <th>RegistrationYear</th>\n",
       "      <th>Gearbox</th>\n",
       "      <th>Power</th>\n",
       "      <th>Model</th>\n",
       "      <th>Kilometer</th>\n",
       "      <th>RegistrationMonth</th>\n",
       "      <th>FuelType</th>\n",
       "      <th>Brand</th>\n",
       "      <th>NotRepaired</th>\n",
       "      <th>DateCreated</th>\n",
       "      <th>NumberOfPictures</th>\n",
       "      <th>PostalCode</th>\n",
       "      <th>LastSeen</th>\n",
       "    </tr>\n",
       "  </thead>\n",
       "  <tbody>\n",
       "    <tr>\n",
       "      <th>0</th>\n",
       "      <td>2016-03-24 11:52:17</td>\n",
       "      <td>480</td>\n",
       "      <td>NaN</td>\n",
       "      <td>1993</td>\n",
       "      <td>manual</td>\n",
       "      <td>0</td>\n",
       "      <td>golf</td>\n",
       "      <td>150000</td>\n",
       "      <td>0</td>\n",
       "      <td>petrol</td>\n",
       "      <td>volkswagen</td>\n",
       "      <td>NaN</td>\n",
       "      <td>2016-03-24 00:00:00</td>\n",
       "      <td>0</td>\n",
       "      <td>70435</td>\n",
       "      <td>2016-04-07 03:16:57</td>\n",
       "    </tr>\n",
       "    <tr>\n",
       "      <th>1</th>\n",
       "      <td>2016-03-24 10:58:45</td>\n",
       "      <td>18300</td>\n",
       "      <td>coupe</td>\n",
       "      <td>2011</td>\n",
       "      <td>manual</td>\n",
       "      <td>190</td>\n",
       "      <td>NaN</td>\n",
       "      <td>125000</td>\n",
       "      <td>5</td>\n",
       "      <td>gasoline</td>\n",
       "      <td>audi</td>\n",
       "      <td>yes</td>\n",
       "      <td>2016-03-24 00:00:00</td>\n",
       "      <td>0</td>\n",
       "      <td>66954</td>\n",
       "      <td>2016-04-07 01:46:50</td>\n",
       "    </tr>\n",
       "    <tr>\n",
       "      <th>2</th>\n",
       "      <td>2016-03-14 12:52:21</td>\n",
       "      <td>9800</td>\n",
       "      <td>suv</td>\n",
       "      <td>2004</td>\n",
       "      <td>auto</td>\n",
       "      <td>163</td>\n",
       "      <td>grand</td>\n",
       "      <td>125000</td>\n",
       "      <td>8</td>\n",
       "      <td>gasoline</td>\n",
       "      <td>jeep</td>\n",
       "      <td>NaN</td>\n",
       "      <td>2016-03-14 00:00:00</td>\n",
       "      <td>0</td>\n",
       "      <td>90480</td>\n",
       "      <td>2016-04-05 12:47:46</td>\n",
       "    </tr>\n",
       "    <tr>\n",
       "      <th>3</th>\n",
       "      <td>2016-03-17 16:54:04</td>\n",
       "      <td>1500</td>\n",
       "      <td>small</td>\n",
       "      <td>2001</td>\n",
       "      <td>manual</td>\n",
       "      <td>75</td>\n",
       "      <td>golf</td>\n",
       "      <td>150000</td>\n",
       "      <td>6</td>\n",
       "      <td>petrol</td>\n",
       "      <td>volkswagen</td>\n",
       "      <td>no</td>\n",
       "      <td>2016-03-17 00:00:00</td>\n",
       "      <td>0</td>\n",
       "      <td>91074</td>\n",
       "      <td>2016-03-17 17:40:17</td>\n",
       "    </tr>\n",
       "    <tr>\n",
       "      <th>4</th>\n",
       "      <td>2016-03-31 17:25:20</td>\n",
       "      <td>3600</td>\n",
       "      <td>small</td>\n",
       "      <td>2008</td>\n",
       "      <td>manual</td>\n",
       "      <td>69</td>\n",
       "      <td>fabia</td>\n",
       "      <td>90000</td>\n",
       "      <td>7</td>\n",
       "      <td>gasoline</td>\n",
       "      <td>skoda</td>\n",
       "      <td>no</td>\n",
       "      <td>2016-03-31 00:00:00</td>\n",
       "      <td>0</td>\n",
       "      <td>60437</td>\n",
       "      <td>2016-04-06 10:17:21</td>\n",
       "    </tr>\n",
       "  </tbody>\n",
       "</table>\n",
       "</div>"
      ],
      "text/plain": [
       "           DateCrawled  Price VehicleType  RegistrationYear Gearbox  Power  \\\n",
       "0  2016-03-24 11:52:17    480         NaN              1993  manual      0   \n",
       "1  2016-03-24 10:58:45  18300       coupe              2011  manual    190   \n",
       "2  2016-03-14 12:52:21   9800         suv              2004    auto    163   \n",
       "3  2016-03-17 16:54:04   1500       small              2001  manual     75   \n",
       "4  2016-03-31 17:25:20   3600       small              2008  manual     69   \n",
       "\n",
       "   Model  Kilometer  RegistrationMonth  FuelType       Brand NotRepaired  \\\n",
       "0   golf     150000                  0    petrol  volkswagen         NaN   \n",
       "1    NaN     125000                  5  gasoline        audi         yes   \n",
       "2  grand     125000                  8  gasoline        jeep         NaN   \n",
       "3   golf     150000                  6    petrol  volkswagen          no   \n",
       "4  fabia      90000                  7  gasoline       skoda          no   \n",
       "\n",
       "           DateCreated  NumberOfPictures  PostalCode             LastSeen  \n",
       "0  2016-03-24 00:00:00                 0       70435  2016-04-07 03:16:57  \n",
       "1  2016-03-24 00:00:00                 0       66954  2016-04-07 01:46:50  \n",
       "2  2016-03-14 00:00:00                 0       90480  2016-04-05 12:47:46  \n",
       "3  2016-03-17 00:00:00                 0       91074  2016-03-17 17:40:17  \n",
       "4  2016-03-31 00:00:00                 0       60437  2016-04-06 10:17:21  "
      ]
     },
     "metadata": {},
     "output_type": "display_data"
    },
    {
     "name": "stdout",
     "output_type": "stream",
     "text": [
      "Количество явных дубликатов 4\n"
     ]
    }
   ],
   "source": [
    "# Загрузка таблицы в память переменной df типа dataframe\n",
    "df = pd.read_csv('/datasets/autos.csv')\n",
    "# Разделители для удобства отображения информации указаны в виде отдельных пунктов 'print(\"\\033[1m\\033[43m {}\".format('----- Text -----'),\"\\033[0m\")'\n",
    "print('\\033[1m\\033[43m {}'.format('----- Просмотр общей информации о dataframe -----'),'\\033[0m')\n",
    "df.info()\n",
    "print('\\033[1m\\033[43m {}'.format('----- Информация о заголовках полей dataframe -----'),'\\033[0m')\n",
    "print(df.columns)\n",
    "print('\\033[1m\\033[43m {}'.format('----- Информация о типах полей dataframe -----'),'\\033[0m')\n",
    "print(df.dtypes)\n",
    "print('\\033[1m\\033[43m {}'.format('----- Отображение на экране в читаемом виде первых записей таблицы dataframe для визуального анализа -----'),'\\033[0m')\n",
    "display(df.head())\n",
    "print('Количество явных дубликатов', df.duplicated().sum())"
   ]
  },
  {
   "cell_type": "markdown",
   "metadata": {},
   "source": [
    "<font color='DarkBlue'> \n",
    "📌 В ходе первичного анализа данных сформированы следующие выводы: <br>\n",
    "    \n",
    "1. Присутствует необходимость в редактировании заголовков, названия представлены в формате \"Верблюжий регистр\", рекомендуется отобразить в условно общепринятом формате 'Змеиный регистр'\n",
    "2. Выявлены явные дубликаты, необходимо удаление повторяющихся объектов\n",
    "3. Тип данных некоторых числовых полей желательно преобразовать для уменьшения требуемого объема памяти хранения данных, также необходимо конвертировать время в соответствующий тип\n",
    "4. Обнаружены пропуски во многих столбцах. Желательно рассмотреть закономерность их проявления и заполнить подходящими для соответствующих записей значениями, оставить текущие или, в противном случае, удалить, так как для обработки данных с использованием алгоритмов машинного обучения необходимо отсутствие пропущенных значений в используемых выборках\n",
    "5. В данных таблицы возможны некорректные значения, необходимо детально рассмотреть параметры каждого столбца\n",
    "</font> "
   ]
  },
  {
   "cell_type": "code",
   "execution_count": 3,
   "metadata": {},
   "outputs": [
    {
     "data": {
      "text/html": [
       "<div>\n",
       "<style scoped>\n",
       "    .dataframe tbody tr th:only-of-type {\n",
       "        vertical-align: middle;\n",
       "    }\n",
       "\n",
       "    .dataframe tbody tr th {\n",
       "        vertical-align: top;\n",
       "    }\n",
       "\n",
       "    .dataframe thead th {\n",
       "        text-align: right;\n",
       "    }\n",
       "</style>\n",
       "<table border=\"1\" class=\"dataframe\">\n",
       "  <thead>\n",
       "    <tr style=\"text-align: right;\">\n",
       "      <th></th>\n",
       "      <th>date_crawled</th>\n",
       "      <th>price</th>\n",
       "      <th>vehicle_type</th>\n",
       "      <th>registration_year</th>\n",
       "      <th>gearbox</th>\n",
       "      <th>power</th>\n",
       "      <th>model</th>\n",
       "      <th>kilometer</th>\n",
       "      <th>registration_month</th>\n",
       "      <th>fuel_type</th>\n",
       "      <th>brand</th>\n",
       "      <th>not_repaired</th>\n",
       "      <th>date_created</th>\n",
       "      <th>number_of_pictures</th>\n",
       "      <th>postal_code</th>\n",
       "      <th>last_seen</th>\n",
       "    </tr>\n",
       "  </thead>\n",
       "  <tbody>\n",
       "    <tr>\n",
       "      <th>0</th>\n",
       "      <td>2016-03-24 11:52:17</td>\n",
       "      <td>480</td>\n",
       "      <td>NaN</td>\n",
       "      <td>1993</td>\n",
       "      <td>manual</td>\n",
       "      <td>0</td>\n",
       "      <td>golf</td>\n",
       "      <td>150000</td>\n",
       "      <td>0</td>\n",
       "      <td>petrol</td>\n",
       "      <td>volkswagen</td>\n",
       "      <td>NaN</td>\n",
       "      <td>2016-03-24 00:00:00</td>\n",
       "      <td>0</td>\n",
       "      <td>70435</td>\n",
       "      <td>2016-04-07 03:16:57</td>\n",
       "    </tr>\n",
       "    <tr>\n",
       "      <th>1</th>\n",
       "      <td>2016-03-24 10:58:45</td>\n",
       "      <td>18300</td>\n",
       "      <td>coupe</td>\n",
       "      <td>2011</td>\n",
       "      <td>manual</td>\n",
       "      <td>190</td>\n",
       "      <td>NaN</td>\n",
       "      <td>125000</td>\n",
       "      <td>5</td>\n",
       "      <td>gasoline</td>\n",
       "      <td>audi</td>\n",
       "      <td>yes</td>\n",
       "      <td>2016-03-24 00:00:00</td>\n",
       "      <td>0</td>\n",
       "      <td>66954</td>\n",
       "      <td>2016-04-07 01:46:50</td>\n",
       "    </tr>\n",
       "    <tr>\n",
       "      <th>2</th>\n",
       "      <td>2016-03-14 12:52:21</td>\n",
       "      <td>9800</td>\n",
       "      <td>suv</td>\n",
       "      <td>2004</td>\n",
       "      <td>auto</td>\n",
       "      <td>163</td>\n",
       "      <td>grand</td>\n",
       "      <td>125000</td>\n",
       "      <td>8</td>\n",
       "      <td>gasoline</td>\n",
       "      <td>jeep</td>\n",
       "      <td>NaN</td>\n",
       "      <td>2016-03-14 00:00:00</td>\n",
       "      <td>0</td>\n",
       "      <td>90480</td>\n",
       "      <td>2016-04-05 12:47:46</td>\n",
       "    </tr>\n",
       "    <tr>\n",
       "      <th>3</th>\n",
       "      <td>2016-03-17 16:54:04</td>\n",
       "      <td>1500</td>\n",
       "      <td>small</td>\n",
       "      <td>2001</td>\n",
       "      <td>manual</td>\n",
       "      <td>75</td>\n",
       "      <td>golf</td>\n",
       "      <td>150000</td>\n",
       "      <td>6</td>\n",
       "      <td>petrol</td>\n",
       "      <td>volkswagen</td>\n",
       "      <td>no</td>\n",
       "      <td>2016-03-17 00:00:00</td>\n",
       "      <td>0</td>\n",
       "      <td>91074</td>\n",
       "      <td>2016-03-17 17:40:17</td>\n",
       "    </tr>\n",
       "    <tr>\n",
       "      <th>4</th>\n",
       "      <td>2016-03-31 17:25:20</td>\n",
       "      <td>3600</td>\n",
       "      <td>small</td>\n",
       "      <td>2008</td>\n",
       "      <td>manual</td>\n",
       "      <td>69</td>\n",
       "      <td>fabia</td>\n",
       "      <td>90000</td>\n",
       "      <td>7</td>\n",
       "      <td>gasoline</td>\n",
       "      <td>skoda</td>\n",
       "      <td>no</td>\n",
       "      <td>2016-03-31 00:00:00</td>\n",
       "      <td>0</td>\n",
       "      <td>60437</td>\n",
       "      <td>2016-04-06 10:17:21</td>\n",
       "    </tr>\n",
       "  </tbody>\n",
       "</table>\n",
       "</div>"
      ],
      "text/plain": [
       "          date_crawled  price vehicle_type  registration_year gearbox  power  \\\n",
       "0  2016-03-24 11:52:17    480          NaN               1993  manual      0   \n",
       "1  2016-03-24 10:58:45  18300        coupe               2011  manual    190   \n",
       "2  2016-03-14 12:52:21   9800          suv               2004    auto    163   \n",
       "3  2016-03-17 16:54:04   1500        small               2001  manual     75   \n",
       "4  2016-03-31 17:25:20   3600        small               2008  manual     69   \n",
       "\n",
       "   model  kilometer  registration_month fuel_type       brand not_repaired  \\\n",
       "0   golf     150000                   0    petrol  volkswagen          NaN   \n",
       "1    NaN     125000                   5  gasoline        audi          yes   \n",
       "2  grand     125000                   8  gasoline        jeep          NaN   \n",
       "3   golf     150000                   6    petrol  volkswagen           no   \n",
       "4  fabia      90000                   7  gasoline       skoda           no   \n",
       "\n",
       "          date_created  number_of_pictures  postal_code            last_seen  \n",
       "0  2016-03-24 00:00:00                   0        70435  2016-04-07 03:16:57  \n",
       "1  2016-03-24 00:00:00                   0        66954  2016-04-07 01:46:50  \n",
       "2  2016-03-14 00:00:00                   0        90480  2016-04-05 12:47:46  \n",
       "3  2016-03-17 00:00:00                   0        91074  2016-03-17 17:40:17  \n",
       "4  2016-03-31 00:00:00                   0        60437  2016-04-06 10:17:21  "
      ]
     },
     "metadata": {},
     "output_type": "display_data"
    }
   ],
   "source": [
    "col = []\n",
    "for i in range(len(df.columns)):\n",
    "    col.append(re.sub(r'(?<!^)(?=[A-Z])', '_', df.columns[i]).lower())\n",
    "df.columns = col\n",
    "display(df.head())"
   ]
  },
  {
   "cell_type": "markdown",
   "metadata": {},
   "source": [
    "<font color='DarkBlue'> \n",
    "📌 Заголовки полей приведены к общепринятому формату <br>\n",
    "📌 Необходимо удалить явные дубликаты и преобразовать типы полей, содержащих значения времени <br>\n",
    "</font> "
   ]
  },
  {
   "cell_type": "code",
   "execution_count": 4,
   "metadata": {},
   "outputs": [],
   "source": [
    "df = df.drop_duplicates().reset_index(drop=True)\n",
    "df['date_crawled'] = pd.to_datetime(df['date_crawled'],format='%Y-%m-%d %H:%M:%S')\n",
    "df['date_created'] = pd.to_datetime(df['date_created'],format='%Y-%m-%d %H:%M:%S')\n",
    "df['last_seen'] = pd.to_datetime(df['last_seen'],format='%Y-%m-%d %H:%M:%S')"
   ]
  },
  {
   "cell_type": "markdown",
   "metadata": {},
   "source": [
    "<font color='DarkBlue'> \n",
    "📌 Теперь необходимо детально рассмотреть параметры каждого столбца и построить гистограммы распределения <br>\n",
    "</font> "
   ]
  },
  {
   "cell_type": "code",
   "execution_count": 5,
   "metadata": {
    "scrolled": false
   },
   "outputs": [
    {
     "data": {
      "text/html": [
       "<div>\n",
       "<style scoped>\n",
       "    .dataframe tbody tr th:only-of-type {\n",
       "        vertical-align: middle;\n",
       "    }\n",
       "\n",
       "    .dataframe tbody tr th {\n",
       "        vertical-align: top;\n",
       "    }\n",
       "\n",
       "    .dataframe thead th {\n",
       "        text-align: right;\n",
       "    }\n",
       "</style>\n",
       "<table border=\"1\" class=\"dataframe\">\n",
       "  <thead>\n",
       "    <tr style=\"text-align: right;\">\n",
       "      <th></th>\n",
       "      <th>date_crawled</th>\n",
       "      <th>price</th>\n",
       "      <th>registration_year</th>\n",
       "      <th>power</th>\n",
       "      <th>kilometer</th>\n",
       "      <th>registration_month</th>\n",
       "      <th>date_created</th>\n",
       "      <th>number_of_pictures</th>\n",
       "      <th>postal_code</th>\n",
       "      <th>last_seen</th>\n",
       "    </tr>\n",
       "  </thead>\n",
       "  <tbody>\n",
       "    <tr>\n",
       "      <th>count</th>\n",
       "      <td>354365</td>\n",
       "      <td>354365.000000</td>\n",
       "      <td>354365.000000</td>\n",
       "      <td>354365.000000</td>\n",
       "      <td>354365.000000</td>\n",
       "      <td>354365.000000</td>\n",
       "      <td>354365</td>\n",
       "      <td>354365.0</td>\n",
       "      <td>354365.000000</td>\n",
       "      <td>354365</td>\n",
       "    </tr>\n",
       "    <tr>\n",
       "      <th>mean</th>\n",
       "      <td>2016-03-21 12:58:09.520460544</td>\n",
       "      <td>4416.679830</td>\n",
       "      <td>2004.234481</td>\n",
       "      <td>110.093816</td>\n",
       "      <td>128211.363989</td>\n",
       "      <td>5.714650</td>\n",
       "      <td>2016-03-20 19:12:06.583042560</td>\n",
       "      <td>0.0</td>\n",
       "      <td>50508.503800</td>\n",
       "      <td>2016-03-29 23:51:06.766184960</td>\n",
       "    </tr>\n",
       "    <tr>\n",
       "      <th>min</th>\n",
       "      <td>2016-03-05 14:06:22</td>\n",
       "      <td>0.000000</td>\n",
       "      <td>1000.000000</td>\n",
       "      <td>0.000000</td>\n",
       "      <td>5000.000000</td>\n",
       "      <td>0.000000</td>\n",
       "      <td>2014-03-10 00:00:00</td>\n",
       "      <td>0.0</td>\n",
       "      <td>1067.000000</td>\n",
       "      <td>2016-03-05 14:15:08</td>\n",
       "    </tr>\n",
       "    <tr>\n",
       "      <th>25%</th>\n",
       "      <td>2016-03-13 11:52:33</td>\n",
       "      <td>1050.000000</td>\n",
       "      <td>1999.000000</td>\n",
       "      <td>69.000000</td>\n",
       "      <td>125000.000000</td>\n",
       "      <td>3.000000</td>\n",
       "      <td>2016-03-13 00:00:00</td>\n",
       "      <td>0.0</td>\n",
       "      <td>30165.000000</td>\n",
       "      <td>2016-03-23 02:50:03</td>\n",
       "    </tr>\n",
       "    <tr>\n",
       "      <th>50%</th>\n",
       "      <td>2016-03-21 17:50:55</td>\n",
       "      <td>2700.000000</td>\n",
       "      <td>2003.000000</td>\n",
       "      <td>105.000000</td>\n",
       "      <td>150000.000000</td>\n",
       "      <td>6.000000</td>\n",
       "      <td>2016-03-21 00:00:00</td>\n",
       "      <td>0.0</td>\n",
       "      <td>49413.000000</td>\n",
       "      <td>2016-04-03 15:15:52</td>\n",
       "    </tr>\n",
       "    <tr>\n",
       "      <th>75%</th>\n",
       "      <td>2016-03-29 14:37:20</td>\n",
       "      <td>6400.000000</td>\n",
       "      <td>2008.000000</td>\n",
       "      <td>143.000000</td>\n",
       "      <td>150000.000000</td>\n",
       "      <td>9.000000</td>\n",
       "      <td>2016-03-29 00:00:00</td>\n",
       "      <td>0.0</td>\n",
       "      <td>71083.000000</td>\n",
       "      <td>2016-04-06 10:15:19</td>\n",
       "    </tr>\n",
       "    <tr>\n",
       "      <th>max</th>\n",
       "      <td>2016-04-07 14:36:58</td>\n",
       "      <td>20000.000000</td>\n",
       "      <td>9999.000000</td>\n",
       "      <td>20000.000000</td>\n",
       "      <td>150000.000000</td>\n",
       "      <td>12.000000</td>\n",
       "      <td>2016-04-07 00:00:00</td>\n",
       "      <td>0.0</td>\n",
       "      <td>99998.000000</td>\n",
       "      <td>2016-04-07 14:58:51</td>\n",
       "    </tr>\n",
       "    <tr>\n",
       "      <th>std</th>\n",
       "      <td>NaN</td>\n",
       "      <td>4514.176349</td>\n",
       "      <td>90.228466</td>\n",
       "      <td>189.851330</td>\n",
       "      <td>37905.083858</td>\n",
       "      <td>3.726432</td>\n",
       "      <td>NaN</td>\n",
       "      <td>0.0</td>\n",
       "      <td>25783.100078</td>\n",
       "      <td>NaN</td>\n",
       "    </tr>\n",
       "  </tbody>\n",
       "</table>\n",
       "</div>"
      ],
      "text/plain": [
       "                        date_crawled          price  registration_year  \\\n",
       "count                         354365  354365.000000      354365.000000   \n",
       "mean   2016-03-21 12:58:09.520460544    4416.679830        2004.234481   \n",
       "min              2016-03-05 14:06:22       0.000000        1000.000000   \n",
       "25%              2016-03-13 11:52:33    1050.000000        1999.000000   \n",
       "50%              2016-03-21 17:50:55    2700.000000        2003.000000   \n",
       "75%              2016-03-29 14:37:20    6400.000000        2008.000000   \n",
       "max              2016-04-07 14:36:58   20000.000000        9999.000000   \n",
       "std                              NaN    4514.176349          90.228466   \n",
       "\n",
       "               power      kilometer  registration_month  \\\n",
       "count  354365.000000  354365.000000       354365.000000   \n",
       "mean      110.093816  128211.363989            5.714650   \n",
       "min         0.000000    5000.000000            0.000000   \n",
       "25%        69.000000  125000.000000            3.000000   \n",
       "50%       105.000000  150000.000000            6.000000   \n",
       "75%       143.000000  150000.000000            9.000000   \n",
       "max     20000.000000  150000.000000           12.000000   \n",
       "std       189.851330   37905.083858            3.726432   \n",
       "\n",
       "                        date_created  number_of_pictures    postal_code  \\\n",
       "count                         354365            354365.0  354365.000000   \n",
       "mean   2016-03-20 19:12:06.583042560                 0.0   50508.503800   \n",
       "min              2014-03-10 00:00:00                 0.0    1067.000000   \n",
       "25%              2016-03-13 00:00:00                 0.0   30165.000000   \n",
       "50%              2016-03-21 00:00:00                 0.0   49413.000000   \n",
       "75%              2016-03-29 00:00:00                 0.0   71083.000000   \n",
       "max              2016-04-07 00:00:00                 0.0   99998.000000   \n",
       "std                              NaN                 0.0   25783.100078   \n",
       "\n",
       "                           last_seen  \n",
       "count                         354365  \n",
       "mean   2016-03-29 23:51:06.766184960  \n",
       "min              2016-03-05 14:15:08  \n",
       "25%              2016-03-23 02:50:03  \n",
       "50%              2016-04-03 15:15:52  \n",
       "75%              2016-04-06 10:15:19  \n",
       "max              2016-04-07 14:58:51  \n",
       "std                              NaN  "
      ]
     },
     "metadata": {},
     "output_type": "display_data"
    },
    {
     "data": {
      "text/html": [
       "<div>\n",
       "<style scoped>\n",
       "    .dataframe tbody tr th:only-of-type {\n",
       "        vertical-align: middle;\n",
       "    }\n",
       "\n",
       "    .dataframe tbody tr th {\n",
       "        vertical-align: top;\n",
       "    }\n",
       "\n",
       "    .dataframe thead th {\n",
       "        text-align: right;\n",
       "    }\n",
       "</style>\n",
       "<table border=\"1\" class=\"dataframe\">\n",
       "  <thead>\n",
       "    <tr style=\"text-align: right;\">\n",
       "      <th></th>\n",
       "      <th>vehicle_type</th>\n",
       "      <th>gearbox</th>\n",
       "      <th>model</th>\n",
       "      <th>fuel_type</th>\n",
       "      <th>brand</th>\n",
       "      <th>not_repaired</th>\n",
       "    </tr>\n",
       "  </thead>\n",
       "  <tbody>\n",
       "    <tr>\n",
       "      <th>count</th>\n",
       "      <td>316875</td>\n",
       "      <td>334532</td>\n",
       "      <td>334660</td>\n",
       "      <td>321470</td>\n",
       "      <td>354365</td>\n",
       "      <td>283211</td>\n",
       "    </tr>\n",
       "    <tr>\n",
       "      <th>unique</th>\n",
       "      <td>8</td>\n",
       "      <td>2</td>\n",
       "      <td>250</td>\n",
       "      <td>7</td>\n",
       "      <td>40</td>\n",
       "      <td>2</td>\n",
       "    </tr>\n",
       "    <tr>\n",
       "      <th>top</th>\n",
       "      <td>sedan</td>\n",
       "      <td>manual</td>\n",
       "      <td>golf</td>\n",
       "      <td>petrol</td>\n",
       "      <td>volkswagen</td>\n",
       "      <td>no</td>\n",
       "    </tr>\n",
       "    <tr>\n",
       "      <th>freq</th>\n",
       "      <td>91457</td>\n",
       "      <td>268249</td>\n",
       "      <td>29232</td>\n",
       "      <td>216349</td>\n",
       "      <td>77012</td>\n",
       "      <td>247158</td>\n",
       "    </tr>\n",
       "  </tbody>\n",
       "</table>\n",
       "</div>"
      ],
      "text/plain": [
       "       vehicle_type gearbox   model fuel_type       brand not_repaired\n",
       "count        316875  334532  334660    321470      354365       283211\n",
       "unique            8       2     250         7          40            2\n",
       "top           sedan  manual    golf    petrol  volkswagen           no\n",
       "freq          91457  268249   29232    216349       77012       247158"
      ]
     },
     "metadata": {},
     "output_type": "display_data"
    },
    {
     "name": "stdout",
     "output_type": "stream",
     "text": [
      "-----\n",
      "sedan          91457\n",
      "small          79830\n",
      "wagon          65165\n",
      "bus            28775\n",
      "convertible    20203\n",
      "coupe          16161\n",
      "suv            11996\n",
      "other           3288\n",
      "Name: vehicle_type, dtype: int64\n",
      "-----\n",
      "manual    268249\n",
      "auto       66283\n",
      "Name: gearbox, dtype: int64\n",
      "-----\n",
      "golf                  29232\n",
      "other                 24420\n",
      "3er                   19761\n",
      "polo                  13066\n",
      "corsa                 12570\n",
      "                      ...  \n",
      "i3                        8\n",
      "rangerover                4\n",
      "serie_3                   4\n",
      "serie_1                   2\n",
      "range_rover_evoque        2\n",
      "Name: model, Length: 250, dtype: int64\n",
      "-----\n",
      "petrol      216349\n",
      "gasoline     98719\n",
      "lpg           5310\n",
      "cng            565\n",
      "hybrid         233\n",
      "other          204\n",
      "electric        90\n",
      "Name: fuel_type, dtype: int64\n",
      "-----\n",
      "volkswagen        77012\n",
      "opel              39931\n",
      "bmw               36914\n",
      "mercedes_benz     32044\n",
      "audi              29456\n",
      "ford              25179\n",
      "renault           17927\n",
      "peugeot           10998\n",
      "fiat               9643\n",
      "seat               6907\n",
      "mazda              5615\n",
      "skoda              5500\n",
      "smart              5246\n",
      "citroen            5148\n",
      "nissan             4941\n",
      "toyota             4606\n",
      "hyundai            3587\n",
      "sonstige_autos     3374\n",
      "volvo              3210\n",
      "mini               3202\n",
      "mitsubishi         3022\n",
      "honda              2817\n",
      "kia                2465\n",
      "suzuki             2322\n",
      "alfa_romeo         2314\n",
      "chevrolet          1754\n",
      "chrysler           1439\n",
      "dacia               900\n",
      "daihatsu            806\n",
      "subaru              762\n",
      "porsche             758\n",
      "jeep                677\n",
      "trabant             589\n",
      "land_rover          545\n",
      "daewoo              542\n",
      "saab                526\n",
      "jaguar              505\n",
      "rover               486\n",
      "lancia              471\n",
      "lada                225\n",
      "Name: brand, dtype: int64\n",
      "-----\n",
      "no     247158\n",
      "yes     36053\n",
      "Name: not_repaired, dtype: int64\n",
      "-----\n",
      "date_crawled\n"
     ]
    },
    {
     "data": {
      "image/png": "[encoded data removed]",
      "text/plain": [
       "<Figure size 1080x360 with 1 Axes>"
      ]
     },
     "metadata": {
      "needs_background": "light"
     },
     "output_type": "display_data"
    },
    {
     "name": "stdout",
     "output_type": "stream",
     "text": [
      "price\n"
     ]
    },
    {
     "data": {
      "image/png": "[encoded data removed]",
      "text/plain": [
       "<Figure size 1080x360 with 1 Axes>"
      ]
     },
     "metadata": {
      "needs_background": "light"
     },
     "output_type": "display_data"
    },
    {
     "name": "stdout",
     "output_type": "stream",
     "text": [
      "vehicle_type\n"
     ]
    },
    {
     "data": {
      "image/png": "[encoded data removed]",
      "text/plain": [
       "<Figure size 1080x360 with 1 Axes>"
      ]
     },
     "metadata": {
      "needs_background": "light"
     },
     "output_type": "display_data"
    },
    {
     "name": "stdout",
     "output_type": "stream",
     "text": [
      "registration_year\n"
     ]
    },
    {
     "data": {
      "image/png": "[encoded data removed]",
      "text/plain": [
       "<Figure size 1080x360 with 1 Axes>"
      ]
     },
     "metadata": {
      "needs_background": "light"
     },
     "output_type": "display_data"
    },
    {
     "name": "stdout",
     "output_type": "stream",
     "text": [
      "gearbox\n"
     ]
    },
    {
     "data": {
      "image/png": "[encoded data removed]",
      "text/plain": [
       "<Figure size 1080x360 with 1 Axes>"
      ]
     },
     "metadata": {
      "needs_background": "light"
     },
     "output_type": "display_data"
    },
    {
     "name": "stdout",
     "output_type": "stream",
     "text": [
      "power\n"
     ]
    },
    {
     "data": {
      "image/png": "[encoded data removed]",
      "text/plain": [
       "<Figure size 1080x360 with 1 Axes>"
      ]
     },
     "metadata": {
      "needs_background": "light"
     },
     "output_type": "display_data"
    },
    {
     "name": "stdout",
     "output_type": "stream",
     "text": [
      "kilometer\n"
     ]
    },
    {
     "data": {
      "image/png": "[encoded data removed]",
      "text/plain": [
       "<Figure size 1080x360 with 1 Axes>"
      ]
     },
     "metadata": {
      "needs_background": "light"
     },
     "output_type": "display_data"
    },
    {
     "name": "stdout",
     "output_type": "stream",
     "text": [
      "registration_month\n"
     ]
    },
    {
     "data": {
      "image/png": "[encoded data removed]",
      "text/plain": [
       "<Figure size 1080x360 with 1 Axes>"
      ]
     },
     "metadata": {
      "needs_background": "light"
     },
     "output_type": "display_data"
    },
    {
     "name": "stdout",
     "output_type": "stream",
     "text": [
      "fuel_type\n"
     ]
    },
    {
     "data": {
      "image/png": "[encoded data removed]",
      "text/plain": [
       "<Figure size 1080x360 with 1 Axes>"
      ]
     },
     "metadata": {
      "needs_background": "light"
     },
     "output_type": "display_data"
    },
    {
     "name": "stdout",
     "output_type": "stream",
     "text": [
      "brand\n"
     ]
    },
    {
     "data": {
      "image/png": "[encoded data removed]",
      "text/plain": [
       "<Figure size 1080x360 with 1 Axes>"
      ]
     },
     "metadata": {
      "needs_background": "light"
     },
     "output_type": "display_data"
    },
    {
     "name": "stdout",
     "output_type": "stream",
     "text": [
      "not_repaired\n"
     ]
    },
    {
     "data": {
      "image/png": "[encoded data removed]",
      "text/plain": [
       "<Figure size 1080x360 with 1 Axes>"
      ]
     },
     "metadata": {
      "needs_background": "light"
     },
     "output_type": "display_data"
    },
    {
     "name": "stdout",
     "output_type": "stream",
     "text": [
      "date_created\n"
     ]
    },
    {
     "data": {
      "image/png": "[encoded data removed]",
      "text/plain": [
       "<Figure size 1080x360 with 1 Axes>"
      ]
     },
     "metadata": {
      "needs_background": "light"
     },
     "output_type": "display_data"
    },
    {
     "name": "stdout",
     "output_type": "stream",
     "text": [
      "postal_code\n"
     ]
    },
    {
     "data": {
      "image/png": "[encoded data removed]",
      "text/plain": [
       "<Figure size 1080x360 with 1 Axes>"
      ]
     },
     "metadata": {
      "needs_background": "light"
     },
     "output_type": "display_data"
    },
    {
     "name": "stdout",
     "output_type": "stream",
     "text": [
      "last_seen\n"
     ]
    },
    {
     "data": {
      "image/png": "[encoded data removed]",
      "text/plain": [
       "<Figure size 1080x360 with 1 Axes>"
      ]
     },
     "metadata": {
      "needs_background": "light"
     },
     "output_type": "display_data"
    }
   ],
   "source": [
    "display(df.describe(datetime_is_numeric=True))\n",
    "try:\n",
    "    display(df.describe(include = ['object','bool']))\n",
    "    for i in df.select_dtypes(include=['object','bool']):\n",
    "        print('-----')\n",
    "        if df[i].count() != len(df[i].unique()):\n",
    "            print(df[i].value_counts())\n",
    "        else:\n",
    "            print('Все значения уникальны')\n",
    "except:\n",
    "    print('Все данные представлены в числовом формате')\n",
    "print('-----')\n",
    "for i in df:     \n",
    "    if not ((df[i].dtype == 'object') & (len(df[i].unique()) > 100)):\n",
    "        if len(df[i].unique()) > 1:\n",
    "            print(i)\n",
    "            if (len(df[i].unique()) < 100):\n",
    "                # time.sleep(1)\n",
    "                if df[i].dtype == 'object':\n",
    "                    df[i].hist(bins=np.linspace(- 0.5, len(df[i].unique()) - 0.5, num=len(df[i].unique()) + 1), figsize=(15,5)) \n",
    "                else:\n",
    "                    df[i].hist(bins=np.linspace(df[i].min() - 0.5 * (df[i].max() - df[i].min()) / (len(df[i].unique()) - 1), df[i].max() - df[i].min() + 0.5 * (df[i].max() - df[i].min()) / (len(df[i].unique()) - 1), num=len(df[i].unique()) + 1), figsize=(15,5))\n",
    "                if (len(df[i].unique()) > 20):\n",
    "                    plt.xticks(rotation=90)  \n",
    "                plt.show() \n",
    "            else:        \n",
    "                df[i].hist(bins=100, range=[df[i].min(), df[i].max()], figsize=(15,5))\n",
    "                plt.show()"
   ]
  },
  {
   "cell_type": "markdown",
   "metadata": {},
   "source": [
    "<font color='DarkBlue'> \n",
    "📌 По представленным графикам можно сделать следующие выводы: \n",
    " \n",
    "- стоимость основной массы автомобилей в объявлениях не превышает 3000    \n",
    "- в большинстве объявлений автомобили с ручной коробкой передач, бензиновыми двигатели (gasoline и petrol) и пробегом около 150000 км\n",
    "- самая популярная марка продаваемых автомобилей - volkswagen  \n",
    "- даты создания анкет и скачивания их из базы привязаны к марту и апрелю 2016 года, даты последней активности пользователя - к апрелю 2016 года\n",
    "- заметно, что значения признаков года регистрации и мощности имеют аномалии, необходимо рассмотреть разброс значений более подробно\n",
    "- много записей без обозначения модели продаваемого автомобиля. Так как этот признак является одним из самых основных параметров для определения предсказаний в дальнейшем и отсутствует возможность его адекватного определения по остальным признакам, строки с пропущенными значениями можно удалить\n",
    "- следует заменить следующие пропущенные и аномальные значения признаков самыми частыми или усредненными в зависимости от их типа, группируя выборки по модели и марке автомобилей: 'gearbox', 'registration_year', 'vehicle_type', 'fuel_type', 'power'    \n",
    "- большинство авто в объявлениях являются битыми, есть также объекты с неуказанным значением, которое предпочтительнее заменить на наиболее часто встречающееся во всей выборке, поскольку отсутствует взаимосвязь данного параметра по отношению к другим\n",
    "- требуется удалить следующие неинформативные признаки: месяц регистрации автомобиля (присутствуют нулевые значения), почтовый индекс пользователей, количество изображений (все объявления соглачно исходным данным не имеют изображений), все обозначения дат. При использовании датасета в качестве выборки для машинного обучения эти столбцы удаляются, так как в них не содержатся информативные данные, по которым можно упорядочить записи или провести аналогии и взаимосвязи с другими признаками\n",
    "- коррелирующие признаки в соответствии с рассматриваемым типом объектов отсутствуют\n",
    "- присутствует большая вероятность того, что модель покажет достаточно достоверную стоимость, т.к. заметно выделяюся значения соответствующего целевого признака через каждые 500 единиц\n",
    "- объекты в исходной выборке вероятно получены из общей с применением нескольких фильтров, например, объявления относительно автомобилей стоимостью не более 20000 евро и пробегом не более 150000\n",
    "\n",
    "📌 Также можно определить, присутствуют ли зависимости между пропущенными значениями в разных столбцах, например для признака, определяющего вид коробки передач, как имеющего меньшее количество пропусков, что позволит установить взаимосвязи с большей вероятностью, и остальных признаков\n",
    "</font>     \n",
    " \n",
    "Предсказать - vehicle_type, gearbox (усредн), model (-), fuel_type, после зануления - registration_year (усредн), power (-)\n",
    "Аномалии - registration_year (nan), power (nan)    \n",
    "Заменить - not_repaired (+)\n",
    "Удалить (+) - postal_code, registration_month, number_of_pictures (все по 0), (date_crawled, date_created - совпадают даты в большинстве, нужно удалить, цены за малое количество времени не изменились, данные не упорядочены по дате, last_seen тоже удалить)     "
   ]
  },
  {
   "cell_type": "code",
   "execution_count": 6,
   "metadata": {},
   "outputs": [
    {
     "data": {
      "text/html": [
       "<div>\n",
       "<style scoped>\n",
       "    .dataframe tbody tr th:only-of-type {\n",
       "        vertical-align: middle;\n",
       "    }\n",
       "\n",
       "    .dataframe tbody tr th {\n",
       "        vertical-align: top;\n",
       "    }\n",
       "\n",
       "    .dataframe thead th {\n",
       "        text-align: right;\n",
       "    }\n",
       "</style>\n",
       "<table border=\"1\" class=\"dataframe\">\n",
       "  <thead>\n",
       "    <tr style=\"text-align: right;\">\n",
       "      <th></th>\n",
       "      <th>date_crawled</th>\n",
       "      <th>price</th>\n",
       "      <th>vehicle_type</th>\n",
       "      <th>registration_year</th>\n",
       "      <th>gearbox</th>\n",
       "      <th>power</th>\n",
       "      <th>model</th>\n",
       "      <th>kilometer</th>\n",
       "      <th>registration_month</th>\n",
       "      <th>fuel_type</th>\n",
       "      <th>brand</th>\n",
       "      <th>not_repaired</th>\n",
       "      <th>date_created</th>\n",
       "      <th>number_of_pictures</th>\n",
       "      <th>postal_code</th>\n",
       "      <th>last_seen</th>\n",
       "    </tr>\n",
       "  </thead>\n",
       "  <tbody>\n",
       "    <tr>\n",
       "      <th>15</th>\n",
       "      <td>2016-03-11 21:39:15</td>\n",
       "      <td>450</td>\n",
       "      <td>small</td>\n",
       "      <td>1910</td>\n",
       "      <td>NaN</td>\n",
       "      <td>0</td>\n",
       "      <td>ka</td>\n",
       "      <td>5000</td>\n",
       "      <td>0</td>\n",
       "      <td>petrol</td>\n",
       "      <td>ford</td>\n",
       "      <td>NaN</td>\n",
       "      <td>2016-03-11</td>\n",
       "      <td>0</td>\n",
       "      <td>24148</td>\n",
       "      <td>2016-03-19 08:46:47</td>\n",
       "    </tr>\n",
       "    <tr>\n",
       "      <th>16</th>\n",
       "      <td>2016-04-01 12:46:46</td>\n",
       "      <td>300</td>\n",
       "      <td>NaN</td>\n",
       "      <td>2016</td>\n",
       "      <td>NaN</td>\n",
       "      <td>60</td>\n",
       "      <td>polo</td>\n",
       "      <td>150000</td>\n",
       "      <td>0</td>\n",
       "      <td>petrol</td>\n",
       "      <td>volkswagen</td>\n",
       "      <td>NaN</td>\n",
       "      <td>2016-04-01</td>\n",
       "      <td>0</td>\n",
       "      <td>38871</td>\n",
       "      <td>2016-04-01 12:46:46</td>\n",
       "    </tr>\n",
       "    <tr>\n",
       "      <th>32</th>\n",
       "      <td>2016-03-15 20:59:01</td>\n",
       "      <td>245</td>\n",
       "      <td>sedan</td>\n",
       "      <td>1994</td>\n",
       "      <td>NaN</td>\n",
       "      <td>0</td>\n",
       "      <td>golf</td>\n",
       "      <td>150000</td>\n",
       "      <td>2</td>\n",
       "      <td>petrol</td>\n",
       "      <td>volkswagen</td>\n",
       "      <td>no</td>\n",
       "      <td>2016-03-15</td>\n",
       "      <td>0</td>\n",
       "      <td>44145</td>\n",
       "      <td>2016-03-17 18:17:43</td>\n",
       "    </tr>\n",
       "    <tr>\n",
       "      <th>37</th>\n",
       "      <td>2016-03-28 17:50:15</td>\n",
       "      <td>1500</td>\n",
       "      <td>NaN</td>\n",
       "      <td>2016</td>\n",
       "      <td>NaN</td>\n",
       "      <td>0</td>\n",
       "      <td>kangoo</td>\n",
       "      <td>150000</td>\n",
       "      <td>1</td>\n",
       "      <td>gasoline</td>\n",
       "      <td>renault</td>\n",
       "      <td>no</td>\n",
       "      <td>2016-03-28</td>\n",
       "      <td>0</td>\n",
       "      <td>46483</td>\n",
       "      <td>2016-03-30 09:18:02</td>\n",
       "    </tr>\n",
       "    <tr>\n",
       "      <th>40</th>\n",
       "      <td>2016-03-26 22:06:17</td>\n",
       "      <td>0</td>\n",
       "      <td>NaN</td>\n",
       "      <td>1990</td>\n",
       "      <td>NaN</td>\n",
       "      <td>0</td>\n",
       "      <td>corsa</td>\n",
       "      <td>150000</td>\n",
       "      <td>1</td>\n",
       "      <td>petrol</td>\n",
       "      <td>opel</td>\n",
       "      <td>NaN</td>\n",
       "      <td>2016-03-26</td>\n",
       "      <td>0</td>\n",
       "      <td>56412</td>\n",
       "      <td>2016-03-27 17:43:34</td>\n",
       "    </tr>\n",
       "    <tr>\n",
       "      <th>...</th>\n",
       "      <td>...</td>\n",
       "      <td>...</td>\n",
       "      <td>...</td>\n",
       "      <td>...</td>\n",
       "      <td>...</td>\n",
       "      <td>...</td>\n",
       "      <td>...</td>\n",
       "      <td>...</td>\n",
       "      <td>...</td>\n",
       "      <td>...</td>\n",
       "      <td>...</td>\n",
       "      <td>...</td>\n",
       "      <td>...</td>\n",
       "      <td>...</td>\n",
       "      <td>...</td>\n",
       "      <td>...</td>\n",
       "    </tr>\n",
       "    <tr>\n",
       "      <th>354284</th>\n",
       "      <td>2016-03-16 13:36:25</td>\n",
       "      <td>3300</td>\n",
       "      <td>wagon</td>\n",
       "      <td>2006</td>\n",
       "      <td>NaN</td>\n",
       "      <td>0</td>\n",
       "      <td>touran</td>\n",
       "      <td>150000</td>\n",
       "      <td>7</td>\n",
       "      <td>gasoline</td>\n",
       "      <td>volkswagen</td>\n",
       "      <td>NaN</td>\n",
       "      <td>2016-03-16</td>\n",
       "      <td>0</td>\n",
       "      <td>12057</td>\n",
       "      <td>2016-03-17 12:17:07</td>\n",
       "    </tr>\n",
       "    <tr>\n",
       "      <th>354301</th>\n",
       "      <td>2016-04-03 13:46:24</td>\n",
       "      <td>3500</td>\n",
       "      <td>NaN</td>\n",
       "      <td>1995</td>\n",
       "      <td>NaN</td>\n",
       "      <td>0</td>\n",
       "      <td>polo</td>\n",
       "      <td>150000</td>\n",
       "      <td>0</td>\n",
       "      <td>NaN</td>\n",
       "      <td>volkswagen</td>\n",
       "      <td>NaN</td>\n",
       "      <td>2016-04-03</td>\n",
       "      <td>0</td>\n",
       "      <td>74579</td>\n",
       "      <td>2016-04-05 12:44:38</td>\n",
       "    </tr>\n",
       "    <tr>\n",
       "      <th>354325</th>\n",
       "      <td>2016-03-30 20:55:30</td>\n",
       "      <td>350</td>\n",
       "      <td>small</td>\n",
       "      <td>1996</td>\n",
       "      <td>NaN</td>\n",
       "      <td>65</td>\n",
       "      <td>punto</td>\n",
       "      <td>150000</td>\n",
       "      <td>0</td>\n",
       "      <td>NaN</td>\n",
       "      <td>fiat</td>\n",
       "      <td>NaN</td>\n",
       "      <td>2016-03-30</td>\n",
       "      <td>0</td>\n",
       "      <td>25436</td>\n",
       "      <td>2016-04-07 13:50:41</td>\n",
       "    </tr>\n",
       "    <tr>\n",
       "      <th>354334</th>\n",
       "      <td>2016-03-31 19:52:33</td>\n",
       "      <td>180</td>\n",
       "      <td>NaN</td>\n",
       "      <td>1995</td>\n",
       "      <td>NaN</td>\n",
       "      <td>0</td>\n",
       "      <td>NaN</td>\n",
       "      <td>125000</td>\n",
       "      <td>3</td>\n",
       "      <td>petrol</td>\n",
       "      <td>opel</td>\n",
       "      <td>NaN</td>\n",
       "      <td>2016-03-31</td>\n",
       "      <td>0</td>\n",
       "      <td>41470</td>\n",
       "      <td>2016-04-06 14:18:04</td>\n",
       "    </tr>\n",
       "    <tr>\n",
       "      <th>354361</th>\n",
       "      <td>2016-03-14 17:48:27</td>\n",
       "      <td>2200</td>\n",
       "      <td>NaN</td>\n",
       "      <td>2005</td>\n",
       "      <td>NaN</td>\n",
       "      <td>0</td>\n",
       "      <td>NaN</td>\n",
       "      <td>20000</td>\n",
       "      <td>1</td>\n",
       "      <td>NaN</td>\n",
       "      <td>sonstige_autos</td>\n",
       "      <td>NaN</td>\n",
       "      <td>2016-03-14</td>\n",
       "      <td>0</td>\n",
       "      <td>39576</td>\n",
       "      <td>2016-04-06 00:46:52</td>\n",
       "    </tr>\n",
       "  </tbody>\n",
       "</table>\n",
       "<p>19833 rows × 16 columns</p>\n",
       "</div>"
      ],
      "text/plain": [
       "              date_crawled  price vehicle_type  registration_year gearbox  \\\n",
       "15     2016-03-11 21:39:15    450        small               1910     NaN   \n",
       "16     2016-04-01 12:46:46    300          NaN               2016     NaN   \n",
       "32     2016-03-15 20:59:01    245        sedan               1994     NaN   \n",
       "37     2016-03-28 17:50:15   1500          NaN               2016     NaN   \n",
       "40     2016-03-26 22:06:17      0          NaN               1990     NaN   \n",
       "...                    ...    ...          ...                ...     ...   \n",
       "354284 2016-03-16 13:36:25   3300        wagon               2006     NaN   \n",
       "354301 2016-04-03 13:46:24   3500          NaN               1995     NaN   \n",
       "354325 2016-03-30 20:55:30    350        small               1996     NaN   \n",
       "354334 2016-03-31 19:52:33    180          NaN               1995     NaN   \n",
       "354361 2016-03-14 17:48:27   2200          NaN               2005     NaN   \n",
       "\n",
       "        power   model  kilometer  registration_month fuel_type  \\\n",
       "15          0      ka       5000                   0    petrol   \n",
       "16         60    polo     150000                   0    petrol   \n",
       "32          0    golf     150000                   2    petrol   \n",
       "37          0  kangoo     150000                   1  gasoline   \n",
       "40          0   corsa     150000                   1    petrol   \n",
       "...       ...     ...        ...                 ...       ...   \n",
       "354284      0  touran     150000                   7  gasoline   \n",
       "354301      0    polo     150000                   0       NaN   \n",
       "354325     65   punto     150000                   0       NaN   \n",
       "354334      0     NaN     125000                   3    petrol   \n",
       "354361      0     NaN      20000                   1       NaN   \n",
       "\n",
       "                 brand not_repaired date_created  number_of_pictures  \\\n",
       "15                ford          NaN   2016-03-11                   0   \n",
       "16          volkswagen          NaN   2016-04-01                   0   \n",
       "32          volkswagen           no   2016-03-15                   0   \n",
       "37             renault           no   2016-03-28                   0   \n",
       "40                opel          NaN   2016-03-26                   0   \n",
       "...                ...          ...          ...                 ...   \n",
       "354284      volkswagen          NaN   2016-03-16                   0   \n",
       "354301      volkswagen          NaN   2016-04-03                   0   \n",
       "354325            fiat          NaN   2016-03-30                   0   \n",
       "354334            opel          NaN   2016-03-31                   0   \n",
       "354361  sonstige_autos          NaN   2016-03-14                   0   \n",
       "\n",
       "        postal_code           last_seen  \n",
       "15            24148 2016-03-19 08:46:47  \n",
       "16            38871 2016-04-01 12:46:46  \n",
       "32            44145 2016-03-17 18:17:43  \n",
       "37            46483 2016-03-30 09:18:02  \n",
       "40            56412 2016-03-27 17:43:34  \n",
       "...             ...                 ...  \n",
       "354284        12057 2016-03-17 12:17:07  \n",
       "354301        74579 2016-04-05 12:44:38  \n",
       "354325        25436 2016-04-07 13:50:41  \n",
       "354334        41470 2016-04-06 14:18:04  \n",
       "354361        39576 2016-04-06 00:46:52  \n",
       "\n",
       "[19833 rows x 16 columns]"
      ]
     },
     "execution_count": 6,
     "metadata": {},
     "output_type": "execute_result"
    }
   ],
   "source": [
    "df[df['gearbox'].isna()]            "
   ]
  },
  {
   "cell_type": "markdown",
   "metadata": {},
   "source": [
    "<font color='DarkBlue'> \n",
    "📌 Зависимостей не наблюдается, причиной пропусков скорее является техническая ошибка, так как их количество, составляющее около десятой части всех записей, достаточно большое. Удалять такое количество данных не желательно, корректно заменить на среднее или наиболее часто встречающееся значение столбца с распределением по подгруппам. Многие поля является определяющими для обнаружения целевого признака <br>\n",
    "📌 Необходимо удалить обозначенные ранее неинформатифные признаки <br>    \n",
    "</font> "
   ]
  },
  {
   "cell_type": "code",
   "execution_count": 7,
   "metadata": {},
   "outputs": [
    {
     "data": {
      "text/plain": [
       "(310240, 10)"
      ]
     },
     "execution_count": 7,
     "metadata": {},
     "output_type": "execute_result"
    }
   ],
   "source": [
    "df = df.drop(['date_crawled', 'registration_month', 'date_created', 'number_of_pictures', 'postal_code', 'last_seen'], axis=1)\n",
    "df = df[df['model'] != 'other'].dropna(subset=['model'])\n",
    "df.shape"
   ]
  },
  {
   "cell_type": "markdown",
   "metadata": {},
   "source": [
    "<font color='DarkBlue'> \n",
    "📌 Теперь можно привести идентичные по значению параметры признаков, касающиеся вида топлива, к общему наименованию <br> \n",
    "</font> "
   ]
  },
  {
   "cell_type": "code",
   "execution_count": 8,
   "metadata": {},
   "outputs": [
    {
     "name": "stdout",
     "output_type": "stream",
     "text": [
      "Количество значений вида топлива типа 'gasoline' до преобразования: 90020\n",
      "Количество значений вида топлива типа 'petrol' до преобразования: 191370\n"
     ]
    }
   ],
   "source": [
    "print('Количество значений вида топлива типа \\'gasoline\\' до преобразования:', df[df['fuel_type'] == 'gasoline']['brand'].count())\n",
    "print('Количество значений вида топлива типа \\'petrol\\' до преобразования:', df[df['fuel_type'] == 'petrol']['brand'].count())"
   ]
  },
  {
   "cell_type": "code",
   "execution_count": 9,
   "metadata": {},
   "outputs": [],
   "source": [
    "# df.loc[df['fuel_type'] == 'gasoline', 'fuel_type'] = 'petrol'\n",
    "df['fuel_type'] = df['fuel_type'].replace('gasoline', 'petrol')"
   ]
  },
  {
   "cell_type": "code",
   "execution_count": 10,
   "metadata": {},
   "outputs": [
    {
     "name": "stdout",
     "output_type": "stream",
     "text": [
      "Количество значений вида топлива типа 'gasoline' после преобразования: 0\n",
      "Количество значений вида топлива типа 'petrol' после преобразования: 281390\n"
     ]
    }
   ],
   "source": [
    "print('Количество значений вида топлива типа \\'gasoline\\' после преобразования:', df[df['fuel_type'] == 'gasoline']['brand'].count())\n",
    "print('Количество значений вида топлива типа \\'petrol\\' после преобразования:', df[df['fuel_type'] == 'petrol']['brand'].count())"
   ]
  },
  {
   "cell_type": "markdown",
   "metadata": {},
   "source": [
    "<font color='DarkBlue'> \n",
    "📌 Нужно рассмотреть в первом приближении распределение стоимости автомобилей в объявлениях для определения возможных аномалий <br> \n",
    "</font> "
   ]
  },
  {
   "cell_type": "code",
   "execution_count": 11,
   "metadata": {},
   "outputs": [
    {
     "data": {
      "image/png": "[encoded data removed]",
      "text/plain": [
       "<Figure size 1080x360 with 1 Axes>"
      ]
     },
     "metadata": {
      "needs_background": "light"
     },
     "output_type": "display_data"
    },
    {
     "data": {
      "image/png": "[encoded data removed]",
      "text/plain": [
       "<Figure size 1080x360 with 1 Axes>"
      ]
     },
     "metadata": {
      "needs_background": "light"
     },
     "output_type": "display_data"
    }
   ],
   "source": [
    "plt.figure(figsize = (15,5))\n",
    "sns.violinplot(data=df, x='price', scale='count')\n",
    "plt.xlim(df['price'].min(),df['price'].quantile(0.5))\n",
    "plt.show()\n",
    "plt.figure(figsize = (15,5))\n",
    "sns.violinplot(data=df, x='price', scale='count')\n",
    "plt.xlim(df['price'].quantile(0.5),df['price'].max())\n",
    "plt.show()"
   ]
  },
  {
   "cell_type": "markdown",
   "metadata": {},
   "source": [
    "<font color='DarkBlue'> \n",
    "📌 Как можно определить из графиков, сомнительными является значения, близкие к нулевым <br> \n",
    "</font> "
   ]
  },
  {
   "cell_type": "code",
   "execution_count": 12,
   "metadata": {},
   "outputs": [
    {
     "data": {
      "text/html": [
       "<div>\n",
       "<style scoped>\n",
       "    .dataframe tbody tr th:only-of-type {\n",
       "        vertical-align: middle;\n",
       "    }\n",
       "\n",
       "    .dataframe tbody tr th {\n",
       "        vertical-align: top;\n",
       "    }\n",
       "\n",
       "    .dataframe thead th {\n",
       "        text-align: right;\n",
       "    }\n",
       "</style>\n",
       "<table border=\"1\" class=\"dataframe\">\n",
       "  <thead>\n",
       "    <tr style=\"text-align: right;\">\n",
       "      <th></th>\n",
       "      <th>price</th>\n",
       "      <th>vehicle_type</th>\n",
       "      <th>registration_year</th>\n",
       "      <th>gearbox</th>\n",
       "      <th>power</th>\n",
       "      <th>model</th>\n",
       "      <th>kilometer</th>\n",
       "      <th>fuel_type</th>\n",
       "      <th>brand</th>\n",
       "      <th>not_repaired</th>\n",
       "    </tr>\n",
       "  </thead>\n",
       "  <tbody>\n",
       "    <tr>\n",
       "      <th>40</th>\n",
       "      <td>0</td>\n",
       "      <td>NaN</td>\n",
       "      <td>1990</td>\n",
       "      <td>NaN</td>\n",
       "      <td>0</td>\n",
       "      <td>corsa</td>\n",
       "      <td>150000</td>\n",
       "      <td>petrol</td>\n",
       "      <td>opel</td>\n",
       "      <td>NaN</td>\n",
       "    </tr>\n",
       "    <tr>\n",
       "      <th>111</th>\n",
       "      <td>0</td>\n",
       "      <td>NaN</td>\n",
       "      <td>2017</td>\n",
       "      <td>manual</td>\n",
       "      <td>0</td>\n",
       "      <td>golf</td>\n",
       "      <td>5000</td>\n",
       "      <td>petrol</td>\n",
       "      <td>volkswagen</td>\n",
       "      <td>NaN</td>\n",
       "    </tr>\n",
       "    <tr>\n",
       "      <th>152</th>\n",
       "      <td>0</td>\n",
       "      <td>bus</td>\n",
       "      <td>2004</td>\n",
       "      <td>manual</td>\n",
       "      <td>101</td>\n",
       "      <td>meriva</td>\n",
       "      <td>150000</td>\n",
       "      <td>lpg</td>\n",
       "      <td>opel</td>\n",
       "      <td>yes</td>\n",
       "    </tr>\n",
       "    <tr>\n",
       "      <th>231</th>\n",
       "      <td>0</td>\n",
       "      <td>wagon</td>\n",
       "      <td>2001</td>\n",
       "      <td>manual</td>\n",
       "      <td>115</td>\n",
       "      <td>mondeo</td>\n",
       "      <td>150000</td>\n",
       "      <td>NaN</td>\n",
       "      <td>ford</td>\n",
       "      <td>NaN</td>\n",
       "    </tr>\n",
       "    <tr>\n",
       "      <th>334</th>\n",
       "      <td>0</td>\n",
       "      <td>NaN</td>\n",
       "      <td>2005</td>\n",
       "      <td>NaN</td>\n",
       "      <td>0</td>\n",
       "      <td>polo</td>\n",
       "      <td>150000</td>\n",
       "      <td>petrol</td>\n",
       "      <td>volkswagen</td>\n",
       "      <td>NaN</td>\n",
       "    </tr>\n",
       "    <tr>\n",
       "      <th>...</th>\n",
       "      <td>...</td>\n",
       "      <td>...</td>\n",
       "      <td>...</td>\n",
       "      <td>...</td>\n",
       "      <td>...</td>\n",
       "      <td>...</td>\n",
       "      <td>...</td>\n",
       "      <td>...</td>\n",
       "      <td>...</td>\n",
       "      <td>...</td>\n",
       "    </tr>\n",
       "    <tr>\n",
       "      <th>354201</th>\n",
       "      <td>0</td>\n",
       "      <td>NaN</td>\n",
       "      <td>2000</td>\n",
       "      <td>manual</td>\n",
       "      <td>65</td>\n",
       "      <td>corsa</td>\n",
       "      <td>150000</td>\n",
       "      <td>NaN</td>\n",
       "      <td>opel</td>\n",
       "      <td>yes</td>\n",
       "    </tr>\n",
       "    <tr>\n",
       "      <th>354234</th>\n",
       "      <td>0</td>\n",
       "      <td>small</td>\n",
       "      <td>2002</td>\n",
       "      <td>manual</td>\n",
       "      <td>60</td>\n",
       "      <td>fiesta</td>\n",
       "      <td>150000</td>\n",
       "      <td>petrol</td>\n",
       "      <td>ford</td>\n",
       "      <td>NaN</td>\n",
       "    </tr>\n",
       "    <tr>\n",
       "      <th>354244</th>\n",
       "      <td>0</td>\n",
       "      <td>small</td>\n",
       "      <td>1999</td>\n",
       "      <td>manual</td>\n",
       "      <td>53</td>\n",
       "      <td>swift</td>\n",
       "      <td>150000</td>\n",
       "      <td>petrol</td>\n",
       "      <td>suzuki</td>\n",
       "      <td>NaN</td>\n",
       "    </tr>\n",
       "    <tr>\n",
       "      <th>354273</th>\n",
       "      <td>0</td>\n",
       "      <td>small</td>\n",
       "      <td>1999</td>\n",
       "      <td>manual</td>\n",
       "      <td>37</td>\n",
       "      <td>arosa</td>\n",
       "      <td>150000</td>\n",
       "      <td>petrol</td>\n",
       "      <td>seat</td>\n",
       "      <td>yes</td>\n",
       "    </tr>\n",
       "    <tr>\n",
       "      <th>354360</th>\n",
       "      <td>0</td>\n",
       "      <td>NaN</td>\n",
       "      <td>2005</td>\n",
       "      <td>manual</td>\n",
       "      <td>0</td>\n",
       "      <td>colt</td>\n",
       "      <td>150000</td>\n",
       "      <td>petrol</td>\n",
       "      <td>mitsubishi</td>\n",
       "      <td>yes</td>\n",
       "    </tr>\n",
       "  </tbody>\n",
       "</table>\n",
       "<p>7874 rows × 10 columns</p>\n",
       "</div>"
      ],
      "text/plain": [
       "        price vehicle_type  registration_year gearbox  power   model  \\\n",
       "40          0          NaN               1990     NaN      0   corsa   \n",
       "111         0          NaN               2017  manual      0    golf   \n",
       "152         0          bus               2004  manual    101  meriva   \n",
       "231         0        wagon               2001  manual    115  mondeo   \n",
       "334         0          NaN               2005     NaN      0    polo   \n",
       "...       ...          ...                ...     ...    ...     ...   \n",
       "354201      0          NaN               2000  manual     65   corsa   \n",
       "354234      0        small               2002  manual     60  fiesta   \n",
       "354244      0        small               1999  manual     53   swift   \n",
       "354273      0        small               1999  manual     37   arosa   \n",
       "354360      0          NaN               2005  manual      0    colt   \n",
       "\n",
       "        kilometer fuel_type       brand not_repaired  \n",
       "40         150000    petrol        opel          NaN  \n",
       "111          5000    petrol  volkswagen          NaN  \n",
       "152        150000       lpg        opel          yes  \n",
       "231        150000       NaN        ford          NaN  \n",
       "334        150000    petrol  volkswagen          NaN  \n",
       "...           ...       ...         ...          ...  \n",
       "354201     150000       NaN        opel          yes  \n",
       "354234     150000    petrol        ford          NaN  \n",
       "354244     150000    petrol      suzuki          NaN  \n",
       "354273     150000    petrol        seat          yes  \n",
       "354360     150000    petrol  mitsubishi          yes  \n",
       "\n",
       "[7874 rows x 10 columns]"
      ]
     },
     "metadata": {},
     "output_type": "display_data"
    },
    {
     "name": "stdout",
     "output_type": "stream",
     "text": [
      "1 процентиль: 0.0\n",
      "2 процентиль: 0.0\n",
      "3 процентиль: 60.0\n",
      "4 процентиль: 160.0\n",
      "5 процентиль: 250.0\n"
     ]
    }
   ],
   "source": [
    "display(df[df['price'] == 0])\n",
    "print('1 процентиль:', df['price'].quantile(0.01)) \n",
    "print('2 процентиль:', df['price'].quantile(0.02))\n",
    "print('3 процентиль:', df['price'].quantile(0.03))\n",
    "print('4 процентиль:', df['price'].quantile(0.04))\n",
    "print('5 процентиль:', df['price'].quantile(0.05))"
   ]
  },
  {
   "cell_type": "markdown",
   "metadata": {},
   "source": [
    "<font color='DarkBlue'> \n",
    "📌 Можно обозначить значения, соответствующим наименьшим 3 процентилям выборки, как NaN для корректного их определения в дальнейшем и использования соответствующих объектов в качестве тестовой выборки. Также можно определить количество обозначенных записей с использованием поля, не имеющего пропусков и аномалий <br> \n",
    "</font> "
   ]
  },
  {
   "cell_type": "code",
   "execution_count": 13,
   "metadata": {},
   "outputs": [
    {
     "name": "stdout",
     "output_type": "stream",
     "text": [
      "Количество элементов в тестовой выборке: 9277\n"
     ]
    }
   ],
   "source": [
    "df.loc[df['price'] <= 50, 'price'] = np.NaN\n",
    "print('Количество элементов в тестовой выборке:', df.loc[df['price'].isna(), 'brand'].count())"
   ]
  },
  {
   "cell_type": "markdown",
   "metadata": {},
   "source": [
    "<font color='DarkBlue'> \n",
    "📌 Необходимо заменить аномальные значения на NaN поля 'registration_year' для их последующего преобразования, определить их количество и для определения достоверности результата выполненной операции построить гистограмму распределения <br> \n",
    "</font> "
   ]
  },
  {
   "cell_type": "code",
   "execution_count": 14,
   "metadata": {},
   "outputs": [
    {
     "name": "stdout",
     "output_type": "stream",
     "text": [
      "Количество отсутствующих значений в поле 'registration_year': 78\n"
     ]
    },
    {
     "data": {
      "image/png": "[encoded data removed]",
      "text/plain": [
       "<Figure size 1080x360 with 1 Axes>"
      ]
     },
     "metadata": {
      "needs_background": "light"
     },
     "output_type": "display_data"
    }
   ],
   "source": [
    "df.loc[(df['registration_year'] < 1900) | (df['registration_year'] > 2022), 'registration_year'] = np.NaN\n",
    "print('Количество отсутствующих значений в поле \\'registration_year\\':', df[df['registration_year'].isna()]['brand'].count())\n",
    "df['registration_year'].hist(figsize=(15,5))\n",
    "plt.show()"
   ]
  },
  {
   "cell_type": "markdown",
   "metadata": {},
   "source": [
    "<font color='DarkBlue'> \n",
    "📌 Значения, указанные на графике соответствуют действительно возможным значениям <br> \n",
    "📌 Далее необходимо рассмотреть аномальные значения поля 'power' <br>     \n",
    "</font> "
   ]
  },
  {
   "cell_type": "code",
   "execution_count": 15,
   "metadata": {},
   "outputs": [
    {
     "data": {
      "text/html": [
       "<div>\n",
       "<style scoped>\n",
       "    .dataframe tbody tr th:only-of-type {\n",
       "        vertical-align: middle;\n",
       "    }\n",
       "\n",
       "    .dataframe tbody tr th {\n",
       "        vertical-align: top;\n",
       "    }\n",
       "\n",
       "    .dataframe thead th {\n",
       "        text-align: right;\n",
       "    }\n",
       "</style>\n",
       "<table border=\"1\" class=\"dataframe\">\n",
       "  <thead>\n",
       "    <tr style=\"text-align: right;\">\n",
       "      <th></th>\n",
       "      <th>price</th>\n",
       "      <th>vehicle_type</th>\n",
       "      <th>registration_year</th>\n",
       "      <th>gearbox</th>\n",
       "      <th>power</th>\n",
       "      <th>model</th>\n",
       "      <th>kilometer</th>\n",
       "      <th>fuel_type</th>\n",
       "      <th>brand</th>\n",
       "      <th>not_repaired</th>\n",
       "    </tr>\n",
       "  </thead>\n",
       "  <tbody>\n",
       "    <tr>\n",
       "      <th>0</th>\n",
       "      <td>480.0</td>\n",
       "      <td>NaN</td>\n",
       "      <td>1993.0</td>\n",
       "      <td>manual</td>\n",
       "      <td>0</td>\n",
       "      <td>golf</td>\n",
       "      <td>150000</td>\n",
       "      <td>petrol</td>\n",
       "      <td>volkswagen</td>\n",
       "      <td>NaN</td>\n",
       "    </tr>\n",
       "    <tr>\n",
       "      <th>266610</th>\n",
       "      <td>3500.0</td>\n",
       "      <td>wagon</td>\n",
       "      <td>2004.0</td>\n",
       "      <td>manual</td>\n",
       "      <td>0</td>\n",
       "      <td>megane</td>\n",
       "      <td>150000</td>\n",
       "      <td>petrol</td>\n",
       "      <td>renault</td>\n",
       "      <td>no</td>\n",
       "    </tr>\n",
       "    <tr>\n",
       "      <th>166816</th>\n",
       "      <td>950.0</td>\n",
       "      <td>small</td>\n",
       "      <td>1999.0</td>\n",
       "      <td>NaN</td>\n",
       "      <td>0</td>\n",
       "      <td>focus</td>\n",
       "      <td>150000</td>\n",
       "      <td>petrol</td>\n",
       "      <td>ford</td>\n",
       "      <td>NaN</td>\n",
       "    </tr>\n",
       "    <tr>\n",
       "      <th>266628</th>\n",
       "      <td>449.0</td>\n",
       "      <td>NaN</td>\n",
       "      <td>2016.0</td>\n",
       "      <td>NaN</td>\n",
       "      <td>0</td>\n",
       "      <td>ka</td>\n",
       "      <td>150000</td>\n",
       "      <td>NaN</td>\n",
       "      <td>ford</td>\n",
       "      <td>NaN</td>\n",
       "    </tr>\n",
       "    <tr>\n",
       "      <th>166808</th>\n",
       "      <td>3000.0</td>\n",
       "      <td>NaN</td>\n",
       "      <td>1990.0</td>\n",
       "      <td>NaN</td>\n",
       "      <td>0</td>\n",
       "      <td>80</td>\n",
       "      <td>5000</td>\n",
       "      <td>NaN</td>\n",
       "      <td>audi</td>\n",
       "      <td>NaN</td>\n",
       "    </tr>\n",
       "    <tr>\n",
       "      <th>...</th>\n",
       "      <td>...</td>\n",
       "      <td>...</td>\n",
       "      <td>...</td>\n",
       "      <td>...</td>\n",
       "      <td>...</td>\n",
       "      <td>...</td>\n",
       "      <td>...</td>\n",
       "      <td>...</td>\n",
       "      <td>...</td>\n",
       "      <td>...</td>\n",
       "    </tr>\n",
       "    <tr>\n",
       "      <th>63986</th>\n",
       "      <td>3250.0</td>\n",
       "      <td>sedan</td>\n",
       "      <td>2001.0</td>\n",
       "      <td>auto</td>\n",
       "      <td>17932</td>\n",
       "      <td>omega</td>\n",
       "      <td>150000</td>\n",
       "      <td>petrol</td>\n",
       "      <td>opel</td>\n",
       "      <td>NaN</td>\n",
       "    </tr>\n",
       "    <tr>\n",
       "      <th>132485</th>\n",
       "      <td>2100.0</td>\n",
       "      <td>wagon</td>\n",
       "      <td>2001.0</td>\n",
       "      <td>manual</td>\n",
       "      <td>19208</td>\n",
       "      <td>5er</td>\n",
       "      <td>150000</td>\n",
       "      <td>NaN</td>\n",
       "      <td>bmw</td>\n",
       "      <td>yes</td>\n",
       "    </tr>\n",
       "    <tr>\n",
       "      <th>114106</th>\n",
       "      <td>9999.0</td>\n",
       "      <td>sedan</td>\n",
       "      <td>2006.0</td>\n",
       "      <td>manual</td>\n",
       "      <td>19211</td>\n",
       "      <td>1er</td>\n",
       "      <td>125000</td>\n",
       "      <td>petrol</td>\n",
       "      <td>bmw</td>\n",
       "      <td>NaN</td>\n",
       "    </tr>\n",
       "    <tr>\n",
       "      <th>299177</th>\n",
       "      <td>1500.0</td>\n",
       "      <td>wagon</td>\n",
       "      <td>1997.0</td>\n",
       "      <td>manual</td>\n",
       "      <td>19312</td>\n",
       "      <td>5er</td>\n",
       "      <td>150000</td>\n",
       "      <td>NaN</td>\n",
       "      <td>bmw</td>\n",
       "      <td>no</td>\n",
       "    </tr>\n",
       "    <tr>\n",
       "      <th>219583</th>\n",
       "      <td>4300.0</td>\n",
       "      <td>coupe</td>\n",
       "      <td>1999.0</td>\n",
       "      <td>auto</td>\n",
       "      <td>20000</td>\n",
       "      <td>clk</td>\n",
       "      <td>150000</td>\n",
       "      <td>petrol</td>\n",
       "      <td>mercedes_benz</td>\n",
       "      <td>no</td>\n",
       "    </tr>\n",
       "  </tbody>\n",
       "</table>\n",
       "<p>310240 rows × 10 columns</p>\n",
       "</div>"
      ],
      "text/plain": [
       "         price vehicle_type  registration_year gearbox  power   model  \\\n",
       "0        480.0          NaN             1993.0  manual      0    golf   \n",
       "266610  3500.0        wagon             2004.0  manual      0  megane   \n",
       "166816   950.0        small             1999.0     NaN      0   focus   \n",
       "266628   449.0          NaN             2016.0     NaN      0      ka   \n",
       "166808  3000.0          NaN             1990.0     NaN      0      80   \n",
       "...        ...          ...                ...     ...    ...     ...   \n",
       "63986   3250.0        sedan             2001.0    auto  17932   omega   \n",
       "132485  2100.0        wagon             2001.0  manual  19208     5er   \n",
       "114106  9999.0        sedan             2006.0  manual  19211     1er   \n",
       "299177  1500.0        wagon             1997.0  manual  19312     5er   \n",
       "219583  4300.0        coupe             1999.0    auto  20000     clk   \n",
       "\n",
       "        kilometer fuel_type          brand not_repaired  \n",
       "0          150000    petrol     volkswagen          NaN  \n",
       "266610     150000    petrol        renault           no  \n",
       "166816     150000    petrol           ford          NaN  \n",
       "266628     150000       NaN           ford          NaN  \n",
       "166808       5000       NaN           audi          NaN  \n",
       "...           ...       ...            ...          ...  \n",
       "63986      150000    petrol           opel          NaN  \n",
       "132485     150000       NaN            bmw          yes  \n",
       "114106     125000    petrol            bmw          NaN  \n",
       "299177     150000       NaN            bmw           no  \n",
       "219583     150000    petrol  mercedes_benz           no  \n",
       "\n",
       "[310240 rows x 10 columns]"
      ]
     },
     "execution_count": 15,
     "metadata": {},
     "output_type": "execute_result"
    }
   ],
   "source": [
    "df.sort_values('power')"
   ]
  },
  {
   "cell_type": "markdown",
   "metadata": {},
   "source": [
    "<font color='DarkBlue'> \n",
    "📌 Необходимо обезличить аномальные значения рассматриваемого поля и построить гистограмму для анализа результатов <br> \n",
    "📌 Далее необходимо рассмотреть аномальные значения поля 'power' <br>     \n",
    "</font> "
   ]
  },
  {
   "cell_type": "code",
   "execution_count": 16,
   "metadata": {},
   "outputs": [
    {
     "name": "stdout",
     "output_type": "stream",
     "text": [
      "Количество отсутствующих значений в поле 'power': 30861\n"
     ]
    },
    {
     "data": {
      "image/png": "[encoded data removed]",
      "text/plain": [
       "<Figure size 1080x360 with 1 Axes>"
      ]
     },
     "metadata": {
      "needs_background": "light"
     },
     "output_type": "display_data"
    }
   ],
   "source": [
    "df.loc[(df['power'] == 0) | (df['power'] > 2000), 'power'] = np.NaN\n",
    "print('Количество отсутствующих значений в поле \\'power\\':', df[df['power'].isna()]['brand'].count())\n",
    "df['power'].hist(figsize=(15,5))\n",
    "plt.show()"
   ]
  },
  {
   "cell_type": "markdown",
   "metadata": {},
   "source": [
    "<font color='DarkBlue'> \n",
    "📌 Для полноценной интерпретации результатов можно построить более детальные графики <br> \n",
    "</font> "
   ]
  },
  {
   "cell_type": "code",
   "execution_count": 17,
   "metadata": {},
   "outputs": [
    {
     "data": {
      "image/png": "[encoded data removed]",
      "text/plain": [
       "<Figure size 1080x360 with 1 Axes>"
      ]
     },
     "metadata": {
      "needs_background": "light"
     },
     "output_type": "display_data"
    },
    {
     "data": {
      "image/png": "[encoded data removed]",
      "text/plain": [
       "<Figure size 1080x360 with 1 Axes>"
      ]
     },
     "metadata": {
      "needs_background": "light"
     },
     "output_type": "display_data"
    }
   ],
   "source": [
    "plt.figure(figsize = (15,5))\n",
    "sns.violinplot(data=df, x='power', scale='count')\n",
    "plt.xlim(df['power'].min(),df['power'].quantile(0.5))\n",
    "plt.show()\n",
    "plt.figure(figsize = (15,5))\n",
    "sns.violinplot(data=df, x='power', scale='count')\n",
    "plt.xlim(df['power'].quantile(0.5),df['power'].max())\n",
    "plt.show()"
   ]
  },
  {
   "cell_type": "markdown",
   "metadata": {},
   "source": [
    "<font color='DarkBlue'> \n",
    "📌 Теперь можно выделить явные граница и заменить выделяющиеся значения на NaN <br> \n",
    "</font> "
   ]
  },
  {
   "cell_type": "code",
   "execution_count": 18,
   "metadata": {},
   "outputs": [
    {
     "name": "stdout",
     "output_type": "stream",
     "text": [
      "Количество отсутствующих значений в поле 'power': 33898\n"
     ]
    },
    {
     "data": {
      "image/png": "[encoded data removed]",
      "text/plain": [
       "<Figure size 1080x360 with 1 Axes>"
      ]
     },
     "metadata": {
      "needs_background": "light"
     },
     "output_type": "display_data"
    }
   ],
   "source": [
    "df.loc[(df['power'] <= 30) | (df['power'] > 300), 'power'] = np.NaN\n",
    "print('Количество отсутствующих значений в поле \\'power\\':', df[df['power'].isna()]['brand'].count())\n",
    "df['power'].hist(figsize=(15,5))\n",
    "plt.show()"
   ]
  },
  {
   "cell_type": "markdown",
   "metadata": {},
   "source": [
    "<font color='DarkBlue'> \n",
    "📌 В соответствии с обозначенными ранее выводами, оптимальным решением является необходимость заменить пропуски в поле 'not_repaired' на наиболее часто встречающееся значение <br> \n",
    "</font> "
   ]
  },
  {
   "cell_type": "code",
   "execution_count": 19,
   "metadata": {},
   "outputs": [],
   "source": [
    "df.loc[df['not_repaired'].isna(), 'not_repaired'] = df['not_repaired'].value_counts().index[0]"
   ]
  },
  {
   "cell_type": "markdown",
   "metadata": {},
   "source": [
    "<font color='DarkBlue'> \n",
    "📌 Далее нужно заполнить отсутствующие значения полей 'gearbox', 'registration_year', 'vehicle_type', 'fuel_type', 'power' наиболее часто встречающимися или усредненными в соответствии с маркой автомобиля <br> \n",
    "📌 Можно представить сгруппированную таблицу в соответствующем виде <br>     \n",
    "</font> "
   ]
  },
  {
   "cell_type": "code",
   "execution_count": 20,
   "metadata": {},
   "outputs": [
    {
     "data": {
      "text/html": [
       "<div>\n",
       "<style scoped>\n",
       "    .dataframe tbody tr th:only-of-type {\n",
       "        vertical-align: middle;\n",
       "    }\n",
       "\n",
       "    .dataframe tbody tr th {\n",
       "        vertical-align: top;\n",
       "    }\n",
       "\n",
       "    .dataframe thead th {\n",
       "        text-align: right;\n",
       "    }\n",
       "</style>\n",
       "<table border=\"1\" class=\"dataframe\">\n",
       "  <thead>\n",
       "    <tr style=\"text-align: right;\">\n",
       "      <th></th>\n",
       "      <th></th>\n",
       "      <th>price</th>\n",
       "      <th>vehicle_type</th>\n",
       "      <th>registration_year</th>\n",
       "      <th>gearbox</th>\n",
       "      <th>power</th>\n",
       "      <th>kilometer</th>\n",
       "      <th>fuel_type</th>\n",
       "      <th>not_repaired</th>\n",
       "    </tr>\n",
       "    <tr>\n",
       "      <th>brand</th>\n",
       "      <th>model</th>\n",
       "      <th></th>\n",
       "      <th></th>\n",
       "      <th></th>\n",
       "      <th></th>\n",
       "      <th></th>\n",
       "      <th></th>\n",
       "      <th></th>\n",
       "      <th></th>\n",
       "    </tr>\n",
       "  </thead>\n",
       "  <tbody>\n",
       "    <tr>\n",
       "      <th rowspan=\"5\" valign=\"top\">alfa_romeo</th>\n",
       "      <th>145</th>\n",
       "      <td>45</td>\n",
       "      <td>35</td>\n",
       "      <td>49</td>\n",
       "      <td>40</td>\n",
       "      <td>38</td>\n",
       "      <td>49</td>\n",
       "      <td>44</td>\n",
       "      <td>49</td>\n",
       "    </tr>\n",
       "    <tr>\n",
       "      <th>147</th>\n",
       "      <td>561</td>\n",
       "      <td>492</td>\n",
       "      <td>572</td>\n",
       "      <td>549</td>\n",
       "      <td>532</td>\n",
       "      <td>572</td>\n",
       "      <td>541</td>\n",
       "      <td>572</td>\n",
       "    </tr>\n",
       "    <tr>\n",
       "      <th>156</th>\n",
       "      <td>594</td>\n",
       "      <td>581</td>\n",
       "      <td>627</td>\n",
       "      <td>601</td>\n",
       "      <td>571</td>\n",
       "      <td>629</td>\n",
       "      <td>570</td>\n",
       "      <td>629</td>\n",
       "    </tr>\n",
       "    <tr>\n",
       "      <th>159</th>\n",
       "      <td>208</td>\n",
       "      <td>200</td>\n",
       "      <td>212</td>\n",
       "      <td>209</td>\n",
       "      <td>202</td>\n",
       "      <td>212</td>\n",
       "      <td>198</td>\n",
       "      <td>212</td>\n",
       "    </tr>\n",
       "    <tr>\n",
       "      <th>spider</th>\n",
       "      <td>188</td>\n",
       "      <td>181</td>\n",
       "      <td>194</td>\n",
       "      <td>176</td>\n",
       "      <td>170</td>\n",
       "      <td>194</td>\n",
       "      <td>180</td>\n",
       "      <td>194</td>\n",
       "    </tr>\n",
       "    <tr>\n",
       "      <th>...</th>\n",
       "      <th>...</th>\n",
       "      <td>...</td>\n",
       "      <td>...</td>\n",
       "      <td>...</td>\n",
       "      <td>...</td>\n",
       "      <td>...</td>\n",
       "      <td>...</td>\n",
       "      <td>...</td>\n",
       "      <td>...</td>\n",
       "    </tr>\n",
       "    <tr>\n",
       "      <th rowspan=\"5\" valign=\"top\">volvo</th>\n",
       "      <th>v40</th>\n",
       "      <td>743</td>\n",
       "      <td>707</td>\n",
       "      <td>775</td>\n",
       "      <td>750</td>\n",
       "      <td>676</td>\n",
       "      <td>775</td>\n",
       "      <td>694</td>\n",
       "      <td>775</td>\n",
       "    </tr>\n",
       "    <tr>\n",
       "      <th>v50</th>\n",
       "      <td>252</td>\n",
       "      <td>244</td>\n",
       "      <td>255</td>\n",
       "      <td>252</td>\n",
       "      <td>247</td>\n",
       "      <td>255</td>\n",
       "      <td>245</td>\n",
       "      <td>255</td>\n",
       "    </tr>\n",
       "    <tr>\n",
       "      <th>v60</th>\n",
       "      <td>42</td>\n",
       "      <td>41</td>\n",
       "      <td>42</td>\n",
       "      <td>40</td>\n",
       "      <td>40</td>\n",
       "      <td>42</td>\n",
       "      <td>41</td>\n",
       "      <td>42</td>\n",
       "    </tr>\n",
       "    <tr>\n",
       "      <th>v70</th>\n",
       "      <td>617</td>\n",
       "      <td>609</td>\n",
       "      <td>633</td>\n",
       "      <td>610</td>\n",
       "      <td>586</td>\n",
       "      <td>633</td>\n",
       "      <td>591</td>\n",
       "      <td>633</td>\n",
       "    </tr>\n",
       "    <tr>\n",
       "      <th>xc_reihe</th>\n",
       "      <td>266</td>\n",
       "      <td>260</td>\n",
       "      <td>267</td>\n",
       "      <td>259</td>\n",
       "      <td>256</td>\n",
       "      <td>267</td>\n",
       "      <td>261</td>\n",
       "      <td>267</td>\n",
       "    </tr>\n",
       "  </tbody>\n",
       "</table>\n",
       "<p>258 rows × 8 columns</p>\n",
       "</div>"
      ],
      "text/plain": [
       "                     price  vehicle_type  registration_year  gearbox  power  \\\n",
       "brand      model                                                              \n",
       "alfa_romeo 145          45            35                 49       40     38   \n",
       "           147         561           492                572      549    532   \n",
       "           156         594           581                627      601    571   \n",
       "           159         208           200                212      209    202   \n",
       "           spider      188           181                194      176    170   \n",
       "...                    ...           ...                ...      ...    ...   \n",
       "volvo      v40         743           707                775      750    676   \n",
       "           v50         252           244                255      252    247   \n",
       "           v60          42            41                 42       40     40   \n",
       "           v70         617           609                633      610    586   \n",
       "           xc_reihe    266           260                267      259    256   \n",
       "\n",
       "                     kilometer  fuel_type  not_repaired  \n",
       "brand      model                                         \n",
       "alfa_romeo 145              49         44            49  \n",
       "           147             572        541           572  \n",
       "           156             629        570           629  \n",
       "           159             212        198           212  \n",
       "           spider          194        180           194  \n",
       "...                        ...        ...           ...  \n",
       "volvo      v40             775        694           775  \n",
       "           v50             255        245           255  \n",
       "           v60              42         41            42  \n",
       "           v70             633        591           633  \n",
       "           xc_reihe        267        261           267  \n",
       "\n",
       "[258 rows x 8 columns]"
      ]
     },
     "execution_count": 20,
     "metadata": {},
     "output_type": "execute_result"
    }
   ],
   "source": [
    "df.groupby(['brand','model']).count()"
   ]
  },
  {
   "cell_type": "markdown",
   "metadata": {},
   "source": [
    "<font color='DarkBlue'> \n",
    "📌 Для информации можно указать количество пропущенных значений для каждого из участвующих далее в обучении моделей признаков <br> \n",
    "</font> "
   ]
  },
  {
   "cell_type": "code",
   "execution_count": 21,
   "metadata": {},
   "outputs": [
    {
     "name": "stdout",
     "output_type": "stream",
     "text": [
      "vehicle_type\n",
      "28803\n",
      "registration_year\n",
      "78\n",
      "gearbox\n",
      "14306\n",
      "power\n",
      "33898\n",
      "fuel_type\n",
      "23773\n"
     ]
    }
   ],
   "source": [
    "for i in ['vehicle_type', 'registration_year', 'gearbox', 'power', 'fuel_type']:\n",
    "    print(i)\n",
    "    print(df[df[i].isna()]['brand'].count())"
   ]
  },
  {
   "cell_type": "markdown",
   "metadata": {},
   "source": [
    "<font color='DarkBlue'> \n",
    "📌 Необходимо заменить рассматриваемые значения усредненными или наиболее часто встречающимися значениями для соответствующих моделей авто <br> \n",
    "</font> "
   ]
  },
  {
   "cell_type": "code",
   "execution_count": 22,
   "metadata": {},
   "outputs": [],
   "source": [
    "for i in ['vehicle_type', 'registration_year', 'gearbox', 'power', 'fuel_type']:\n",
    "    if df[i].dtype == 'object':\n",
    "        df[i] = df[i].where(~df[i].isna(), df.groupby(['brand','model'])[i].transform(lambda x: x.value_counts().index[0]))\n",
    "    else:\n",
    "        df[i] = round(df[i].where(~df[i].isna(), df.groupby(['brand','model'])[i].transform('mean')))"
   ]
  },
  {
   "cell_type": "markdown",
   "metadata": {},
   "source": [
    "<font color='DarkBlue'> \n",
    "📌 Для достоверности полученного результата можно снова указать количество пропущенных значений рассматриваемых признаков <br> \n",
    "</font> "
   ]
  },
  {
   "cell_type": "code",
   "execution_count": 23,
   "metadata": {},
   "outputs": [
    {
     "name": "stdout",
     "output_type": "stream",
     "text": [
      "vehicle_type\n",
      "0\n",
      "registration_year\n",
      "0\n",
      "gearbox\n",
      "0\n",
      "power\n",
      "2\n",
      "fuel_type\n",
      "0\n"
     ]
    }
   ],
   "source": [
    "for i in ['vehicle_type', 'registration_year', 'gearbox', 'power', 'fuel_type']:\n",
    "    print(i)\n",
    "    print(df[df[i].isna()]['brand'].count())"
   ]
  },
  {
   "cell_type": "markdown",
   "metadata": {},
   "source": [
    "<font color='DarkBlue'> \n",
    "📌 Нужно удалть строки со значениями, которые не удалось заменить действительным по причине их отсутствия для соответствующей марки автомобиля <br> \n",
    "</font> "
   ]
  },
  {
   "cell_type": "code",
   "execution_count": 24,
   "metadata": {},
   "outputs": [
    {
     "name": "stdout",
     "output_type": "stream",
     "text": [
      "Количество отсутствующих значений: 0\n"
     ]
    },
    {
     "data": {
      "text/plain": [
       "(310238, 10)"
      ]
     },
     "execution_count": 24,
     "metadata": {},
     "output_type": "execute_result"
    }
   ],
   "source": [
    "df[df['power'].isna()]\n",
    "df = df.dropna(subset=['power'])\n",
    "print('Количество отсутствующих значений:', df[df['power'].isna()]['brand'].count())\n",
    "df.shape"
   ]
  },
  {
   "cell_type": "markdown",
   "metadata": {},
   "source": [
    "<font color='DarkBlue'> \n",
    "📌 Далее необходимо выполнить преобразование типов данных, если отсутствует необходимость в осуществлении арифметических операций между значениями датасета <br>\n",
    "</font> "
   ]
  },
  {
   "cell_type": "code",
   "execution_count": 25,
   "metadata": {},
   "outputs": [],
   "source": [
    "df['power'] = df['power'].astype('int')\n",
    "df['registration_year'] = df['registration_year'].astype('int')"
   ]
  },
  {
   "cell_type": "code",
   "execution_count": 26,
   "metadata": {},
   "outputs": [
    {
     "name": "stdout",
     "output_type": "stream",
     "text": [
      "<class 'pandas.core.frame.DataFrame'>\n",
      "Int64Index: 310238 entries, 0 to 354364\n",
      "Data columns (total 10 columns):\n",
      " #   Column             Non-Null Count   Dtype  \n",
      "---  ------             --------------   -----  \n",
      " 0   price              300962 non-null  float32\n",
      " 1   vehicle_type       310238 non-null  object \n",
      " 2   registration_year  310238 non-null  uint16 \n",
      " 3   gearbox            310238 non-null  object \n",
      " 4   power              310238 non-null  uint16 \n",
      " 5   model              310238 non-null  object \n",
      " 6   kilometer          310238 non-null  uint32 \n",
      " 7   fuel_type          310238 non-null  object \n",
      " 8   brand              310238 non-null  object \n",
      " 9   not_repaired       310238 non-null  object \n",
      "dtypes: float32(1), object(6), uint16(2), uint32(1)\n",
      "memory usage: 20.1+ MB\n"
     ]
    }
   ],
   "source": [
    "df[df.select_dtypes(include=['int']).columns] = df.select_dtypes(include=['int']).apply(pd.to_numeric,downcast='unsigned')\n",
    "df[df.select_dtypes(include=['float']).columns] = df.select_dtypes(include=['float']).apply(pd.to_numeric,downcast='float')\n",
    "df.info()"
   ]
  },
  {
   "cell_type": "markdown",
   "metadata": {},
   "source": [
    "## Обучение моделей"
   ]
  },
  {
   "cell_type": "markdown",
   "metadata": {},
   "source": [
    "<font color='DarkBlue'> \n",
    "📌 Первоначально необходимо разделить полученную после преобразований выборку на основную, которую в дальнейшем необходимо будет использовать в качестве обучающей и валидационной, и тестовую, не имеющую значения целевого признака <br> \n",
    "</font> "
   ]
  },
  {
   "cell_type": "code",
   "execution_count": 27,
   "metadata": {},
   "outputs": [
    {
     "name": "stdout",
     "output_type": "stream",
     "text": [
      "<class 'pandas.core.frame.DataFrame'>\n",
      "Int64Index: 300962 entries, 0 to 354364\n",
      "Data columns (total 10 columns):\n",
      " #   Column             Non-Null Count   Dtype  \n",
      "---  ------             --------------   -----  \n",
      " 0   price              300962 non-null  float32\n",
      " 1   vehicle_type       300962 non-null  object \n",
      " 2   registration_year  300962 non-null  uint16 \n",
      " 3   gearbox            300962 non-null  object \n",
      " 4   power              300962 non-null  uint16 \n",
      " 5   model              300962 non-null  object \n",
      " 6   kilometer          300962 non-null  uint32 \n",
      " 7   fuel_type          300962 non-null  object \n",
      " 8   brand              300962 non-null  object \n",
      " 9   not_repaired       300962 non-null  object \n",
      "dtypes: float32(1), object(6), uint16(2), uint32(1)\n",
      "memory usage: 19.5+ MB\n"
     ]
    },
    {
     "data": {
      "text/html": [
       "<div>\n",
       "<style scoped>\n",
       "    .dataframe tbody tr th:only-of-type {\n",
       "        vertical-align: middle;\n",
       "    }\n",
       "\n",
       "    .dataframe tbody tr th {\n",
       "        vertical-align: top;\n",
       "    }\n",
       "\n",
       "    .dataframe thead th {\n",
       "        text-align: right;\n",
       "    }\n",
       "</style>\n",
       "<table border=\"1\" class=\"dataframe\">\n",
       "  <thead>\n",
       "    <tr style=\"text-align: right;\">\n",
       "      <th></th>\n",
       "      <th>price</th>\n",
       "      <th>vehicle_type</th>\n",
       "      <th>registration_year</th>\n",
       "      <th>gearbox</th>\n",
       "      <th>power</th>\n",
       "      <th>model</th>\n",
       "      <th>kilometer</th>\n",
       "      <th>fuel_type</th>\n",
       "      <th>brand</th>\n",
       "      <th>not_repaired</th>\n",
       "    </tr>\n",
       "  </thead>\n",
       "  <tbody>\n",
       "    <tr>\n",
       "      <th>0</th>\n",
       "      <td>480.0</td>\n",
       "      <td>sedan</td>\n",
       "      <td>1993</td>\n",
       "      <td>manual</td>\n",
       "      <td>104</td>\n",
       "      <td>golf</td>\n",
       "      <td>150000</td>\n",
       "      <td>petrol</td>\n",
       "      <td>volkswagen</td>\n",
       "      <td>no</td>\n",
       "    </tr>\n",
       "    <tr>\n",
       "      <th>2</th>\n",
       "      <td>9800.0</td>\n",
       "      <td>suv</td>\n",
       "      <td>2004</td>\n",
       "      <td>auto</td>\n",
       "      <td>163</td>\n",
       "      <td>grand</td>\n",
       "      <td>125000</td>\n",
       "      <td>petrol</td>\n",
       "      <td>jeep</td>\n",
       "      <td>no</td>\n",
       "    </tr>\n",
       "    <tr>\n",
       "      <th>3</th>\n",
       "      <td>1500.0</td>\n",
       "      <td>small</td>\n",
       "      <td>2001</td>\n",
       "      <td>manual</td>\n",
       "      <td>75</td>\n",
       "      <td>golf</td>\n",
       "      <td>150000</td>\n",
       "      <td>petrol</td>\n",
       "      <td>volkswagen</td>\n",
       "      <td>no</td>\n",
       "    </tr>\n",
       "    <tr>\n",
       "      <th>4</th>\n",
       "      <td>3600.0</td>\n",
       "      <td>small</td>\n",
       "      <td>2008</td>\n",
       "      <td>manual</td>\n",
       "      <td>69</td>\n",
       "      <td>fabia</td>\n",
       "      <td>90000</td>\n",
       "      <td>petrol</td>\n",
       "      <td>skoda</td>\n",
       "      <td>no</td>\n",
       "    </tr>\n",
       "    <tr>\n",
       "      <th>5</th>\n",
       "      <td>650.0</td>\n",
       "      <td>sedan</td>\n",
       "      <td>1995</td>\n",
       "      <td>manual</td>\n",
       "      <td>102</td>\n",
       "      <td>3er</td>\n",
       "      <td>150000</td>\n",
       "      <td>petrol</td>\n",
       "      <td>bmw</td>\n",
       "      <td>yes</td>\n",
       "    </tr>\n",
       "  </tbody>\n",
       "</table>\n",
       "</div>"
      ],
      "text/plain": [
       "    price vehicle_type  registration_year gearbox  power  model  kilometer  \\\n",
       "0   480.0        sedan               1993  manual    104   golf     150000   \n",
       "2  9800.0          suv               2004    auto    163  grand     125000   \n",
       "3  1500.0        small               2001  manual     75   golf     150000   \n",
       "4  3600.0        small               2008  manual     69  fabia      90000   \n",
       "5   650.0        sedan               1995  manual    102    3er     150000   \n",
       "\n",
       "  fuel_type       brand not_repaired  \n",
       "0    petrol  volkswagen           no  \n",
       "2    petrol        jeep           no  \n",
       "3    petrol  volkswagen           no  \n",
       "4    petrol       skoda           no  \n",
       "5    petrol         bmw          yes  "
      ]
     },
     "execution_count": 27,
     "metadata": {},
     "output_type": "execute_result"
    }
   ],
   "source": [
    "df_train = df[~df['price'].isna()]\n",
    "df_train.info()\n",
    "df_train.head()"
   ]
  },
  {
   "cell_type": "code",
   "execution_count": 28,
   "metadata": {},
   "outputs": [
    {
     "name": "stdout",
     "output_type": "stream",
     "text": [
      "<class 'pandas.core.frame.DataFrame'>\n",
      "Int64Index: 9276 entries, 40 to 354360\n",
      "Data columns (total 10 columns):\n",
      " #   Column             Non-Null Count  Dtype  \n",
      "---  ------             --------------  -----  \n",
      " 0   price              0 non-null      float32\n",
      " 1   vehicle_type       9276 non-null   object \n",
      " 2   registration_year  9276 non-null   uint16 \n",
      " 3   gearbox            9276 non-null   object \n",
      " 4   power              9276 non-null   uint16 \n",
      " 5   model              9276 non-null   object \n",
      " 6   kilometer          9276 non-null   uint32 \n",
      " 7   fuel_type          9276 non-null   object \n",
      " 8   brand              9276 non-null   object \n",
      " 9   not_repaired       9276 non-null   object \n",
      "dtypes: float32(1), object(6), uint16(2), uint32(1)\n",
      "memory usage: 616.0+ KB\n"
     ]
    },
    {
     "data": {
      "text/html": [
       "<div>\n",
       "<style scoped>\n",
       "    .dataframe tbody tr th:only-of-type {\n",
       "        vertical-align: middle;\n",
       "    }\n",
       "\n",
       "    .dataframe tbody tr th {\n",
       "        vertical-align: top;\n",
       "    }\n",
       "\n",
       "    .dataframe thead th {\n",
       "        text-align: right;\n",
       "    }\n",
       "</style>\n",
       "<table border=\"1\" class=\"dataframe\">\n",
       "  <thead>\n",
       "    <tr style=\"text-align: right;\">\n",
       "      <th></th>\n",
       "      <th>price</th>\n",
       "      <th>vehicle_type</th>\n",
       "      <th>registration_year</th>\n",
       "      <th>gearbox</th>\n",
       "      <th>power</th>\n",
       "      <th>model</th>\n",
       "      <th>kilometer</th>\n",
       "      <th>fuel_type</th>\n",
       "      <th>brand</th>\n",
       "      <th>not_repaired</th>\n",
       "    </tr>\n",
       "  </thead>\n",
       "  <tbody>\n",
       "    <tr>\n",
       "      <th>40</th>\n",
       "      <td>NaN</td>\n",
       "      <td>small</td>\n",
       "      <td>1990</td>\n",
       "      <td>manual</td>\n",
       "      <td>67</td>\n",
       "      <td>corsa</td>\n",
       "      <td>150000</td>\n",
       "      <td>petrol</td>\n",
       "      <td>opel</td>\n",
       "      <td>no</td>\n",
       "    </tr>\n",
       "    <tr>\n",
       "      <th>89</th>\n",
       "      <td>NaN</td>\n",
       "      <td>sedan</td>\n",
       "      <td>1995</td>\n",
       "      <td>manual</td>\n",
       "      <td>113</td>\n",
       "      <td>e_klasse</td>\n",
       "      <td>150000</td>\n",
       "      <td>petrol</td>\n",
       "      <td>mercedes_benz</td>\n",
       "      <td>no</td>\n",
       "    </tr>\n",
       "    <tr>\n",
       "      <th>111</th>\n",
       "      <td>NaN</td>\n",
       "      <td>sedan</td>\n",
       "      <td>2017</td>\n",
       "      <td>manual</td>\n",
       "      <td>104</td>\n",
       "      <td>golf</td>\n",
       "      <td>5000</td>\n",
       "      <td>petrol</td>\n",
       "      <td>volkswagen</td>\n",
       "      <td>no</td>\n",
       "    </tr>\n",
       "    <tr>\n",
       "      <th>152</th>\n",
       "      <td>NaN</td>\n",
       "      <td>bus</td>\n",
       "      <td>2004</td>\n",
       "      <td>manual</td>\n",
       "      <td>101</td>\n",
       "      <td>meriva</td>\n",
       "      <td>150000</td>\n",
       "      <td>lpg</td>\n",
       "      <td>opel</td>\n",
       "      <td>yes</td>\n",
       "    </tr>\n",
       "    <tr>\n",
       "      <th>231</th>\n",
       "      <td>NaN</td>\n",
       "      <td>wagon</td>\n",
       "      <td>2001</td>\n",
       "      <td>manual</td>\n",
       "      <td>115</td>\n",
       "      <td>mondeo</td>\n",
       "      <td>150000</td>\n",
       "      <td>petrol</td>\n",
       "      <td>ford</td>\n",
       "      <td>no</td>\n",
       "    </tr>\n",
       "  </tbody>\n",
       "</table>\n",
       "</div>"
      ],
      "text/plain": [
       "     price vehicle_type  registration_year gearbox  power     model  \\\n",
       "40     NaN        small               1990  manual     67     corsa   \n",
       "89     NaN        sedan               1995  manual    113  e_klasse   \n",
       "111    NaN        sedan               2017  manual    104      golf   \n",
       "152    NaN          bus               2004  manual    101    meriva   \n",
       "231    NaN        wagon               2001  manual    115    mondeo   \n",
       "\n",
       "     kilometer fuel_type          brand not_repaired  \n",
       "40      150000    petrol           opel           no  \n",
       "89      150000    petrol  mercedes_benz           no  \n",
       "111       5000    petrol     volkswagen           no  \n",
       "152     150000       lpg           opel          yes  \n",
       "231     150000    petrol           ford           no  "
      ]
     },
     "execution_count": 28,
     "metadata": {},
     "output_type": "execute_result"
    }
   ],
   "source": [
    "df_test = df[df['price'].isna()]\n",
    "df_test.info()\n",
    "df_test.head()"
   ]
  },
  {
   "cell_type": "markdown",
   "metadata": {},
   "source": [
    "<font color='DarkBlue'> \n",
    "📌 Теперь требуется определить наилучшие гиперпараметры по наименьшенму RMSE для следующих алгоритмов машинного обучения: LinearRegression, RandomForestRegressor, LGBMRegressor, CatBoostRegressor. Также необходимо проверить модели на адекватность (R2 должно быть больше 0) и переобучение <br> \n",
    "📌 Для обучения модели с использованием алгоритма LinearRegression необходимо выполнить OHE кодирование и масштабирование количественных признаков, разбиение на обучающую и валидационную выборку рекомендуется стандартно выполнить в пропорции 3 к 1 <br> \n",
    "</font> "
   ]
  },
  {
   "cell_type": "code",
   "execution_count": 29,
   "metadata": {},
   "outputs": [],
   "source": [
    "df_ohe = pd.get_dummies(df_train, drop_first=True)\n",
    "df_features = df_ohe.drop(['price'], axis=1)\n",
    "df_target = df_ohe['price']\n",
    "df_features_train, df_features_valid, df_target_train, df_target_valid = train_test_split(df_features, df_target, test_size=0.25, random_state=12345)"
   ]
  },
  {
   "cell_type": "code",
   "execution_count": 30,
   "metadata": {},
   "outputs": [],
   "source": [
    "numeric = df_features_train.select_dtypes(include=['uint16', 'uint32', 'float32']).columns\n",
    "scaler = StandardScaler()\n",
    "scaler.fit(df_features_train[numeric]) \n",
    "df_features_train[numeric] = scaler.transform(df_features_train[numeric])\n",
    "df_features_valid[numeric] = scaler.transform(df_features_valid[numeric])"
   ]
  },
  {
   "cell_type": "code",
   "execution_count": 31,
   "metadata": {
    "scrolled": false
   },
   "outputs": [
    {
     "name": "stdout",
     "output_type": "stream",
     "text": [
      "CPU times: user 14.3 s, sys: 4.54 s, total: 18.9 s\n",
      "Wall time: 18.9 s\n"
     ]
    },
    {
     "data": {
      "text/plain": [
       "LinearRegression(n_jobs=-1)"
      ]
     },
     "execution_count": 31,
     "metadata": {},
     "output_type": "execute_result"
    }
   ],
   "source": [
    "%%time\n",
    "model = LinearRegression(n_jobs=-1)  \n",
    "model.fit(df_features_train, df_target_train)"
   ]
  },
  {
   "cell_type": "code",
   "execution_count": 32,
   "metadata": {},
   "outputs": [
    {
     "name": "stdout",
     "output_type": "stream",
     "text": [
      "R2 модели на обучающей выборке: 0.6447841234951792\n",
      "R2 модели на валидационной выборке: 0.6480508364725741\n",
      "RMSE модели на валидационной выборке: 2676.9372925945213\n",
      "MAE модели на валидационной выборке: 1882.6312528242581\n",
      "Среднее значение предсказания: 4641.327080232188\n"
     ]
    },
    {
     "data": {
      "image/png": "[encoded data removed]",
      "text/plain": [
       "<Figure size 1080x360 with 1 Axes>"
      ]
     },
     "metadata": {
      "needs_background": "light"
     },
     "output_type": "display_data"
    }
   ],
   "source": [
    "df_predicted_valid = model.predict(df_features_valid)\n",
    "print('R2 модели на обучающей выборке:', model.score(df_features_train, df_target_train))\n",
    "print('R2 модели на валидационной выборке:', model.score(df_features_valid, df_target_valid))\n",
    "print('RMSE модели на валидационной выборке:', mean_squared_error(df_target_valid, df_predicted_valid) ** 0.5)\n",
    "print('MAE модели на валидационной выборке:', mean_absolute_error(df_target_valid, df_predicted_valid))\n",
    "print('Среднее значение предсказания:', df_predicted_valid.mean())\n",
    "pd.Series(df_target_valid).hist(bins=100, label='Факт', alpha=0.5, figsize = (15,5))\n",
    "pd.Series(df_predicted_valid).hist(bins=100, label='Предсказания', alpha=0.5, figsize = (15,5))\n",
    "plt.legend()\n",
    "plt.show()"
   ]
  },
  {
   "cell_type": "markdown",
   "metadata": {},
   "source": [
    "<font color='DarkBlue'> \n",
    "📌 На основе отображенной информации можно обозначить следующие выводы:  \n",
    "    \n",
    "- время обучения модели достаточно малое, следует учесть, что не осуществлялся перебор по гиперпараметрам,\n",
    "- модель не переобучена, так как коэффициенты детерминации на обучающей и валидационной выборках соотносимы и близки по значению,\n",
    "- коэффициент детерминации не достаточно высокий, но больше 0, соответстственно проверка модели на адекватность пройдена,\n",
    "- гистограммы визуально очень сильно различаются, заментна большая разница между фактическими значениями и предсказанными, для более подробного анализа необходимо изучить результаты обучения модели по исходной выборке другими алгоритмами\n",
    "    \n",
    "📌 Для обучения модели с использованием алгоритма RandomForestRegressor необходимо выполнить OE кодирование. Предполагается замена тренировочных и валидационных выборок без создания новых переменных для соответствующего типа кодирования в целях оптимизации производительности выполнения вычислительных процессов в тетради <br> \n",
    "</font> "
   ]
  },
  {
   "cell_type": "code",
   "execution_count": 33,
   "metadata": {},
   "outputs": [],
   "source": [
    "encoder = OrdinalEncoder()\n",
    "df_ordinal = pd.DataFrame(encoder.fit_transform(df_train), columns=df_train.columns)\n",
    "df_features = df_ordinal.drop('price', axis=1)\n",
    "df_target = df_train['price']\n",
    "df_features_train, df_features_valid, df_target_train, df_target_valid = train_test_split(df_features, df_target, test_size=0.25, random_state=12345)"
   ]
  },
  {
   "cell_type": "code",
   "execution_count": 34,
   "metadata": {
    "scrolled": false
   },
   "outputs": [
    {
     "name": "stdout",
     "output_type": "stream",
     "text": [
      "Лучшая модель: RandomForestRegressor(max_depth=10, n_estimators=41, n_jobs=-1)\n",
      "Параметры лучшей модели: {'n_estimators': 41, 'max_depth': 10}\n",
      "Лучшая метрика RMSE: 1867.6014524264172\n",
      "CPU times: user 3min 36s, sys: 691 ms, total: 3min 36s\n",
      "Wall time: 3min 37s\n"
     ]
    },
    {
     "data": {
      "text/plain": [
       "RandomForestRegressor(n_jobs=-1)"
      ]
     },
     "execution_count": 34,
     "metadata": {},
     "output_type": "execute_result"
    }
   ],
   "source": [
    "%%time\n",
    "model = RandomForestRegressor(n_jobs=-1)\n",
    "parameters = {'n_estimators': range (31, 51, 10), 'max_depth': range (5, 11)}\n",
    "grid = RandomizedSearchCV(model, parameters, scoring='neg_mean_squared_error', n_jobs=-1, random_state=12345, cv=3)\n",
    "grid.fit(df_features_train, df_target_train)\n",
    "print('Лучшая модель:', grid.best_estimator_)\n",
    "print('Параметры лучшей модели:', grid.best_params_)  \n",
    "print('Лучшая метрика RMSE:', abs(grid.best_score_) ** 0.5)  \n",
    "model.fit(df_features_train, df_target_train)"
   ]
  },
  {
   "cell_type": "code",
   "execution_count": 35,
   "metadata": {},
   "outputs": [
    {
     "name": "stdout",
     "output_type": "stream",
     "text": [
      "R2 модели на обучающей выборке: 0.9469886777240636\n",
      "R2 модели на валидационной выборке: 0.8775975444734301\n",
      "RMSE модели на валидационной выборке: 1578.6770461844926\n",
      "MAE модели на валидационной выборке: 957.5785223921608\n",
      "Среднее значение предсказания: 4658.44261902081\n"
     ]
    },
    {
     "data": {
      "image/png": "[encoded data removed]",
      "text/plain": [
       "<Figure size 1080x360 with 1 Axes>"
      ]
     },
     "metadata": {
      "needs_background": "light"
     },
     "output_type": "display_data"
    }
   ],
   "source": [
    "df_predicted_valid = model.predict(df_features_valid)\n",
    "print('R2 модели на обучающей выборке:', model.score(df_features_train, df_target_train))\n",
    "print('R2 модели на валидационной выборке:', model.score(df_features_valid, df_target_valid))\n",
    "print('RMSE модели на валидационной выборке:', mean_squared_error(df_target_valid, df_predicted_valid) ** 0.5)\n",
    "print('MAE модели на валидационной выборке:', mean_absolute_error(df_target_valid, df_predicted_valid))\n",
    "print('Среднее значение предсказания:', df_predicted_valid.mean())\n",
    "pd.Series(df_target_valid).hist(bins=100, label='Факт', alpha=0.5, figsize = (15,5))\n",
    "pd.Series(df_predicted_valid).hist(bins=100, label='Предсказания', alpha=0.5, figsize = (15,5))\n",
    "plt.legend()\n",
    "plt.show()"
   ]
  },
  {
   "cell_type": "markdown",
   "metadata": {},
   "source": [
    "<font color='DarkBlue'> \n",
    "📌 На основе указанной информации можно обозначить следующие выводы:  \n",
    "    \n",
    "- время обучения модели не малое, так как осуществлялся подбор наилучших гиперпараметров для обучения модели,\n",
    "- качество модели хорошее, но следует учесть, что метрики усреднены после выполнения перекрестного обучения\n",
    "- модель скорее переобучена, так как коэффициент детерминации по предсказаниям на обучающей выборке заметно больше, чем на валидационной\n",
    "- гистограммы визуально похожи по распределениям, но отсутствуют предсказания со значением стоимости около граничного, модель 'перестраховывается', полагая, что выход значений за определенную границу соответствует аномальным. Для уменьшения фактора сглаживания значений целевого признака можно снизить величину параметра 'max_depth'\n",
    "    \n",
    "📌 Для обучения модели с использованием алгоритма LGBMRegressor также необходимо использовать выборки, полученные после преобразования методом OE кодирования, так как алгоритм построен на функционале предыдущего. Алгоритм самостоятельно осуществляет масштабирование численных признаков <br> \n",
    "</font> "
   ]
  },
  {
   "cell_type": "code",
   "execution_count": 36,
   "metadata": {
    "scrolled": true
   },
   "outputs": [
    {
     "name": "stdout",
     "output_type": "stream",
     "text": [
      "Лучшая модель: LGBMRegressor(max_depth=10, n_estimators=50, num_leaves=41)\n",
      "Параметры лучшей модели: {'num_leaves': 41, 'max_depth': 10}\n",
      "Лучшая метрика RMSE: 1769.3063878516734\n",
      "CPU times: user 8min 3s, sys: 2.87 s, total: 8min 6s\n",
      "Wall time: 8min 10s\n"
     ]
    },
    {
     "data": {
      "text/plain": [
       "LGBMRegressor(max_depth=10, n_estimators=50, num_leaves=41)"
      ]
     },
     "execution_count": 36,
     "metadata": {},
     "output_type": "execute_result"
    }
   ],
   "source": [
    "%%time\n",
    "model = LGBMRegressor(n_estimators=50, n_jobs=-1)\n",
    "parameters = {'max_depth': range (5, 11), 'num_leaves': range (31, 51, 10)}\n",
    "# 'boosting_type': ['gbdt', 'rf', 'dart', 'goss']\n",
    "# 'learning_rate': 0.03\n",
    "grid = RandomizedSearchCV(model, parameters, scoring='neg_mean_squared_error', n_jobs=-1, random_state=12345, cv=3)\n",
    "grid.fit(df_features_train, df_target_train)\n",
    "print('Лучшая модель:', grid.best_estimator_)\n",
    "print('Параметры лучшей модели:', grid.best_params_)  \n",
    "print('Лучшая метрика RMSE:', abs(grid.best_score_) ** 0.5)   \n",
    "model = grid.best_estimator_\n",
    "model.fit(df_features_train, df_target_train)"
   ]
  },
  {
   "cell_type": "code",
   "execution_count": 37,
   "metadata": {},
   "outputs": [
    {
     "name": "stdout",
     "output_type": "stream",
     "text": [
      "R2 модели на обучающей выборке: 0.849957386326362\n",
      "R2 модели на валидационной выборке: 0.8505031058764352\n",
      "RMSE модели на валидационной выборке: 1744.6741013914252\n",
      "MAE модели на валидационной выборке: 1122.7694861011885\n",
      "Среднее значение предсказания: 4637.535894785118\n"
     ]
    },
    {
     "data": {
      "image/png": "[encoded data removed]",
      "text/plain": [
       "<Figure size 1080x360 with 1 Axes>"
      ]
     },
     "metadata": {
      "needs_background": "light"
     },
     "output_type": "display_data"
    }
   ],
   "source": [
    "df_predicted_valid = model.predict(df_features_valid)\n",
    "print('R2 модели на обучающей выборке:', model.score(df_features_train, df_target_train))\n",
    "print('R2 модели на валидационной выборке:', model.score(df_features_valid, df_target_valid))\n",
    "print('RMSE модели на валидационной выборке:', mean_squared_error(df_target_valid, df_predicted_valid) ** 0.5)\n",
    "print('MAE модели на валидационной выборке:', mean_absolute_error(df_target_valid, df_predicted_valid))\n",
    "print('Среднее значение предсказания:', df_predicted_valid.mean())\n",
    "pd.Series(df_target_valid).hist(bins=100, label='Факт', alpha=0.5, figsize = (15,5))\n",
    "pd.Series(df_predicted_valid).hist(bins=100, label='Предсказания', alpha=0.5, figsize = (15,5))\n",
    "plt.legend()\n",
    "plt.show()"
   ]
  },
  {
   "cell_type": "markdown",
   "metadata": {},
   "source": [
    "<font color='DarkBlue'> \n",
    "📌 На основе представленной информации можно обозначить следующие выводы:  \n",
    "    \n",
    "- время обучения модели больше, чем у остальных, так как возможно использовалось больше вариантов наборов гиперпараметров для обучения модели или более значимых,\n",
    "- качество модели достаточно хорошее, немного меньше, чем после обучения модели предыдущим алгоритмом,\n",
    "- модель не переобучена согласно указанным метрикам для обучающей и валидационной выборок\n",
    "- гистограммы визуально похожи по распределениям, но отсутствуют предсказания со значением стоимости более 17000 согласно концепции, указанной в предыдущих выводах\n",
    "    \n",
    "📌 Для обучения модели с использованием алгоритма CatBoostRegressor требуется использовать выборки без их преобразования, но с указанием категориальных. Алгоритм перед обучением модели самостоятельно осуществляет кодирование и масштабирование признаков <br> \n",
    "</font> "
   ]
  },
  {
   "cell_type": "code",
   "execution_count": 38,
   "metadata": {
    "scrolled": true
   },
   "outputs": [
    {
     "name": "stdout",
     "output_type": "stream",
     "text": [
      "Лучшая модель: <catboost.core.CatBoostRegressor object at 0x7fa5ab2271c0>\n",
      "Параметры лучшей модели: {'grow_policy': 'Depthwise', 'depth': 8}\n",
      "Лучшая метрика RMSE: 1650.4430673262639\n",
      "CPU times: user 2min 34s, sys: 1.35 s, total: 2min 35s\n",
      "Wall time: 3min 14s\n"
     ]
    },
    {
     "data": {
      "text/plain": [
       "<catboost.core.CatBoostRegressor at 0x7fa5ab2271c0>"
      ]
     },
     "execution_count": 38,
     "metadata": {},
     "output_type": "execute_result"
    }
   ],
   "source": [
    "%%time\n",
    "df_features_train, df_features_valid, df_target_train, df_target_valid = train_test_split(df_train.drop('price', axis=1), df_train.price, test_size=0.25, random_state=12345)\n",
    "cat_features = ['gearbox', 'vehicle_type', 'model', 'fuel_type','brand', 'not_repaired']\n",
    "model = CatBoostRegressor(iterations=50, loss_function='RMSE')\n",
    "parameters = {'depth': range (5, 11), 'grow_policy': ['SymmetricTree', 'Depthwise', 'Lossguide']}\n",
    "# 'bootstrap_type': ['Bayesian', 'MVS', 'Poisson', 'No']\n",
    "# 'boosting_type': ['Ordered', 'Plain']\n",
    "# 'learning_rate': 0.03\n",
    "grid = RandomizedSearchCV(model, parameters, scoring='neg_mean_squared_error', n_jobs=-1, random_state=12345, cv=3)\n",
    "grid.fit(df_features_train, df_target_train, cat_features=cat_features, verbose=0)\n",
    "print('Лучшая модель:', grid.best_estimator_)\n",
    "print('Параметры лучшей модели:', grid.best_params_)  \n",
    "print('Лучшая метрика RMSE:', abs(grid.best_score_) ** 0.5)   \n",
    "model = grid.best_estimator_\n",
    "model.fit(df_features_train, df_target_train, cat_features=cat_features, verbose=0)"
   ]
  },
  {
   "cell_type": "code",
   "execution_count": 39,
   "metadata": {},
   "outputs": [
    {
     "name": "stdout",
     "output_type": "stream",
     "text": [
      "R2 модели на обучающей выборке: 0.8857315939512003\n",
      "R2 модели на валидационной выборке: 0.869896050268228\n",
      "RMSE модели на валидационной выборке: 1627.5841823471824\n",
      "MAE модели на валидационной выборке: 1027.9404797374298\n",
      "Среднее значение предсказания: 4648.554165751449\n"
     ]
    },
    {
     "data": {
      "image/png": "[encoded data removed]",
      "text/plain": [
       "<Figure size 1080x360 with 1 Axes>"
      ]
     },
     "metadata": {
      "needs_background": "light"
     },
     "output_type": "display_data"
    }
   ],
   "source": [
    "df_predicted_valid = model.predict(df_features_valid)\n",
    "print('R2 модели на обучающей выборке:', model.score(df_features_train, df_target_train))\n",
    "print('R2 модели на валидационной выборке:', model.score(df_features_valid, df_target_valid))\n",
    "print('RMSE модели на валидационной выборке:', mean_squared_error(df_target_valid, df_predicted_valid) ** 0.5)\n",
    "print('MAE модели на валидационной выборке:', mean_absolute_error(df_target_valid, df_predicted_valid))\n",
    "print('Среднее значение предсказания:', df_predicted_valid.mean())\n",
    "pd.Series(df_target_valid).hist(bins=100, label='Факт', alpha=0.5, figsize = (15,5))\n",
    "pd.Series(df_predicted_valid).hist(bins=100, label='Предсказания', alpha=0.5, figsize = (15,5))\n",
    "plt.legend()\n",
    "plt.show()"
   ]
  },
  {
   "cell_type": "markdown",
   "metadata": {},
   "source": [
    "<font color='DarkBlue'> \n",
    "📌 На основе представленной информации можно обозначить следующие выводы:  \n",
    "    \n",
    "- время обучения модели заметно меньше, чем у предыдущей, так как возможно использовалось меньшее количество вариантов различного набора гиперпараметров для обучения модели или менее значимых,\n",
    "- качество модели хорошее, метрики похожи на полученные после обучения модели предыдущим алгоритмом\n",
    "- модель не переобучена согласно указанным метрикам для обучающей и валидационной выборок\n",
    "- графики визуально похожи по распределениям, гистограмма предсказаний целевого признака распределена на полном интервале его фактических значений, но присутствует большее количество наиболее часто встречающихся значений\n",
    "    \n",
    "📌 Все обученные модели являются адекватными, но алгоритм LinearRegression показывает заметно худшие результаты обучения согласно представленным метрикам и сравнения гистограмм распределения. Его использование в финальном определении лучшего алгоритма в соответствии с предпочтительными гиперпараметрами не является необходимым  <br> \n",
    "</font> "
   ]
  },
  {
   "cell_type": "markdown",
   "metadata": {},
   "source": [
    "## Анализ моделей"
   ]
  },
  {
   "cell_type": "markdown",
   "metadata": {},
   "source": [
    "<font color='DarkBlue'> \n",
    "📌 В первичном рассмотрении в соответствии со сравнением гистограмм распределения и отсутствием фактора переобучения LightGBM подходит больше, поэтому сначала рекомендуется рассмотреть результаты остальных алгоритмов\n",
    "📌 Для удобного представления и сравнения желательно создать таблицу с сохранением параметров обученных моделей и важных для заказчика критериев <br> \n",
    "</font> "
   ]
  },
  {
   "cell_type": "code",
   "execution_count": 58,
   "metadata": {},
   "outputs": [],
   "source": [
    "table = pd.DataFrame(columns = ['name','R2','RMSE','MAE','mean','t_train','t_predict'])"
   ]
  },
  {
   "cell_type": "markdown",
   "metadata": {},
   "source": [
    "<font color='DarkBlue'> \n",
    "📌 Следует обучить модель с использованием алгоритма CatBoostRegressor и определить время обучения и предсказания модели <br> \n",
    "</font> "
   ]
  },
  {
   "cell_type": "code",
   "execution_count": 59,
   "metadata": {},
   "outputs": [],
   "source": [
    "df_features_train, df_features_valid, df_target_train, df_target_valid = train_test_split(df_train.drop('price', axis=1), df_train.price, test_size=0.25, random_state=12345)\n",
    "cat_features = ['gearbox', 'vehicle_type', 'model', 'fuel_type','brand', 'not_repaired']"
   ]
  },
  {
   "cell_type": "code",
   "execution_count": 60,
   "metadata": {},
   "outputs": [
    {
     "name": "stdout",
     "output_type": "stream",
     "text": [
      "8997 ms\n"
     ]
    }
   ],
   "source": [
    "start_time = time.time()\n",
    "model = CatBoostRegressor(iterations=50, loss_function='RMSE', grow_policy='Depthwise', depth=8)\n",
    "model.fit(df_features_train, df_target_train, cat_features=cat_features, verbose=0)\n",
    "t_train = round((time.time() - start_time) * 1000)\n",
    "print(t_train, 'ms')"
   ]
  },
  {
   "cell_type": "code",
   "execution_count": 61,
   "metadata": {},
   "outputs": [
    {
     "name": "stdout",
     "output_type": "stream",
     "text": [
      "183 ms\n"
     ]
    }
   ],
   "source": [
    "start_time = time.time()\n",
    "df_predicted_valid = model.predict(df_features_valid)\n",
    "t_predict = round((time.time() - start_time) * 1000)\n",
    "print(t_predict, 'ms')"
   ]
  },
  {
   "cell_type": "code",
   "execution_count": 62,
   "metadata": {},
   "outputs": [
    {
     "name": "stdout",
     "output_type": "stream",
     "text": [
      "R2 модели: 0.869896050268228\n",
      "RMSE модели: 1627.5841823471824\n",
      "MAE модели: 1027.9404797374298\n",
      "Среднее значение предсказания: 4648.554165751449\n"
     ]
    },
    {
     "data": {
      "image/png": "[encoded data removed]",
      "text/plain": [
       "<Figure size 1080x360 with 1 Axes>"
      ]
     },
     "metadata": {
      "needs_background": "light"
     },
     "output_type": "display_data"
    }
   ],
   "source": [
    "print('R2 модели:', model.score(df_features_valid, df_target_valid))\n",
    "print('RMSE модели:', mean_squared_error(df_target_valid, df_predicted_valid) ** 0.5)\n",
    "print('MAE модели:', mean_absolute_error(df_target_valid, df_predicted_valid))\n",
    "print('Среднее значение предсказания:', df_predicted_valid.mean())\n",
    "pd.Series(df_target_valid).hist(bins=100, label='Факт', alpha=0.5, figsize = (15,5))\n",
    "pd.Series(df_predicted_valid).hist(bins=100, label='Предсказания', alpha=0.5, figsize = (15,5))\n",
    "plt.legend()\n",
    "plt.show()\n",
    "table = table.append({'name': 'CatBoostRegressor', 'R2': model.score(df_features_valid, df_target_valid), 'RMSE': mean_squared_error(df_target_valid, df_predicted_valid) ** 0.5, 'MAE': mean_absolute_error(df_target_valid, df_predicted_valid), 'mean': df_predicted_valid.mean(), 't_train': t_train, 't_predict': t_predict}, ignore_index=True)"
   ]
  },
  {
   "cell_type": "markdown",
   "metadata": {},
   "source": [
    "<font color='DarkBlue'> \n",
    "📌 Ранее обозначенные выводы для модели соответствуют полученным результатам\n",
    "📌 Для обучения модели следующими алгоритмами необходимо реализовать OE кодирование основных признаков\n",
    "📌 Далее нужно обучить модель с использованием алгоритма RandomForestRegressor и определить время обучения и предсказания модели <br> \n",
    "</font> "
   ]
  },
  {
   "cell_type": "code",
   "execution_count": 63,
   "metadata": {},
   "outputs": [],
   "source": [
    "encoder = OrdinalEncoder()\n",
    "df_ordinal = pd.DataFrame(encoder.fit_transform(df_train), columns=df_train.columns)\n",
    "df_features = df_ordinal.drop('price', axis=1)\n",
    "df_target = df_train['price']\n",
    "df_features_train, df_features_valid, df_target_train, df_target_valid = train_test_split(df_features, df_target, test_size=0.25, random_state=12345)"
   ]
  },
  {
   "cell_type": "code",
   "execution_count": 64,
   "metadata": {},
   "outputs": [
    {
     "name": "stdout",
     "output_type": "stream",
     "text": [
      "10929 ms\n"
     ]
    }
   ],
   "source": [
    "start_time = time.time()\n",
    "model = RandomForestRegressor(n_jobs=-1, n_estimators=41, max_depth=10)\n",
    "model.fit(df_features_train, df_target_train)\n",
    "t_train = round((time.time() - start_time) * 1000)\n",
    "print(t_train, 'ms')"
   ]
  },
  {
   "cell_type": "code",
   "execution_count": 65,
   "metadata": {},
   "outputs": [
    {
     "name": "stdout",
     "output_type": "stream",
     "text": [
      "281 ms\n"
     ]
    }
   ],
   "source": [
    "start_time = time.time()\n",
    "df_predicted_valid = model.predict(df_features_valid)\n",
    "t_predict = round((time.time() - start_time) * 1000)\n",
    "print(t_predict, 'ms')"
   ]
  },
  {
   "cell_type": "code",
   "execution_count": 66,
   "metadata": {},
   "outputs": [
    {
     "name": "stdout",
     "output_type": "stream",
     "text": [
      "R2 модели: 0.8313007901927102\n",
      "RMSE модели: 1853.338524975058\n",
      "MAE модели: 1202.1937290833296\n",
      "Среднее значение предсказания: 4637.487390691102\n"
     ]
    },
    {
     "data": {
      "image/png": "[encoded data removed]",
      "text/plain": [
       "<Figure size 1080x360 with 1 Axes>"
      ]
     },
     "metadata": {
      "needs_background": "light"
     },
     "output_type": "display_data"
    }
   ],
   "source": [
    "print('R2 модели:', model.score(df_features_valid, df_target_valid))\n",
    "print('RMSE модели:', mean_squared_error(df_target_valid, df_predicted_valid) ** 0.5)\n",
    "print('MAE модели:', mean_absolute_error(df_target_valid, df_predicted_valid))\n",
    "print('Среднее значение предсказания:', df_predicted_valid.mean())\n",
    "pd.Series(df_target_valid).hist(bins=100, label='Факт', alpha=0.5, figsize = (15,5))\n",
    "pd.Series(df_predicted_valid).hist(bins=100, label='Предсказания', alpha=0.5, figsize = (15,5))\n",
    "plt.legend()\n",
    "plt.show()\n",
    "table = table.append({'name': 'RandomForestRegressor', 'R2': model.score(df_features_valid, df_target_valid), 'RMSE': mean_squared_error(df_target_valid, df_predicted_valid) ** 0.5, 'MAE': mean_absolute_error(df_target_valid, df_predicted_valid), 'mean': df_predicted_valid.mean(), 't_train': t_train, 't_predict': t_predict}, ignore_index=True)"
   ]
  },
  {
   "cell_type": "markdown",
   "metadata": {},
   "source": [
    "<font color='DarkBlue'> \n",
    "📌 Метрики определяют худший результат по отношению к параметрам предыдущей модели, на гистограмме заметны периодически выбивающиеся интервалы наиболее частых значений целевого признака <br>\n",
    "📌 Далее нужно обучить модель с использованием алгоритма LGBMRegressor и определить время обучения и предсказания модели <br> \n",
    "</font> "
   ]
  },
  {
   "cell_type": "code",
   "execution_count": 67,
   "metadata": {},
   "outputs": [
    {
     "name": "stdout",
     "output_type": "stream",
     "text": [
      "3034 ms\n"
     ]
    }
   ],
   "source": [
    "start_time = time.time()\n",
    "model = LGBMRegressor(n_estimators=50, n_jobs=-1, num_leaves=41, max_depth=10)\n",
    "model.fit(df_features_train, df_target_train)\n",
    "t_train = round((time.time() - start_time) * 1000)\n",
    "print(t_train, 'ms')"
   ]
  },
  {
   "cell_type": "code",
   "execution_count": 68,
   "metadata": {},
   "outputs": [
    {
     "name": "stdout",
     "output_type": "stream",
     "text": [
      "303 ms\n"
     ]
    }
   ],
   "source": [
    "start_time = time.time()\n",
    "df_predicted_valid = model.predict(df_features_valid)\n",
    "t_predict = round((time.time() - start_time) * 1000)\n",
    "print(t_predict, 'ms')"
   ]
  },
  {
   "cell_type": "code",
   "execution_count": 69,
   "metadata": {},
   "outputs": [
    {
     "name": "stdout",
     "output_type": "stream",
     "text": [
      "R2 модели: 0.8505031058764352\n",
      "RMSE модели: 1744.6741013914252\n",
      "MAE модели: 1122.7694861011885\n",
      "Среднее значение предсказания: 4637.535894785118\n"
     ]
    },
    {
     "data": {
      "image/png": "[encoded data removed]",
      "text/plain": [
       "<Figure size 1080x360 with 1 Axes>"
      ]
     },
     "metadata": {
      "needs_background": "light"
     },
     "output_type": "display_data"
    }
   ],
   "source": [
    "print('R2 модели:', model.score(df_features_valid, df_target_valid))\n",
    "print('RMSE модели:', mean_squared_error(df_target_valid, df_predicted_valid) ** 0.5)\n",
    "print('MAE модели:', mean_absolute_error(df_target_valid, df_predicted_valid))\n",
    "print('Среднее значение предсказания:', df_predicted_valid.mean())\n",
    "pd.Series(df_target_valid).hist(bins=100, label='Факт', alpha=0.5, figsize = (15,5))\n",
    "pd.Series(df_predicted_valid).hist(bins=100, label='Предсказания', alpha=0.5, figsize = (15,5))\n",
    "plt.legend()\n",
    "plt.show()\n",
    "table = table.append({'name': 'LGBMRegressor', 'R2': model.score(df_features_valid, df_target_valid), 'RMSE': mean_squared_error(df_target_valid, df_predicted_valid) ** 0.5, 'MAE': mean_absolute_error(df_target_valid, df_predicted_valid), 'mean': df_predicted_valid.mean(), 't_train': t_train, 't_predict': t_predict}, ignore_index=True)"
   ]
  },
  {
   "cell_type": "markdown",
   "metadata": {},
   "source": [
    "<font color='DarkBlue'> \n",
    "📌 Ранее обозначенные выводы для модели соответствуют полученным результатам, но скорость выполнения операций заметно выше, чем при переборе гиперпараметров\n",
    "📌 Теперь можно вывести на экран таблицу для анализа параметров моделей <br> \n",
    "</font> "
   ]
  },
  {
   "cell_type": "code",
   "execution_count": 70,
   "metadata": {},
   "outputs": [
    {
     "data": {
      "text/html": [
       "<div>\n",
       "<style scoped>\n",
       "    .dataframe tbody tr th:only-of-type {\n",
       "        vertical-align: middle;\n",
       "    }\n",
       "\n",
       "    .dataframe tbody tr th {\n",
       "        vertical-align: top;\n",
       "    }\n",
       "\n",
       "    .dataframe thead th {\n",
       "        text-align: right;\n",
       "    }\n",
       "</style>\n",
       "<table border=\"1\" class=\"dataframe\">\n",
       "  <thead>\n",
       "    <tr style=\"text-align: right;\">\n",
       "      <th></th>\n",
       "      <th>name</th>\n",
       "      <th>R2</th>\n",
       "      <th>RMSE</th>\n",
       "      <th>MAE</th>\n",
       "      <th>mean</th>\n",
       "      <th>t_train</th>\n",
       "      <th>t_predict</th>\n",
       "    </tr>\n",
       "  </thead>\n",
       "  <tbody>\n",
       "    <tr>\n",
       "      <th>0</th>\n",
       "      <td>CatBoostRegressor</td>\n",
       "      <td>0.869896</td>\n",
       "      <td>1627.584182</td>\n",
       "      <td>1027.940480</td>\n",
       "      <td>4648.554166</td>\n",
       "      <td>8997</td>\n",
       "      <td>183</td>\n",
       "    </tr>\n",
       "    <tr>\n",
       "      <th>1</th>\n",
       "      <td>RandomForestRegressor</td>\n",
       "      <td>0.831301</td>\n",
       "      <td>1853.338525</td>\n",
       "      <td>1202.193729</td>\n",
       "      <td>4637.487391</td>\n",
       "      <td>10929</td>\n",
       "      <td>281</td>\n",
       "    </tr>\n",
       "    <tr>\n",
       "      <th>2</th>\n",
       "      <td>LGBMRegressor</td>\n",
       "      <td>0.850503</td>\n",
       "      <td>1744.674101</td>\n",
       "      <td>1122.769486</td>\n",
       "      <td>4637.535895</td>\n",
       "      <td>3034</td>\n",
       "      <td>303</td>\n",
       "    </tr>\n",
       "  </tbody>\n",
       "</table>\n",
       "</div>"
      ],
      "text/plain": [
       "                    name        R2         RMSE          MAE         mean  \\\n",
       "0      CatBoostRegressor  0.869896  1627.584182  1027.940480  4648.554166   \n",
       "1  RandomForestRegressor  0.831301  1853.338525  1202.193729  4637.487391   \n",
       "2          LGBMRegressor  0.850503  1744.674101  1122.769486  4637.535895   \n",
       "\n",
       "  t_train t_predict  \n",
       "0    8997       183  \n",
       "1   10929       281  \n",
       "2    3034       303  "
      ]
     },
     "execution_count": 70,
     "metadata": {},
     "output_type": "execute_result"
    }
   ],
   "source": [
    "table"
   ]
  },
  {
   "cell_type": "markdown",
   "metadata": {},
   "source": [
    "<font color='DarkBlue'> \n",
    "📌 Исходя из указанных данных можно обозначить следующие выводы:\n",
    "    \n",
    "- модель CatBoostRegressor имеет лучшее качество предсказания согласно отображаемым метрикам и меньшее время предсказания, чем определяется удобство пользования моделью, но согласно ранее представленной гистограмме модель больше необходимого предсказывает частые значения\n",
    "- модель RandomForestRegressor скорее имеет худшее качество предсказания, большое время обучени модели, что может являться критичным фактором для ввода в production, время предсказания имеет среднее значение среди представленных алгоритмов, при выборе данного алгоритма необходимо будет избавиться от фактора переобучения и сгладить график перебором гиперпараметров\n",
    "- модель LGBMRegressor имеет среднее качество предсказания среди указанных в таблице алгоритмов и меньшее время обучения, что значительно облегчает также реализацию процесса переобучения модели, гистограммы фактических значений и предсказаний наиболее точно соответствуют на общем интервале значений, но скорость предсказания значительно меньше, чем у модели CatBoostRegressor <br>\n",
    "    \n",
    "📌 Время предсказания имеет меньший приоритет, чем время обучения, так как оно очень мало и в более низкой степени влияет на удобство пользования, соответственно, в данном контексте качество имеет наибольший вес, затем скорость обучения модели и предсказания. Исходя из того, что у модели LGBMRegressor согласно метрикам модели, полученной на валидационной выборке, качетсво приблизительно такое, как у модели CatBoostRegressor, но гистограмма распределена заметно более равномерно, и скорость обучения значительно ниже, чем у других моделей, выбор ее использования в данном проекте является наиболее подходящим <br> \n",
    "📌 Требуется определить значения целевого признака на выявленной тестовой выборке. Сначала необходимо осуществить OE кодирование для признаков используемого датасета. Также можно определить время выполнения предсказания и отобразить гистограммы распределения фактических значений целевого признака валидационной выборки и предсказанных <br> \n",
    "</font> "
   ]
  },
  {
   "cell_type": "code",
   "execution_count": 71,
   "metadata": {},
   "outputs": [],
   "source": [
    "encoder = OrdinalEncoder()\n",
    "df_features_test = pd.DataFrame(encoder.fit_transform(df_test.drop('price', axis=1)), columns=df_test.drop('price', axis=1).columns)"
   ]
  },
  {
   "cell_type": "code",
   "execution_count": 72,
   "metadata": {},
   "outputs": [
    {
     "name": "stdout",
     "output_type": "stream",
     "text": [
      "CPU times: user 71.3 ms, sys: 0 ns, total: 71.3 ms\n",
      "Wall time: 39.4 ms\n"
     ]
    }
   ],
   "source": [
    "%%time\n",
    "df_predicted_test = model.predict(df_features_test)"
   ]
  },
  {
   "cell_type": "code",
   "execution_count": 73,
   "metadata": {},
   "outputs": [
    {
     "name": "stdout",
     "output_type": "stream",
     "text": [
      "Среднее значение предсказания: 2794.8331832771682\n"
     ]
    },
    {
     "data": {
      "image/png": "[encoded data removed]",
      "text/plain": [
       "<Figure size 1080x360 with 1 Axes>"
      ]
     },
     "metadata": {
      "needs_background": "light"
     },
     "output_type": "display_data"
    }
   ],
   "source": [
    "print('Среднее значение предсказания:', df_predicted_test.mean())\n",
    "pd.Series(df_target_valid).hist(bins=100, label='Факт', alpha=0.5, figsize = (15,5))\n",
    "pd.Series(df_predicted_test).hist(bins=100, label='Предсказания', alpha=0.5, figsize = (15,5))\n",
    "plt.legend()\n",
    "plt.show()"
   ]
  },
  {
   "cell_type": "markdown",
   "metadata": {},
   "source": [
    "<font color='DarkBlue'> \n",
    "📌 Согласно графику показания целевого признака распределены в похожем соотношении по всему интервалу <br> \n",
    "📌 Можно более детально подобрать наилучшие гиперпараметры для выбранной модели и при необходимости использовать в рабочем пространстве заказчика <br> \n",
    "</font> "
   ]
  },
  {
   "cell_type": "markdown",
   "metadata": {},
   "source": [
    "<font color='DarkBlue'> \n",
    "📌 На основании произведенных исследований можно сформировать следующие выводы:\n",
    "- предоставленные данные посредственного качества, заголовки не представлены в общепринятом для аналитиков формате, содержится несколько дубликатов, некоторое количество пропусков и аномалий во многих полях, присутсвуют как технические ошибки в корректности данных, например, аномальных значений для года регистрации и мощности автомобилей, их отсутствии, например, количества изображений для каждого объекта, и обязательности заполнения полей, обозначающих тип кузова, модель и вид коробки передач, так и связанные с явлением человеческого фактора, например, отличающиеся наименования для одного типа топлива, отсуствие данных по наличию ДТП, где в случае добавления битого автомобиля как объекта пользователи не указывают данный факт,\n",
    "- для более удобного использования необходимо преобразование типов данных в форматы, занимающие меньший объем памяти и заполнение пропусков некоторых столбцов усредненными или наиболее часто встречающимися значениями для соответствующих моделей авто,\n",
    "- определено, что наилучшим алгоритмом обучения модели для определения стоимости автомобилей по исходным данным будет являться LGBMRegressor в соответствии с указанными выше обоснованиями после представленной таблицы и проверено качество на тестовой выборке. Наиболее важные критерии, послужившие основой для выбора модели, представлены в порядке убывания: качество предсказания, время обучения модели, время предсказания модели\n",
    "- значение ключевой метрики RMSE согласно анализу предсказаний определения стоимости автомобилей на валидационных выборке моделей, выбранных для финального сравнения, меньше 2500\n",
    "    \n",
    "📌 Вопрос для ревьювера: какие гиперпараметры для моделей, основанных на градиентном бустинге, используются чаще всего и в каких интервалах и вариантах подлежат перебору и имеют наилучшее качество\n",
    "</font> "
   ]
  }
 ],
 "metadata": {
  "ExecuteTimeLog": [
   {
    "duration": 1772,
    "start_time": "2022-07-24T18:21:11.322Z"
   },
   {
    "duration": 3870,
    "start_time": "2022-07-24T18:21:13.261Z"
   },
   {
    "duration": 109,
    "start_time": "2022-07-24T18:27:32.617Z"
   },
   {
    "duration": 121,
    "start_time": "2022-07-24T18:29:06.821Z"
   },
   {
    "duration": 5,
    "start_time": "2022-07-24T18:29:34.286Z"
   },
   {
    "duration": 16,
    "start_time": "2022-07-24T18:29:36.973Z"
   },
   {
    "duration": 4388,
    "start_time": "2022-07-24T18:40:33.185Z"
   },
   {
    "duration": 218,
    "start_time": "2022-07-24T18:40:37.981Z"
   },
   {
    "duration": 16,
    "start_time": "2022-07-24T19:38:46.689Z"
   },
   {
    "duration": 9,
    "start_time": "2022-07-24T19:38:51.704Z"
   },
   {
    "duration": 1931,
    "start_time": "2022-07-25T16:46:07.602Z"
   },
   {
    "duration": 3492,
    "start_time": "2022-07-25T16:46:09.535Z"
   },
   {
    "duration": 149,
    "start_time": "2022-07-25T16:46:13.029Z"
   },
   {
    "duration": 17,
    "start_time": "2022-07-25T16:46:13.181Z"
   },
   {
    "duration": 4302,
    "start_time": "2022-07-25T16:46:13.201Z"
   },
   {
    "duration": 131,
    "start_time": "2022-07-25T16:46:17.504Z"
   },
   {
    "duration": 0,
    "start_time": "2022-07-25T16:46:17.637Z"
   },
   {
    "duration": 190,
    "start_time": "2022-07-25T16:46:23.253Z"
   },
   {
    "duration": 4383,
    "start_time": "2022-07-25T17:15:19.879Z"
   },
   {
    "duration": 10,
    "start_time": "2022-07-25T17:16:19.563Z"
   },
   {
    "duration": 31,
    "start_time": "2022-07-25T17:16:25.979Z"
   },
   {
    "duration": 10,
    "start_time": "2022-07-25T17:45:21.542Z"
   },
   {
    "duration": 32,
    "start_time": "2022-07-25T17:45:30.384Z"
   },
   {
    "duration": 10,
    "start_time": "2022-07-25T17:45:55.976Z"
   },
   {
    "duration": 10,
    "start_time": "2022-07-25T17:45:58.815Z"
   },
   {
    "duration": 10,
    "start_time": "2022-07-25T17:46:01.341Z"
   },
   {
    "duration": 32,
    "start_time": "2022-07-25T17:46:03.648Z"
   },
   {
    "duration": 7,
    "start_time": "2022-07-25T17:46:17.623Z"
   },
   {
    "duration": 33,
    "start_time": "2022-07-25T17:46:18.959Z"
   },
   {
    "duration": 11,
    "start_time": "2022-07-25T17:46:21.784Z"
   },
   {
    "duration": 211,
    "start_time": "2022-07-25T17:47:30.379Z"
   },
   {
    "duration": 328,
    "start_time": "2022-07-25T17:47:51.862Z"
   },
   {
    "duration": 489,
    "start_time": "2022-07-25T17:48:53.389Z"
   },
   {
    "duration": 1019,
    "start_time": "2022-07-25T17:50:39.855Z"
   },
   {
    "duration": 1453,
    "start_time": "2022-07-25T17:50:50.016Z"
   },
   {
    "duration": 331,
    "start_time": "2022-07-25T17:52:20.400Z"
   },
   {
    "duration": 202,
    "start_time": "2022-07-25T17:52:26.864Z"
   },
   {
    "duration": 550,
    "start_time": "2022-07-25T17:52:31.599Z"
   },
   {
    "duration": 43,
    "start_time": "2022-07-25T17:52:55.348Z"
   },
   {
    "duration": 624,
    "start_time": "2022-07-25T17:53:41.542Z"
   },
   {
    "duration": 1823,
    "start_time": "2022-07-25T17:53:49.874Z"
   },
   {
    "duration": 29,
    "start_time": "2022-07-25T18:00:26.746Z"
   },
   {
    "duration": 30,
    "start_time": "2022-07-25T18:00:34.741Z"
   },
   {
    "duration": 6,
    "start_time": "2022-07-25T18:01:28.894Z"
   },
   {
    "duration": 29,
    "start_time": "2022-07-25T18:01:32.651Z"
   },
   {
    "duration": 29,
    "start_time": "2022-07-25T18:01:42.172Z"
   },
   {
    "duration": 26,
    "start_time": "2022-07-25T18:01:50.143Z"
   },
   {
    "duration": 26,
    "start_time": "2022-07-25T18:01:55.626Z"
   },
   {
    "duration": 6,
    "start_time": "2022-07-25T18:02:17.664Z"
   },
   {
    "duration": 6,
    "start_time": "2022-07-25T18:02:23.547Z"
   },
   {
    "duration": 1383,
    "start_time": "2022-07-25T18:02:23.557Z"
   },
   {
    "duration": 301,
    "start_time": "2022-07-25T18:02:24.942Z"
   },
   {
    "duration": 21,
    "start_time": "2022-07-25T18:02:25.245Z"
   },
   {
    "duration": 4310,
    "start_time": "2022-07-25T18:02:25.269Z"
   },
   {
    "duration": 34,
    "start_time": "2022-07-25T18:02:29.581Z"
   },
   {
    "duration": 10,
    "start_time": "2022-07-25T18:02:37.769Z"
   },
   {
    "duration": 33,
    "start_time": "2022-07-25T18:02:41.757Z"
   },
   {
    "duration": 10,
    "start_time": "2022-07-25T18:03:10.048Z"
   },
   {
    "duration": 28,
    "start_time": "2022-07-25T18:03:16.117Z"
   },
   {
    "duration": 27,
    "start_time": "2022-07-25T18:03:38.555Z"
   },
   {
    "duration": 32,
    "start_time": "2022-07-25T18:04:01.104Z"
   },
   {
    "duration": 1819,
    "start_time": "2022-07-25T18:04:06.586Z"
   },
   {
    "duration": 1663,
    "start_time": "2022-07-25T18:04:14.821Z"
   },
   {
    "duration": 339,
    "start_time": "2022-07-25T18:05:18.606Z"
   },
   {
    "duration": 75,
    "start_time": "2022-07-25T18:06:03.675Z"
   },
   {
    "duration": 12,
    "start_time": "2022-07-25T18:06:11.253Z"
   },
   {
    "duration": 14,
    "start_time": "2022-07-25T18:06:21.971Z"
   },
   {
    "duration": 34,
    "start_time": "2022-07-25T18:06:27.517Z"
   },
   {
    "duration": 2464,
    "start_time": "2022-07-25T18:07:03.969Z"
   },
   {
    "duration": 265,
    "start_time": "2022-07-25T18:07:14.683Z"
   },
   {
    "duration": 288,
    "start_time": "2022-07-25T18:07:39.302Z"
   },
   {
    "duration": 275,
    "start_time": "2022-07-25T18:09:30.453Z"
   },
   {
    "duration": 268,
    "start_time": "2022-07-25T18:09:37.374Z"
   },
   {
    "duration": 282,
    "start_time": "2022-07-25T18:11:10.661Z"
   },
   {
    "duration": 440,
    "start_time": "2022-07-25T18:12:15.292Z"
   },
   {
    "duration": 310,
    "start_time": "2022-07-25T18:12:24.856Z"
   },
   {
    "duration": 313,
    "start_time": "2022-07-25T18:12:32.105Z"
   },
   {
    "duration": 330,
    "start_time": "2022-07-25T18:12:37.557Z"
   },
   {
    "duration": 316,
    "start_time": "2022-07-25T18:12:40.995Z"
   },
   {
    "duration": 470,
    "start_time": "2022-07-25T18:12:44.074Z"
   },
   {
    "duration": 377,
    "start_time": "2022-07-25T18:12:51.775Z"
   },
   {
    "duration": 309,
    "start_time": "2022-07-25T18:12:56.357Z"
   },
   {
    "duration": 359,
    "start_time": "2022-07-25T18:13:01.917Z"
   },
   {
    "duration": 7,
    "start_time": "2022-07-25T18:13:38.756Z"
   },
   {
    "duration": 290,
    "start_time": "2022-07-25T18:13:41.981Z"
   },
   {
    "duration": 347,
    "start_time": "2022-07-25T18:15:04.911Z"
   },
   {
    "duration": 7,
    "start_time": "2022-07-25T18:15:37.184Z"
   },
   {
    "duration": 489,
    "start_time": "2022-07-25T18:15:39.554Z"
   },
   {
    "duration": 6,
    "start_time": "2022-07-25T18:16:09.401Z"
   },
   {
    "duration": 1428,
    "start_time": "2022-07-25T18:16:09.420Z"
   },
   {
    "duration": 136,
    "start_time": "2022-07-25T18:16:10.850Z"
   },
   {
    "duration": 23,
    "start_time": "2022-07-25T18:16:10.988Z"
   },
   {
    "duration": 4236,
    "start_time": "2022-07-25T18:16:11.014Z"
   },
   {
    "duration": 549,
    "start_time": "2022-07-25T18:16:15.253Z"
   },
   {
    "duration": 29,
    "start_time": "2022-07-25T18:16:33.250Z"
   },
   {
    "duration": 28,
    "start_time": "2022-07-25T18:16:37.211Z"
   },
   {
    "duration": 28,
    "start_time": "2022-07-25T18:16:40.954Z"
   },
   {
    "duration": 6,
    "start_time": "2022-07-25T18:17:56.800Z"
   },
   {
    "duration": 6,
    "start_time": "2022-07-25T18:18:02.791Z"
   },
   {
    "duration": 20,
    "start_time": "2022-07-25T18:18:37.706Z"
   },
   {
    "duration": 17,
    "start_time": "2022-07-25T18:19:00.379Z"
   },
   {
    "duration": 15,
    "start_time": "2022-07-25T18:19:06.802Z"
   },
   {
    "duration": 10,
    "start_time": "2022-07-25T18:19:20.254Z"
   },
   {
    "duration": 11,
    "start_time": "2022-07-25T18:19:25.274Z"
   },
   {
    "duration": 6,
    "start_time": "2022-07-25T18:19:35.953Z"
   },
   {
    "duration": 7,
    "start_time": "2022-07-25T18:19:43.161Z"
   },
   {
    "duration": 19,
    "start_time": "2022-07-25T18:20:00.426Z"
   },
   {
    "duration": 20,
    "start_time": "2022-07-25T18:20:08.654Z"
   },
   {
    "duration": 17,
    "start_time": "2022-07-25T18:20:53.278Z"
   },
   {
    "duration": 18,
    "start_time": "2022-07-25T18:21:22.503Z"
   },
   {
    "duration": 128,
    "start_time": "2022-07-25T18:21:28.361Z"
   },
   {
    "duration": 17,
    "start_time": "2022-07-25T18:21:36.146Z"
   },
   {
    "duration": 17,
    "start_time": "2022-07-25T18:22:22.491Z"
   },
   {
    "duration": 17,
    "start_time": "2022-07-25T18:22:28.810Z"
   },
   {
    "duration": 18,
    "start_time": "2022-07-25T18:22:39.165Z"
   },
   {
    "duration": 5,
    "start_time": "2022-07-25T18:22:52.195Z"
   },
   {
    "duration": 42,
    "start_time": "2022-07-25T18:23:28.083Z"
   },
   {
    "duration": 23,
    "start_time": "2022-07-25T18:23:43.867Z"
   },
   {
    "duration": 23,
    "start_time": "2022-07-25T18:23:47.079Z"
   },
   {
    "duration": 34,
    "start_time": "2022-07-25T18:23:51.913Z"
   },
   {
    "duration": 108,
    "start_time": "2022-07-25T18:23:55.747Z"
   },
   {
    "duration": 10,
    "start_time": "2022-07-25T18:29:28.441Z"
   },
   {
    "duration": 34,
    "start_time": "2022-07-25T18:29:33.753Z"
   },
   {
    "duration": 5,
    "start_time": "2022-07-25T18:29:48.514Z"
   },
   {
    "duration": 6,
    "start_time": "2022-07-25T18:29:53.354Z"
   },
   {
    "duration": 18,
    "start_time": "2022-07-25T18:30:23.554Z"
   },
   {
    "duration": 8,
    "start_time": "2022-07-25T18:31:25.462Z"
   },
   {
    "duration": 10,
    "start_time": "2022-07-25T18:31:38.481Z"
   },
   {
    "duration": 47,
    "start_time": "2022-07-25T18:33:40.050Z"
   },
   {
    "duration": 13,
    "start_time": "2022-07-25T18:38:21.750Z"
   },
   {
    "duration": 14,
    "start_time": "2022-07-25T18:38:48.000Z"
   },
   {
    "duration": 13,
    "start_time": "2022-07-25T18:39:00.056Z"
   },
   {
    "duration": 4,
    "start_time": "2022-07-25T18:40:04.610Z"
   },
   {
    "duration": 4,
    "start_time": "2022-07-25T18:40:13.748Z"
   },
   {
    "duration": 1897,
    "start_time": "2022-07-25T18:40:55.675Z"
   },
   {
    "duration": 45,
    "start_time": "2022-07-25T18:41:26.046Z"
   },
   {
    "duration": 51,
    "start_time": "2022-07-25T18:46:35.156Z"
   },
   {
    "duration": 10,
    "start_time": "2022-07-25T18:46:42.706Z"
   },
   {
    "duration": 3707,
    "start_time": "2022-07-25T18:46:49.187Z"
   },
   {
    "duration": 45,
    "start_time": "2022-07-25T18:47:04.910Z"
   },
   {
    "duration": 9,
    "start_time": "2022-07-25T18:47:33.560Z"
   },
   {
    "duration": 37,
    "start_time": "2022-07-25T18:47:56.688Z"
   },
   {
    "duration": 714,
    "start_time": "2022-07-25T18:48:09.775Z"
   },
   {
    "duration": 36,
    "start_time": "2022-07-25T18:48:13.513Z"
   },
   {
    "duration": 37,
    "start_time": "2022-07-25T18:48:28.512Z"
   },
   {
    "duration": 37,
    "start_time": "2022-07-25T18:48:35.020Z"
   },
   {
    "duration": 37,
    "start_time": "2022-07-25T18:48:39.384Z"
   },
   {
    "duration": 35,
    "start_time": "2022-07-25T18:48:44.914Z"
   },
   {
    "duration": 35,
    "start_time": "2022-07-25T18:49:06.649Z"
   },
   {
    "duration": 652,
    "start_time": "2022-07-25T18:49:23.754Z"
   },
   {
    "duration": 673,
    "start_time": "2022-07-25T18:49:28.167Z"
   },
   {
    "duration": 36,
    "start_time": "2022-07-25T18:49:34.315Z"
   },
   {
    "duration": 52,
    "start_time": "2022-07-25T18:50:26.421Z"
   },
   {
    "duration": 655,
    "start_time": "2022-07-25T18:50:33.150Z"
   },
   {
    "duration": 13,
    "start_time": "2022-07-25T18:50:52.502Z"
   },
   {
    "duration": 50,
    "start_time": "2022-07-25T18:51:07.656Z"
   },
   {
    "duration": 36,
    "start_time": "2022-07-25T18:51:17.123Z"
   },
   {
    "duration": 35,
    "start_time": "2022-07-25T18:51:29.254Z"
   },
   {
    "duration": 42,
    "start_time": "2022-07-25T18:51:33.488Z"
   },
   {
    "duration": 37,
    "start_time": "2022-07-25T18:51:38.490Z"
   },
   {
    "duration": 36,
    "start_time": "2022-07-25T18:51:49.710Z"
   },
   {
    "duration": 58,
    "start_time": "2022-07-25T18:52:15.212Z"
   },
   {
    "duration": 24,
    "start_time": "2022-07-25T18:52:28.191Z"
   },
   {
    "duration": 5452,
    "start_time": "2022-07-25T18:53:30.173Z"
   },
   {
    "duration": 5769,
    "start_time": "2022-07-25T18:53:52.561Z"
   },
   {
    "duration": 4569,
    "start_time": "2022-07-25T18:54:34.755Z"
   },
   {
    "duration": 6010,
    "start_time": "2022-07-25T18:54:55.049Z"
   },
   {
    "duration": 6091,
    "start_time": "2022-07-25T18:58:49.181Z"
   },
   {
    "duration": 6280,
    "start_time": "2022-07-25T18:59:30.344Z"
   },
   {
    "duration": 5415,
    "start_time": "2022-07-25T18:59:41.358Z"
   },
   {
    "duration": 6254,
    "start_time": "2022-07-25T19:01:01.244Z"
   },
   {
    "duration": 76,
    "start_time": "2022-07-25T19:02:49.811Z"
   },
   {
    "duration": 86,
    "start_time": "2022-07-25T19:03:03.777Z"
   },
   {
    "duration": 88,
    "start_time": "2022-07-25T19:03:14.150Z"
   },
   {
    "duration": 1894,
    "start_time": "2022-07-25T19:03:30.740Z"
   },
   {
    "duration": 2071,
    "start_time": "2022-07-25T19:04:06.791Z"
   },
   {
    "duration": 6101,
    "start_time": "2022-07-25T19:04:40.233Z"
   },
   {
    "duration": 6392,
    "start_time": "2022-07-25T19:05:03.261Z"
   },
   {
    "duration": 6149,
    "start_time": "2022-07-25T19:05:34.457Z"
   },
   {
    "duration": 5930,
    "start_time": "2022-07-25T19:07:39.248Z"
   },
   {
    "duration": 6039,
    "start_time": "2022-07-25T19:07:54.771Z"
   },
   {
    "duration": 6120,
    "start_time": "2022-07-25T19:08:10.562Z"
   },
   {
    "duration": 6028,
    "start_time": "2022-07-25T19:08:33.361Z"
   },
   {
    "duration": 96,
    "start_time": "2022-07-25T19:12:45.170Z"
   },
   {
    "duration": 35,
    "start_time": "2022-07-25T19:12:51.802Z"
   },
   {
    "duration": 30,
    "start_time": "2022-07-25T19:13:00.404Z"
   },
   {
    "duration": 24,
    "start_time": "2022-07-25T19:13:03.331Z"
   },
   {
    "duration": 28,
    "start_time": "2022-07-25T19:13:27.227Z"
   },
   {
    "duration": 27,
    "start_time": "2022-07-25T19:14:01.226Z"
   },
   {
    "duration": 27,
    "start_time": "2022-07-25T19:14:07.137Z"
   },
   {
    "duration": 28,
    "start_time": "2022-07-25T19:14:11.476Z"
   },
   {
    "duration": 29,
    "start_time": "2022-07-25T19:14:22.146Z"
   },
   {
    "duration": 29,
    "start_time": "2022-07-25T19:14:38.212Z"
   },
   {
    "duration": 31,
    "start_time": "2022-07-25T19:14:45.198Z"
   },
   {
    "duration": 13,
    "start_time": "2022-07-25T19:15:26.361Z"
   },
   {
    "duration": 8,
    "start_time": "2022-07-25T19:15:35.363Z"
   },
   {
    "duration": 40,
    "start_time": "2022-07-25T19:15:37.802Z"
   },
   {
    "duration": 7,
    "start_time": "2022-07-25T19:15:57.517Z"
   },
   {
    "duration": 28,
    "start_time": "2022-07-25T19:15:58.952Z"
   },
   {
    "duration": 12,
    "start_time": "2022-07-25T19:16:11.781Z"
   },
   {
    "duration": 31,
    "start_time": "2022-07-25T19:16:13.243Z"
   },
   {
    "duration": 12,
    "start_time": "2022-07-25T19:16:26.664Z"
   },
   {
    "duration": 7,
    "start_time": "2022-07-25T19:16:30.573Z"
   },
   {
    "duration": 11,
    "start_time": "2022-07-25T19:16:32.548Z"
   },
   {
    "duration": 47,
    "start_time": "2022-07-25T19:18:39.248Z"
   },
   {
    "duration": 11,
    "start_time": "2022-07-25T19:32:06.899Z"
   },
   {
    "duration": 12,
    "start_time": "2022-07-25T19:32:12.208Z"
   },
   {
    "duration": 11,
    "start_time": "2022-07-25T19:35:13.585Z"
   },
   {
    "duration": 11,
    "start_time": "2022-07-25T19:35:21.665Z"
   },
   {
    "duration": 50,
    "start_time": "2022-07-25T19:36:00.159Z"
   },
   {
    "duration": 7,
    "start_time": "2022-07-25T19:36:38.419Z"
   },
   {
    "duration": 1466,
    "start_time": "2022-07-25T19:36:38.450Z"
   },
   {
    "duration": 232,
    "start_time": "2022-07-25T19:36:39.918Z"
   },
   {
    "duration": 17,
    "start_time": "2022-07-25T19:36:40.152Z"
   },
   {
    "duration": 6063,
    "start_time": "2022-07-25T19:36:40.171Z"
   },
   {
    "duration": 3,
    "start_time": "2022-07-25T19:36:46.238Z"
   },
   {
    "duration": 59,
    "start_time": "2022-07-25T19:36:46.243Z"
   },
   {
    "duration": 26,
    "start_time": "2022-07-25T19:36:46.303Z"
   },
   {
    "duration": 17,
    "start_time": "2022-07-25T19:36:46.330Z"
   },
   {
    "duration": 24,
    "start_time": "2022-07-25T19:36:46.348Z"
   },
   {
    "duration": 12,
    "start_time": "2022-07-25T19:36:46.374Z"
   },
   {
    "duration": 48,
    "start_time": "2022-07-25T19:36:46.388Z"
   },
   {
    "duration": 15,
    "start_time": "2022-07-25T19:36:46.439Z"
   },
   {
    "duration": 37,
    "start_time": "2022-07-25T19:36:53.383Z"
   },
   {
    "duration": 12,
    "start_time": "2022-07-25T19:37:16.697Z"
   },
   {
    "duration": 62,
    "start_time": "2022-07-25T19:37:21.337Z"
   },
   {
    "duration": 11,
    "start_time": "2022-07-25T19:39:20.060Z"
   },
   {
    "duration": 9,
    "start_time": "2022-07-25T19:39:28.372Z"
   },
   {
    "duration": 37,
    "start_time": "2022-07-25T19:39:41.084Z"
   },
   {
    "duration": 33,
    "start_time": "2022-07-25T19:39:51.689Z"
   },
   {
    "duration": 141,
    "start_time": "2022-07-25T19:39:54.752Z"
   },
   {
    "duration": 6,
    "start_time": "2022-07-25T19:40:50.843Z"
   },
   {
    "duration": 1513,
    "start_time": "2022-07-25T19:40:50.853Z"
   },
   {
    "duration": 270,
    "start_time": "2022-07-25T19:40:52.368Z"
   },
   {
    "duration": 16,
    "start_time": "2022-07-25T19:40:52.641Z"
   },
   {
    "duration": 6011,
    "start_time": "2022-07-25T19:40:52.658Z"
   },
   {
    "duration": 3,
    "start_time": "2022-07-25T19:40:58.671Z"
   },
   {
    "duration": 57,
    "start_time": "2022-07-25T19:40:58.675Z"
   },
   {
    "duration": 21,
    "start_time": "2022-07-25T19:40:58.734Z"
   },
   {
    "duration": 3,
    "start_time": "2022-07-25T19:40:58.757Z"
   },
   {
    "duration": 7,
    "start_time": "2022-07-25T19:40:58.762Z"
   },
   {
    "duration": 4,
    "start_time": "2022-07-25T19:40:58.772Z"
   },
   {
    "duration": 14,
    "start_time": "2022-07-25T19:40:58.778Z"
   },
   {
    "duration": 14,
    "start_time": "2022-07-25T19:40:58.811Z"
   },
   {
    "duration": 31,
    "start_time": "2022-07-25T19:40:58.827Z"
   },
   {
    "duration": 46,
    "start_time": "2022-07-25T19:42:03.022Z"
   },
   {
    "duration": 66,
    "start_time": "2022-07-25T19:43:58.356Z"
   },
   {
    "duration": 58,
    "start_time": "2022-07-25T19:44:22.097Z"
   },
   {
    "duration": 54,
    "start_time": "2022-07-25T19:44:34.466Z"
   },
   {
    "duration": 36,
    "start_time": "2022-07-25T19:44:36.842Z"
   },
   {
    "duration": 22,
    "start_time": "2022-07-25T19:44:39.363Z"
   },
   {
    "duration": 9,
    "start_time": "2022-07-25T19:46:16.603Z"
   },
   {
    "duration": 10,
    "start_time": "2022-07-25T19:46:32.618Z"
   },
   {
    "duration": 5,
    "start_time": "2022-07-25T19:47:15.864Z"
   },
   {
    "duration": 1497,
    "start_time": "2022-07-25T19:47:15.886Z"
   },
   {
    "duration": 248,
    "start_time": "2022-07-25T19:47:17.385Z"
   },
   {
    "duration": 16,
    "start_time": "2022-07-25T19:47:17.634Z"
   },
   {
    "duration": 5960,
    "start_time": "2022-07-25T19:47:17.653Z"
   },
   {
    "duration": 2,
    "start_time": "2022-07-25T19:47:23.615Z"
   },
   {
    "duration": 68,
    "start_time": "2022-07-25T19:47:23.619Z"
   },
   {
    "duration": 22,
    "start_time": "2022-07-25T19:47:23.689Z"
   },
   {
    "duration": 2,
    "start_time": "2022-07-25T19:47:23.713Z"
   },
   {
    "duration": 12,
    "start_time": "2022-07-25T19:55:17.900Z"
   },
   {
    "duration": 16,
    "start_time": "2022-07-25T19:55:27.378Z"
   },
   {
    "duration": 12,
    "start_time": "2022-07-25T20:04:34.096Z"
   },
   {
    "duration": 17,
    "start_time": "2022-07-25T20:04:35.416Z"
   },
   {
    "duration": 169,
    "start_time": "2022-07-25T20:05:04.143Z"
   },
   {
    "duration": 17,
    "start_time": "2022-07-25T20:05:05.702Z"
   },
   {
    "duration": 15,
    "start_time": "2022-07-25T20:05:40.807Z"
   },
   {
    "duration": 16,
    "start_time": "2022-07-25T20:05:43.467Z"
   },
   {
    "duration": 12,
    "start_time": "2022-07-25T20:05:50.143Z"
   },
   {
    "duration": 16,
    "start_time": "2022-07-25T20:05:51.692Z"
   },
   {
    "duration": 5,
    "start_time": "2022-07-25T20:06:47.200Z"
   },
   {
    "duration": 1430,
    "start_time": "2022-07-25T20:06:47.218Z"
   },
   {
    "duration": 243,
    "start_time": "2022-07-25T20:06:48.650Z"
   },
   {
    "duration": 27,
    "start_time": "2022-07-25T20:06:48.895Z"
   },
   {
    "duration": 5814,
    "start_time": "2022-07-25T20:06:48.925Z"
   },
   {
    "duration": 10,
    "start_time": "2022-07-25T20:07:42.619Z"
   },
   {
    "duration": 25,
    "start_time": "2022-07-25T20:08:10.323Z"
   },
   {
    "duration": 312,
    "start_time": "2022-07-25T20:11:06.204Z"
   },
   {
    "duration": 189,
    "start_time": "2022-07-25T20:11:21.405Z"
   },
   {
    "duration": 337,
    "start_time": "2022-07-25T20:12:52.099Z"
   },
   {
    "duration": 5900,
    "start_time": "2022-07-25T20:13:46.371Z"
   },
   {
    "duration": 5,
    "start_time": "2022-07-25T20:16:59.289Z"
   },
   {
    "duration": 0,
    "start_time": "2022-07-25T20:18:00.381Z"
   },
   {
    "duration": 14012,
    "start_time": "2022-07-25T20:18:02.321Z"
   },
   {
    "duration": 21885,
    "start_time": "2022-07-25T20:18:30.813Z"
   },
   {
    "duration": 6,
    "start_time": "2022-07-25T20:40:47.329Z"
   },
   {
    "duration": 45939,
    "start_time": "2022-07-25T20:41:38.389Z"
   },
   {
    "duration": 185,
    "start_time": "2022-07-25T20:45:23.754Z"
   },
   {
    "duration": 204,
    "start_time": "2022-07-25T20:45:45.282Z"
   },
   {
    "duration": 6733,
    "start_time": "2022-07-25T20:46:14.878Z"
   },
   {
    "duration": 6130,
    "start_time": "2022-07-25T20:48:40.391Z"
   },
   {
    "duration": 5953,
    "start_time": "2022-07-25T20:50:31.997Z"
   },
   {
    "duration": 5852,
    "start_time": "2022-07-25T20:51:40.119Z"
   },
   {
    "duration": 5983,
    "start_time": "2022-07-25T20:52:04.350Z"
   },
   {
    "duration": 5672,
    "start_time": "2022-07-25T20:52:22.981Z"
   },
   {
    "duration": 1693,
    "start_time": "2022-07-25T20:55:01.017Z"
   },
   {
    "duration": 5956,
    "start_time": "2022-07-25T20:55:48.466Z"
   },
   {
    "duration": 5643,
    "start_time": "2022-07-25T20:57:25.557Z"
   },
   {
    "duration": 5920,
    "start_time": "2022-07-25T20:58:39.416Z"
   },
   {
    "duration": 103,
    "start_time": "2022-07-25T21:01:17.694Z"
   },
   {
    "duration": 78,
    "start_time": "2022-07-25T21:01:53.113Z"
   },
   {
    "duration": 5682,
    "start_time": "2022-07-25T21:03:41.945Z"
   },
   {
    "duration": 5887,
    "start_time": "2022-07-25T21:04:09.505Z"
   },
   {
    "duration": 5888,
    "start_time": "2022-07-25T21:04:46.319Z"
   },
   {
    "duration": 5880,
    "start_time": "2022-07-25T21:05:02.936Z"
   },
   {
    "duration": 5758,
    "start_time": "2022-07-25T21:05:56.590Z"
   },
   {
    "duration": 6060,
    "start_time": "2022-07-25T21:06:17.629Z"
   },
   {
    "duration": 5732,
    "start_time": "2022-07-25T21:06:37.615Z"
   },
   {
    "duration": 5978,
    "start_time": "2022-07-25T21:07:24.503Z"
   },
   {
    "duration": 6062,
    "start_time": "2022-07-25T21:09:26.785Z"
   },
   {
    "duration": 6195,
    "start_time": "2022-07-25T21:09:37.277Z"
   },
   {
    "duration": 5775,
    "start_time": "2022-07-25T21:17:18.773Z"
   },
   {
    "duration": 6069,
    "start_time": "2022-07-25T21:19:26.170Z"
   },
   {
    "duration": 5647,
    "start_time": "2022-07-25T21:19:43.402Z"
   },
   {
    "duration": 5965,
    "start_time": "2022-07-25T21:20:02.209Z"
   },
   {
    "duration": 5819,
    "start_time": "2022-07-25T21:21:40.084Z"
   },
   {
    "duration": 6002,
    "start_time": "2022-07-25T21:22:34.508Z"
   },
   {
    "duration": 5735,
    "start_time": "2022-07-25T21:24:24.372Z"
   },
   {
    "duration": 6209,
    "start_time": "2022-07-25T21:25:11.535Z"
   },
   {
    "duration": 5727,
    "start_time": "2022-07-25T21:26:15.289Z"
   },
   {
    "duration": 5955,
    "start_time": "2022-07-25T21:27:53.932Z"
   },
   {
    "duration": 5829,
    "start_time": "2022-07-25T21:29:19.635Z"
   },
   {
    "duration": 6069,
    "start_time": "2022-07-25T21:29:56.520Z"
   },
   {
    "duration": 43,
    "start_time": "2022-07-31T12:52:54.462Z"
   },
   {
    "duration": 5,
    "start_time": "2022-07-31T12:52:59.963Z"
   },
   {
    "duration": 1431,
    "start_time": "2022-07-31T12:53:04.802Z"
   },
   {
    "duration": 3300,
    "start_time": "2022-07-31T12:53:06.235Z"
   },
   {
    "duration": 248,
    "start_time": "2022-07-31T12:53:09.536Z"
   },
   {
    "duration": 12,
    "start_time": "2022-07-31T12:53:09.786Z"
   },
   {
    "duration": 4556,
    "start_time": "2022-07-31T12:53:09.800Z"
   },
   {
    "duration": 5,
    "start_time": "2022-07-31T12:53:14.357Z"
   },
   {
    "duration": 156,
    "start_time": "2022-07-31T12:53:14.363Z"
   },
   {
    "duration": 3,
    "start_time": "2022-07-31T12:53:14.520Z"
   },
   {
    "duration": 2,
    "start_time": "2022-07-31T12:53:14.531Z"
   },
   {
    "duration": 38,
    "start_time": "2022-07-31T12:53:14.535Z"
   },
   {
    "duration": 14,
    "start_time": "2022-07-31T12:53:14.575Z"
   },
   {
    "duration": 2,
    "start_time": "2022-07-31T12:53:14.591Z"
   },
   {
    "duration": 7,
    "start_time": "2022-07-31T12:53:14.594Z"
   },
   {
    "duration": 6,
    "start_time": "2022-07-31T12:53:14.602Z"
   },
   {
    "duration": 22,
    "start_time": "2022-07-31T12:53:14.609Z"
   },
   {
    "duration": 16,
    "start_time": "2022-07-31T12:53:14.633Z"
   },
   {
    "duration": 38,
    "start_time": "2022-07-31T12:53:14.651Z"
   },
   {
    "duration": 52,
    "start_time": "2022-07-31T12:53:14.691Z"
   },
   {
    "duration": 21,
    "start_time": "2022-07-31T12:53:14.745Z"
   },
   {
    "duration": 25,
    "start_time": "2022-07-31T12:53:22.119Z"
   },
   {
    "duration": 26,
    "start_time": "2022-07-31T13:07:37.443Z"
   },
   {
    "duration": 29,
    "start_time": "2022-07-31T13:11:05.239Z"
   },
   {
    "duration": 29,
    "start_time": "2022-07-31T13:11:15.384Z"
   },
   {
    "duration": 71,
    "start_time": "2022-07-31T13:11:51.794Z"
   },
   {
    "duration": 27,
    "start_time": "2022-07-31T13:12:01.141Z"
   },
   {
    "duration": 24,
    "start_time": "2022-07-31T13:12:07.193Z"
   },
   {
    "duration": 24,
    "start_time": "2022-07-31T13:12:15.254Z"
   },
   {
    "duration": 22,
    "start_time": "2022-07-31T13:12:20.352Z"
   },
   {
    "duration": 9,
    "start_time": "2022-07-31T13:12:31.483Z"
   },
   {
    "duration": 24,
    "start_time": "2022-07-31T13:12:37.882Z"
   },
   {
    "duration": 9,
    "start_time": "2022-07-31T13:13:08.182Z"
   },
   {
    "duration": 35,
    "start_time": "2022-07-31T13:13:12.829Z"
   },
   {
    "duration": 48,
    "start_time": "2022-07-31T13:13:19.335Z"
   },
   {
    "duration": 24,
    "start_time": "2022-07-31T13:14:53.247Z"
   },
   {
    "duration": 7,
    "start_time": "2022-07-31T13:15:13.137Z"
   },
   {
    "duration": 10,
    "start_time": "2022-07-31T13:15:24.994Z"
   },
   {
    "duration": 5,
    "start_time": "2022-07-31T13:21:04.734Z"
   },
   {
    "duration": 1079,
    "start_time": "2022-07-31T13:21:04.741Z"
   },
   {
    "duration": 202,
    "start_time": "2022-07-31T13:21:05.822Z"
   },
   {
    "duration": 13,
    "start_time": "2022-07-31T13:21:06.025Z"
   },
   {
    "duration": 4518,
    "start_time": "2022-07-31T13:21:06.040Z"
   },
   {
    "duration": 5,
    "start_time": "2022-07-31T13:21:10.560Z"
   },
   {
    "duration": 249,
    "start_time": "2022-07-31T13:21:10.566Z"
   },
   {
    "duration": 2,
    "start_time": "2022-07-31T13:21:10.817Z"
   },
   {
    "duration": 11,
    "start_time": "2022-07-31T13:21:10.820Z"
   },
   {
    "duration": 34,
    "start_time": "2022-07-31T13:21:10.832Z"
   },
   {
    "duration": 18,
    "start_time": "2022-07-31T13:21:10.867Z"
   },
   {
    "duration": 2,
    "start_time": "2022-07-31T13:21:10.887Z"
   },
   {
    "duration": 3,
    "start_time": "2022-07-31T13:21:10.891Z"
   },
   {
    "duration": 5,
    "start_time": "2022-07-31T13:21:10.896Z"
   },
   {
    "duration": 6,
    "start_time": "2022-07-31T13:21:10.902Z"
   },
   {
    "duration": 8,
    "start_time": "2022-07-31T13:22:20.126Z"
   },
   {
    "duration": 8,
    "start_time": "2022-07-31T13:32:28.726Z"
   },
   {
    "duration": 5971,
    "start_time": "2022-07-31T13:37:26.869Z"
   },
   {
    "duration": 7047,
    "start_time": "2022-07-31T13:37:47.929Z"
   },
   {
    "duration": 4628,
    "start_time": "2022-07-31T13:38:51.569Z"
   },
   {
    "duration": 830,
    "start_time": "2022-07-31T13:39:42.650Z"
   },
   {
    "duration": 785,
    "start_time": "2022-07-31T13:39:52.731Z"
   },
   {
    "duration": 645,
    "start_time": "2022-07-31T13:40:00.080Z"
   },
   {
    "duration": 883,
    "start_time": "2022-07-31T13:40:15.925Z"
   },
   {
    "duration": 845,
    "start_time": "2022-07-31T13:40:26.589Z"
   },
   {
    "duration": 8,
    "start_time": "2022-07-31T13:41:24.436Z"
   },
   {
    "duration": 101,
    "start_time": "2022-07-31T13:41:34.431Z"
   },
   {
    "duration": 24,
    "start_time": "2022-07-31T13:42:07.736Z"
   },
   {
    "duration": 24,
    "start_time": "2022-07-31T13:42:17.037Z"
   },
   {
    "duration": 25,
    "start_time": "2022-07-31T13:42:26.637Z"
   },
   {
    "duration": 26,
    "start_time": "2022-07-31T13:42:34.929Z"
   },
   {
    "duration": 25,
    "start_time": "2022-07-31T13:42:59.442Z"
   },
   {
    "duration": 35,
    "start_time": "2022-07-31T13:44:02.831Z"
   },
   {
    "duration": 37,
    "start_time": "2022-07-31T13:44:08.230Z"
   },
   {
    "duration": 39,
    "start_time": "2022-07-31T13:44:13.625Z"
   },
   {
    "duration": 37,
    "start_time": "2022-07-31T13:44:22.827Z"
   },
   {
    "duration": 44,
    "start_time": "2022-07-31T13:44:30.027Z"
   },
   {
    "duration": 41,
    "start_time": "2022-07-31T13:44:46.017Z"
   },
   {
    "duration": 36,
    "start_time": "2022-07-31T13:44:51.579Z"
   },
   {
    "duration": 41,
    "start_time": "2022-07-31T13:45:02.250Z"
   },
   {
    "duration": 38,
    "start_time": "2022-07-31T13:45:13.880Z"
   },
   {
    "duration": 44,
    "start_time": "2022-07-31T13:45:37.826Z"
   },
   {
    "duration": 729,
    "start_time": "2022-07-31T13:47:02.402Z"
   },
   {
    "duration": 699,
    "start_time": "2022-07-31T13:47:06.442Z"
   },
   {
    "duration": 1880,
    "start_time": "2022-07-31T13:47:28.426Z"
   },
   {
    "duration": 765,
    "start_time": "2022-07-31T13:47:35.725Z"
   },
   {
    "duration": 688,
    "start_time": "2022-07-31T13:47:40.649Z"
   },
   {
    "duration": 653,
    "start_time": "2022-07-31T13:47:44.379Z"
   },
   {
    "duration": 775,
    "start_time": "2022-07-31T13:48:54.939Z"
   },
   {
    "duration": 867,
    "start_time": "2022-07-31T13:49:35.659Z"
   },
   {
    "duration": 787,
    "start_time": "2022-07-31T13:49:40.935Z"
   },
   {
    "duration": 766,
    "start_time": "2022-07-31T13:49:56.859Z"
   },
   {
    "duration": 696,
    "start_time": "2022-07-31T13:50:08.039Z"
   },
   {
    "duration": 703,
    "start_time": "2022-07-31T13:50:45.536Z"
   },
   {
    "duration": 721,
    "start_time": "2022-07-31T13:50:54.623Z"
   },
   {
    "duration": 759,
    "start_time": "2022-07-31T13:51:05.882Z"
   },
   {
    "duration": 728,
    "start_time": "2022-07-31T13:51:12.731Z"
   },
   {
    "duration": 634,
    "start_time": "2022-07-31T13:51:52.372Z"
   },
   {
    "duration": 5,
    "start_time": "2022-07-31T13:54:42.077Z"
   },
   {
    "duration": 1096,
    "start_time": "2022-07-31T13:54:42.083Z"
   },
   {
    "duration": 202,
    "start_time": "2022-07-31T13:54:43.181Z"
   },
   {
    "duration": 14,
    "start_time": "2022-07-31T13:54:43.384Z"
   },
   {
    "duration": 4466,
    "start_time": "2022-07-31T13:54:43.400Z"
   },
   {
    "duration": 5,
    "start_time": "2022-07-31T13:54:47.867Z"
   },
   {
    "duration": 152,
    "start_time": "2022-07-31T13:54:47.873Z"
   },
   {
    "duration": 2,
    "start_time": "2022-07-31T13:54:48.030Z"
   },
   {
    "duration": 6,
    "start_time": "2022-07-31T13:54:48.034Z"
   },
   {
    "duration": 36,
    "start_time": "2022-07-31T13:54:48.041Z"
   },
   {
    "duration": 794,
    "start_time": "2022-07-31T13:54:56.525Z"
   },
   {
    "duration": 942,
    "start_time": "2022-07-31T13:56:26.544Z"
   },
   {
    "duration": 5840,
    "start_time": "2022-07-31T13:56:39.641Z"
   },
   {
    "duration": 6170,
    "start_time": "2022-07-31T13:57:31.853Z"
   },
   {
    "duration": 72,
    "start_time": "2022-07-31T13:58:47.046Z"
   },
   {
    "duration": 1056,
    "start_time": "2022-07-31T13:58:56.976Z"
   },
   {
    "duration": 951,
    "start_time": "2022-07-31T14:00:22.953Z"
   },
   {
    "duration": 1094,
    "start_time": "2022-07-31T14:01:10.283Z"
   },
   {
    "duration": 1047,
    "start_time": "2022-07-31T14:01:35.907Z"
   },
   {
    "duration": 4765,
    "start_time": "2022-07-31T14:01:47.494Z"
   },
   {
    "duration": 6361,
    "start_time": "2022-07-31T14:02:18.421Z"
   },
   {
    "duration": 1064,
    "start_time": "2022-07-31T14:03:25.027Z"
   },
   {
    "duration": 943,
    "start_time": "2022-07-31T14:04:14.125Z"
   },
   {
    "duration": 945,
    "start_time": "2022-07-31T14:04:25.022Z"
   },
   {
    "duration": 931,
    "start_time": "2022-07-31T14:04:42.179Z"
   },
   {
    "duration": 1046,
    "start_time": "2022-07-31T14:04:56.579Z"
   },
   {
    "duration": 6566,
    "start_time": "2022-07-31T14:05:30.423Z"
   },
   {
    "duration": 5,
    "start_time": "2022-07-31T14:07:07.144Z"
   },
   {
    "duration": 1107,
    "start_time": "2022-07-31T14:07:07.150Z"
   },
   {
    "duration": 201,
    "start_time": "2022-07-31T14:07:08.259Z"
   },
   {
    "duration": 14,
    "start_time": "2022-07-31T14:07:08.462Z"
   },
   {
    "duration": 957,
    "start_time": "2022-07-31T14:07:15.745Z"
   },
   {
    "duration": 6240,
    "start_time": "2022-07-31T14:07:27.125Z"
   },
   {
    "duration": 6444,
    "start_time": "2022-07-31T14:08:12.123Z"
   },
   {
    "duration": 6165,
    "start_time": "2022-07-31T14:08:48.634Z"
   },
   {
    "duration": 5988,
    "start_time": "2022-07-31T14:09:19.975Z"
   },
   {
    "duration": 55,
    "start_time": "2022-07-31T17:43:58.887Z"
   },
   {
    "duration": 1522,
    "start_time": "2022-07-31T17:44:15.625Z"
   },
   {
    "duration": 1588,
    "start_time": "2022-07-31T17:44:17.150Z"
   },
   {
    "duration": 298,
    "start_time": "2022-07-31T17:44:18.739Z"
   },
   {
    "duration": 15,
    "start_time": "2022-07-31T17:44:19.038Z"
   },
   {
    "duration": 6778,
    "start_time": "2022-07-31T17:44:19.054Z"
   },
   {
    "duration": 4859,
    "start_time": "2022-07-31T17:45:50.049Z"
   },
   {
    "duration": 37,
    "start_time": "2022-07-31T17:47:43.675Z"
   },
   {
    "duration": 883,
    "start_time": "2022-07-31T17:47:45.889Z"
   },
   {
    "duration": 48,
    "start_time": "2022-07-31T17:48:21.356Z"
   },
   {
    "duration": 830,
    "start_time": "2022-07-31T17:48:32.313Z"
   },
   {
    "duration": 859,
    "start_time": "2022-07-31T17:48:50.090Z"
   },
   {
    "duration": 877,
    "start_time": "2022-07-31T17:48:59.916Z"
   },
   {
    "duration": 874,
    "start_time": "2022-07-31T17:49:04.687Z"
   },
   {
    "duration": 869,
    "start_time": "2022-07-31T17:49:15.207Z"
   },
   {
    "duration": 842,
    "start_time": "2022-07-31T17:49:19.217Z"
   },
   {
    "duration": 881,
    "start_time": "2022-07-31T17:49:29.466Z"
   },
   {
    "duration": 905,
    "start_time": "2022-07-31T17:50:37.667Z"
   },
   {
    "duration": 887,
    "start_time": "2022-07-31T17:50:53.940Z"
   },
   {
    "duration": 6,
    "start_time": "2022-07-31T17:52:02.366Z"
   },
   {
    "duration": 1270,
    "start_time": "2022-07-31T17:52:02.374Z"
   },
   {
    "duration": 232,
    "start_time": "2022-07-31T17:52:03.646Z"
   },
   {
    "duration": 18,
    "start_time": "2022-07-31T17:52:03.880Z"
   },
   {
    "duration": 4990,
    "start_time": "2022-07-31T17:52:03.900Z"
   },
   {
    "duration": 3,
    "start_time": "2022-07-31T17:52:08.891Z"
   },
   {
    "duration": 7,
    "start_time": "2022-07-31T17:52:08.897Z"
   },
   {
    "duration": 6,
    "start_time": "2022-07-31T17:52:08.905Z"
   },
   {
    "duration": 44,
    "start_time": "2022-07-31T17:52:08.912Z"
   },
   {
    "duration": 878,
    "start_time": "2022-07-31T17:52:08.959Z"
   },
   {
    "duration": 13,
    "start_time": "2022-07-31T17:52:09.838Z"
   },
   {
    "duration": 11,
    "start_time": "2022-07-31T17:52:09.853Z"
   },
   {
    "duration": 3,
    "start_time": "2022-07-31T17:52:09.866Z"
   },
   {
    "duration": 7,
    "start_time": "2022-07-31T17:52:09.870Z"
   },
   {
    "duration": 5,
    "start_time": "2022-07-31T17:52:09.879Z"
   },
   {
    "duration": 853,
    "start_time": "2022-07-31T17:52:09.885Z"
   },
   {
    "duration": 11,
    "start_time": "2022-07-31T17:52:10.740Z"
   },
   {
    "duration": 866,
    "start_time": "2022-07-31T17:52:10.752Z"
   },
   {
    "duration": 8,
    "start_time": "2022-07-31T17:52:11.620Z"
   },
   {
    "duration": 45,
    "start_time": "2022-07-31T17:52:11.630Z"
   },
   {
    "duration": 24,
    "start_time": "2022-07-31T17:52:11.677Z"
   },
   {
    "duration": 19,
    "start_time": "2022-07-31T17:52:11.703Z"
   },
   {
    "duration": 110,
    "start_time": "2022-07-31T17:52:11.723Z"
   },
   {
    "duration": 77,
    "start_time": "2022-07-31T17:54:52.203Z"
   },
   {
    "duration": 5,
    "start_time": "2022-07-31T17:57:19.625Z"
   },
   {
    "duration": 1226,
    "start_time": "2022-07-31T17:57:19.632Z"
   },
   {
    "duration": 246,
    "start_time": "2022-07-31T17:57:20.859Z"
   },
   {
    "duration": 14,
    "start_time": "2022-07-31T17:57:21.108Z"
   },
   {
    "duration": 5034,
    "start_time": "2022-07-31T17:57:21.123Z"
   },
   {
    "duration": 3,
    "start_time": "2022-07-31T17:57:26.159Z"
   },
   {
    "duration": 21,
    "start_time": "2022-07-31T17:57:26.163Z"
   },
   {
    "duration": 6,
    "start_time": "2022-07-31T17:57:26.186Z"
   },
   {
    "duration": 40,
    "start_time": "2022-07-31T17:57:26.193Z"
   },
   {
    "duration": 923,
    "start_time": "2022-07-31T17:57:26.235Z"
   },
   {
    "duration": 16,
    "start_time": "2022-07-31T17:57:29.125Z"
   },
   {
    "duration": 11,
    "start_time": "2022-07-31T17:57:35.026Z"
   },
   {
    "duration": 5,
    "start_time": "2022-07-31T17:58:18.247Z"
   },
   {
    "duration": 1265,
    "start_time": "2022-07-31T17:58:18.254Z"
   },
   {
    "duration": 226,
    "start_time": "2022-07-31T17:58:19.520Z"
   },
   {
    "duration": 15,
    "start_time": "2022-07-31T17:58:19.748Z"
   },
   {
    "duration": 5159,
    "start_time": "2022-07-31T17:58:19.765Z"
   },
   {
    "duration": 3,
    "start_time": "2022-07-31T17:58:24.926Z"
   },
   {
    "duration": 11,
    "start_time": "2022-07-31T17:58:24.930Z"
   },
   {
    "duration": 5,
    "start_time": "2022-07-31T17:58:24.942Z"
   },
   {
    "duration": 49,
    "start_time": "2022-07-31T17:58:24.949Z"
   },
   {
    "duration": 882,
    "start_time": "2022-07-31T17:58:25.000Z"
   },
   {
    "duration": 27,
    "start_time": "2022-07-31T17:58:25.884Z"
   },
   {
    "duration": 3,
    "start_time": "2022-07-31T17:58:25.913Z"
   },
   {
    "duration": 5,
    "start_time": "2022-07-31T17:58:25.918Z"
   },
   {
    "duration": 4,
    "start_time": "2022-07-31T17:58:25.925Z"
   },
   {
    "duration": 5,
    "start_time": "2022-07-31T17:58:25.930Z"
   },
   {
    "duration": 889,
    "start_time": "2022-07-31T17:58:25.937Z"
   },
   {
    "duration": 11,
    "start_time": "2022-07-31T17:58:26.828Z"
   },
   {
    "duration": 865,
    "start_time": "2022-07-31T17:58:26.841Z"
   },
   {
    "duration": 9,
    "start_time": "2022-07-31T17:58:27.708Z"
   },
   {
    "duration": 50,
    "start_time": "2022-07-31T17:58:27.718Z"
   },
   {
    "duration": 40,
    "start_time": "2022-07-31T17:58:27.769Z"
   },
   {
    "duration": 26,
    "start_time": "2022-07-31T17:58:27.811Z"
   },
   {
    "duration": 109,
    "start_time": "2022-07-31T17:58:27.839Z"
   },
   {
    "duration": 23,
    "start_time": "2022-07-31T18:00:42.357Z"
   },
   {
    "duration": 75,
    "start_time": "2022-07-31T18:00:49.964Z"
   },
   {
    "duration": 155,
    "start_time": "2022-07-31T18:02:26.630Z"
   },
   {
    "duration": 145,
    "start_time": "2022-07-31T18:02:38.002Z"
   },
   {
    "duration": 264,
    "start_time": "2022-07-31T18:02:51.034Z"
   },
   {
    "duration": 251,
    "start_time": "2022-07-31T18:02:56.193Z"
   },
   {
    "duration": 255,
    "start_time": "2022-07-31T18:03:30.590Z"
   },
   {
    "duration": 99,
    "start_time": "2022-07-31T18:03:34.813Z"
   },
   {
    "duration": 268,
    "start_time": "2022-07-31T18:04:00.629Z"
   },
   {
    "duration": 32,
    "start_time": "2022-07-31T18:04:25.469Z"
   },
   {
    "duration": 5,
    "start_time": "2022-07-31T18:04:32.013Z"
   },
   {
    "duration": 1246,
    "start_time": "2022-07-31T18:04:32.020Z"
   },
   {
    "duration": 239,
    "start_time": "2022-07-31T18:04:33.268Z"
   },
   {
    "duration": 17,
    "start_time": "2022-07-31T18:04:33.509Z"
   },
   {
    "duration": 5103,
    "start_time": "2022-07-31T18:04:33.528Z"
   },
   {
    "duration": 3,
    "start_time": "2022-07-31T18:04:38.633Z"
   },
   {
    "duration": 8,
    "start_time": "2022-07-31T18:04:38.638Z"
   },
   {
    "duration": 12,
    "start_time": "2022-07-31T18:04:38.648Z"
   },
   {
    "duration": 40,
    "start_time": "2022-07-31T18:04:38.661Z"
   },
   {
    "duration": 958,
    "start_time": "2022-07-31T18:04:38.705Z"
   },
   {
    "duration": 17,
    "start_time": "2022-07-31T18:04:39.665Z"
   },
   {
    "duration": 2,
    "start_time": "2022-07-31T18:04:39.697Z"
   },
   {
    "duration": 5,
    "start_time": "2022-07-31T18:04:39.701Z"
   },
   {
    "duration": 3,
    "start_time": "2022-07-31T18:04:39.708Z"
   },
   {
    "duration": 6,
    "start_time": "2022-07-31T18:04:39.713Z"
   },
   {
    "duration": 831,
    "start_time": "2022-07-31T18:04:39.721Z"
   },
   {
    "duration": 9,
    "start_time": "2022-07-31T18:04:40.554Z"
   },
   {
    "duration": 969,
    "start_time": "2022-07-31T18:04:40.565Z"
   },
   {
    "duration": 10,
    "start_time": "2022-07-31T18:04:41.535Z"
   },
   {
    "duration": 60,
    "start_time": "2022-07-31T18:04:41.546Z"
   },
   {
    "duration": 13,
    "start_time": "2022-07-31T18:04:41.608Z"
   },
   {
    "duration": 26,
    "start_time": "2022-07-31T18:04:41.622Z"
   },
   {
    "duration": 123,
    "start_time": "2022-07-31T18:04:41.649Z"
   },
   {
    "duration": 93,
    "start_time": "2022-07-31T18:04:41.774Z"
   },
   {
    "duration": 0,
    "start_time": "2022-07-31T18:04:41.869Z"
   },
   {
    "duration": 0,
    "start_time": "2022-07-31T18:04:41.870Z"
   },
   {
    "duration": 96,
    "start_time": "2022-07-31T18:04:55.544Z"
   },
   {
    "duration": 268,
    "start_time": "2022-07-31T18:04:58.234Z"
   },
   {
    "duration": 61,
    "start_time": "2022-07-31T18:05:20.681Z"
   },
   {
    "duration": 15,
    "start_time": "2022-07-31T18:07:08.923Z"
   },
   {
    "duration": 14,
    "start_time": "2022-07-31T18:07:25.562Z"
   },
   {
    "duration": 1593,
    "start_time": "2022-08-06T07:45:36.655Z"
   },
   {
    "duration": 1672,
    "start_time": "2022-08-06T07:45:38.250Z"
   },
   {
    "duration": 310,
    "start_time": "2022-08-06T07:45:39.924Z"
   },
   {
    "duration": 17,
    "start_time": "2022-08-06T07:45:40.236Z"
   },
   {
    "duration": 5010,
    "start_time": "2022-08-06T07:45:40.255Z"
   },
   {
    "duration": 3,
    "start_time": "2022-08-06T07:45:45.266Z"
   },
   {
    "duration": 8,
    "start_time": "2022-08-06T07:45:45.270Z"
   },
   {
    "duration": 7,
    "start_time": "2022-08-06T07:45:45.280Z"
   },
   {
    "duration": 42,
    "start_time": "2022-08-06T07:45:45.288Z"
   },
   {
    "duration": 892,
    "start_time": "2022-08-06T07:45:45.332Z"
   },
   {
    "duration": 16,
    "start_time": "2022-08-06T07:45:46.225Z"
   },
   {
    "duration": 2,
    "start_time": "2022-08-06T07:45:46.243Z"
   },
   {
    "duration": 9,
    "start_time": "2022-08-06T07:45:46.246Z"
   },
   {
    "duration": 7,
    "start_time": "2022-08-06T07:45:46.257Z"
   },
   {
    "duration": 21,
    "start_time": "2022-08-06T07:45:46.265Z"
   },
   {
    "duration": 1000,
    "start_time": "2022-08-06T07:45:46.288Z"
   },
   {
    "duration": 12,
    "start_time": "2022-08-06T07:45:47.290Z"
   },
   {
    "duration": 791,
    "start_time": "2022-08-06T07:45:47.303Z"
   },
   {
    "duration": 10,
    "start_time": "2022-08-06T07:45:48.095Z"
   },
   {
    "duration": 45,
    "start_time": "2022-08-06T07:45:48.107Z"
   },
   {
    "duration": 12,
    "start_time": "2022-08-06T07:45:48.154Z"
   },
   {
    "duration": 24,
    "start_time": "2022-08-06T07:45:48.187Z"
   },
   {
    "duration": 117,
    "start_time": "2022-08-06T07:45:48.213Z"
   },
   {
    "duration": 2,
    "start_time": "2022-08-06T07:45:48.332Z"
   },
   {
    "duration": 107,
    "start_time": "2022-08-06T07:45:48.336Z"
   },
   {
    "duration": 35,
    "start_time": "2022-08-06T07:46:45.979Z"
   },
   {
    "duration": 684,
    "start_time": "2022-08-06T08:00:26.146Z"
   },
   {
    "duration": 76,
    "start_time": "2022-08-06T08:00:47.533Z"
   },
   {
    "duration": 438,
    "start_time": "2022-08-06T08:01:26.079Z"
   },
   {
    "duration": 69,
    "start_time": "2022-08-06T08:01:50.662Z"
   },
   {
    "duration": 130,
    "start_time": "2022-08-06T08:01:55.167Z"
   },
   {
    "duration": 1392,
    "start_time": "2022-08-06T08:11:43.331Z"
   },
   {
    "duration": 674,
    "start_time": "2022-08-06T08:13:10.936Z"
   },
   {
    "duration": 684,
    "start_time": "2022-08-06T08:14:01.135Z"
   },
   {
    "duration": 132,
    "start_time": "2022-08-06T08:14:24.530Z"
   },
   {
    "duration": 22378,
    "start_time": "2022-08-06T08:15:24.110Z"
   },
   {
    "duration": 23642,
    "start_time": "2022-08-06T08:17:07.153Z"
   },
   {
    "duration": 61111,
    "start_time": "2022-08-06T08:19:32.877Z"
   },
   {
    "duration": 28,
    "start_time": "2022-08-06T08:24:37.623Z"
   },
   {
    "duration": 22,
    "start_time": "2022-08-06T08:26:33.439Z"
   },
   {
    "duration": 20,
    "start_time": "2022-08-06T08:27:06.830Z"
   },
   {
    "duration": 107,
    "start_time": "2022-08-06T08:28:25.259Z"
   },
   {
    "duration": 21,
    "start_time": "2022-08-06T08:28:29.991Z"
   },
   {
    "duration": 95,
    "start_time": "2022-08-06T08:29:33.956Z"
   },
   {
    "duration": 20,
    "start_time": "2022-08-06T08:29:35.227Z"
   },
   {
    "duration": 105,
    "start_time": "2022-08-06T08:30:41.038Z"
   },
   {
    "duration": 26,
    "start_time": "2022-08-06T08:36:31.561Z"
   },
   {
    "duration": 33,
    "start_time": "2022-08-06T08:36:47.153Z"
   },
   {
    "duration": 105,
    "start_time": "2022-08-06T08:36:59.041Z"
   },
   {
    "duration": 33,
    "start_time": "2022-08-06T08:37:01.138Z"
   },
   {
    "duration": 74,
    "start_time": "2022-08-06T08:38:39.679Z"
   },
   {
    "duration": 17,
    "start_time": "2022-08-06T08:42:02.611Z"
   },
   {
    "duration": 10,
    "start_time": "2022-08-06T08:42:48.625Z"
   },
   {
    "duration": 5,
    "start_time": "2022-08-06T08:43:05.511Z"
   },
   {
    "duration": 19,
    "start_time": "2022-08-06T08:43:14.879Z"
   },
   {
    "duration": 23,
    "start_time": "2022-08-06T08:44:40.788Z"
   },
   {
    "duration": 26,
    "start_time": "2022-08-06T08:44:52.617Z"
   },
   {
    "duration": 4,
    "start_time": "2022-08-06T08:46:10.666Z"
   },
   {
    "duration": 48,
    "start_time": "2022-08-06T08:49:25.120Z"
   },
   {
    "duration": 6,
    "start_time": "2022-08-06T08:49:30.526Z"
   },
   {
    "duration": 1423,
    "start_time": "2022-08-06T08:49:33.586Z"
   },
   {
    "duration": 1830,
    "start_time": "2022-08-06T08:49:35.011Z"
   },
   {
    "duration": 289,
    "start_time": "2022-08-06T08:49:36.843Z"
   },
   {
    "duration": 15,
    "start_time": "2022-08-06T08:49:37.134Z"
   },
   {
    "duration": 5511,
    "start_time": "2022-08-06T08:49:37.151Z"
   },
   {
    "duration": 3,
    "start_time": "2022-08-06T08:49:42.664Z"
   },
   {
    "duration": 10,
    "start_time": "2022-08-06T08:49:42.668Z"
   },
   {
    "duration": 9,
    "start_time": "2022-08-06T08:49:42.686Z"
   },
   {
    "duration": 45,
    "start_time": "2022-08-06T08:49:42.697Z"
   },
   {
    "duration": 895,
    "start_time": "2022-08-06T08:49:42.745Z"
   },
   {
    "duration": 14,
    "start_time": "2022-08-06T08:49:43.642Z"
   },
   {
    "duration": 2,
    "start_time": "2022-08-06T08:49:43.658Z"
   },
   {
    "duration": 6,
    "start_time": "2022-08-06T08:49:43.661Z"
   },
   {
    "duration": 22,
    "start_time": "2022-08-06T08:49:43.668Z"
   },
   {
    "duration": 4,
    "start_time": "2022-08-06T08:49:43.692Z"
   },
   {
    "duration": 911,
    "start_time": "2022-08-06T08:49:43.697Z"
   },
   {
    "duration": 11,
    "start_time": "2022-08-06T08:49:44.610Z"
   },
   {
    "duration": 890,
    "start_time": "2022-08-06T08:49:44.622Z"
   },
   {
    "duration": 12,
    "start_time": "2022-08-06T08:49:45.513Z"
   },
   {
    "duration": 71,
    "start_time": "2022-08-06T08:49:45.527Z"
   },
   {
    "duration": 23,
    "start_time": "2022-08-06T08:49:45.601Z"
   },
   {
    "duration": 31,
    "start_time": "2022-08-06T08:49:45.626Z"
   },
   {
    "duration": 214,
    "start_time": "2022-08-06T08:49:45.659Z"
   },
   {
    "duration": 146,
    "start_time": "2022-08-06T08:49:45.875Z"
   },
   {
    "duration": 44,
    "start_time": "2022-08-06T08:49:57.343Z"
   },
   {
    "duration": 6,
    "start_time": "2022-08-06T08:49:59.272Z"
   },
   {
    "duration": 1471,
    "start_time": "2022-08-06T08:50:03.139Z"
   },
   {
    "duration": 1923,
    "start_time": "2022-08-06T08:50:04.612Z"
   },
   {
    "duration": 359,
    "start_time": "2022-08-06T08:50:06.537Z"
   },
   {
    "duration": 17,
    "start_time": "2022-08-06T08:50:06.899Z"
   },
   {
    "duration": 5656,
    "start_time": "2022-08-06T08:50:06.918Z"
   },
   {
    "duration": 2,
    "start_time": "2022-08-06T08:50:12.576Z"
   },
   {
    "duration": 25,
    "start_time": "2022-08-06T08:50:12.580Z"
   },
   {
    "duration": 8,
    "start_time": "2022-08-06T08:50:12.607Z"
   },
   {
    "duration": 42,
    "start_time": "2022-08-06T08:50:12.616Z"
   },
   {
    "duration": 916,
    "start_time": "2022-08-06T08:50:12.661Z"
   },
   {
    "duration": 24,
    "start_time": "2022-08-06T08:50:13.580Z"
   },
   {
    "duration": 4,
    "start_time": "2022-08-06T08:50:13.606Z"
   },
   {
    "duration": 6,
    "start_time": "2022-08-06T08:50:13.612Z"
   },
   {
    "duration": 5,
    "start_time": "2022-08-06T08:50:13.620Z"
   },
   {
    "duration": 6,
    "start_time": "2022-08-06T08:50:13.627Z"
   },
   {
    "duration": 1028,
    "start_time": "2022-08-06T08:50:13.635Z"
   },
   {
    "duration": 12,
    "start_time": "2022-08-06T08:50:14.664Z"
   },
   {
    "duration": 950,
    "start_time": "2022-08-06T08:50:14.686Z"
   },
   {
    "duration": 10,
    "start_time": "2022-08-06T08:50:15.638Z"
   },
   {
    "duration": 69,
    "start_time": "2022-08-06T08:50:15.649Z"
   },
   {
    "duration": 13,
    "start_time": "2022-08-06T08:50:15.720Z"
   },
   {
    "duration": 23,
    "start_time": "2022-08-06T08:50:15.735Z"
   },
   {
    "duration": 149,
    "start_time": "2022-08-06T08:50:15.760Z"
   },
   {
    "duration": 129,
    "start_time": "2022-08-06T08:50:15.911Z"
   },
   {
    "duration": 19,
    "start_time": "2022-08-06T08:52:22.853Z"
   },
   {
    "duration": 53,
    "start_time": "2022-08-06T08:52:28.990Z"
   },
   {
    "duration": 88,
    "start_time": "2022-08-06T08:55:43.989Z"
   },
   {
    "duration": 11,
    "start_time": "2022-08-06T08:58:09.037Z"
   },
   {
    "duration": 7,
    "start_time": "2022-08-06T08:58:20.366Z"
   },
   {
    "duration": 6,
    "start_time": "2022-08-06T08:58:39.858Z"
   },
   {
    "duration": 14,
    "start_time": "2022-08-06T08:59:12.394Z"
   },
   {
    "duration": 7,
    "start_time": "2022-08-06T08:59:26.727Z"
   },
   {
    "duration": 170,
    "start_time": "2022-08-06T09:00:03.819Z"
   },
   {
    "duration": 20,
    "start_time": "2022-08-06T09:00:12.717Z"
   },
   {
    "duration": 1232,
    "start_time": "2022-08-06T09:03:12.558Z"
   },
   {
    "duration": 1502,
    "start_time": "2022-08-07T08:10:55.859Z"
   },
   {
    "duration": 3054,
    "start_time": "2022-08-07T08:10:57.364Z"
   },
   {
    "duration": 263,
    "start_time": "2022-08-07T08:11:00.419Z"
   },
   {
    "duration": 14,
    "start_time": "2022-08-07T08:11:00.684Z"
   },
   {
    "duration": 4600,
    "start_time": "2022-08-07T08:11:00.700Z"
   },
   {
    "duration": 2,
    "start_time": "2022-08-07T08:11:05.302Z"
   },
   {
    "duration": 11,
    "start_time": "2022-08-07T08:11:05.306Z"
   },
   {
    "duration": 11,
    "start_time": "2022-08-07T08:11:05.319Z"
   },
   {
    "duration": 41,
    "start_time": "2022-08-07T08:11:05.331Z"
   },
   {
    "duration": 941,
    "start_time": "2022-08-07T08:11:05.375Z"
   },
   {
    "duration": 14,
    "start_time": "2022-08-07T08:11:06.317Z"
   },
   {
    "duration": 7,
    "start_time": "2022-08-07T08:11:06.332Z"
   },
   {
    "duration": 17,
    "start_time": "2022-08-07T08:11:06.340Z"
   },
   {
    "duration": 30,
    "start_time": "2022-08-07T08:11:06.358Z"
   },
   {
    "duration": 28,
    "start_time": "2022-08-07T08:11:06.389Z"
   },
   {
    "duration": 764,
    "start_time": "2022-08-07T08:11:06.419Z"
   },
   {
    "duration": 12,
    "start_time": "2022-08-07T08:11:07.184Z"
   },
   {
    "duration": 735,
    "start_time": "2022-08-07T08:11:07.197Z"
   },
   {
    "duration": 9,
    "start_time": "2022-08-07T08:11:07.934Z"
   },
   {
    "duration": 50,
    "start_time": "2022-08-07T08:11:07.944Z"
   },
   {
    "duration": 32,
    "start_time": "2022-08-07T08:11:07.995Z"
   },
   {
    "duration": 23,
    "start_time": "2022-08-07T08:11:08.029Z"
   },
   {
    "duration": 91,
    "start_time": "2022-08-07T08:11:08.053Z"
   },
   {
    "duration": 90,
    "start_time": "2022-08-07T08:11:08.146Z"
   },
   {
    "duration": 117,
    "start_time": "2022-08-07T08:31:01.830Z"
   },
   {
    "duration": 102,
    "start_time": "2022-08-07T08:31:11.777Z"
   },
   {
    "duration": 5,
    "start_time": "2022-08-07T08:42:12.538Z"
   },
   {
    "duration": 4,
    "start_time": "2022-08-07T08:42:15.914Z"
   },
   {
    "duration": 8,
    "start_time": "2022-08-07T08:42:27.622Z"
   },
   {
    "duration": 7,
    "start_time": "2022-08-07T08:42:43.389Z"
   },
   {
    "duration": 7,
    "start_time": "2022-08-07T08:42:46.221Z"
   },
   {
    "duration": 6,
    "start_time": "2022-08-07T08:44:32.604Z"
   },
   {
    "duration": 10,
    "start_time": "2022-08-07T08:44:42.762Z"
   },
   {
    "duration": 12,
    "start_time": "2022-08-07T08:44:46.570Z"
   },
   {
    "duration": 5,
    "start_time": "2022-08-07T08:44:52.910Z"
   },
   {
    "duration": 6,
    "start_time": "2022-08-07T08:45:55.890Z"
   },
   {
    "duration": 97,
    "start_time": "2022-08-07T08:58:39.681Z"
   },
   {
    "duration": 11,
    "start_time": "2022-08-07T08:59:32.210Z"
   },
   {
    "duration": 124,
    "start_time": "2022-08-07T08:59:37.616Z"
   },
   {
    "duration": 10,
    "start_time": "2022-08-07T09:04:50.552Z"
   },
   {
    "duration": 114,
    "start_time": "2022-08-07T09:05:00.896Z"
   },
   {
    "duration": 22,
    "start_time": "2022-08-07T09:15:26.789Z"
   },
   {
    "duration": 758,
    "start_time": "2022-08-07T09:15:29.421Z"
   },
   {
    "duration": 811,
    "start_time": "2022-08-07T09:15:43.589Z"
   },
   {
    "duration": 5,
    "start_time": "2022-08-07T09:16:07.089Z"
   },
   {
    "duration": 1159,
    "start_time": "2022-08-07T09:16:07.108Z"
   },
   {
    "duration": 211,
    "start_time": "2022-08-07T09:16:08.269Z"
   },
   {
    "duration": 13,
    "start_time": "2022-08-07T09:16:08.482Z"
   },
   {
    "duration": 4436,
    "start_time": "2022-08-07T09:16:08.498Z"
   },
   {
    "duration": 2,
    "start_time": "2022-08-07T09:16:12.936Z"
   },
   {
    "duration": 7,
    "start_time": "2022-08-07T09:16:12.939Z"
   },
   {
    "duration": 11,
    "start_time": "2022-08-07T09:16:12.947Z"
   },
   {
    "duration": 41,
    "start_time": "2022-08-07T09:16:12.959Z"
   },
   {
    "duration": 19,
    "start_time": "2022-08-07T09:16:13.002Z"
   },
   {
    "duration": 807,
    "start_time": "2022-08-07T09:16:13.023Z"
   },
   {
    "duration": 13,
    "start_time": "2022-08-07T09:16:13.832Z"
   },
   {
    "duration": 2,
    "start_time": "2022-08-07T09:16:13.855Z"
   },
   {
    "duration": 6,
    "start_time": "2022-08-07T09:16:13.858Z"
   },
   {
    "duration": 7,
    "start_time": "2022-08-07T09:16:13.866Z"
   },
   {
    "duration": 8,
    "start_time": "2022-08-07T09:16:13.874Z"
   },
   {
    "duration": 679,
    "start_time": "2022-08-07T09:16:13.884Z"
   },
   {
    "duration": 12,
    "start_time": "2022-08-07T09:16:14.565Z"
   },
   {
    "duration": 25,
    "start_time": "2022-08-07T09:16:14.578Z"
   },
   {
    "duration": 707,
    "start_time": "2022-08-07T09:16:14.605Z"
   },
   {
    "duration": 8,
    "start_time": "2022-08-07T09:16:15.314Z"
   },
   {
    "duration": 48,
    "start_time": "2022-08-07T09:16:15.323Z"
   },
   {
    "duration": 121,
    "start_time": "2022-08-07T09:16:15.372Z"
   },
   {
    "duration": 22,
    "start_time": "2022-08-07T09:16:15.494Z"
   },
   {
    "duration": 639,
    "start_time": "2022-08-07T09:16:19.695Z"
   },
   {
    "duration": 4,
    "start_time": "2022-08-07T09:16:48.053Z"
   },
   {
    "duration": 34,
    "start_time": "2022-08-07T09:20:53.925Z"
   },
   {
    "duration": 4,
    "start_time": "2022-08-07T09:21:09.460Z"
   },
   {
    "duration": 46,
    "start_time": "2022-08-07T09:21:28.779Z"
   },
   {
    "duration": 8,
    "start_time": "2022-08-07T09:21:34.724Z"
   },
   {
    "duration": 5,
    "start_time": "2022-08-07T09:21:37.259Z"
   },
   {
    "duration": 37,
    "start_time": "2022-08-07T09:21:41.517Z"
   },
   {
    "duration": 280,
    "start_time": "2022-08-07T09:21:55.126Z"
   },
   {
    "duration": 19,
    "start_time": "2022-08-07T09:22:00.327Z"
   },
   {
    "duration": 48,
    "start_time": "2022-08-07T09:24:54.067Z"
   },
   {
    "duration": 56,
    "start_time": "2022-08-07T09:25:10.942Z"
   },
   {
    "duration": 310,
    "start_time": "2022-08-07T09:25:17.158Z"
   },
   {
    "duration": 115,
    "start_time": "2022-08-07T09:25:19.327Z"
   },
   {
    "duration": 368,
    "start_time": "2022-08-07T09:25:25.574Z"
   },
   {
    "duration": 36,
    "start_time": "2022-08-07T09:25:27.943Z"
   },
   {
    "duration": 49,
    "start_time": "2022-08-07T09:26:08.301Z"
   },
   {
    "duration": 33,
    "start_time": "2022-08-07T09:26:10.241Z"
   },
   {
    "duration": 49,
    "start_time": "2022-08-07T09:26:33.709Z"
   },
   {
    "duration": 32,
    "start_time": "2022-08-07T09:26:35.066Z"
   },
   {
    "duration": 11,
    "start_time": "2022-08-07T09:26:53.885Z"
   },
   {
    "duration": 24,
    "start_time": "2022-08-07T09:27:28.614Z"
   },
   {
    "duration": 24,
    "start_time": "2022-08-07T09:28:56.140Z"
   },
   {
    "duration": 4,
    "start_time": "2022-08-07T09:29:02.747Z"
   },
   {
    "duration": 64,
    "start_time": "2022-08-07T09:29:53.286Z"
   },
   {
    "duration": 6,
    "start_time": "2022-08-07T09:30:08.854Z"
   },
   {
    "duration": 62,
    "start_time": "2022-08-07T09:30:10.747Z"
   },
   {
    "duration": 10,
    "start_time": "2022-08-07T09:30:45.179Z"
   },
   {
    "duration": 97,
    "start_time": "2022-08-07T09:31:07.197Z"
   },
   {
    "duration": 5,
    "start_time": "2022-08-07T09:33:48.599Z"
   },
   {
    "duration": 1073,
    "start_time": "2022-08-07T09:33:48.619Z"
   },
   {
    "duration": 228,
    "start_time": "2022-08-07T09:33:49.695Z"
   },
   {
    "duration": 13,
    "start_time": "2022-08-07T09:33:49.924Z"
   },
   {
    "duration": 4440,
    "start_time": "2022-08-07T09:33:49.939Z"
   },
   {
    "duration": 2,
    "start_time": "2022-08-07T09:33:54.381Z"
   },
   {
    "duration": 9,
    "start_time": "2022-08-07T09:33:54.384Z"
   },
   {
    "duration": 5,
    "start_time": "2022-08-07T09:33:54.394Z"
   },
   {
    "duration": 36,
    "start_time": "2022-08-07T09:33:54.400Z"
   },
   {
    "duration": 23,
    "start_time": "2022-08-07T09:33:54.437Z"
   },
   {
    "duration": 35,
    "start_time": "2022-08-07T09:33:54.462Z"
   },
   {
    "duration": 806,
    "start_time": "2022-08-07T09:33:54.498Z"
   },
   {
    "duration": 12,
    "start_time": "2022-08-07T09:33:55.306Z"
   },
   {
    "duration": 2,
    "start_time": "2022-08-07T09:33:55.319Z"
   },
   {
    "duration": 4,
    "start_time": "2022-08-07T09:33:55.323Z"
   },
   {
    "duration": 5,
    "start_time": "2022-08-07T09:33:55.328Z"
   },
   {
    "duration": 4,
    "start_time": "2022-08-07T09:33:55.334Z"
   },
   {
    "duration": 675,
    "start_time": "2022-08-07T09:33:55.354Z"
   },
   {
    "duration": 11,
    "start_time": "2022-08-07T09:33:56.030Z"
   },
   {
    "duration": 698,
    "start_time": "2022-08-07T09:33:56.043Z"
   },
   {
    "duration": 15,
    "start_time": "2022-08-07T09:33:56.743Z"
   },
   {
    "duration": 43,
    "start_time": "2022-08-07T09:33:56.760Z"
   },
   {
    "duration": 117,
    "start_time": "2022-08-07T09:33:56.805Z"
   },
   {
    "duration": 61,
    "start_time": "2022-08-07T09:33:56.923Z"
   },
   {
    "duration": 932,
    "start_time": "2022-08-07T09:33:56.985Z"
   },
   {
    "duration": 40,
    "start_time": "2022-08-07T09:33:57.919Z"
   },
   {
    "duration": 32,
    "start_time": "2022-08-07T09:34:03.458Z"
   },
   {
    "duration": 66,
    "start_time": "2022-08-07T09:34:08.669Z"
   },
   {
    "duration": 41,
    "start_time": "2022-08-07T09:34:35.667Z"
   },
   {
    "duration": 73,
    "start_time": "2022-08-07T09:34:37.619Z"
   },
   {
    "duration": 4,
    "start_time": "2022-08-07T09:39:18.443Z"
   },
   {
    "duration": 1077,
    "start_time": "2022-08-07T09:39:18.461Z"
   },
   {
    "duration": 207,
    "start_time": "2022-08-07T09:39:19.540Z"
   },
   {
    "duration": 16,
    "start_time": "2022-08-07T09:39:19.749Z"
   },
   {
    "duration": 4429,
    "start_time": "2022-08-07T09:39:19.768Z"
   },
   {
    "duration": 3,
    "start_time": "2022-08-07T09:39:24.198Z"
   },
   {
    "duration": 10,
    "start_time": "2022-08-07T09:39:24.203Z"
   },
   {
    "duration": 4,
    "start_time": "2022-08-07T09:39:24.214Z"
   },
   {
    "duration": 43,
    "start_time": "2022-08-07T09:39:24.220Z"
   },
   {
    "duration": 20,
    "start_time": "2022-08-07T09:39:24.265Z"
   },
   {
    "duration": 37,
    "start_time": "2022-08-07T09:39:24.289Z"
   },
   {
    "duration": 781,
    "start_time": "2022-08-07T09:39:24.328Z"
   },
   {
    "duration": 12,
    "start_time": "2022-08-07T09:39:25.111Z"
   },
   {
    "duration": 2,
    "start_time": "2022-08-07T09:39:25.124Z"
   },
   {
    "duration": 4,
    "start_time": "2022-08-07T09:39:25.127Z"
   },
   {
    "duration": 4,
    "start_time": "2022-08-07T09:39:25.133Z"
   },
   {
    "duration": 8,
    "start_time": "2022-08-07T09:39:25.138Z"
   },
   {
    "duration": 693,
    "start_time": "2022-08-07T09:39:25.155Z"
   },
   {
    "duration": 15,
    "start_time": "2022-08-07T09:39:25.850Z"
   },
   {
    "duration": 675,
    "start_time": "2022-08-07T09:39:25.867Z"
   },
   {
    "duration": 14,
    "start_time": "2022-08-07T09:39:26.543Z"
   },
   {
    "duration": 35,
    "start_time": "2022-08-07T09:39:26.558Z"
   },
   {
    "duration": 125,
    "start_time": "2022-08-07T09:39:26.595Z"
   },
   {
    "duration": 76,
    "start_time": "2022-08-07T09:39:26.722Z"
   },
   {
    "duration": 1035,
    "start_time": "2022-08-07T09:39:26.799Z"
   },
   {
    "duration": 34,
    "start_time": "2022-08-07T09:39:27.836Z"
   },
   {
    "duration": 26,
    "start_time": "2022-08-07T09:39:27.872Z"
   },
   {
    "duration": 7,
    "start_time": "2022-08-07T09:39:27.900Z"
   },
   {
    "duration": 4,
    "start_time": "2022-08-07T09:39:56.959Z"
   },
   {
    "duration": 1138,
    "start_time": "2022-08-07T09:39:56.978Z"
   },
   {
    "duration": 211,
    "start_time": "2022-08-07T09:39:58.118Z"
   },
   {
    "duration": 14,
    "start_time": "2022-08-07T09:39:58.331Z"
   },
   {
    "duration": 4546,
    "start_time": "2022-08-07T09:39:58.347Z"
   },
   {
    "duration": 3,
    "start_time": "2022-08-07T09:40:02.894Z"
   },
   {
    "duration": 16,
    "start_time": "2022-08-07T09:40:02.898Z"
   },
   {
    "duration": 26,
    "start_time": "2022-08-07T09:40:02.915Z"
   },
   {
    "duration": 41,
    "start_time": "2022-08-07T09:40:02.942Z"
   },
   {
    "duration": 17,
    "start_time": "2022-08-07T09:40:02.984Z"
   },
   {
    "duration": 37,
    "start_time": "2022-08-07T09:40:03.004Z"
   },
   {
    "duration": 752,
    "start_time": "2022-08-07T09:40:03.043Z"
   },
   {
    "duration": 12,
    "start_time": "2022-08-07T09:40:03.797Z"
   },
   {
    "duration": 2,
    "start_time": "2022-08-07T09:40:03.810Z"
   },
   {
    "duration": 5,
    "start_time": "2022-08-07T09:40:03.814Z"
   },
   {
    "duration": 7,
    "start_time": "2022-08-07T09:40:03.820Z"
   },
   {
    "duration": 7,
    "start_time": "2022-08-07T09:40:03.829Z"
   },
   {
    "duration": 682,
    "start_time": "2022-08-07T09:40:03.838Z"
   },
   {
    "duration": 13,
    "start_time": "2022-08-07T09:40:04.522Z"
   },
   {
    "duration": 720,
    "start_time": "2022-08-07T09:40:04.537Z"
   },
   {
    "duration": 7,
    "start_time": "2022-08-07T09:40:05.258Z"
   },
   {
    "duration": 40,
    "start_time": "2022-08-07T09:40:05.267Z"
   },
   {
    "duration": 103,
    "start_time": "2022-08-07T09:40:05.308Z"
   },
   {
    "duration": 56,
    "start_time": "2022-08-07T09:40:05.412Z"
   },
   {
    "duration": 1044,
    "start_time": "2022-08-07T09:40:05.469Z"
   },
   {
    "duration": 32,
    "start_time": "2022-08-07T09:40:06.514Z"
   },
   {
    "duration": 33,
    "start_time": "2022-08-07T09:40:06.547Z"
   },
   {
    "duration": 7,
    "start_time": "2022-08-07T09:40:06.582Z"
   },
   {
    "duration": 4,
    "start_time": "2022-08-07T09:42:17.079Z"
   },
   {
    "duration": 1119,
    "start_time": "2022-08-07T09:42:17.097Z"
   },
   {
    "duration": 215,
    "start_time": "2022-08-07T09:42:18.218Z"
   },
   {
    "duration": 12,
    "start_time": "2022-08-07T09:42:18.435Z"
   },
   {
    "duration": 4536,
    "start_time": "2022-08-07T09:42:18.455Z"
   },
   {
    "duration": 4,
    "start_time": "2022-08-07T09:42:22.993Z"
   },
   {
    "duration": 12,
    "start_time": "2022-08-07T09:42:22.998Z"
   },
   {
    "duration": 5,
    "start_time": "2022-08-07T09:42:23.011Z"
   },
   {
    "duration": 44,
    "start_time": "2022-08-07T09:42:23.018Z"
   },
   {
    "duration": 17,
    "start_time": "2022-08-07T09:42:23.063Z"
   },
   {
    "duration": 34,
    "start_time": "2022-08-07T09:42:23.082Z"
   },
   {
    "duration": 36,
    "start_time": "2022-08-07T09:42:33.002Z"
   },
   {
    "duration": 792,
    "start_time": "2022-08-07T09:42:35.219Z"
   },
   {
    "duration": 783,
    "start_time": "2022-08-07T09:42:41.220Z"
   },
   {
    "duration": 845,
    "start_time": "2022-08-07T09:43:05.559Z"
   },
   {
    "duration": 2846,
    "start_time": "2022-08-07T09:49:53.541Z"
   },
   {
    "duration": 2880,
    "start_time": "2022-08-07T09:50:18.275Z"
   },
   {
    "duration": 3032,
    "start_time": "2022-08-07T09:50:46.330Z"
   },
   {
    "duration": 5,
    "start_time": "2022-08-07T09:51:00.542Z"
   },
   {
    "duration": 1081,
    "start_time": "2022-08-07T09:51:00.562Z"
   },
   {
    "duration": 204,
    "start_time": "2022-08-07T09:51:01.645Z"
   },
   {
    "duration": 16,
    "start_time": "2022-08-07T09:51:01.850Z"
   },
   {
    "duration": 4416,
    "start_time": "2022-08-07T09:51:52.386Z"
   },
   {
    "duration": 4645,
    "start_time": "2022-08-07T09:52:23.194Z"
   },
   {
    "duration": 4661,
    "start_time": "2022-08-07T09:52:53.548Z"
   },
   {
    "duration": 4575,
    "start_time": "2022-08-07T09:54:14.819Z"
   },
   {
    "duration": 4609,
    "start_time": "2022-08-07T09:54:47.994Z"
   },
   {
    "duration": 17,
    "start_time": "2022-08-07T09:56:13.292Z"
   },
   {
    "duration": 19,
    "start_time": "2022-08-07T09:56:39.402Z"
   },
   {
    "duration": 4467,
    "start_time": "2022-08-07T09:57:41.997Z"
   },
   {
    "duration": 4454,
    "start_time": "2022-08-07T10:03:46.905Z"
   },
   {
    "duration": 4403,
    "start_time": "2022-08-07T10:06:16.179Z"
   },
   {
    "duration": 5,
    "start_time": "2022-08-07T10:08:33.914Z"
   },
   {
    "duration": 1104,
    "start_time": "2022-08-07T10:08:33.933Z"
   },
   {
    "duration": 210,
    "start_time": "2022-08-07T10:08:35.039Z"
   },
   {
    "duration": 13,
    "start_time": "2022-08-07T10:08:35.251Z"
   },
   {
    "duration": 4702,
    "start_time": "2022-08-07T10:08:35.266Z"
   },
   {
    "duration": 2,
    "start_time": "2022-08-07T10:08:39.970Z"
   },
   {
    "duration": 8,
    "start_time": "2022-08-07T10:08:39.973Z"
   },
   {
    "duration": 4,
    "start_time": "2022-08-07T10:08:39.982Z"
   },
   {
    "duration": 36,
    "start_time": "2022-08-07T10:08:39.988Z"
   },
   {
    "duration": 62,
    "start_time": "2022-08-07T10:08:40.025Z"
   },
   {
    "duration": 778,
    "start_time": "2022-08-07T10:09:10.120Z"
   },
   {
    "duration": 100,
    "start_time": "2022-08-07T10:09:34.924Z"
   },
   {
    "duration": 107,
    "start_time": "2022-08-07T10:09:47.210Z"
   },
   {
    "duration": 88,
    "start_time": "2022-08-07T10:09:52.476Z"
   },
   {
    "duration": 68,
    "start_time": "2022-08-07T10:09:55.749Z"
   },
   {
    "duration": 724,
    "start_time": "2022-08-07T10:10:08.486Z"
   },
   {
    "duration": 895,
    "start_time": "2022-08-07T10:10:40.114Z"
   },
   {
    "duration": 1556,
    "start_time": "2022-08-07T10:10:50.341Z"
   },
   {
    "duration": 1655,
    "start_time": "2022-08-07T10:11:14.413Z"
   },
   {
    "duration": 1535,
    "start_time": "2022-08-07T10:11:18.782Z"
   },
   {
    "duration": 1673,
    "start_time": "2022-08-07T10:11:24.770Z"
   },
   {
    "duration": 12,
    "start_time": "2022-08-07T10:12:38.200Z"
   },
   {
    "duration": 5,
    "start_time": "2022-08-07T10:13:17.495Z"
   },
   {
    "duration": 1071,
    "start_time": "2022-08-07T10:13:17.513Z"
   },
   {
    "duration": 208,
    "start_time": "2022-08-07T10:13:18.586Z"
   },
   {
    "duration": 14,
    "start_time": "2022-08-07T10:13:18.796Z"
   },
   {
    "duration": 4396,
    "start_time": "2022-08-07T10:13:18.811Z"
   },
   {
    "duration": 3,
    "start_time": "2022-08-07T10:13:23.209Z"
   },
   {
    "duration": 10,
    "start_time": "2022-08-07T10:13:23.213Z"
   },
   {
    "duration": 6,
    "start_time": "2022-08-07T10:13:23.225Z"
   },
   {
    "duration": 42,
    "start_time": "2022-08-07T10:13:23.232Z"
   },
   {
    "duration": 48,
    "start_time": "2022-08-07T10:13:23.275Z"
   },
   {
    "duration": 1561,
    "start_time": "2022-08-07T10:13:23.325Z"
   },
   {
    "duration": 11,
    "start_time": "2022-08-07T10:13:31.848Z"
   },
   {
    "duration": 9,
    "start_time": "2022-08-07T10:15:37.774Z"
   },
   {
    "duration": 5,
    "start_time": "2022-08-07T10:15:42.138Z"
   },
   {
    "duration": 1099,
    "start_time": "2022-08-07T10:15:42.158Z"
   },
   {
    "duration": 208,
    "start_time": "2022-08-07T10:15:43.259Z"
   },
   {
    "duration": 13,
    "start_time": "2022-08-07T10:15:43.469Z"
   },
   {
    "duration": 4463,
    "start_time": "2022-08-07T10:15:43.484Z"
   },
   {
    "duration": 2,
    "start_time": "2022-08-07T10:15:47.954Z"
   },
   {
    "duration": 6,
    "start_time": "2022-08-07T10:15:47.958Z"
   },
   {
    "duration": 5,
    "start_time": "2022-08-07T10:15:47.966Z"
   },
   {
    "duration": 36,
    "start_time": "2022-08-07T10:15:47.972Z"
   },
   {
    "duration": 64,
    "start_time": "2022-08-07T10:15:48.009Z"
   },
   {
    "duration": 1605,
    "start_time": "2022-08-07T10:15:48.076Z"
   },
   {
    "duration": 18,
    "start_time": "2022-08-07T10:15:51.903Z"
   },
   {
    "duration": 11,
    "start_time": "2022-08-07T10:16:00.832Z"
   },
   {
    "duration": 2071,
    "start_time": "2022-08-07T10:18:37.951Z"
   },
   {
    "duration": 9,
    "start_time": "2022-08-07T10:20:19.272Z"
   },
   {
    "duration": 64,
    "start_time": "2022-08-07T10:20:28.148Z"
   },
   {
    "duration": 60,
    "start_time": "2022-08-07T10:20:46.814Z"
   },
   {
    "duration": 64,
    "start_time": "2022-08-07T10:20:56.345Z"
   },
   {
    "duration": 13,
    "start_time": "2022-08-07T10:21:37.864Z"
   },
   {
    "duration": 682,
    "start_time": "2022-08-07T10:22:00.264Z"
   },
   {
    "duration": 1418,
    "start_time": "2022-08-07T10:22:42.467Z"
   },
   {
    "duration": 343,
    "start_time": "2022-08-07T10:22:50.436Z"
   },
   {
    "duration": 164,
    "start_time": "2022-08-07T10:22:57.970Z"
   },
   {
    "duration": 152,
    "start_time": "2022-08-07T10:23:05.450Z"
   },
   {
    "duration": 67,
    "start_time": "2022-08-07T10:23:15.585Z"
   },
   {
    "duration": 153,
    "start_time": "2022-08-07T10:23:50.365Z"
   },
   {
    "duration": 142,
    "start_time": "2022-08-07T10:24:48.097Z"
   },
   {
    "duration": 1410,
    "start_time": "2022-08-07T10:25:45.537Z"
   },
   {
    "duration": 65,
    "start_time": "2022-08-07T10:26:35.921Z"
   },
   {
    "duration": 164,
    "start_time": "2022-08-07T10:27:53.472Z"
   },
   {
    "duration": 144,
    "start_time": "2022-08-07T10:28:14.982Z"
   },
   {
    "duration": 1384,
    "start_time": "2022-08-07T10:29:33.034Z"
   },
   {
    "duration": 5,
    "start_time": "2022-08-07T10:29:50.747Z"
   },
   {
    "duration": 1114,
    "start_time": "2022-08-07T10:29:50.766Z"
   },
   {
    "duration": 204,
    "start_time": "2022-08-07T10:29:51.881Z"
   },
   {
    "duration": 14,
    "start_time": "2022-08-07T10:29:52.086Z"
   },
   {
    "duration": 4261,
    "start_time": "2022-08-07T10:29:52.102Z"
   },
   {
    "duration": 2,
    "start_time": "2022-08-07T10:29:56.365Z"
   },
   {
    "duration": 6,
    "start_time": "2022-08-07T10:29:56.369Z"
   },
   {
    "duration": 6,
    "start_time": "2022-08-07T10:29:56.376Z"
   },
   {
    "duration": 38,
    "start_time": "2022-08-07T10:29:56.383Z"
   },
   {
    "duration": 62,
    "start_time": "2022-08-07T10:29:56.422Z"
   },
   {
    "duration": 1638,
    "start_time": "2022-08-07T10:29:56.487Z"
   },
   {
    "duration": 18,
    "start_time": "2022-08-07T10:29:58.126Z"
   },
   {
    "duration": 18,
    "start_time": "2022-08-07T10:29:58.145Z"
   },
   {
    "duration": 2,
    "start_time": "2022-08-07T10:29:58.164Z"
   },
   {
    "duration": 8,
    "start_time": "2022-08-07T10:29:58.167Z"
   },
   {
    "duration": 7,
    "start_time": "2022-08-07T10:29:58.177Z"
   },
   {
    "duration": 12,
    "start_time": "2022-08-07T10:29:58.186Z"
   },
   {
    "duration": 67,
    "start_time": "2022-08-07T10:29:58.200Z"
   },
   {
    "duration": 149,
    "start_time": "2022-08-07T10:29:58.269Z"
   },
   {
    "duration": 73,
    "start_time": "2022-08-07T10:29:58.419Z"
   },
   {
    "duration": 645,
    "start_time": "2022-08-07T10:30:29.281Z"
   },
   {
    "duration": 1389,
    "start_time": "2022-08-07T10:30:35.135Z"
   },
   {
    "duration": 178,
    "start_time": "2022-08-07T10:30:46.663Z"
   },
   {
    "duration": 1281,
    "start_time": "2022-08-07T10:30:49.167Z"
   },
   {
    "duration": 664,
    "start_time": "2022-08-07T10:31:01.718Z"
   },
   {
    "duration": 140,
    "start_time": "2022-08-07T10:31:47.119Z"
   },
   {
    "duration": 138,
    "start_time": "2022-08-07T10:31:59.813Z"
   },
   {
    "duration": 142,
    "start_time": "2022-08-07T10:32:23.067Z"
   },
   {
    "duration": 5,
    "start_time": "2022-08-07T10:33:06.544Z"
   },
   {
    "duration": 1218,
    "start_time": "2022-08-07T10:33:06.563Z"
   },
   {
    "duration": 208,
    "start_time": "2022-08-07T10:33:07.784Z"
   },
   {
    "duration": 13,
    "start_time": "2022-08-07T10:33:07.994Z"
   },
   {
    "duration": 4475,
    "start_time": "2022-08-07T10:33:08.009Z"
   },
   {
    "duration": 3,
    "start_time": "2022-08-07T10:33:12.485Z"
   },
   {
    "duration": 18,
    "start_time": "2022-08-07T10:33:12.489Z"
   },
   {
    "duration": 12,
    "start_time": "2022-08-07T10:33:12.508Z"
   },
   {
    "duration": 39,
    "start_time": "2022-08-07T10:33:12.521Z"
   },
   {
    "duration": 55,
    "start_time": "2022-08-07T10:33:12.561Z"
   },
   {
    "duration": 1729,
    "start_time": "2022-08-07T10:33:12.618Z"
   },
   {
    "duration": 21,
    "start_time": "2022-08-07T10:33:14.348Z"
   },
   {
    "duration": 13,
    "start_time": "2022-08-07T10:33:14.370Z"
   },
   {
    "duration": 2,
    "start_time": "2022-08-07T10:33:14.385Z"
   },
   {
    "duration": 4,
    "start_time": "2022-08-07T10:33:14.388Z"
   },
   {
    "duration": 6,
    "start_time": "2022-08-07T10:33:14.394Z"
   },
   {
    "duration": 4,
    "start_time": "2022-08-07T10:33:14.401Z"
   },
   {
    "duration": 94,
    "start_time": "2022-08-07T10:33:14.406Z"
   },
   {
    "duration": 157,
    "start_time": "2022-08-07T10:33:14.501Z"
   },
   {
    "duration": 77,
    "start_time": "2022-08-07T10:33:14.660Z"
   },
   {
    "duration": 163,
    "start_time": "2022-08-07T10:33:14.739Z"
   },
   {
    "duration": 1407,
    "start_time": "2022-08-07T10:33:14.904Z"
   },
   {
    "duration": 151,
    "start_time": "2022-08-07T10:33:16.312Z"
   },
   {
    "duration": 35,
    "start_time": "2022-08-07T10:33:16.465Z"
   },
   {
    "duration": 119,
    "start_time": "2022-08-07T10:33:16.502Z"
   },
   {
    "duration": 63,
    "start_time": "2022-08-07T10:33:16.622Z"
   },
   {
    "duration": 982,
    "start_time": "2022-08-07T10:33:16.687Z"
   },
   {
    "duration": 33,
    "start_time": "2022-08-07T10:33:17.671Z"
   },
   {
    "duration": 27,
    "start_time": "2022-08-07T10:33:17.707Z"
   },
   {
    "duration": 25,
    "start_time": "2022-08-07T10:33:17.736Z"
   },
   {
    "duration": 105,
    "start_time": "2022-08-07T10:33:17.762Z"
   },
   {
    "duration": 45,
    "start_time": "2022-08-07T18:12:10.790Z"
   },
   {
    "duration": 7,
    "start_time": "2022-08-07T18:12:14.757Z"
   },
   {
    "duration": 1585,
    "start_time": "2022-08-07T18:12:17.907Z"
   },
   {
    "duration": 1705,
    "start_time": "2022-08-07T18:12:19.495Z"
   },
   {
    "duration": 17,
    "start_time": "2022-08-07T18:12:21.202Z"
   },
   {
    "duration": 802,
    "start_time": "2022-08-07T18:12:21.220Z"
   },
   {
    "duration": 5173,
    "start_time": "2022-08-07T18:12:22.024Z"
   },
   {
    "duration": 58,
    "start_time": "2022-08-07T18:12:27.199Z"
   },
   {
    "duration": 91,
    "start_time": "2022-08-07T18:12:27.259Z"
   },
   {
    "duration": 31,
    "start_time": "2022-08-07T18:12:29.366Z"
   },
   {
    "duration": 44,
    "start_time": "2022-08-07T18:12:44.669Z"
   },
   {
    "duration": 25,
    "start_time": "2022-08-07T18:12:47.041Z"
   },
   {
    "duration": 55,
    "start_time": "2022-08-07T18:12:49.703Z"
   },
   {
    "duration": 21,
    "start_time": "2022-08-07T18:12:51.454Z"
   },
   {
    "duration": 7,
    "start_time": "2022-08-07T18:12:55.891Z"
   },
   {
    "duration": 1316,
    "start_time": "2022-08-07T18:12:55.915Z"
   },
   {
    "duration": 17,
    "start_time": "2022-08-07T18:12:57.234Z"
   },
   {
    "duration": 773,
    "start_time": "2022-08-07T18:12:57.254Z"
   },
   {
    "duration": 5105,
    "start_time": "2022-08-07T18:12:58.029Z"
   },
   {
    "duration": 43,
    "start_time": "2022-08-07T18:13:03.135Z"
   },
   {
    "duration": 85,
    "start_time": "2022-08-07T18:13:03.180Z"
   },
   {
    "duration": 31,
    "start_time": "2022-08-07T18:13:06.326Z"
   },
   {
    "duration": 42,
    "start_time": "2022-08-07T18:13:07.656Z"
   },
   {
    "duration": 15,
    "start_time": "2022-08-07T18:13:12.859Z"
   },
   {
    "duration": 19,
    "start_time": "2022-08-07T18:13:15.497Z"
   },
   {
    "duration": 47,
    "start_time": "2022-08-07T18:13:16.928Z"
   },
   {
    "duration": 14,
    "start_time": "2022-08-07T19:49:20.084Z"
   },
   {
    "duration": 14,
    "start_time": "2022-08-07T19:49:26.248Z"
   },
   {
    "duration": 7,
    "start_time": "2022-08-07T19:49:40.028Z"
   },
   {
    "duration": 1288,
    "start_time": "2022-08-07T19:49:40.121Z"
   },
   {
    "duration": 13,
    "start_time": "2022-08-07T19:49:41.411Z"
   },
   {
    "duration": 681,
    "start_time": "2022-08-07T19:49:41.426Z"
   },
   {
    "duration": 5160,
    "start_time": "2022-08-07T19:49:42.109Z"
   },
   {
    "duration": 61,
    "start_time": "2022-08-07T19:49:47.272Z"
   },
   {
    "duration": 83,
    "start_time": "2022-08-07T19:49:47.335Z"
   },
   {
    "duration": 116,
    "start_time": "2022-08-07T19:49:47.420Z"
   },
   {
    "duration": 17,
    "start_time": "2022-08-07T19:49:47.538Z"
   },
   {
    "duration": 79,
    "start_time": "2022-08-07T19:49:47.556Z"
   },
   {
    "duration": 1763,
    "start_time": "2022-08-07T19:49:47.637Z"
   },
   {
    "duration": 14,
    "start_time": "2022-08-07T19:49:53.018Z"
   },
   {
    "duration": 26,
    "start_time": "2022-08-07T19:50:09.207Z"
   },
   {
    "duration": 11,
    "start_time": "2022-08-07T19:52:14.823Z"
   },
   {
    "duration": 26,
    "start_time": "2022-08-07T19:52:56.919Z"
   },
   {
    "duration": 25,
    "start_time": "2022-08-07T19:53:08.775Z"
   },
   {
    "duration": 26,
    "start_time": "2022-08-07T19:53:13.352Z"
   },
   {
    "duration": 31,
    "start_time": "2022-08-07T19:53:17.921Z"
   },
   {
    "duration": 29,
    "start_time": "2022-08-07T19:53:21.527Z"
   },
   {
    "duration": 41,
    "start_time": "2022-08-07T19:54:22.753Z"
   },
   {
    "duration": 145,
    "start_time": "2022-08-07T19:55:36.101Z"
   },
   {
    "duration": 16,
    "start_time": "2022-08-07T19:59:52.328Z"
   },
   {
    "duration": 69,
    "start_time": "2022-08-07T20:01:03.126Z"
   },
   {
    "duration": 176,
    "start_time": "2022-08-07T20:06:36.189Z"
   },
   {
    "duration": 170,
    "start_time": "2022-08-07T20:08:49.650Z"
   },
   {
    "duration": 5,
    "start_time": "2022-08-07T20:28:39.311Z"
   },
   {
    "duration": 1288,
    "start_time": "2022-08-07T20:28:39.329Z"
   },
   {
    "duration": 14,
    "start_time": "2022-08-07T20:28:40.618Z"
   },
   {
    "duration": 711,
    "start_time": "2022-08-07T20:28:40.633Z"
   },
   {
    "duration": 4909,
    "start_time": "2022-08-07T20:28:41.346Z"
   },
   {
    "duration": 37,
    "start_time": "2022-08-07T20:28:46.257Z"
   },
   {
    "duration": 82,
    "start_time": "2022-08-07T20:28:46.295Z"
   },
   {
    "duration": 74,
    "start_time": "2022-08-07T20:28:46.379Z"
   },
   {
    "duration": 14,
    "start_time": "2022-08-07T20:28:46.455Z"
   },
   {
    "duration": 79,
    "start_time": "2022-08-07T20:28:46.471Z"
   },
   {
    "duration": 1754,
    "start_time": "2022-08-07T20:28:46.552Z"
   },
   {
    "duration": 40,
    "start_time": "2022-08-07T20:28:48.308Z"
   },
   {
    "duration": 11,
    "start_time": "2022-08-07T20:28:48.350Z"
   },
   {
    "duration": 179,
    "start_time": "2022-08-07T20:28:48.362Z"
   },
   {
    "duration": 81,
    "start_time": "2022-08-07T20:28:48.543Z"
   },
   {
    "duration": 163,
    "start_time": "2022-08-07T20:28:48.625Z"
   },
   {
    "duration": 1441,
    "start_time": "2022-08-07T20:28:48.790Z"
   },
   {
    "duration": 155,
    "start_time": "2022-08-07T20:28:50.233Z"
   },
   {
    "duration": 49,
    "start_time": "2022-08-07T20:28:50.389Z"
   },
   {
    "duration": 146,
    "start_time": "2022-08-07T20:28:50.439Z"
   },
   {
    "duration": 70,
    "start_time": "2022-08-07T20:28:50.587Z"
   },
   {
    "duration": 948,
    "start_time": "2022-08-07T20:28:50.659Z"
   },
   {
    "duration": 43,
    "start_time": "2022-08-07T20:28:51.609Z"
   },
   {
    "duration": 5,
    "start_time": "2022-08-07T20:32:06.972Z"
   },
   {
    "duration": 1341,
    "start_time": "2022-08-07T20:32:06.990Z"
   },
   {
    "duration": 14,
    "start_time": "2022-08-07T20:32:08.333Z"
   },
   {
    "duration": 725,
    "start_time": "2022-08-07T20:32:08.349Z"
   },
   {
    "duration": 5181,
    "start_time": "2022-08-07T20:32:09.076Z"
   },
   {
    "duration": 63,
    "start_time": "2022-08-07T20:32:14.259Z"
   },
   {
    "duration": 73,
    "start_time": "2022-08-07T20:32:14.325Z"
   },
   {
    "duration": 68,
    "start_time": "2022-08-07T20:32:14.409Z"
   },
   {
    "duration": 35,
    "start_time": "2022-08-07T20:32:14.479Z"
   },
   {
    "duration": 62,
    "start_time": "2022-08-07T20:32:14.516Z"
   },
   {
    "duration": 1802,
    "start_time": "2022-08-07T20:32:14.581Z"
   },
   {
    "duration": 51,
    "start_time": "2022-08-07T20:32:16.385Z"
   },
   {
    "duration": 11,
    "start_time": "2022-08-07T20:32:16.438Z"
   },
   {
    "duration": 183,
    "start_time": "2022-08-07T20:32:16.451Z"
   },
   {
    "duration": 81,
    "start_time": "2022-08-07T20:32:16.635Z"
   },
   {
    "duration": 183,
    "start_time": "2022-08-07T20:32:16.718Z"
   },
   {
    "duration": 1528,
    "start_time": "2022-08-07T20:32:16.908Z"
   },
   {
    "duration": 160,
    "start_time": "2022-08-07T20:32:18.438Z"
   },
   {
    "duration": 49,
    "start_time": "2022-08-07T20:32:18.600Z"
   },
   {
    "duration": 142,
    "start_time": "2022-08-07T20:32:18.651Z"
   },
   {
    "duration": 71,
    "start_time": "2022-08-07T20:32:18.795Z"
   },
   {
    "duration": 989,
    "start_time": "2022-08-07T20:32:18.867Z"
   },
   {
    "duration": 53,
    "start_time": "2022-08-07T20:32:19.858Z"
   },
   {
    "duration": 33,
    "start_time": "2022-08-07T20:32:19.912Z"
   },
   {
    "duration": 8,
    "start_time": "2022-08-07T20:32:19.947Z"
   },
   {
    "duration": 158,
    "start_time": "2022-08-07T20:32:19.957Z"
   },
   {
    "duration": 178,
    "start_time": "2022-08-07T20:44:37.231Z"
   },
   {
    "duration": 29,
    "start_time": "2022-08-07T20:44:40.662Z"
   },
   {
    "duration": 76,
    "start_time": "2022-08-07T20:51:48.232Z"
   },
   {
    "duration": 1253,
    "start_time": "2022-08-07T20:51:50.889Z"
   },
   {
    "duration": 104,
    "start_time": "2022-08-07T20:51:55.937Z"
   },
   {
    "duration": 29357,
    "start_time": "2022-08-07T20:54:11.442Z"
   },
   {
    "duration": 35,
    "start_time": "2022-08-07T21:00:07.831Z"
   },
   {
    "duration": 17,
    "start_time": "2022-08-07T21:00:24.650Z"
   },
   {
    "duration": 5,
    "start_time": "2022-08-07T21:00:36.394Z"
   },
   {
    "duration": 1429,
    "start_time": "2022-08-07T21:00:36.413Z"
   },
   {
    "duration": 15,
    "start_time": "2022-08-07T21:00:37.845Z"
   },
   {
    "duration": 764,
    "start_time": "2022-08-07T21:00:37.862Z"
   },
   {
    "duration": 5189,
    "start_time": "2022-08-07T21:00:38.628Z"
   },
   {
    "duration": 41,
    "start_time": "2022-08-07T21:00:43.819Z"
   },
   {
    "duration": 123,
    "start_time": "2022-08-07T21:00:43.862Z"
   },
   {
    "duration": 15,
    "start_time": "2022-08-07T21:00:48.433Z"
   },
   {
    "duration": 5,
    "start_time": "2022-08-07T21:00:57.036Z"
   },
   {
    "duration": 1446,
    "start_time": "2022-08-07T21:00:57.054Z"
   },
   {
    "duration": 16,
    "start_time": "2022-08-07T21:00:58.503Z"
   },
   {
    "duration": 766,
    "start_time": "2022-08-07T21:00:58.520Z"
   },
   {
    "duration": 5372,
    "start_time": "2022-08-07T21:00:59.288Z"
   },
   {
    "duration": 58,
    "start_time": "2022-08-07T21:01:04.662Z"
   },
   {
    "duration": 138,
    "start_time": "2022-08-07T21:01:07.577Z"
   },
   {
    "duration": 1466,
    "start_time": "2022-08-07T21:01:31.316Z"
   },
   {
    "duration": 1426,
    "start_time": "2022-08-07T21:01:32.785Z"
   },
   {
    "duration": 15,
    "start_time": "2022-08-07T21:01:34.213Z"
   },
   {
    "duration": 847,
    "start_time": "2022-08-07T21:01:34.231Z"
   },
   {
    "duration": 6096,
    "start_time": "2022-08-07T21:01:35.080Z"
   },
   {
    "duration": 65,
    "start_time": "2022-08-07T21:01:41.178Z"
   },
   {
    "duration": 117,
    "start_time": "2022-08-07T21:01:41.245Z"
   },
   {
    "duration": 76,
    "start_time": "2022-08-07T21:01:41.364Z"
   },
   {
    "duration": 15,
    "start_time": "2022-08-07T21:01:41.442Z"
   },
   {
    "duration": 83,
    "start_time": "2022-08-07T21:01:41.460Z"
   },
   {
    "duration": 1681,
    "start_time": "2022-08-07T21:01:41.544Z"
   },
   {
    "duration": 44,
    "start_time": "2022-08-07T21:01:43.227Z"
   },
   {
    "duration": 36,
    "start_time": "2022-08-07T21:01:43.273Z"
   },
   {
    "duration": 286,
    "start_time": "2022-08-07T21:01:43.311Z"
   },
   {
    "duration": 74,
    "start_time": "2022-08-07T21:01:43.599Z"
   },
   {
    "duration": 193,
    "start_time": "2022-08-07T21:01:43.675Z"
   },
   {
    "duration": 1550,
    "start_time": "2022-08-07T21:01:43.870Z"
   },
   {
    "duration": 166,
    "start_time": "2022-08-07T21:01:45.421Z"
   },
   {
    "duration": 54,
    "start_time": "2022-08-07T21:01:45.589Z"
   },
   {
    "duration": 147,
    "start_time": "2022-08-07T21:01:45.645Z"
   },
   {
    "duration": 77,
    "start_time": "2022-08-07T21:01:45.794Z"
   },
   {
    "duration": 1024,
    "start_time": "2022-08-07T21:01:45.873Z"
   },
   {
    "duration": 45,
    "start_time": "2022-08-07T21:01:46.899Z"
   },
   {
    "duration": 31,
    "start_time": "2022-08-07T21:01:46.946Z"
   },
   {
    "duration": 37,
    "start_time": "2022-08-07T21:01:46.978Z"
   },
   {
    "duration": 133,
    "start_time": "2022-08-07T21:01:47.017Z"
   },
   {
    "duration": 131,
    "start_time": "2022-08-07T21:01:47.152Z"
   },
   {
    "duration": 38,
    "start_time": "2022-08-07T21:01:47.287Z"
   },
   {
    "duration": 1096,
    "start_time": "2022-08-07T21:01:47.327Z"
   },
   {
    "duration": 28247,
    "start_time": "2022-08-07T21:01:48.425Z"
   },
   {
    "duration": 1463,
    "start_time": "2022-08-07T21:02:16.674Z"
   },
   {
    "duration": 1,
    "start_time": "2022-08-07T21:02:18.139Z"
   },
   {
    "duration": 0,
    "start_time": "2022-08-07T21:02:18.141Z"
   },
   {
    "duration": 0,
    "start_time": "2022-08-07T21:02:18.142Z"
   },
   {
    "duration": 0,
    "start_time": "2022-08-07T21:02:18.144Z"
   },
   {
    "duration": 0,
    "start_time": "2022-08-07T21:02:18.146Z"
   },
   {
    "duration": 0,
    "start_time": "2022-08-07T21:02:18.147Z"
   },
   {
    "duration": 0,
    "start_time": "2022-08-07T21:02:18.149Z"
   },
   {
    "duration": 0,
    "start_time": "2022-08-07T21:02:18.151Z"
   },
   {
    "duration": 0,
    "start_time": "2022-08-07T21:02:18.152Z"
   },
   {
    "duration": 31,
    "start_time": "2022-08-07T21:03:46.618Z"
   },
   {
    "duration": 1603,
    "start_time": "2022-08-07T21:24:50.085Z"
   },
   {
    "duration": 1928,
    "start_time": "2022-08-07T21:24:51.691Z"
   },
   {
    "duration": 15,
    "start_time": "2022-08-07T21:24:53.620Z"
   },
   {
    "duration": 853,
    "start_time": "2022-08-07T21:24:53.639Z"
   },
   {
    "duration": 5780,
    "start_time": "2022-08-07T21:24:54.494Z"
   },
   {
    "duration": 52,
    "start_time": "2022-08-07T21:25:00.276Z"
   },
   {
    "duration": 117,
    "start_time": "2022-08-07T21:25:00.330Z"
   },
   {
    "duration": 80,
    "start_time": "2022-08-07T21:25:00.449Z"
   },
   {
    "duration": 15,
    "start_time": "2022-08-07T21:25:00.531Z"
   },
   {
    "duration": 76,
    "start_time": "2022-08-07T21:25:00.549Z"
   },
   {
    "duration": 1803,
    "start_time": "2022-08-07T21:25:00.627Z"
   },
   {
    "duration": 44,
    "start_time": "2022-08-07T21:25:02.432Z"
   },
   {
    "duration": 34,
    "start_time": "2022-08-07T21:25:02.478Z"
   },
   {
    "duration": 302,
    "start_time": "2022-08-07T21:25:02.515Z"
   },
   {
    "duration": 69,
    "start_time": "2022-08-07T21:25:02.819Z"
   },
   {
    "duration": 210,
    "start_time": "2022-08-07T21:25:02.890Z"
   },
   {
    "duration": 1649,
    "start_time": "2022-08-07T21:25:03.102Z"
   },
   {
    "duration": 177,
    "start_time": "2022-08-07T21:25:04.753Z"
   },
   {
    "duration": 56,
    "start_time": "2022-08-07T21:25:04.933Z"
   },
   {
    "duration": 176,
    "start_time": "2022-08-07T21:25:04.992Z"
   },
   {
    "duration": 118,
    "start_time": "2022-08-07T21:25:05.169Z"
   },
   {
    "duration": 1304,
    "start_time": "2022-08-07T21:25:05.289Z"
   },
   {
    "duration": 60,
    "start_time": "2022-08-07T21:25:06.595Z"
   },
   {
    "duration": 57,
    "start_time": "2022-08-07T21:25:06.657Z"
   },
   {
    "duration": 10,
    "start_time": "2022-08-07T21:25:06.716Z"
   },
   {
    "duration": 136,
    "start_time": "2022-08-07T21:25:06.727Z"
   },
   {
    "duration": 117,
    "start_time": "2022-08-07T21:25:06.865Z"
   },
   {
    "duration": 40,
    "start_time": "2022-08-07T21:25:06.986Z"
   },
   {
    "duration": 1211,
    "start_time": "2022-08-07T21:25:07.027Z"
   },
   {
    "duration": 30226,
    "start_time": "2022-08-07T21:25:08.240Z"
   },
   {
    "duration": 1609,
    "start_time": "2022-08-12T13:56:38.783Z"
   },
   {
    "duration": 1598,
    "start_time": "2022-08-12T13:56:40.394Z"
   },
   {
    "duration": 18,
    "start_time": "2022-08-12T13:56:41.994Z"
   },
   {
    "duration": 753,
    "start_time": "2022-08-12T13:56:42.013Z"
   },
   {
    "duration": 4793,
    "start_time": "2022-08-12T13:56:42.768Z"
   },
   {
    "duration": 35,
    "start_time": "2022-08-12T13:56:47.562Z"
   },
   {
    "duration": 101,
    "start_time": "2022-08-12T13:56:47.611Z"
   },
   {
    "duration": 64,
    "start_time": "2022-08-12T13:56:47.715Z"
   },
   {
    "duration": 33,
    "start_time": "2022-08-12T13:56:47.780Z"
   },
   {
    "duration": 56,
    "start_time": "2022-08-12T13:56:47.815Z"
   },
   {
    "duration": 1615,
    "start_time": "2022-08-12T13:56:47.872Z"
   },
   {
    "duration": 47,
    "start_time": "2022-08-12T13:56:49.489Z"
   },
   {
    "duration": 10,
    "start_time": "2022-08-12T13:56:49.537Z"
   },
   {
    "duration": 263,
    "start_time": "2022-08-12T13:56:49.548Z"
   },
   {
    "duration": 68,
    "start_time": "2022-08-12T13:56:49.813Z"
   },
   {
    "duration": 195,
    "start_time": "2022-08-12T13:56:49.883Z"
   },
   {
    "duration": 1533,
    "start_time": "2022-08-12T13:56:50.080Z"
   },
   {
    "duration": 164,
    "start_time": "2022-08-12T13:56:51.615Z"
   },
   {
    "duration": 44,
    "start_time": "2022-08-12T13:56:51.781Z"
   },
   {
    "duration": 142,
    "start_time": "2022-08-12T13:56:51.828Z"
   },
   {
    "duration": 63,
    "start_time": "2022-08-12T13:56:51.971Z"
   },
   {
    "duration": 949,
    "start_time": "2022-08-12T13:56:52.037Z"
   },
   {
    "duration": 39,
    "start_time": "2022-08-12T13:56:52.988Z"
   },
   {
    "duration": 31,
    "start_time": "2022-08-12T13:56:53.029Z"
   },
   {
    "duration": 7,
    "start_time": "2022-08-12T13:56:53.062Z"
   },
   {
    "duration": 124,
    "start_time": "2022-08-12T13:56:53.071Z"
   },
   {
    "duration": 90,
    "start_time": "2022-08-12T13:56:53.197Z"
   },
   {
    "duration": 34,
    "start_time": "2022-08-12T13:56:53.291Z"
   },
   {
    "duration": 753,
    "start_time": "2022-08-12T13:56:53.327Z"
   },
   {
    "duration": 24170,
    "start_time": "2022-08-12T13:56:54.082Z"
   },
   {
    "duration": 1511,
    "start_time": "2022-08-12T15:45:18.993Z"
   },
   {
    "duration": 744,
    "start_time": "2022-08-12T15:45:26.389Z"
   },
   {
    "duration": 495,
    "start_time": "2022-08-12T15:48:46.518Z"
   },
   {
    "duration": 5,
    "start_time": "2022-08-12T15:57:17.487Z"
   },
   {
    "duration": 131,
    "start_time": "2022-08-12T15:59:32.154Z"
   },
   {
    "duration": 917,
    "start_time": "2022-08-12T16:02:45.917Z"
   },
   {
    "duration": 228,
    "start_time": "2022-08-12T16:04:15.185Z"
   },
   {
    "duration": 49,
    "start_time": "2022-08-12T16:07:12.261Z"
   },
   {
    "duration": 1433,
    "start_time": "2022-08-12T16:07:19.594Z"
   },
   {
    "duration": 1575,
    "start_time": "2022-08-12T16:07:21.029Z"
   },
   {
    "duration": 18,
    "start_time": "2022-08-12T16:07:22.606Z"
   },
   {
    "duration": 731,
    "start_time": "2022-08-12T16:07:22.626Z"
   },
   {
    "duration": 4706,
    "start_time": "2022-08-12T16:07:23.358Z"
   },
   {
    "duration": 36,
    "start_time": "2022-08-12T16:07:28.066Z"
   },
   {
    "duration": 100,
    "start_time": "2022-08-12T16:07:28.111Z"
   },
   {
    "duration": 65,
    "start_time": "2022-08-12T16:07:28.212Z"
   },
   {
    "duration": 14,
    "start_time": "2022-08-12T16:07:28.279Z"
   },
   {
    "duration": 56,
    "start_time": "2022-08-12T16:07:28.312Z"
   },
   {
    "duration": 1595,
    "start_time": "2022-08-12T16:07:28.370Z"
   },
   {
    "duration": 46,
    "start_time": "2022-08-12T16:07:29.967Z"
   },
   {
    "duration": 10,
    "start_time": "2022-08-12T16:07:30.015Z"
   },
   {
    "duration": 253,
    "start_time": "2022-08-12T16:07:30.026Z"
   },
   {
    "duration": 61,
    "start_time": "2022-08-12T16:07:30.281Z"
   },
   {
    "duration": 162,
    "start_time": "2022-08-12T16:07:30.344Z"
   },
   {
    "duration": 1418,
    "start_time": "2022-08-12T16:07:30.507Z"
   },
   {
    "duration": 146,
    "start_time": "2022-08-12T16:07:31.927Z"
   },
   {
    "duration": 54,
    "start_time": "2022-08-12T16:07:32.075Z"
   },
   {
    "duration": 117,
    "start_time": "2022-08-12T16:07:32.131Z"
   },
   {
    "duration": 61,
    "start_time": "2022-08-12T16:07:32.250Z"
   },
   {
    "duration": 904,
    "start_time": "2022-08-12T16:07:32.313Z"
   },
   {
    "duration": 34,
    "start_time": "2022-08-12T16:07:33.219Z"
   },
   {
    "duration": 32,
    "start_time": "2022-08-12T16:07:33.255Z"
   },
   {
    "duration": 24,
    "start_time": "2022-08-12T16:07:33.288Z"
   },
   {
    "duration": 99,
    "start_time": "2022-08-12T16:07:33.313Z"
   },
   {
    "duration": 97,
    "start_time": "2022-08-12T16:07:33.414Z"
   },
   {
    "duration": 20,
    "start_time": "2022-08-12T16:07:33.514Z"
   },
   {
    "duration": 713,
    "start_time": "2022-08-12T16:07:33.536Z"
   },
   {
    "duration": 130,
    "start_time": "2022-08-12T16:07:34.250Z"
   },
   {
    "duration": 15955,
    "start_time": "2022-08-12T16:07:34.382Z"
   },
   {
    "duration": 1345,
    "start_time": "2022-08-12T16:10:09.624Z"
   },
   {
    "duration": 115,
    "start_time": "2022-08-12T16:10:25.117Z"
   },
   {
    "duration": 5,
    "start_time": "2022-08-12T16:10:29.579Z"
   },
   {
    "duration": 1515,
    "start_time": "2022-08-12T16:10:29.598Z"
   },
   {
    "duration": 13,
    "start_time": "2022-08-12T16:10:31.115Z"
   },
   {
    "duration": 767,
    "start_time": "2022-08-12T16:10:31.130Z"
   },
   {
    "duration": 4817,
    "start_time": "2022-08-12T16:10:31.899Z"
   },
   {
    "duration": 37,
    "start_time": "2022-08-12T16:10:36.717Z"
   },
   {
    "duration": 112,
    "start_time": "2022-08-12T16:10:36.756Z"
   },
   {
    "duration": 72,
    "start_time": "2022-08-12T16:10:36.869Z"
   },
   {
    "duration": 14,
    "start_time": "2022-08-12T16:10:36.943Z"
   },
   {
    "duration": 64,
    "start_time": "2022-08-12T16:10:36.959Z"
   },
   {
    "duration": 1443,
    "start_time": "2022-08-12T16:10:37.026Z"
   },
   {
    "duration": 47,
    "start_time": "2022-08-12T16:10:38.471Z"
   },
   {
    "duration": 10,
    "start_time": "2022-08-12T16:10:38.520Z"
   },
   {
    "duration": 259,
    "start_time": "2022-08-12T16:10:38.531Z"
   },
   {
    "duration": 73,
    "start_time": "2022-08-12T16:10:38.792Z"
   },
   {
    "duration": 171,
    "start_time": "2022-08-12T16:10:38.867Z"
   },
   {
    "duration": 1477,
    "start_time": "2022-08-12T16:10:39.039Z"
   },
   {
    "duration": 146,
    "start_time": "2022-08-12T16:10:40.518Z"
   },
   {
    "duration": 54,
    "start_time": "2022-08-12T16:10:40.665Z"
   },
   {
    "duration": 118,
    "start_time": "2022-08-12T16:10:40.721Z"
   },
   {
    "duration": 54,
    "start_time": "2022-08-12T16:10:40.840Z"
   },
   {
    "duration": 837,
    "start_time": "2022-08-12T16:10:40.896Z"
   },
   {
    "duration": 34,
    "start_time": "2022-08-12T16:10:41.735Z"
   },
   {
    "duration": 28,
    "start_time": "2022-08-12T16:10:41.770Z"
   },
   {
    "duration": 7,
    "start_time": "2022-08-12T16:10:41.811Z"
   },
   {
    "duration": 108,
    "start_time": "2022-08-12T16:10:41.819Z"
   },
   {
    "duration": 94,
    "start_time": "2022-08-12T16:10:41.928Z"
   },
   {
    "duration": 21,
    "start_time": "2022-08-12T16:10:42.024Z"
   },
   {
    "duration": 781,
    "start_time": "2022-08-12T16:10:42.048Z"
   },
   {
    "duration": 124,
    "start_time": "2022-08-12T16:10:59.729Z"
   },
   {
    "duration": 17234,
    "start_time": "2022-08-12T16:11:01.510Z"
   },
   {
    "duration": 6212,
    "start_time": "2022-08-12T16:11:22.700Z"
   },
   {
    "duration": 873,
    "start_time": "2022-08-12T16:11:31.852Z"
   },
   {
    "duration": 102,
    "start_time": "2022-08-12T17:59:35.382Z"
   },
   {
    "duration": 6,
    "start_time": "2022-08-12T17:59:40.218Z"
   },
   {
    "duration": 1973,
    "start_time": "2022-08-12T17:59:46.640Z"
   },
   {
    "duration": 62,
    "start_time": "2022-08-12T18:00:58.986Z"
   },
   {
    "duration": 7133,
    "start_time": "2022-08-12T18:01:08.985Z"
   },
   {
    "duration": 5,
    "start_time": "2022-08-12T18:19:40.888Z"
   },
   {
    "duration": 23,
    "start_time": "2022-08-12T18:27:18.024Z"
   },
   {
    "duration": 26,
    "start_time": "2022-08-12T18:27:34.867Z"
   },
   {
    "duration": 77,
    "start_time": "2022-08-12T18:32:04.720Z"
   },
   {
    "duration": 72571,
    "start_time": "2022-08-12T18:34:27.046Z"
   },
   {
    "duration": 15312,
    "start_time": "2022-08-12T18:35:50.430Z"
   },
   {
    "duration": 26,
    "start_time": "2022-08-12T18:36:39.815Z"
   },
   {
    "duration": 9,
    "start_time": "2022-08-12T18:40:19.094Z"
   },
   {
    "duration": 5,
    "start_time": "2022-08-12T18:40:53.674Z"
   },
   {
    "duration": 578,
    "start_time": "2022-08-12T18:41:03.134Z"
   },
   {
    "duration": 585,
    "start_time": "2022-08-12T18:41:27.541Z"
   },
   {
    "duration": 612,
    "start_time": "2022-08-12T18:41:47.664Z"
   },
   {
    "duration": 708,
    "start_time": "2022-08-12T18:43:52.204Z"
   },
   {
    "duration": 124287,
    "start_time": "2022-08-12T18:44:21.736Z"
   },
   {
    "duration": 449,
    "start_time": "2022-08-12T18:47:07.456Z"
   },
   {
    "duration": 123,
    "start_time": "2022-08-12T18:47:39.731Z"
   },
   {
    "duration": 166,
    "start_time": "2022-08-12T18:47:52.421Z"
   },
   {
    "duration": 9,
    "start_time": "2022-08-12T18:48:16.042Z"
   },
   {
    "duration": 151,
    "start_time": "2022-08-12T18:48:28.182Z"
   },
   {
    "duration": 151,
    "start_time": "2022-08-12T18:48:34.520Z"
   },
   {
    "duration": 3558,
    "start_time": "2022-08-12T18:49:29.247Z"
   },
   {
    "duration": 8,
    "start_time": "2022-08-12T18:50:28.615Z"
   },
   {
    "duration": 731,
    "start_time": "2022-08-12T18:50:48.573Z"
   },
   {
    "duration": 164,
    "start_time": "2022-08-12T18:51:10.052Z"
   },
   {
    "duration": 171,
    "start_time": "2022-08-12T18:52:07.493Z"
   },
   {
    "duration": 411,
    "start_time": "2022-08-12T18:56:27.056Z"
   },
   {
    "duration": 299,
    "start_time": "2022-08-12T18:56:35.772Z"
   },
   {
    "duration": 361,
    "start_time": "2022-08-12T18:56:52.472Z"
   },
   {
    "duration": 731,
    "start_time": "2022-08-12T18:57:10.079Z"
   },
   {
    "duration": 679,
    "start_time": "2022-08-12T18:57:22.926Z"
   },
   {
    "duration": 691,
    "start_time": "2022-08-12T18:57:40.614Z"
   },
   {
    "duration": 367,
    "start_time": "2022-08-12T18:58:30.190Z"
   },
   {
    "duration": 382,
    "start_time": "2022-08-12T18:59:12.949Z"
   },
   {
    "duration": 260,
    "start_time": "2022-08-12T19:05:37.790Z"
   },
   {
    "duration": 477,
    "start_time": "2022-08-12T19:05:45.012Z"
   },
   {
    "duration": 666,
    "start_time": "2022-08-12T19:06:34.239Z"
   },
   {
    "duration": 711,
    "start_time": "2022-08-12T19:06:45.159Z"
   },
   {
    "duration": 119,
    "start_time": "2022-08-12T19:06:48.219Z"
   },
   {
    "duration": 15810,
    "start_time": "2022-08-12T19:06:52.591Z"
   },
   {
    "duration": 577,
    "start_time": "2022-08-12T19:07:26.673Z"
   },
   {
    "duration": 840,
    "start_time": "2022-08-12T19:08:45.344Z"
   },
   {
    "duration": 125929,
    "start_time": "2022-08-12T19:09:14.761Z"
   },
   {
    "duration": 136,
    "start_time": "2022-08-12T19:12:30.111Z"
   },
   {
    "duration": 54,
    "start_time": "2022-08-12T19:12:40.741Z"
   },
   {
    "duration": 71276,
    "start_time": "2022-08-12T19:14:56.674Z"
   },
   {
    "duration": 55,
    "start_time": "2022-08-12T19:16:14.539Z"
   },
   {
    "duration": 126905,
    "start_time": "2022-08-12T19:20:57.696Z"
   },
   {
    "duration": 15,
    "start_time": "2022-08-12T19:26:10.663Z"
   },
   {
    "duration": 14,
    "start_time": "2022-08-12T19:27:14.190Z"
   },
   {
    "duration": 7130,
    "start_time": "2022-08-12T19:27:36.112Z"
   },
   {
    "duration": 124828,
    "start_time": "2022-08-12T19:28:09.862Z"
   },
   {
    "duration": 64,
    "start_time": "2022-08-12T19:42:46.683Z"
   },
   {
    "duration": 128546,
    "start_time": "2022-08-12T19:43:01.617Z"
   },
   {
    "duration": 3,
    "start_time": "2022-08-12T19:47:37.793Z"
   },
   {
    "duration": 50,
    "start_time": "2022-08-12T19:47:44.457Z"
   },
   {
    "duration": 713,
    "start_time": "2022-08-12T19:49:08.232Z"
   },
   {
    "duration": 117,
    "start_time": "2022-08-12T19:49:09.688Z"
   },
   {
    "duration": 13980,
    "start_time": "2022-08-12T19:49:11.332Z"
   },
   {
    "duration": 71,
    "start_time": "2022-08-12T19:49:27.095Z"
   },
   {
    "duration": 1014,
    "start_time": "2022-08-12T19:49:30.030Z"
   },
   {
    "duration": 5603,
    "start_time": "2022-08-12T19:53:18.536Z"
   },
   {
    "duration": 52052,
    "start_time": "2022-08-12T19:53:36.346Z"
   },
   {
    "duration": 9422,
    "start_time": "2022-08-12T19:58:17.259Z"
   },
   {
    "duration": 52160,
    "start_time": "2022-08-12T20:00:20.916Z"
   },
   {
    "duration": 5589,
    "start_time": "2022-08-12T20:02:54.444Z"
   },
   {
    "duration": 7006,
    "start_time": "2022-08-12T20:03:06.160Z"
   },
   {
    "duration": 23692,
    "start_time": "2022-08-12T20:06:51.056Z"
   },
   {
    "duration": 24000,
    "start_time": "2022-08-12T20:07:14.750Z"
   },
   {
    "duration": 22154,
    "start_time": "2022-08-12T20:07:48.532Z"
   },
   {
    "duration": 9792,
    "start_time": "2022-08-12T20:09:28.767Z"
   },
   {
    "duration": 27,
    "start_time": "2022-08-12T20:12:04.340Z"
   },
   {
    "duration": 57,
    "start_time": "2022-08-12T20:12:47.148Z"
   },
   {
    "duration": 7958,
    "start_time": "2022-08-12T20:13:13.065Z"
   },
   {
    "duration": 53501,
    "start_time": "2022-08-12T20:14:15.659Z"
   },
   {
    "duration": 23786,
    "start_time": "2022-08-12T20:16:03.299Z"
   },
   {
    "duration": 71,
    "start_time": "2022-08-12T20:18:08.615Z"
   },
   {
    "duration": 17,
    "start_time": "2022-08-12T20:18:20.493Z"
   },
   {
    "duration": 13,
    "start_time": "2022-08-12T20:18:32.947Z"
   },
   {
    "duration": 586,
    "start_time": "2022-08-12T20:19:01.164Z"
   },
   {
    "duration": 12,
    "start_time": "2022-08-12T20:19:04.057Z"
   },
   {
    "duration": 51,
    "start_time": "2022-08-12T20:19:15.885Z"
   },
   {
    "duration": 22,
    "start_time": "2022-08-12T20:19:18.351Z"
   },
   {
    "duration": 674,
    "start_time": "2022-08-12T20:20:43.515Z"
   },
   {
    "duration": 565,
    "start_time": "2022-08-12T20:20:57.629Z"
   },
   {
    "duration": 808,
    "start_time": "2022-08-12T20:21:23.753Z"
   },
   {
    "duration": 17,
    "start_time": "2022-08-12T20:21:27.814Z"
   },
   {
    "duration": 8840,
    "start_time": "2022-08-12T20:22:34.464Z"
   },
   {
    "duration": 56020,
    "start_time": "2022-08-12T20:31:27.313Z"
   },
   {
    "duration": 11,
    "start_time": "2022-08-12T20:32:25.185Z"
   },
   {
    "duration": 54,
    "start_time": "2022-08-12T20:32:31.095Z"
   },
   {
    "duration": 1640,
    "start_time": "2022-08-12T20:33:02.160Z"
   },
   {
    "duration": 1611,
    "start_time": "2022-08-12T20:33:46.529Z"
   },
   {
    "duration": 1766,
    "start_time": "2022-08-12T20:33:55.973Z"
   },
   {
    "duration": 1703,
    "start_time": "2022-08-12T20:34:04.114Z"
   },
   {
    "duration": 1657,
    "start_time": "2022-08-12T20:34:09.423Z"
   },
   {
    "duration": 1709,
    "start_time": "2022-08-12T20:34:21.760Z"
   },
   {
    "duration": 1678,
    "start_time": "2022-08-12T20:34:31.530Z"
   },
   {
    "duration": 582,
    "start_time": "2022-08-12T20:34:39.700Z"
   },
   {
    "duration": 1765,
    "start_time": "2022-08-12T20:34:41.793Z"
   },
   {
    "duration": 60,
    "start_time": "2022-08-12T20:34:51.393Z"
   },
   {
    "duration": 1717,
    "start_time": "2022-08-12T20:34:53.641Z"
   },
   {
    "duration": 845,
    "start_time": "2022-08-12T20:34:58.278Z"
   },
   {
    "duration": 20,
    "start_time": "2022-08-12T20:35:01.808Z"
   },
   {
    "duration": 18,
    "start_time": "2022-08-12T20:35:28.595Z"
   },
   {
    "duration": 2240,
    "start_time": "2022-08-12T20:35:41.772Z"
   },
   {
    "duration": 50,
    "start_time": "2022-08-12T20:36:25.736Z"
   },
   {
    "duration": 124,
    "start_time": "2022-08-12T20:36:27.425Z"
   },
   {
    "duration": 1672,
    "start_time": "2022-08-12T20:36:31.150Z"
   },
   {
    "duration": 54,
    "start_time": "2022-08-12T20:36:37.063Z"
   },
   {
    "duration": 1868,
    "start_time": "2022-08-12T20:36:38.669Z"
   },
   {
    "duration": 11658,
    "start_time": "2022-08-12T20:38:02.014Z"
   },
   {
    "duration": 5528,
    "start_time": "2022-08-12T20:38:32.911Z"
   },
   {
    "duration": 5842,
    "start_time": "2022-08-12T20:39:17.838Z"
   },
   {
    "duration": 3114,
    "start_time": "2022-08-12T20:40:10.319Z"
   },
   {
    "duration": 108,
    "start_time": "2022-08-12T20:41:04.895Z"
   },
   {
    "duration": 496,
    "start_time": "2022-08-12T20:41:34.386Z"
   },
   {
    "duration": 462,
    "start_time": "2022-08-12T20:41:48.677Z"
   },
   {
    "duration": 38306,
    "start_time": "2022-08-12T20:41:55.236Z"
   },
   {
    "duration": 36609,
    "start_time": "2022-08-12T20:44:00.232Z"
   },
   {
    "duration": 10903,
    "start_time": "2022-08-12T20:44:56.970Z"
   },
   {
    "duration": 36827,
    "start_time": "2022-08-12T20:45:21.322Z"
   },
   {
    "duration": 43625,
    "start_time": "2022-08-12T21:09:17.386Z"
   },
   {
    "duration": 7369,
    "start_time": "2022-08-12T21:10:14.496Z"
   },
   {
    "duration": 30074,
    "start_time": "2022-08-12T21:10:48.153Z"
   },
   {
    "duration": 17222,
    "start_time": "2022-08-12T21:11:32.880Z"
   },
   {
    "duration": 13493,
    "start_time": "2022-08-12T21:11:56.882Z"
   },
   {
    "duration": 7032,
    "start_time": "2022-08-12T21:12:57.227Z"
   },
   {
    "duration": 30981,
    "start_time": "2022-08-12T21:13:42.213Z"
   },
   {
    "duration": 23882,
    "start_time": "2022-08-12T21:15:32.709Z"
   },
   {
    "duration": 44533,
    "start_time": "2022-08-12T21:17:34.273Z"
   },
   {
    "duration": 43069,
    "start_time": "2022-08-12T21:18:34.615Z"
   },
   {
    "duration": 105,
    "start_time": "2022-08-12T21:19:55.771Z"
   },
   {
    "duration": 776,
    "start_time": "2022-08-12T21:19:58.611Z"
   },
   {
    "duration": 54,
    "start_time": "2022-08-12T21:29:01.856Z"
   },
   {
    "duration": 12,
    "start_time": "2022-08-12T21:29:03.752Z"
   },
   {
    "duration": 19,
    "start_time": "2022-08-12T21:29:18.577Z"
   },
   {
    "duration": 574,
    "start_time": "2022-08-12T21:29:41.065Z"
   },
   {
    "duration": 5380,
    "start_time": "2022-08-12T21:29:43.734Z"
   },
   {
    "duration": 687,
    "start_time": "2022-08-12T21:29:53.542Z"
   },
   {
    "duration": 7819,
    "start_time": "2022-08-12T21:29:56.095Z"
   },
   {
    "duration": 689,
    "start_time": "2022-08-12T21:30:09.713Z"
   },
   {
    "duration": 122,
    "start_time": "2022-08-12T21:30:13.977Z"
   },
   {
    "duration": 8026,
    "start_time": "2022-08-12T21:30:19.194Z"
   },
   {
    "duration": 52,
    "start_time": "2022-08-12T21:30:34.031Z"
   },
   {
    "duration": 592,
    "start_time": "2022-08-12T21:30:39.514Z"
   },
   {
    "duration": 97,
    "start_time": "2022-08-12T21:30:43.761Z"
   },
   {
    "duration": 613,
    "start_time": "2022-08-12T21:31:22.416Z"
   },
   {
    "duration": 50,
    "start_time": "2022-08-12T21:31:24.383Z"
   },
   {
    "duration": 122,
    "start_time": "2022-08-12T21:31:26.584Z"
   },
   {
    "duration": 22,
    "start_time": "2022-08-12T21:31:28.667Z"
   },
   {
    "duration": 585,
    "start_time": "2022-08-12T21:31:30.774Z"
   },
   {
    "duration": 69,
    "start_time": "2022-08-12T21:31:33.027Z"
   },
   {
    "duration": 581,
    "start_time": "2022-08-12T21:32:50.808Z"
   },
   {
    "duration": 17,
    "start_time": "2022-08-12T21:33:07.008Z"
   },
   {
    "duration": 92,
    "start_time": "2022-08-12T21:33:18.657Z"
   },
   {
    "duration": 5186,
    "start_time": "2022-08-12T21:33:42.731Z"
   },
   {
    "duration": 574,
    "start_time": "2022-08-12T21:33:56.744Z"
   },
   {
    "duration": 5169,
    "start_time": "2022-08-12T21:34:00.342Z"
   },
   {
    "duration": 599,
    "start_time": "2022-08-12T21:34:33.733Z"
   },
   {
    "duration": 5630,
    "start_time": "2022-08-12T21:34:35.687Z"
   },
   {
    "duration": 810,
    "start_time": "2022-08-12T21:48:11.139Z"
   },
   {
    "duration": 48043,
    "start_time": "2022-08-12T21:48:30.327Z"
   },
   {
    "duration": 789,
    "start_time": "2022-08-12T21:50:44.971Z"
   },
   {
    "duration": 804,
    "start_time": "2022-08-12T21:50:54.730Z"
   },
   {
    "duration": 462,
    "start_time": "2022-08-12T21:51:23.787Z"
   },
   {
    "duration": 145940,
    "start_time": "2022-08-12T21:51:53.034Z"
   },
   {
    "duration": 159,
    "start_time": "2022-08-12T21:54:24.770Z"
   },
   {
    "duration": 980,
    "start_time": "2022-08-12T21:54:27.221Z"
   },
   {
    "duration": 71294,
    "start_time": "2022-08-12T21:56:11.618Z"
   },
   {
    "duration": 397,
    "start_time": "2022-08-12T21:57:30.822Z"
   },
   {
    "duration": 2119,
    "start_time": "2022-08-12T21:57:33.224Z"
   },
   {
    "duration": 576,
    "start_time": "2022-08-12T21:58:43.246Z"
   },
   {
    "duration": 5186,
    "start_time": "2022-08-12T21:58:44.826Z"
   },
   {
    "duration": 488,
    "start_time": "2022-08-12T21:58:52.625Z"
   },
   {
    "duration": 19482,
    "start_time": "2022-08-12T21:59:00.837Z"
   },
   {
    "duration": 8366,
    "start_time": "2022-08-12T21:59:24.047Z"
   },
   {
    "duration": 6581,
    "start_time": "2022-08-12T21:59:40.433Z"
   },
   {
    "duration": 17,
    "start_time": "2022-08-12T22:07:45.915Z"
   },
   {
    "duration": 33,
    "start_time": "2022-08-12T22:09:35.843Z"
   },
   {
    "duration": 25,
    "start_time": "2022-08-12T22:10:00.242Z"
   },
   {
    "duration": 51,
    "start_time": "2022-08-12T22:10:02.063Z"
   },
   {
    "duration": 386,
    "start_time": "2022-08-12T22:10:04.416Z"
   },
   {
    "duration": 396,
    "start_time": "2022-08-12T22:10:27.727Z"
   },
   {
    "duration": 389,
    "start_time": "2022-08-12T22:10:35.316Z"
   },
   {
    "duration": 495,
    "start_time": "2022-08-12T22:10:57.830Z"
   },
   {
    "duration": 386,
    "start_time": "2022-08-12T22:11:04.379Z"
   },
   {
    "duration": 500,
    "start_time": "2022-08-12T22:19:30.721Z"
   },
   {
    "duration": 137,
    "start_time": "2022-08-12T22:19:51.274Z"
   },
   {
    "duration": 107,
    "start_time": "2022-08-12T22:20:30.398Z"
   },
   {
    "duration": 8069,
    "start_time": "2022-08-12T22:20:41.321Z"
   },
   {
    "duration": 161,
    "start_time": "2022-08-12T22:20:51.966Z"
   },
   {
    "duration": 979,
    "start_time": "2022-08-12T22:20:53.848Z"
   },
   {
    "duration": 5,
    "start_time": "2022-08-12T22:22:38.744Z"
   },
   {
    "duration": 617,
    "start_time": "2022-08-12T22:22:46.136Z"
   },
   {
    "duration": 3293,
    "start_time": "2022-08-12T22:22:59.824Z"
   },
   {
    "duration": 3096,
    "start_time": "2022-08-12T22:23:06.917Z"
   },
   {
    "duration": 102,
    "start_time": "2022-08-12T22:23:31.660Z"
   },
   {
    "duration": 105,
    "start_time": "2022-08-12T22:23:45.735Z"
   },
   {
    "duration": 7865,
    "start_time": "2022-08-12T22:23:50.562Z"
   },
   {
    "duration": 3148,
    "start_time": "2022-08-12T22:24:03.966Z"
   },
   {
    "duration": 579,
    "start_time": "2022-08-12T22:25:35.448Z"
   },
   {
    "duration": 62,
    "start_time": "2022-08-12T22:25:37.603Z"
   },
   {
    "duration": 53,
    "start_time": "2022-08-12T22:25:47.217Z"
   },
   {
    "duration": 2302,
    "start_time": "2022-08-12T22:25:56.275Z"
   },
   {
    "duration": 2230,
    "start_time": "2022-08-12T22:26:17.419Z"
   },
   {
    "duration": 2253,
    "start_time": "2022-08-12T22:26:23.272Z"
   },
   {
    "duration": 54,
    "start_time": "2022-08-12T22:26:28.041Z"
   },
   {
    "duration": 674,
    "start_time": "2022-08-12T22:26:29.817Z"
   },
   {
    "duration": 575,
    "start_time": "2022-08-12T22:27:49.544Z"
   },
   {
    "duration": 115299,
    "start_time": "2022-08-12T22:27:51.524Z"
   },
   {
    "duration": 2599,
    "start_time": "2022-08-12T22:29:50.392Z"
   },
   {
    "duration": 10347,
    "start_time": "2022-08-12T22:29:54.894Z"
   },
   {
    "duration": 119,
    "start_time": "2022-08-12T22:30:12.990Z"
   },
   {
    "duration": 577,
    "start_time": "2022-08-12T22:30:27.581Z"
   },
   {
    "duration": 69090,
    "start_time": "2022-08-12T22:30:53.731Z"
   },
   {
    "duration": 865,
    "start_time": "2022-08-12T22:32:41.754Z"
   },
   {
    "duration": 13969,
    "start_time": "2022-08-12T22:32:44.051Z"
   },
   {
    "duration": 66,
    "start_time": "2022-08-12T22:32:59.865Z"
   },
   {
    "duration": 991,
    "start_time": "2022-08-12T22:33:02.119Z"
   },
   {
    "duration": 578,
    "start_time": "2022-08-12T22:33:05.621Z"
   },
   {
    "duration": 2137,
    "start_time": "2022-08-12T22:33:08.547Z"
   },
   {
    "duration": 55,
    "start_time": "2022-08-12T22:33:12.789Z"
   },
   {
    "duration": 3335,
    "start_time": "2022-08-12T22:33:18.677Z"
   },
   {
    "duration": 381,
    "start_time": "2022-08-12T22:33:23.830Z"
   },
   {
    "duration": 2012,
    "start_time": "2022-08-12T22:33:25.818Z"
   },
   {
    "duration": 8078,
    "start_time": "2022-08-12T22:33:28.501Z"
   },
   {
    "duration": 161,
    "start_time": "2022-08-12T22:33:39.027Z"
   },
   {
    "duration": 1000,
    "start_time": "2022-08-12T22:33:42.599Z"
   },
   {
    "duration": 1477,
    "start_time": "2022-08-13T05:19:48.399Z"
   },
   {
    "duration": 1388,
    "start_time": "2022-08-13T05:19:49.878Z"
   },
   {
    "duration": 13,
    "start_time": "2022-08-13T05:19:51.268Z"
   },
   {
    "duration": 678,
    "start_time": "2022-08-13T05:19:51.283Z"
   },
   {
    "duration": 4338,
    "start_time": "2022-08-13T05:19:51.962Z"
   },
   {
    "duration": 32,
    "start_time": "2022-08-13T05:19:56.302Z"
   },
   {
    "duration": 107,
    "start_time": "2022-08-13T05:19:56.335Z"
   },
   {
    "duration": 61,
    "start_time": "2022-08-13T05:19:56.443Z"
   },
   {
    "duration": 13,
    "start_time": "2022-08-13T05:19:56.505Z"
   },
   {
    "duration": 47,
    "start_time": "2022-08-13T05:19:56.521Z"
   },
   {
    "duration": 1522,
    "start_time": "2022-08-13T05:19:56.570Z"
   },
   {
    "duration": 36,
    "start_time": "2022-08-13T05:19:58.098Z"
   },
   {
    "duration": 8,
    "start_time": "2022-08-13T05:19:58.136Z"
   },
   {
    "duration": 152,
    "start_time": "2022-08-13T05:19:58.146Z"
   },
   {
    "duration": 53,
    "start_time": "2022-08-13T05:19:58.300Z"
   },
   {
    "duration": 152,
    "start_time": "2022-08-13T05:19:58.355Z"
   },
   {
    "duration": 1270,
    "start_time": "2022-08-13T05:19:58.508Z"
   },
   {
    "duration": 128,
    "start_time": "2022-08-13T05:19:59.780Z"
   },
   {
    "duration": 35,
    "start_time": "2022-08-13T05:19:59.909Z"
   },
   {
    "duration": 112,
    "start_time": "2022-08-13T05:19:59.946Z"
   },
   {
    "duration": 55,
    "start_time": "2022-08-13T05:20:00.060Z"
   },
   {
    "duration": 772,
    "start_time": "2022-08-13T05:20:00.117Z"
   },
   {
    "duration": 31,
    "start_time": "2022-08-13T05:20:00.890Z"
   },
   {
    "duration": 27,
    "start_time": "2022-08-13T05:20:00.923Z"
   },
   {
    "duration": 7,
    "start_time": "2022-08-13T05:20:00.951Z"
   },
   {
    "duration": 114,
    "start_time": "2022-08-13T05:20:00.959Z"
   },
   {
    "duration": 82,
    "start_time": "2022-08-13T05:20:01.075Z"
   },
   {
    "duration": 20,
    "start_time": "2022-08-13T05:20:01.160Z"
   },
   {
    "duration": 665,
    "start_time": "2022-08-13T05:20:01.198Z"
   },
   {
    "duration": 117,
    "start_time": "2022-08-13T05:20:01.864Z"
   },
   {
    "duration": 13925,
    "start_time": "2022-08-13T05:20:01.982Z"
   },
   {
    "duration": 107,
    "start_time": "2022-08-13T05:20:15.999Z"
   },
   {
    "duration": 1148,
    "start_time": "2022-08-13T05:20:16.109Z"
   },
   {
    "duration": 540,
    "start_time": "2022-08-13T05:20:17.258Z"
   },
   {
    "duration": 27668,
    "start_time": "2022-08-13T05:20:17.799Z"
   },
   {
    "duration": 50,
    "start_time": "2022-08-13T05:20:45.468Z"
   },
   {
    "duration": 12,
    "start_time": "2022-08-13T05:20:45.519Z"
   },
   {
    "duration": 0,
    "start_time": "2022-08-13T05:20:45.532Z"
   },
   {
    "duration": 0,
    "start_time": "2022-08-13T05:20:45.533Z"
   },
   {
    "duration": 0,
    "start_time": "2022-08-13T05:20:45.534Z"
   },
   {
    "duration": 0,
    "start_time": "2022-08-13T05:20:45.534Z"
   },
   {
    "duration": 0,
    "start_time": "2022-08-13T05:20:45.535Z"
   },
   {
    "duration": 0,
    "start_time": "2022-08-13T05:20:45.536Z"
   },
   {
    "duration": 0,
    "start_time": "2022-08-13T05:20:45.537Z"
   },
   {
    "duration": 0,
    "start_time": "2022-08-13T05:20:45.537Z"
   },
   {
    "duration": 0,
    "start_time": "2022-08-13T05:20:45.538Z"
   },
   {
    "duration": 0,
    "start_time": "2022-08-13T05:20:45.539Z"
   },
   {
    "duration": 0,
    "start_time": "2022-08-13T05:20:45.540Z"
   },
   {
    "duration": 0,
    "start_time": "2022-08-13T05:20:45.540Z"
   },
   {
    "duration": 0,
    "start_time": "2022-08-13T05:20:45.541Z"
   },
   {
    "duration": 0,
    "start_time": "2022-08-13T05:20:45.542Z"
   },
   {
    "duration": 0,
    "start_time": "2022-08-13T05:20:45.543Z"
   },
   {
    "duration": 0,
    "start_time": "2022-08-13T05:20:45.544Z"
   },
   {
    "duration": 0,
    "start_time": "2022-08-13T05:20:45.544Z"
   },
   {
    "duration": 0,
    "start_time": "2022-08-13T05:20:45.545Z"
   },
   {
    "duration": 0,
    "start_time": "2022-08-13T05:20:45.546Z"
   },
   {
    "duration": 0,
    "start_time": "2022-08-13T05:20:45.547Z"
   },
   {
    "duration": 0,
    "start_time": "2022-08-13T05:20:45.547Z"
   },
   {
    "duration": 0,
    "start_time": "2022-08-13T05:20:45.548Z"
   },
   {
    "duration": 0,
    "start_time": "2022-08-13T05:20:45.549Z"
   },
   {
    "duration": 0,
    "start_time": "2022-08-13T05:20:45.549Z"
   },
   {
    "duration": 0,
    "start_time": "2022-08-13T05:20:45.550Z"
   },
   {
    "duration": 0,
    "start_time": "2022-08-13T05:20:45.551Z"
   },
   {
    "duration": 0,
    "start_time": "2022-08-13T05:20:45.551Z"
   },
   {
    "duration": 0,
    "start_time": "2022-08-13T05:20:45.552Z"
   },
   {
    "duration": 0,
    "start_time": "2022-08-13T05:20:45.553Z"
   },
   {
    "duration": 0,
    "start_time": "2022-08-13T05:20:45.554Z"
   },
   {
    "duration": 0,
    "start_time": "2022-08-13T05:20:45.555Z"
   },
   {
    "duration": 0,
    "start_time": "2022-08-13T05:20:45.555Z"
   },
   {
    "duration": 0,
    "start_time": "2022-08-13T05:20:45.556Z"
   },
   {
    "duration": 0,
    "start_time": "2022-08-13T05:20:45.557Z"
   },
   {
    "duration": 0,
    "start_time": "2022-08-13T05:20:45.557Z"
   },
   {
    "duration": 0,
    "start_time": "2022-08-13T05:20:45.558Z"
   },
   {
    "duration": 4,
    "start_time": "2022-08-13T05:32:25.361Z"
   },
   {
    "duration": 1081,
    "start_time": "2022-08-13T05:32:25.379Z"
   },
   {
    "duration": 11,
    "start_time": "2022-08-13T05:32:26.462Z"
   },
   {
    "duration": 578,
    "start_time": "2022-08-13T05:32:26.474Z"
   },
   {
    "duration": 4082,
    "start_time": "2022-08-13T05:32:27.054Z"
   },
   {
    "duration": 32,
    "start_time": "2022-08-13T05:32:31.138Z"
   },
   {
    "duration": 109,
    "start_time": "2022-08-13T05:32:31.171Z"
   },
   {
    "duration": 61,
    "start_time": "2022-08-13T05:32:31.281Z"
   },
   {
    "duration": 46,
    "start_time": "2022-08-13T05:32:31.343Z"
   },
   {
    "duration": 84,
    "start_time": "2022-08-13T05:32:31.390Z"
   },
   {
    "duration": 1519,
    "start_time": "2022-08-13T05:32:31.476Z"
   },
   {
    "duration": 36,
    "start_time": "2022-08-13T05:32:32.997Z"
   },
   {
    "duration": 8,
    "start_time": "2022-08-13T05:32:33.034Z"
   },
   {
    "duration": 146,
    "start_time": "2022-08-13T05:32:33.043Z"
   },
   {
    "duration": 57,
    "start_time": "2022-08-13T05:32:33.191Z"
   },
   {
    "duration": 155,
    "start_time": "2022-08-13T05:32:33.250Z"
   },
   {
    "duration": 1319,
    "start_time": "2022-08-13T05:32:33.406Z"
   },
   {
    "duration": 132,
    "start_time": "2022-08-13T05:32:34.726Z"
   },
   {
    "duration": 53,
    "start_time": "2022-08-13T05:32:34.860Z"
   },
   {
    "duration": 106,
    "start_time": "2022-08-13T05:32:34.914Z"
   },
   {
    "duration": 46,
    "start_time": "2022-08-13T05:32:35.021Z"
   },
   {
    "duration": 777,
    "start_time": "2022-08-13T05:32:35.068Z"
   },
   {
    "duration": 32,
    "start_time": "2022-08-13T05:32:35.846Z"
   },
   {
    "duration": 40,
    "start_time": "2022-08-13T05:32:35.879Z"
   },
   {
    "duration": 6,
    "start_time": "2022-08-13T05:32:35.920Z"
   },
   {
    "duration": 99,
    "start_time": "2022-08-13T05:32:35.927Z"
   },
   {
    "duration": 84,
    "start_time": "2022-08-13T05:32:36.028Z"
   },
   {
    "duration": 19,
    "start_time": "2022-08-13T05:32:36.113Z"
   },
   {
    "duration": 683,
    "start_time": "2022-08-13T05:32:36.136Z"
   },
   {
    "duration": 115,
    "start_time": "2022-08-13T05:32:36.820Z"
   },
   {
    "duration": 14994,
    "start_time": "2022-08-13T05:32:36.936Z"
   },
   {
    "duration": 85,
    "start_time": "2022-08-13T05:32:51.931Z"
   },
   {
    "duration": 0,
    "start_time": "2022-08-13T05:32:52.017Z"
   },
   {
    "duration": 0,
    "start_time": "2022-08-13T05:32:52.019Z"
   },
   {
    "duration": 0,
    "start_time": "2022-08-13T05:32:52.020Z"
   },
   {
    "duration": 0,
    "start_time": "2022-08-13T05:32:52.021Z"
   },
   {
    "duration": 0,
    "start_time": "2022-08-13T05:32:52.022Z"
   },
   {
    "duration": 0,
    "start_time": "2022-08-13T05:32:52.023Z"
   },
   {
    "duration": 0,
    "start_time": "2022-08-13T05:32:52.024Z"
   },
   {
    "duration": 0,
    "start_time": "2022-08-13T05:32:52.025Z"
   },
   {
    "duration": 0,
    "start_time": "2022-08-13T05:32:52.026Z"
   },
   {
    "duration": 0,
    "start_time": "2022-08-13T05:32:52.026Z"
   },
   {
    "duration": 0,
    "start_time": "2022-08-13T05:32:52.027Z"
   },
   {
    "duration": 0,
    "start_time": "2022-08-13T05:32:52.028Z"
   },
   {
    "duration": 0,
    "start_time": "2022-08-13T05:32:52.029Z"
   },
   {
    "duration": 0,
    "start_time": "2022-08-13T05:32:52.030Z"
   },
   {
    "duration": 0,
    "start_time": "2022-08-13T05:32:52.031Z"
   },
   {
    "duration": 0,
    "start_time": "2022-08-13T05:32:52.032Z"
   },
   {
    "duration": 0,
    "start_time": "2022-08-13T05:32:52.033Z"
   },
   {
    "duration": 0,
    "start_time": "2022-08-13T05:32:52.034Z"
   },
   {
    "duration": 0,
    "start_time": "2022-08-13T05:32:52.034Z"
   },
   {
    "duration": 0,
    "start_time": "2022-08-13T05:32:52.035Z"
   },
   {
    "duration": 0,
    "start_time": "2022-08-13T05:32:52.036Z"
   },
   {
    "duration": 0,
    "start_time": "2022-08-13T05:32:52.037Z"
   },
   {
    "duration": 0,
    "start_time": "2022-08-13T05:32:52.038Z"
   },
   {
    "duration": 0,
    "start_time": "2022-08-13T05:32:52.039Z"
   },
   {
    "duration": 0,
    "start_time": "2022-08-13T05:32:52.039Z"
   },
   {
    "duration": 0,
    "start_time": "2022-08-13T05:32:52.040Z"
   },
   {
    "duration": 0,
    "start_time": "2022-08-13T05:32:52.041Z"
   },
   {
    "duration": 0,
    "start_time": "2022-08-13T05:32:52.041Z"
   },
   {
    "duration": 0,
    "start_time": "2022-08-13T05:32:52.042Z"
   },
   {
    "duration": 0,
    "start_time": "2022-08-13T05:32:52.043Z"
   },
   {
    "duration": 0,
    "start_time": "2022-08-13T05:32:52.044Z"
   },
   {
    "duration": 1226,
    "start_time": "2022-08-13T05:33:52.350Z"
   },
   {
    "duration": 1208,
    "start_time": "2022-08-13T05:33:53.578Z"
   },
   {
    "duration": 18,
    "start_time": "2022-08-13T05:33:54.787Z"
   },
   {
    "duration": 623,
    "start_time": "2022-08-13T05:33:54.806Z"
   },
   {
    "duration": 4235,
    "start_time": "2022-08-13T05:33:55.431Z"
   },
   {
    "duration": 37,
    "start_time": "2022-08-13T05:33:59.667Z"
   },
   {
    "duration": 94,
    "start_time": "2022-08-13T05:33:59.706Z"
   },
   {
    "duration": 55,
    "start_time": "2022-08-13T05:33:59.802Z"
   },
   {
    "duration": 13,
    "start_time": "2022-08-13T05:33:59.858Z"
   },
   {
    "duration": 64,
    "start_time": "2022-08-13T05:33:59.872Z"
   },
   {
    "duration": 1573,
    "start_time": "2022-08-13T05:33:59.939Z"
   },
   {
    "duration": 35,
    "start_time": "2022-08-13T05:34:01.513Z"
   },
   {
    "duration": 7,
    "start_time": "2022-08-13T05:34:01.549Z"
   },
   {
    "duration": 215,
    "start_time": "2022-08-13T05:34:01.557Z"
   },
   {
    "duration": 63,
    "start_time": "2022-08-13T05:34:01.773Z"
   },
   {
    "duration": 150,
    "start_time": "2022-08-13T05:34:01.838Z"
   },
   {
    "duration": 1250,
    "start_time": "2022-08-13T05:34:01.989Z"
   },
   {
    "duration": 127,
    "start_time": "2022-08-13T05:34:03.241Z"
   },
   {
    "duration": 39,
    "start_time": "2022-08-13T05:34:03.370Z"
   },
   {
    "duration": 102,
    "start_time": "2022-08-13T05:34:03.411Z"
   },
   {
    "duration": 45,
    "start_time": "2022-08-13T05:34:03.515Z"
   },
   {
    "duration": 771,
    "start_time": "2022-08-13T05:34:03.561Z"
   },
   {
    "duration": 31,
    "start_time": "2022-08-13T05:34:04.334Z"
   },
   {
    "duration": 39,
    "start_time": "2022-08-13T05:34:04.366Z"
   },
   {
    "duration": 7,
    "start_time": "2022-08-13T05:34:04.406Z"
   },
   {
    "duration": 108,
    "start_time": "2022-08-13T05:34:04.414Z"
   },
   {
    "duration": 111,
    "start_time": "2022-08-13T05:34:04.523Z"
   },
   {
    "duration": 22,
    "start_time": "2022-08-13T05:34:04.636Z"
   },
   {
    "duration": 719,
    "start_time": "2022-08-13T05:34:04.662Z"
   },
   {
    "duration": 112,
    "start_time": "2022-08-13T05:34:05.383Z"
   },
   {
    "duration": 13301,
    "start_time": "2022-08-13T05:34:05.498Z"
   },
   {
    "duration": 1265,
    "start_time": "2022-08-13T05:34:18.800Z"
   },
   {
    "duration": 536,
    "start_time": "2022-08-13T05:34:20.066Z"
   },
   {
    "duration": 106041,
    "start_time": "2022-08-13T05:34:20.604Z"
   },
   {
    "duration": 12014,
    "start_time": "2022-08-13T05:36:06.647Z"
   },
   {
    "duration": 2,
    "start_time": "2022-08-13T05:36:18.663Z"
   },
   {
    "duration": 4,
    "start_time": "2022-08-13T05:36:18.666Z"
   },
   {
    "duration": 64930,
    "start_time": "2022-08-13T05:36:18.671Z"
   },
   {
    "duration": 2281,
    "start_time": "2022-08-13T05:37:23.603Z"
   },
   {
    "duration": 2,
    "start_time": "2022-08-13T05:37:25.886Z"
   },
   {
    "duration": 8,
    "start_time": "2022-08-13T05:37:25.890Z"
   },
   {
    "duration": 6,
    "start_time": "2022-08-13T05:37:25.899Z"
   },
   {
    "duration": 4,
    "start_time": "2022-08-13T05:37:25.906Z"
   },
   {
    "duration": 4,
    "start_time": "2022-08-13T05:37:25.911Z"
   },
   {
    "duration": 131341,
    "start_time": "2022-08-13T05:37:25.916Z"
   },
   {
    "duration": 1088,
    "start_time": "2022-08-13T05:39:37.259Z"
   },
   {
    "duration": 779,
    "start_time": "2022-08-13T05:39:38.349Z"
   },
   {
    "duration": 13875,
    "start_time": "2022-08-13T05:39:39.130Z"
   },
   {
    "duration": 196,
    "start_time": "2022-08-13T05:39:53.006Z"
   },
   {
    "duration": 741,
    "start_time": "2022-08-13T05:39:53.204Z"
   },
   {
    "duration": 551,
    "start_time": "2022-08-13T05:39:53.947Z"
   },
   {
    "duration": 1991,
    "start_time": "2022-08-13T05:39:54.500Z"
   },
   {
    "duration": 51,
    "start_time": "2022-08-13T05:39:56.493Z"
   },
   {
    "duration": 422,
    "start_time": "2022-08-13T05:39:56.546Z"
   },
   {
    "duration": 3237,
    "start_time": "2022-08-13T05:39:56.970Z"
   },
   {
    "duration": 398,
    "start_time": "2022-08-13T05:40:00.208Z"
   },
   {
    "duration": 892,
    "start_time": "2022-08-13T05:40:00.608Z"
   },
   {
    "duration": 7358,
    "start_time": "2022-08-13T05:40:01.501Z"
   },
   {
    "duration": 151,
    "start_time": "2022-08-13T05:40:08.861Z"
   },
   {
    "duration": 497,
    "start_time": "2022-08-13T05:40:09.013Z"
   },
   {
    "duration": 21,
    "start_time": "2022-08-13T05:40:09.511Z"
   },
   {
    "duration": 1573,
    "start_time": "2022-08-13T05:40:09.533Z"
   },
   {
    "duration": 9,
    "start_time": "2022-08-13T05:40:11.107Z"
   },
   {
    "duration": 514,
    "start_time": "2022-08-13T05:46:32.057Z"
   },
   {
    "duration": 1991,
    "start_time": "2022-08-13T05:46:33.824Z"
   },
   {
    "duration": 48,
    "start_time": "2022-08-13T05:46:37.127Z"
   },
   {
    "duration": 505,
    "start_time": "2022-08-13T05:46:38.990Z"
   },
   {
    "duration": 4296,
    "start_time": "2022-08-13T05:46:41.712Z"
   },
   {
    "duration": 226,
    "start_time": "2022-08-13T05:46:47.279Z"
   },
   {
    "duration": 756,
    "start_time": "2022-08-13T05:46:49.103Z"
   },
   {
    "duration": 21,
    "start_time": "2022-08-13T05:46:51.905Z"
   },
   {
    "duration": 68,
    "start_time": "2022-08-13T05:46:54.231Z"
   },
   {
    "duration": 367,
    "start_time": "2022-08-13T05:46:56.091Z"
   },
   {
    "duration": 46,
    "start_time": "2022-08-13T05:47:32.524Z"
   },
   {
    "duration": 62,
    "start_time": "2022-08-13T05:50:11.641Z"
   },
   {
    "duration": 110,
    "start_time": "2022-08-13T05:50:18.178Z"
   },
   {
    "duration": 10,
    "start_time": "2022-08-13T05:52:46.682Z"
   },
   {
    "duration": 53,
    "start_time": "2022-08-13T05:53:03.667Z"
   },
   {
    "duration": 114,
    "start_time": "2022-08-13T05:54:12.292Z"
   },
   {
    "duration": 197,
    "start_time": "2022-08-13T05:55:31.102Z"
   },
   {
    "duration": 200,
    "start_time": "2022-08-13T05:56:06.997Z"
   },
   {
    "duration": 66,
    "start_time": "2022-08-13T05:59:15.133Z"
   },
   {
    "duration": 528,
    "start_time": "2022-08-13T05:59:30.823Z"
   },
   {
    "duration": 3367,
    "start_time": "2022-08-13T05:59:34.133Z"
   },
   {
    "duration": 1691,
    "start_time": "2022-08-13T14:07:03.694Z"
   },
   {
    "duration": 3558,
    "start_time": "2022-08-13T14:07:05.387Z"
   },
   {
    "duration": 15,
    "start_time": "2022-08-13T14:07:08.948Z"
   },
   {
    "duration": 835,
    "start_time": "2022-08-13T14:07:08.965Z"
   },
   {
    "duration": 5457,
    "start_time": "2022-08-13T14:07:09.801Z"
   },
   {
    "duration": 51,
    "start_time": "2022-08-13T14:07:15.260Z"
   },
   {
    "duration": 110,
    "start_time": "2022-08-13T14:07:15.313Z"
   },
   {
    "duration": 74,
    "start_time": "2022-08-13T14:07:15.424Z"
   },
   {
    "duration": 15,
    "start_time": "2022-08-13T14:07:15.500Z"
   },
   {
    "duration": 75,
    "start_time": "2022-08-13T14:07:15.517Z"
   },
   {
    "duration": 1826,
    "start_time": "2022-08-13T14:07:15.594Z"
   },
   {
    "duration": 40,
    "start_time": "2022-08-13T14:07:17.422Z"
   },
   {
    "duration": 29,
    "start_time": "2022-08-13T14:07:17.463Z"
   },
   {
    "duration": 171,
    "start_time": "2022-08-13T14:07:17.493Z"
   },
   {
    "duration": 75,
    "start_time": "2022-08-13T14:07:17.665Z"
   },
   {
    "duration": 180,
    "start_time": "2022-08-13T14:07:17.741Z"
   },
   {
    "duration": 1470,
    "start_time": "2022-08-13T14:07:17.922Z"
   },
   {
    "duration": 173,
    "start_time": "2022-08-13T14:07:19.395Z"
   },
   {
    "duration": 50,
    "start_time": "2022-08-13T14:07:19.569Z"
   },
   {
    "duration": 124,
    "start_time": "2022-08-13T14:07:19.620Z"
   },
   {
    "duration": 75,
    "start_time": "2022-08-13T14:07:19.746Z"
   },
   {
    "duration": 911,
    "start_time": "2022-08-13T14:07:19.823Z"
   },
   {
    "duration": 43,
    "start_time": "2022-08-13T14:07:20.736Z"
   },
   {
    "duration": 39,
    "start_time": "2022-08-13T14:07:20.780Z"
   },
   {
    "duration": 8,
    "start_time": "2022-08-13T14:07:20.820Z"
   },
   {
    "duration": 137,
    "start_time": "2022-08-13T14:07:20.830Z"
   },
   {
    "duration": 141,
    "start_time": "2022-08-13T14:07:20.969Z"
   },
   {
    "duration": 26,
    "start_time": "2022-08-13T14:07:21.115Z"
   },
   {
    "duration": 1178,
    "start_time": "2022-08-13T14:07:21.143Z"
   },
   {
    "duration": 145,
    "start_time": "2022-08-13T14:07:22.323Z"
   },
   {
    "duration": 18825,
    "start_time": "2022-08-13T14:07:22.470Z"
   },
   {
    "duration": 1525,
    "start_time": "2022-08-13T14:07:41.296Z"
   },
   {
    "duration": 661,
    "start_time": "2022-08-13T14:07:42.823Z"
   },
   {
    "duration": 123987,
    "start_time": "2022-08-13T14:07:43.486Z"
   },
   {
    "duration": 13534,
    "start_time": "2022-08-13T14:09:47.474Z"
   },
   {
    "duration": 3,
    "start_time": "2022-08-13T14:10:01.009Z"
   },
   {
    "duration": 10,
    "start_time": "2022-08-13T14:10:01.013Z"
   },
   {
    "duration": 69972,
    "start_time": "2022-08-13T14:10:01.025Z"
   },
   {
    "duration": 2297,
    "start_time": "2022-08-13T14:11:10.999Z"
   },
   {
    "duration": 2,
    "start_time": "2022-08-13T14:11:13.298Z"
   },
   {
    "duration": 7,
    "start_time": "2022-08-13T14:11:13.302Z"
   },
   {
    "duration": 11,
    "start_time": "2022-08-13T14:11:13.311Z"
   },
   {
    "duration": 6,
    "start_time": "2022-08-13T14:11:13.324Z"
   },
   {
    "duration": 7,
    "start_time": "2022-08-13T14:11:13.331Z"
   },
   {
    "duration": 150175,
    "start_time": "2022-08-13T14:11:13.339Z"
   },
   {
    "duration": 1349,
    "start_time": "2022-08-13T14:13:43.516Z"
   },
   {
    "duration": 126,
    "start_time": "2022-08-13T14:13:44.867Z"
   },
   {
    "duration": 0,
    "start_time": "2022-08-13T14:13:44.995Z"
   },
   {
    "duration": 0,
    "start_time": "2022-08-13T14:13:44.996Z"
   },
   {
    "duration": 0,
    "start_time": "2022-08-13T14:13:44.998Z"
   },
   {
    "duration": 0,
    "start_time": "2022-08-13T14:13:44.999Z"
   },
   {
    "duration": 0,
    "start_time": "2022-08-13T14:13:45.000Z"
   },
   {
    "duration": 0,
    "start_time": "2022-08-13T14:13:45.001Z"
   },
   {
    "duration": 0,
    "start_time": "2022-08-13T14:13:45.002Z"
   },
   {
    "duration": 0,
    "start_time": "2022-08-13T14:13:45.003Z"
   },
   {
    "duration": 0,
    "start_time": "2022-08-13T14:13:45.004Z"
   },
   {
    "duration": 0,
    "start_time": "2022-08-13T14:13:45.005Z"
   },
   {
    "duration": 0,
    "start_time": "2022-08-13T14:13:45.006Z"
   },
   {
    "duration": 0,
    "start_time": "2022-08-13T14:13:45.007Z"
   },
   {
    "duration": 0,
    "start_time": "2022-08-13T14:13:45.008Z"
   },
   {
    "duration": 0,
    "start_time": "2022-08-13T14:13:45.009Z"
   },
   {
    "duration": 0,
    "start_time": "2022-08-13T14:13:45.011Z"
   },
   {
    "duration": 5,
    "start_time": "2022-08-13T14:13:56.761Z"
   },
   {
    "duration": 82,
    "start_time": "2022-08-13T14:15:17.627Z"
   },
   {
    "duration": 5,
    "start_time": "2022-08-13T14:15:19.143Z"
   },
   {
    "duration": 105,
    "start_time": "2022-08-13T14:15:20.739Z"
   },
   {
    "duration": 8101,
    "start_time": "2022-08-13T14:16:12.140Z"
   },
   {
    "duration": 173,
    "start_time": "2022-08-13T14:16:23.086Z"
   },
   {
    "duration": 922,
    "start_time": "2022-08-13T14:16:25.559Z"
   },
   {
    "duration": 824,
    "start_time": "2022-08-13T14:16:47.366Z"
   },
   {
    "duration": 8,
    "start_time": "2022-08-13T14:16:53.940Z"
   },
   {
    "duration": 819,
    "start_time": "2022-08-13T14:17:15.739Z"
   },
   {
    "duration": 10,
    "start_time": "2022-08-13T14:17:18.637Z"
   },
   {
    "duration": 839,
    "start_time": "2022-08-13T14:17:27.539Z"
   },
   {
    "duration": 10,
    "start_time": "2022-08-13T14:17:30.484Z"
   },
   {
    "duration": 918,
    "start_time": "2022-08-13T14:42:00.329Z"
   },
   {
    "duration": 2,
    "start_time": "2022-08-13T14:42:15.883Z"
   },
   {
    "duration": 5,
    "start_time": "2022-08-13T14:42:19.150Z"
   },
   {
    "duration": 68,
    "start_time": "2022-08-13T14:42:20.583Z"
   },
   {
    "duration": 7892,
    "start_time": "2022-08-13T14:42:21.843Z"
   },
   {
    "duration": 203,
    "start_time": "2022-08-13T14:42:31.976Z"
   },
   {
    "duration": 788,
    "start_time": "2022-08-13T14:42:34.536Z"
   },
   {
    "duration": 798,
    "start_time": "2022-08-13T14:42:47.056Z"
   },
   {
    "duration": 624,
    "start_time": "2022-08-13T14:42:50.299Z"
   },
   {
    "duration": 6523,
    "start_time": "2022-08-13T14:42:53.577Z"
   },
   {
    "duration": 152,
    "start_time": "2022-08-13T14:43:01.748Z"
   },
   {
    "duration": 868,
    "start_time": "2022-08-13T14:43:03.158Z"
   },
   {
    "duration": 11166,
    "start_time": "2022-08-13T14:43:06.142Z"
   },
   {
    "duration": 235,
    "start_time": "2022-08-13T14:43:19.274Z"
   },
   {
    "duration": 1145,
    "start_time": "2022-08-13T14:43:21.469Z"
   },
   {
    "duration": 10,
    "start_time": "2022-08-13T14:43:25.031Z"
   },
   {
    "duration": 27,
    "start_time": "2022-08-13T14:44:06.293Z"
   },
   {
    "duration": 21,
    "start_time": "2022-08-13T14:44:09.351Z"
   },
   {
    "duration": 463,
    "start_time": "2022-08-13T14:44:14.130Z"
   },
   {
    "duration": 28,
    "start_time": "2022-08-13T14:44:23.741Z"
   },
   {
    "duration": 3698,
    "start_time": "2022-08-13T14:46:57.201Z"
   },
   {
    "duration": 65,
    "start_time": "2022-08-13T14:47:13.405Z"
   },
   {
    "duration": 7687,
    "start_time": "2022-08-13T14:47:14.896Z"
   },
   {
    "duration": 3,
    "start_time": "2022-08-13T14:47:37.487Z"
   },
   {
    "duration": 1324,
    "start_time": "2022-08-13T14:47:47.695Z"
   },
   {
    "duration": 6,
    "start_time": "2022-08-13T14:47:49.021Z"
   },
   {
    "duration": 85,
    "start_time": "2022-08-13T14:47:49.028Z"
   },
   {
    "duration": 7898,
    "start_time": "2022-08-13T14:47:49.115Z"
   },
   {
    "duration": 163,
    "start_time": "2022-08-13T14:47:57.014Z"
   },
   {
    "duration": 898,
    "start_time": "2022-08-13T14:47:57.179Z"
   },
   {
    "duration": 618,
    "start_time": "2022-08-13T14:47:58.079Z"
   },
   {
    "duration": 6358,
    "start_time": "2022-08-13T14:47:58.698Z"
   },
   {
    "duration": 147,
    "start_time": "2022-08-13T14:48:05.058Z"
   },
   {
    "duration": 779,
    "start_time": "2022-08-13T14:48:05.207Z"
   },
   {
    "duration": 3107,
    "start_time": "2022-08-13T14:48:05.988Z"
   },
   {
    "duration": 309,
    "start_time": "2022-08-13T14:48:09.097Z"
   },
   {
    "duration": 1297,
    "start_time": "2022-08-13T14:48:09.408Z"
   },
   {
    "duration": 9,
    "start_time": "2022-08-13T14:48:10.707Z"
   },
   {
    "duration": 32,
    "start_time": "2022-08-13T14:48:10.718Z"
   },
   {
    "duration": 49,
    "start_time": "2022-08-13T14:48:10.753Z"
   },
   {
    "duration": 523,
    "start_time": "2022-08-13T14:48:10.803Z"
   },
   {
    "duration": 70,
    "start_time": "2022-08-13T14:48:11.327Z"
   },
   {
    "duration": 3095,
    "start_time": "2022-08-13T15:54:42.266Z"
   },
   {
    "duration": 68,
    "start_time": "2022-08-13T15:54:47.406Z"
   },
   {
    "duration": 786,
    "start_time": "2022-08-13T15:54:49.019Z"
   },
   {
    "duration": 9197,
    "start_time": "2022-08-13T15:55:04.961Z"
   },
   {
    "duration": 242,
    "start_time": "2022-08-13T15:55:16.583Z"
   },
   {
    "duration": 956,
    "start_time": "2022-08-13T15:55:20.353Z"
   },
   {
    "duration": 12749,
    "start_time": "2022-08-13T15:55:44.408Z"
   },
   {
    "duration": 697,
    "start_time": "2022-08-13T15:55:58.024Z"
   },
   {
    "duration": 1918,
    "start_time": "2022-08-13T15:56:00.240Z"
   },
   {
    "duration": 4558,
    "start_time": "2022-08-13T15:56:11.783Z"
   },
   {
    "duration": 250,
    "start_time": "2022-08-13T15:56:17.359Z"
   },
   {
    "duration": 1128,
    "start_time": "2022-08-13T15:56:18.992Z"
   },
   {
    "duration": 1257,
    "start_time": "2022-08-13T15:56:27.192Z"
   },
   {
    "duration": 78,
    "start_time": "2022-08-13T15:56:30.096Z"
   },
   {
    "duration": 703,
    "start_time": "2022-08-13T15:56:31.890Z"
   },
   {
    "duration": 1343,
    "start_time": "2022-08-13T15:56:47.103Z"
   },
   {
    "duration": 87,
    "start_time": "2022-08-13T15:56:49.688Z"
   },
   {
    "duration": 722,
    "start_time": "2022-08-13T15:56:51.672Z"
   },
   {
    "duration": 876,
    "start_time": "2022-08-13T15:57:09.024Z"
   },
   {
    "duration": 59,
    "start_time": "2022-08-13T15:57:11.511Z"
   },
   {
    "duration": 553,
    "start_time": "2022-08-13T15:57:13.119Z"
   },
   {
    "duration": 152,
    "start_time": "2022-08-13T15:57:20.551Z"
   },
   {
    "duration": 11,
    "start_time": "2022-08-13T15:57:22.198Z"
   },
   {
    "duration": 613,
    "start_time": "2022-08-13T15:57:23.730Z"
   },
   {
    "duration": 6680,
    "start_time": "2022-08-13T15:57:46.552Z"
   },
   {
    "duration": 133,
    "start_time": "2022-08-13T15:57:54.034Z"
   },
   {
    "duration": 660,
    "start_time": "2022-08-13T16:13:20.907Z"
   },
   {
    "duration": 21,
    "start_time": "2022-08-13T16:13:27.055Z"
   },
   {
    "duration": 5,
    "start_time": "2022-08-13T16:13:35.654Z"
   },
   {
    "duration": 9,
    "start_time": "2022-08-13T16:13:53.752Z"
   },
   {
    "duration": 7,
    "start_time": "2022-08-13T16:13:58.183Z"
   },
   {
    "duration": 77,
    "start_time": "2022-08-13T16:14:44.936Z"
   },
   {
    "duration": 6,
    "start_time": "2022-08-13T16:15:01.583Z"
   },
   {
    "duration": 628,
    "start_time": "2022-08-13T16:15:04.938Z"
   },
   {
    "duration": 6,
    "start_time": "2022-08-13T16:15:07.004Z"
   },
   {
    "duration": 20,
    "start_time": "2022-08-13T16:15:54.045Z"
   },
   {
    "duration": 17,
    "start_time": "2022-08-13T16:16:18.262Z"
   },
   {
    "duration": 1055,
    "start_time": "2022-08-13T16:17:17.344Z"
   },
   {
    "duration": 131,
    "start_time": "2022-08-13T16:17:23.972Z"
   },
   {
    "duration": 1681,
    "start_time": "2022-08-13T16:22:15.901Z"
   },
   {
    "duration": 1593,
    "start_time": "2022-08-13T16:22:17.584Z"
   },
   {
    "duration": 15,
    "start_time": "2022-08-13T16:22:19.179Z"
   },
   {
    "duration": 942,
    "start_time": "2022-08-13T16:22:19.196Z"
   },
   {
    "duration": 5407,
    "start_time": "2022-08-13T16:22:20.140Z"
   },
   {
    "duration": 52,
    "start_time": "2022-08-13T16:22:25.549Z"
   },
   {
    "duration": 114,
    "start_time": "2022-08-13T16:22:25.602Z"
   },
   {
    "duration": 76,
    "start_time": "2022-08-13T16:22:25.718Z"
   },
   {
    "duration": 14,
    "start_time": "2022-08-13T16:22:25.796Z"
   },
   {
    "duration": 64,
    "start_time": "2022-08-13T16:22:25.813Z"
   },
   {
    "duration": 1603,
    "start_time": "2022-08-13T16:22:25.891Z"
   },
   {
    "duration": 42,
    "start_time": "2022-08-13T16:22:27.496Z"
   },
   {
    "duration": 11,
    "start_time": "2022-08-13T16:22:27.540Z"
   },
   {
    "duration": 296,
    "start_time": "2022-08-13T16:22:27.552Z"
   },
   {
    "duration": 79,
    "start_time": "2022-08-13T16:22:27.850Z"
   },
   {
    "duration": 190,
    "start_time": "2022-08-13T16:22:27.930Z"
   },
   {
    "duration": 1542,
    "start_time": "2022-08-13T16:22:28.121Z"
   },
   {
    "duration": 172,
    "start_time": "2022-08-13T16:22:29.664Z"
   },
   {
    "duration": 56,
    "start_time": "2022-08-13T16:22:29.837Z"
   },
   {
    "duration": 133,
    "start_time": "2022-08-13T16:22:29.895Z"
   },
   {
    "duration": 83,
    "start_time": "2022-08-13T16:22:30.030Z"
   },
   {
    "duration": 925,
    "start_time": "2022-08-13T16:22:30.114Z"
   },
   {
    "duration": 42,
    "start_time": "2022-08-13T16:22:31.040Z"
   },
   {
    "duration": 32,
    "start_time": "2022-08-13T16:22:31.092Z"
   },
   {
    "duration": 9,
    "start_time": "2022-08-13T16:22:31.125Z"
   },
   {
    "duration": 136,
    "start_time": "2022-08-13T16:22:31.136Z"
   },
   {
    "duration": 112,
    "start_time": "2022-08-13T16:22:31.274Z"
   },
   {
    "duration": 26,
    "start_time": "2022-08-13T16:22:31.389Z"
   },
   {
    "duration": 1162,
    "start_time": "2022-08-13T16:22:31.417Z"
   },
   {
    "duration": 154,
    "start_time": "2022-08-13T16:22:32.581Z"
   },
   {
    "duration": 18956,
    "start_time": "2022-08-13T16:22:32.737Z"
   },
   {
    "duration": 1504,
    "start_time": "2022-08-13T16:22:51.695Z"
   },
   {
    "duration": 643,
    "start_time": "2022-08-13T16:22:53.201Z"
   },
   {
    "duration": 217019,
    "start_time": "2022-08-13T16:22:53.846Z"
   },
   {
    "duration": 14187,
    "start_time": "2022-08-13T16:26:30.866Z"
   },
   {
    "duration": 490148,
    "start_time": "2022-08-13T16:26:45.055Z"
   },
   {
    "duration": 2341,
    "start_time": "2022-08-13T16:34:55.205Z"
   },
   {
    "duration": 194418,
    "start_time": "2022-08-13T16:34:57.548Z"
   },
   {
    "duration": 1356,
    "start_time": "2022-08-13T16:38:11.969Z"
   },
   {
    "duration": 6,
    "start_time": "2022-08-13T16:38:13.327Z"
   },
   {
    "duration": 85,
    "start_time": "2022-08-13T16:38:13.334Z"
   },
   {
    "duration": 8138,
    "start_time": "2022-08-13T16:38:13.420Z"
   },
   {
    "duration": 168,
    "start_time": "2022-08-13T16:38:21.560Z"
   },
   {
    "duration": 1006,
    "start_time": "2022-08-13T16:38:21.730Z"
   },
   {
    "duration": 644,
    "start_time": "2022-08-13T16:38:22.738Z"
   },
   {
    "duration": 6537,
    "start_time": "2022-08-13T16:38:23.383Z"
   },
   {
    "duration": 137,
    "start_time": "2022-08-13T16:38:29.921Z"
   },
   {
    "duration": 791,
    "start_time": "2022-08-13T16:38:30.060Z"
   },
   {
    "duration": 2848,
    "start_time": "2022-08-13T16:38:30.853Z"
   },
   {
    "duration": 392,
    "start_time": "2022-08-13T16:38:33.703Z"
   },
   {
    "duration": 1205,
    "start_time": "2022-08-13T16:38:34.097Z"
   },
   {
    "duration": 10,
    "start_time": "2022-08-13T16:38:35.304Z"
   },
   {
    "duration": 34,
    "start_time": "2022-08-13T16:38:35.315Z"
   },
   {
    "duration": 51,
    "start_time": "2022-08-13T16:38:35.351Z"
   },
   {
    "duration": 549,
    "start_time": "2022-08-13T16:38:35.403Z"
   },
   {
    "duration": 46,
    "start_time": "2022-08-13T16:38:35.953Z"
   },
   {
    "duration": 3,
    "start_time": "2022-08-13T16:43:38.310Z"
   },
   {
    "duration": 6,
    "start_time": "2022-08-13T16:43:43.036Z"
   },
   {
    "duration": 68,
    "start_time": "2022-08-13T16:43:43.046Z"
   },
   {
    "duration": 9002,
    "start_time": "2022-08-13T16:43:43.117Z"
   },
   {
    "duration": 186,
    "start_time": "2022-08-13T16:43:52.121Z"
   },
   {
    "duration": 964,
    "start_time": "2022-08-13T16:43:52.309Z"
   },
   {
    "duration": 632,
    "start_time": "2022-08-13T16:43:53.275Z"
   },
   {
    "duration": 10932,
    "start_time": "2022-08-13T16:43:53.909Z"
   },
   {
    "duration": 284,
    "start_time": "2022-08-13T16:44:04.843Z"
   },
   {
    "duration": 1036,
    "start_time": "2022-08-13T16:44:05.129Z"
   },
   {
    "duration": 3126,
    "start_time": "2022-08-13T16:44:06.166Z"
   },
   {
    "duration": 307,
    "start_time": "2022-08-13T16:44:09.295Z"
   },
   {
    "duration": 1388,
    "start_time": "2022-08-13T16:44:09.604Z"
   },
   {
    "duration": 11,
    "start_time": "2022-08-13T16:44:10.993Z"
   },
   {
    "duration": 52,
    "start_time": "2022-08-13T16:44:11.005Z"
   },
   {
    "duration": 44,
    "start_time": "2022-08-13T16:44:11.059Z"
   },
   {
    "duration": 526,
    "start_time": "2022-08-13T16:44:11.105Z"
   },
   {
    "duration": 63,
    "start_time": "2022-08-13T16:44:11.633Z"
   }
  ],
  "kernelspec": {
   "display_name": "Python 3",
   "language": "python",
   "name": "python3"
  },
  "language_info": {
   "codemirror_mode": {
    "name": "ipython",
    "version": 3
   },
   "file_extension": ".py",
   "mimetype": "text/x-python",
   "name": "python",
   "nbconvert_exporter": "python",
   "pygments_lexer": "ipython3",
   "version": "3.8.8"
  },
  "toc": {
   "base_numbering": 1,
   "nav_menu": {},
   "number_sections": true,
   "sideBar": true,
   "skip_h1_title": true,
   "title_cell": "Table of Contents",
   "title_sidebar": "Contents",
   "toc_cell": false,
   "toc_position": {},
   "toc_section_display": true,
   "toc_window_display": false
  }
 },
 "nbformat": 4,
 "nbformat_minor": 2
}
