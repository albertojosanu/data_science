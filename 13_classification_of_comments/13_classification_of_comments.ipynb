{
 "cells": [
  {
   "cell_type": "markdown",
   "metadata": {
    "toc": true
   },
   "source": [
    "<h1>Содержание<span class=\"tocSkip\"></span></h1>\n",
    "<div class=\"toc\"><ul class=\"toc-item\"><li><span><a href=\"#Подготовка\" data-toc-modified-id=\"Подготовка-1\"><span class=\"toc-item-num\">1&nbsp;&nbsp;</span>Подготовка</a></span></li><li><span><a href=\"#Обучение\" data-toc-modified-id=\"Обучение-2\"><span class=\"toc-item-num\">2&nbsp;&nbsp;</span>Обучение</a></span></li><li><span><a href=\"#Выводы\" data-toc-modified-id=\"Выводы-3\"><span class=\"toc-item-num\">3&nbsp;&nbsp;</span>Выводы</a></span></li></ul></div>"
   ]
  },
  {
   "cell_type": "markdown",
   "metadata": {},
   "source": [
    "# Проект для «Викишоп»"
   ]
  },
  {
   "cell_type": "markdown",
   "metadata": {},
   "source": [
    "Условный интернет-магазин «Викишоп» запускает новый сервис. Теперь пользователи могут редактировать и дополнять описания товаров, как в вики-сообществах. То есть клиенты предлагают свои правки и комментируют изменения других. Магазину нужен инструмент, который будет искать токсичные комментарии и отправлять их на модерацию. \n",
    "\n",
    "Нужно обучить модель классифицировать комментарии на позитивные и негативные. В распоряжении набор данных с разметкой о токсичности правок.\n",
    "\n",
    "Предполагается построить модель со значением метрики качества *F1* не меньше 0.75. \n",
    "\n",
    "**Инструкция по выполнению проекта**\n",
    "\n",
    "1. Загрузить и подготовить данные.\n",
    "2. Обучить разные модели. \n",
    "3. Сделать выводы.\n",
    "\n",
    "Для выполнения проекта не применяется *BERT*.\n",
    "\n",
    "**Описание данных**\n",
    "\n",
    "Данные находятся в файле `toxic_comments.csv`. Столбец *text* в нём содержит текст комментария, а *toxic* — целевой признак."
   ]
  },
  {
   "cell_type": "markdown",
   "metadata": {},
   "source": [
    "## Подготовка"
   ]
  },
  {
   "cell_type": "code",
   "execution_count": 1,
   "metadata": {},
   "outputs": [],
   "source": [
    "# Импорт библиотеки pandas\n",
    "import pandas as pd\n",
    "# Импорт библиотеки numpy\n",
    "import numpy as np\n",
    "# Импорт библиотеки matplotlib\n",
    "import matplotlib.pyplot as plt\n",
    "# Импорт библиотеки math\n",
    "import math\n",
    "# Импорт библиотеки time\n",
    "import time\n",
    "# Импорт библиотеки re\n",
    "import re\n",
    "# Импорт библиотеки nltk\n",
    "import nltk\n",
    "from nltk.corpus import stopwords as nltk_stopwords\n",
    "from nltk.corpus import wordnet\n",
    "from nltk.stem import WordNetLemmatizer \n",
    "from nltk.tokenize import word_tokenize\n",
    "# Импорт библиотеки sklearn и необходимых компонентов\n",
    "from sklearn.model_selection import train_test_split\n",
    "from sklearn.dummy import DummyClassifier\n",
    "from sklearn.linear_model import LogisticRegression\n",
    "from sklearn.ensemble import RandomForestClassifier\n",
    "from sklearn.model_selection import GridSearchCV\n",
    "from sklearn.model_selection import RandomizedSearchCV\n",
    "from sklearn.model_selection import StratifiedKFold\n",
    "from sklearn.feature_extraction.text import CountVectorizer\n",
    "from sklearn.feature_extraction.text import TfidfTransformer \n",
    "from sklearn.feature_extraction.text import TfidfVectorizer \n",
    "from sklearn.metrics import f1_score \n",
    "from sklearn.metrics import confusion_matrix \n",
    "from sklearn.metrics import recall_score\n",
    "from sklearn.metrics import precision_score\n",
    "from sklearn.metrics import roc_auc_score \n",
    "from sklearn.pipeline import Pipeline\n",
    "# Импорт библиотек алгоритмов градиентного бустинга\n",
    "from catboost import CatBoostClassifier\n",
    "from lightgbm import LGBMClassifier\n",
    "# Удаление ложных предупреждений\n",
    "pd.options.mode.chained_assignment = None  # default='warn'\n",
    "# Сброс ограничений на число столбцов\n",
    "pd.set_option('display.max_columns', None)"
   ]
  },
  {
   "cell_type": "markdown",
   "metadata": {},
   "source": [
    "<font color='DarkBlue'> \n",
    "📌 Импортированы все библиотеки, используемые далее в проекте, и скорректированы настройки <br>\n",
    "</font> "
   ]
  },
  {
   "cell_type": "code",
   "execution_count": 2,
   "metadata": {},
   "outputs": [
    {
     "name": "stdout",
     "output_type": "stream",
     "text": [
      "\u001b[1m\u001b[43m ----- Просмотр общей информации о dataframe ----- \u001b[0m\n",
      "<class 'pandas.core.frame.DataFrame'>\n",
      "RangeIndex: 159571 entries, 0 to 159570\n",
      "Data columns (total 2 columns):\n",
      " #   Column  Non-Null Count   Dtype \n",
      "---  ------  --------------   ----- \n",
      " 0   text    159571 non-null  object\n",
      " 1   toxic   159571 non-null  int64 \n",
      "dtypes: int64(1), object(1)\n",
      "memory usage: 2.4+ MB\n",
      "\u001b[1m\u001b[43m ----- Информация о заголовках полей dataframe ----- \u001b[0m\n",
      "Index(['text', 'toxic'], dtype='object')\n",
      "\u001b[1m\u001b[43m ----- Информация о типах полей dataframe ----- \u001b[0m\n",
      "text     object\n",
      "toxic     int64\n",
      "dtype: object\n",
      "\u001b[1m\u001b[43m ----- Отображение на экране в читаемом виде первых записей таблицы dataframe для визуального анализа ----- \u001b[0m\n"
     ]
    },
    {
     "data": {
      "text/html": [
       "<div>\n",
       "<style scoped>\n",
       "    .dataframe tbody tr th:only-of-type {\n",
       "        vertical-align: middle;\n",
       "    }\n",
       "\n",
       "    .dataframe tbody tr th {\n",
       "        vertical-align: top;\n",
       "    }\n",
       "\n",
       "    .dataframe thead th {\n",
       "        text-align: right;\n",
       "    }\n",
       "</style>\n",
       "<table border=\"1\" class=\"dataframe\">\n",
       "  <thead>\n",
       "    <tr style=\"text-align: right;\">\n",
       "      <th></th>\n",
       "      <th>text</th>\n",
       "      <th>toxic</th>\n",
       "    </tr>\n",
       "  </thead>\n",
       "  <tbody>\n",
       "    <tr>\n",
       "      <th>0</th>\n",
       "      <td>Explanation\\nWhy the edits made under my usern...</td>\n",
       "      <td>0</td>\n",
       "    </tr>\n",
       "    <tr>\n",
       "      <th>1</th>\n",
       "      <td>D'aww! He matches this background colour I'm s...</td>\n",
       "      <td>0</td>\n",
       "    </tr>\n",
       "    <tr>\n",
       "      <th>2</th>\n",
       "      <td>Hey man, I'm really not trying to edit war. It...</td>\n",
       "      <td>0</td>\n",
       "    </tr>\n",
       "    <tr>\n",
       "      <th>3</th>\n",
       "      <td>\"\\nMore\\nI can't make any real suggestions on ...</td>\n",
       "      <td>0</td>\n",
       "    </tr>\n",
       "    <tr>\n",
       "      <th>4</th>\n",
       "      <td>You, sir, are my hero. Any chance you remember...</td>\n",
       "      <td>0</td>\n",
       "    </tr>\n",
       "  </tbody>\n",
       "</table>\n",
       "</div>"
      ],
      "text/plain": [
       "                                                text  toxic\n",
       "0  Explanation\\nWhy the edits made under my usern...      0\n",
       "1  D'aww! He matches this background colour I'm s...      0\n",
       "2  Hey man, I'm really not trying to edit war. It...      0\n",
       "3  \"\\nMore\\nI can't make any real suggestions on ...      0\n",
       "4  You, sir, are my hero. Any chance you remember...      0"
      ]
     },
     "metadata": {},
     "output_type": "display_data"
    },
    {
     "name": "stdout",
     "output_type": "stream",
     "text": [
      "Количество явных дубликатов 0\n"
     ]
    }
   ],
   "source": [
    "# Загрузка таблицы в память переменной df типа dataframe\n",
    "df = pd.read_csv('/datasets/toxic_comments.csv')\n",
    "# Разделители для удобства отображения информации указаны в виде отдельных пунктов 'print(\"\\033[1m\\033[43m {}\".format('----- Text -----'),\"\\033[0m\")'\n",
    "print('\\033[1m\\033[43m {}'.format('----- Просмотр общей информации о dataframe -----'),'\\033[0m')\n",
    "df.info()\n",
    "print('\\033[1m\\033[43m {}'.format('----- Информация о заголовках полей dataframe -----'),'\\033[0m')\n",
    "print(df.columns)\n",
    "print('\\033[1m\\033[43m {}'.format('----- Информация о типах полей dataframe -----'),'\\033[0m')\n",
    "print(df.dtypes)\n",
    "print('\\033[1m\\033[43m {}'.format('----- Отображение на экране в читаемом виде первых записей таблицы dataframe для визуального анализа -----'),'\\033[0m')\n",
    "display(df.head())\n",
    "print('Количество явных дубликатов', df.duplicated().sum())"
   ]
  },
  {
   "cell_type": "markdown",
   "metadata": {},
   "source": [
    "<font color='DarkBlue'> \n",
    "📌 В ходе первичного анализа данных сформированы следующие выводы: <br>\n",
    "    \n",
    "1. Отсутствует необходимость в редактировании заголовков, названия представлены в условно общепринятом формате\n",
    "2. Пропуски в столбцах не обнаружены\n",
    "3. Отсутствуют явные дубликаты и, соответственно, необходимость удаления повторяющихся объектов\n",
    "4. Тип данных числовых полей можно преобразовать для уменьшения требуемого объема памяти хранения данных\n",
    "5. Среди табличных данных возможно появление некорректных значений, рекомендуется детальный анализ по параметрам столбцов и построение гистограммы распределения для целевого признака\n",
    "</font> "
   ]
  },
  {
   "cell_type": "code",
   "execution_count": 3,
   "metadata": {},
   "outputs": [
    {
     "data": {
      "text/html": [
       "<div>\n",
       "<style scoped>\n",
       "    .dataframe tbody tr th:only-of-type {\n",
       "        vertical-align: middle;\n",
       "    }\n",
       "\n",
       "    .dataframe tbody tr th {\n",
       "        vertical-align: top;\n",
       "    }\n",
       "\n",
       "    .dataframe thead th {\n",
       "        text-align: right;\n",
       "    }\n",
       "</style>\n",
       "<table border=\"1\" class=\"dataframe\">\n",
       "  <thead>\n",
       "    <tr style=\"text-align: right;\">\n",
       "      <th></th>\n",
       "      <th>text</th>\n",
       "    </tr>\n",
       "  </thead>\n",
       "  <tbody>\n",
       "    <tr>\n",
       "      <th>count</th>\n",
       "      <td>159571</td>\n",
       "    </tr>\n",
       "    <tr>\n",
       "      <th>unique</th>\n",
       "      <td>159571</td>\n",
       "    </tr>\n",
       "    <tr>\n",
       "      <th>top</th>\n",
       "      <td>Rock'n'Roll \\n\\nshouldn't this be in their gen...</td>\n",
       "    </tr>\n",
       "    <tr>\n",
       "      <th>freq</th>\n",
       "      <td>1</td>\n",
       "    </tr>\n",
       "  </tbody>\n",
       "</table>\n",
       "</div>"
      ],
      "text/plain": [
       "                                                     text\n",
       "count                                              159571\n",
       "unique                                             159571\n",
       "top     Rock'n'Roll \\n\\nshouldn't this be in their gen...\n",
       "freq                                                    1"
      ]
     },
     "metadata": {},
     "output_type": "display_data"
    },
    {
     "data": {
      "text/html": [
       "<div>\n",
       "<style scoped>\n",
       "    .dataframe tbody tr th:only-of-type {\n",
       "        vertical-align: middle;\n",
       "    }\n",
       "\n",
       "    .dataframe tbody tr th {\n",
       "        vertical-align: top;\n",
       "    }\n",
       "\n",
       "    .dataframe thead th {\n",
       "        text-align: right;\n",
       "    }\n",
       "</style>\n",
       "<table border=\"1\" class=\"dataframe\">\n",
       "  <thead>\n",
       "    <tr style=\"text-align: right;\">\n",
       "      <th></th>\n",
       "      <th>toxic</th>\n",
       "    </tr>\n",
       "  </thead>\n",
       "  <tbody>\n",
       "    <tr>\n",
       "      <th>count</th>\n",
       "      <td>159571.000000</td>\n",
       "    </tr>\n",
       "    <tr>\n",
       "      <th>mean</th>\n",
       "      <td>0.101679</td>\n",
       "    </tr>\n",
       "    <tr>\n",
       "      <th>std</th>\n",
       "      <td>0.302226</td>\n",
       "    </tr>\n",
       "    <tr>\n",
       "      <th>min</th>\n",
       "      <td>0.000000</td>\n",
       "    </tr>\n",
       "    <tr>\n",
       "      <th>50%</th>\n",
       "      <td>0.000000</td>\n",
       "    </tr>\n",
       "    <tr>\n",
       "      <th>max</th>\n",
       "      <td>1.000000</td>\n",
       "    </tr>\n",
       "  </tbody>\n",
       "</table>\n",
       "</div>"
      ],
      "text/plain": [
       "               toxic\n",
       "count  159571.000000\n",
       "mean        0.101679\n",
       "std         0.302226\n",
       "min         0.000000\n",
       "50%         0.000000\n",
       "max         1.000000"
      ]
     },
     "metadata": {},
     "output_type": "display_data"
    },
    {
     "data": {
      "image/png": "[encoded data removed]",
      "text/plain": [
       "<Figure size 432x288 with 1 Axes>"
      ]
     },
     "metadata": {
      "needs_background": "light"
     },
     "output_type": "display_data"
    }
   ],
   "source": [
    "display(df.describe(include=['object']))\n",
    "display(df.describe(percentiles=[0.5]))\n",
    "df['toxic'].hist(bins=len(df['toxic'].unique()))\n",
    "plt.show()"
   ]
  },
  {
   "cell_type": "markdown",
   "metadata": {},
   "source": [
    "<font color='DarkBlue'> \n",
    "📌 Большинство отзывов являются положительными, для реализации корректного процесса обучения далее присутствует необходимость в стратифицированном разделении выборок на обучающую и тестовую <br>      \n",
    "📌 Также рекомендуется преобразование типов данных, если отсутствует необходимость в осуществлении дальнейших арифметических операций с содержимым полей <br>\n",
    "</font> "
   ]
  },
  {
   "cell_type": "code",
   "execution_count": 4,
   "metadata": {},
   "outputs": [
    {
     "name": "stdout",
     "output_type": "stream",
     "text": [
      "<class 'pandas.core.frame.DataFrame'>\n",
      "RangeIndex: 159571 entries, 0 to 159570\n",
      "Data columns (total 2 columns):\n",
      " #   Column  Non-Null Count   Dtype \n",
      "---  ------  --------------   ----- \n",
      " 0   text    159571 non-null  object\n",
      " 1   toxic   159571 non-null  uint8 \n",
      "dtypes: object(1), uint8(1)\n",
      "memory usage: 1.4+ MB\n"
     ]
    }
   ],
   "source": [
    "df[df.select_dtypes(include=['int']).columns] = df.select_dtypes(include=['int']).apply(pd.to_numeric,downcast='unsigned')\n",
    "df[df.select_dtypes(include=['float']).columns] = df.select_dtypes(include=['float']).apply(pd.to_numeric,downcast='float')\n",
    "df.info()"
   ]
  },
  {
   "cell_type": "markdown",
   "metadata": {},
   "source": [
    "<font color='DarkBlue'> \n",
    "📌 Необходимо привести записи к общему виду для последующей обработки, исключив лишние символы: все, кроме английских букв и пробелов, и лемматизировав тексты. Для этого требуется создать соответствующие функции <br> \n",
    "📌 Сначала нужно выделить корпус, представляющий набор текстов, из исходного датасета и создать класс для лемматизации <br>     \n",
    "</font> "
   ]
  },
  {
   "cell_type": "code",
   "execution_count": 5,
   "metadata": {},
   "outputs": [],
   "source": [
    "corpus = df['text']"
   ]
  },
  {
   "cell_type": "code",
   "execution_count": 6,
   "metadata": {},
   "outputs": [],
   "source": [
    "# m = Mystem()"
   ]
  },
  {
   "cell_type": "code",
   "execution_count": 7,
   "metadata": {},
   "outputs": [],
   "source": [
    "# def lemmatize(text):\n",
    "#     lemm_list = m.lemmatize(text)\n",
    "#     lemm_text = ''.join(lemm_list)        \n",
    "#     return lemm_text"
   ]
  },
  {
   "cell_type": "code",
   "execution_count": 9,
   "metadata": {},
   "outputs": [
    {
     "name": "stderr",
     "output_type": "stream",
     "text": [
      "[nltk_data] Downloading package averaged_perceptron_tagger to\n",
      "[nltk_data]     /home/jovyan/nltk_data...\n",
      "[nltk_data]   Package averaged_perceptron_tagger is already up-to-\n",
      "[nltk_data]       date!\n"
     ]
    },
    {
     "data": {
      "text/plain": [
       "True"
      ]
     },
     "execution_count": 9,
     "metadata": {},
     "output_type": "execute_result"
    }
   ],
   "source": [
    "lemmatizer = WordNetLemmatizer()\n",
    "nltk.download('averaged_perceptron_tagger')"
   ]
  },
  {
   "cell_type": "code",
   "execution_count": 10,
   "metadata": {},
   "outputs": [],
   "source": [
    "def get_wordnet_pos(word):\n",
    "    tag = nltk.pos_tag([word])[0][1][0].upper()\n",
    "    tag_dict = {\"J\": wordnet.ADJ,\n",
    "                \"N\": wordnet.NOUN,\n",
    "                \"V\": wordnet.VERB,\n",
    "                \"R\": wordnet.ADV}\n",
    "    return tag_dict.get(tag, wordnet.NOUN)"
   ]
  },
  {
   "cell_type": "code",
   "execution_count": 11,
   "metadata": {},
   "outputs": [],
   "source": [
    "def lemmatize(text):\n",
    "    lemm_list = []\n",
    "    tokens = word_tokenize(text)\n",
    "    for token in tokens:\n",
    "        lemmetized_word = lemmatizer.lemmatize(token, get_wordnet_pos(token))\n",
    "        lemm_list.append(lemmetized_word)\n",
    "    lemm_text = ' '.join(lemm_list) \n",
    "    return lemm_text"
   ]
  },
  {
   "cell_type": "code",
   "execution_count": 12,
   "metadata": {},
   "outputs": [],
   "source": [
    "def clear_text(text):\n",
    "    new_text = re.sub(r'[^a-zA-Z ]', ' ', text) \n",
    "    new_text = new_text.split()   \n",
    "    new_text = ' '.join(new_text)\n",
    "    return new_text"
   ]
  },
  {
   "cell_type": "markdown",
   "metadata": {},
   "source": [
    "<font color='DarkBlue'> \n",
    "📌 Можно проверить корректность выполнения объявленных функций на одном из объектов исходного датасета <br>   \n",
    "</font> "
   ]
  },
  {
   "cell_type": "code",
   "execution_count": 13,
   "metadata": {},
   "outputs": [
    {
     "name": "stdout",
     "output_type": "stream",
     "text": [
      "Исходный текст\n",
      "Explanation\n",
      "Why the edits made under my username Hardcore Metallica Fan were reverted? They weren't vandalisms, just closure on some GAs after I voted at New York Dolls FAC. And please don't remove the template from the talk page since I'm retired now.89.205.38.27\n",
      "-----\n",
      "Очищенный и лемматизированный текст\n",
      "Explanation Why the edits make under my username Hardcore Metallica Fan be revert They weren t vandalism just closure on some GAs after I vote at New York Dolls FAC And please don t remove the template from the talk page since I m retire now\n"
     ]
    }
   ],
   "source": [
    "print('Исходный текст')\n",
    "print(corpus[0])\n",
    "print('-----')\n",
    "print('Очищенный и лемматизированный текст')\n",
    "print(lemmatize(clear_text(corpus[0])))"
   ]
  },
  {
   "cell_type": "markdown",
   "metadata": {},
   "source": [
    "<font color='DarkBlue'> \n",
    "📌 Преобразование текста выполняется корректно <br> \n",
    "📌 Далее необходимо создать новое поле с данными в соответствии с использованием упомянутого выше алгоритма. Функция лемматизации, используемая для общего пула исходных данных, в данном окружении может не исполняться, поэтому предлагается разбить датасет на батчи и выполнять преобразования с ними поочередно. Сначала нужно определить их количество, а также остаток для вычисления количества записей в крайней итерации <br>     \n",
    "</font> "
   ]
  },
  {
   "cell_type": "code",
   "execution_count": 14,
   "metadata": {},
   "outputs": [],
   "source": [
    "df['lemm_text'] = pd.Series(corpus).apply(lambda x: lemmatize(clear_text(x)))"
   ]
  },
  {
   "cell_type": "code",
   "execution_count": 15,
   "metadata": {
    "scrolled": false
   },
   "outputs": [],
   "source": [
    "# %%time\n",
    "# cnt = len(df) // 5000 + 1\n",
    "# div = len(df) % 5000\n",
    "# print('Количество батчей:', cnt)\n",
    "# for batch in range(cnt):\n",
    "#     start_time = time.time()\n",
    "#     if batch < cnt - 1:\n",
    "#         df.loc[(5000 * batch):(5000 * (batch + 1)), 'lemm_text'] = pd.Series(corpus[(5000 * batch):(5000 * (batch + 1))], index=range(5000 * batch,5000 * (batch + 1))).apply(lambda x: lemmatize(clear_text(x)))\n",
    "#     else:\n",
    "#         df.loc[(len(df) - div):, 'lemm_text'] = pd.Series(corpus[(len(df) - div):], index=range(len(corpus) - div,len(corpus))).apply(lambda x: lemmatize(clear_text(x)))\n",
    "#     print('Время прохождения итерации', batch + 1, ':', round((time.time() - start_time) * 1000), 'ms')\n",
    "# print('Количество пропущенных записей после преобразования:', df['lemm_text'].isna().sum())"
   ]
  },
  {
   "cell_type": "markdown",
   "metadata": {},
   "source": [
    "<font color='DarkBlue'> \n",
    "📌 Можно удостовериться в том, что все записи корректно обработаны <br>     \n",
    "</font> "
   ]
  },
  {
   "cell_type": "code",
   "execution_count": 16,
   "metadata": {},
   "outputs": [
    {
     "data": {
      "text/html": [
       "<div>\n",
       "<style scoped>\n",
       "    .dataframe tbody tr th:only-of-type {\n",
       "        vertical-align: middle;\n",
       "    }\n",
       "\n",
       "    .dataframe tbody tr th {\n",
       "        vertical-align: top;\n",
       "    }\n",
       "\n",
       "    .dataframe thead th {\n",
       "        text-align: right;\n",
       "    }\n",
       "</style>\n",
       "<table border=\"1\" class=\"dataframe\">\n",
       "  <thead>\n",
       "    <tr style=\"text-align: right;\">\n",
       "      <th></th>\n",
       "      <th>text</th>\n",
       "      <th>toxic</th>\n",
       "      <th>lemm_text</th>\n",
       "    </tr>\n",
       "  </thead>\n",
       "  <tbody>\n",
       "    <tr>\n",
       "      <th>0</th>\n",
       "      <td>Explanation\\nWhy the edits made under my usern...</td>\n",
       "      <td>0</td>\n",
       "      <td>Explanation Why the edits make under my userna...</td>\n",
       "    </tr>\n",
       "    <tr>\n",
       "      <th>1</th>\n",
       "      <td>D'aww! He matches this background colour I'm s...</td>\n",
       "      <td>0</td>\n",
       "      <td>D aww He match this background colour I m seem...</td>\n",
       "    </tr>\n",
       "    <tr>\n",
       "      <th>2</th>\n",
       "      <td>Hey man, I'm really not trying to edit war. It...</td>\n",
       "      <td>0</td>\n",
       "      <td>Hey man I m really not try to edit war It s ju...</td>\n",
       "    </tr>\n",
       "    <tr>\n",
       "      <th>3</th>\n",
       "      <td>\"\\nMore\\nI can't make any real suggestions on ...</td>\n",
       "      <td>0</td>\n",
       "      <td>More I can t make any real suggestion on impro...</td>\n",
       "    </tr>\n",
       "    <tr>\n",
       "      <th>4</th>\n",
       "      <td>You, sir, are my hero. Any chance you remember...</td>\n",
       "      <td>0</td>\n",
       "      <td>You sir be my hero Any chance you remember wha...</td>\n",
       "    </tr>\n",
       "    <tr>\n",
       "      <th>...</th>\n",
       "      <td>...</td>\n",
       "      <td>...</td>\n",
       "      <td>...</td>\n",
       "    </tr>\n",
       "    <tr>\n",
       "      <th>159566</th>\n",
       "      <td>\":::::And for the second time of asking, when ...</td>\n",
       "      <td>0</td>\n",
       "      <td>And for the second time of ask when your view ...</td>\n",
       "    </tr>\n",
       "    <tr>\n",
       "      <th>159567</th>\n",
       "      <td>You should be ashamed of yourself \\n\\nThat is ...</td>\n",
       "      <td>0</td>\n",
       "      <td>You should be ashamed of yourself That be a ho...</td>\n",
       "    </tr>\n",
       "    <tr>\n",
       "      <th>159568</th>\n",
       "      <td>Spitzer \\n\\nUmm, theres no actual article for ...</td>\n",
       "      <td>0</td>\n",
       "      <td>Spitzer Umm there no actual article for prosti...</td>\n",
       "    </tr>\n",
       "    <tr>\n",
       "      <th>159569</th>\n",
       "      <td>And it looks like it was actually you who put ...</td>\n",
       "      <td>0</td>\n",
       "      <td>And it look like it be actually you who put on...</td>\n",
       "    </tr>\n",
       "    <tr>\n",
       "      <th>159570</th>\n",
       "      <td>\"\\nAnd ... I really don't think you understand...</td>\n",
       "      <td>0</td>\n",
       "      <td>And I really don t think you understand I come...</td>\n",
       "    </tr>\n",
       "  </tbody>\n",
       "</table>\n",
       "<p>159571 rows × 3 columns</p>\n",
       "</div>"
      ],
      "text/plain": [
       "                                                     text  toxic  \\\n",
       "0       Explanation\\nWhy the edits made under my usern...      0   \n",
       "1       D'aww! He matches this background colour I'm s...      0   \n",
       "2       Hey man, I'm really not trying to edit war. It...      0   \n",
       "3       \"\\nMore\\nI can't make any real suggestions on ...      0   \n",
       "4       You, sir, are my hero. Any chance you remember...      0   \n",
       "...                                                   ...    ...   \n",
       "159566  \":::::And for the second time of asking, when ...      0   \n",
       "159567  You should be ashamed of yourself \\n\\nThat is ...      0   \n",
       "159568  Spitzer \\n\\nUmm, theres no actual article for ...      0   \n",
       "159569  And it looks like it was actually you who put ...      0   \n",
       "159570  \"\\nAnd ... I really don't think you understand...      0   \n",
       "\n",
       "                                                lemm_text  \n",
       "0       Explanation Why the edits make under my userna...  \n",
       "1       D aww He match this background colour I m seem...  \n",
       "2       Hey man I m really not try to edit war It s ju...  \n",
       "3       More I can t make any real suggestion on impro...  \n",
       "4       You sir be my hero Any chance you remember wha...  \n",
       "...                                                   ...  \n",
       "159566  And for the second time of ask when your view ...  \n",
       "159567  You should be ashamed of yourself That be a ho...  \n",
       "159568  Spitzer Umm there no actual article for prosti...  \n",
       "159569  And it look like it be actually you who put on...  \n",
       "159570  And I really don t think you understand I come...  \n",
       "\n",
       "[159571 rows x 3 columns]"
      ]
     },
     "execution_count": 16,
     "metadata": {},
     "output_type": "execute_result"
    }
   ],
   "source": [
    "df"
   ]
  },
  {
   "cell_type": "markdown",
   "metadata": {},
   "source": [
    "## Обучение"
   ]
  },
  {
   "cell_type": "markdown",
   "metadata": {},
   "source": [
    "<font color='DarkBlue'> \n",
    "📌 Для более корректной классификации необходимо загрузить список стоп-слов, не несущих соответствующей смысловой нагрузки и, соответственно, не участвующих в определении тональности текста <br>     \n",
    "</font> "
   ]
  },
  {
   "cell_type": "code",
   "execution_count": 17,
   "metadata": {},
   "outputs": [
    {
     "name": "stderr",
     "output_type": "stream",
     "text": [
      "[nltk_data] Downloading package stopwords to /home/jovyan/nltk_data...\n",
      "[nltk_data]   Package stopwords is already up-to-date!\n"
     ]
    }
   ],
   "source": [
    "nltk.download('stopwords')\n",
    "stopwords = set(nltk_stopwords.words('english'))"
   ]
  },
  {
   "cell_type": "markdown",
   "metadata": {},
   "source": [
    "<font color='DarkBlue'> \n",
    "📌 Далее требуется разбить выборки на обучающую и тестовую в соотношении 3:1 <br>     \n",
    "</font> "
   ]
  },
  {
   "cell_type": "code",
   "execution_count": 18,
   "metadata": {},
   "outputs": [],
   "source": [
    "df_train, df_test = train_test_split(df, test_size=0.25, stratify=df['toxic'], random_state=12345)"
   ]
  },
  {
   "cell_type": "code",
   "execution_count": 19,
   "metadata": {},
   "outputs": [],
   "source": [
    "# %%time\n",
    "# cnt = len(df_train) // 5000 + 1\n",
    "# div = len(df_train) % 5000\n",
    "# print('Количество батчей:', cnt)\n",
    "# corpus_train = pd.Series(dtype='object', index=range(len(df_train)))\n",
    "# for batch in range(cnt):\n",
    "#     start_time = time.time()\n",
    "#     if batch < cnt - 1:\n",
    "#         corpus_train.loc[(5000 * batch):(5000 * (batch + 1))] = pd.Series(df_train[(5000 * batch):(5000 * (batch + 1))]['lemm_text'].values.astype('U'), index=range(5000 * batch,5000 * (batch + 1)))\n",
    "#     else:\n",
    "#         corpus_train.loc[(len(df_train) - div):] = pd.Series(df_train[len(df_train) - div:]['lemm_text'].values.astype('U'), index=range(len(df_train) - div,len(df_train)))\n",
    "#     print('Время прохождения итерации', batch + 1, ':', round((time.time() - start_time) * 1000), 'ms')\n",
    "# corpus_test = df_test['lemm_text'].values.astype('U')"
   ]
  },
  {
   "cell_type": "code",
   "execution_count": 20,
   "metadata": {},
   "outputs": [],
   "source": [
    "corpus_train, corpus_test = [table['lemm_text'] for table in [df_train, df_test]]"
   ]
  },
  {
   "cell_type": "code",
   "execution_count": 21,
   "metadata": {
    "scrolled": true
   },
   "outputs": [],
   "source": [
    "# count_tf_idf = TfidfVectorizer(stop_words=stopwords) \n",
    "# tf_idf_train = count_tf_idf.fit_transform(corpus_train)\n",
    "# tf_idf_test = count_tf_idf.transform(corpus_test)"
   ]
  },
  {
   "cell_type": "markdown",
   "metadata": {},
   "source": [
    "<font color='DarkBlue'> \n",
    "📌 Для удобства формирования дальнейших расчетов можно создать функции обучения моделей и осуществления предсказаний с определением времени и таблицу для фиксации результатов предсказаний <br>  \n",
    "</font>"
   ]
  },
  {
   "cell_type": "code",
   "execution_count": 22,
   "metadata": {},
   "outputs": [],
   "source": [
    "def fit(model, cv):     \n",
    "    if cv == True:\n",
    "        grid.fit(corpus_train, df_train['toxic'])\n",
    "        print('Лучшая модель:', grid.best_estimator_)\n",
    "        print('Параметры лучшей модели:', grid.best_params_)  \n",
    "        print('Лучшая усредненная по кросс-валидации метрика F1 модели:', grid.best_score_)\n",
    "        model = grid.best_estimator_\n",
    "    start_time = time.time()\n",
    "    model.fit(corpus_train, df_train['toxic'])\n",
    "    t_train = round((time.time() - start_time) * 1000)\n",
    "    print('Время обучения:', t_train, 'ms')\n",
    "    return model, t_train"
   ]
  },
  {
   "cell_type": "code",
   "execution_count": 23,
   "metadata": {},
   "outputs": [],
   "source": [
    "def predict(model):    \n",
    "    start_time = time.time()\n",
    "    df_predicted_test = model.predict(corpus_test)\n",
    "    t_predict = round((time.time() - start_time) * 1000)   \n",
    "    print('Время предсказания:', t_predict, 'ms')\n",
    "    df_predicted_train = model.predict(corpus_train)    \n",
    "    accuracy_train = model.score(corpus_train, df_train['toxic'])\n",
    "    accuracy_test = model.score(corpus_test, df_test['toxic'])\n",
    "    f1_train = f1_score(df_train['toxic'], df_predicted_train)\n",
    "    f1_test = f1_score(df_test['toxic'], df_predicted_test)\n",
    "    recall_test = recall_score(df_test['toxic'], df_predicted_test)\n",
    "    precision_test = precision_score(df_test['toxic'], df_predicted_test, zero_division=0)\n",
    "    df_probabilities_valid = model.predict_proba(corpus_test)\n",
    "    df_probabilities_one_valid = df_probabilities_valid[:, 1]\n",
    "    roc_test = roc_auc_score(df_test['toxic'], df_probabilities_one_valid)\n",
    "    print('Accuracy модели на обучающей выборке:', accuracy_train)\n",
    "    print('Accuracy модели на тестовой выборке:', accuracy_test)\n",
    "    print('F1 модели на обучающей выборке:', f1_train)\n",
    "    print('F1 модели на тестовой выборке:', f1_test)\n",
    "    print('Recall:', recall_test)\n",
    "    print('Precision:', precision_test)\n",
    "    print('Площадь под ROC-кривой', roc_test)\n",
    "    print('Матрица ошибок')\n",
    "    print(confusion_matrix(df_test['toxic'], df_predicted_test))    \n",
    "    return accuracy_train, accuracy_test, f1_train, f1_test, recall_test, precision_test, roc_test, t_predict"
   ]
  },
  {
   "cell_type": "code",
   "execution_count": 24,
   "metadata": {},
   "outputs": [],
   "source": [
    "table = pd.DataFrame(columns = ['name', 'accuracy_train', 'accuracy_test', 'f1_train', 'f1_test', 'recall_test', 'precision_test', 'roc_test', 't_train', 't_predict'])"
   ]
  },
  {
   "cell_type": "markdown",
   "metadata": {},
   "source": [
    "<font color='DarkBlue'> \n",
    "📌 Модель необходимо обозначить в качестве Pipeline для осуществления векторизации обучающей выборки во время подбора параметров. Отсутствует нгеобходимость в дальнейших преобразованиях данных для обучения моделей алгоритмами классификации <br> \n",
    "📌 Сначала можно обучить модель с использованием алгоритма DummyClassifier для сравнения с далее представленными методами обучениями и вывления их адекватности <br> \n",
    "</font> "
   ]
  },
  {
   "cell_type": "code",
   "execution_count": 25,
   "metadata": {},
   "outputs": [
    {
     "name": "stdout",
     "output_type": "stream",
     "text": [
      "Время обучения: 4519 ms\n",
      "CPU times: user 4.41 s, sys: 96.1 ms, total: 4.5 s\n",
      "Wall time: 4.52 s\n"
     ]
    }
   ],
   "source": [
    "%%time\n",
    "model = Pipeline([('vect', CountVectorizer(stop_words=stopwords)), ('tfidf', TfidfTransformer()), ('clf', DummyClassifier(random_state=12345))])\n",
    "model, t_train = fit(model, False)"
   ]
  },
  {
   "cell_type": "code",
   "execution_count": 26,
   "metadata": {},
   "outputs": [
    {
     "name": "stdout",
     "output_type": "stream",
     "text": [
      "Время предсказания: 1397 ms\n",
      "Accuracy модели на обучающей выборке: 0.8983188221728304\n",
      "Accuracy модели на тестовой выборке: 0.8983280274734916\n",
      "F1 модели на обучающей выборке: 0.0\n",
      "F1 модели на тестовой выборке: 0.0\n",
      "Recall: 0.0\n",
      "Precision: 0.0\n",
      "Площадь под ROC-кривой 0.5\n",
      "Матрица ошибок\n",
      "[[35837     0]\n",
      " [ 4056     0]]\n"
     ]
    }
   ],
   "source": [
    "accuracy_train, accuracy_test, f1_train, f1_test, recall_test, precision_test, roc_test, t_predict = predict(model)\n",
    "table = table.append({'name': 'DummyClassifier', 'accuracy_train': accuracy_train, 'accuracy_test': accuracy_test, 'f1_train': f1_train, 'f1_test': f1_test, 'recall_test': recall_test, 'precision_test': precision_test, 'roc_test': roc_test, 't_train': t_train, 't_predict': t_predict}, ignore_index=True)"
   ]
  },
  {
   "cell_type": "markdown",
   "metadata": {},
   "source": [
    "<font color='DarkBlue'> \n",
    "📌 На основе отображенной информации можно обозначить следующие выводы:  \n",
    "    \n",
    "- время обучения и предсказания модели достаточно малое, следует учесть, что не осуществлялся перебор по гиперпараметрам\n",
    "- точность достаточно высокая вследствие достаточного дисбаланса классов\n",
    "- Площадь под ROC-кривой 0.5 в соответствии с концепцией DummyClassifier\n",
    "    \n",
    "📌 Теперь требуется обучить модель с использованием алгоритма LogisticRegression и подобрать наилучшие гиперпараметры в соответствии с метрикой F1. Можно установить параметр регуляризации 5, предполагается, что результаты будут лучше, но модель будет показывать некое переобучение, и чем больше соответствующий параметр в определенных пределах, тем лучше качество модели. В дальнейшем учитывается, что перебор гиперпараметров с использованием кросс-валидации самостоятельно разбивает модель на обучающие и валидационные выборки, следовательно, необходимость в ручной операции их разделения отпадает <br> \n",
    "</font> "
   ]
  },
  {
   "cell_type": "code",
   "execution_count": 27,
   "metadata": {},
   "outputs": [
    {
     "name": "stdout",
     "output_type": "stream",
     "text": [
      "Лучшая модель: Pipeline(steps=[('vect',\n",
      "                 CountVectorizer(stop_words={'a', 'about', 'above', 'after',\n",
      "                                             'again', 'against', 'ain', 'all',\n",
      "                                             'am', 'an', 'and', 'any', 'are',\n",
      "                                             'aren', \"aren't\", 'as', 'at', 'be',\n",
      "                                             'because', 'been', 'before',\n",
      "                                             'being', 'below', 'between',\n",
      "                                             'both', 'but', 'by', 'can',\n",
      "                                             'couldn', \"couldn't\", ...})),\n",
      "                ('tfidf', TfidfTransformer()),\n",
      "                ('clf',\n",
      "                 LogisticRegression(C=5, max_iter=1000, n_jobs=-1,\n",
      "                                    random_state=12345, solver='liblinear'))])\n",
      "Параметры лучшей модели: {'clf__solver': 'liblinear'}\n",
      "Лучшая метрика F1: 0.7580073155684972\n",
      "Время обучения: 18891 ms\n",
      "CPU times: user 2min 48s, sys: 3min 6s, total: 5min 55s\n",
      "Wall time: 5min 55s\n"
     ]
    }
   ],
   "source": [
    "%%time\n",
    "model = Pipeline([('vect', CountVectorizer(stop_words=stopwords)), ('tfidf', TfidfTransformer()), ('clf', LogisticRegression(n_jobs=-1, random_state=12345, max_iter=1000, C=5))])\n",
    "parameters = {'clf__solver': ['newton-cg', 'lbfgs', 'liblinear', 'sag', 'saga']} \n",
    "grid = GridSearchCV(estimator=model, param_grid=parameters, scoring='f1', n_jobs=-1, cv=StratifiedKFold(n_splits=3, shuffle=True, random_state=12345))\n",
    "model, t_train = fit(model, True)"
   ]
  },
  {
   "cell_type": "code",
   "execution_count": 28,
   "metadata": {},
   "outputs": [
    {
     "name": "stdout",
     "output_type": "stream",
     "text": [
      "Время предсказания: 1562 ms\n",
      "Accuracy модели на обучающей выборке: 0.9744648139173449\n",
      "Accuracy модели на тестовой выборке: 0.9595919083548492\n",
      "F1 модели на обучающей выборке: 0.8619942196531792\n",
      "F1 модели на тестовой выборке: 0.7727016356457981\n",
      "Recall: 0.6755424063116371\n",
      "Precision: 0.9025032938076416\n",
      "Площадь под ROC-кривой 0.9722239960419077\n",
      "Матрица ошибок\n",
      "[[35541   296]\n",
      " [ 1316  2740]]\n"
     ]
    }
   ],
   "source": [
    "accuracy_train, accuracy_test, f1_train, f1_test, recall_test, precision_test, roc_test, t_predict = predict(model)\n",
    "table = table.append({'name': 'LogisticRegression', 'accuracy_train': accuracy_train, 'accuracy_test': accuracy_test, 'f1_train': f1_train, 'f1_test': f1_test, 'recall_test': recall_test, 'precision_test': precision_test, 'roc_test': roc_test, 't_train': t_train, 't_predict': t_predict}, ignore_index=True)"
   ]
  },
  {
   "cell_type": "markdown",
   "metadata": {},
   "source": [
    "<font color='DarkBlue'> \n",
    "📌 На основе указанной информации можно обозначить следующие выводы:  \n",
    "    \n",
    "- время обучения относительно небольшое, но выше, чем у примитивной модели, также уже осуществляется подбор наилучших гиперпараметров для обучения\n",
    "- качество модели хорошее, но следует учесть, что метрики усреднены после выполнения перекрестного обучения\n",
    "- модель немного переобучена, так как исследуемые по предсказаниям метрики на обучающей выборке заметно больше, чем на тестовой\n",
    "    \n",
    "📌 Для обучения модели с использованием алгоритма RandomForestClassifier необходимо использовать существующие выборки <br> \n",
    "</font> "
   ]
  },
  {
   "cell_type": "code",
   "execution_count": 29,
   "metadata": {},
   "outputs": [
    {
     "name": "stdout",
     "output_type": "stream",
     "text": [
      "Лучшая модель: Pipeline(steps=[('vect',\n",
      "                 CountVectorizer(stop_words={'a', 'about', 'above', 'after',\n",
      "                                             'again', 'against', 'ain', 'all',\n",
      "                                             'am', 'an', 'and', 'any', 'are',\n",
      "                                             'aren', \"aren't\", 'as', 'at', 'be',\n",
      "                                             'because', 'been', 'before',\n",
      "                                             'being', 'below', 'between',\n",
      "                                             'both', 'but', 'by', 'can',\n",
      "                                             'couldn', \"couldn't\", ...})),\n",
      "                ('tfidf', TfidfTransformer()),\n",
      "                ('clf',\n",
      "                 RandomForestClassifier(max_depth=3, n_estimators=11, n_jobs=-1,\n",
      "                                        random_state=12345))])\n",
      "Параметры лучшей модели: {'clf__max_depth': 3, 'clf__n_estimators': 11}\n",
      "Лучшая метрика F1: 0.0\n",
      "Время обучения: 4991 ms\n",
      "CPU times: user 1min 38s, sys: 1.04 s, total: 1min 39s\n",
      "Wall time: 1min 39s\n"
     ]
    }
   ],
   "source": [
    "%%time\n",
    "model = Pipeline([('vect', CountVectorizer(stop_words=stopwords)), ('tfidf', TfidfTransformer()), ('clf', RandomForestClassifier(n_jobs=-1, random_state=12345))])\n",
    "parameters = {'clf__n_estimators': range (11, 31, 10), 'clf__max_depth': range (3, 6)}\n",
    "grid = GridSearchCV(estimator=model, param_grid=parameters, scoring='f1', n_jobs=-1, cv=StratifiedKFold(n_splits=3, shuffle=True, random_state=12345))\n",
    "model, t_train = fit(model, True)"
   ]
  },
  {
   "cell_type": "code",
   "execution_count": 30,
   "metadata": {},
   "outputs": [
    {
     "name": "stdout",
     "output_type": "stream",
     "text": [
      "Время предсказания: 1491 ms\n",
      "Accuracy модели на обучающей выборке: 0.8983188221728304\n",
      "Accuracy модели на тестовой выборке: 0.8983280274734916\n",
      "F1 модели на обучающей выборке: 0.0\n",
      "F1 модели на тестовой выборке: 0.0\n",
      "Recall: 0.0\n",
      "Precision: 0.0\n",
      "Площадь под ROC-кривой 0.6530431363869248\n",
      "Матрица ошибок\n",
      "[[35837     0]\n",
      " [ 4056     0]]\n"
     ]
    }
   ],
   "source": [
    "accuracy_train, accuracy_test, f1_train, f1_test, recall_test, precision_test, roc_test, t_predict = predict(model)\n",
    "table = table.append({'name': 'RandomForestClassifier', 'accuracy_train': accuracy_train, 'accuracy_test': accuracy_test, 'f1_train': f1_train, 'f1_test': f1_test, 'recall_test': recall_test, 'precision_test': precision_test, 'roc_test': roc_test, 't_train': t_train, 't_predict': t_predict}, ignore_index=True)"
   ]
  },
  {
   "cell_type": "markdown",
   "metadata": {},
   "source": [
    "<font color='DarkBlue'> \n",
    "📌 На основе указанной информации можно обозначить следующие выводы:  \n",
    "    \n",
    "- время обучения малое, но выше, сопоставимо с таковым у простейшего алгоритма\n",
    "- качество модели неудовлетворительное, такое же, как и при использовании DummyClassifier\n",
    "- модель не переобучена, имеет плохие показатели, возможно необходимо изменение и использование других гиперпараметров, в данном случае модель скорее 'перестраховывается', полагая, что класс единиц является достаточно редким и непредсказываемым\n",
    "    \n",
    "📌 Далее можно проверить алгоритм LGBMClassifier, этот алгоритм построен на функционале предыдущего <br> \n",
    "</font> "
   ]
  },
  {
   "cell_type": "code",
   "execution_count": 31,
   "metadata": {},
   "outputs": [
    {
     "name": "stdout",
     "output_type": "stream",
     "text": [
      "Лучшая модель: Pipeline(steps=[('vect',\n",
      "                 CountVectorizer(stop_words={'a', 'about', 'above', 'after',\n",
      "                                             'again', 'against', 'ain', 'all',\n",
      "                                             'am', 'an', 'and', 'any', 'are',\n",
      "                                             'aren', \"aren't\", 'as', 'at', 'be',\n",
      "                                             'because', 'been', 'before',\n",
      "                                             'being', 'below', 'between',\n",
      "                                             'both', 'but', 'by', 'can',\n",
      "                                             'couldn', \"couldn't\", ...})),\n",
      "                ('tfidf', TfidfTransformer()),\n",
      "                ('clf',\n",
      "                 LGBMClassifier(max_depth=5, n_estimators=21,\n",
      "                                random_state=12345))])\n",
      "Параметры лучшей модели: {'clf__max_depth': 5, 'clf__n_estimators': 21}\n",
      "Лучшая метрика F1: 0.46806433230929495\n",
      "Время обучения: 58433 ms\n",
      "CPU times: user 11min 51s, sys: 0 ns, total: 11min 51s\n",
      "Wall time: 11min 52s\n"
     ]
    }
   ],
   "source": [
    "%%time\n",
    "model = Pipeline([('vect', CountVectorizer(stop_words=stopwords)), ('tfidf', TfidfTransformer()), ('clf', LGBMClassifier(n_jobs=-1, random_state=12345))])\n",
    "parameters = {'clf__n_estimators': range (11, 31, 10), 'clf__max_depth': range (3, 6)}\n",
    "grid = GridSearchCV(estimator=model, param_grid=parameters, scoring='f1', n_jobs=-1, cv=StratifiedKFold(n_splits=3, shuffle=True, random_state=12345))\n",
    "model, t_train = fit(model, True)\n",
    "# 'num_leaves': range (31, 51, 10)\n",
    "# 'boosting_type': ['gbdt', 'rf', 'dart', 'goss']\n",
    "# 'learning_rate': [0.1]"
   ]
  },
  {
   "cell_type": "code",
   "execution_count": 32,
   "metadata": {},
   "outputs": [
    {
     "name": "stdout",
     "output_type": "stream",
     "text": [
      "Время предсказания: 1951 ms\n",
      "Accuracy модели на обучающей выборке: 0.9300874011932018\n",
      "Accuracy модели на тестовой выборке: 0.9293861078384679\n",
      "F1 модели на обучающей выборке: 0.4818874233698681\n",
      "F1 модели на тестовой выборке: 0.4774624373956594\n",
      "Recall: 0.3173076923076923\n",
      "Precision: 0.9640449438202248\n",
      "Площадь под ROC-кривой 0.8772351331987\n",
      "Матрица ошибок\n",
      "[[35789    48]\n",
      " [ 2769  1287]]\n"
     ]
    }
   ],
   "source": [
    "accuracy_train, accuracy_test, f1_train, f1_test, recall_test, precision_test, roc_test, t_predict = predict(model)\n",
    "table = table.append({'name': 'LGBMClassifier', 'accuracy_train': accuracy_train, 'accuracy_test': accuracy_test, 'f1_train': f1_train, 'f1_test': f1_test, 'recall_test': recall_test, 'precision_test': precision_test, 'roc_test': roc_test, 't_train': t_train, 't_predict': t_predict}, ignore_index=True)"
   ]
  },
  {
   "cell_type": "markdown",
   "metadata": {},
   "source": [
    "<font color='DarkBlue'> \n",
    "📌 На основе указанной информации можно обозначить следующие выводы:  \n",
    "    \n",
    "- время обучения большое, выше, чем у предыдущих моделей, возможно использовались более значимые наборы гиперпараметров и по умолчанию высокий фактор скорости обучения\n",
    "- качество модели лучше, чем у предыдущего результата, но не является удовлетворительным для текущей задачи\n",
    "- модель не переобучена, метрики качества по предсказаниям на обучающей выборке аналогичны таковым на валидационной\n",
    "    \n",
    "📌 Также можно обучить модель с использованием алгоритма CatBoostClassifier <br> \n",
    "</font> "
   ]
  },
  {
   "cell_type": "code",
   "execution_count": 33,
   "metadata": {},
   "outputs": [
    {
     "name": "stdout",
     "output_type": "stream",
     "text": [
      "Лучшая модель: Pipeline(steps=[('vect',\n",
      "                 CountVectorizer(stop_words={'a', 'about', 'above', 'after',\n",
      "                                             'again', 'against', 'ain', 'all',\n",
      "                                             'am', 'an', 'and', 'any', 'are',\n",
      "                                             'aren', \"aren't\", 'as', 'at', 'be',\n",
      "                                             'because', 'been', 'before',\n",
      "                                             'being', 'below', 'between',\n",
      "                                             'both', 'but', 'by', 'can',\n",
      "                                             'couldn', \"couldn't\", ...})),\n",
      "                ('tfidf', TfidfTransformer()),\n",
      "                ('clf',\n",
      "                 <catboost.core.CatBoostClassifier object at 0x7fd00e544dc0>)])\n",
      "Параметры лучшей модели: {'clf__depth': 5, 'clf__iterations': 21}\n",
      "Лучшая метрика F1: 0.6653641184687121\n",
      "Время обучения: 66754 ms\n",
      "CPU times: user 12min 22s, sys: 37.6 s, total: 13min\n",
      "Wall time: 13min 12s\n"
     ]
    }
   ],
   "source": [
    "%%time\n",
    "model = Pipeline([('vect', CountVectorizer(stop_words=stopwords)), ('tfidf', TfidfTransformer()), ('clf', CatBoostClassifier(loss_function='Logloss', random_state=12345, learning_rate=0.5, verbose=0))])\n",
    "parameters = {'clf__iterations': range (11, 31, 10), 'clf__depth': range (3, 6)}\n",
    "grid = GridSearchCV(estimator=model, param_grid=parameters, scoring='f1', n_jobs=-1, cv=StratifiedKFold(n_splits=3, shuffle=True, random_state=12345))\n",
    "model, t_train = fit(model, True)\n",
    "# 'grow_policy': ['SymmetricTree', 'Depthwise', 'Lossguide']\n",
    "# 'bootstrap_type': ['Bayesian', 'MVS', 'Poisson', 'No']\n",
    "# 'boosting_type': ['Ordered', 'Plain']\n",
    "# 'learning_rate': [0.1]"
   ]
  },
  {
   "cell_type": "code",
   "execution_count": 34,
   "metadata": {},
   "outputs": [
    {
     "name": "stdout",
     "output_type": "stream",
     "text": [
      "Время предсказания: 1782 ms\n",
      "Accuracy модели на обучающей выборке: 0.9459299119303465\n",
      "Accuracy модели на тестовой выборке: 0.9447020780588073\n",
      "F1 модели на обучающей выборке: 0.65774580843074\n",
      "F1 модели на тестовой выборке: 0.6482780612244898\n",
      "Recall: 0.501232741617357\n",
      "Precision: 0.9174187725631769\n",
      "Площадь под ROC-кривой 0.9024304393457141\n",
      "Матрица ошибок\n",
      "[[35654   183]\n",
      " [ 2023  2033]]\n"
     ]
    }
   ],
   "source": [
    "accuracy_train, accuracy_test, f1_train, f1_test, recall_test, precision_test, roc_test, t_predict = predict(model)\n",
    "table = table.append({'name': 'CatBoostClassifier', 'accuracy_train': accuracy_train, 'accuracy_test': accuracy_test, 'f1_train': f1_train, 'f1_test': f1_test, 'recall_test': recall_test, 'precision_test': precision_test, 'roc_test': roc_test, 't_train': t_train, 't_predict': t_predict}, ignore_index=True)"
   ]
  },
  {
   "cell_type": "markdown",
   "metadata": {},
   "source": [
    "<font color='DarkBlue'> \n",
    "📌 На основе представленной информации можно обозначить следующие выводы:  \n",
    "    \n",
    "- время обучения модели на используемых данных больше, чем у остальных, в соответствии с концепцией алгоритма\n",
    "- качество модели и метрики лучше, как у модели, обученной предыдущим алгоритмом, удовлетворительное\n",
    "- модель не переобучена согласно указанным метрикам для обучающей и валидационной выборок\n",
    "\n",
    "📌 Теперь по сводной таблице можно проанализировать результаты обучения модели разными алгоритмами <br>\n",
    "</font> "
   ]
  },
  {
   "cell_type": "code",
   "execution_count": 35,
   "metadata": {},
   "outputs": [
    {
     "data": {
      "text/html": [
       "<div>\n",
       "<style scoped>\n",
       "    .dataframe tbody tr th:only-of-type {\n",
       "        vertical-align: middle;\n",
       "    }\n",
       "\n",
       "    .dataframe tbody tr th {\n",
       "        vertical-align: top;\n",
       "    }\n",
       "\n",
       "    .dataframe thead th {\n",
       "        text-align: right;\n",
       "    }\n",
       "</style>\n",
       "<table border=\"1\" class=\"dataframe\">\n",
       "  <thead>\n",
       "    <tr style=\"text-align: right;\">\n",
       "      <th></th>\n",
       "      <th>name</th>\n",
       "      <th>accuracy_train</th>\n",
       "      <th>accuracy_test</th>\n",
       "      <th>f1_train</th>\n",
       "      <th>f1_test</th>\n",
       "      <th>recall_test</th>\n",
       "      <th>precision_test</th>\n",
       "      <th>roc_test</th>\n",
       "      <th>t_train</th>\n",
       "      <th>t_predict</th>\n",
       "    </tr>\n",
       "  </thead>\n",
       "  <tbody>\n",
       "    <tr>\n",
       "      <th>0</th>\n",
       "      <td>DummyClassifier</td>\n",
       "      <td>0.898319</td>\n",
       "      <td>0.898328</td>\n",
       "      <td>0.000000</td>\n",
       "      <td>0.000000</td>\n",
       "      <td>0.000000</td>\n",
       "      <td>0.000000</td>\n",
       "      <td>0.500000</td>\n",
       "      <td>4519</td>\n",
       "      <td>1397</td>\n",
       "    </tr>\n",
       "    <tr>\n",
       "      <th>1</th>\n",
       "      <td>LogisticRegression</td>\n",
       "      <td>0.974465</td>\n",
       "      <td>0.959592</td>\n",
       "      <td>0.861994</td>\n",
       "      <td>0.772702</td>\n",
       "      <td>0.675542</td>\n",
       "      <td>0.902503</td>\n",
       "      <td>0.972224</td>\n",
       "      <td>18891</td>\n",
       "      <td>1562</td>\n",
       "    </tr>\n",
       "    <tr>\n",
       "      <th>2</th>\n",
       "      <td>RandomForestClassifier</td>\n",
       "      <td>0.898319</td>\n",
       "      <td>0.898328</td>\n",
       "      <td>0.000000</td>\n",
       "      <td>0.000000</td>\n",
       "      <td>0.000000</td>\n",
       "      <td>0.000000</td>\n",
       "      <td>0.653043</td>\n",
       "      <td>4991</td>\n",
       "      <td>1491</td>\n",
       "    </tr>\n",
       "    <tr>\n",
       "      <th>3</th>\n",
       "      <td>LGBMClassifier</td>\n",
       "      <td>0.930087</td>\n",
       "      <td>0.929386</td>\n",
       "      <td>0.481887</td>\n",
       "      <td>0.477462</td>\n",
       "      <td>0.317308</td>\n",
       "      <td>0.964045</td>\n",
       "      <td>0.877235</td>\n",
       "      <td>58433</td>\n",
       "      <td>1951</td>\n",
       "    </tr>\n",
       "    <tr>\n",
       "      <th>4</th>\n",
       "      <td>CatBoostClassifier</td>\n",
       "      <td>0.945930</td>\n",
       "      <td>0.944702</td>\n",
       "      <td>0.657746</td>\n",
       "      <td>0.648278</td>\n",
       "      <td>0.501233</td>\n",
       "      <td>0.917419</td>\n",
       "      <td>0.902430</td>\n",
       "      <td>66754</td>\n",
       "      <td>1782</td>\n",
       "    </tr>\n",
       "  </tbody>\n",
       "</table>\n",
       "</div>"
      ],
      "text/plain": [
       "                     name  accuracy_train  accuracy_test  f1_train   f1_test  \\\n",
       "0         DummyClassifier        0.898319       0.898328  0.000000  0.000000   \n",
       "1      LogisticRegression        0.974465       0.959592  0.861994  0.772702   \n",
       "2  RandomForestClassifier        0.898319       0.898328  0.000000  0.000000   \n",
       "3          LGBMClassifier        0.930087       0.929386  0.481887  0.477462   \n",
       "4      CatBoostClassifier        0.945930       0.944702  0.657746  0.648278   \n",
       "\n",
       "   recall_test  precision_test  roc_test t_train t_predict  \n",
       "0     0.000000        0.000000  0.500000    4519      1397  \n",
       "1     0.675542        0.902503  0.972224   18891      1562  \n",
       "2     0.000000        0.000000  0.653043    4991      1491  \n",
       "3     0.317308        0.964045  0.877235   58433      1951  \n",
       "4     0.501233        0.917419  0.902430   66754      1782  "
      ]
     },
     "execution_count": 35,
     "metadata": {},
     "output_type": "execute_result"
    }
   ],
   "source": [
    "table"
   ]
  },
  {
   "cell_type": "markdown",
   "metadata": {},
   "source": [
    "<font color='DarkBlue'>   \n",
    "📌 Все обученные модели являются адекватными, площадь под ROC кривой больше 0.5, но алгоритм LogisticRegression показывает заметно лучшие результаты обучения согласно всем представленным метрикам, в том числе меньшее время обучения модели, что значительно облегчает также реализацию процесса ее подбора. Его использование в текущей задаче в соответствии с предпочтительными гиперпараметрами является рекомендуемым  <br> \n",
    "📌 Время предсказания всех одинаково малое, чем определяется достаточное удобство пользования представленными обученными моделями, основная разница наблюдается в наиболее приоритетном критерии - качестве обучения <br>\n",
    "📌 В целом для подобной задачи обучающие алгоритмы методом построения деревьев даже при более подробном рассмотрении показывают худшие результаты, чем выбранный, наилучшим из них является CatBoostClassifier, но время обучения с использованием алгоритмов градиентного бустинга неприемлимо велико, что может являться критичным фактором для ввода в production <br>    \n",
    "📌 При выборе определенного алгоритма необходимо будет избавиться от фактора переобучения и обратить внимание на более детальный перебор гиперпараметров <br>\n",
    "</font>"
   ]
  },
  {
   "cell_type": "markdown",
   "metadata": {},
   "source": [
    "## Выводы"
   ]
  },
  {
   "cell_type": "markdown",
   "metadata": {},
   "source": [
    "<font color='DarkBlue'>      \n",
    "📌 На основании произведенных исследований можно сформировать следующие выводы:\n",
    "    \n",
    "- предоставленные данные умеренного качества, отсутствуют дубликаты, пропуски и аномалии, но текстовая информация содержит лишний контент вида неиспользуемых в процессе обучения модели символов, для более удобного использования необходимо преобразование типов данных в форматы, занимающие меньший объем памяти\n",
    "- определено, что наилучшим алгоритмом обучения модели для классификации комментариев по тональности в соответствии на исходных данных будет являться LogisticRegression в соответствии с указанными выше обоснованиями после представленных таблиц\n",
    "- представлен алгоритм подготовки данных (лемматизация, регуляризация, векторизация) для модели и спрогнозирована тональность для объектов тестовой выборки\n",
    "- значение ключевой метрики F1 согласно анализу предсказаний определения тональности комментариев на тестовой выборке разработанной модели, выбранной для финального представления, больше 0.75\n",
    "</font>"
   ]
  }
 ],
 "metadata": {
  "ExecuteTimeLog": [
   {
    "duration": 1617,
    "start_time": "2022-08-19T16:07:53.637Z"
   },
   {
    "duration": 3358,
    "start_time": "2022-08-19T16:07:57.818Z"
   },
   {
    "duration": 2279,
    "start_time": "2022-08-19T16:10:17.249Z"
   },
   {
    "duration": 257,
    "start_time": "2022-08-19T16:10:38.929Z"
   },
   {
    "duration": 252,
    "start_time": "2022-08-19T16:10:54.729Z"
   },
   {
    "duration": 200,
    "start_time": "2022-08-19T16:13:29.429Z"
   },
   {
    "duration": 174,
    "start_time": "2022-08-19T16:13:40.284Z"
   },
   {
    "duration": 124,
    "start_time": "2022-08-19T16:13:53.414Z"
   },
   {
    "duration": 219,
    "start_time": "2022-08-19T16:14:46.994Z"
   },
   {
    "duration": 283,
    "start_time": "2022-08-19T16:15:04.641Z"
   },
   {
    "duration": 270,
    "start_time": "2022-08-19T16:15:30.912Z"
   },
   {
    "duration": 231,
    "start_time": "2022-08-19T16:36:00.482Z"
   },
   {
    "duration": 11,
    "start_time": "2022-08-19T16:37:59.414Z"
   },
   {
    "duration": 1725,
    "start_time": "2022-08-19T16:42:06.531Z"
   },
   {
    "duration": 3,
    "start_time": "2022-08-19T16:42:09.516Z"
   },
   {
    "duration": 4,
    "start_time": "2022-08-19T16:42:10.762Z"
   },
   {
    "duration": 981,
    "start_time": "2022-08-19T16:42:12.971Z"
   },
   {
    "duration": 883,
    "start_time": "2022-08-19T16:45:50.751Z"
   },
   {
    "duration": 37,
    "start_time": "2022-08-19T16:46:47.423Z"
   },
   {
    "duration": 2,
    "start_time": "2022-08-19T16:48:10.690Z"
   },
   {
    "duration": 11,
    "start_time": "2022-08-19T16:48:25.740Z"
   },
   {
    "duration": 8,
    "start_time": "2022-08-19T16:52:12.505Z"
   },
   {
    "duration": 1568,
    "start_time": "2022-08-19T16:52:44.460Z"
   },
   {
    "duration": 2690,
    "start_time": "2022-08-19T16:52:46.029Z"
   },
   {
    "duration": 314,
    "start_time": "2022-08-19T16:52:48.720Z"
   },
   {
    "duration": 1635,
    "start_time": "2022-08-19T16:52:49.035Z"
   },
   {
    "duration": 5,
    "start_time": "2022-08-19T16:52:50.672Z"
   },
   {
    "duration": 7,
    "start_time": "2022-08-19T16:52:50.678Z"
   },
   {
    "duration": 11,
    "start_time": "2022-08-19T16:52:50.687Z"
   },
   {
    "duration": 861,
    "start_time": "2022-08-19T16:52:50.700Z"
   },
   {
    "duration": 146,
    "start_time": "2022-08-19T16:52:56.124Z"
   },
   {
    "duration": 5,
    "start_time": "2022-08-19T16:53:10.633Z"
   },
   {
    "duration": 54,
    "start_time": "2022-08-19T16:53:38.004Z"
   },
   {
    "duration": 1676,
    "start_time": "2022-08-19T16:53:44.144Z"
   },
   {
    "duration": 2730,
    "start_time": "2022-08-19T16:53:45.822Z"
   },
   {
    "duration": 304,
    "start_time": "2022-08-19T16:53:48.553Z"
   },
   {
    "duration": 1614,
    "start_time": "2022-08-19T16:53:48.859Z"
   },
   {
    "duration": 5,
    "start_time": "2022-08-19T16:53:50.474Z"
   },
   {
    "duration": 4,
    "start_time": "2022-08-19T16:53:50.480Z"
   },
   {
    "duration": 12,
    "start_time": "2022-08-19T16:53:50.486Z"
   },
   {
    "duration": 887,
    "start_time": "2022-08-19T16:53:50.499Z"
   },
   {
    "duration": 45,
    "start_time": "2022-08-19T16:57:47.254Z"
   },
   {
    "duration": 1499,
    "start_time": "2022-08-19T16:57:51.647Z"
   },
   {
    "duration": 2642,
    "start_time": "2022-08-19T16:57:53.148Z"
   },
   {
    "duration": 331,
    "start_time": "2022-08-19T16:57:55.791Z"
   },
   {
    "duration": 1592,
    "start_time": "2022-08-19T16:57:56.124Z"
   },
   {
    "duration": 6,
    "start_time": "2022-08-19T16:57:57.718Z"
   },
   {
    "duration": 10,
    "start_time": "2022-08-19T16:57:57.725Z"
   },
   {
    "duration": 9,
    "start_time": "2022-08-19T16:57:57.736Z"
   },
   {
    "duration": 815,
    "start_time": "2022-08-19T16:57:57.746Z"
   },
   {
    "duration": 386,
    "start_time": "2022-08-19T16:58:02.918Z"
   },
   {
    "duration": 1494,
    "start_time": "2022-08-19T16:58:17.160Z"
   },
   {
    "duration": 2681,
    "start_time": "2022-08-19T16:58:18.656Z"
   },
   {
    "duration": 316,
    "start_time": "2022-08-19T16:58:21.339Z"
   },
   {
    "duration": 1592,
    "start_time": "2022-08-19T16:58:21.657Z"
   },
   {
    "duration": 5,
    "start_time": "2022-08-19T16:58:23.251Z"
   },
   {
    "duration": 6,
    "start_time": "2022-08-19T16:58:23.258Z"
   },
   {
    "duration": 6,
    "start_time": "2022-08-19T16:58:23.265Z"
   },
   {
    "duration": 796,
    "start_time": "2022-08-19T16:58:23.273Z"
   },
   {
    "duration": 1853,
    "start_time": "2022-08-19T16:58:28.489Z"
   },
   {
    "duration": 1565,
    "start_time": "2022-08-19T17:00:30.817Z"
   },
   {
    "duration": 2727,
    "start_time": "2022-08-19T17:00:32.384Z"
   },
   {
    "duration": 332,
    "start_time": "2022-08-19T17:00:35.112Z"
   },
   {
    "duration": 1635,
    "start_time": "2022-08-19T17:00:35.446Z"
   },
   {
    "duration": 4,
    "start_time": "2022-08-19T17:00:37.083Z"
   },
   {
    "duration": 9,
    "start_time": "2022-08-19T17:00:37.089Z"
   },
   {
    "duration": 4,
    "start_time": "2022-08-19T17:00:37.100Z"
   },
   {
    "duration": 869,
    "start_time": "2022-08-19T17:00:37.105Z"
   },
   {
    "duration": 4,
    "start_time": "2022-08-19T17:01:57.343Z"
   },
   {
    "duration": 3,
    "start_time": "2022-08-19T17:02:00.985Z"
   },
   {
    "duration": 3,
    "start_time": "2022-08-19T17:02:05.917Z"
   },
   {
    "duration": 47,
    "start_time": "2022-08-19T17:04:07.067Z"
   },
   {
    "duration": 145,
    "start_time": "2022-08-19T17:04:15.403Z"
   },
   {
    "duration": 46,
    "start_time": "2022-08-19T17:20:06.751Z"
   },
   {
    "duration": 1806,
    "start_time": "2022-08-19T17:20:13.824Z"
   },
   {
    "duration": 3405,
    "start_time": "2022-08-19T17:20:15.632Z"
   },
   {
    "duration": 386,
    "start_time": "2022-08-19T17:20:19.039Z"
   },
   {
    "duration": 1733,
    "start_time": "2022-08-19T17:20:19.427Z"
   },
   {
    "duration": 9,
    "start_time": "2022-08-19T17:20:21.162Z"
   },
   {
    "duration": 7,
    "start_time": "2022-08-19T17:20:21.172Z"
   },
   {
    "duration": 6,
    "start_time": "2022-08-19T17:20:21.180Z"
   },
   {
    "duration": 932,
    "start_time": "2022-08-19T17:20:21.188Z"
   },
   {
    "duration": 598336,
    "start_time": "2022-08-19T17:20:23.752Z"
   },
   {
    "duration": 62,
    "start_time": "2022-08-19T17:31:13.072Z"
   },
   {
    "duration": 1657,
    "start_time": "2022-08-19T17:31:16.235Z"
   },
   {
    "duration": 3253,
    "start_time": "2022-08-19T17:31:17.894Z"
   },
   {
    "duration": 360,
    "start_time": "2022-08-19T17:31:21.149Z"
   },
   {
    "duration": 1784,
    "start_time": "2022-08-19T17:31:21.511Z"
   },
   {
    "duration": 31,
    "start_time": "2022-08-19T17:31:23.296Z"
   },
   {
    "duration": 5,
    "start_time": "2022-08-19T17:31:23.329Z"
   },
   {
    "duration": 4,
    "start_time": "2022-08-19T17:31:23.336Z"
   },
   {
    "duration": 839,
    "start_time": "2022-08-19T17:31:23.342Z"
   },
   {
    "duration": 3,
    "start_time": "2022-08-19T17:31:31.162Z"
   },
   {
    "duration": 6,
    "start_time": "2022-08-19T17:31:35.224Z"
   },
   {
    "duration": 4,
    "start_time": "2022-08-19T17:31:53.517Z"
   },
   {
    "duration": 4,
    "start_time": "2022-08-19T17:31:59.476Z"
   },
   {
    "duration": 7,
    "start_time": "2022-08-19T17:32:28.472Z"
   },
   {
    "duration": 5,
    "start_time": "2022-08-19T17:33:22.292Z"
   },
   {
    "duration": 9,
    "start_time": "2022-08-19T17:33:57.017Z"
   },
   {
    "duration": 10,
    "start_time": "2022-08-19T17:34:04.414Z"
   },
   {
    "duration": 3,
    "start_time": "2022-08-19T17:34:13.396Z"
   },
   {
    "duration": 7,
    "start_time": "2022-08-19T17:34:14.702Z"
   },
   {
    "duration": 11,
    "start_time": "2022-08-19T17:35:01.466Z"
   },
   {
    "duration": 11,
    "start_time": "2022-08-19T17:35:27.367Z"
   },
   {
    "duration": 8,
    "start_time": "2022-08-19T17:35:30.247Z"
   },
   {
    "duration": 9,
    "start_time": "2022-08-19T17:35:42.036Z"
   },
   {
    "duration": 6,
    "start_time": "2022-08-19T17:36:23.495Z"
   },
   {
    "duration": 1514,
    "start_time": "2022-08-19T17:36:36.843Z"
   },
   {
    "duration": 2567,
    "start_time": "2022-08-19T17:36:38.359Z"
   },
   {
    "duration": 315,
    "start_time": "2022-08-19T17:36:40.928Z"
   },
   {
    "duration": 1635,
    "start_time": "2022-08-19T17:36:41.244Z"
   },
   {
    "duration": 3,
    "start_time": "2022-08-19T17:36:42.882Z"
   },
   {
    "duration": 4,
    "start_time": "2022-08-19T17:36:42.887Z"
   },
   {
    "duration": 2,
    "start_time": "2022-08-19T17:36:42.898Z"
   },
   {
    "duration": 768,
    "start_time": "2022-08-19T17:36:42.902Z"
   },
   {
    "duration": 4,
    "start_time": "2022-08-19T17:36:43.672Z"
   },
   {
    "duration": 10,
    "start_time": "2022-08-19T17:36:43.677Z"
   },
   {
    "duration": 59313,
    "start_time": "2022-08-19T17:36:43.698Z"
   },
   {
    "duration": 0,
    "start_time": "2022-08-19T17:37:43.012Z"
   },
   {
    "duration": 0,
    "start_time": "2022-08-19T17:37:43.013Z"
   },
   {
    "duration": 0,
    "start_time": "2022-08-19T17:37:43.014Z"
   },
   {
    "duration": 361,
    "start_time": "2022-08-19T17:38:52.122Z"
   },
   {
    "duration": 413,
    "start_time": "2022-08-19T17:39:17.607Z"
   },
   {
    "duration": 5,
    "start_time": "2022-08-19T17:39:21.838Z"
   },
   {
    "duration": 2647,
    "start_time": "2022-08-19T17:39:21.844Z"
   },
   {
    "duration": 335,
    "start_time": "2022-08-19T17:39:24.492Z"
   },
   {
    "duration": 1530,
    "start_time": "2022-08-19T17:39:42.723Z"
   },
   {
    "duration": 2695,
    "start_time": "2022-08-19T17:39:44.255Z"
   },
   {
    "duration": 319,
    "start_time": "2022-08-19T17:39:46.951Z"
   },
   {
    "duration": 1661,
    "start_time": "2022-08-19T17:39:47.272Z"
   },
   {
    "duration": 3,
    "start_time": "2022-08-19T17:39:48.935Z"
   },
   {
    "duration": 4,
    "start_time": "2022-08-19T17:39:48.940Z"
   },
   {
    "duration": 6,
    "start_time": "2022-08-19T17:39:48.946Z"
   },
   {
    "duration": 754,
    "start_time": "2022-08-19T17:39:48.953Z"
   },
   {
    "duration": 3,
    "start_time": "2022-08-19T17:39:49.709Z"
   },
   {
    "duration": 11,
    "start_time": "2022-08-19T17:39:49.714Z"
   },
   {
    "duration": 68220,
    "start_time": "2022-08-19T17:39:53.027Z"
   },
   {
    "duration": 10,
    "start_time": "2022-08-19T17:41:06.552Z"
   },
   {
    "duration": 9,
    "start_time": "2022-08-19T17:41:10.032Z"
   },
   {
    "duration": 9,
    "start_time": "2022-08-19T17:41:23.165Z"
   },
   {
    "duration": 165,
    "start_time": "2022-08-19T17:41:42.195Z"
   },
   {
    "duration": 8,
    "start_time": "2022-08-19T17:41:47.326Z"
   },
   {
    "duration": 1681,
    "start_time": "2022-08-19T17:43:04.285Z"
   },
   {
    "duration": 2844,
    "start_time": "2022-08-19T17:43:05.968Z"
   },
   {
    "duration": 357,
    "start_time": "2022-08-19T17:43:08.814Z"
   },
   {
    "duration": 1772,
    "start_time": "2022-08-19T17:43:09.173Z"
   },
   {
    "duration": 10,
    "start_time": "2022-08-19T17:43:10.947Z"
   },
   {
    "duration": 5,
    "start_time": "2022-08-19T17:43:10.958Z"
   },
   {
    "duration": 7,
    "start_time": "2022-08-19T17:43:10.964Z"
   },
   {
    "duration": 834,
    "start_time": "2022-08-19T17:43:10.972Z"
   },
   {
    "duration": 4,
    "start_time": "2022-08-19T17:43:11.808Z"
   },
   {
    "duration": 14,
    "start_time": "2022-08-19T17:43:11.814Z"
   },
   {
    "duration": 68925,
    "start_time": "2022-08-19T17:43:18.123Z"
   },
   {
    "duration": 13,
    "start_time": "2022-08-19T17:44:31.315Z"
   },
   {
    "duration": 11,
    "start_time": "2022-08-19T17:45:15.489Z"
   },
   {
    "duration": 51,
    "start_time": "2022-08-19T17:45:36.291Z"
   },
   {
    "duration": 1593,
    "start_time": "2022-08-19T17:46:26.291Z"
   },
   {
    "duration": 2675,
    "start_time": "2022-08-19T17:46:27.886Z"
   },
   {
    "duration": 356,
    "start_time": "2022-08-19T17:46:30.563Z"
   },
   {
    "duration": 1681,
    "start_time": "2022-08-19T17:46:30.921Z"
   },
   {
    "duration": 17,
    "start_time": "2022-08-19T17:46:32.605Z"
   },
   {
    "duration": 7,
    "start_time": "2022-08-19T17:46:32.623Z"
   },
   {
    "duration": 4,
    "start_time": "2022-08-19T17:46:32.632Z"
   },
   {
    "duration": 793,
    "start_time": "2022-08-19T17:46:32.637Z"
   },
   {
    "duration": 112,
    "start_time": "2022-08-19T17:46:33.432Z"
   },
   {
    "duration": 0,
    "start_time": "2022-08-19T17:46:33.546Z"
   },
   {
    "duration": 0,
    "start_time": "2022-08-19T17:46:33.547Z"
   },
   {
    "duration": 0,
    "start_time": "2022-08-19T17:46:33.548Z"
   },
   {
    "duration": 5,
    "start_time": "2022-08-19T17:47:00.805Z"
   },
   {
    "duration": 7,
    "start_time": "2022-08-19T17:47:02.490Z"
   },
   {
    "duration": 87892,
    "start_time": "2022-08-19T17:47:04.814Z"
   },
   {
    "duration": 443,
    "start_time": "2022-08-19T17:49:07.454Z"
   },
   {
    "duration": 7,
    "start_time": "2022-08-19T17:49:17.104Z"
   },
   {
    "duration": 2790,
    "start_time": "2022-08-19T17:49:17.112Z"
   },
   {
    "duration": 380,
    "start_time": "2022-08-19T17:49:19.904Z"
   },
   {
    "duration": 1651,
    "start_time": "2022-08-19T17:50:02.996Z"
   },
   {
    "duration": 2627,
    "start_time": "2022-08-19T17:50:04.649Z"
   },
   {
    "duration": 3,
    "start_time": "2022-08-19T17:50:07.277Z"
   },
   {
    "duration": 142,
    "start_time": "2022-08-19T17:50:07.282Z"
   },
   {
    "duration": 125,
    "start_time": "2022-08-19T17:50:07.426Z"
   },
   {
    "duration": 4,
    "start_time": "2022-08-19T17:50:07.552Z"
   },
   {
    "duration": 5,
    "start_time": "2022-08-19T17:50:07.558Z"
   },
   {
    "duration": 5,
    "start_time": "2022-08-19T17:50:07.565Z"
   },
   {
    "duration": 720,
    "start_time": "2022-08-19T17:50:07.571Z"
   },
   {
    "duration": 3,
    "start_time": "2022-08-19T17:50:08.293Z"
   },
   {
    "duration": 9,
    "start_time": "2022-08-19T17:50:08.298Z"
   },
   {
    "duration": 4028,
    "start_time": "2022-08-19T17:50:19.411Z"
   },
   {
    "duration": 11,
    "start_time": "2022-08-19T17:50:25.836Z"
   },
   {
    "duration": 141,
    "start_time": "2022-08-19T17:50:28.276Z"
   },
   {
    "duration": 5,
    "start_time": "2022-08-19T17:50:36.140Z"
   },
   {
    "duration": 5,
    "start_time": "2022-08-19T17:50:49.828Z"
   },
   {
    "duration": 12,
    "start_time": "2022-08-19T17:51:02.994Z"
   },
   {
    "duration": 10,
    "start_time": "2022-08-19T17:51:10.406Z"
   },
   {
    "duration": 5,
    "start_time": "2022-08-19T17:51:18.394Z"
   },
   {
    "duration": 1113,
    "start_time": "2022-08-19T17:51:30.095Z"
   },
   {
    "duration": 49,
    "start_time": "2022-08-19T17:51:40.195Z"
   },
   {
    "duration": 4148,
    "start_time": "2022-08-19T17:52:52.426Z"
   },
   {
    "duration": 10,
    "start_time": "2022-08-19T17:52:59.876Z"
   },
   {
    "duration": 7,
    "start_time": "2022-08-19T17:53:02.077Z"
   },
   {
    "duration": 4151,
    "start_time": "2022-08-19T17:53:45.604Z"
   },
   {
    "duration": 9,
    "start_time": "2022-08-19T17:53:51.355Z"
   },
   {
    "duration": 6,
    "start_time": "2022-08-19T17:54:52.556Z"
   },
   {
    "duration": 3,
    "start_time": "2022-08-19T17:55:04.953Z"
   },
   {
    "duration": 6,
    "start_time": "2022-08-19T17:55:06.302Z"
   },
   {
    "duration": 4,
    "start_time": "2022-08-19T17:55:25.689Z"
   },
   {
    "duration": 6,
    "start_time": "2022-08-19T17:55:34.806Z"
   },
   {
    "duration": 6,
    "start_time": "2022-08-19T17:55:42.923Z"
   },
   {
    "duration": 6,
    "start_time": "2022-08-19T17:56:02.302Z"
   },
   {
    "duration": 5,
    "start_time": "2022-08-19T17:56:13.265Z"
   },
   {
    "duration": 9,
    "start_time": "2022-08-19T17:56:36.127Z"
   },
   {
    "duration": 6,
    "start_time": "2022-08-19T17:56:41.105Z"
   },
   {
    "duration": 4332,
    "start_time": "2022-08-19T17:56:48.494Z"
   },
   {
    "duration": 4224,
    "start_time": "2022-08-19T17:56:57.926Z"
   },
   {
    "duration": 13,
    "start_time": "2022-08-19T17:57:06.405Z"
   },
   {
    "duration": 4367,
    "start_time": "2022-08-19T17:57:16.725Z"
   },
   {
    "duration": 11,
    "start_time": "2022-08-19T17:57:27.320Z"
   },
   {
    "duration": 7,
    "start_time": "2022-08-19T17:57:32.306Z"
   },
   {
    "duration": 10,
    "start_time": "2022-08-19T17:57:39.235Z"
   },
   {
    "duration": 10,
    "start_time": "2022-08-19T17:57:45.655Z"
   },
   {
    "duration": 2,
    "start_time": "2022-08-19T17:57:52.794Z"
   },
   {
    "duration": 14,
    "start_time": "2022-08-19T17:57:54.602Z"
   },
   {
    "duration": 4354,
    "start_time": "2022-08-19T17:58:23.208Z"
   },
   {
    "duration": 11,
    "start_time": "2022-08-19T17:58:34.315Z"
   },
   {
    "duration": 3,
    "start_time": "2022-08-19T17:58:56.710Z"
   },
   {
    "duration": 4157,
    "start_time": "2022-08-19T17:58:58.386Z"
   },
   {
    "duration": 11,
    "start_time": "2022-08-19T17:59:16.515Z"
   },
   {
    "duration": 1552,
    "start_time": "2022-08-19T17:59:31.478Z"
   },
   {
    "duration": 1047,
    "start_time": "2022-08-19T17:59:33.032Z"
   },
   {
    "duration": 2,
    "start_time": "2022-08-19T17:59:34.080Z"
   },
   {
    "duration": 145,
    "start_time": "2022-08-19T17:59:34.084Z"
   },
   {
    "duration": 125,
    "start_time": "2022-08-19T17:59:34.232Z"
   },
   {
    "duration": 5,
    "start_time": "2022-08-19T17:59:34.358Z"
   },
   {
    "duration": 4,
    "start_time": "2022-08-19T17:59:34.365Z"
   },
   {
    "duration": 17,
    "start_time": "2022-08-19T17:59:34.371Z"
   },
   {
    "duration": 736,
    "start_time": "2022-08-19T17:59:34.390Z"
   },
   {
    "duration": 5,
    "start_time": "2022-08-19T17:59:35.128Z"
   },
   {
    "duration": 5,
    "start_time": "2022-08-19T17:59:35.135Z"
   },
   {
    "duration": 4360,
    "start_time": "2022-08-19T17:59:35.142Z"
   },
   {
    "duration": 14,
    "start_time": "2022-08-19T17:59:39.504Z"
   },
   {
    "duration": 3,
    "start_time": "2022-08-19T17:59:39.521Z"
   },
   {
    "duration": 13,
    "start_time": "2022-08-19T17:59:39.525Z"
   },
   {
    "duration": 12,
    "start_time": "2022-08-19T17:59:39.539Z"
   },
   {
    "duration": 5,
    "start_time": "2022-08-19T17:59:39.552Z"
   },
   {
    "duration": 8,
    "start_time": "2022-08-19T17:59:39.558Z"
   },
   {
    "duration": 57,
    "start_time": "2022-08-19T17:59:39.568Z"
   },
   {
    "duration": 5,
    "start_time": "2022-08-19T18:00:16.111Z"
   },
   {
    "duration": 4039,
    "start_time": "2022-08-19T18:00:37.084Z"
   },
   {
    "duration": 10,
    "start_time": "2022-08-19T18:00:44.756Z"
   },
   {
    "duration": 29,
    "start_time": "2022-08-19T18:01:11.556Z"
   },
   {
    "duration": 36,
    "start_time": "2022-08-19T18:01:35.491Z"
   },
   {
    "duration": 5,
    "start_time": "2022-08-19T18:03:01.807Z"
   },
   {
    "duration": 2618,
    "start_time": "2022-08-19T18:03:26.715Z"
   },
   {
    "duration": 4237,
    "start_time": "2022-08-19T18:03:42.411Z"
   },
   {
    "duration": 12,
    "start_time": "2022-08-19T18:03:49.396Z"
   },
   {
    "duration": 9,
    "start_time": "2022-08-19T18:03:53.037Z"
   },
   {
    "duration": 3,
    "start_time": "2022-08-19T18:03:54.711Z"
   },
   {
    "duration": 11,
    "start_time": "2022-08-19T18:03:56.024Z"
   },
   {
    "duration": 4188,
    "start_time": "2022-08-19T18:08:23.237Z"
   },
   {
    "duration": 10,
    "start_time": "2022-08-19T18:08:32.946Z"
   },
   {
    "duration": 2,
    "start_time": "2022-08-19T18:08:42.376Z"
   },
   {
    "duration": 1070,
    "start_time": "2022-08-19T18:08:46.154Z"
   },
   {
    "duration": 2,
    "start_time": "2022-08-19T18:08:49.526Z"
   },
   {
    "duration": 4,
    "start_time": "2022-08-19T18:08:58.076Z"
   },
   {
    "duration": 1064,
    "start_time": "2022-08-19T18:08:58.082Z"
   },
   {
    "duration": 3,
    "start_time": "2022-08-19T18:08:59.147Z"
   },
   {
    "duration": 151,
    "start_time": "2022-08-19T18:08:59.152Z"
   },
   {
    "duration": 229,
    "start_time": "2022-08-19T18:08:59.305Z"
   },
   {
    "duration": 22,
    "start_time": "2022-08-19T18:08:59.535Z"
   },
   {
    "duration": 2,
    "start_time": "2022-08-19T18:08:59.559Z"
   },
   {
    "duration": 7,
    "start_time": "2022-08-19T18:08:59.562Z"
   },
   {
    "duration": 728,
    "start_time": "2022-08-19T18:08:59.570Z"
   },
   {
    "duration": 4,
    "start_time": "2022-08-19T18:09:00.302Z"
   },
   {
    "duration": 16,
    "start_time": "2022-08-19T18:09:00.308Z"
   },
   {
    "duration": 38,
    "start_time": "2022-08-19T18:09:00.326Z"
   },
   {
    "duration": 8319,
    "start_time": "2022-08-19T18:09:00.365Z"
   },
   {
    "duration": 12,
    "start_time": "2022-08-19T18:09:11.313Z"
   },
   {
    "duration": 1681,
    "start_time": "2022-08-19T18:09:39.086Z"
   },
   {
    "duration": 1043,
    "start_time": "2022-08-19T18:09:40.769Z"
   },
   {
    "duration": 5,
    "start_time": "2022-08-19T18:09:41.815Z"
   },
   {
    "duration": 360,
    "start_time": "2022-08-19T18:09:41.822Z"
   },
   {
    "duration": 1718,
    "start_time": "2022-08-19T18:09:42.184Z"
   },
   {
    "duration": 10,
    "start_time": "2022-08-19T18:09:43.904Z"
   },
   {
    "duration": 4,
    "start_time": "2022-08-19T18:09:43.916Z"
   },
   {
    "duration": 6,
    "start_time": "2022-08-19T18:09:43.921Z"
   },
   {
    "duration": 831,
    "start_time": "2022-08-19T18:09:43.928Z"
   },
   {
    "duration": 4,
    "start_time": "2022-08-19T18:09:44.761Z"
   },
   {
    "duration": 14,
    "start_time": "2022-08-19T18:09:44.766Z"
   },
   {
    "duration": 51,
    "start_time": "2022-08-19T18:09:44.781Z"
   },
   {
    "duration": 52,
    "start_time": "2022-08-19T18:17:48.967Z"
   },
   {
    "duration": 1590,
    "start_time": "2022-08-19T18:17:59.033Z"
   },
   {
    "duration": 2844,
    "start_time": "2022-08-19T18:18:00.625Z"
   },
   {
    "duration": 3,
    "start_time": "2022-08-19T18:18:03.470Z"
   },
   {
    "duration": 148,
    "start_time": "2022-08-19T18:18:03.474Z"
   },
   {
    "duration": 138,
    "start_time": "2022-08-19T18:18:03.624Z"
   },
   {
    "duration": 4,
    "start_time": "2022-08-19T18:18:03.764Z"
   },
   {
    "duration": 5,
    "start_time": "2022-08-19T18:18:03.769Z"
   },
   {
    "duration": 6,
    "start_time": "2022-08-19T18:18:03.775Z"
   },
   {
    "duration": 676,
    "start_time": "2022-08-19T18:18:03.782Z"
   },
   {
    "duration": 4,
    "start_time": "2022-08-19T18:18:04.460Z"
   },
   {
    "duration": 11,
    "start_time": "2022-08-19T18:18:04.466Z"
   },
   {
    "duration": 31,
    "start_time": "2022-08-19T18:18:04.478Z"
   },
   {
    "duration": 9,
    "start_time": "2022-08-19T18:18:04.511Z"
   },
   {
    "duration": 25,
    "start_time": "2022-08-19T18:18:04.525Z"
   },
   {
    "duration": 4,
    "start_time": "2022-08-19T18:18:33.547Z"
   },
   {
    "duration": 8,
    "start_time": "2022-08-19T18:18:43.513Z"
   },
   {
    "duration": 4955,
    "start_time": "2022-08-19T18:18:45.685Z"
   },
   {
    "duration": 2,
    "start_time": "2022-08-19T18:18:57.838Z"
   },
   {
    "duration": 11,
    "start_time": "2022-08-19T18:18:59.557Z"
   },
   {
    "duration": 3,
    "start_time": "2022-08-19T18:19:05.837Z"
   },
   {
    "duration": 12,
    "start_time": "2022-08-19T18:19:07.267Z"
   },
   {
    "duration": 5793,
    "start_time": "2022-08-19T18:19:32.116Z"
   },
   {
    "duration": 12,
    "start_time": "2022-08-19T18:19:39.717Z"
   },
   {
    "duration": 3,
    "start_time": "2022-08-19T18:19:41.918Z"
   },
   {
    "duration": 10,
    "start_time": "2022-08-19T18:19:43.449Z"
   },
   {
    "duration": 2,
    "start_time": "2022-08-19T18:19:47.118Z"
   },
   {
    "duration": 11,
    "start_time": "2022-08-19T18:19:48.518Z"
   },
   {
    "duration": 6,
    "start_time": "2022-08-19T18:20:18.047Z"
   },
   {
    "duration": 2,
    "start_time": "2022-08-19T18:20:23.754Z"
   },
   {
    "duration": 5,
    "start_time": "2022-08-19T18:20:25.758Z"
   },
   {
    "duration": 5096,
    "start_time": "2022-08-19T18:21:03.886Z"
   },
   {
    "duration": 10,
    "start_time": "2022-08-19T18:21:11.218Z"
   },
   {
    "duration": 7,
    "start_time": "2022-08-19T18:21:16.728Z"
   },
   {
    "duration": 4,
    "start_time": "2022-08-19T18:22:08.906Z"
   },
   {
    "duration": 2,
    "start_time": "2022-08-19T18:22:16.478Z"
   },
   {
    "duration": 6,
    "start_time": "2022-08-19T18:22:19.598Z"
   },
   {
    "duration": 3,
    "start_time": "2022-08-19T18:22:25.188Z"
   },
   {
    "duration": 4,
    "start_time": "2022-08-19T18:22:27.740Z"
   },
   {
    "duration": 3,
    "start_time": "2022-08-19T18:22:32.369Z"
   },
   {
    "duration": 5,
    "start_time": "2022-08-19T18:22:34.748Z"
   },
   {
    "duration": 16,
    "start_time": "2022-08-19T18:24:20.620Z"
   },
   {
    "duration": 114,
    "start_time": "2022-08-19T18:24:54.919Z"
   },
   {
    "duration": 10,
    "start_time": "2022-08-19T18:26:32.759Z"
   },
   {
    "duration": 16,
    "start_time": "2022-08-19T18:26:37.720Z"
   },
   {
    "duration": 16,
    "start_time": "2022-08-19T18:26:48.470Z"
   },
   {
    "duration": 11,
    "start_time": "2022-08-19T18:27:03.170Z"
   },
   {
    "duration": 2,
    "start_time": "2022-08-19T18:27:12.130Z"
   },
   {
    "duration": 30,
    "start_time": "2022-08-19T18:27:15.170Z"
   },
   {
    "duration": 4942,
    "start_time": "2022-08-19T18:28:05.546Z"
   },
   {
    "duration": 10,
    "start_time": "2022-08-19T18:28:14.650Z"
   },
   {
    "duration": 5059,
    "start_time": "2022-08-19T18:28:41.228Z"
   },
   {
    "duration": 11,
    "start_time": "2022-08-19T18:28:49.581Z"
   },
   {
    "duration": 2,
    "start_time": "2022-08-19T18:28:56.541Z"
   },
   {
    "duration": 12,
    "start_time": "2022-08-19T18:28:59.513Z"
   },
   {
    "duration": 2,
    "start_time": "2022-08-19T18:29:06.971Z"
   },
   {
    "duration": 12,
    "start_time": "2022-08-19T18:29:08.641Z"
   },
   {
    "duration": 5,
    "start_time": "2022-08-19T18:31:02.690Z"
   },
   {
    "duration": 6,
    "start_time": "2022-08-19T19:18:10.290Z"
   },
   {
    "duration": 271,
    "start_time": "2022-08-19T19:18:17.430Z"
   },
   {
    "duration": 15,
    "start_time": "2022-08-19T19:19:07.400Z"
   },
   {
    "duration": 539,
    "start_time": "2022-08-19T19:19:47.918Z"
   },
   {
    "duration": 5,
    "start_time": "2022-08-19T19:21:37.738Z"
   },
   {
    "duration": 1076,
    "start_time": "2022-08-19T19:21:37.745Z"
   },
   {
    "duration": 3,
    "start_time": "2022-08-19T19:21:38.823Z"
   },
   {
    "duration": 130,
    "start_time": "2022-08-19T19:21:38.827Z"
   },
   {
    "duration": 3,
    "start_time": "2022-08-19T19:21:38.959Z"
   },
   {
    "duration": 34,
    "start_time": "2022-08-19T19:21:38.964Z"
   },
   {
    "duration": 4,
    "start_time": "2022-08-19T19:21:39.000Z"
   },
   {
    "duration": 8,
    "start_time": "2022-08-19T19:21:39.006Z"
   },
   {
    "duration": 646,
    "start_time": "2022-08-19T19:21:39.015Z"
   },
   {
    "duration": 4,
    "start_time": "2022-08-19T19:21:39.662Z"
   },
   {
    "duration": 10,
    "start_time": "2022-08-19T19:21:39.667Z"
   },
   {
    "duration": 5380,
    "start_time": "2022-08-19T19:21:39.679Z"
   },
   {
    "duration": 2,
    "start_time": "2022-08-19T19:21:45.061Z"
   },
   {
    "duration": 18,
    "start_time": "2022-08-19T19:21:45.066Z"
   },
   {
    "duration": 19,
    "start_time": "2022-08-19T19:21:45.086Z"
   },
   {
    "duration": 16,
    "start_time": "2022-08-19T19:21:45.107Z"
   },
   {
    "duration": 137,
    "start_time": "2022-08-19T19:21:45.125Z"
   },
   {
    "duration": 625,
    "start_time": "2022-08-19T19:21:45.264Z"
   },
   {
    "duration": 744,
    "start_time": "2022-08-19T19:22:36.869Z"
   },
   {
    "duration": 39,
    "start_time": "2022-08-19T19:34:23.622Z"
   },
   {
    "duration": 141,
    "start_time": "2022-08-19T19:36:01.519Z"
   },
   {
    "duration": 165,
    "start_time": "2022-08-19T19:36:39.300Z"
   },
   {
    "duration": 162,
    "start_time": "2022-08-19T19:36:57.387Z"
   },
   {
    "duration": 6,
    "start_time": "2022-08-19T19:37:01.011Z"
   },
   {
    "duration": 158,
    "start_time": "2022-08-19T19:37:02.569Z"
   },
   {
    "duration": 173,
    "start_time": "2022-08-19T19:37:03.810Z"
   },
   {
    "duration": 3,
    "start_time": "2022-08-19T19:37:55.966Z"
   },
   {
    "duration": 139,
    "start_time": "2022-08-19T19:38:03.677Z"
   },
   {
    "duration": 4,
    "start_time": "2022-08-19T19:38:05.328Z"
   },
   {
    "duration": 476,
    "start_time": "2022-08-19T19:38:08.111Z"
   },
   {
    "duration": 9344,
    "start_time": "2022-08-19T19:42:09.828Z"
   },
   {
    "duration": 7292,
    "start_time": "2022-08-19T19:42:31.414Z"
   },
   {
    "duration": 617,
    "start_time": "2022-08-19T19:44:46.858Z"
   },
   {
    "duration": 8287,
    "start_time": "2022-08-19T19:45:36.115Z"
   },
   {
    "duration": 9,
    "start_time": "2022-08-19T19:48:29.468Z"
   },
   {
    "duration": 7,
    "start_time": "2022-08-19T19:48:34.535Z"
   },
   {
    "duration": 9,
    "start_time": "2022-08-19T19:48:38.607Z"
   },
   {
    "duration": 928,
    "start_time": "2022-08-19T19:53:52.654Z"
   },
   {
    "duration": 9,
    "start_time": "2022-08-19T19:54:13.367Z"
   },
   {
    "duration": 4,
    "start_time": "2022-08-19T20:23:23.780Z"
   },
   {
    "duration": 6,
    "start_time": "2022-08-19T20:23:25.231Z"
   },
   {
    "duration": 5,
    "start_time": "2022-08-19T20:23:29.942Z"
   },
   {
    "duration": 10,
    "start_time": "2022-08-19T20:23:31.710Z"
   },
   {
    "duration": 4,
    "start_time": "2022-08-19T20:23:54.723Z"
   },
   {
    "duration": 64227,
    "start_time": "2022-08-19T20:23:58.493Z"
   },
   {
    "duration": 33196,
    "start_time": "2022-08-19T20:28:11.329Z"
   },
   {
    "duration": 4,
    "start_time": "2022-08-19T20:29:03.479Z"
   },
   {
    "duration": 4,
    "start_time": "2022-08-19T20:29:05.739Z"
   },
   {
    "duration": 17,
    "start_time": "2022-08-19T20:29:09.739Z"
   },
   {
    "duration": 21192,
    "start_time": "2022-08-19T20:29:13.107Z"
   },
   {
    "duration": 14521,
    "start_time": "2022-08-19T20:29:55.780Z"
   },
   {
    "duration": 4282,
    "start_time": "2022-08-19T20:30:47.617Z"
   },
   {
    "duration": 8,
    "start_time": "2022-08-19T20:30:53.818Z"
   },
   {
    "duration": 5,
    "start_time": "2022-08-19T20:31:03.778Z"
   },
   {
    "duration": 1041,
    "start_time": "2022-08-19T20:31:03.785Z"
   },
   {
    "duration": 3,
    "start_time": "2022-08-19T20:31:04.828Z"
   },
   {
    "duration": 145,
    "start_time": "2022-08-19T20:31:04.832Z"
   },
   {
    "duration": 50,
    "start_time": "2022-08-19T20:31:04.979Z"
   },
   {
    "duration": 0,
    "start_time": "2022-08-19T20:31:05.031Z"
   },
   {
    "duration": 0,
    "start_time": "2022-08-19T20:31:05.032Z"
   },
   {
    "duration": 0,
    "start_time": "2022-08-19T20:31:05.034Z"
   },
   {
    "duration": 0,
    "start_time": "2022-08-19T20:31:05.036Z"
   },
   {
    "duration": 0,
    "start_time": "2022-08-19T20:31:05.037Z"
   },
   {
    "duration": 0,
    "start_time": "2022-08-19T20:31:05.038Z"
   },
   {
    "duration": 0,
    "start_time": "2022-08-19T20:31:05.040Z"
   },
   {
    "duration": 0,
    "start_time": "2022-08-19T20:31:05.041Z"
   },
   {
    "duration": 0,
    "start_time": "2022-08-19T20:31:05.043Z"
   },
   {
    "duration": 0,
    "start_time": "2022-08-19T20:31:05.044Z"
   },
   {
    "duration": 0,
    "start_time": "2022-08-19T20:31:05.045Z"
   },
   {
    "duration": 0,
    "start_time": "2022-08-19T20:31:05.047Z"
   },
   {
    "duration": 0,
    "start_time": "2022-08-19T20:31:05.048Z"
   },
   {
    "duration": 0,
    "start_time": "2022-08-19T20:31:05.049Z"
   },
   {
    "duration": 0,
    "start_time": "2022-08-19T20:31:05.051Z"
   },
   {
    "duration": 0,
    "start_time": "2022-08-19T20:31:05.053Z"
   },
   {
    "duration": 0,
    "start_time": "2022-08-19T20:31:05.054Z"
   },
   {
    "duration": 18,
    "start_time": "2022-08-19T20:31:26.862Z"
   },
   {
    "duration": 13,
    "start_time": "2022-08-19T20:31:28.702Z"
   },
   {
    "duration": 4,
    "start_time": "2022-08-19T20:31:32.008Z"
   },
   {
    "duration": 986,
    "start_time": "2022-08-19T20:31:32.017Z"
   },
   {
    "duration": 3,
    "start_time": "2022-08-19T20:31:33.005Z"
   },
   {
    "duration": 144,
    "start_time": "2022-08-19T20:31:33.009Z"
   },
   {
    "duration": 16,
    "start_time": "2022-08-19T20:31:33.155Z"
   },
   {
    "duration": 26,
    "start_time": "2022-08-19T20:31:33.172Z"
   },
   {
    "duration": 21,
    "start_time": "2022-08-19T20:31:33.201Z"
   },
   {
    "duration": 3,
    "start_time": "2022-08-19T20:31:33.224Z"
   },
   {
    "duration": 5,
    "start_time": "2022-08-19T20:31:33.229Z"
   },
   {
    "duration": 684,
    "start_time": "2022-08-19T20:31:33.235Z"
   },
   {
    "duration": 4,
    "start_time": "2022-08-19T20:31:33.921Z"
   },
   {
    "duration": 11,
    "start_time": "2022-08-19T20:31:33.927Z"
   },
   {
    "duration": 4949,
    "start_time": "2022-08-19T20:31:33.939Z"
   },
   {
    "duration": 8,
    "start_time": "2022-08-19T20:31:38.890Z"
   },
   {
    "duration": 10,
    "start_time": "2022-08-19T20:31:38.901Z"
   },
   {
    "duration": 7,
    "start_time": "2022-08-19T20:31:38.912Z"
   },
   {
    "duration": 199,
    "start_time": "2022-08-19T20:31:38.921Z"
   },
   {
    "duration": 13,
    "start_time": "2022-08-19T20:31:39.122Z"
   },
   {
    "duration": 143,
    "start_time": "2022-08-19T20:31:39.137Z"
   },
   {
    "duration": 645,
    "start_time": "2022-08-19T20:31:39.281Z"
   },
   {
    "duration": 4,
    "start_time": "2022-08-19T20:31:39.927Z"
   },
   {
    "duration": 9,
    "start_time": "2022-08-19T20:31:39.932Z"
   },
   {
    "duration": 10,
    "start_time": "2022-08-19T20:31:39.942Z"
   },
   {
    "duration": 6,
    "start_time": "2022-08-19T20:31:39.954Z"
   },
   {
    "duration": 14719,
    "start_time": "2022-08-19T20:31:39.961Z"
   },
   {
    "duration": 21,
    "start_time": "2022-08-19T20:31:54.682Z"
   },
   {
    "duration": 2,
    "start_time": "2022-08-19T20:31:54.705Z"
   },
   {
    "duration": 4,
    "start_time": "2022-08-19T20:31:54.708Z"
   },
   {
    "duration": 14462,
    "start_time": "2022-08-19T20:31:54.713Z"
   },
   {
    "duration": 0,
    "start_time": "2022-08-19T20:32:09.176Z"
   },
   {
    "duration": 0,
    "start_time": "2022-08-19T20:32:09.201Z"
   },
   {
    "duration": 0,
    "start_time": "2022-08-19T20:32:09.203Z"
   },
   {
    "duration": 0,
    "start_time": "2022-08-19T20:32:09.204Z"
   },
   {
    "duration": 0,
    "start_time": "2022-08-19T20:32:09.205Z"
   },
   {
    "duration": 0,
    "start_time": "2022-08-19T20:32:09.206Z"
   },
   {
    "duration": 0,
    "start_time": "2022-08-19T20:32:09.208Z"
   },
   {
    "duration": 0,
    "start_time": "2022-08-19T20:32:09.209Z"
   },
   {
    "duration": 8,
    "start_time": "2022-08-19T20:32:17.292Z"
   },
   {
    "duration": 8872,
    "start_time": "2022-08-19T20:37:55.851Z"
   },
   {
    "duration": 115,
    "start_time": "2022-08-19T20:38:12.920Z"
   },
   {
    "duration": 89697,
    "start_time": "2022-08-19T20:38:17.303Z"
   },
   {
    "duration": 326,
    "start_time": "2022-08-19T20:39:53.987Z"
   },
   {
    "duration": 86,
    "start_time": "2022-08-19T20:39:58.154Z"
   },
   {
    "duration": 2485,
    "start_time": "2022-08-19T20:41:09.745Z"
   },
   {
    "duration": 87,
    "start_time": "2022-08-19T20:42:44.194Z"
   },
   {
    "duration": 960768,
    "start_time": "2022-08-19T20:42:57.348Z"
   },
   {
    "duration": 182,
    "start_time": "2022-08-19T20:59:06.129Z"
   },
   {
    "duration": 8,
    "start_time": "2022-08-19T20:59:51.154Z"
   },
   {
    "duration": 1532,
    "start_time": "2022-08-19T21:01:01.474Z"
   },
   {
    "duration": 1003,
    "start_time": "2022-08-19T21:01:03.008Z"
   },
   {
    "duration": 338,
    "start_time": "2022-08-19T21:01:04.012Z"
   },
   {
    "duration": 50,
    "start_time": "2022-08-19T21:01:04.351Z"
   },
   {
    "duration": 2,
    "start_time": "2022-08-19T21:01:04.405Z"
   },
   {
    "duration": 20,
    "start_time": "2022-08-19T21:01:04.409Z"
   },
   {
    "duration": 6,
    "start_time": "2022-08-19T21:01:04.431Z"
   },
   {
    "duration": 7,
    "start_time": "2022-08-19T21:01:04.438Z"
   },
   {
    "duration": 641,
    "start_time": "2022-08-19T21:01:04.447Z"
   },
   {
    "duration": 8,
    "start_time": "2022-08-19T21:01:05.090Z"
   },
   {
    "duration": 8,
    "start_time": "2022-08-19T21:01:05.100Z"
   },
   {
    "duration": 62090,
    "start_time": "2022-08-19T21:01:05.109Z"
   },
   {
    "duration": 3,
    "start_time": "2022-08-19T21:02:07.200Z"
   },
   {
    "duration": 12,
    "start_time": "2022-08-19T21:02:07.205Z"
   },
   {
    "duration": 23,
    "start_time": "2022-08-19T21:02:07.218Z"
   },
   {
    "duration": 196,
    "start_time": "2022-08-19T21:02:07.242Z"
   },
   {
    "duration": 65,
    "start_time": "2022-08-19T21:02:07.439Z"
   },
   {
    "duration": 45,
    "start_time": "2022-08-19T21:02:28.681Z"
   },
   {
    "duration": 1518,
    "start_time": "2022-08-19T21:02:40.006Z"
   },
   {
    "duration": 2716,
    "start_time": "2022-08-19T21:02:41.526Z"
   },
   {
    "duration": 373,
    "start_time": "2022-08-19T21:02:44.243Z"
   },
   {
    "duration": 37,
    "start_time": "2022-08-19T21:02:44.618Z"
   },
   {
    "duration": 3,
    "start_time": "2022-08-19T21:02:44.656Z"
   },
   {
    "duration": 5,
    "start_time": "2022-08-19T21:02:44.660Z"
   },
   {
    "duration": 5,
    "start_time": "2022-08-19T21:02:44.666Z"
   },
   {
    "duration": 5,
    "start_time": "2022-08-19T21:02:44.672Z"
   },
   {
    "duration": 658,
    "start_time": "2022-08-19T21:02:44.678Z"
   },
   {
    "duration": 4,
    "start_time": "2022-08-19T21:02:45.338Z"
   },
   {
    "duration": 5,
    "start_time": "2022-08-19T21:02:45.344Z"
   },
   {
    "duration": 59526,
    "start_time": "2022-08-19T21:02:45.351Z"
   },
   {
    "duration": 3,
    "start_time": "2022-08-19T21:03:44.878Z"
   },
   {
    "duration": 22,
    "start_time": "2022-08-19T21:03:44.882Z"
   },
   {
    "duration": 23,
    "start_time": "2022-08-19T21:03:44.905Z"
   },
   {
    "duration": 197,
    "start_time": "2022-08-19T21:03:44.929Z"
   },
   {
    "duration": 67,
    "start_time": "2022-08-19T21:03:45.128Z"
   },
   {
    "duration": 1560,
    "start_time": "2022-08-19T21:04:07.168Z"
   },
   {
    "duration": 2619,
    "start_time": "2022-08-19T21:04:08.729Z"
   },
   {
    "duration": 319,
    "start_time": "2022-08-19T21:04:11.350Z"
   },
   {
    "duration": 46,
    "start_time": "2022-08-19T21:04:11.670Z"
   },
   {
    "duration": 2,
    "start_time": "2022-08-19T21:04:11.719Z"
   },
   {
    "duration": 5,
    "start_time": "2022-08-19T21:04:11.723Z"
   },
   {
    "duration": 5,
    "start_time": "2022-08-19T21:04:11.729Z"
   },
   {
    "duration": 3,
    "start_time": "2022-08-19T21:04:11.735Z"
   },
   {
    "duration": 628,
    "start_time": "2022-08-19T21:04:11.739Z"
   },
   {
    "duration": 3,
    "start_time": "2022-08-19T21:04:12.369Z"
   },
   {
    "duration": 5,
    "start_time": "2022-08-19T21:04:12.374Z"
   },
   {
    "duration": 59904,
    "start_time": "2022-08-19T21:04:12.381Z"
   },
   {
    "duration": 2,
    "start_time": "2022-08-19T21:05:12.286Z"
   },
   {
    "duration": 11,
    "start_time": "2022-08-19T21:05:12.297Z"
   },
   {
    "duration": 23,
    "start_time": "2022-08-19T21:05:12.309Z"
   },
   {
    "duration": 196,
    "start_time": "2022-08-19T21:05:12.334Z"
   },
   {
    "duration": 64,
    "start_time": "2022-08-19T21:05:12.532Z"
   },
   {
    "duration": 1535,
    "start_time": "2022-08-19T21:05:31.696Z"
   },
   {
    "duration": 2704,
    "start_time": "2022-08-19T21:05:33.234Z"
   },
   {
    "duration": 338,
    "start_time": "2022-08-19T21:05:35.940Z"
   },
   {
    "duration": 41,
    "start_time": "2022-08-19T21:05:36.280Z"
   },
   {
    "duration": 2,
    "start_time": "2022-08-19T21:05:36.323Z"
   },
   {
    "duration": 5,
    "start_time": "2022-08-19T21:05:36.327Z"
   },
   {
    "duration": 5,
    "start_time": "2022-08-19T21:05:36.334Z"
   },
   {
    "duration": 8,
    "start_time": "2022-08-19T21:05:36.340Z"
   },
   {
    "duration": 642,
    "start_time": "2022-08-19T21:05:36.350Z"
   },
   {
    "duration": 4,
    "start_time": "2022-08-19T21:05:36.998Z"
   },
   {
    "duration": 7,
    "start_time": "2022-08-19T21:05:37.004Z"
   },
   {
    "duration": 60803,
    "start_time": "2022-08-19T21:05:37.013Z"
   },
   {
    "duration": 2,
    "start_time": "2022-08-19T21:06:37.818Z"
   },
   {
    "duration": 13,
    "start_time": "2022-08-19T21:06:37.822Z"
   },
   {
    "duration": 22,
    "start_time": "2022-08-19T21:06:37.837Z"
   },
   {
    "duration": 154,
    "start_time": "2022-08-19T21:06:37.860Z"
   },
   {
    "duration": 65,
    "start_time": "2022-08-19T21:06:38.016Z"
   },
   {
    "duration": 127,
    "start_time": "2022-08-19T21:06:42.853Z"
   },
   {
    "duration": 456,
    "start_time": "2022-08-19T21:07:08.655Z"
   },
   {
    "duration": 1553,
    "start_time": "2022-08-19T21:07:26.294Z"
   },
   {
    "duration": 2640,
    "start_time": "2022-08-19T21:07:27.848Z"
   },
   {
    "duration": 344,
    "start_time": "2022-08-19T21:07:30.489Z"
   },
   {
    "duration": 35,
    "start_time": "2022-08-19T21:07:30.834Z"
   },
   {
    "duration": 2,
    "start_time": "2022-08-19T21:07:30.871Z"
   },
   {
    "duration": 27,
    "start_time": "2022-08-19T21:07:30.874Z"
   },
   {
    "duration": 12,
    "start_time": "2022-08-19T21:07:30.903Z"
   },
   {
    "duration": 27,
    "start_time": "2022-08-19T21:07:30.916Z"
   },
   {
    "duration": 639,
    "start_time": "2022-08-19T21:07:30.944Z"
   },
   {
    "duration": 4,
    "start_time": "2022-08-19T21:07:31.584Z"
   },
   {
    "duration": 24,
    "start_time": "2022-08-19T21:07:31.598Z"
   },
   {
    "duration": 59886,
    "start_time": "2022-08-19T21:07:31.623Z"
   },
   {
    "duration": 3,
    "start_time": "2022-08-19T21:08:31.510Z"
   },
   {
    "duration": 14,
    "start_time": "2022-08-19T21:08:31.515Z"
   },
   {
    "duration": 32,
    "start_time": "2022-08-19T21:08:31.530Z"
   },
   {
    "duration": 199,
    "start_time": "2022-08-19T21:08:31.563Z"
   },
   {
    "duration": 62,
    "start_time": "2022-08-19T21:08:31.763Z"
   },
   {
    "duration": 58,
    "start_time": "2022-08-19T21:09:46.115Z"
   },
   {
    "duration": 307,
    "start_time": "2022-08-19T21:09:59.504Z"
   },
   {
    "duration": 469,
    "start_time": "2022-08-19T21:10:14.895Z"
   },
   {
    "duration": 3,
    "start_time": "2022-08-19T21:10:19.072Z"
   },
   {
    "duration": 2,
    "start_time": "2022-08-19T21:10:44.072Z"
   },
   {
    "duration": 183,
    "start_time": "2022-08-19T21:10:45.994Z"
   },
   {
    "duration": 3,
    "start_time": "2022-08-19T21:11:04.557Z"
   },
   {
    "duration": 179,
    "start_time": "2022-08-19T21:11:12.897Z"
   },
   {
    "duration": 858,
    "start_time": "2022-08-19T21:11:27.953Z"
   },
   {
    "duration": 3,
    "start_time": "2022-08-19T21:12:25.461Z"
   },
   {
    "duration": 819,
    "start_time": "2022-08-19T21:13:06.355Z"
   },
   {
    "duration": 1016,
    "start_time": "2022-08-19T21:14:08.860Z"
   },
   {
    "duration": 859,
    "start_time": "2022-08-19T21:14:55.592Z"
   },
   {
    "duration": 14,
    "start_time": "2022-08-19T21:15:27.424Z"
   },
   {
    "duration": 4,
    "start_time": "2022-08-19T21:15:37.065Z"
   },
   {
    "duration": 4,
    "start_time": "2022-08-19T21:15:58.104Z"
   },
   {
    "duration": 3,
    "start_time": "2022-08-19T21:19:41.115Z"
   },
   {
    "duration": 5,
    "start_time": "2022-08-19T21:19:47.973Z"
   },
   {
    "duration": 3,
    "start_time": "2022-08-19T21:20:05.004Z"
   },
   {
    "duration": 1266,
    "start_time": "2022-08-19T21:20:07.542Z"
   },
   {
    "duration": 4,
    "start_time": "2022-08-19T21:20:17.083Z"
   },
   {
    "duration": 91,
    "start_time": "2022-08-19T21:20:44.012Z"
   },
   {
    "duration": 946,
    "start_time": "2022-08-19T21:21:17.261Z"
   },
   {
    "duration": 5,
    "start_time": "2022-08-19T21:21:49.184Z"
   },
   {
    "duration": 1016,
    "start_time": "2022-08-19T21:22:08.103Z"
   },
   {
    "duration": 802,
    "start_time": "2022-08-19T21:22:43.079Z"
   },
   {
    "duration": 2,
    "start_time": "2022-08-19T21:23:00.294Z"
   },
   {
    "duration": 773,
    "start_time": "2022-08-19T21:23:02.423Z"
   },
   {
    "duration": 13,
    "start_time": "2022-08-19T21:23:20.639Z"
   },
   {
    "duration": 5,
    "start_time": "2022-08-19T21:23:32.543Z"
   },
   {
    "duration": 572,
    "start_time": "2022-08-19T21:23:37.847Z"
   },
   {
    "duration": 5,
    "start_time": "2022-08-19T21:23:48.494Z"
   },
   {
    "duration": 376,
    "start_time": "2022-08-19T21:23:55.223Z"
   },
   {
    "duration": 4,
    "start_time": "2022-08-19T21:24:02.999Z"
   },
   {
    "duration": 902,
    "start_time": "2022-08-19T21:24:13.583Z"
   },
   {
    "duration": 5,
    "start_time": "2022-08-19T21:24:26.613Z"
   },
   {
    "duration": 149,
    "start_time": "2022-08-19T21:24:39.162Z"
   },
   {
    "duration": 59,
    "start_time": "2022-08-19T21:24:56.574Z"
   },
   {
    "duration": 6,
    "start_time": "2022-08-19T21:25:02.889Z"
   },
   {
    "duration": 2087,
    "start_time": "2022-08-19T21:25:19.221Z"
   },
   {
    "duration": 5,
    "start_time": "2022-08-19T21:25:29.983Z"
   },
   {
    "duration": 2033,
    "start_time": "2022-08-19T21:26:57.101Z"
   },
   {
    "duration": 4,
    "start_time": "2022-08-19T21:27:06.983Z"
   },
   {
    "duration": 5,
    "start_time": "2022-08-19T21:27:11.423Z"
   },
   {
    "duration": 2052,
    "start_time": "2022-08-19T21:27:19.231Z"
   },
   {
    "duration": 5,
    "start_time": "2022-08-19T21:27:24.053Z"
   },
   {
    "duration": 3,
    "start_time": "2022-08-19T21:28:02.684Z"
   },
   {
    "duration": 2056,
    "start_time": "2022-08-19T21:28:04.851Z"
   },
   {
    "duration": 5,
    "start_time": "2022-08-19T21:28:10.719Z"
   },
   {
    "duration": 2176,
    "start_time": "2022-08-19T21:28:28.204Z"
   },
   {
    "duration": 4,
    "start_time": "2022-08-19T21:28:32.753Z"
   },
   {
    "duration": 2180,
    "start_time": "2022-08-19T21:29:38.558Z"
   },
   {
    "duration": 5,
    "start_time": "2022-08-19T21:29:43.539Z"
   },
   {
    "duration": 3,
    "start_time": "2022-08-19T21:29:49.363Z"
   },
   {
    "duration": 4,
    "start_time": "2022-08-19T21:29:52.703Z"
   },
   {
    "duration": 185,
    "start_time": "2022-08-19T21:29:52.985Z"
   },
   {
    "duration": 2109,
    "start_time": "2022-08-19T21:31:11.911Z"
   },
   {
    "duration": 3,
    "start_time": "2022-08-19T21:31:19.213Z"
   },
   {
    "duration": 2222,
    "start_time": "2022-08-19T21:32:03.481Z"
   },
   {
    "duration": 4,
    "start_time": "2022-08-19T21:32:07.362Z"
   },
   {
    "duration": 6,
    "start_time": "2022-08-19T21:32:11.432Z"
   },
   {
    "duration": 6492,
    "start_time": "2022-08-19T21:32:28.588Z"
   },
   {
    "duration": 5,
    "start_time": "2022-08-19T21:33:12.671Z"
   },
   {
    "duration": 4,
    "start_time": "2022-08-19T21:33:14.179Z"
   },
   {
    "duration": 1432,
    "start_time": "2022-08-19T21:33:32.456Z"
   },
   {
    "duration": 1033,
    "start_time": "2022-08-19T21:33:33.889Z"
   },
   {
    "duration": 328,
    "start_time": "2022-08-19T21:33:34.923Z"
   },
   {
    "duration": 35,
    "start_time": "2022-08-19T21:33:35.253Z"
   },
   {
    "duration": 2,
    "start_time": "2022-08-19T21:33:35.298Z"
   },
   {
    "duration": 9,
    "start_time": "2022-08-19T21:33:35.301Z"
   },
   {
    "duration": 11,
    "start_time": "2022-08-19T21:33:35.311Z"
   },
   {
    "duration": 8,
    "start_time": "2022-08-19T21:33:35.324Z"
   },
   {
    "duration": 606,
    "start_time": "2022-08-19T21:33:35.334Z"
   },
   {
    "duration": 3,
    "start_time": "2022-08-19T21:33:35.943Z"
   },
   {
    "duration": 6,
    "start_time": "2022-08-19T21:33:35.948Z"
   },
   {
    "duration": 59469,
    "start_time": "2022-08-19T21:33:35.955Z"
   },
   {
    "duration": 2,
    "start_time": "2022-08-19T21:34:35.426Z"
   },
   {
    "duration": 13,
    "start_time": "2022-08-19T21:34:35.429Z"
   },
   {
    "duration": 20,
    "start_time": "2022-08-19T21:34:35.443Z"
   },
   {
    "duration": 204,
    "start_time": "2022-08-19T21:34:35.464Z"
   },
   {
    "duration": 68,
    "start_time": "2022-08-19T21:34:35.670Z"
   },
   {
    "duration": 3,
    "start_time": "2022-08-19T21:34:35.740Z"
   },
   {
    "duration": 235,
    "start_time": "2022-08-19T21:34:35.744Z"
   },
   {
    "duration": 0,
    "start_time": "2022-08-19T21:34:35.981Z"
   },
   {
    "duration": 0,
    "start_time": "2022-08-19T21:34:35.981Z"
   },
   {
    "duration": 0,
    "start_time": "2022-08-19T21:34:35.982Z"
   },
   {
    "duration": 0,
    "start_time": "2022-08-19T21:34:35.983Z"
   },
   {
    "duration": 0,
    "start_time": "2022-08-19T21:34:35.984Z"
   },
   {
    "duration": 0,
    "start_time": "2022-08-19T21:34:35.985Z"
   },
   {
    "duration": 0,
    "start_time": "2022-08-19T21:34:35.986Z"
   },
   {
    "duration": 0,
    "start_time": "2022-08-19T21:34:35.987Z"
   },
   {
    "duration": 0,
    "start_time": "2022-08-19T21:34:35.987Z"
   },
   {
    "duration": 0,
    "start_time": "2022-08-19T21:34:35.998Z"
   },
   {
    "duration": 0,
    "start_time": "2022-08-19T21:34:35.999Z"
   },
   {
    "duration": 0,
    "start_time": "2022-08-19T21:34:36.000Z"
   },
   {
    "duration": 0,
    "start_time": "2022-08-19T21:34:36.001Z"
   },
   {
    "duration": 0,
    "start_time": "2022-08-19T21:34:36.002Z"
   },
   {
    "duration": 4,
    "start_time": "2022-08-19T21:35:03.500Z"
   },
   {
    "duration": 2161,
    "start_time": "2022-08-19T21:35:07.617Z"
   },
   {
    "duration": 2180,
    "start_time": "2022-08-19T21:35:14.828Z"
   },
   {
    "duration": 483,
    "start_time": "2022-08-19T21:35:17.011Z"
   },
   {
    "duration": 6599,
    "start_time": "2022-08-19T21:35:17.495Z"
   },
   {
    "duration": 5,
    "start_time": "2022-08-19T21:35:24.096Z"
   },
   {
    "duration": 4,
    "start_time": "2022-08-19T21:35:24.103Z"
   },
   {
    "duration": 7,
    "start_time": "2022-08-19T21:35:24.109Z"
   },
   {
    "duration": 151272,
    "start_time": "2022-08-19T21:35:24.117Z"
   },
   {
    "duration": 72,
    "start_time": "2022-08-19T21:37:55.390Z"
   },
   {
    "duration": 137855,
    "start_time": "2022-08-19T21:37:55.464Z"
   },
   {
    "duration": 1440,
    "start_time": "2022-08-19T21:40:13.320Z"
   },
   {
    "duration": 6936175,
    "start_time": "2022-08-19T21:40:14.762Z"
   },
   {
    "duration": 5063,
    "start_time": "2022-08-19T23:35:50.941Z"
   },
   {
    "duration": 1481,
    "start_time": "2022-08-20T03:23:13.660Z"
   },
   {
    "duration": 2614,
    "start_time": "2022-08-20T03:23:15.143Z"
   },
   {
    "duration": 313,
    "start_time": "2022-08-20T03:23:17.759Z"
   },
   {
    "duration": 44,
    "start_time": "2022-08-20T03:23:18.073Z"
   },
   {
    "duration": 2,
    "start_time": "2022-08-20T03:23:18.119Z"
   },
   {
    "duration": 4,
    "start_time": "2022-08-20T03:23:18.122Z"
   },
   {
    "duration": 5,
    "start_time": "2022-08-20T03:23:18.127Z"
   },
   {
    "duration": 3,
    "start_time": "2022-08-20T03:23:18.133Z"
   },
   {
    "duration": 624,
    "start_time": "2022-08-20T03:23:18.137Z"
   },
   {
    "duration": 4,
    "start_time": "2022-08-20T03:23:18.763Z"
   },
   {
    "duration": 5,
    "start_time": "2022-08-20T03:23:18.769Z"
   },
   {
    "duration": 58750,
    "start_time": "2022-08-20T03:23:18.775Z"
   },
   {
    "duration": 2,
    "start_time": "2022-08-20T03:24:17.527Z"
   },
   {
    "duration": 13,
    "start_time": "2022-08-20T03:24:17.532Z"
   },
   {
    "duration": 18,
    "start_time": "2022-08-20T03:24:17.546Z"
   },
   {
    "duration": 198,
    "start_time": "2022-08-20T03:24:17.565Z"
   },
   {
    "duration": 64,
    "start_time": "2022-08-20T03:24:17.765Z"
   },
   {
    "duration": 2,
    "start_time": "2022-08-20T03:24:17.831Z"
   },
   {
    "duration": 9,
    "start_time": "2022-08-20T03:24:17.835Z"
   },
   {
    "duration": 2146,
    "start_time": "2022-08-20T03:24:17.845Z"
   },
   {
    "duration": 462,
    "start_time": "2022-08-20T03:24:19.993Z"
   },
   {
    "duration": 6269,
    "start_time": "2022-08-20T03:24:20.456Z"
   },
   {
    "duration": 3,
    "start_time": "2022-08-20T03:24:26.727Z"
   },
   {
    "duration": 11,
    "start_time": "2022-08-20T03:24:26.731Z"
   },
   {
    "duration": 8,
    "start_time": "2022-08-20T03:24:26.743Z"
   },
   {
    "duration": 151847,
    "start_time": "2022-08-20T03:24:26.752Z"
   },
   {
    "duration": 67,
    "start_time": "2022-08-20T03:26:58.600Z"
   },
   {
    "duration": 134014,
    "start_time": "2022-08-20T03:26:58.669Z"
   },
   {
    "duration": 1349,
    "start_time": "2022-08-20T03:29:12.685Z"
   },
   {
    "duration": 1563202,
    "start_time": "2022-08-20T03:29:14.035Z"
   },
   {
    "duration": 5140,
    "start_time": "2022-08-20T03:55:17.299Z"
   },
   {
    "duration": 1496,
    "start_time": "2022-08-20T06:23:10.576Z"
   },
   {
    "duration": 2538,
    "start_time": "2022-08-20T06:23:12.074Z"
   },
   {
    "duration": 300,
    "start_time": "2022-08-20T06:23:14.613Z"
   },
   {
    "duration": 35,
    "start_time": "2022-08-20T06:23:14.915Z"
   },
   {
    "duration": 2,
    "start_time": "2022-08-20T06:23:14.952Z"
   },
   {
    "duration": 4,
    "start_time": "2022-08-20T06:23:14.955Z"
   },
   {
    "duration": 5,
    "start_time": "2022-08-20T06:23:14.961Z"
   },
   {
    "duration": 4,
    "start_time": "2022-08-20T06:23:14.967Z"
   },
   {
    "duration": 637,
    "start_time": "2022-08-20T06:23:14.973Z"
   },
   {
    "duration": 3,
    "start_time": "2022-08-20T06:23:15.613Z"
   },
   {
    "duration": 7,
    "start_time": "2022-08-20T06:23:15.617Z"
   },
   {
    "duration": 59144,
    "start_time": "2022-08-20T06:23:15.625Z"
   },
   {
    "duration": 2,
    "start_time": "2022-08-20T06:24:14.771Z"
   },
   {
    "duration": 12,
    "start_time": "2022-08-20T06:24:14.774Z"
   },
   {
    "duration": 14,
    "start_time": "2022-08-20T06:24:14.798Z"
   },
   {
    "duration": 207,
    "start_time": "2022-08-20T06:24:14.813Z"
   },
   {
    "duration": 61,
    "start_time": "2022-08-20T06:24:15.021Z"
   },
   {
    "duration": 3,
    "start_time": "2022-08-20T06:24:15.084Z"
   },
   {
    "duration": 5,
    "start_time": "2022-08-20T06:24:15.089Z"
   },
   {
    "duration": 1958,
    "start_time": "2022-08-20T06:24:15.095Z"
   },
   {
    "duration": 410,
    "start_time": "2022-08-20T06:24:17.055Z"
   },
   {
    "duration": 6153,
    "start_time": "2022-08-20T06:24:17.467Z"
   },
   {
    "duration": 4,
    "start_time": "2022-08-20T06:24:23.621Z"
   },
   {
    "duration": 7,
    "start_time": "2022-08-20T06:24:23.626Z"
   },
   {
    "duration": 7,
    "start_time": "2022-08-20T06:24:23.634Z"
   },
   {
    "duration": 149030,
    "start_time": "2022-08-20T06:24:23.642Z"
   },
   {
    "duration": 72,
    "start_time": "2022-08-20T06:26:52.674Z"
   },
   {
    "duration": 134979,
    "start_time": "2022-08-20T06:26:52.749Z"
   },
   {
    "duration": 1365,
    "start_time": "2022-08-20T06:29:07.729Z"
   },
   {
    "duration": 1907637,
    "start_time": "2022-08-20T06:29:09.095Z"
   },
   {
    "duration": 5003,
    "start_time": "2022-08-20T07:00:56.736Z"
   },
   {
    "duration": 1530,
    "start_time": "2022-08-20T07:02:01.095Z"
   },
   {
    "duration": 2670,
    "start_time": "2022-08-20T07:02:02.627Z"
   },
   {
    "duration": 311,
    "start_time": "2022-08-20T07:02:05.299Z"
   },
   {
    "duration": 34,
    "start_time": "2022-08-20T07:02:05.612Z"
   },
   {
    "duration": 3,
    "start_time": "2022-08-20T07:02:05.648Z"
   },
   {
    "duration": 4,
    "start_time": "2022-08-20T07:02:05.652Z"
   },
   {
    "duration": 13,
    "start_time": "2022-08-20T07:02:05.657Z"
   },
   {
    "duration": 8,
    "start_time": "2022-08-20T07:02:05.671Z"
   },
   {
    "duration": 622,
    "start_time": "2022-08-20T07:02:05.680Z"
   },
   {
    "duration": 4,
    "start_time": "2022-08-20T07:02:06.304Z"
   },
   {
    "duration": 6,
    "start_time": "2022-08-20T07:02:06.309Z"
   },
   {
    "duration": 59360,
    "start_time": "2022-08-20T07:02:06.316Z"
   },
   {
    "duration": 2,
    "start_time": "2022-08-20T07:03:05.678Z"
   },
   {
    "duration": 22,
    "start_time": "2022-08-20T07:03:05.682Z"
   },
   {
    "duration": 21,
    "start_time": "2022-08-20T07:03:05.705Z"
   },
   {
    "duration": 206,
    "start_time": "2022-08-20T07:03:05.727Z"
   },
   {
    "duration": 71,
    "start_time": "2022-08-20T07:03:05.935Z"
   },
   {
    "duration": 3,
    "start_time": "2022-08-20T07:03:06.008Z"
   },
   {
    "duration": 7,
    "start_time": "2022-08-20T07:03:06.012Z"
   },
   {
    "duration": 1936,
    "start_time": "2022-08-20T07:03:06.021Z"
   },
   {
    "duration": 416,
    "start_time": "2022-08-20T07:03:07.959Z"
   },
   {
    "duration": 6203,
    "start_time": "2022-08-20T07:03:08.376Z"
   },
   {
    "duration": 5,
    "start_time": "2022-08-20T07:03:14.581Z"
   },
   {
    "duration": 12,
    "start_time": "2022-08-20T07:03:14.587Z"
   },
   {
    "duration": 7,
    "start_time": "2022-08-20T07:03:14.601Z"
   },
   {
    "duration": 190,
    "start_time": "2022-08-20T07:04:07.101Z"
   },
   {
    "duration": 617,
    "start_time": "2022-08-20T07:04:32.481Z"
   },
   {
    "duration": 157,
    "start_time": "2022-08-20T07:04:43.772Z"
   },
   {
    "duration": 360851,
    "start_time": "2022-08-20T07:05:59.735Z"
   },
   {
    "duration": 2012,
    "start_time": "2022-08-20T07:16:28.763Z"
   },
   {
    "duration": 68,
    "start_time": "2022-08-20T07:16:41.264Z"
   },
   {
    "duration": 84,
    "start_time": "2022-08-20T07:17:34.973Z"
   },
   {
    "duration": 332,
    "start_time": "2022-08-20T07:17:40.055Z"
   },
   {
    "duration": 369,
    "start_time": "2022-08-20T07:17:47.774Z"
   },
   {
    "duration": 1522,
    "start_time": "2022-08-20T07:32:52.762Z"
   },
   {
    "duration": 2918,
    "start_time": "2022-08-20T07:32:54.286Z"
   },
   {
    "duration": 350,
    "start_time": "2022-08-20T07:32:57.213Z"
   },
   {
    "duration": 45,
    "start_time": "2022-08-20T07:32:57.565Z"
   },
   {
    "duration": 3,
    "start_time": "2022-08-20T07:32:57.614Z"
   },
   {
    "duration": 5,
    "start_time": "2022-08-20T07:32:57.618Z"
   },
   {
    "duration": 4,
    "start_time": "2022-08-20T07:32:57.624Z"
   },
   {
    "duration": 4,
    "start_time": "2022-08-20T07:32:57.629Z"
   },
   {
    "duration": 662,
    "start_time": "2022-08-20T07:32:57.634Z"
   },
   {
    "duration": 7,
    "start_time": "2022-08-20T07:32:58.304Z"
   },
   {
    "duration": 9,
    "start_time": "2022-08-20T07:32:58.313Z"
   },
   {
    "duration": 66085,
    "start_time": "2022-08-20T07:32:58.324Z"
   },
   {
    "duration": 3,
    "start_time": "2022-08-20T07:34:04.413Z"
   },
   {
    "duration": 36,
    "start_time": "2022-08-20T07:34:04.417Z"
   },
   {
    "duration": 29,
    "start_time": "2022-08-20T07:34:04.455Z"
   },
   {
    "duration": 174,
    "start_time": "2022-08-20T07:34:04.486Z"
   },
   {
    "duration": 66,
    "start_time": "2022-08-20T07:34:04.662Z"
   },
   {
    "duration": 3,
    "start_time": "2022-08-20T07:34:04.729Z"
   },
   {
    "duration": 5,
    "start_time": "2022-08-20T07:34:04.734Z"
   },
   {
    "duration": 2047,
    "start_time": "2022-08-20T07:34:04.740Z"
   },
   {
    "duration": 427,
    "start_time": "2022-08-20T07:34:06.789Z"
   },
   {
    "duration": 6712,
    "start_time": "2022-08-20T07:34:07.219Z"
   },
   {
    "duration": 4,
    "start_time": "2022-08-20T07:34:13.932Z"
   },
   {
    "duration": 6,
    "start_time": "2022-08-20T07:34:13.938Z"
   },
   {
    "duration": 8,
    "start_time": "2022-08-20T07:34:13.946Z"
   },
   {
    "duration": 164648,
    "start_time": "2022-08-20T07:34:13.956Z"
   },
   {
    "duration": 72,
    "start_time": "2022-08-20T07:36:58.605Z"
   },
   {
    "duration": 146733,
    "start_time": "2022-08-20T07:36:58.680Z"
   },
   {
    "duration": 1416,
    "start_time": "2022-08-20T07:39:25.414Z"
   },
   {
    "duration": 1573,
    "start_time": "2022-08-20T08:20:22.286Z"
   },
   {
    "duration": 1113,
    "start_time": "2022-08-20T08:20:23.861Z"
   },
   {
    "duration": 361,
    "start_time": "2022-08-20T08:20:24.975Z"
   },
   {
    "duration": 35,
    "start_time": "2022-08-20T08:20:25.337Z"
   },
   {
    "duration": 2,
    "start_time": "2022-08-20T08:20:25.373Z"
   },
   {
    "duration": 4,
    "start_time": "2022-08-20T08:20:25.377Z"
   },
   {
    "duration": 22,
    "start_time": "2022-08-20T08:20:25.382Z"
   },
   {
    "duration": 668,
    "start_time": "2022-08-20T08:20:25.405Z"
   },
   {
    "duration": 4,
    "start_time": "2022-08-20T08:20:26.075Z"
   },
   {
    "duration": 12,
    "start_time": "2022-08-20T08:20:26.081Z"
   },
   {
    "duration": 4507,
    "start_time": "2022-08-20T08:20:26.101Z"
   },
   {
    "duration": 6,
    "start_time": "2022-08-20T08:20:30.612Z"
   },
   {
    "duration": 32,
    "start_time": "2022-08-20T08:20:30.619Z"
   },
   {
    "duration": 178,
    "start_time": "2022-08-20T08:20:30.653Z"
   },
   {
    "duration": 82,
    "start_time": "2022-08-20T08:20:30.833Z"
   },
   {
    "duration": 3,
    "start_time": "2022-08-20T08:20:30.916Z"
   },
   {
    "duration": 25,
    "start_time": "2022-08-20T08:20:30.920Z"
   },
   {
    "duration": 1823,
    "start_time": "2022-08-20T08:20:30.947Z"
   },
   {
    "duration": 451,
    "start_time": "2022-08-20T08:20:32.772Z"
   },
   {
    "duration": 1114,
    "start_time": "2022-08-20T08:20:33.225Z"
   },
   {
    "duration": 4,
    "start_time": "2022-08-20T08:20:34.340Z"
   },
   {
    "duration": 7,
    "start_time": "2022-08-20T08:20:34.345Z"
   },
   {
    "duration": 7,
    "start_time": "2022-08-20T08:20:34.353Z"
   },
   {
    "duration": 10,
    "start_time": "2022-08-20T08:20:34.361Z"
   },
   {
    "duration": 89,
    "start_time": "2022-08-20T08:20:34.373Z"
   },
   {
    "duration": 0,
    "start_time": "2022-08-20T08:20:34.464Z"
   },
   {
    "duration": 0,
    "start_time": "2022-08-20T08:20:34.466Z"
   },
   {
    "duration": 0,
    "start_time": "2022-08-20T08:20:34.467Z"
   },
   {
    "duration": 0,
    "start_time": "2022-08-20T08:20:34.468Z"
   },
   {
    "duration": 0,
    "start_time": "2022-08-20T08:20:34.470Z"
   },
   {
    "duration": 0,
    "start_time": "2022-08-20T08:20:34.472Z"
   },
   {
    "duration": 0,
    "start_time": "2022-08-20T08:20:34.473Z"
   },
   {
    "duration": 0,
    "start_time": "2022-08-20T08:20:34.475Z"
   },
   {
    "duration": 0,
    "start_time": "2022-08-20T08:20:34.476Z"
   },
   {
    "duration": 0,
    "start_time": "2022-08-20T08:20:34.498Z"
   },
   {
    "duration": 1579,
    "start_time": "2022-08-20T08:21:44.674Z"
   },
   {
    "duration": 1074,
    "start_time": "2022-08-20T08:21:46.255Z"
   },
   {
    "duration": 331,
    "start_time": "2022-08-20T08:21:47.331Z"
   },
   {
    "duration": 55,
    "start_time": "2022-08-20T08:21:47.665Z"
   },
   {
    "duration": 3,
    "start_time": "2022-08-20T08:21:47.723Z"
   },
   {
    "duration": 5,
    "start_time": "2022-08-20T08:21:47.727Z"
   },
   {
    "duration": 7,
    "start_time": "2022-08-20T08:21:47.733Z"
   },
   {
    "duration": 654,
    "start_time": "2022-08-20T08:21:47.741Z"
   },
   {
    "duration": 16,
    "start_time": "2022-08-20T08:21:48.398Z"
   },
   {
    "duration": 34,
    "start_time": "2022-08-20T08:21:48.417Z"
   },
   {
    "duration": 68705,
    "start_time": "2022-08-20T08:21:48.452Z"
   },
   {
    "duration": 2,
    "start_time": "2022-08-20T08:22:57.158Z"
   },
   {
    "duration": 24,
    "start_time": "2022-08-20T08:22:57.161Z"
   },
   {
    "duration": 228,
    "start_time": "2022-08-20T08:22:57.187Z"
   },
   {
    "duration": 65,
    "start_time": "2022-08-20T08:22:57.416Z"
   },
   {
    "duration": 3,
    "start_time": "2022-08-20T08:22:57.483Z"
   },
   {
    "duration": 17,
    "start_time": "2022-08-20T08:22:57.488Z"
   },
   {
    "duration": 2093,
    "start_time": "2022-08-20T08:22:57.513Z"
   },
   {
    "duration": 436,
    "start_time": "2022-08-20T08:22:59.609Z"
   },
   {
    "duration": 6681,
    "start_time": "2022-08-20T08:23:00.047Z"
   },
   {
    "duration": 4,
    "start_time": "2022-08-20T08:23:06.729Z"
   },
   {
    "duration": 6,
    "start_time": "2022-08-20T08:23:06.735Z"
   },
   {
    "duration": 7,
    "start_time": "2022-08-20T08:23:06.742Z"
   },
   {
    "duration": 9,
    "start_time": "2022-08-20T08:23:06.750Z"
   },
   {
    "duration": 247,
    "start_time": "2022-08-20T08:23:06.761Z"
   },
   {
    "duration": 0,
    "start_time": "2022-08-20T08:23:07.009Z"
   },
   {
    "duration": 0,
    "start_time": "2022-08-20T08:23:07.010Z"
   },
   {
    "duration": 1,
    "start_time": "2022-08-20T08:23:07.010Z"
   },
   {
    "duration": 0,
    "start_time": "2022-08-20T08:23:07.011Z"
   },
   {
    "duration": 0,
    "start_time": "2022-08-20T08:23:07.013Z"
   },
   {
    "duration": 0,
    "start_time": "2022-08-20T08:23:07.014Z"
   },
   {
    "duration": 0,
    "start_time": "2022-08-20T08:23:07.015Z"
   },
   {
    "duration": 0,
    "start_time": "2022-08-20T08:23:07.016Z"
   },
   {
    "duration": 0,
    "start_time": "2022-08-20T08:23:07.018Z"
   },
   {
    "duration": 0,
    "start_time": "2022-08-20T08:23:07.019Z"
   },
   {
    "duration": 6,
    "start_time": "2022-08-20T08:26:43.523Z"
   },
   {
    "duration": 4,
    "start_time": "2022-08-20T08:26:46.788Z"
   },
   {
    "duration": 6,
    "start_time": "2022-08-20T08:26:48.689Z"
   },
   {
    "duration": 95,
    "start_time": "2022-08-20T08:26:51.158Z"
   },
   {
    "duration": 93,
    "start_time": "2022-08-20T08:27:06.738Z"
   },
   {
    "duration": 6,
    "start_time": "2022-08-20T08:27:47.710Z"
   },
   {
    "duration": 93,
    "start_time": "2022-08-20T08:27:49.316Z"
   },
   {
    "duration": 12,
    "start_time": "2022-08-20T08:32:36.297Z"
   },
   {
    "duration": 4,
    "start_time": "2022-08-20T08:32:39.780Z"
   },
   {
    "duration": 6,
    "start_time": "2022-08-20T08:32:41.929Z"
   },
   {
    "duration": 92,
    "start_time": "2022-08-20T08:32:43.511Z"
   },
   {
    "duration": 5,
    "start_time": "2022-08-20T08:33:16.370Z"
   },
   {
    "duration": 105,
    "start_time": "2022-08-20T08:33:19.857Z"
   },
   {
    "duration": 6,
    "start_time": "2022-08-20T08:33:24.185Z"
   },
   {
    "duration": 95,
    "start_time": "2022-08-20T08:33:25.790Z"
   },
   {
    "duration": 1593,
    "start_time": "2022-08-20T08:33:54.770Z"
   },
   {
    "duration": 1032,
    "start_time": "2022-08-20T08:33:56.364Z"
   },
   {
    "duration": 343,
    "start_time": "2022-08-20T08:33:57.399Z"
   },
   {
    "duration": 34,
    "start_time": "2022-08-20T08:33:57.744Z"
   },
   {
    "duration": 3,
    "start_time": "2022-08-20T08:33:57.779Z"
   },
   {
    "duration": 14,
    "start_time": "2022-08-20T08:33:57.783Z"
   },
   {
    "duration": 8,
    "start_time": "2022-08-20T08:33:57.799Z"
   },
   {
    "duration": 658,
    "start_time": "2022-08-20T08:33:57.808Z"
   },
   {
    "duration": 3,
    "start_time": "2022-08-20T08:33:58.468Z"
   },
   {
    "duration": 4,
    "start_time": "2022-08-20T08:33:58.474Z"
   },
   {
    "duration": 68103,
    "start_time": "2022-08-20T08:33:58.479Z"
   },
   {
    "duration": 2,
    "start_time": "2022-08-20T08:35:06.584Z"
   },
   {
    "duration": 36,
    "start_time": "2022-08-20T08:35:06.598Z"
   },
   {
    "duration": 118,
    "start_time": "2022-08-20T08:35:06.635Z"
   },
   {
    "duration": 65,
    "start_time": "2022-08-20T08:35:06.754Z"
   },
   {
    "duration": 6,
    "start_time": "2022-08-20T08:35:06.820Z"
   },
   {
    "duration": 8,
    "start_time": "2022-08-20T08:35:06.827Z"
   },
   {
    "duration": 2095,
    "start_time": "2022-08-20T08:35:06.836Z"
   },
   {
    "duration": 421,
    "start_time": "2022-08-20T08:35:08.932Z"
   },
   {
    "duration": 6883,
    "start_time": "2022-08-20T08:35:09.356Z"
   },
   {
    "duration": 4,
    "start_time": "2022-08-20T08:35:16.240Z"
   },
   {
    "duration": 7,
    "start_time": "2022-08-20T08:35:16.245Z"
   },
   {
    "duration": 9,
    "start_time": "2022-08-20T08:35:16.254Z"
   },
   {
    "duration": 8,
    "start_time": "2022-08-20T08:35:16.264Z"
   },
   {
    "duration": 109,
    "start_time": "2022-08-20T08:35:16.273Z"
   },
   {
    "duration": 157047,
    "start_time": "2022-08-20T08:35:16.384Z"
   },
   {
    "duration": 129,
    "start_time": "2022-08-20T08:37:53.432Z"
   },
   {
    "duration": 12780,
    "start_time": "2022-08-20T08:37:53.566Z"
   },
   {
    "duration": 726,
    "start_time": "2022-08-20T08:38:06.347Z"
   },
   {
    "duration": 1572,
    "start_time": "2022-08-20T08:42:09.094Z"
   },
   {
    "duration": 1064,
    "start_time": "2022-08-20T08:42:10.667Z"
   },
   {
    "duration": 341,
    "start_time": "2022-08-20T08:42:11.732Z"
   },
   {
    "duration": 44,
    "start_time": "2022-08-20T08:42:12.075Z"
   },
   {
    "duration": 3,
    "start_time": "2022-08-20T08:42:12.120Z"
   },
   {
    "duration": 4,
    "start_time": "2022-08-20T08:42:12.125Z"
   },
   {
    "duration": 6,
    "start_time": "2022-08-20T08:42:12.130Z"
   },
   {
    "duration": 675,
    "start_time": "2022-08-20T08:42:12.137Z"
   },
   {
    "duration": 5,
    "start_time": "2022-08-20T08:42:12.814Z"
   },
   {
    "duration": 6,
    "start_time": "2022-08-20T08:42:12.822Z"
   },
   {
    "duration": 64175,
    "start_time": "2022-08-20T08:42:12.829Z"
   },
   {
    "duration": 3,
    "start_time": "2022-08-20T08:43:17.009Z"
   },
   {
    "duration": 29,
    "start_time": "2022-08-20T08:43:17.013Z"
   },
   {
    "duration": 203,
    "start_time": "2022-08-20T08:43:17.043Z"
   },
   {
    "duration": 69,
    "start_time": "2022-08-20T08:43:17.247Z"
   },
   {
    "duration": 4,
    "start_time": "2022-08-20T08:43:17.318Z"
   },
   {
    "duration": 7,
    "start_time": "2022-08-20T08:43:17.323Z"
   },
   {
    "duration": 2347,
    "start_time": "2022-08-20T08:43:17.331Z"
   },
   {
    "duration": 470,
    "start_time": "2022-08-20T08:43:19.680Z"
   },
   {
    "duration": 6598,
    "start_time": "2022-08-20T08:43:20.151Z"
   },
   {
    "duration": 3,
    "start_time": "2022-08-20T08:43:26.751Z"
   },
   {
    "duration": 7,
    "start_time": "2022-08-20T08:43:26.756Z"
   },
   {
    "duration": 7,
    "start_time": "2022-08-20T08:43:26.764Z"
   },
   {
    "duration": 8,
    "start_time": "2022-08-20T08:43:26.773Z"
   },
   {
    "duration": 101,
    "start_time": "2022-08-20T08:43:26.782Z"
   },
   {
    "duration": 164252,
    "start_time": "2022-08-20T08:43:26.884Z"
   },
   {
    "duration": 130,
    "start_time": "2022-08-20T08:46:11.138Z"
   },
   {
    "duration": 20187,
    "start_time": "2022-08-20T08:46:11.271Z"
   },
   {
    "duration": 731,
    "start_time": "2022-08-20T08:46:31.459Z"
   },
   {
    "duration": 1073242,
    "start_time": "2022-08-20T08:46:32.191Z"
   },
   {
    "duration": 2909,
    "start_time": "2022-08-20T09:04:25.437Z"
   },
   {
    "duration": 920623,
    "start_time": "2022-08-20T09:04:28.404Z"
   },
   {
    "duration": 2,
    "start_time": "2022-08-20T09:19:49.029Z"
   },
   {
    "duration": 2341,
    "start_time": "2022-08-20T09:19:49.033Z"
   },
   {
    "duration": 10,
    "start_time": "2022-08-20T09:19:51.376Z"
   },
   {
    "duration": 44,
    "start_time": "2022-08-21T09:42:59.830Z"
   },
   {
    "duration": 1860,
    "start_time": "2022-08-21T09:43:04.180Z"
   },
   {
    "duration": 3444,
    "start_time": "2022-08-21T09:43:06.042Z"
   },
   {
    "duration": 383,
    "start_time": "2022-08-21T09:43:09.488Z"
   },
   {
    "duration": 49,
    "start_time": "2022-08-21T09:43:09.872Z"
   },
   {
    "duration": 4,
    "start_time": "2022-08-21T09:43:09.923Z"
   },
   {
    "duration": 3,
    "start_time": "2022-08-21T09:43:09.929Z"
   },
   {
    "duration": 6,
    "start_time": "2022-08-21T09:43:09.934Z"
   },
   {
    "duration": 4,
    "start_time": "2022-08-21T09:43:09.941Z"
   },
   {
    "duration": 90,
    "start_time": "2022-08-21T09:43:49.430Z"
   },
   {
    "duration": 5,
    "start_time": "2022-08-21T09:57:00.572Z"
   },
   {
    "duration": 18,
    "start_time": "2022-08-21T09:57:06.031Z"
   },
   {
    "duration": 8,
    "start_time": "2022-08-21T10:00:38.563Z"
   },
   {
    "duration": 1120,
    "start_time": "2022-08-21T10:00:43.439Z"
   },
   {
    "duration": 18,
    "start_time": "2022-08-21T10:00:54.061Z"
   },
   {
    "duration": 13,
    "start_time": "2022-08-21T10:01:21.961Z"
   },
   {
    "duration": 4,
    "start_time": "2022-08-21T10:01:37.339Z"
   },
   {
    "duration": 3,
    "start_time": "2022-08-21T10:13:08.481Z"
   },
   {
    "duration": 3,
    "start_time": "2022-08-21T10:13:12.656Z"
   },
   {
    "duration": 14,
    "start_time": "2022-08-21T10:13:15.933Z"
   },
   {
    "duration": 3,
    "start_time": "2022-08-21T10:13:26.376Z"
   },
   {
    "duration": 5,
    "start_time": "2022-08-21T10:13:29.521Z"
   },
   {
    "duration": 3,
    "start_time": "2022-08-21T10:14:10.889Z"
   },
   {
    "duration": 14,
    "start_time": "2022-08-21T10:14:12.961Z"
   },
   {
    "duration": 3,
    "start_time": "2022-08-21T10:14:29.982Z"
   },
   {
    "duration": 4,
    "start_time": "2022-08-21T10:14:33.013Z"
   },
   {
    "duration": 3,
    "start_time": "2022-08-21T10:14:38.482Z"
   },
   {
    "duration": 4,
    "start_time": "2022-08-21T10:14:40.854Z"
   },
   {
    "duration": 70113,
    "start_time": "2022-08-21T10:15:03.697Z"
   },
   {
    "duration": 31,
    "start_time": "2022-08-21T10:16:27.933Z"
   },
   {
    "duration": 509,
    "start_time": "2022-08-21T10:16:33.735Z"
   },
   {
    "duration": 80,
    "start_time": "2022-08-21T10:16:41.334Z"
   },
   {
    "duration": 3,
    "start_time": "2022-08-21T10:17:20.043Z"
   },
   {
    "duration": 5,
    "start_time": "2022-08-21T10:17:28.893Z"
   },
   {
    "duration": 5,
    "start_time": "2022-08-21T10:17:33.808Z"
   },
   {
    "duration": 5968,
    "start_time": "2022-08-21T10:17:51.262Z"
   },
   {
    "duration": 4,
    "start_time": "2022-08-21T10:17:58.978Z"
   },
   {
    "duration": 5,
    "start_time": "2022-08-21T10:18:00.823Z"
   },
   {
    "duration": 4,
    "start_time": "2022-08-21T10:18:03.052Z"
   },
   {
    "duration": 7,
    "start_time": "2022-08-21T10:18:05.455Z"
   },
   {
    "duration": 78,
    "start_time": "2022-08-21T10:18:08.375Z"
   },
   {
    "duration": 184395,
    "start_time": "2022-08-21T10:18:11.741Z"
   },
   {
    "duration": 118,
    "start_time": "2022-08-21T10:21:20.978Z"
   },
   {
    "duration": 174788,
    "start_time": "2022-08-21T10:24:48.230Z"
   },
   {
    "duration": 135,
    "start_time": "2022-08-21T10:27:59.611Z"
   },
   {
    "duration": 324594,
    "start_time": "2022-08-21T10:28:12.823Z"
   },
   {
    "duration": 128,
    "start_time": "2022-08-21T10:34:46.703Z"
   },
   {
    "duration": 298282,
    "start_time": "2022-08-21T10:35:44.531Z"
   },
   {
    "duration": 150,
    "start_time": "2022-08-21T10:41:09.583Z"
   },
   {
    "duration": 72,
    "start_time": "2022-08-21T11:30:09.953Z"
   },
   {
    "duration": 22,
    "start_time": "2022-08-21T11:32:34.772Z"
   },
   {
    "duration": 21,
    "start_time": "2022-08-21T11:32:52.302Z"
   },
   {
    "duration": 12,
    "start_time": "2022-08-21T11:33:40.775Z"
   },
   {
    "duration": 4,
    "start_time": "2022-08-21T11:34:12.074Z"
   },
   {
    "duration": 12,
    "start_time": "2022-08-21T11:36:01.214Z"
   },
   {
    "duration": 723,
    "start_time": "2022-08-21T11:36:49.192Z"
   },
   {
    "duration": 85,
    "start_time": "2022-08-21T11:36:52.853Z"
   },
   {
    "duration": 4,
    "start_time": "2022-08-21T11:36:56.935Z"
   },
   {
    "duration": 5,
    "start_time": "2022-08-21T11:37:09.774Z"
   },
   {
    "duration": 5,
    "start_time": "2022-08-21T11:37:14.965Z"
   },
   {
    "duration": 4,
    "start_time": "2022-08-21T11:37:20.095Z"
   },
   {
    "duration": 5,
    "start_time": "2022-08-21T11:37:32.215Z"
   },
   {
    "duration": 4,
    "start_time": "2022-08-21T11:37:45.532Z"
   },
   {
    "duration": 5,
    "start_time": "2022-08-21T11:37:51.814Z"
   },
   {
    "duration": 4,
    "start_time": "2022-08-21T11:38:11.214Z"
   },
   {
    "duration": 4,
    "start_time": "2022-08-21T11:38:13.069Z"
   },
   {
    "duration": 10,
    "start_time": "2022-08-21T11:38:22.333Z"
   },
   {
    "duration": 11,
    "start_time": "2022-08-21T11:38:28.194Z"
   },
   {
    "duration": 5,
    "start_time": "2022-08-21T11:38:36.672Z"
   },
   {
    "duration": 5,
    "start_time": "2022-08-21T11:38:51.823Z"
   },
   {
    "duration": 5,
    "start_time": "2022-08-21T11:39:40.472Z"
   },
   {
    "duration": 5,
    "start_time": "2022-08-21T11:41:43.013Z"
   },
   {
    "duration": 6,
    "start_time": "2022-08-21T11:42:08.964Z"
   },
   {
    "duration": 5,
    "start_time": "2022-08-21T11:42:10.974Z"
   },
   {
    "duration": 16,
    "start_time": "2022-08-21T11:46:37.534Z"
   },
   {
    "duration": 6,
    "start_time": "2022-08-21T11:46:41.818Z"
   },
   {
    "duration": 9,
    "start_time": "2022-08-21T11:46:48.394Z"
   },
   {
    "duration": 5,
    "start_time": "2022-08-21T11:46:51.195Z"
   },
   {
    "duration": 4,
    "start_time": "2022-08-21T11:47:05.655Z"
   },
   {
    "duration": 5,
    "start_time": "2022-08-21T11:47:09.671Z"
   },
   {
    "duration": 4,
    "start_time": "2022-08-21T11:47:17.135Z"
   },
   {
    "duration": 4,
    "start_time": "2022-08-21T11:47:19.664Z"
   },
   {
    "duration": 4,
    "start_time": "2022-08-21T11:47:23.064Z"
   },
   {
    "duration": 4,
    "start_time": "2022-08-21T11:47:30.635Z"
   },
   {
    "duration": 9,
    "start_time": "2022-08-21T11:47:33.974Z"
   },
   {
    "duration": 5,
    "start_time": "2022-08-21T11:47:38.663Z"
   },
   {
    "duration": 5,
    "start_time": "2022-08-21T11:47:45.963Z"
   },
   {
    "duration": 4,
    "start_time": "2022-08-21T11:48:55.452Z"
   },
   {
    "duration": 4,
    "start_time": "2022-08-21T11:49:07.656Z"
   },
   {
    "duration": 5,
    "start_time": "2022-08-21T11:49:55.353Z"
   },
   {
    "duration": 912,
    "start_time": "2022-08-21T11:49:55.360Z"
   },
   {
    "duration": 464,
    "start_time": "2022-08-21T11:49:56.274Z"
   },
   {
    "duration": 38,
    "start_time": "2022-08-21T11:49:56.740Z"
   },
   {
    "duration": 5,
    "start_time": "2022-08-21T11:49:56.780Z"
   },
   {
    "duration": 5,
    "start_time": "2022-08-21T11:49:56.786Z"
   },
   {
    "duration": 4,
    "start_time": "2022-08-21T11:49:56.793Z"
   },
   {
    "duration": 4,
    "start_time": "2022-08-21T11:49:56.799Z"
   },
   {
    "duration": 15,
    "start_time": "2022-08-21T11:49:56.805Z"
   },
   {
    "duration": 2,
    "start_time": "2022-08-21T11:49:56.822Z"
   },
   {
    "duration": 7,
    "start_time": "2022-08-21T11:49:56.825Z"
   },
   {
    "duration": 5,
    "start_time": "2022-08-21T11:49:56.834Z"
   },
   {
    "duration": 5,
    "start_time": "2022-08-21T11:49:56.841Z"
   },
   {
    "duration": 11,
    "start_time": "2022-08-21T11:49:56.848Z"
   },
   {
    "duration": 1024870,
    "start_time": "2022-08-21T11:51:55.654Z"
   },
   {
    "duration": 12,
    "start_time": "2022-08-21T12:20:34.505Z"
   },
   {
    "duration": 5,
    "start_time": "2022-08-21T12:20:39.735Z"
   },
   {
    "duration": 86,
    "start_time": "2022-08-21T12:20:43.889Z"
   },
   {
    "duration": 4,
    "start_time": "2022-08-21T12:20:46.449Z"
   },
   {
    "duration": 6176,
    "start_time": "2022-08-21T12:20:48.004Z"
   },
   {
    "duration": 3,
    "start_time": "2022-08-21T12:20:55.130Z"
   },
   {
    "duration": 6,
    "start_time": "2022-08-21T12:20:57.421Z"
   },
   {
    "duration": 6,
    "start_time": "2022-08-21T12:20:59.924Z"
   },
   {
    "duration": 7,
    "start_time": "2022-08-21T12:21:01.924Z"
   },
   {
    "duration": 87,
    "start_time": "2022-08-21T12:21:03.464Z"
   },
   {
    "duration": 130,
    "start_time": "2022-08-21T12:21:07.661Z"
   },
   {
    "duration": 153,
    "start_time": "2022-08-21T12:21:23.372Z"
   },
   {
    "duration": 125,
    "start_time": "2022-08-21T12:21:44.613Z"
   },
   {
    "duration": 922775,
    "start_time": "2022-08-21T12:21:48.142Z"
   },
   {
    "duration": 119,
    "start_time": "2022-08-21T12:37:48.482Z"
   },
   {
    "duration": 101,
    "start_time": "2022-08-21T12:38:44.861Z"
   },
   {
    "duration": 6,
    "start_time": "2022-08-21T12:38:53.339Z"
   },
   {
    "duration": 83,
    "start_time": "2022-08-21T12:39:00.194Z"
   },
   {
    "duration": 6,
    "start_time": "2022-08-21T12:40:01.261Z"
   },
   {
    "duration": 361,
    "start_time": "2022-08-21T12:40:07.720Z"
   },
   {
    "duration": 5,
    "start_time": "2022-08-21T12:41:21.382Z"
   },
   {
    "duration": 126,
    "start_time": "2022-08-21T12:41:26.658Z"
   },
   {
    "duration": 112,
    "start_time": "2022-08-21T12:42:17.965Z"
   },
   {
    "duration": 39,
    "start_time": "2022-08-21T12:42:50.101Z"
   },
   {
    "duration": 139,
    "start_time": "2022-08-21T12:42:55.812Z"
   },
   {
    "duration": 5,
    "start_time": "2022-08-21T12:43:02.325Z"
   },
   {
    "duration": 108,
    "start_time": "2022-08-21T12:43:59.021Z"
   },
   {
    "duration": 40,
    "start_time": "2022-08-21T12:44:13.302Z"
   },
   {
    "duration": 125,
    "start_time": "2022-08-21T12:44:36.862Z"
   },
   {
    "duration": 160,
    "start_time": "2022-08-21T12:44:49.422Z"
   },
   {
    "duration": 149,
    "start_time": "2022-08-21T12:45:03.669Z"
   },
   {
    "duration": 158,
    "start_time": "2022-08-21T12:45:11.492Z"
   },
   {
    "duration": 105,
    "start_time": "2022-08-21T12:45:48.541Z"
   },
   {
    "duration": 296,
    "start_time": "2022-08-21T12:46:06.002Z"
   },
   {
    "duration": 227,
    "start_time": "2022-08-21T12:46:32.501Z"
   },
   {
    "duration": 81,
    "start_time": "2022-08-21T12:47:01.405Z"
   },
   {
    "duration": 220,
    "start_time": "2022-08-21T12:47:12.552Z"
   },
   {
    "duration": 155,
    "start_time": "2022-08-21T12:47:35.686Z"
   },
   {
    "duration": 165,
    "start_time": "2022-08-21T12:48:39.951Z"
   },
   {
    "duration": 6,
    "start_time": "2022-08-21T12:51:46.370Z"
   },
   {
    "duration": 182,
    "start_time": "2022-08-21T12:54:01.265Z"
   },
   {
    "duration": 86,
    "start_time": "2022-08-21T12:54:10.444Z"
   },
   {
    "duration": 153,
    "start_time": "2022-08-21T12:54:20.016Z"
   },
   {
    "duration": 39,
    "start_time": "2022-08-21T12:56:44.901Z"
   },
   {
    "duration": 205279,
    "start_time": "2022-08-21T12:56:50.834Z"
   },
   {
    "duration": 11788,
    "start_time": "2022-08-21T13:00:16.114Z"
   },
   {
    "duration": 13438,
    "start_time": "2022-08-21T13:01:03.378Z"
   },
   {
    "duration": 12631,
    "start_time": "2022-08-21T13:01:22.701Z"
   },
   {
    "duration": 5,
    "start_time": "2022-08-21T13:10:38.035Z"
   },
   {
    "duration": 6,
    "start_time": "2022-08-21T13:10:39.492Z"
   },
   {
    "duration": 6,
    "start_time": "2022-08-21T13:10:41.695Z"
   },
   {
    "duration": 110,
    "start_time": "2022-08-21T13:10:43.181Z"
   },
   {
    "duration": 4,
    "start_time": "2022-08-21T13:11:14.852Z"
   },
   {
    "duration": 103,
    "start_time": "2022-08-21T13:11:16.941Z"
   },
   {
    "duration": 3,
    "start_time": "2022-08-21T13:11:27.842Z"
   },
   {
    "duration": 5,
    "start_time": "2022-08-21T13:11:29.182Z"
   },
   {
    "duration": 4,
    "start_time": "2022-08-21T13:11:31.304Z"
   },
   {
    "duration": 112,
    "start_time": "2022-08-21T13:11:33.430Z"
   },
   {
    "duration": 4,
    "start_time": "2022-08-21T13:12:24.932Z"
   },
   {
    "duration": 4869,
    "start_time": "2022-08-21T13:12:27.332Z"
   },
   {
    "duration": 13756,
    "start_time": "2022-08-21T13:12:35.022Z"
   },
   {
    "duration": 1673,
    "start_time": "2022-08-21T13:20:25.829Z"
   },
   {
    "duration": 949,
    "start_time": "2022-08-21T13:20:27.504Z"
   },
   {
    "duration": 409,
    "start_time": "2022-08-21T13:20:28.455Z"
   },
   {
    "duration": 46,
    "start_time": "2022-08-21T13:20:28.866Z"
   },
   {
    "duration": 3,
    "start_time": "2022-08-21T13:20:28.915Z"
   },
   {
    "duration": 11,
    "start_time": "2022-08-21T13:20:28.920Z"
   },
   {
    "duration": 4,
    "start_time": "2022-08-21T13:20:28.933Z"
   },
   {
    "duration": 5,
    "start_time": "2022-08-21T13:20:28.939Z"
   },
   {
    "duration": 161,
    "start_time": "2022-08-21T13:20:28.946Z"
   },
   {
    "duration": 3,
    "start_time": "2022-08-21T13:20:29.109Z"
   },
   {
    "duration": 11,
    "start_time": "2022-08-21T13:20:29.114Z"
   },
   {
    "duration": 8,
    "start_time": "2022-08-21T13:20:29.127Z"
   },
   {
    "duration": 1264,
    "start_time": "2022-08-21T13:20:29.138Z"
   },
   {
    "duration": 1014381,
    "start_time": "2022-08-21T13:20:30.406Z"
   },
   {
    "duration": 3,
    "start_time": "2022-08-21T13:37:24.788Z"
   },
   {
    "duration": 15,
    "start_time": "2022-08-21T13:37:24.792Z"
   },
   {
    "duration": 7,
    "start_time": "2022-08-21T13:37:24.808Z"
   },
   {
    "duration": 77,
    "start_time": "2022-08-21T13:37:24.816Z"
   },
   {
    "duration": 11,
    "start_time": "2022-08-21T13:37:24.895Z"
   },
   {
    "duration": 6,
    "start_time": "2022-08-21T13:37:24.907Z"
   },
   {
    "duration": 3,
    "start_time": "2022-08-21T13:37:24.915Z"
   },
   {
    "duration": 4,
    "start_time": "2022-08-21T13:37:24.920Z"
   },
   {
    "duration": 7,
    "start_time": "2022-08-21T13:37:24.926Z"
   },
   {
    "duration": 7,
    "start_time": "2022-08-21T13:37:24.935Z"
   },
   {
    "duration": 4524,
    "start_time": "2022-08-21T13:37:24.944Z"
   },
   {
    "duration": 12922,
    "start_time": "2022-08-21T13:37:29.470Z"
   },
   {
    "duration": 355622,
    "start_time": "2022-08-21T13:37:42.393Z"
   },
   {
    "duration": 12961,
    "start_time": "2022-08-21T13:43:38.016Z"
   },
   {
    "duration": 99442,
    "start_time": "2022-08-21T13:43:50.978Z"
   },
   {
    "duration": 13601,
    "start_time": "2022-08-21T13:45:30.421Z"
   },
   {
    "duration": 712741,
    "start_time": "2022-08-21T13:45:44.023Z"
   },
   {
    "duration": 16141,
    "start_time": "2022-08-21T13:57:36.768Z"
   },
   {
    "duration": 792677,
    "start_time": "2022-08-21T13:57:52.911Z"
   },
   {
    "duration": 15554,
    "start_time": "2022-08-21T14:11:05.590Z"
   },
   {
    "duration": 11,
    "start_time": "2022-08-21T14:11:21.146Z"
   }
  ],
  "kernelspec": {
   "display_name": "Python 3",
   "language": "python",
   "name": "python3"
  },
  "language_info": {
   "codemirror_mode": {
    "name": "ipython",
    "version": 3
   },
   "file_extension": ".py",
   "mimetype": "text/x-python",
   "name": "python",
   "nbconvert_exporter": "python",
   "pygments_lexer": "ipython3",
   "version": "3.8.8"
  },
  "toc": {
   "base_numbering": 1,
   "nav_menu": {},
   "number_sections": true,
   "sideBar": true,
   "skip_h1_title": true,
   "title_cell": "Содержание",
   "title_sidebar": "Contents",
   "toc_cell": true,
   "toc_position": {
    "height": "calc(100% - 180px)",
    "left": "10px",
    "top": "150px",
    "width": "302.391px"
   },
   "toc_section_display": true,
   "toc_window_display": false
  }
 },
 "nbformat": 4,
 "nbformat_minor": 2
}
